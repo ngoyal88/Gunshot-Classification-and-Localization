{
 "cells": [
  {
   "cell_type": "code",
   "execution_count": 1,
   "metadata": {},
   "outputs": [],
   "source": [
    "import os\n",
    "import librosa\n",
    "import numpy as np\n",
    "import tensorflow as tf\n",
    "from sklearn.model_selection import train_test_split\n",
    "from tensorflow.keras.utils import to_categorical\n",
    "from tensorflow.keras.callbacks import ModelCheckpoint\n",
    "import matplotlib.pyplot as plt\n",
    "import pandas as pd\n",
    "from sklearn.preprocessing import LabelEncoder"
   ]
  },
  {
   "cell_type": "code",
   "execution_count": 2,
   "metadata": {},
   "outputs": [],
   "source": [
    "SR=22050\n",
    "N_MFCC=40\n",
    "N_MELS=128\n",
    "DURATION=1\n",
    "SAMPLES_PER_TRACK=SR*DURATION\n",
    "CLASSES=['AR','Sniper','nogun']"
   ]
  },
  {
   "cell_type": "code",
   "execution_count": 3,
   "metadata": {},
   "outputs": [],
   "source": [
    "dataset = pd.read_csv('dataset1.csv')"
   ]
  },
  {
   "cell_type": "code",
   "execution_count": null,
   "metadata": {},
   "outputs": [],
   "source": [
    "def extract_features(file_path):\n",
    "    y,sr=librosa.load(file_path,sr=SR,duration=DURATION)\n",
    "    if len(y)<SAMPLES_PER_TRACK:\n",
    "        y=np.pad(y,(0,SAMPLES_PER_TRACK-len(y)))\n",
    "    else:\n",
    "        y=y[:SAMPLES_PER_TRACK]\n",
    "    mfcc=librosa.feature.mfcc(y=y,sr=sr,n_mfcc=N_MFCC)\n",
    "    mfcc=librosa.util.fix_length(mfcc,size=174,axis=1)\n",
    "    mfcc=mfcc[...,np.newaxis]\n",
    "\n",
    "    mel_spec=librosa.feature.melspectrogram(y=y,sr=sr)\n",
    "    mel_spec=librosa.power_to_db(mel_spec,ref=np.max)\n",
    "    mel_spec=librosa.util.fix_length(mel_spec,size=174,axis=1)\n",
    "    mel_spec=mel_spec[...,np.newaxis]\n",
    "    return mfcc,mel_spec"
   ]
  },
  {
   "cell_type": "code",
   "execution_count": 5,
   "metadata": {},
   "outputs": [],
   "source": [
    "def load_dataset(dataset_path):\n",
    "    x_mfcc,x_melspec,gun_type,direction,distance=[],[],[],[],[]\n",
    "    suffixes=['_gain.wav','_pan.wav','_pitch.wav','_reverse.wav','_speed.wav','_noise.wav','_original.wav']\n",
    "    for i,class_name in enumerate(CLASSES):\n",
    "        class_dir=os.path.join(dataset_path,class_name)\n",
    "        for file_name in os.listdir(class_dir):\n",
    "            if file_name.endswith(\".wav\"):\n",
    "                file_path=os.path.join(class_dir,file_name)\n",
    "                mfcc,mel_spec=extract_features(file_path)\n",
    "                x_mfcc.append(mfcc)\n",
    "                x_melspec.append(mel_spec)\n",
    "                if class_name=='Sniper':\n",
    "                    for suffix in suffixes:\n",
    "                        if file_name.endswith(suffix):\n",
    "                            file_name=file_name[:-len(suffix)]+'.wav'\n",
    "                gun_type.append(i)\n",
    "                if class_name=='nogun':\n",
    "                    direction.append('None')\n",
    "                    distance.append('None')\n",
    "                else:\n",
    "                    row=dataset[dataset['name']==file_name]\n",
    "                    direction.append(row['dire'].values[0])\n",
    "                    distance.append(row['dist'].values[0])\n",
    "    x_mfcc=np.array(x_mfcc)\n",
    "    x_melspec=np.array(x_melspec)\n",
    "    gun_encoder=LabelEncoder()\n",
    "    gun_types_encoded=gun_encoder.fit_transform(gun_type)\n",
    "    gun_types_categorical=to_categorical(gun_types_encoded)\n",
    "    gun_types_categorical=np.array(gun_types_categorical)\n",
    "    direction_encoder=LabelEncoder()\n",
    "    direction_types_encoded=direction_encoder.fit_transform(direction)\n",
    "    direction_types_categorical=to_categorical(direction_types_encoded)\n",
    "    direction_types_categorical=np.array(direction_types_categorical)\n",
    "    distance_encoder=LabelEncoder()\n",
    "    distance_types_encoded=distance_encoder.fit_transform(distance)\n",
    "    distance_types_categorical=to_categorical(distance_types_encoded)\n",
    "    distance_types_categorical=np.array(distance_types_categorical)\n",
    "    return x_mfcc,x_melspec,gun_types_categorical,direction_types_categorical,distance_types_categorical\n"
   ]
  },
  {
   "cell_type": "code",
   "execution_count": 6,
   "metadata": {},
   "outputs": [],
   "source": [
    "X_mfcc,X_melspec,y_gun,y_direction,y_distance=load_dataset('gun_sound_v9')"
   ]
  },
  {
   "cell_type": "code",
   "execution_count": 7,
   "metadata": {},
   "outputs": [
    {
     "data": {
      "text/plain": [
       "(2807, 128, 174, 1)"
      ]
     },
     "execution_count": 7,
     "metadata": {},
     "output_type": "execute_result"
    }
   ],
   "source": [
    "X_melspec_shape=X_melspec.shape\n",
    "X_melspec_shape"
   ]
  },
  {
   "cell_type": "code",
   "execution_count": 8,
   "metadata": {},
   "outputs": [
    {
     "data": {
      "text/plain": [
       "(2807, 40, 174, 1)"
      ]
     },
     "execution_count": 8,
     "metadata": {},
     "output_type": "execute_result"
    }
   ],
   "source": [
    "X_mfcc_shape=X_mfcc.shape\n",
    "X_mfcc_shape"
   ]
  },
  {
   "cell_type": "code",
   "execution_count": 9,
   "metadata": {},
   "outputs": [
    {
     "data": {
      "text/plain": [
       "(2807, 3)"
      ]
     },
     "execution_count": 9,
     "metadata": {},
     "output_type": "execute_result"
    }
   ],
   "source": [
    "y_gun.shape"
   ]
  },
  {
   "cell_type": "code",
   "execution_count": 10,
   "metadata": {},
   "outputs": [
    {
     "data": {
      "text/plain": [
       "(2807, 6)"
      ]
     },
     "execution_count": 10,
     "metadata": {},
     "output_type": "execute_result"
    }
   ],
   "source": [
    "y_direction.shape"
   ]
  },
  {
   "cell_type": "code",
   "execution_count": null,
   "metadata": {},
   "outputs": [],
   "source": [
    "X_mfcc_trainval, X_mfcc_test, X_melspec_trainval, X_melspec_test, y_gun_trainval, y_gun_test,y_distance_trainval,y_distance_test,y_direction_trainval,y_direction_test = train_test_split(\n",
    "    X_mfcc, X_melspec, y_gun,y_distance,y_direction,test_size=0.3, random_state=42\n",
    ")\n",
    "\n",
    "X_mfcc_train, X_mfcc_val, X_melspec_train, X_melspec_val, y_gun_train, y_gun_val,y_distance_train,y_distance_val,y_direction_train,y_direction_val = train_test_split(\n",
    "    X_mfcc_trainval, X_melspec_trainval, y_gun_trainval,y_distance_trainval,y_direction_trainval, test_size=0.3, random_state=42\n",
    ")"
   ]
  },
  {
   "cell_type": "code",
   "execution_count": 12,
   "metadata": {},
   "outputs": [
    {
     "data": {
      "text/plain": [
       "(1374, 3)"
      ]
     },
     "execution_count": 12,
     "metadata": {},
     "output_type": "execute_result"
    }
   ],
   "source": [
    "y_gun_train=np.array(y_gun_train)\n",
    "y_gun_train.shape"
   ]
  },
  {
   "cell_type": "code",
   "execution_count": 13,
   "metadata": {},
   "outputs": [
    {
     "data": {
      "text/plain": [
       "(843, 40, 174, 1)"
      ]
     },
     "execution_count": 13,
     "metadata": {},
     "output_type": "execute_result"
    }
   ],
   "source": [
    "X_mfcc_test.shape"
   ]
  },
  {
   "cell_type": "code",
   "execution_count": 14,
   "metadata": {},
   "outputs": [
    {
     "data": {
      "text/plain": [
       "(590, 40, 174, 1)"
      ]
     },
     "execution_count": 14,
     "metadata": {},
     "output_type": "execute_result"
    }
   ],
   "source": [
    "X_mfcc_val.shape"
   ]
  },
  {
   "cell_type": "code",
   "execution_count": null,
   "metadata": {},
   "outputs": [],
   "source": [
    "import tensorflow as tf\n",
    "from tensorflow.keras.layers import Conv2D,MaxPooling2D,Dropout,GlobalAveragePooling2D,Dense,Input,GlobalAveragePooling1D,Reshape,Bidirectional,LSTM,Layer\n",
    "from tensorflow.keras.models import Model\n",
    "from tensorflow.keras import backend as K\n",
    "\n",
    "# class Attention(Layer):\n",
    "#     def _init_(self, **kwargs):\n",
    "#         super(Attention, self)._init_(**kwargs)\n",
    "\n",
    "#     def build(self, input_shape):\n",
    "#         self.W = self.add_weight(shape=(input_shape[-1], input_shape[-1]),\n",
    "#                                  initializer='glorot_uniform',\n",
    "#                                  trainable=True)\n",
    "#         self.b = self.add_weight(shape=(input_shape[-1],),\n",
    "#                                  initializer='zeros',\n",
    "#                                  trainable=True)\n",
    "#         self.u = self.add_weight(shape=(input_shape[-1], 1),\n",
    "#                                  initializer='glorot_uniform',\n",
    "#                                  trainable=True)\n",
    "#         super(Attention, self).build(input_shape)\n",
    "\n",
    "#     def call(self, inputs, **kwargs):\n",
    "#         # v: (batch_size, sequence_length, hidden_dim)\n",
    "#         v = K.tanh(K.dot(inputs, self.W) + self.b)\n",
    "        \n",
    "#         # vu: (batch_size, sequence_length, 1) -> alignment scores\n",
    "#         vu = K.dot(v, self.u)\n",
    "        \n",
    "#         # Apply softmax to compute attention weights\n",
    "#         attention_weights = K.softmax(vu, axis=1)\n",
    "        \n",
    "#         # Compute context vector as a weighted sum of inputs\n",
    "#         # weighted_sum: (batch_size, hidden_dim)\n",
    "#         weighted_sum = K.sum(inputs * attention_weights, axis=1)\n",
    "#         return weighted_sum\n",
    "\n",
    "#     def compute_output_shape(self, input_shape):\n",
    "#         return input_shape[0], input_shape[-1]\n",
    "import tensorflow as tf\n",
    "from tensorflow.keras import backend as K\n",
    "from tensorflow.keras.layers import Layer\n",
    "\n",
    "class Attention(Layer):\n",
    "    def _init_(self, **kwargs):\n",
    "        super(Attention, self)._init_(**kwargs)\n",
    "\n",
    "    def build(self, input_shape):\n",
    "        self.W = self.add_weight(shape=(input_shape[-1], input_shape[-1]),\n",
    "                                 initializer='glorot_uniform',\n",
    "                                 trainable=True)\n",
    "        self.b = self.add_weight(shape=(input_shape[-1],),\n",
    "                                 initializer='zeros',\n",
    "                                 trainable=True)\n",
    "        self.u = self.add_weight(shape=(input_shape[-1], 1),\n",
    "                                 initializer='glorot_uniform',\n",
    "                                 trainable=True)\n",
    "        super(Attention, self).build(input_shape)\n",
    "\n",
    "    def call(self, inputs, **kwargs):        \n",
    "        v = K.tanh(K.dot(inputs, self.W) + self.b)\n",
    "        vu = K.dot(v, self.u) \n",
    "        attention_weights = K.softmax(vu, axis=1) \n",
    "        context_vectors = inputs * attention_weights  \n",
    "        return context_vectors \n",
    "\n",
    "    def compute_output_shape(self, input_shape):\n",
    "        return input_shape \n",
    "    \n",
    "def create_model(input_shape_mfcc,input_shape_melspec,num_classes=3,num_directions=6,num_distances=7):\n",
    "    input_mfcc=Input(shape=input_shape_mfcc,name='mfcc_input')\n",
    "    x_mfcc=Conv2D(16,kernel_size=(3,3),activation='relu')(input_mfcc)\n",
    "    x_mfcc=MaxPooling2D(pool_size=(2,2))(x_mfcc)\n",
    "    x_mfcc=Dropout(0.3)(x_mfcc)\n",
    "\n",
    "    x_mfcc=Conv2D(32,kernel_size=(3,3),activation='relu')(x_mfcc)\n",
    "    x_mfcc=MaxPooling2D(pool_size=(2,2))(x_mfcc)\n",
    "    x_mfcc=Dropout(0.3)(x_mfcc)\n",
    "\n",
    "    x_mfcc=Conv2D(64,kernel_size=(3,3),activation='relu')(x_mfcc)\n",
    "    x_mfcc=MaxPooling2D(pool_size=(1,2))(x_mfcc)\n",
    "    x_mfcc=Dropout(0.3)(x_mfcc)\n",
    "    \n",
    "    x_mfcc=Conv2D(128,kernel_size=(3,3),activation='relu')(x_mfcc)\n",
    "    x_mfcc=MaxPooling2D(pool_size=(2,2))(x_mfcc)\n",
    "    x_mfcc=Dropout(0.3)(x_mfcc)\n",
    "    \n",
    "    #x_mfcc=GlobalAveragePooling2D()(x_mfcc)\n",
    "    #x_mfcc = Flatten()(x_mfcc)\n",
    "    #x_mfcc = Reshape((x_mfcc.shape[1] * x_mfcc.shape[2], 128))(x_mfcc)\n",
    "    x_mfcc = Reshape((x_mfcc.shape[-1],-1))(x_mfcc)\n",
    "    x_mfcc=Bidirectional(LSTM(64,return_sequences=False))(x_mfcc)\n",
    "    x_mfcc=Attention()(x_mfcc)\n",
    "\n",
    "\n",
    "    input_melspec=Input(shape=input_shape_melspec,name='melspec_input')\n",
    "    x_melspec=Conv2D(16,kernel_size=(3,3),activation='relu')(input_melspec)\n",
    "    x_melspec=MaxPooling2D(pool_size=(2,2))(x_melspec)\n",
    "    x_melspec=Dropout(0.3)(x_melspec)\n",
    "\n",
    "    x_melspec=Conv2D(32,kernel_size=(3,3),activation='relu')(x_melspec)\n",
    "    x_melspec=MaxPooling2D(pool_size=(2,2))(x_melspec)\n",
    "    x_melspec=Dropout(0.3)(x_melspec)\n",
    "\n",
    "    x_melspec=Conv2D(64,kernel_size=(3,3),activation='relu')(x_melspec)\n",
    "    x_melspec=MaxPooling2D(pool_size=(2,2))(x_melspec)\n",
    "    x_melspec=Dropout(0.3)(x_melspec)\n",
    "\n",
    "    x_melspec=Conv2D(128,kernel_size=(3,3),activation='relu')(x_melspec)\n",
    "    x_melspec=MaxPooling2D(pool_size=(2,2))(x_melspec)\n",
    "    x_melspec=Dropout(0.3)(x_melspec)\n",
    "\n",
    "    #x_melspec = GlobalAveragePooling2D()(x_melspec)\n",
    "    #x_melspec =  Flatten()(x_melspec)\n",
    "    #x_melspec = Reshape((x_melspec.shape[1] * x_melspec.shape[2], 40))(x_melspec)\n",
    "    x_melspec = Reshape((x_melspec.shape[-1],-1))(x_melspec)\n",
    "    x_melspec=Bidirectional(LSTM(64,return_sequences=False))(x_melspec)\n",
    "    x_melspec=Attention()(x_melspec)\n",
    "        \n",
    "    concatenated=tf.keras.layers.concatenate([x_mfcc,x_melspec])\n",
    "    common_dense=Dense(128,activation='relu')(concatenated)\n",
    "    gunshot_output=Dense(num_classes,activation='softmax',name='gunshot_output')(common_dense)\n",
    "    direction_output=Dense(num_directions,activation='softmax',name='direction_output')(common_dense)\n",
    "    distance_output=Dense(num_distances,activation='softmax',name='distance_output')(common_dense)\n",
    "\n",
    "    model=Model(inputs=[input_mfcc,input_melspec],outputs=[gunshot_output,direction_output,distance_output])\n",
    "    \n",
    "    return model"
   ]
  },
  {
   "cell_type": "code",
   "execution_count": 16,
   "metadata": {},
   "outputs": [],
   "source": [
    "input_shape_mfcc=(40,174,1)\n",
    "input_shape_melspec=(128,174,1)\n",
    "model=create_model(input_shape_mfcc,input_shape_melspec,num_classes=3,num_directions=6,num_distances=7)"
   ]
  },
  {
   "cell_type": "code",
   "execution_count": 17,
   "metadata": {},
   "outputs": [
    {
     "data": {
      "text/html": [
       "<pre style=\"white-space:pre;overflow-x:auto;line-height:normal;font-family:Menlo,'DejaVu Sans Mono',consolas,'Courier New',monospace\"><span style=\"font-weight: bold\">Model: \"functional_1\"</span>\n",
       "</pre>\n"
      ],
      "text/plain": [
       "\u001b[1mModel: \"functional_1\"\u001b[0m\n"
      ]
     },
     "metadata": {},
     "output_type": "display_data"
    },
    {
     "data": {
      "text/html": [
       "<pre style=\"white-space:pre;overflow-x:auto;line-height:normal;font-family:Menlo,'DejaVu Sans Mono',consolas,'Courier New',monospace\">┏━━━━━━━━━━━━━━━━━━━━━┳━━━━━━━━━━━━━━━━━━━┳━━━━━━━━━━━━┳━━━━━━━━━━━━━━━━━━━┓\n",
       "┃<span style=\"font-weight: bold\"> Layer (type)        </span>┃<span style=\"font-weight: bold\"> Output Shape      </span>┃<span style=\"font-weight: bold\">    Param # </span>┃<span style=\"font-weight: bold\"> Connected to      </span>┃\n",
       "┡━━━━━━━━━━━━━━━━━━━━━╇━━━━━━━━━━━━━━━━━━━╇━━━━━━━━━━━━╇━━━━━━━━━━━━━━━━━━━┩\n",
       "│ mfcc_input          │ (<span style=\"color: #00d7ff; text-decoration-color: #00d7ff\">None</span>, <span style=\"color: #00af00; text-decoration-color: #00af00\">40</span>, <span style=\"color: #00af00; text-decoration-color: #00af00\">174</span>,   │          <span style=\"color: #00af00; text-decoration-color: #00af00\">0</span> │ -                 │\n",
       "│ (<span style=\"color: #0087ff; text-decoration-color: #0087ff\">InputLayer</span>)        │ <span style=\"color: #00af00; text-decoration-color: #00af00\">1</span>)                │            │                   │\n",
       "├─────────────────────┼───────────────────┼────────────┼───────────────────┤\n",
       "│ melspec_input       │ (<span style=\"color: #00d7ff; text-decoration-color: #00d7ff\">None</span>, <span style=\"color: #00af00; text-decoration-color: #00af00\">128</span>, <span style=\"color: #00af00; text-decoration-color: #00af00\">174</span>,  │          <span style=\"color: #00af00; text-decoration-color: #00af00\">0</span> │ -                 │\n",
       "│ (<span style=\"color: #0087ff; text-decoration-color: #0087ff\">InputLayer</span>)        │ <span style=\"color: #00af00; text-decoration-color: #00af00\">1</span>)                │            │                   │\n",
       "├─────────────────────┼───────────────────┼────────────┼───────────────────┤\n",
       "│ conv2d (<span style=\"color: #0087ff; text-decoration-color: #0087ff\">Conv2D</span>)     │ (<span style=\"color: #00d7ff; text-decoration-color: #00d7ff\">None</span>, <span style=\"color: #00af00; text-decoration-color: #00af00\">38</span>, <span style=\"color: #00af00; text-decoration-color: #00af00\">172</span>,   │        <span style=\"color: #00af00; text-decoration-color: #00af00\">160</span> │ mfcc_input[<span style=\"color: #00af00; text-decoration-color: #00af00\">0</span>][<span style=\"color: #00af00; text-decoration-color: #00af00\">0</span>]  │\n",
       "│                     │ <span style=\"color: #00af00; text-decoration-color: #00af00\">16</span>)               │            │                   │\n",
       "├─────────────────────┼───────────────────┼────────────┼───────────────────┤\n",
       "│ conv2d_4 (<span style=\"color: #0087ff; text-decoration-color: #0087ff\">Conv2D</span>)   │ (<span style=\"color: #00d7ff; text-decoration-color: #00d7ff\">None</span>, <span style=\"color: #00af00; text-decoration-color: #00af00\">126</span>, <span style=\"color: #00af00; text-decoration-color: #00af00\">172</span>,  │        <span style=\"color: #00af00; text-decoration-color: #00af00\">160</span> │ melspec_input[<span style=\"color: #00af00; text-decoration-color: #00af00\">0</span>]… │\n",
       "│                     │ <span style=\"color: #00af00; text-decoration-color: #00af00\">16</span>)               │            │                   │\n",
       "├─────────────────────┼───────────────────┼────────────┼───────────────────┤\n",
       "│ max_pooling2d       │ (<span style=\"color: #00d7ff; text-decoration-color: #00d7ff\">None</span>, <span style=\"color: #00af00; text-decoration-color: #00af00\">19</span>, <span style=\"color: #00af00; text-decoration-color: #00af00\">86</span>,    │          <span style=\"color: #00af00; text-decoration-color: #00af00\">0</span> │ conv2d[<span style=\"color: #00af00; text-decoration-color: #00af00\">0</span>][<span style=\"color: #00af00; text-decoration-color: #00af00\">0</span>]      │\n",
       "│ (<span style=\"color: #0087ff; text-decoration-color: #0087ff\">MaxPooling2D</span>)      │ <span style=\"color: #00af00; text-decoration-color: #00af00\">16</span>)               │            │                   │\n",
       "├─────────────────────┼───────────────────┼────────────┼───────────────────┤\n",
       "│ max_pooling2d_4     │ (<span style=\"color: #00d7ff; text-decoration-color: #00d7ff\">None</span>, <span style=\"color: #00af00; text-decoration-color: #00af00\">63</span>, <span style=\"color: #00af00; text-decoration-color: #00af00\">86</span>,    │          <span style=\"color: #00af00; text-decoration-color: #00af00\">0</span> │ conv2d_4[<span style=\"color: #00af00; text-decoration-color: #00af00\">0</span>][<span style=\"color: #00af00; text-decoration-color: #00af00\">0</span>]    │\n",
       "│ (<span style=\"color: #0087ff; text-decoration-color: #0087ff\">MaxPooling2D</span>)      │ <span style=\"color: #00af00; text-decoration-color: #00af00\">16</span>)               │            │                   │\n",
       "├─────────────────────┼───────────────────┼────────────┼───────────────────┤\n",
       "│ dropout (<span style=\"color: #0087ff; text-decoration-color: #0087ff\">Dropout</span>)   │ (<span style=\"color: #00d7ff; text-decoration-color: #00d7ff\">None</span>, <span style=\"color: #00af00; text-decoration-color: #00af00\">19</span>, <span style=\"color: #00af00; text-decoration-color: #00af00\">86</span>,    │          <span style=\"color: #00af00; text-decoration-color: #00af00\">0</span> │ max_pooling2d[<span style=\"color: #00af00; text-decoration-color: #00af00\">0</span>]… │\n",
       "│                     │ <span style=\"color: #00af00; text-decoration-color: #00af00\">16</span>)               │            │                   │\n",
       "├─────────────────────┼───────────────────┼────────────┼───────────────────┤\n",
       "│ dropout_4 (<span style=\"color: #0087ff; text-decoration-color: #0087ff\">Dropout</span>) │ (<span style=\"color: #00d7ff; text-decoration-color: #00d7ff\">None</span>, <span style=\"color: #00af00; text-decoration-color: #00af00\">63</span>, <span style=\"color: #00af00; text-decoration-color: #00af00\">86</span>,    │          <span style=\"color: #00af00; text-decoration-color: #00af00\">0</span> │ max_pooling2d_4[<span style=\"color: #00af00; text-decoration-color: #00af00\">…</span> │\n",
       "│                     │ <span style=\"color: #00af00; text-decoration-color: #00af00\">16</span>)               │            │                   │\n",
       "├─────────────────────┼───────────────────┼────────────┼───────────────────┤\n",
       "│ conv2d_1 (<span style=\"color: #0087ff; text-decoration-color: #0087ff\">Conv2D</span>)   │ (<span style=\"color: #00d7ff; text-decoration-color: #00d7ff\">None</span>, <span style=\"color: #00af00; text-decoration-color: #00af00\">17</span>, <span style=\"color: #00af00; text-decoration-color: #00af00\">84</span>,    │      <span style=\"color: #00af00; text-decoration-color: #00af00\">4,640</span> │ dropout[<span style=\"color: #00af00; text-decoration-color: #00af00\">0</span>][<span style=\"color: #00af00; text-decoration-color: #00af00\">0</span>]     │\n",
       "│                     │ <span style=\"color: #00af00; text-decoration-color: #00af00\">32</span>)               │            │                   │\n",
       "├─────────────────────┼───────────────────┼────────────┼───────────────────┤\n",
       "│ conv2d_5 (<span style=\"color: #0087ff; text-decoration-color: #0087ff\">Conv2D</span>)   │ (<span style=\"color: #00d7ff; text-decoration-color: #00d7ff\">None</span>, <span style=\"color: #00af00; text-decoration-color: #00af00\">61</span>, <span style=\"color: #00af00; text-decoration-color: #00af00\">84</span>,    │      <span style=\"color: #00af00; text-decoration-color: #00af00\">4,640</span> │ dropout_4[<span style=\"color: #00af00; text-decoration-color: #00af00\">0</span>][<span style=\"color: #00af00; text-decoration-color: #00af00\">0</span>]   │\n",
       "│                     │ <span style=\"color: #00af00; text-decoration-color: #00af00\">32</span>)               │            │                   │\n",
       "├─────────────────────┼───────────────────┼────────────┼───────────────────┤\n",
       "│ max_pooling2d_1     │ (<span style=\"color: #00d7ff; text-decoration-color: #00d7ff\">None</span>, <span style=\"color: #00af00; text-decoration-color: #00af00\">8</span>, <span style=\"color: #00af00; text-decoration-color: #00af00\">42</span>, <span style=\"color: #00af00; text-decoration-color: #00af00\">32</span>) │          <span style=\"color: #00af00; text-decoration-color: #00af00\">0</span> │ conv2d_1[<span style=\"color: #00af00; text-decoration-color: #00af00\">0</span>][<span style=\"color: #00af00; text-decoration-color: #00af00\">0</span>]    │\n",
       "│ (<span style=\"color: #0087ff; text-decoration-color: #0087ff\">MaxPooling2D</span>)      │                   │            │                   │\n",
       "├─────────────────────┼───────────────────┼────────────┼───────────────────┤\n",
       "│ max_pooling2d_5     │ (<span style=\"color: #00d7ff; text-decoration-color: #00d7ff\">None</span>, <span style=\"color: #00af00; text-decoration-color: #00af00\">30</span>, <span style=\"color: #00af00; text-decoration-color: #00af00\">42</span>,    │          <span style=\"color: #00af00; text-decoration-color: #00af00\">0</span> │ conv2d_5[<span style=\"color: #00af00; text-decoration-color: #00af00\">0</span>][<span style=\"color: #00af00; text-decoration-color: #00af00\">0</span>]    │\n",
       "│ (<span style=\"color: #0087ff; text-decoration-color: #0087ff\">MaxPooling2D</span>)      │ <span style=\"color: #00af00; text-decoration-color: #00af00\">32</span>)               │            │                   │\n",
       "├─────────────────────┼───────────────────┼────────────┼───────────────────┤\n",
       "│ dropout_1 (<span style=\"color: #0087ff; text-decoration-color: #0087ff\">Dropout</span>) │ (<span style=\"color: #00d7ff; text-decoration-color: #00d7ff\">None</span>, <span style=\"color: #00af00; text-decoration-color: #00af00\">8</span>, <span style=\"color: #00af00; text-decoration-color: #00af00\">42</span>, <span style=\"color: #00af00; text-decoration-color: #00af00\">32</span>) │          <span style=\"color: #00af00; text-decoration-color: #00af00\">0</span> │ max_pooling2d_1[<span style=\"color: #00af00; text-decoration-color: #00af00\">…</span> │\n",
       "├─────────────────────┼───────────────────┼────────────┼───────────────────┤\n",
       "│ dropout_5 (<span style=\"color: #0087ff; text-decoration-color: #0087ff\">Dropout</span>) │ (<span style=\"color: #00d7ff; text-decoration-color: #00d7ff\">None</span>, <span style=\"color: #00af00; text-decoration-color: #00af00\">30</span>, <span style=\"color: #00af00; text-decoration-color: #00af00\">42</span>,    │          <span style=\"color: #00af00; text-decoration-color: #00af00\">0</span> │ max_pooling2d_5[<span style=\"color: #00af00; text-decoration-color: #00af00\">…</span> │\n",
       "│                     │ <span style=\"color: #00af00; text-decoration-color: #00af00\">32</span>)               │            │                   │\n",
       "├─────────────────────┼───────────────────┼────────────┼───────────────────┤\n",
       "│ conv2d_2 (<span style=\"color: #0087ff; text-decoration-color: #0087ff\">Conv2D</span>)   │ (<span style=\"color: #00d7ff; text-decoration-color: #00d7ff\">None</span>, <span style=\"color: #00af00; text-decoration-color: #00af00\">6</span>, <span style=\"color: #00af00; text-decoration-color: #00af00\">40</span>, <span style=\"color: #00af00; text-decoration-color: #00af00\">64</span>) │     <span style=\"color: #00af00; text-decoration-color: #00af00\">18,496</span> │ dropout_1[<span style=\"color: #00af00; text-decoration-color: #00af00\">0</span>][<span style=\"color: #00af00; text-decoration-color: #00af00\">0</span>]   │\n",
       "├─────────────────────┼───────────────────┼────────────┼───────────────────┤\n",
       "│ conv2d_6 (<span style=\"color: #0087ff; text-decoration-color: #0087ff\">Conv2D</span>)   │ (<span style=\"color: #00d7ff; text-decoration-color: #00d7ff\">None</span>, <span style=\"color: #00af00; text-decoration-color: #00af00\">28</span>, <span style=\"color: #00af00; text-decoration-color: #00af00\">40</span>,    │     <span style=\"color: #00af00; text-decoration-color: #00af00\">18,496</span> │ dropout_5[<span style=\"color: #00af00; text-decoration-color: #00af00\">0</span>][<span style=\"color: #00af00; text-decoration-color: #00af00\">0</span>]   │\n",
       "│                     │ <span style=\"color: #00af00; text-decoration-color: #00af00\">64</span>)               │            │                   │\n",
       "├─────────────────────┼───────────────────┼────────────┼───────────────────┤\n",
       "│ max_pooling2d_2     │ (<span style=\"color: #00d7ff; text-decoration-color: #00d7ff\">None</span>, <span style=\"color: #00af00; text-decoration-color: #00af00\">6</span>, <span style=\"color: #00af00; text-decoration-color: #00af00\">20</span>, <span style=\"color: #00af00; text-decoration-color: #00af00\">64</span>) │          <span style=\"color: #00af00; text-decoration-color: #00af00\">0</span> │ conv2d_2[<span style=\"color: #00af00; text-decoration-color: #00af00\">0</span>][<span style=\"color: #00af00; text-decoration-color: #00af00\">0</span>]    │\n",
       "│ (<span style=\"color: #0087ff; text-decoration-color: #0087ff\">MaxPooling2D</span>)      │                   │            │                   │\n",
       "├─────────────────────┼───────────────────┼────────────┼───────────────────┤\n",
       "│ max_pooling2d_6     │ (<span style=\"color: #00d7ff; text-decoration-color: #00d7ff\">None</span>, <span style=\"color: #00af00; text-decoration-color: #00af00\">14</span>, <span style=\"color: #00af00; text-decoration-color: #00af00\">20</span>,    │          <span style=\"color: #00af00; text-decoration-color: #00af00\">0</span> │ conv2d_6[<span style=\"color: #00af00; text-decoration-color: #00af00\">0</span>][<span style=\"color: #00af00; text-decoration-color: #00af00\">0</span>]    │\n",
       "│ (<span style=\"color: #0087ff; text-decoration-color: #0087ff\">MaxPooling2D</span>)      │ <span style=\"color: #00af00; text-decoration-color: #00af00\">64</span>)               │            │                   │\n",
       "├─────────────────────┼───────────────────┼────────────┼───────────────────┤\n",
       "│ dropout_2 (<span style=\"color: #0087ff; text-decoration-color: #0087ff\">Dropout</span>) │ (<span style=\"color: #00d7ff; text-decoration-color: #00d7ff\">None</span>, <span style=\"color: #00af00; text-decoration-color: #00af00\">6</span>, <span style=\"color: #00af00; text-decoration-color: #00af00\">20</span>, <span style=\"color: #00af00; text-decoration-color: #00af00\">64</span>) │          <span style=\"color: #00af00; text-decoration-color: #00af00\">0</span> │ max_pooling2d_2[<span style=\"color: #00af00; text-decoration-color: #00af00\">…</span> │\n",
       "├─────────────────────┼───────────────────┼────────────┼───────────────────┤\n",
       "│ dropout_6 (<span style=\"color: #0087ff; text-decoration-color: #0087ff\">Dropout</span>) │ (<span style=\"color: #00d7ff; text-decoration-color: #00d7ff\">None</span>, <span style=\"color: #00af00; text-decoration-color: #00af00\">14</span>, <span style=\"color: #00af00; text-decoration-color: #00af00\">20</span>,    │          <span style=\"color: #00af00; text-decoration-color: #00af00\">0</span> │ max_pooling2d_6[<span style=\"color: #00af00; text-decoration-color: #00af00\">…</span> │\n",
       "│                     │ <span style=\"color: #00af00; text-decoration-color: #00af00\">64</span>)               │            │                   │\n",
       "├─────────────────────┼───────────────────┼────────────┼───────────────────┤\n",
       "│ conv2d_3 (<span style=\"color: #0087ff; text-decoration-color: #0087ff\">Conv2D</span>)   │ (<span style=\"color: #00d7ff; text-decoration-color: #00d7ff\">None</span>, <span style=\"color: #00af00; text-decoration-color: #00af00\">4</span>, <span style=\"color: #00af00; text-decoration-color: #00af00\">18</span>,     │     <span style=\"color: #00af00; text-decoration-color: #00af00\">73,856</span> │ dropout_2[<span style=\"color: #00af00; text-decoration-color: #00af00\">0</span>][<span style=\"color: #00af00; text-decoration-color: #00af00\">0</span>]   │\n",
       "│                     │ <span style=\"color: #00af00; text-decoration-color: #00af00\">128</span>)              │            │                   │\n",
       "├─────────────────────┼───────────────────┼────────────┼───────────────────┤\n",
       "│ conv2d_7 (<span style=\"color: #0087ff; text-decoration-color: #0087ff\">Conv2D</span>)   │ (<span style=\"color: #00d7ff; text-decoration-color: #00d7ff\">None</span>, <span style=\"color: #00af00; text-decoration-color: #00af00\">12</span>, <span style=\"color: #00af00; text-decoration-color: #00af00\">18</span>,    │     <span style=\"color: #00af00; text-decoration-color: #00af00\">73,856</span> │ dropout_6[<span style=\"color: #00af00; text-decoration-color: #00af00\">0</span>][<span style=\"color: #00af00; text-decoration-color: #00af00\">0</span>]   │\n",
       "│                     │ <span style=\"color: #00af00; text-decoration-color: #00af00\">128</span>)              │            │                   │\n",
       "├─────────────────────┼───────────────────┼────────────┼───────────────────┤\n",
       "│ max_pooling2d_3     │ (<span style=\"color: #00d7ff; text-decoration-color: #00d7ff\">None</span>, <span style=\"color: #00af00; text-decoration-color: #00af00\">2</span>, <span style=\"color: #00af00; text-decoration-color: #00af00\">9</span>, <span style=\"color: #00af00; text-decoration-color: #00af00\">128</span>) │          <span style=\"color: #00af00; text-decoration-color: #00af00\">0</span> │ conv2d_3[<span style=\"color: #00af00; text-decoration-color: #00af00\">0</span>][<span style=\"color: #00af00; text-decoration-color: #00af00\">0</span>]    │\n",
       "│ (<span style=\"color: #0087ff; text-decoration-color: #0087ff\">MaxPooling2D</span>)      │                   │            │                   │\n",
       "├─────────────────────┼───────────────────┼────────────┼───────────────────┤\n",
       "│ max_pooling2d_7     │ (<span style=\"color: #00d7ff; text-decoration-color: #00d7ff\">None</span>, <span style=\"color: #00af00; text-decoration-color: #00af00\">6</span>, <span style=\"color: #00af00; text-decoration-color: #00af00\">9</span>, <span style=\"color: #00af00; text-decoration-color: #00af00\">128</span>) │          <span style=\"color: #00af00; text-decoration-color: #00af00\">0</span> │ conv2d_7[<span style=\"color: #00af00; text-decoration-color: #00af00\">0</span>][<span style=\"color: #00af00; text-decoration-color: #00af00\">0</span>]    │\n",
       "│ (<span style=\"color: #0087ff; text-decoration-color: #0087ff\">MaxPooling2D</span>)      │                   │            │                   │\n",
       "├─────────────────────┼───────────────────┼────────────┼───────────────────┤\n",
       "│ dropout_3 (<span style=\"color: #0087ff; text-decoration-color: #0087ff\">Dropout</span>) │ (<span style=\"color: #00d7ff; text-decoration-color: #00d7ff\">None</span>, <span style=\"color: #00af00; text-decoration-color: #00af00\">2</span>, <span style=\"color: #00af00; text-decoration-color: #00af00\">9</span>, <span style=\"color: #00af00; text-decoration-color: #00af00\">128</span>) │          <span style=\"color: #00af00; text-decoration-color: #00af00\">0</span> │ max_pooling2d_3[<span style=\"color: #00af00; text-decoration-color: #00af00\">…</span> │\n",
       "├─────────────────────┼───────────────────┼────────────┼───────────────────┤\n",
       "│ dropout_7 (<span style=\"color: #0087ff; text-decoration-color: #0087ff\">Dropout</span>) │ (<span style=\"color: #00d7ff; text-decoration-color: #00d7ff\">None</span>, <span style=\"color: #00af00; text-decoration-color: #00af00\">6</span>, <span style=\"color: #00af00; text-decoration-color: #00af00\">9</span>, <span style=\"color: #00af00; text-decoration-color: #00af00\">128</span>) │          <span style=\"color: #00af00; text-decoration-color: #00af00\">0</span> │ max_pooling2d_7[<span style=\"color: #00af00; text-decoration-color: #00af00\">…</span> │\n",
       "├─────────────────────┼───────────────────┼────────────┼───────────────────┤\n",
       "│ reshape (<span style=\"color: #0087ff; text-decoration-color: #0087ff\">Reshape</span>)   │ (<span style=\"color: #00d7ff; text-decoration-color: #00d7ff\">None</span>, <span style=\"color: #00af00; text-decoration-color: #00af00\">128</span>, <span style=\"color: #00af00; text-decoration-color: #00af00\">18</span>)   │          <span style=\"color: #00af00; text-decoration-color: #00af00\">0</span> │ dropout_3[<span style=\"color: #00af00; text-decoration-color: #00af00\">0</span>][<span style=\"color: #00af00; text-decoration-color: #00af00\">0</span>]   │\n",
       "├─────────────────────┼───────────────────┼────────────┼───────────────────┤\n",
       "│ reshape_1 (<span style=\"color: #0087ff; text-decoration-color: #0087ff\">Reshape</span>) │ (<span style=\"color: #00d7ff; text-decoration-color: #00d7ff\">None</span>, <span style=\"color: #00af00; text-decoration-color: #00af00\">128</span>, <span style=\"color: #00af00; text-decoration-color: #00af00\">54</span>)   │          <span style=\"color: #00af00; text-decoration-color: #00af00\">0</span> │ dropout_7[<span style=\"color: #00af00; text-decoration-color: #00af00\">0</span>][<span style=\"color: #00af00; text-decoration-color: #00af00\">0</span>]   │\n",
       "├─────────────────────┼───────────────────┼────────────┼───────────────────┤\n",
       "│ bidirectional       │ (<span style=\"color: #00d7ff; text-decoration-color: #00d7ff\">None</span>, <span style=\"color: #00af00; text-decoration-color: #00af00\">128</span>)       │     <span style=\"color: #00af00; text-decoration-color: #00af00\">42,496</span> │ reshape[<span style=\"color: #00af00; text-decoration-color: #00af00\">0</span>][<span style=\"color: #00af00; text-decoration-color: #00af00\">0</span>]     │\n",
       "│ (<span style=\"color: #0087ff; text-decoration-color: #0087ff\">Bidirectional</span>)     │                   │            │                   │\n",
       "├─────────────────────┼───────────────────┼────────────┼───────────────────┤\n",
       "│ bidirectional_1     │ (<span style=\"color: #00d7ff; text-decoration-color: #00d7ff\">None</span>, <span style=\"color: #00af00; text-decoration-color: #00af00\">128</span>)       │     <span style=\"color: #00af00; text-decoration-color: #00af00\">60,928</span> │ reshape_1[<span style=\"color: #00af00; text-decoration-color: #00af00\">0</span>][<span style=\"color: #00af00; text-decoration-color: #00af00\">0</span>]   │\n",
       "│ (<span style=\"color: #0087ff; text-decoration-color: #0087ff\">Bidirectional</span>)     │                   │            │                   │\n",
       "├─────────────────────┼───────────────────┼────────────┼───────────────────┤\n",
       "│ attention           │ (<span style=\"color: #00d7ff; text-decoration-color: #00d7ff\">None</span>, <span style=\"color: #00af00; text-decoration-color: #00af00\">128</span>)       │     <span style=\"color: #00af00; text-decoration-color: #00af00\">16,640</span> │ bidirectional[<span style=\"color: #00af00; text-decoration-color: #00af00\">0</span>]… │\n",
       "│ (<span style=\"color: #0087ff; text-decoration-color: #0087ff\">Attention</span>)         │                   │            │                   │\n",
       "├─────────────────────┼───────────────────┼────────────┼───────────────────┤\n",
       "│ attention_1         │ (<span style=\"color: #00d7ff; text-decoration-color: #00d7ff\">None</span>, <span style=\"color: #00af00; text-decoration-color: #00af00\">128</span>)       │     <span style=\"color: #00af00; text-decoration-color: #00af00\">16,640</span> │ bidirectional_1[<span style=\"color: #00af00; text-decoration-color: #00af00\">…</span> │\n",
       "│ (<span style=\"color: #0087ff; text-decoration-color: #0087ff\">Attention</span>)         │                   │            │                   │\n",
       "├─────────────────────┼───────────────────┼────────────┼───────────────────┤\n",
       "│ concatenate         │ (<span style=\"color: #00d7ff; text-decoration-color: #00d7ff\">None</span>, <span style=\"color: #00af00; text-decoration-color: #00af00\">256</span>)       │          <span style=\"color: #00af00; text-decoration-color: #00af00\">0</span> │ attention[<span style=\"color: #00af00; text-decoration-color: #00af00\">0</span>][<span style=\"color: #00af00; text-decoration-color: #00af00\">0</span>],  │\n",
       "│ (<span style=\"color: #0087ff; text-decoration-color: #0087ff\">Concatenate</span>)       │                   │            │ attention_1[<span style=\"color: #00af00; text-decoration-color: #00af00\">0</span>][<span style=\"color: #00af00; text-decoration-color: #00af00\">0</span>] │\n",
       "├─────────────────────┼───────────────────┼────────────┼───────────────────┤\n",
       "│ dense (<span style=\"color: #0087ff; text-decoration-color: #0087ff\">Dense</span>)       │ (<span style=\"color: #00d7ff; text-decoration-color: #00d7ff\">None</span>, <span style=\"color: #00af00; text-decoration-color: #00af00\">128</span>)       │     <span style=\"color: #00af00; text-decoration-color: #00af00\">32,896</span> │ concatenate[<span style=\"color: #00af00; text-decoration-color: #00af00\">0</span>][<span style=\"color: #00af00; text-decoration-color: #00af00\">0</span>] │\n",
       "├─────────────────────┼───────────────────┼────────────┼───────────────────┤\n",
       "│ gunshot_output      │ (<span style=\"color: #00d7ff; text-decoration-color: #00d7ff\">None</span>, <span style=\"color: #00af00; text-decoration-color: #00af00\">3</span>)         │        <span style=\"color: #00af00; text-decoration-color: #00af00\">387</span> │ dense[<span style=\"color: #00af00; text-decoration-color: #00af00\">0</span>][<span style=\"color: #00af00; text-decoration-color: #00af00\">0</span>]       │\n",
       "│ (<span style=\"color: #0087ff; text-decoration-color: #0087ff\">Dense</span>)             │                   │            │                   │\n",
       "├─────────────────────┼───────────────────┼────────────┼───────────────────┤\n",
       "│ direction_output    │ (<span style=\"color: #00d7ff; text-decoration-color: #00d7ff\">None</span>, <span style=\"color: #00af00; text-decoration-color: #00af00\">6</span>)         │        <span style=\"color: #00af00; text-decoration-color: #00af00\">774</span> │ dense[<span style=\"color: #00af00; text-decoration-color: #00af00\">0</span>][<span style=\"color: #00af00; text-decoration-color: #00af00\">0</span>]       │\n",
       "│ (<span style=\"color: #0087ff; text-decoration-color: #0087ff\">Dense</span>)             │                   │            │                   │\n",
       "├─────────────────────┼───────────────────┼────────────┼───────────────────┤\n",
       "│ distance_output     │ (<span style=\"color: #00d7ff; text-decoration-color: #00d7ff\">None</span>, <span style=\"color: #00af00; text-decoration-color: #00af00\">7</span>)         │        <span style=\"color: #00af00; text-decoration-color: #00af00\">903</span> │ dense[<span style=\"color: #00af00; text-decoration-color: #00af00\">0</span>][<span style=\"color: #00af00; text-decoration-color: #00af00\">0</span>]       │\n",
       "│ (<span style=\"color: #0087ff; text-decoration-color: #0087ff\">Dense</span>)             │                   │            │                   │\n",
       "└─────────────────────┴───────────────────┴────────────┴───────────────────┘\n",
       "</pre>\n"
      ],
      "text/plain": [
       "┏━━━━━━━━━━━━━━━━━━━━━┳━━━━━━━━━━━━━━━━━━━┳━━━━━━━━━━━━┳━━━━━━━━━━━━━━━━━━━┓\n",
       "┃\u001b[1m \u001b[0m\u001b[1mLayer (type)       \u001b[0m\u001b[1m \u001b[0m┃\u001b[1m \u001b[0m\u001b[1mOutput Shape     \u001b[0m\u001b[1m \u001b[0m┃\u001b[1m \u001b[0m\u001b[1m   Param #\u001b[0m\u001b[1m \u001b[0m┃\u001b[1m \u001b[0m\u001b[1mConnected to     \u001b[0m\u001b[1m \u001b[0m┃\n",
       "┡━━━━━━━━━━━━━━━━━━━━━╇━━━━━━━━━━━━━━━━━━━╇━━━━━━━━━━━━╇━━━━━━━━━━━━━━━━━━━┩\n",
       "│ mfcc_input          │ (\u001b[38;5;45mNone\u001b[0m, \u001b[38;5;34m40\u001b[0m, \u001b[38;5;34m174\u001b[0m,   │          \u001b[38;5;34m0\u001b[0m │ -                 │\n",
       "│ (\u001b[38;5;33mInputLayer\u001b[0m)        │ \u001b[38;5;34m1\u001b[0m)                │            │                   │\n",
       "├─────────────────────┼───────────────────┼────────────┼───────────────────┤\n",
       "│ melspec_input       │ (\u001b[38;5;45mNone\u001b[0m, \u001b[38;5;34m128\u001b[0m, \u001b[38;5;34m174\u001b[0m,  │          \u001b[38;5;34m0\u001b[0m │ -                 │\n",
       "│ (\u001b[38;5;33mInputLayer\u001b[0m)        │ \u001b[38;5;34m1\u001b[0m)                │            │                   │\n",
       "├─────────────────────┼───────────────────┼────────────┼───────────────────┤\n",
       "│ conv2d (\u001b[38;5;33mConv2D\u001b[0m)     │ (\u001b[38;5;45mNone\u001b[0m, \u001b[38;5;34m38\u001b[0m, \u001b[38;5;34m172\u001b[0m,   │        \u001b[38;5;34m160\u001b[0m │ mfcc_input[\u001b[38;5;34m0\u001b[0m][\u001b[38;5;34m0\u001b[0m]  │\n",
       "│                     │ \u001b[38;5;34m16\u001b[0m)               │            │                   │\n",
       "├─────────────────────┼───────────────────┼────────────┼───────────────────┤\n",
       "│ conv2d_4 (\u001b[38;5;33mConv2D\u001b[0m)   │ (\u001b[38;5;45mNone\u001b[0m, \u001b[38;5;34m126\u001b[0m, \u001b[38;5;34m172\u001b[0m,  │        \u001b[38;5;34m160\u001b[0m │ melspec_input[\u001b[38;5;34m0\u001b[0m]… │\n",
       "│                     │ \u001b[38;5;34m16\u001b[0m)               │            │                   │\n",
       "├─────────────────────┼───────────────────┼────────────┼───────────────────┤\n",
       "│ max_pooling2d       │ (\u001b[38;5;45mNone\u001b[0m, \u001b[38;5;34m19\u001b[0m, \u001b[38;5;34m86\u001b[0m,    │          \u001b[38;5;34m0\u001b[0m │ conv2d[\u001b[38;5;34m0\u001b[0m][\u001b[38;5;34m0\u001b[0m]      │\n",
       "│ (\u001b[38;5;33mMaxPooling2D\u001b[0m)      │ \u001b[38;5;34m16\u001b[0m)               │            │                   │\n",
       "├─────────────────────┼───────────────────┼────────────┼───────────────────┤\n",
       "│ max_pooling2d_4     │ (\u001b[38;5;45mNone\u001b[0m, \u001b[38;5;34m63\u001b[0m, \u001b[38;5;34m86\u001b[0m,    │          \u001b[38;5;34m0\u001b[0m │ conv2d_4[\u001b[38;5;34m0\u001b[0m][\u001b[38;5;34m0\u001b[0m]    │\n",
       "│ (\u001b[38;5;33mMaxPooling2D\u001b[0m)      │ \u001b[38;5;34m16\u001b[0m)               │            │                   │\n",
       "├─────────────────────┼───────────────────┼────────────┼───────────────────┤\n",
       "│ dropout (\u001b[38;5;33mDropout\u001b[0m)   │ (\u001b[38;5;45mNone\u001b[0m, \u001b[38;5;34m19\u001b[0m, \u001b[38;5;34m86\u001b[0m,    │          \u001b[38;5;34m0\u001b[0m │ max_pooling2d[\u001b[38;5;34m0\u001b[0m]… │\n",
       "│                     │ \u001b[38;5;34m16\u001b[0m)               │            │                   │\n",
       "├─────────────────────┼───────────────────┼────────────┼───────────────────┤\n",
       "│ dropout_4 (\u001b[38;5;33mDropout\u001b[0m) │ (\u001b[38;5;45mNone\u001b[0m, \u001b[38;5;34m63\u001b[0m, \u001b[38;5;34m86\u001b[0m,    │          \u001b[38;5;34m0\u001b[0m │ max_pooling2d_4[\u001b[38;5;34m…\u001b[0m │\n",
       "│                     │ \u001b[38;5;34m16\u001b[0m)               │            │                   │\n",
       "├─────────────────────┼───────────────────┼────────────┼───────────────────┤\n",
       "│ conv2d_1 (\u001b[38;5;33mConv2D\u001b[0m)   │ (\u001b[38;5;45mNone\u001b[0m, \u001b[38;5;34m17\u001b[0m, \u001b[38;5;34m84\u001b[0m,    │      \u001b[38;5;34m4,640\u001b[0m │ dropout[\u001b[38;5;34m0\u001b[0m][\u001b[38;5;34m0\u001b[0m]     │\n",
       "│                     │ \u001b[38;5;34m32\u001b[0m)               │            │                   │\n",
       "├─────────────────────┼───────────────────┼────────────┼───────────────────┤\n",
       "│ conv2d_5 (\u001b[38;5;33mConv2D\u001b[0m)   │ (\u001b[38;5;45mNone\u001b[0m, \u001b[38;5;34m61\u001b[0m, \u001b[38;5;34m84\u001b[0m,    │      \u001b[38;5;34m4,640\u001b[0m │ dropout_4[\u001b[38;5;34m0\u001b[0m][\u001b[38;5;34m0\u001b[0m]   │\n",
       "│                     │ \u001b[38;5;34m32\u001b[0m)               │            │                   │\n",
       "├─────────────────────┼───────────────────┼────────────┼───────────────────┤\n",
       "│ max_pooling2d_1     │ (\u001b[38;5;45mNone\u001b[0m, \u001b[38;5;34m8\u001b[0m, \u001b[38;5;34m42\u001b[0m, \u001b[38;5;34m32\u001b[0m) │          \u001b[38;5;34m0\u001b[0m │ conv2d_1[\u001b[38;5;34m0\u001b[0m][\u001b[38;5;34m0\u001b[0m]    │\n",
       "│ (\u001b[38;5;33mMaxPooling2D\u001b[0m)      │                   │            │                   │\n",
       "├─────────────────────┼───────────────────┼────────────┼───────────────────┤\n",
       "│ max_pooling2d_5     │ (\u001b[38;5;45mNone\u001b[0m, \u001b[38;5;34m30\u001b[0m, \u001b[38;5;34m42\u001b[0m,    │          \u001b[38;5;34m0\u001b[0m │ conv2d_5[\u001b[38;5;34m0\u001b[0m][\u001b[38;5;34m0\u001b[0m]    │\n",
       "│ (\u001b[38;5;33mMaxPooling2D\u001b[0m)      │ \u001b[38;5;34m32\u001b[0m)               │            │                   │\n",
       "├─────────────────────┼───────────────────┼────────────┼───────────────────┤\n",
       "│ dropout_1 (\u001b[38;5;33mDropout\u001b[0m) │ (\u001b[38;5;45mNone\u001b[0m, \u001b[38;5;34m8\u001b[0m, \u001b[38;5;34m42\u001b[0m, \u001b[38;5;34m32\u001b[0m) │          \u001b[38;5;34m0\u001b[0m │ max_pooling2d_1[\u001b[38;5;34m…\u001b[0m │\n",
       "├─────────────────────┼───────────────────┼────────────┼───────────────────┤\n",
       "│ dropout_5 (\u001b[38;5;33mDropout\u001b[0m) │ (\u001b[38;5;45mNone\u001b[0m, \u001b[38;5;34m30\u001b[0m, \u001b[38;5;34m42\u001b[0m,    │          \u001b[38;5;34m0\u001b[0m │ max_pooling2d_5[\u001b[38;5;34m…\u001b[0m │\n",
       "│                     │ \u001b[38;5;34m32\u001b[0m)               │            │                   │\n",
       "├─────────────────────┼───────────────────┼────────────┼───────────────────┤\n",
       "│ conv2d_2 (\u001b[38;5;33mConv2D\u001b[0m)   │ (\u001b[38;5;45mNone\u001b[0m, \u001b[38;5;34m6\u001b[0m, \u001b[38;5;34m40\u001b[0m, \u001b[38;5;34m64\u001b[0m) │     \u001b[38;5;34m18,496\u001b[0m │ dropout_1[\u001b[38;5;34m0\u001b[0m][\u001b[38;5;34m0\u001b[0m]   │\n",
       "├─────────────────────┼───────────────────┼────────────┼───────────────────┤\n",
       "│ conv2d_6 (\u001b[38;5;33mConv2D\u001b[0m)   │ (\u001b[38;5;45mNone\u001b[0m, \u001b[38;5;34m28\u001b[0m, \u001b[38;5;34m40\u001b[0m,    │     \u001b[38;5;34m18,496\u001b[0m │ dropout_5[\u001b[38;5;34m0\u001b[0m][\u001b[38;5;34m0\u001b[0m]   │\n",
       "│                     │ \u001b[38;5;34m64\u001b[0m)               │            │                   │\n",
       "├─────────────────────┼───────────────────┼────────────┼───────────────────┤\n",
       "│ max_pooling2d_2     │ (\u001b[38;5;45mNone\u001b[0m, \u001b[38;5;34m6\u001b[0m, \u001b[38;5;34m20\u001b[0m, \u001b[38;5;34m64\u001b[0m) │          \u001b[38;5;34m0\u001b[0m │ conv2d_2[\u001b[38;5;34m0\u001b[0m][\u001b[38;5;34m0\u001b[0m]    │\n",
       "│ (\u001b[38;5;33mMaxPooling2D\u001b[0m)      │                   │            │                   │\n",
       "├─────────────────────┼───────────────────┼────────────┼───────────────────┤\n",
       "│ max_pooling2d_6     │ (\u001b[38;5;45mNone\u001b[0m, \u001b[38;5;34m14\u001b[0m, \u001b[38;5;34m20\u001b[0m,    │          \u001b[38;5;34m0\u001b[0m │ conv2d_6[\u001b[38;5;34m0\u001b[0m][\u001b[38;5;34m0\u001b[0m]    │\n",
       "│ (\u001b[38;5;33mMaxPooling2D\u001b[0m)      │ \u001b[38;5;34m64\u001b[0m)               │            │                   │\n",
       "├─────────────────────┼───────────────────┼────────────┼───────────────────┤\n",
       "│ dropout_2 (\u001b[38;5;33mDropout\u001b[0m) │ (\u001b[38;5;45mNone\u001b[0m, \u001b[38;5;34m6\u001b[0m, \u001b[38;5;34m20\u001b[0m, \u001b[38;5;34m64\u001b[0m) │          \u001b[38;5;34m0\u001b[0m │ max_pooling2d_2[\u001b[38;5;34m…\u001b[0m │\n",
       "├─────────────────────┼───────────────────┼────────────┼───────────────────┤\n",
       "│ dropout_6 (\u001b[38;5;33mDropout\u001b[0m) │ (\u001b[38;5;45mNone\u001b[0m, \u001b[38;5;34m14\u001b[0m, \u001b[38;5;34m20\u001b[0m,    │          \u001b[38;5;34m0\u001b[0m │ max_pooling2d_6[\u001b[38;5;34m…\u001b[0m │\n",
       "│                     │ \u001b[38;5;34m64\u001b[0m)               │            │                   │\n",
       "├─────────────────────┼───────────────────┼────────────┼───────────────────┤\n",
       "│ conv2d_3 (\u001b[38;5;33mConv2D\u001b[0m)   │ (\u001b[38;5;45mNone\u001b[0m, \u001b[38;5;34m4\u001b[0m, \u001b[38;5;34m18\u001b[0m,     │     \u001b[38;5;34m73,856\u001b[0m │ dropout_2[\u001b[38;5;34m0\u001b[0m][\u001b[38;5;34m0\u001b[0m]   │\n",
       "│                     │ \u001b[38;5;34m128\u001b[0m)              │            │                   │\n",
       "├─────────────────────┼───────────────────┼────────────┼───────────────────┤\n",
       "│ conv2d_7 (\u001b[38;5;33mConv2D\u001b[0m)   │ (\u001b[38;5;45mNone\u001b[0m, \u001b[38;5;34m12\u001b[0m, \u001b[38;5;34m18\u001b[0m,    │     \u001b[38;5;34m73,856\u001b[0m │ dropout_6[\u001b[38;5;34m0\u001b[0m][\u001b[38;5;34m0\u001b[0m]   │\n",
       "│                     │ \u001b[38;5;34m128\u001b[0m)              │            │                   │\n",
       "├─────────────────────┼───────────────────┼────────────┼───────────────────┤\n",
       "│ max_pooling2d_3     │ (\u001b[38;5;45mNone\u001b[0m, \u001b[38;5;34m2\u001b[0m, \u001b[38;5;34m9\u001b[0m, \u001b[38;5;34m128\u001b[0m) │          \u001b[38;5;34m0\u001b[0m │ conv2d_3[\u001b[38;5;34m0\u001b[0m][\u001b[38;5;34m0\u001b[0m]    │\n",
       "│ (\u001b[38;5;33mMaxPooling2D\u001b[0m)      │                   │            │                   │\n",
       "├─────────────────────┼───────────────────┼────────────┼───────────────────┤\n",
       "│ max_pooling2d_7     │ (\u001b[38;5;45mNone\u001b[0m, \u001b[38;5;34m6\u001b[0m, \u001b[38;5;34m9\u001b[0m, \u001b[38;5;34m128\u001b[0m) │          \u001b[38;5;34m0\u001b[0m │ conv2d_7[\u001b[38;5;34m0\u001b[0m][\u001b[38;5;34m0\u001b[0m]    │\n",
       "│ (\u001b[38;5;33mMaxPooling2D\u001b[0m)      │                   │            │                   │\n",
       "├─────────────────────┼───────────────────┼────────────┼───────────────────┤\n",
       "│ dropout_3 (\u001b[38;5;33mDropout\u001b[0m) │ (\u001b[38;5;45mNone\u001b[0m, \u001b[38;5;34m2\u001b[0m, \u001b[38;5;34m9\u001b[0m, \u001b[38;5;34m128\u001b[0m) │          \u001b[38;5;34m0\u001b[0m │ max_pooling2d_3[\u001b[38;5;34m…\u001b[0m │\n",
       "├─────────────────────┼───────────────────┼────────────┼───────────────────┤\n",
       "│ dropout_7 (\u001b[38;5;33mDropout\u001b[0m) │ (\u001b[38;5;45mNone\u001b[0m, \u001b[38;5;34m6\u001b[0m, \u001b[38;5;34m9\u001b[0m, \u001b[38;5;34m128\u001b[0m) │          \u001b[38;5;34m0\u001b[0m │ max_pooling2d_7[\u001b[38;5;34m…\u001b[0m │\n",
       "├─────────────────────┼───────────────────┼────────────┼───────────────────┤\n",
       "│ reshape (\u001b[38;5;33mReshape\u001b[0m)   │ (\u001b[38;5;45mNone\u001b[0m, \u001b[38;5;34m128\u001b[0m, \u001b[38;5;34m18\u001b[0m)   │          \u001b[38;5;34m0\u001b[0m │ dropout_3[\u001b[38;5;34m0\u001b[0m][\u001b[38;5;34m0\u001b[0m]   │\n",
       "├─────────────────────┼───────────────────┼────────────┼───────────────────┤\n",
       "│ reshape_1 (\u001b[38;5;33mReshape\u001b[0m) │ (\u001b[38;5;45mNone\u001b[0m, \u001b[38;5;34m128\u001b[0m, \u001b[38;5;34m54\u001b[0m)   │          \u001b[38;5;34m0\u001b[0m │ dropout_7[\u001b[38;5;34m0\u001b[0m][\u001b[38;5;34m0\u001b[0m]   │\n",
       "├─────────────────────┼───────────────────┼────────────┼───────────────────┤\n",
       "│ bidirectional       │ (\u001b[38;5;45mNone\u001b[0m, \u001b[38;5;34m128\u001b[0m)       │     \u001b[38;5;34m42,496\u001b[0m │ reshape[\u001b[38;5;34m0\u001b[0m][\u001b[38;5;34m0\u001b[0m]     │\n",
       "│ (\u001b[38;5;33mBidirectional\u001b[0m)     │                   │            │                   │\n",
       "├─────────────────────┼───────────────────┼────────────┼───────────────────┤\n",
       "│ bidirectional_1     │ (\u001b[38;5;45mNone\u001b[0m, \u001b[38;5;34m128\u001b[0m)       │     \u001b[38;5;34m60,928\u001b[0m │ reshape_1[\u001b[38;5;34m0\u001b[0m][\u001b[38;5;34m0\u001b[0m]   │\n",
       "│ (\u001b[38;5;33mBidirectional\u001b[0m)     │                   │            │                   │\n",
       "├─────────────────────┼───────────────────┼────────────┼───────────────────┤\n",
       "│ attention           │ (\u001b[38;5;45mNone\u001b[0m, \u001b[38;5;34m128\u001b[0m)       │     \u001b[38;5;34m16,640\u001b[0m │ bidirectional[\u001b[38;5;34m0\u001b[0m]… │\n",
       "│ (\u001b[38;5;33mAttention\u001b[0m)         │                   │            │                   │\n",
       "├─────────────────────┼───────────────────┼────────────┼───────────────────┤\n",
       "│ attention_1         │ (\u001b[38;5;45mNone\u001b[0m, \u001b[38;5;34m128\u001b[0m)       │     \u001b[38;5;34m16,640\u001b[0m │ bidirectional_1[\u001b[38;5;34m…\u001b[0m │\n",
       "│ (\u001b[38;5;33mAttention\u001b[0m)         │                   │            │                   │\n",
       "├─────────────────────┼───────────────────┼────────────┼───────────────────┤\n",
       "│ concatenate         │ (\u001b[38;5;45mNone\u001b[0m, \u001b[38;5;34m256\u001b[0m)       │          \u001b[38;5;34m0\u001b[0m │ attention[\u001b[38;5;34m0\u001b[0m][\u001b[38;5;34m0\u001b[0m],  │\n",
       "│ (\u001b[38;5;33mConcatenate\u001b[0m)       │                   │            │ attention_1[\u001b[38;5;34m0\u001b[0m][\u001b[38;5;34m0\u001b[0m] │\n",
       "├─────────────────────┼───────────────────┼────────────┼───────────────────┤\n",
       "│ dense (\u001b[38;5;33mDense\u001b[0m)       │ (\u001b[38;5;45mNone\u001b[0m, \u001b[38;5;34m128\u001b[0m)       │     \u001b[38;5;34m32,896\u001b[0m │ concatenate[\u001b[38;5;34m0\u001b[0m][\u001b[38;5;34m0\u001b[0m] │\n",
       "├─────────────────────┼───────────────────┼────────────┼───────────────────┤\n",
       "│ gunshot_output      │ (\u001b[38;5;45mNone\u001b[0m, \u001b[38;5;34m3\u001b[0m)         │        \u001b[38;5;34m387\u001b[0m │ dense[\u001b[38;5;34m0\u001b[0m][\u001b[38;5;34m0\u001b[0m]       │\n",
       "│ (\u001b[38;5;33mDense\u001b[0m)             │                   │            │                   │\n",
       "├─────────────────────┼───────────────────┼────────────┼───────────────────┤\n",
       "│ direction_output    │ (\u001b[38;5;45mNone\u001b[0m, \u001b[38;5;34m6\u001b[0m)         │        \u001b[38;5;34m774\u001b[0m │ dense[\u001b[38;5;34m0\u001b[0m][\u001b[38;5;34m0\u001b[0m]       │\n",
       "│ (\u001b[38;5;33mDense\u001b[0m)             │                   │            │                   │\n",
       "├─────────────────────┼───────────────────┼────────────┼───────────────────┤\n",
       "│ distance_output     │ (\u001b[38;5;45mNone\u001b[0m, \u001b[38;5;34m7\u001b[0m)         │        \u001b[38;5;34m903\u001b[0m │ dense[\u001b[38;5;34m0\u001b[0m][\u001b[38;5;34m0\u001b[0m]       │\n",
       "│ (\u001b[38;5;33mDense\u001b[0m)             │                   │            │                   │\n",
       "└─────────────────────┴───────────────────┴────────────┴───────────────────┘\n"
      ]
     },
     "metadata": {},
     "output_type": "display_data"
    },
    {
     "data": {
      "text/html": [
       "<pre style=\"white-space:pre;overflow-x:auto;line-height:normal;font-family:Menlo,'DejaVu Sans Mono',consolas,'Courier New',monospace\"><span style=\"font-weight: bold\"> Total params: </span><span style=\"color: #00af00; text-decoration-color: #00af00\">365,968</span> (1.40 MB)\n",
       "</pre>\n"
      ],
      "text/plain": [
       "\u001b[1m Total params: \u001b[0m\u001b[38;5;34m365,968\u001b[0m (1.40 MB)\n"
      ]
     },
     "metadata": {},
     "output_type": "display_data"
    },
    {
     "data": {
      "text/html": [
       "<pre style=\"white-space:pre;overflow-x:auto;line-height:normal;font-family:Menlo,'DejaVu Sans Mono',consolas,'Courier New',monospace\"><span style=\"font-weight: bold\"> Trainable params: </span><span style=\"color: #00af00; text-decoration-color: #00af00\">365,968</span> (1.40 MB)\n",
       "</pre>\n"
      ],
      "text/plain": [
       "\u001b[1m Trainable params: \u001b[0m\u001b[38;5;34m365,968\u001b[0m (1.40 MB)\n"
      ]
     },
     "metadata": {},
     "output_type": "display_data"
    },
    {
     "data": {
      "text/html": [
       "<pre style=\"white-space:pre;overflow-x:auto;line-height:normal;font-family:Menlo,'DejaVu Sans Mono',consolas,'Courier New',monospace\"><span style=\"font-weight: bold\"> Non-trainable params: </span><span style=\"color: #00af00; text-decoration-color: #00af00\">0</span> (0.00 B)\n",
       "</pre>\n"
      ],
      "text/plain": [
       "\u001b[1m Non-trainable params: \u001b[0m\u001b[38;5;34m0\u001b[0m (0.00 B)\n"
      ]
     },
     "metadata": {},
     "output_type": "display_data"
    }
   ],
   "source": [
    "from tensorflow.keras.metrics import AUC\n",
    "model.compile(optimizer='adam',\n",
    "              loss={\n",
    "                    'gunshot_output':'categorical_crossentropy',\n",
    "                    'direction_output':'categorical_crossentropy',\n",
    "                    'distance_output':'categorical_crossentropy'},\n",
    "                metrics={\n",
    "                    'gunshot_output': ['accuracy', 'Precision', 'Recall', AUC()],\n",
    "                    'distance_output': ['accuracy', 'Precision', 'Recall', AUC()],\n",
    "                    'direction_output': ['accuracy', 'Precision', 'Recall', AUC()]\n",
    "                    })\n",
    "model.summary()"
   ]
  },
  {
   "cell_type": "code",
   "execution_count": 18,
   "metadata": {},
   "outputs": [
    {
     "data": {
      "text/plain": [
       "(843, 6)"
      ]
     },
     "execution_count": 18,
     "metadata": {},
     "output_type": "execute_result"
    }
   ],
   "source": [
    "y_direction_test.shape"
   ]
  },
  {
   "cell_type": "code",
   "execution_count": 19,
   "metadata": {},
   "outputs": [
    {
     "name": "stdout",
     "output_type": "stream",
     "text": [
      "Epoch 1/150\n",
      "\u001b[1m43/43\u001b[0m \u001b[32m━━━━━━━━━━━━━━━━━━━━\u001b[0m\u001b[37m\u001b[0m \u001b[1m36s\u001b[0m 418ms/step - direction_output_Precision: 0.0000e+00 - direction_output_Recall: 0.0000e+00 - direction_output_accuracy: 0.1923 - direction_output_auc_2: 0.5315 - distance_output_Precision: 0.0000e+00 - distance_output_Recall: 0.0000e+00 - distance_output_accuracy: 0.1919 - distance_output_auc_1: 0.5706 - gunshot_output_Precision: 0.5544 - gunshot_output_Recall: 0.2025 - gunshot_output_accuracy: 0.4756 - gunshot_output_auc: 0.6708 - loss: 4.7521 - val_direction_output_Precision: 0.0000e+00 - val_direction_output_Recall: 0.0000e+00 - val_direction_output_accuracy: 0.2475 - val_direction_output_auc_2: 0.6047 - val_distance_output_Precision: 0.0000e+00 - val_distance_output_Recall: 0.0000e+00 - val_distance_output_accuracy: 0.2254 - val_distance_output_auc_1: 0.6289 - val_gunshot_output_Precision: 0.6822 - val_gunshot_output_Recall: 0.6186 - val_gunshot_output_accuracy: 0.6593 - val_gunshot_output_auc: 0.7966 - val_loss: 4.4877\n",
      "Epoch 2/150\n",
      "\u001b[1m43/43\u001b[0m \u001b[32m━━━━━━━━━━━━━━━━━━━━\u001b[0m\u001b[37m\u001b[0m \u001b[1m15s\u001b[0m 347ms/step - direction_output_Precision: 0.7133 - direction_output_Recall: 0.0225 - direction_output_accuracy: 0.3027 - direction_output_auc_2: 0.6625 - distance_output_Precision: 0.5123 - distance_output_Recall: 0.0189 - distance_output_accuracy: 0.2868 - distance_output_auc_1: 0.6775 - gunshot_output_Precision: 0.6402 - gunshot_output_Recall: 0.5071 - gunshot_output_accuracy: 0.5997 - gunshot_output_auc: 0.7573 - loss: 4.3466 - val_direction_output_Precision: 0.4902 - val_direction_output_Recall: 0.1695 - val_direction_output_accuracy: 0.3475 - val_direction_output_auc_2: 0.7448 - val_distance_output_Precision: 0.4839 - val_distance_output_Recall: 0.1525 - val_distance_output_accuracy: 0.3153 - val_distance_output_auc_1: 0.7371 - val_gunshot_output_Precision: 0.7217 - val_gunshot_output_Recall: 0.7034 - val_gunshot_output_accuracy: 0.7051 - val_gunshot_output_auc: 0.8597 - val_loss: 3.8946\n",
      "Epoch 3/150\n",
      "\u001b[1m43/43\u001b[0m \u001b[32m━━━━━━━━━━━━━━━━━━━━\u001b[0m\u001b[37m\u001b[0m \u001b[1m14s\u001b[0m 334ms/step - direction_output_Precision: 0.7992 - direction_output_Recall: 0.1537 - direction_output_accuracy: 0.3855 - direction_output_auc_2: 0.7724 - distance_output_Precision: 0.8005 - distance_output_Recall: 0.1516 - distance_output_accuracy: 0.3658 - distance_output_auc_1: 0.7654 - gunshot_output_Precision: 0.7403 - gunshot_output_Recall: 0.6390 - gunshot_output_accuracy: 0.7013 - gunshot_output_auc: 0.8485 - loss: 3.7245 - val_direction_output_Precision: 0.4890 - val_direction_output_Recall: 0.1881 - val_direction_output_accuracy: 0.3017 - val_direction_output_auc_2: 0.7416 - val_distance_output_Precision: 0.5023 - val_distance_output_Recall: 0.1881 - val_distance_output_accuracy: 0.3644 - val_distance_output_auc_1: 0.7657 - val_gunshot_output_Precision: 0.7419 - val_gunshot_output_Recall: 0.7017 - val_gunshot_output_accuracy: 0.7288 - val_gunshot_output_auc: 0.8566 - val_loss: 3.9668\n",
      "Epoch 4/150\n",
      "\u001b[1m43/43\u001b[0m \u001b[32m━━━━━━━━━━━━━━━━━━━━\u001b[0m\u001b[37m\u001b[0m \u001b[1m15s\u001b[0m 349ms/step - direction_output_Precision: 0.8166 - direction_output_Recall: 0.2784 - direction_output_accuracy: 0.4879 - direction_output_auc_2: 0.8355 - distance_output_Precision: 0.8367 - distance_output_Recall: 0.2740 - distance_output_accuracy: 0.4745 - distance_output_auc_1: 0.8436 - gunshot_output_Precision: 0.7443 - gunshot_output_Recall: 0.6478 - gunshot_output_accuracy: 0.7125 - gunshot_output_auc: 0.8880 - loss: 3.1638 - val_direction_output_Precision: 0.4212 - val_direction_output_Recall: 0.2085 - val_direction_output_accuracy: 0.3373 - val_direction_output_auc_2: 0.7488 - val_distance_output_Precision: 0.4256 - val_distance_output_Recall: 0.2085 - val_distance_output_accuracy: 0.3508 - val_distance_output_auc_1: 0.7650 - val_gunshot_output_Precision: 0.5775 - val_gunshot_output_Recall: 0.5492 - val_gunshot_output_accuracy: 0.5627 - val_gunshot_output_auc: 0.7763 - val_loss: 4.3529\n",
      "Epoch 5/150\n",
      "\u001b[1m43/43\u001b[0m \u001b[32m━━━━━━━━━━━━━━━━━━━━\u001b[0m\u001b[37m\u001b[0m \u001b[1m14s\u001b[0m 334ms/step - direction_output_Precision: 0.8357 - direction_output_Recall: 0.2805 - direction_output_accuracy: 0.4792 - direction_output_auc_2: 0.8535 - distance_output_Precision: 0.8294 - distance_output_Recall: 0.2961 - distance_output_accuracy: 0.4864 - distance_output_auc_1: 0.8667 - gunshot_output_Precision: 0.8332 - gunshot_output_Recall: 0.7442 - gunshot_output_accuracy: 0.7923 - gunshot_output_auc: 0.9351 - loss: 2.8484 - val_direction_output_Precision: 0.5341 - val_direction_output_Recall: 0.2390 - val_direction_output_accuracy: 0.3712 - val_direction_output_auc_2: 0.7704 - val_distance_output_Precision: 0.5314 - val_distance_output_Recall: 0.2729 - val_distance_output_accuracy: 0.3831 - val_distance_output_auc_1: 0.7873 - val_gunshot_output_Precision: 0.7741 - val_gunshot_output_Recall: 0.7492 - val_gunshot_output_accuracy: 0.7559 - val_gunshot_output_auc: 0.8976 - val_loss: 4.0358\n",
      "Epoch 6/150\n",
      "\u001b[1m43/43\u001b[0m \u001b[32m━━━━━━━━━━━━━━━━━━━━\u001b[0m\u001b[37m\u001b[0m \u001b[1m14s\u001b[0m 333ms/step - direction_output_Precision: 0.8844 - direction_output_Recall: 0.2933 - direction_output_accuracy: 0.5273 - direction_output_auc_2: 0.8673 - distance_output_Precision: 0.8320 - distance_output_Recall: 0.3298 - distance_output_accuracy: 0.5188 - distance_output_auc_1: 0.8800 - gunshot_output_Precision: 0.8436 - gunshot_output_Recall: 0.7813 - gunshot_output_accuracy: 0.8239 - gunshot_output_auc: 0.9522 - loss: 2.6546 - val_direction_output_Precision: 0.5909 - val_direction_output_Recall: 0.2424 - val_direction_output_accuracy: 0.3915 - val_direction_output_auc_2: 0.7968 - val_distance_output_Precision: 0.6039 - val_distance_output_Recall: 0.2610 - val_distance_output_accuracy: 0.4203 - val_distance_output_auc_1: 0.8257 - val_gunshot_output_Precision: 0.7705 - val_gunshot_output_Recall: 0.7339 - val_gunshot_output_accuracy: 0.7559 - val_gunshot_output_auc: 0.9025 - val_loss: 3.5586\n",
      "Epoch 7/150\n",
      "\u001b[1m43/43\u001b[0m \u001b[32m━━━━━━━━━━━━━━━━━━━━\u001b[0m\u001b[37m\u001b[0m \u001b[1m14s\u001b[0m 325ms/step - direction_output_Precision: 0.8870 - direction_output_Recall: 0.2777 - direction_output_accuracy: 0.4813 - direction_output_auc_2: 0.8586 - distance_output_Precision: 0.8504 - distance_output_Recall: 0.3128 - distance_output_accuracy: 0.5263 - distance_output_auc_1: 0.8833 - gunshot_output_Precision: 0.8489 - gunshot_output_Recall: 0.7815 - gunshot_output_accuracy: 0.8321 - gunshot_output_auc: 0.9524 - loss: 2.6835 - val_direction_output_Precision: 0.4715 - val_direction_output_Recall: 0.1966 - val_direction_output_accuracy: 0.3288 - val_direction_output_auc_2: 0.7462 - val_distance_output_Precision: 0.4249 - val_distance_output_Recall: 0.2492 - val_distance_output_accuracy: 0.3525 - val_distance_output_auc_1: 0.7766 - val_gunshot_output_Precision: 0.5833 - val_gunshot_output_Recall: 0.5458 - val_gunshot_output_accuracy: 0.5525 - val_gunshot_output_auc: 0.7927 - val_loss: 4.5751\n",
      "Epoch 8/150\n",
      "\u001b[1m43/43\u001b[0m \u001b[32m━━━━━━━━━━━━━━━━━━━━\u001b[0m\u001b[37m\u001b[0m \u001b[1m14s\u001b[0m 329ms/step - direction_output_Precision: 0.8982 - direction_output_Recall: 0.3167 - direction_output_accuracy: 0.5389 - direction_output_auc_2: 0.8850 - distance_output_Precision: 0.8673 - distance_output_Recall: 0.3726 - distance_output_accuracy: 0.5708 - distance_output_auc_1: 0.9017 - gunshot_output_Precision: 0.8701 - gunshot_output_Recall: 0.8173 - gunshot_output_accuracy: 0.8409 - gunshot_output_auc: 0.9653 - loss: 2.4249 - val_direction_output_Precision: 0.4618 - val_direction_output_Recall: 0.2051 - val_direction_output_accuracy: 0.3237 - val_direction_output_auc_2: 0.7516 - val_distance_output_Precision: 0.4319 - val_distance_output_Recall: 0.2525 - val_distance_output_accuracy: 0.3492 - val_distance_output_auc_1: 0.7777 - val_gunshot_output_Precision: 0.7036 - val_gunshot_output_Recall: 0.6881 - val_gunshot_output_accuracy: 0.6983 - val_gunshot_output_auc: 0.8629 - val_loss: 4.4846\n",
      "Epoch 9/150\n",
      "\u001b[1m43/43\u001b[0m \u001b[32m━━━━━━━━━━━━━━━━━━━━\u001b[0m\u001b[37m\u001b[0m \u001b[1m14s\u001b[0m 326ms/step - direction_output_Precision: 0.8879 - direction_output_Recall: 0.2871 - direction_output_accuracy: 0.5254 - direction_output_auc_2: 0.8772 - distance_output_Precision: 0.8458 - distance_output_Recall: 0.3590 - distance_output_accuracy: 0.5438 - distance_output_auc_1: 0.8967 - gunshot_output_Precision: 0.8641 - gunshot_output_Recall: 0.8388 - gunshot_output_accuracy: 0.8478 - gunshot_output_auc: 0.9678 - loss: 2.4772 - val_direction_output_Precision: 0.5608 - val_direction_output_Recall: 0.2424 - val_direction_output_accuracy: 0.3864 - val_direction_output_auc_2: 0.8008 - val_distance_output_Precision: 0.5593 - val_distance_output_Recall: 0.3119 - val_distance_output_accuracy: 0.4220 - val_distance_output_auc_1: 0.8243 - val_gunshot_output_Precision: 0.7835 - val_gunshot_output_Recall: 0.7729 - val_gunshot_output_accuracy: 0.7780 - val_gunshot_output_auc: 0.9237 - val_loss: 3.6406\n",
      "Epoch 10/150\n",
      "\u001b[1m43/43\u001b[0m \u001b[32m━━━━━━━━━━━━━━━━━━━━\u001b[0m\u001b[37m\u001b[0m \u001b[1m14s\u001b[0m 326ms/step - direction_output_Precision: 0.8458 - direction_output_Recall: 0.3488 - direction_output_accuracy: 0.5567 - direction_output_auc_2: 0.8857 - distance_output_Precision: 0.8083 - distance_output_Recall: 0.4033 - distance_output_accuracy: 0.5885 - distance_output_auc_1: 0.9080 - gunshot_output_Precision: 0.8952 - gunshot_output_Recall: 0.8644 - gunshot_output_accuracy: 0.8830 - gunshot_output_auc: 0.9754 - loss: 2.3627 - val_direction_output_Precision: 0.6846 - val_direction_output_Recall: 0.2797 - val_direction_output_accuracy: 0.4373 - val_direction_output_auc_2: 0.8409 - val_distance_output_Precision: 0.6445 - val_distance_output_Recall: 0.3780 - val_distance_output_accuracy: 0.4814 - val_distance_output_auc_1: 0.8678 - val_gunshot_output_Precision: 0.8211 - val_gunshot_output_Recall: 0.7780 - val_gunshot_output_accuracy: 0.7983 - val_gunshot_output_auc: 0.9459 - val_loss: 2.9670\n",
      "Epoch 11/150\n",
      "\u001b[1m43/43\u001b[0m \u001b[32m━━━━━━━━━━━━━━━━━━━━\u001b[0m\u001b[37m\u001b[0m \u001b[1m14s\u001b[0m 334ms/step - direction_output_Precision: 0.8185 - direction_output_Recall: 0.3449 - direction_output_accuracy: 0.5607 - direction_output_auc_2: 0.8947 - distance_output_Precision: 0.8341 - distance_output_Recall: 0.3961 - distance_output_accuracy: 0.5836 - distance_output_auc_1: 0.9037 - gunshot_output_Precision: 0.8875 - gunshot_output_Recall: 0.8513 - gunshot_output_accuracy: 0.8679 - gunshot_output_auc: 0.9735 - loss: 2.3182 - val_direction_output_Precision: 0.5761 - val_direction_output_Recall: 0.2695 - val_direction_output_accuracy: 0.4051 - val_direction_output_auc_2: 0.8333 - val_distance_output_Precision: 0.6613 - val_distance_output_Recall: 0.3508 - val_distance_output_accuracy: 0.4576 - val_distance_output_auc_1: 0.8657 - val_gunshot_output_Precision: 0.8010 - val_gunshot_output_Recall: 0.7780 - val_gunshot_output_accuracy: 0.7864 - val_gunshot_output_auc: 0.9384 - val_loss: 3.0678\n",
      "Epoch 12/150\n",
      "\u001b[1m43/43\u001b[0m \u001b[32m━━━━━━━━━━━━━━━━━━━━\u001b[0m\u001b[37m\u001b[0m \u001b[1m14s\u001b[0m 325ms/step - direction_output_Precision: 0.8182 - direction_output_Recall: 0.3717 - direction_output_accuracy: 0.5453 - direction_output_auc_2: 0.8977 - distance_output_Precision: 0.8493 - distance_output_Recall: 0.4389 - distance_output_accuracy: 0.6063 - distance_output_auc_1: 0.9187 - gunshot_output_Precision: 0.8921 - gunshot_output_Recall: 0.8685 - gunshot_output_accuracy: 0.8770 - gunshot_output_auc: 0.9766 - loss: 2.2032 - val_direction_output_Precision: 0.5956 - val_direction_output_Recall: 0.2746 - val_direction_output_accuracy: 0.4153 - val_direction_output_auc_2: 0.8312 - val_distance_output_Precision: 0.5789 - val_distance_output_Recall: 0.3356 - val_distance_output_accuracy: 0.4644 - val_distance_output_auc_1: 0.8585 - val_gunshot_output_Precision: 0.7913 - val_gunshot_output_Recall: 0.7712 - val_gunshot_output_accuracy: 0.7814 - val_gunshot_output_auc: 0.9355 - val_loss: 3.1923\n",
      "Epoch 13/150\n",
      "\u001b[1m43/43\u001b[0m \u001b[32m━━━━━━━━━━━━━━━━━━━━\u001b[0m\u001b[37m\u001b[0m \u001b[1m15s\u001b[0m 352ms/step - direction_output_Precision: 0.8717 - direction_output_Recall: 0.3987 - direction_output_accuracy: 0.5799 - direction_output_auc_2: 0.9076 - distance_output_Precision: 0.8444 - distance_output_Recall: 0.4766 - distance_output_accuracy: 0.6272 - distance_output_auc_1: 0.9312 - gunshot_output_Precision: 0.9044 - gunshot_output_Recall: 0.8891 - gunshot_output_accuracy: 0.8957 - gunshot_output_auc: 0.9811 - loss: 2.0662 - val_direction_output_Precision: 0.6306 - val_direction_output_Recall: 0.2864 - val_direction_output_accuracy: 0.4254 - val_direction_output_auc_2: 0.8327 - val_distance_output_Precision: 0.5756 - val_distance_output_Recall: 0.3678 - val_distance_output_accuracy: 0.4305 - val_distance_output_auc_1: 0.8479 - val_gunshot_output_Precision: 0.7907 - val_gunshot_output_Recall: 0.7814 - val_gunshot_output_accuracy: 0.7814 - val_gunshot_output_auc: 0.9271 - val_loss: 3.3859\n",
      "Epoch 14/150\n",
      "\u001b[1m43/43\u001b[0m \u001b[32m━━━━━━━━━━━━━━━━━━━━\u001b[0m\u001b[37m\u001b[0m \u001b[1m14s\u001b[0m 336ms/step - direction_output_Precision: 0.8413 - direction_output_Recall: 0.3810 - direction_output_accuracy: 0.5799 - direction_output_auc_2: 0.9060 - distance_output_Precision: 0.8544 - distance_output_Recall: 0.4777 - distance_output_accuracy: 0.6464 - distance_output_auc_1: 0.9291 - gunshot_output_Precision: 0.8973 - gunshot_output_Recall: 0.8797 - gunshot_output_accuracy: 0.8866 - gunshot_output_auc: 0.9797 - loss: 2.1023 - val_direction_output_Precision: 0.5243 - val_direction_output_Recall: 0.2746 - val_direction_output_accuracy: 0.3932 - val_direction_output_auc_2: 0.8129 - val_distance_output_Precision: 0.4956 - val_distance_output_Recall: 0.3797 - val_distance_output_accuracy: 0.4068 - val_distance_output_auc_1: 0.8422 - val_gunshot_output_Precision: 0.8060 - val_gunshot_output_Recall: 0.7678 - val_gunshot_output_accuracy: 0.7814 - val_gunshot_output_auc: 0.9277 - val_loss: 3.6008\n",
      "Epoch 15/150\n",
      "\u001b[1m43/43\u001b[0m \u001b[32m━━━━━━━━━━━━━━━━━━━━\u001b[0m\u001b[37m\u001b[0m \u001b[1m16s\u001b[0m 364ms/step - direction_output_Precision: 0.8184 - direction_output_Recall: 0.3981 - direction_output_accuracy: 0.5804 - direction_output_auc_2: 0.9110 - distance_output_Precision: 0.8450 - distance_output_Recall: 0.5171 - distance_output_accuracy: 0.6364 - distance_output_auc_1: 0.9333 - gunshot_output_Precision: 0.9207 - gunshot_output_Recall: 0.8996 - gunshot_output_accuracy: 0.9080 - gunshot_output_auc: 0.9840 - loss: 2.0007 - val_direction_output_Precision: 0.5812 - val_direction_output_Recall: 0.3458 - val_direction_output_accuracy: 0.4695 - val_direction_output_auc_2: 0.8474 - val_distance_output_Precision: 0.6959 - val_distance_output_Recall: 0.4305 - val_distance_output_accuracy: 0.5424 - val_distance_output_auc_1: 0.8851 - val_gunshot_output_Precision: 0.8293 - val_gunshot_output_Recall: 0.8153 - val_gunshot_output_accuracy: 0.8237 - val_gunshot_output_auc: 0.9495 - val_loss: 2.9679\n",
      "Epoch 16/150\n",
      "\u001b[1m43/43\u001b[0m \u001b[32m━━━━━━━━━━━━━━━━━━━━\u001b[0m\u001b[37m\u001b[0m \u001b[1m14s\u001b[0m 329ms/step - direction_output_Precision: 0.8246 - direction_output_Recall: 0.4139 - direction_output_accuracy: 0.5729 - direction_output_auc_2: 0.9083 - distance_output_Precision: 0.8637 - distance_output_Recall: 0.5425 - distance_output_accuracy: 0.6784 - distance_output_auc_1: 0.9369 - gunshot_output_Precision: 0.9187 - gunshot_output_Recall: 0.9048 - gunshot_output_accuracy: 0.9145 - gunshot_output_auc: 0.9836 - loss: 1.9983 - val_direction_output_Precision: 0.5906 - val_direction_output_Recall: 0.3424 - val_direction_output_accuracy: 0.4729 - val_direction_output_auc_2: 0.8414 - val_distance_output_Precision: 0.6080 - val_distance_output_Recall: 0.4390 - val_distance_output_accuracy: 0.5407 - val_distance_output_auc_1: 0.8675 - val_gunshot_output_Precision: 0.7917 - val_gunshot_output_Recall: 0.7797 - val_gunshot_output_accuracy: 0.7847 - val_gunshot_output_auc: 0.9312 - val_loss: 3.3090\n",
      "Epoch 17/150\n",
      "\u001b[1m43/43\u001b[0m \u001b[32m━━━━━━━━━━━━━━━━━━━━\u001b[0m\u001b[37m\u001b[0m \u001b[1m14s\u001b[0m 330ms/step - direction_output_Precision: 0.8255 - direction_output_Recall: 0.4367 - direction_output_accuracy: 0.5878 - direction_output_auc_2: 0.9187 - distance_output_Precision: 0.8476 - distance_output_Recall: 0.5322 - distance_output_accuracy: 0.6615 - distance_output_auc_1: 0.9430 - gunshot_output_Precision: 0.9077 - gunshot_output_Recall: 0.8949 - gunshot_output_accuracy: 0.8991 - gunshot_output_auc: 0.9808 - loss: 1.9358 - val_direction_output_Precision: 0.6140 - val_direction_output_Recall: 0.4017 - val_direction_output_accuracy: 0.5203 - val_direction_output_auc_2: 0.8628 - val_distance_output_Precision: 0.6958 - val_distance_output_Recall: 0.5000 - val_distance_output_accuracy: 0.5763 - val_distance_output_auc_1: 0.8985 - val_gunshot_output_Precision: 0.8356 - val_gunshot_output_Recall: 0.8271 - val_gunshot_output_accuracy: 0.8288 - val_gunshot_output_auc: 0.9563 - val_loss: 2.7764\n",
      "Epoch 18/150\n",
      "\u001b[1m43/43\u001b[0m \u001b[32m━━━━━━━━━━━━━━━━━━━━\u001b[0m\u001b[37m\u001b[0m \u001b[1m16s\u001b[0m 364ms/step - direction_output_Precision: 0.8267 - direction_output_Recall: 0.4317 - direction_output_accuracy: 0.5961 - direction_output_auc_2: 0.9158 - distance_output_Precision: 0.8475 - distance_output_Recall: 0.5484 - distance_output_accuracy: 0.6929 - distance_output_auc_1: 0.9469 - gunshot_output_Precision: 0.9256 - gunshot_output_Recall: 0.9127 - gunshot_output_accuracy: 0.9194 - gunshot_output_auc: 0.9860 - loss: 1.8866 - val_direction_output_Precision: 0.6176 - val_direction_output_Recall: 0.3695 - val_direction_output_accuracy: 0.4797 - val_direction_output_auc_2: 0.8672 - val_distance_output_Precision: 0.7112 - val_distance_output_Recall: 0.5051 - val_distance_output_accuracy: 0.5881 - val_distance_output_auc_1: 0.9134 - val_gunshot_output_Precision: 0.8247 - val_gunshot_output_Recall: 0.8136 - val_gunshot_output_accuracy: 0.8169 - val_gunshot_output_auc: 0.9575 - val_loss: 2.6540\n",
      "Epoch 19/150\n",
      "\u001b[1m43/43\u001b[0m \u001b[32m━━━━━━━━━━━━━━━━━━━━\u001b[0m\u001b[37m\u001b[0m \u001b[1m17s\u001b[0m 396ms/step - direction_output_Precision: 0.8274 - direction_output_Recall: 0.4671 - direction_output_accuracy: 0.6451 - direction_output_auc_2: 0.9339 - distance_output_Precision: 0.8479 - distance_output_Recall: 0.5955 - distance_output_accuracy: 0.7150 - distance_output_auc_1: 0.9556 - gunshot_output_Precision: 0.9259 - gunshot_output_Recall: 0.9107 - gunshot_output_accuracy: 0.9137 - gunshot_output_auc: 0.9856 - loss: 1.7315 - val_direction_output_Precision: 0.5547 - val_direction_output_Recall: 0.3525 - val_direction_output_accuracy: 0.4610 - val_direction_output_auc_2: 0.8438 - val_distance_output_Precision: 0.6773 - val_distance_output_Recall: 0.4661 - val_distance_output_accuracy: 0.5831 - val_distance_output_auc_1: 0.8974 - val_gunshot_output_Precision: 0.8269 - val_gunshot_output_Recall: 0.8017 - val_gunshot_output_accuracy: 0.8034 - val_gunshot_output_auc: 0.9432 - val_loss: 3.0152\n",
      "Epoch 20/150\n",
      "\u001b[1m43/43\u001b[0m \u001b[32m━━━━━━━━━━━━━━━━━━━━\u001b[0m\u001b[37m\u001b[0m \u001b[1m14s\u001b[0m 321ms/step - direction_output_Precision: 0.8116 - direction_output_Recall: 0.4757 - direction_output_accuracy: 0.6207 - direction_output_auc_2: 0.9287 - distance_output_Precision: 0.8321 - distance_output_Recall: 0.5870 - distance_output_accuracy: 0.7120 - distance_output_auc_1: 0.9562 - gunshot_output_Precision: 0.9366 - gunshot_output_Recall: 0.9240 - gunshot_output_accuracy: 0.9309 - gunshot_output_auc: 0.9882 - loss: 1.7220 - val_direction_output_Precision: 0.6657 - val_direction_output_Recall: 0.4051 - val_direction_output_accuracy: 0.5153 - val_direction_output_auc_2: 0.8803 - val_distance_output_Precision: 0.7302 - val_distance_output_Recall: 0.5458 - val_distance_output_accuracy: 0.6237 - val_distance_output_auc_1: 0.9147 - val_gunshot_output_Precision: 0.8687 - val_gunshot_output_Recall: 0.8407 - val_gunshot_output_accuracy: 0.8475 - val_gunshot_output_auc: 0.9618 - val_loss: 2.5623\n",
      "Epoch 21/150\n",
      "\u001b[1m43/43\u001b[0m \u001b[32m━━━━━━━━━━━━━━━━━━━━\u001b[0m\u001b[37m\u001b[0m \u001b[1m14s\u001b[0m 317ms/step - direction_output_Precision: 0.7955 - direction_output_Recall: 0.4735 - direction_output_accuracy: 0.6241 - direction_output_auc_2: 0.9284 - distance_output_Precision: 0.8580 - distance_output_Recall: 0.6375 - distance_output_accuracy: 0.7260 - distance_output_auc_1: 0.9620 - gunshot_output_Precision: 0.9243 - gunshot_output_Recall: 0.9100 - gunshot_output_accuracy: 0.9149 - gunshot_output_auc: 0.9857 - loss: 1.7028 - val_direction_output_Precision: 0.7037 - val_direction_output_Recall: 0.4186 - val_direction_output_accuracy: 0.5559 - val_direction_output_auc_2: 0.8974 - val_distance_output_Precision: 0.7864 - val_distance_output_Recall: 0.5678 - val_distance_output_accuracy: 0.6864 - val_distance_output_auc_1: 0.9371 - val_gunshot_output_Precision: 0.8735 - val_gunshot_output_Recall: 0.8542 - val_gunshot_output_accuracy: 0.8627 - val_gunshot_output_auc: 0.9660 - val_loss: 2.2655\n",
      "Epoch 22/150\n",
      "\u001b[1m43/43\u001b[0m \u001b[32m━━━━━━━━━━━━━━━━━━━━\u001b[0m\u001b[37m\u001b[0m \u001b[1m14s\u001b[0m 323ms/step - direction_output_Precision: 0.8126 - direction_output_Recall: 0.4684 - direction_output_accuracy: 0.6152 - direction_output_auc_2: 0.9271 - distance_output_Precision: 0.8218 - distance_output_Recall: 0.6035 - distance_output_accuracy: 0.7170 - distance_output_auc_1: 0.9550 - gunshot_output_Precision: 0.9168 - gunshot_output_Recall: 0.9014 - gunshot_output_accuracy: 0.9102 - gunshot_output_auc: 0.9858 - loss: 1.7713 - val_direction_output_Precision: 0.6326 - val_direction_output_Recall: 0.3881 - val_direction_output_accuracy: 0.5017 - val_direction_output_auc_2: 0.8711 - val_distance_output_Precision: 0.6740 - val_distance_output_Recall: 0.5220 - val_distance_output_accuracy: 0.5949 - val_distance_output_auc_1: 0.9080 - val_gunshot_output_Precision: 0.8103 - val_gunshot_output_Recall: 0.8034 - val_gunshot_output_accuracy: 0.8068 - val_gunshot_output_auc: 0.9444 - val_loss: 2.8056\n",
      "Epoch 23/150\n",
      "\u001b[1m43/43\u001b[0m \u001b[32m━━━━━━━━━━━━━━━━━━━━\u001b[0m\u001b[37m\u001b[0m \u001b[1m14s\u001b[0m 315ms/step - direction_output_Precision: 0.8396 - direction_output_Recall: 0.4933 - direction_output_accuracy: 0.6451 - direction_output_auc_2: 0.9338 - distance_output_Precision: 0.8619 - distance_output_Recall: 0.6248 - distance_output_accuracy: 0.7264 - distance_output_auc_1: 0.9605 - gunshot_output_Precision: 0.9328 - gunshot_output_Recall: 0.9206 - gunshot_output_accuracy: 0.9282 - gunshot_output_auc: 0.9918 - loss: 1.6198 - val_direction_output_Precision: 0.7170 - val_direction_output_Recall: 0.4424 - val_direction_output_accuracy: 0.5356 - val_direction_output_auc_2: 0.8913 - val_distance_output_Precision: 0.7600 - val_distance_output_Recall: 0.5797 - val_distance_output_accuracy: 0.6678 - val_distance_output_auc_1: 0.9365 - val_gunshot_output_Precision: 0.8696 - val_gunshot_output_Recall: 0.8593 - val_gunshot_output_accuracy: 0.8678 - val_gunshot_output_auc: 0.9698 - val_loss: 2.2678\n",
      "Epoch 24/150\n",
      "\u001b[1m43/43\u001b[0m \u001b[32m━━━━━━━━━━━━━━━━━━━━\u001b[0m\u001b[37m\u001b[0m \u001b[1m14s\u001b[0m 321ms/step - direction_output_Precision: 0.8339 - direction_output_Recall: 0.5057 - direction_output_accuracy: 0.6463 - direction_output_auc_2: 0.9357 - distance_output_Precision: 0.8849 - distance_output_Recall: 0.6212 - distance_output_accuracy: 0.7458 - distance_output_auc_1: 0.9655 - gunshot_output_Precision: 0.9571 - gunshot_output_Recall: 0.9441 - gunshot_output_accuracy: 0.9472 - gunshot_output_auc: 0.9944 - loss: 1.5501 - val_direction_output_Precision: 0.5977 - val_direction_output_Recall: 0.3475 - val_direction_output_accuracy: 0.4729 - val_direction_output_auc_2: 0.8455 - val_distance_output_Precision: 0.5944 - val_distance_output_Recall: 0.5017 - val_distance_output_accuracy: 0.5525 - val_distance_output_auc_1: 0.8832 - val_gunshot_output_Precision: 0.8010 - val_gunshot_output_Recall: 0.7915 - val_gunshot_output_accuracy: 0.7915 - val_gunshot_output_auc: 0.9274 - val_loss: 3.3380\n",
      "Epoch 25/150\n",
      "\u001b[1m43/43\u001b[0m \u001b[32m━━━━━━━━━━━━━━━━━━━━\u001b[0m\u001b[37m\u001b[0m \u001b[1m14s\u001b[0m 328ms/step - direction_output_Precision: 0.8234 - direction_output_Recall: 0.4977 - direction_output_accuracy: 0.6391 - direction_output_auc_2: 0.9323 - distance_output_Precision: 0.8243 - distance_output_Recall: 0.6200 - distance_output_accuracy: 0.7270 - distance_output_auc_1: 0.9551 - gunshot_output_Precision: 0.9349 - gunshot_output_Recall: 0.9252 - gunshot_output_accuracy: 0.9313 - gunshot_output_auc: 0.9865 - loss: 1.7288 - val_direction_output_Precision: 0.6376 - val_direction_output_Recall: 0.4085 - val_direction_output_accuracy: 0.5186 - val_direction_output_auc_2: 0.8723 - val_distance_output_Precision: 0.6930 - val_distance_output_Recall: 0.4898 - val_distance_output_accuracy: 0.5898 - val_distance_output_auc_1: 0.9154 - val_gunshot_output_Precision: 0.8512 - val_gunshot_output_Recall: 0.8339 - val_gunshot_output_accuracy: 0.8424 - val_gunshot_output_auc: 0.9571 - val_loss: 2.6584\n",
      "Epoch 26/150\n",
      "\u001b[1m43/43\u001b[0m \u001b[32m━━━━━━━━━━━━━━━━━━━━\u001b[0m\u001b[37m\u001b[0m \u001b[1m14s\u001b[0m 325ms/step - direction_output_Precision: 0.8157 - direction_output_Recall: 0.4904 - direction_output_accuracy: 0.6298 - direction_output_auc_2: 0.9332 - distance_output_Precision: 0.8466 - distance_output_Recall: 0.6333 - distance_output_accuracy: 0.7418 - distance_output_auc_1: 0.9626 - gunshot_output_Precision: 0.9427 - gunshot_output_Recall: 0.9332 - gunshot_output_accuracy: 0.9372 - gunshot_output_auc: 0.9923 - loss: 1.5928 - val_direction_output_Precision: 0.6495 - val_direction_output_Recall: 0.4492 - val_direction_output_accuracy: 0.5356 - val_direction_output_auc_2: 0.8884 - val_distance_output_Precision: 0.7759 - val_distance_output_Recall: 0.5576 - val_distance_output_accuracy: 0.6559 - val_distance_output_auc_1: 0.9371 - val_gunshot_output_Precision: 0.8967 - val_gunshot_output_Recall: 0.8831 - val_gunshot_output_accuracy: 0.8932 - val_gunshot_output_auc: 0.9751 - val_loss: 2.2703\n",
      "Epoch 27/150\n",
      "\u001b[1m43/43\u001b[0m \u001b[32m━━━━━━━━━━━━━━━━━━━━\u001b[0m\u001b[37m\u001b[0m \u001b[1m14s\u001b[0m 322ms/step - direction_output_Precision: 0.8148 - direction_output_Recall: 0.5297 - direction_output_accuracy: 0.6499 - direction_output_auc_2: 0.9406 - distance_output_Precision: 0.8570 - distance_output_Recall: 0.6354 - distance_output_accuracy: 0.7343 - distance_output_auc_1: 0.9649 - gunshot_output_Precision: 0.9536 - gunshot_output_Recall: 0.9477 - gunshot_output_accuracy: 0.9515 - gunshot_output_auc: 0.9941 - loss: 1.5130 - val_direction_output_Precision: 0.7364 - val_direction_output_Recall: 0.4593 - val_direction_output_accuracy: 0.5559 - val_direction_output_auc_2: 0.8982 - val_distance_output_Precision: 0.7829 - val_distance_output_Recall: 0.6051 - val_distance_output_accuracy: 0.6712 - val_distance_output_auc_1: 0.9449 - val_gunshot_output_Precision: 0.8937 - val_gunshot_output_Recall: 0.8831 - val_gunshot_output_accuracy: 0.8847 - val_gunshot_output_auc: 0.9701 - val_loss: 2.1752\n",
      "Epoch 28/150\n",
      "\u001b[1m43/43\u001b[0m \u001b[32m━━━━━━━━━━━━━━━━━━━━\u001b[0m\u001b[37m\u001b[0m \u001b[1m14s\u001b[0m 324ms/step - direction_output_Precision: 0.8460 - direction_output_Recall: 0.5048 - direction_output_accuracy: 0.6556 - direction_output_auc_2: 0.9394 - distance_output_Precision: 0.8702 - distance_output_Recall: 0.6782 - distance_output_accuracy: 0.7509 - distance_output_auc_1: 0.9664 - gunshot_output_Precision: 0.9425 - gunshot_output_Recall: 0.9385 - gunshot_output_accuracy: 0.9398 - gunshot_output_auc: 0.9943 - loss: 1.5168 - val_direction_output_Precision: 0.6771 - val_direction_output_Recall: 0.4051 - val_direction_output_accuracy: 0.5322 - val_direction_output_auc_2: 0.8796 - val_distance_output_Precision: 0.7383 - val_distance_output_Recall: 0.5593 - val_distance_output_accuracy: 0.6390 - val_distance_output_auc_1: 0.9216 - val_gunshot_output_Precision: 0.8382 - val_gunshot_output_Recall: 0.8254 - val_gunshot_output_accuracy: 0.8305 - val_gunshot_output_auc: 0.9487 - val_loss: 2.7615\n",
      "Epoch 29/150\n",
      "\u001b[1m43/43\u001b[0m \u001b[32m━━━━━━━━━━━━━━━━━━━━\u001b[0m\u001b[37m\u001b[0m \u001b[1m14s\u001b[0m 320ms/step - direction_output_Precision: 0.8328 - direction_output_Recall: 0.4973 - direction_output_accuracy: 0.6486 - direction_output_auc_2: 0.9366 - distance_output_Precision: 0.8693 - distance_output_Recall: 0.6631 - distance_output_accuracy: 0.7662 - distance_output_auc_1: 0.9703 - gunshot_output_Precision: 0.9525 - gunshot_output_Recall: 0.9458 - gunshot_output_accuracy: 0.9478 - gunshot_output_auc: 0.9947 - loss: 1.4778 - val_direction_output_Precision: 0.6978 - val_direction_output_Recall: 0.4814 - val_direction_output_accuracy: 0.5678 - val_direction_output_auc_2: 0.8982 - val_distance_output_Precision: 0.7480 - val_distance_output_Recall: 0.6390 - val_distance_output_accuracy: 0.6932 - val_distance_output_auc_1: 0.9437 - val_gunshot_output_Precision: 0.9043 - val_gunshot_output_Recall: 0.8966 - val_gunshot_output_accuracy: 0.9000 - val_gunshot_output_auc: 0.9741 - val_loss: 2.1986\n",
      "Epoch 30/150\n",
      "\u001b[1m43/43\u001b[0m \u001b[32m━━━━━━━━━━━━━━━━━━━━\u001b[0m\u001b[37m\u001b[0m \u001b[1m14s\u001b[0m 327ms/step - direction_output_Precision: 0.8287 - direction_output_Recall: 0.5221 - direction_output_accuracy: 0.6807 - direction_output_auc_2: 0.9448 - distance_output_Precision: 0.8171 - distance_output_Recall: 0.6803 - distance_output_accuracy: 0.7469 - distance_output_auc_1: 0.9656 - gunshot_output_Precision: 0.9560 - gunshot_output_Recall: 0.9475 - gunshot_output_accuracy: 0.9541 - gunshot_output_auc: 0.9932 - loss: 1.4942 - val_direction_output_Precision: 0.6945 - val_direction_output_Recall: 0.4932 - val_direction_output_accuracy: 0.5729 - val_direction_output_auc_2: 0.8985 - val_distance_output_Precision: 0.7748 - val_distance_output_Recall: 0.6475 - val_distance_output_accuracy: 0.7136 - val_distance_output_auc_1: 0.9453 - val_gunshot_output_Precision: 0.8685 - val_gunshot_output_Recall: 0.8508 - val_gunshot_output_accuracy: 0.8576 - val_gunshot_output_auc: 0.9687 - val_loss: 2.2290\n",
      "Epoch 31/150\n",
      "\u001b[1m43/43\u001b[0m \u001b[32m━━━━━━━━━━━━━━━━━━━━\u001b[0m\u001b[37m\u001b[0m \u001b[1m14s\u001b[0m 323ms/step - direction_output_Precision: 0.8103 - direction_output_Recall: 0.5225 - direction_output_accuracy: 0.6544 - direction_output_auc_2: 0.9373 - distance_output_Precision: 0.8488 - distance_output_Recall: 0.6812 - distance_output_accuracy: 0.7660 - distance_output_auc_1: 0.9658 - gunshot_output_Precision: 0.9445 - gunshot_output_Recall: 0.9411 - gunshot_output_accuracy: 0.9424 - gunshot_output_auc: 0.9894 - loss: 1.5578 - val_direction_output_Precision: 0.7709 - val_direction_output_Recall: 0.4847 - val_direction_output_accuracy: 0.6169 - val_direction_output_auc_2: 0.9158 - val_distance_output_Precision: 0.8458 - val_distance_output_Recall: 0.6322 - val_distance_output_accuracy: 0.7356 - val_distance_output_auc_1: 0.9560 - val_gunshot_output_Precision: 0.9282 - val_gunshot_output_Recall: 0.9203 - val_gunshot_output_accuracy: 0.9254 - val_gunshot_output_auc: 0.9783 - val_loss: 1.8874\n",
      "Epoch 32/150\n",
      "\u001b[1m43/43\u001b[0m \u001b[32m━━━━━━━━━━━━━━━━━━━━\u001b[0m\u001b[37m\u001b[0m \u001b[1m14s\u001b[0m 321ms/step - direction_output_Precision: 0.8493 - direction_output_Recall: 0.5185 - direction_output_accuracy: 0.6507 - direction_output_auc_2: 0.9436 - distance_output_Precision: 0.8741 - distance_output_Recall: 0.6695 - distance_output_accuracy: 0.7618 - distance_output_auc_1: 0.9730 - gunshot_output_Precision: 0.9529 - gunshot_output_Recall: 0.9469 - gunshot_output_accuracy: 0.9492 - gunshot_output_auc: 0.9958 - loss: 1.4033 - val_direction_output_Precision: 0.6140 - val_direction_output_Recall: 0.5068 - val_direction_output_accuracy: 0.5593 - val_direction_output_auc_2: 0.8936 - val_distance_output_Precision: 0.7389 - val_distance_output_Recall: 0.6186 - val_distance_output_accuracy: 0.6831 - val_distance_output_auc_1: 0.9423 - val_gunshot_output_Precision: 0.8402 - val_gunshot_output_Recall: 0.8288 - val_gunshot_output_accuracy: 0.8305 - val_gunshot_output_auc: 0.9598 - val_loss: 2.3817\n",
      "Epoch 33/150\n",
      "\u001b[1m43/43\u001b[0m \u001b[32m━━━━━━━━━━━━━━━━━━━━\u001b[0m\u001b[37m\u001b[0m \u001b[1m17s\u001b[0m 391ms/step - direction_output_Precision: 0.8032 - direction_output_Recall: 0.5159 - direction_output_accuracy: 0.6381 - direction_output_auc_2: 0.9370 - distance_output_Precision: 0.8559 - distance_output_Recall: 0.6948 - distance_output_accuracy: 0.7633 - distance_output_auc_1: 0.9721 - gunshot_output_Precision: 0.9495 - gunshot_output_Recall: 0.9459 - gunshot_output_accuracy: 0.9473 - gunshot_output_auc: 0.9923 - loss: 1.4754 - val_direction_output_Precision: 0.6797 - val_direction_output_Recall: 0.4424 - val_direction_output_accuracy: 0.5559 - val_direction_output_auc_2: 0.8865 - val_distance_output_Precision: 0.7783 - val_distance_output_Recall: 0.6068 - val_distance_output_accuracy: 0.7068 - val_distance_output_auc_1: 0.9393 - val_gunshot_output_Precision: 0.8756 - val_gunshot_output_Recall: 0.8712 - val_gunshot_output_accuracy: 0.8712 - val_gunshot_output_auc: 0.9669 - val_loss: 2.3566\n",
      "Epoch 34/150\n",
      "\u001b[1m43/43\u001b[0m \u001b[32m━━━━━━━━━━━━━━━━━━━━\u001b[0m\u001b[37m\u001b[0m \u001b[1m16s\u001b[0m 381ms/step - direction_output_Precision: 0.8435 - direction_output_Recall: 0.5159 - direction_output_accuracy: 0.6565 - direction_output_auc_2: 0.9395 - distance_output_Precision: 0.8690 - distance_output_Recall: 0.6740 - distance_output_accuracy: 0.7712 - distance_output_auc_1: 0.9705 - gunshot_output_Precision: 0.9501 - gunshot_output_Recall: 0.9368 - gunshot_output_accuracy: 0.9433 - gunshot_output_auc: 0.9936 - loss: 1.4803 - val_direction_output_Precision: 0.7042 - val_direction_output_Recall: 0.4881 - val_direction_output_accuracy: 0.5831 - val_direction_output_auc_2: 0.9029 - val_distance_output_Precision: 0.7702 - val_distance_output_Recall: 0.6305 - val_distance_output_accuracy: 0.6949 - val_distance_output_auc_1: 0.9465 - val_gunshot_output_Precision: 0.9026 - val_gunshot_output_Recall: 0.8949 - val_gunshot_output_accuracy: 0.8949 - val_gunshot_output_auc: 0.9752 - val_loss: 2.1236\n",
      "Epoch 35/150\n",
      "\u001b[1m43/43\u001b[0m \u001b[32m━━━━━━━━━━━━━━━━━━━━\u001b[0m\u001b[37m\u001b[0m \u001b[1m15s\u001b[0m 345ms/step - direction_output_Precision: 0.8224 - direction_output_Recall: 0.5555 - direction_output_accuracy: 0.6691 - direction_output_auc_2: 0.9510 - distance_output_Precision: 0.8604 - distance_output_Recall: 0.7012 - distance_output_accuracy: 0.7835 - distance_output_auc_1: 0.9762 - gunshot_output_Precision: 0.9553 - gunshot_output_Recall: 0.9463 - gunshot_output_accuracy: 0.9516 - gunshot_output_auc: 0.9950 - loss: 1.3211 - val_direction_output_Precision: 0.6748 - val_direction_output_Recall: 0.4712 - val_direction_output_accuracy: 0.5678 - val_direction_output_auc_2: 0.8933 - val_distance_output_Precision: 0.7895 - val_distance_output_Recall: 0.6356 - val_distance_output_accuracy: 0.6864 - val_distance_output_auc_1: 0.9396 - val_gunshot_output_Precision: 0.8515 - val_gunshot_output_Recall: 0.8458 - val_gunshot_output_accuracy: 0.8475 - val_gunshot_output_auc: 0.9574 - val_loss: 2.5359\n",
      "Epoch 36/150\n",
      "\u001b[1m43/43\u001b[0m \u001b[32m━━━━━━━━━━━━━━━━━━━━\u001b[0m\u001b[37m\u001b[0m \u001b[1m15s\u001b[0m 343ms/step - direction_output_Precision: 0.8424 - direction_output_Recall: 0.5698 - direction_output_accuracy: 0.6968 - direction_output_auc_2: 0.9497 - distance_output_Precision: 0.8643 - distance_output_Recall: 0.7201 - distance_output_accuracy: 0.7901 - distance_output_auc_1: 0.9767 - gunshot_output_Precision: 0.9681 - gunshot_output_Recall: 0.9667 - gunshot_output_accuracy: 0.9673 - gunshot_output_auc: 0.9965 - loss: 1.2957 - val_direction_output_Precision: 0.7461 - val_direction_output_Recall: 0.4881 - val_direction_output_accuracy: 0.5864 - val_direction_output_auc_2: 0.9116 - val_distance_output_Precision: 0.8702 - val_distance_output_Recall: 0.6932 - val_distance_output_accuracy: 0.7729 - val_distance_output_auc_1: 0.9613 - val_gunshot_output_Precision: 0.9012 - val_gunshot_output_Recall: 0.8966 - val_gunshot_output_accuracy: 0.8983 - val_gunshot_output_auc: 0.9725 - val_loss: 1.9706\n",
      "Epoch 37/150\n",
      "\u001b[1m43/43\u001b[0m \u001b[32m━━━━━━━━━━━━━━━━━━━━\u001b[0m\u001b[37m\u001b[0m \u001b[1m15s\u001b[0m 341ms/step - direction_output_Precision: 0.8368 - direction_output_Recall: 0.5202 - direction_output_accuracy: 0.6832 - direction_output_auc_2: 0.9447 - distance_output_Precision: 0.8530 - distance_output_Recall: 0.6727 - distance_output_accuracy: 0.7539 - distance_output_auc_1: 0.9671 - gunshot_output_Precision: 0.9610 - gunshot_output_Recall: 0.9565 - gunshot_output_accuracy: 0.9586 - gunshot_output_auc: 0.9944 - loss: 1.4544 - val_direction_output_Precision: 0.7064 - val_direction_output_Recall: 0.5017 - val_direction_output_accuracy: 0.5966 - val_direction_output_auc_2: 0.9141 - val_distance_output_Precision: 0.8604 - val_distance_output_Recall: 0.7000 - val_distance_output_accuracy: 0.7678 - val_distance_output_auc_1: 0.9654 - val_gunshot_output_Precision: 0.8916 - val_gunshot_output_Recall: 0.8780 - val_gunshot_output_accuracy: 0.8797 - val_gunshot_output_auc: 0.9750 - val_loss: 1.8862\n",
      "Epoch 38/150\n",
      "\u001b[1m43/43\u001b[0m \u001b[32m━━━━━━━━━━━━━━━━━━━━\u001b[0m\u001b[37m\u001b[0m \u001b[1m15s\u001b[0m 338ms/step - direction_output_Precision: 0.8376 - direction_output_Recall: 0.5763 - direction_output_accuracy: 0.6823 - direction_output_auc_2: 0.9504 - distance_output_Precision: 0.8801 - distance_output_Recall: 0.7276 - distance_output_accuracy: 0.7894 - distance_output_auc_1: 0.9760 - gunshot_output_Precision: 0.9514 - gunshot_output_Recall: 0.9423 - gunshot_output_accuracy: 0.9498 - gunshot_output_auc: 0.9940 - loss: 1.3378 - val_direction_output_Precision: 0.6809 - val_direction_output_Recall: 0.4593 - val_direction_output_accuracy: 0.5441 - val_direction_output_auc_2: 0.8915 - val_distance_output_Precision: 0.8406 - val_distance_output_Recall: 0.6525 - val_distance_output_accuracy: 0.7593 - val_distance_output_auc_1: 0.9482 - val_gunshot_output_Precision: 0.8559 - val_gunshot_output_Recall: 0.8458 - val_gunshot_output_accuracy: 0.8475 - val_gunshot_output_auc: 0.9578 - val_loss: 2.4132\n",
      "Epoch 39/150\n",
      "\u001b[1m43/43\u001b[0m \u001b[32m━━━━━━━━━━━━━━━━━━━━\u001b[0m\u001b[37m\u001b[0m \u001b[1m15s\u001b[0m 341ms/step - direction_output_Precision: 0.8437 - direction_output_Recall: 0.5682 - direction_output_accuracy: 0.7005 - direction_output_auc_2: 0.9538 - distance_output_Precision: 0.8939 - distance_output_Recall: 0.7565 - distance_output_accuracy: 0.8193 - distance_output_auc_1: 0.9807 - gunshot_output_Precision: 0.9708 - gunshot_output_Recall: 0.9655 - gunshot_output_accuracy: 0.9705 - gunshot_output_auc: 0.9967 - loss: 1.2354 - val_direction_output_Precision: 0.6947 - val_direction_output_Recall: 0.5322 - val_direction_output_accuracy: 0.5932 - val_direction_output_auc_2: 0.9080 - val_distance_output_Precision: 0.8012 - val_distance_output_Recall: 0.6831 - val_distance_output_accuracy: 0.7305 - val_distance_output_auc_1: 0.9503 - val_gunshot_output_Precision: 0.9041 - val_gunshot_output_Recall: 0.8949 - val_gunshot_output_accuracy: 0.8983 - val_gunshot_output_auc: 0.9720 - val_loss: 2.1514\n",
      "Epoch 40/150\n",
      "\u001b[1m43/43\u001b[0m \u001b[32m━━━━━━━━━━━━━━━━━━━━\u001b[0m\u001b[37m\u001b[0m \u001b[1m15s\u001b[0m 351ms/step - direction_output_Precision: 0.8565 - direction_output_Recall: 0.5684 - direction_output_accuracy: 0.6992 - direction_output_auc_2: 0.9492 - distance_output_Precision: 0.8910 - distance_output_Recall: 0.7346 - distance_output_accuracy: 0.8148 - distance_output_auc_1: 0.9801 - gunshot_output_Precision: 0.9650 - gunshot_output_Recall: 0.9609 - gunshot_output_accuracy: 0.9629 - gunshot_output_auc: 0.9965 - loss: 1.2800 - val_direction_output_Precision: 0.6916 - val_direction_output_Recall: 0.5017 - val_direction_output_accuracy: 0.5915 - val_direction_output_auc_2: 0.9029 - val_distance_output_Precision: 0.8252 - val_distance_output_Recall: 0.6881 - val_distance_output_accuracy: 0.7424 - val_distance_output_auc_1: 0.9529 - val_gunshot_output_Precision: 0.8995 - val_gunshot_output_Recall: 0.8949 - val_gunshot_output_accuracy: 0.8966 - val_gunshot_output_auc: 0.9704 - val_loss: 2.1492\n",
      "Epoch 41/150\n",
      "\u001b[1m43/43\u001b[0m \u001b[32m━━━━━━━━━━━━━━━━━━━━\u001b[0m\u001b[37m\u001b[0m \u001b[1m15s\u001b[0m 340ms/step - direction_output_Precision: 0.8497 - direction_output_Recall: 0.5740 - direction_output_accuracy: 0.6950 - direction_output_auc_2: 0.9492 - distance_output_Precision: 0.8818 - distance_output_Recall: 0.7469 - distance_output_accuracy: 0.8033 - distance_output_auc_1: 0.9795 - gunshot_output_Precision: 0.9604 - gunshot_output_Recall: 0.9573 - gunshot_output_accuracy: 0.9578 - gunshot_output_auc: 0.9955 - loss: 1.2866 - val_direction_output_Precision: 0.7332 - val_direction_output_Recall: 0.5542 - val_direction_output_accuracy: 0.6305 - val_direction_output_auc_2: 0.9237 - val_distance_output_Precision: 0.8880 - val_distance_output_Recall: 0.7254 - val_distance_output_accuracy: 0.8000 - val_distance_output_auc_1: 0.9665 - val_gunshot_output_Precision: 0.9283 - val_gunshot_output_Recall: 0.9000 - val_gunshot_output_accuracy: 0.9203 - val_gunshot_output_auc: 0.9820 - val_loss: 1.7666\n",
      "Epoch 42/150\n",
      "\u001b[1m43/43\u001b[0m \u001b[32m━━━━━━━━━━━━━━━━━━━━\u001b[0m\u001b[37m\u001b[0m \u001b[1m15s\u001b[0m 344ms/step - direction_output_Precision: 0.8369 - direction_output_Recall: 0.5674 - direction_output_accuracy: 0.6985 - direction_output_auc_2: 0.9520 - distance_output_Precision: 0.8960 - distance_output_Recall: 0.7337 - distance_output_accuracy: 0.8118 - distance_output_auc_1: 0.9792 - gunshot_output_Precision: 0.9675 - gunshot_output_Recall: 0.9603 - gunshot_output_accuracy: 0.9663 - gunshot_output_auc: 0.9971 - loss: 1.2676 - val_direction_output_Precision: 0.7271 - val_direction_output_Recall: 0.5102 - val_direction_output_accuracy: 0.6068 - val_direction_output_auc_2: 0.9191 - val_distance_output_Precision: 0.8589 - val_distance_output_Recall: 0.7119 - val_distance_output_accuracy: 0.7729 - val_distance_output_auc_1: 0.9622 - val_gunshot_output_Precision: 0.9147 - val_gunshot_output_Recall: 0.9085 - val_gunshot_output_accuracy: 0.9119 - val_gunshot_output_auc: 0.9776 - val_loss: 1.9156\n",
      "Epoch 43/150\n",
      "\u001b[1m43/43\u001b[0m \u001b[32m━━━━━━━━━━━━━━━━━━━━\u001b[0m\u001b[37m\u001b[0m \u001b[1m15s\u001b[0m 340ms/step - direction_output_Precision: 0.8453 - direction_output_Recall: 0.5756 - direction_output_accuracy: 0.7042 - direction_output_auc_2: 0.9545 - distance_output_Precision: 0.8810 - distance_output_Recall: 0.7540 - distance_output_accuracy: 0.8005 - distance_output_auc_1: 0.9809 - gunshot_output_Precision: 0.9620 - gunshot_output_Recall: 0.9595 - gunshot_output_accuracy: 0.9605 - gunshot_output_auc: 0.9974 - loss: 1.2011 - val_direction_output_Precision: 0.6864 - val_direction_output_Recall: 0.4712 - val_direction_output_accuracy: 0.5695 - val_direction_output_auc_2: 0.8932 - val_distance_output_Precision: 0.7900 - val_distance_output_Recall: 0.6695 - val_distance_output_accuracy: 0.7322 - val_distance_output_auc_1: 0.9437 - val_gunshot_output_Precision: 0.8769 - val_gunshot_output_Recall: 0.8695 - val_gunshot_output_accuracy: 0.8712 - val_gunshot_output_auc: 0.9577 - val_loss: 2.4696\n",
      "Epoch 44/150\n",
      "\u001b[1m43/43\u001b[0m \u001b[32m━━━━━━━━━━━━━━━━━━━━\u001b[0m\u001b[37m\u001b[0m \u001b[1m20s\u001b[0m 317ms/step - direction_output_Precision: 0.8572 - direction_output_Recall: 0.5685 - direction_output_accuracy: 0.6865 - direction_output_auc_2: 0.9509 - distance_output_Precision: 0.8430 - distance_output_Recall: 0.7361 - distance_output_accuracy: 0.7741 - distance_output_auc_1: 0.9753 - gunshot_output_Precision: 0.9533 - gunshot_output_Recall: 0.9494 - gunshot_output_accuracy: 0.9516 - gunshot_output_auc: 0.9936 - loss: 1.3311 - val_direction_output_Precision: 0.7667 - val_direction_output_Recall: 0.5458 - val_direction_output_accuracy: 0.6254 - val_direction_output_auc_2: 0.9194 - val_distance_output_Precision: 0.8651 - val_distance_output_Recall: 0.7068 - val_distance_output_accuracy: 0.7847 - val_distance_output_auc_1: 0.9659 - val_gunshot_output_Precision: 0.9365 - val_gunshot_output_Recall: 0.9254 - val_gunshot_output_accuracy: 0.9322 - val_gunshot_output_auc: 0.9773 - val_loss: 1.8375\n",
      "Epoch 45/150\n",
      "\u001b[1m43/43\u001b[0m \u001b[32m━━━━━━━━━━━━━━━━━━━━\u001b[0m\u001b[37m\u001b[0m \u001b[1m15s\u001b[0m 343ms/step - direction_output_Precision: 0.8288 - direction_output_Recall: 0.5703 - direction_output_accuracy: 0.6957 - direction_output_auc_2: 0.9524 - distance_output_Precision: 0.8717 - distance_output_Recall: 0.7596 - distance_output_accuracy: 0.8071 - distance_output_auc_1: 0.9791 - gunshot_output_Precision: 0.9473 - gunshot_output_Recall: 0.9436 - gunshot_output_accuracy: 0.9466 - gunshot_output_auc: 0.9936 - loss: 1.2894 - val_direction_output_Precision: 0.7249 - val_direction_output_Recall: 0.5136 - val_direction_output_accuracy: 0.6102 - val_direction_output_auc_2: 0.9083 - val_distance_output_Precision: 0.8601 - val_distance_output_Recall: 0.7085 - val_distance_output_accuracy: 0.7712 - val_distance_output_auc_1: 0.9578 - val_gunshot_output_Precision: 0.9072 - val_gunshot_output_Recall: 0.8949 - val_gunshot_output_accuracy: 0.9034 - val_gunshot_output_auc: 0.9690 - val_loss: 2.0567\n",
      "Epoch 46/150\n",
      "\u001b[1m43/43\u001b[0m \u001b[32m━━━━━━━━━━━━━━━━━━━━\u001b[0m\u001b[37m\u001b[0m \u001b[1m18s\u001b[0m 420ms/step - direction_output_Precision: 0.8318 - direction_output_Recall: 0.5745 - direction_output_accuracy: 0.7093 - direction_output_auc_2: 0.9531 - distance_output_Precision: 0.8590 - distance_output_Recall: 0.7359 - distance_output_accuracy: 0.7854 - distance_output_auc_1: 0.9770 - gunshot_output_Precision: 0.9577 - gunshot_output_Recall: 0.9542 - gunshot_output_accuracy: 0.9556 - gunshot_output_auc: 0.9959 - loss: 1.2868 - val_direction_output_Precision: 0.7553 - val_direction_output_Recall: 0.5390 - val_direction_output_accuracy: 0.6237 - val_direction_output_auc_2: 0.9152 - val_distance_output_Precision: 0.8790 - val_distance_output_Recall: 0.7017 - val_distance_output_accuracy: 0.7661 - val_distance_output_auc_1: 0.9600 - val_gunshot_output_Precision: 0.9229 - val_gunshot_output_Recall: 0.9136 - val_gunshot_output_accuracy: 0.9220 - val_gunshot_output_auc: 0.9803 - val_loss: 1.8871\n",
      "Epoch 47/150\n",
      "\u001b[1m43/43\u001b[0m \u001b[32m━━━━━━━━━━━━━━━━━━━━\u001b[0m\u001b[37m\u001b[0m \u001b[1m14s\u001b[0m 316ms/step - direction_output_Precision: 0.8489 - direction_output_Recall: 0.5930 - direction_output_accuracy: 0.7033 - direction_output_auc_2: 0.9525 - distance_output_Precision: 0.8948 - distance_output_Recall: 0.7777 - distance_output_accuracy: 0.8263 - distance_output_auc_1: 0.9829 - gunshot_output_Precision: 0.9719 - gunshot_output_Recall: 0.9678 - gunshot_output_accuracy: 0.9687 - gunshot_output_auc: 0.9974 - loss: 1.1869 - val_direction_output_Precision: 0.7067 - val_direction_output_Recall: 0.5390 - val_direction_output_accuracy: 0.6000 - val_direction_output_auc_2: 0.9078 - val_distance_output_Precision: 0.8545 - val_distance_output_Recall: 0.6966 - val_distance_output_accuracy: 0.7627 - val_distance_output_auc_1: 0.9609 - val_gunshot_output_Precision: 0.9024 - val_gunshot_output_Recall: 0.8932 - val_gunshot_output_accuracy: 0.8949 - val_gunshot_output_auc: 0.9741 - val_loss: 2.0476\n",
      "Epoch 48/150\n",
      "\u001b[1m43/43\u001b[0m \u001b[32m━━━━━━━━━━━━━━━━━━━━\u001b[0m\u001b[37m\u001b[0m \u001b[1m14s\u001b[0m 315ms/step - direction_output_Precision: 0.8244 - direction_output_Recall: 0.5646 - direction_output_accuracy: 0.6973 - direction_output_auc_2: 0.9543 - distance_output_Precision: 0.8801 - distance_output_Recall: 0.7815 - distance_output_accuracy: 0.8306 - distance_output_auc_1: 0.9862 - gunshot_output_Precision: 0.9626 - gunshot_output_Recall: 0.9575 - gunshot_output_accuracy: 0.9583 - gunshot_output_auc: 0.9956 - loss: 1.1611 - val_direction_output_Precision: 0.7620 - val_direction_output_Recall: 0.5373 - val_direction_output_accuracy: 0.6136 - val_direction_output_auc_2: 0.9185 - val_distance_output_Precision: 0.8605 - val_distance_output_Recall: 0.6898 - val_distance_output_accuracy: 0.7559 - val_distance_output_auc_1: 0.9590 - val_gunshot_output_Precision: 0.9181 - val_gunshot_output_Recall: 0.9119 - val_gunshot_output_accuracy: 0.9136 - val_gunshot_output_auc: 0.9735 - val_loss: 1.9627\n",
      "Epoch 49/150\n",
      "\u001b[1m43/43\u001b[0m \u001b[32m━━━━━━━━━━━━━━━━━━━━\u001b[0m\u001b[37m\u001b[0m \u001b[1m13s\u001b[0m 306ms/step - direction_output_Precision: 0.8481 - direction_output_Recall: 0.5596 - direction_output_accuracy: 0.6811 - direction_output_auc_2: 0.9533 - distance_output_Precision: 0.9022 - distance_output_Recall: 0.7634 - distance_output_accuracy: 0.8295 - distance_output_auc_1: 0.9848 - gunshot_output_Precision: 0.9659 - gunshot_output_Recall: 0.9634 - gunshot_output_accuracy: 0.9653 - gunshot_output_auc: 0.9953 - loss: 1.1804 - val_direction_output_Precision: 0.7512 - val_direction_output_Recall: 0.5424 - val_direction_output_accuracy: 0.6525 - val_direction_output_auc_2: 0.9265 - val_distance_output_Precision: 0.8460 - val_distance_output_Recall: 0.6983 - val_distance_output_accuracy: 0.7678 - val_distance_output_auc_1: 0.9650 - val_gunshot_output_Precision: 0.9247 - val_gunshot_output_Recall: 0.9153 - val_gunshot_output_accuracy: 0.9220 - val_gunshot_output_auc: 0.9845 - val_loss: 1.7579\n",
      "Epoch 50/150\n",
      "\u001b[1m43/43\u001b[0m \u001b[32m━━━━━━━━━━━━━━━━━━━━\u001b[0m\u001b[37m\u001b[0m \u001b[1m14s\u001b[0m 317ms/step - direction_output_Precision: 0.8003 - direction_output_Recall: 0.5814 - direction_output_accuracy: 0.7069 - direction_output_auc_2: 0.9560 - distance_output_Precision: 0.8958 - distance_output_Recall: 0.8109 - distance_output_accuracy: 0.8525 - distance_output_auc_1: 0.9861 - gunshot_output_Precision: 0.9701 - gunshot_output_Recall: 0.9630 - gunshot_output_accuracy: 0.9676 - gunshot_output_auc: 0.9969 - loss: 1.1276 - val_direction_output_Precision: 0.7483 - val_direction_output_Recall: 0.5644 - val_direction_output_accuracy: 0.6305 - val_direction_output_auc_2: 0.9234 - val_distance_output_Precision: 0.8571 - val_distance_output_Recall: 0.7017 - val_distance_output_accuracy: 0.7678 - val_distance_output_auc_1: 0.9616 - val_gunshot_output_Precision: 0.9334 - val_gunshot_output_Recall: 0.9271 - val_gunshot_output_accuracy: 0.9305 - val_gunshot_output_auc: 0.9795 - val_loss: 1.8567\n",
      "Epoch 51/150\n",
      "\u001b[1m43/43\u001b[0m \u001b[32m━━━━━━━━━━━━━━━━━━━━\u001b[0m\u001b[37m\u001b[0m \u001b[1m13s\u001b[0m 309ms/step - direction_output_Precision: 0.8069 - direction_output_Recall: 0.5695 - direction_output_accuracy: 0.6849 - direction_output_auc_2: 0.9523 - distance_output_Precision: 0.8652 - distance_output_Recall: 0.7478 - distance_output_accuracy: 0.7923 - distance_output_auc_1: 0.9788 - gunshot_output_Precision: 0.9723 - gunshot_output_Recall: 0.9702 - gunshot_output_accuracy: 0.9711 - gunshot_output_auc: 0.9978 - loss: 1.2438 - val_direction_output_Precision: 0.7516 - val_direction_output_Recall: 0.5797 - val_direction_output_accuracy: 0.6254 - val_direction_output_auc_2: 0.9235 - val_distance_output_Precision: 0.8515 - val_distance_output_Recall: 0.7000 - val_distance_output_accuracy: 0.7492 - val_distance_output_auc_1: 0.9617 - val_gunshot_output_Precision: 0.9232 - val_gunshot_output_Recall: 0.9169 - val_gunshot_output_accuracy: 0.9169 - val_gunshot_output_auc: 0.9820 - val_loss: 1.8754\n",
      "Epoch 52/150\n",
      "\u001b[1m43/43\u001b[0m \u001b[32m━━━━━━━━━━━━━━━━━━━━\u001b[0m\u001b[37m\u001b[0m \u001b[1m13s\u001b[0m 310ms/step - direction_output_Precision: 0.8720 - direction_output_Recall: 0.6136 - direction_output_accuracy: 0.7225 - direction_output_auc_2: 0.9615 - distance_output_Precision: 0.8853 - distance_output_Recall: 0.7901 - distance_output_accuracy: 0.8393 - distance_output_auc_1: 0.9851 - gunshot_output_Precision: 0.9733 - gunshot_output_Recall: 0.9679 - gunshot_output_accuracy: 0.9732 - gunshot_output_auc: 0.9973 - loss: 1.0779 - val_direction_output_Precision: 0.7324 - val_direction_output_Recall: 0.5475 - val_direction_output_accuracy: 0.6169 - val_direction_output_auc_2: 0.9174 - val_distance_output_Precision: 0.8894 - val_distance_output_Recall: 0.7085 - val_distance_output_accuracy: 0.7763 - val_distance_output_auc_1: 0.9627 - val_gunshot_output_Precision: 0.9110 - val_gunshot_output_Recall: 0.9017 - val_gunshot_output_accuracy: 0.9068 - val_gunshot_output_auc: 0.9766 - val_loss: 1.9061\n",
      "Epoch 53/150\n",
      "\u001b[1m43/43\u001b[0m \u001b[32m━━━━━━━━━━━━━━━━━━━━\u001b[0m\u001b[37m\u001b[0m \u001b[1m13s\u001b[0m 311ms/step - direction_output_Precision: 0.8454 - direction_output_Recall: 0.5747 - direction_output_accuracy: 0.7038 - direction_output_auc_2: 0.9571 - distance_output_Precision: 0.8691 - distance_output_Recall: 0.7672 - distance_output_accuracy: 0.8144 - distance_output_auc_1: 0.9786 - gunshot_output_Precision: 0.9701 - gunshot_output_Recall: 0.9697 - gunshot_output_accuracy: 0.9698 - gunshot_output_auc: 0.9970 - loss: 1.1926 - val_direction_output_Precision: 0.7285 - val_direction_output_Recall: 0.5593 - val_direction_output_accuracy: 0.6407 - val_direction_output_auc_2: 0.9256 - val_distance_output_Precision: 0.8574 - val_distance_output_Recall: 0.7136 - val_distance_output_accuracy: 0.7831 - val_distance_output_auc_1: 0.9661 - val_gunshot_output_Precision: 0.9266 - val_gunshot_output_Recall: 0.9203 - val_gunshot_output_accuracy: 0.9237 - val_gunshot_output_auc: 0.9820 - val_loss: 1.7835\n",
      "Epoch 54/150\n",
      "\u001b[1m43/43\u001b[0m \u001b[32m━━━━━━━━━━━━━━━━━━━━\u001b[0m\u001b[37m\u001b[0m \u001b[1m14s\u001b[0m 321ms/step - direction_output_Precision: 0.8582 - direction_output_Recall: 0.6034 - direction_output_accuracy: 0.7056 - direction_output_auc_2: 0.9612 - distance_output_Precision: 0.9030 - distance_output_Recall: 0.8032 - distance_output_accuracy: 0.8495 - distance_output_auc_1: 0.9854 - gunshot_output_Precision: 0.9703 - gunshot_output_Recall: 0.9676 - gunshot_output_accuracy: 0.9686 - gunshot_output_auc: 0.9983 - loss: 1.0733 - val_direction_output_Precision: 0.7083 - val_direction_output_Recall: 0.5475 - val_direction_output_accuracy: 0.6136 - val_direction_output_auc_2: 0.9128 - val_distance_output_Precision: 0.8431 - val_distance_output_Recall: 0.7102 - val_distance_output_accuracy: 0.7576 - val_distance_output_auc_1: 0.9590 - val_gunshot_output_Precision: 0.9199 - val_gunshot_output_Recall: 0.9153 - val_gunshot_output_accuracy: 0.9203 - val_gunshot_output_auc: 0.9746 - val_loss: 2.0342\n",
      "Epoch 55/150\n",
      "\u001b[1m43/43\u001b[0m \u001b[32m━━━━━━━━━━━━━━━━━━━━\u001b[0m\u001b[37m\u001b[0m \u001b[1m14s\u001b[0m 317ms/step - direction_output_Precision: 0.8523 - direction_output_Recall: 0.6121 - direction_output_accuracy: 0.7238 - direction_output_auc_2: 0.9596 - distance_output_Precision: 0.8826 - distance_output_Recall: 0.7793 - distance_output_accuracy: 0.8233 - distance_output_auc_1: 0.9849 - gunshot_output_Precision: 0.9757 - gunshot_output_Recall: 0.9732 - gunshot_output_accuracy: 0.9732 - gunshot_output_auc: 0.9988 - loss: 1.0901 - val_direction_output_Precision: 0.7494 - val_direction_output_Recall: 0.5119 - val_direction_output_accuracy: 0.6136 - val_direction_output_auc_2: 0.9194 - val_distance_output_Precision: 0.8512 - val_distance_output_Recall: 0.7271 - val_distance_output_accuracy: 0.7966 - val_distance_output_auc_1: 0.9594 - val_gunshot_output_Precision: 0.9184 - val_gunshot_output_Recall: 0.9153 - val_gunshot_output_accuracy: 0.9153 - val_gunshot_output_auc: 0.9762 - val_loss: 1.9959\n",
      "Epoch 56/150\n",
      "\u001b[1m43/43\u001b[0m \u001b[32m━━━━━━━━━━━━━━━━━━━━\u001b[0m\u001b[37m\u001b[0m \u001b[1m14s\u001b[0m 318ms/step - direction_output_Precision: 0.8515 - direction_output_Recall: 0.5923 - direction_output_accuracy: 0.7038 - direction_output_auc_2: 0.9563 - distance_output_Precision: 0.8722 - distance_output_Recall: 0.7842 - distance_output_accuracy: 0.8178 - distance_output_auc_1: 0.9840 - gunshot_output_Precision: 0.9747 - gunshot_output_Recall: 0.9744 - gunshot_output_accuracy: 0.9747 - gunshot_output_auc: 0.9984 - loss: 1.1238 - val_direction_output_Precision: 0.7543 - val_direction_output_Recall: 0.5983 - val_direction_output_accuracy: 0.6559 - val_direction_output_auc_2: 0.9332 - val_distance_output_Precision: 0.8745 - val_distance_output_Recall: 0.7322 - val_distance_output_accuracy: 0.8068 - val_distance_output_auc_1: 0.9703 - val_gunshot_output_Precision: 0.9508 - val_gunshot_output_Recall: 0.9492 - val_gunshot_output_accuracy: 0.9492 - val_gunshot_output_auc: 0.9882 - val_loss: 1.5625\n",
      "Epoch 57/150\n",
      "\u001b[1m43/43\u001b[0m \u001b[32m━━━━━━━━━━━━━━━━━━━━\u001b[0m\u001b[37m\u001b[0m \u001b[1m13s\u001b[0m 314ms/step - direction_output_Precision: 0.8356 - direction_output_Recall: 0.6138 - direction_output_accuracy: 0.7059 - direction_output_auc_2: 0.9613 - distance_output_Precision: 0.8782 - distance_output_Recall: 0.7977 - distance_output_accuracy: 0.8358 - distance_output_auc_1: 0.9854 - gunshot_output_Precision: 0.9667 - gunshot_output_Recall: 0.9656 - gunshot_output_accuracy: 0.9664 - gunshot_output_auc: 0.9962 - loss: 1.0844 - val_direction_output_Precision: 0.7431 - val_direction_output_Recall: 0.5492 - val_direction_output_accuracy: 0.6186 - val_direction_output_auc_2: 0.9249 - val_distance_output_Precision: 0.8438 - val_distance_output_Recall: 0.7051 - val_distance_output_accuracy: 0.7678 - val_distance_output_auc_1: 0.9651 - val_gunshot_output_Precision: 0.9269 - val_gunshot_output_Recall: 0.9237 - val_gunshot_output_accuracy: 0.9254 - val_gunshot_output_auc: 0.9822 - val_loss: 1.8167\n",
      "Epoch 58/150\n",
      "\u001b[1m43/43\u001b[0m \u001b[32m━━━━━━━━━━━━━━━━━━━━\u001b[0m\u001b[37m\u001b[0m \u001b[1m13s\u001b[0m 314ms/step - direction_output_Precision: 0.8421 - direction_output_Recall: 0.5989 - direction_output_accuracy: 0.7143 - direction_output_auc_2: 0.9530 - distance_output_Precision: 0.8936 - distance_output_Recall: 0.7821 - distance_output_accuracy: 0.8225 - distance_output_auc_1: 0.9848 - gunshot_output_Precision: 0.9710 - gunshot_output_Recall: 0.9684 - gunshot_output_accuracy: 0.9698 - gunshot_output_auc: 0.9967 - loss: 1.1591 - val_direction_output_Precision: 0.7357 - val_direction_output_Recall: 0.5661 - val_direction_output_accuracy: 0.6390 - val_direction_output_auc_2: 0.9274 - val_distance_output_Precision: 0.8683 - val_distance_output_Recall: 0.7153 - val_distance_output_accuracy: 0.7797 - val_distance_output_auc_1: 0.9660 - val_gunshot_output_Precision: 0.9283 - val_gunshot_output_Recall: 0.9220 - val_gunshot_output_accuracy: 0.9271 - val_gunshot_output_auc: 0.9813 - val_loss: 1.7741\n",
      "Epoch 59/150\n",
      "\u001b[1m43/43\u001b[0m \u001b[32m━━━━━━━━━━━━━━━━━━━━\u001b[0m\u001b[37m\u001b[0m \u001b[1m14s\u001b[0m 321ms/step - direction_output_Precision: 0.8351 - direction_output_Recall: 0.5741 - direction_output_accuracy: 0.6844 - direction_output_auc_2: 0.9546 - distance_output_Precision: 0.8783 - distance_output_Recall: 0.7703 - distance_output_accuracy: 0.8225 - distance_output_auc_1: 0.9845 - gunshot_output_Precision: 0.9716 - gunshot_output_Recall: 0.9696 - gunshot_output_accuracy: 0.9699 - gunshot_output_auc: 0.9981 - loss: 1.1424 - val_direction_output_Precision: 0.7703 - val_direction_output_Recall: 0.5797 - val_direction_output_accuracy: 0.6644 - val_direction_output_auc_2: 0.9400 - val_distance_output_Precision: 0.8941 - val_distance_output_Recall: 0.8017 - val_distance_output_accuracy: 0.8339 - val_distance_output_auc_1: 0.9783 - val_gunshot_output_Precision: 0.9404 - val_gunshot_output_Recall: 0.9356 - val_gunshot_output_accuracy: 0.9373 - val_gunshot_output_auc: 0.9873 - val_loss: 1.4880\n",
      "Epoch 60/150\n",
      "\u001b[1m43/43\u001b[0m \u001b[32m━━━━━━━━━━━━━━━━━━━━\u001b[0m\u001b[37m\u001b[0m \u001b[1m16s\u001b[0m 370ms/step - direction_output_Precision: 0.8269 - direction_output_Recall: 0.5950 - direction_output_accuracy: 0.7079 - direction_output_auc_2: 0.9570 - distance_output_Precision: 0.8934 - distance_output_Recall: 0.8130 - distance_output_accuracy: 0.8447 - distance_output_auc_1: 0.9885 - gunshot_output_Precision: 0.9736 - gunshot_output_Recall: 0.9734 - gunshot_output_accuracy: 0.9734 - gunshot_output_auc: 0.9978 - loss: 1.0702 - val_direction_output_Precision: 0.7595 - val_direction_output_Recall: 0.5780 - val_direction_output_accuracy: 0.6576 - val_direction_output_auc_2: 0.9347 - val_distance_output_Precision: 0.8760 - val_distance_output_Recall: 0.7424 - val_distance_output_accuracy: 0.8017 - val_distance_output_auc_1: 0.9719 - val_gunshot_output_Precision: 0.9352 - val_gunshot_output_Recall: 0.9288 - val_gunshot_output_accuracy: 0.9322 - val_gunshot_output_auc: 0.9836 - val_loss: 1.6084\n",
      "Epoch 61/150\n",
      "\u001b[1m43/43\u001b[0m \u001b[32m━━━━━━━━━━━━━━━━━━━━\u001b[0m\u001b[37m\u001b[0m \u001b[1m15s\u001b[0m 353ms/step - direction_output_Precision: 0.8614 - direction_output_Recall: 0.6192 - direction_output_accuracy: 0.7231 - direction_output_auc_2: 0.9620 - distance_output_Precision: 0.8884 - distance_output_Recall: 0.7977 - distance_output_accuracy: 0.8347 - distance_output_auc_1: 0.9859 - gunshot_output_Precision: 0.9809 - gunshot_output_Recall: 0.9765 - gunshot_output_accuracy: 0.9776 - gunshot_output_auc: 0.9987 - loss: 1.0427 - val_direction_output_Precision: 0.7355 - val_direction_output_Recall: 0.5797 - val_direction_output_accuracy: 0.6407 - val_direction_output_auc_2: 0.9264 - val_distance_output_Precision: 0.8859 - val_distance_output_Recall: 0.7237 - val_distance_output_accuracy: 0.7932 - val_distance_output_auc_1: 0.9683 - val_gunshot_output_Precision: 0.9300 - val_gunshot_output_Recall: 0.9237 - val_gunshot_output_accuracy: 0.9254 - val_gunshot_output_auc: 0.9822 - val_loss: 1.7761\n",
      "Epoch 62/150\n",
      "\u001b[1m43/43\u001b[0m \u001b[32m━━━━━━━━━━━━━━━━━━━━\u001b[0m\u001b[37m\u001b[0m \u001b[1m20s\u001b[0m 333ms/step - direction_output_Precision: 0.8429 - direction_output_Recall: 0.6081 - direction_output_accuracy: 0.7259 - direction_output_auc_2: 0.9588 - distance_output_Precision: 0.9083 - distance_output_Recall: 0.8217 - distance_output_accuracy: 0.8689 - distance_output_auc_1: 0.9889 - gunshot_output_Precision: 0.9730 - gunshot_output_Recall: 0.9686 - gunshot_output_accuracy: 0.9693 - gunshot_output_auc: 0.9978 - loss: 1.0483 - val_direction_output_Precision: 0.7721 - val_direction_output_Recall: 0.5627 - val_direction_output_accuracy: 0.6559 - val_direction_output_auc_2: 0.9378 - val_distance_output_Precision: 0.8786 - val_distance_output_Recall: 0.7729 - val_distance_output_accuracy: 0.8153 - val_distance_output_auc_1: 0.9749 - val_gunshot_output_Precision: 0.9271 - val_gunshot_output_Recall: 0.9271 - val_gunshot_output_accuracy: 0.9271 - val_gunshot_output_auc: 0.9836 - val_loss: 1.5706\n",
      "Epoch 63/150\n",
      "\u001b[1m43/43\u001b[0m \u001b[32m━━━━━━━━━━━━━━━━━━━━\u001b[0m\u001b[37m\u001b[0m \u001b[1m15s\u001b[0m 357ms/step - direction_output_Precision: 0.8625 - direction_output_Recall: 0.6578 - direction_output_accuracy: 0.7523 - direction_output_auc_2: 0.9655 - distance_output_Precision: 0.9012 - distance_output_Recall: 0.8271 - distance_output_accuracy: 0.8616 - distance_output_auc_1: 0.9903 - gunshot_output_Precision: 0.9661 - gunshot_output_Recall: 0.9640 - gunshot_output_accuracy: 0.9652 - gunshot_output_auc: 0.9979 - loss: 0.9715 - val_direction_output_Precision: 0.7511 - val_direction_output_Recall: 0.5627 - val_direction_output_accuracy: 0.6441 - val_direction_output_auc_2: 0.9335 - val_distance_output_Precision: 0.9249 - val_distance_output_Recall: 0.7932 - val_distance_output_accuracy: 0.8441 - val_distance_output_auc_1: 0.9784 - val_gunshot_output_Precision: 0.9319 - val_gunshot_output_Recall: 0.9271 - val_gunshot_output_accuracy: 0.9288 - val_gunshot_output_auc: 0.9836 - val_loss: 1.5788\n",
      "Epoch 64/150\n",
      "\u001b[1m43/43\u001b[0m \u001b[32m━━━━━━━━━━━━━━━━━━━━\u001b[0m\u001b[37m\u001b[0m \u001b[1m15s\u001b[0m 343ms/step - direction_output_Precision: 0.8628 - direction_output_Recall: 0.6687 - direction_output_accuracy: 0.7451 - direction_output_auc_2: 0.9677 - distance_output_Precision: 0.8842 - distance_output_Recall: 0.8295 - distance_output_accuracy: 0.8589 - distance_output_auc_1: 0.9878 - gunshot_output_Precision: 0.9695 - gunshot_output_Recall: 0.9683 - gunshot_output_accuracy: 0.9696 - gunshot_output_auc: 0.9973 - loss: 0.9914 - val_direction_output_Precision: 0.7215 - val_direction_output_Recall: 0.5576 - val_direction_output_accuracy: 0.6186 - val_direction_output_auc_2: 0.9263 - val_distance_output_Precision: 0.9032 - val_distance_output_Recall: 0.7593 - val_distance_output_accuracy: 0.8153 - val_distance_output_auc_1: 0.9704 - val_gunshot_output_Precision: 0.9283 - val_gunshot_output_Recall: 0.9220 - val_gunshot_output_accuracy: 0.9237 - val_gunshot_output_auc: 0.9793 - val_loss: 1.7647\n",
      "Epoch 65/150\n",
      "\u001b[1m43/43\u001b[0m \u001b[32m━━━━━━━━━━━━━━━━━━━━\u001b[0m\u001b[37m\u001b[0m \u001b[1m15s\u001b[0m 357ms/step - direction_output_Precision: 0.8441 - direction_output_Recall: 0.6348 - direction_output_accuracy: 0.7222 - direction_output_auc_2: 0.9622 - distance_output_Precision: 0.8873 - distance_output_Recall: 0.7975 - distance_output_accuracy: 0.8475 - distance_output_auc_1: 0.9854 - gunshot_output_Precision: 0.9747 - gunshot_output_Recall: 0.9743 - gunshot_output_accuracy: 0.9743 - gunshot_output_auc: 0.9976 - loss: 1.0640 - val_direction_output_Precision: 0.7483 - val_direction_output_Recall: 0.5746 - val_direction_output_accuracy: 0.6322 - val_direction_output_auc_2: 0.9281 - val_distance_output_Precision: 0.8627 - val_distance_output_Recall: 0.7458 - val_distance_output_accuracy: 0.8034 - val_distance_output_auc_1: 0.9671 - val_gunshot_output_Precision: 0.9265 - val_gunshot_output_Recall: 0.9186 - val_gunshot_output_accuracy: 0.9237 - val_gunshot_output_auc: 0.9809 - val_loss: 1.7760\n",
      "Epoch 66/150\n",
      "\u001b[1m43/43\u001b[0m \u001b[32m━━━━━━━━━━━━━━━━━━━━\u001b[0m\u001b[37m\u001b[0m \u001b[1m16s\u001b[0m 378ms/step - direction_output_Precision: 0.8243 - direction_output_Recall: 0.6098 - direction_output_accuracy: 0.7160 - direction_output_auc_2: 0.9609 - distance_output_Precision: 0.9044 - distance_output_Recall: 0.8050 - distance_output_accuracy: 0.8606 - distance_output_auc_1: 0.9892 - gunshot_output_Precision: 0.9880 - gunshot_output_Recall: 0.9857 - gunshot_output_accuracy: 0.9872 - gunshot_output_auc: 0.9990 - loss: 0.9935 - val_direction_output_Precision: 0.7576 - val_direction_output_Recall: 0.5881 - val_direction_output_accuracy: 0.6424 - val_direction_output_auc_2: 0.9288 - val_distance_output_Precision: 0.8789 - val_distance_output_Recall: 0.7254 - val_distance_output_accuracy: 0.7915 - val_distance_output_auc_1: 0.9708 - val_gunshot_output_Precision: 0.9215 - val_gunshot_output_Recall: 0.9153 - val_gunshot_output_accuracy: 0.9186 - val_gunshot_output_auc: 0.9825 - val_loss: 1.7350\n",
      "Epoch 67/150\n",
      "\u001b[1m43/43\u001b[0m \u001b[32m━━━━━━━━━━━━━━━━━━━━\u001b[0m\u001b[37m\u001b[0m \u001b[1m16s\u001b[0m 379ms/step - direction_output_Precision: 0.8450 - direction_output_Recall: 0.6190 - direction_output_accuracy: 0.7277 - direction_output_auc_2: 0.9612 - distance_output_Precision: 0.8778 - distance_output_Recall: 0.8014 - distance_output_accuracy: 0.8280 - distance_output_auc_1: 0.9859 - gunshot_output_Precision: 0.9833 - gunshot_output_Recall: 0.9827 - gunshot_output_accuracy: 0.9827 - gunshot_output_auc: 0.9982 - loss: 1.0578 - val_direction_output_Precision: 0.7161 - val_direction_output_Recall: 0.5814 - val_direction_output_accuracy: 0.6186 - val_direction_output_auc_2: 0.9132 - val_distance_output_Precision: 0.8369 - val_distance_output_Recall: 0.7305 - val_distance_output_accuracy: 0.7729 - val_distance_output_auc_1: 0.9582 - val_gunshot_output_Precision: 0.9026 - val_gunshot_output_Recall: 0.8949 - val_gunshot_output_accuracy: 0.8983 - val_gunshot_output_auc: 0.9700 - val_loss: 2.1586\n",
      "Epoch 68/150\n",
      "\u001b[1m43/43\u001b[0m \u001b[32m━━━━━━━━━━━━━━━━━━━━\u001b[0m\u001b[37m\u001b[0m \u001b[1m16s\u001b[0m 380ms/step - direction_output_Precision: 0.8596 - direction_output_Recall: 0.6448 - direction_output_accuracy: 0.7313 - direction_output_auc_2: 0.9600 - distance_output_Precision: 0.9112 - distance_output_Recall: 0.8583 - distance_output_accuracy: 0.8810 - distance_output_auc_1: 0.9899 - gunshot_output_Precision: 0.9722 - gunshot_output_Recall: 0.9719 - gunshot_output_accuracy: 0.9719 - gunshot_output_auc: 0.9979 - loss: 1.0214 - val_direction_output_Precision: 0.7349 - val_direction_output_Recall: 0.5780 - val_direction_output_accuracy: 0.6373 - val_direction_output_auc_2: 0.9298 - val_distance_output_Precision: 0.8780 - val_distance_output_Recall: 0.7559 - val_distance_output_accuracy: 0.8068 - val_distance_output_auc_1: 0.9693 - val_gunshot_output_Precision: 0.9252 - val_gunshot_output_Recall: 0.9220 - val_gunshot_output_accuracy: 0.9220 - val_gunshot_output_auc: 0.9790 - val_loss: 1.7480\n",
      "Epoch 69/150\n",
      "\u001b[1m43/43\u001b[0m \u001b[32m━━━━━━━━━━━━━━━━━━━━\u001b[0m\u001b[37m\u001b[0m \u001b[1m16s\u001b[0m 372ms/step - direction_output_Precision: 0.8509 - direction_output_Recall: 0.6200 - direction_output_accuracy: 0.7259 - direction_output_auc_2: 0.9612 - distance_output_Precision: 0.8995 - distance_output_Recall: 0.8143 - distance_output_accuracy: 0.8442 - distance_output_auc_1: 0.9868 - gunshot_output_Precision: 0.9662 - gunshot_output_Recall: 0.9656 - gunshot_output_accuracy: 0.9656 - gunshot_output_auc: 0.9962 - loss: 1.0668 - val_direction_output_Precision: 0.7053 - val_direction_output_Recall: 0.6085 - val_direction_output_accuracy: 0.6407 - val_direction_output_auc_2: 0.9308 - val_distance_output_Precision: 0.8625 - val_distance_output_Recall: 0.7441 - val_distance_output_accuracy: 0.7949 - val_distance_output_auc_1: 0.9718 - val_gunshot_output_Precision: 0.9201 - val_gunshot_output_Recall: 0.9169 - val_gunshot_output_accuracy: 0.9186 - val_gunshot_output_auc: 0.9830 - val_loss: 1.7265\n",
      "Epoch 70/150\n",
      "\u001b[1m43/43\u001b[0m \u001b[32m━━━━━━━━━━━━━━━━━━━━\u001b[0m\u001b[37m\u001b[0m \u001b[1m19s\u001b[0m 341ms/step - direction_output_Precision: 0.8517 - direction_output_Recall: 0.6360 - direction_output_accuracy: 0.7245 - direction_output_auc_2: 0.9620 - distance_output_Precision: 0.9163 - distance_output_Recall: 0.8411 - distance_output_accuracy: 0.8831 - distance_output_auc_1: 0.9906 - gunshot_output_Precision: 0.9716 - gunshot_output_Recall: 0.9691 - gunshot_output_accuracy: 0.9691 - gunshot_output_auc: 0.9977 - loss: 0.9941 - val_direction_output_Precision: 0.7269 - val_direction_output_Recall: 0.5593 - val_direction_output_accuracy: 0.6119 - val_direction_output_auc_2: 0.9227 - val_distance_output_Precision: 0.8851 - val_distance_output_Recall: 0.7576 - val_distance_output_accuracy: 0.8136 - val_distance_output_auc_1: 0.9688 - val_gunshot_output_Precision: 0.9164 - val_gunshot_output_Recall: 0.9102 - val_gunshot_output_accuracy: 0.9136 - val_gunshot_output_auc: 0.9764 - val_loss: 1.8677\n",
      "Epoch 71/150\n",
      "\u001b[1m43/43\u001b[0m \u001b[32m━━━━━━━━━━━━━━━━━━━━\u001b[0m\u001b[37m\u001b[0m \u001b[1m16s\u001b[0m 365ms/step - direction_output_Precision: 0.8424 - direction_output_Recall: 0.6503 - direction_output_accuracy: 0.7400 - direction_output_auc_2: 0.9658 - distance_output_Precision: 0.9004 - distance_output_Recall: 0.8419 - distance_output_accuracy: 0.8682 - distance_output_auc_1: 0.9896 - gunshot_output_Precision: 0.9720 - gunshot_output_Recall: 0.9660 - gunshot_output_accuracy: 0.9697 - gunshot_output_auc: 0.9983 - loss: 0.9760 - val_direction_output_Precision: 0.7360 - val_direction_output_Recall: 0.5576 - val_direction_output_accuracy: 0.6203 - val_direction_output_auc_2: 0.9214 - val_distance_output_Precision: 0.8525 - val_distance_output_Recall: 0.7542 - val_distance_output_accuracy: 0.7983 - val_distance_output_auc_1: 0.9675 - val_gunshot_output_Precision: 0.9116 - val_gunshot_output_Recall: 0.9085 - val_gunshot_output_accuracy: 0.9085 - val_gunshot_output_auc: 0.9731 - val_loss: 1.9181\n",
      "Epoch 72/150\n",
      "\u001b[1m43/43\u001b[0m \u001b[32m━━━━━━━━━━━━━━━━━━━━\u001b[0m\u001b[37m\u001b[0m \u001b[1m17s\u001b[0m 395ms/step - direction_output_Precision: 0.8098 - direction_output_Recall: 0.5973 - direction_output_accuracy: 0.6877 - direction_output_auc_2: 0.9580 - distance_output_Precision: 0.8806 - distance_output_Recall: 0.8197 - distance_output_accuracy: 0.8507 - distance_output_auc_1: 0.9873 - gunshot_output_Precision: 0.9772 - gunshot_output_Recall: 0.9749 - gunshot_output_accuracy: 0.9772 - gunshot_output_auc: 0.9977 - loss: 1.0706 - val_direction_output_Precision: 0.7430 - val_direction_output_Recall: 0.5831 - val_direction_output_accuracy: 0.6627 - val_direction_output_auc_2: 0.9334 - val_distance_output_Precision: 0.8874 - val_distance_output_Recall: 0.7746 - val_distance_output_accuracy: 0.8339 - val_distance_output_auc_1: 0.9773 - val_gunshot_output_Precision: 0.9215 - val_gunshot_output_Recall: 0.9153 - val_gunshot_output_accuracy: 0.9186 - val_gunshot_output_auc: 0.9828 - val_loss: 1.5872\n",
      "Epoch 73/150\n",
      "\u001b[1m43/43\u001b[0m \u001b[32m━━━━━━━━━━━━━━━━━━━━\u001b[0m\u001b[37m\u001b[0m \u001b[1m17s\u001b[0m 399ms/step - direction_output_Precision: 0.8528 - direction_output_Recall: 0.6565 - direction_output_accuracy: 0.7409 - direction_output_auc_2: 0.9664 - distance_output_Precision: 0.9194 - distance_output_Recall: 0.8516 - distance_output_accuracy: 0.8813 - distance_output_auc_1: 0.9909 - gunshot_output_Precision: 0.9802 - gunshot_output_Recall: 0.9797 - gunshot_output_accuracy: 0.9797 - gunshot_output_auc: 0.9992 - loss: 0.9111 - val_direction_output_Precision: 0.7342 - val_direction_output_Recall: 0.5898 - val_direction_output_accuracy: 0.6424 - val_direction_output_auc_2: 0.9213 - val_distance_output_Precision: 0.8622 - val_distance_output_Recall: 0.7424 - val_distance_output_accuracy: 0.8068 - val_distance_output_auc_1: 0.9645 - val_gunshot_output_Precision: 0.9147 - val_gunshot_output_Recall: 0.9085 - val_gunshot_output_accuracy: 0.9136 - val_gunshot_output_auc: 0.9752 - val_loss: 1.9932\n",
      "Epoch 74/150\n",
      "\u001b[1m43/43\u001b[0m \u001b[32m━━━━━━━━━━━━━━━━━━━━\u001b[0m\u001b[37m\u001b[0m \u001b[1m16s\u001b[0m 368ms/step - direction_output_Precision: 0.8123 - direction_output_Recall: 0.6152 - direction_output_accuracy: 0.7115 - direction_output_auc_2: 0.9605 - distance_output_Precision: 0.9082 - distance_output_Recall: 0.8463 - distance_output_accuracy: 0.8666 - distance_output_auc_1: 0.9907 - gunshot_output_Precision: 0.9716 - gunshot_output_Recall: 0.9694 - gunshot_output_accuracy: 0.9701 - gunshot_output_auc: 0.9983 - loss: 0.9895 - val_direction_output_Precision: 0.7385 - val_direction_output_Recall: 0.5983 - val_direction_output_accuracy: 0.6424 - val_direction_output_auc_2: 0.9258 - val_distance_output_Precision: 0.8725 - val_distance_output_Recall: 0.7542 - val_distance_output_accuracy: 0.7915 - val_distance_output_auc_1: 0.9661 - val_gunshot_output_Precision: 0.9266 - val_gunshot_output_Recall: 0.9203 - val_gunshot_output_accuracy: 0.9203 - val_gunshot_output_auc: 0.9771 - val_loss: 1.9002\n",
      "Epoch 75/150\n",
      "\u001b[1m43/43\u001b[0m \u001b[32m━━━━━━━━━━━━━━━━━━━━\u001b[0m\u001b[37m\u001b[0m \u001b[1m15s\u001b[0m 353ms/step - direction_output_Precision: 0.8405 - direction_output_Recall: 0.6259 - direction_output_accuracy: 0.7437 - direction_output_auc_2: 0.9653 - distance_output_Precision: 0.9179 - distance_output_Recall: 0.8391 - distance_output_accuracy: 0.8682 - distance_output_auc_1: 0.9898 - gunshot_output_Precision: 0.9635 - gunshot_output_Recall: 0.9616 - gunshot_output_accuracy: 0.9628 - gunshot_output_auc: 0.9971 - loss: 1.0004 - val_direction_output_Precision: 0.7116 - val_direction_output_Recall: 0.5814 - val_direction_output_accuracy: 0.6441 - val_direction_output_auc_2: 0.9286 - val_distance_output_Precision: 0.8743 - val_distance_output_Recall: 0.7661 - val_distance_output_accuracy: 0.8136 - val_distance_output_auc_1: 0.9715 - val_gunshot_output_Precision: 0.9418 - val_gunshot_output_Recall: 0.9322 - val_gunshot_output_accuracy: 0.9322 - val_gunshot_output_auc: 0.9837 - val_loss: 1.7192\n",
      "Epoch 76/150\n",
      "\u001b[1m43/43\u001b[0m \u001b[32m━━━━━━━━━━━━━━━━━━━━\u001b[0m\u001b[37m\u001b[0m \u001b[1m15s\u001b[0m 349ms/step - direction_output_Precision: 0.8420 - direction_output_Recall: 0.6585 - direction_output_accuracy: 0.7450 - direction_output_auc_2: 0.9646 - distance_output_Precision: 0.9120 - distance_output_Recall: 0.8477 - distance_output_accuracy: 0.8747 - distance_output_auc_1: 0.9896 - gunshot_output_Precision: 0.9764 - gunshot_output_Recall: 0.9764 - gunshot_output_accuracy: 0.9764 - gunshot_output_auc: 0.9979 - loss: 0.9634 - val_direction_output_Precision: 0.6587 - val_direction_output_Recall: 0.5593 - val_direction_output_accuracy: 0.6068 - val_direction_output_auc_2: 0.9098 - val_distance_output_Precision: 0.8409 - val_distance_output_Recall: 0.7525 - val_distance_output_accuracy: 0.7915 - val_distance_output_auc_1: 0.9562 - val_gunshot_output_Precision: 0.8961 - val_gunshot_output_Recall: 0.8915 - val_gunshot_output_accuracy: 0.8966 - val_gunshot_output_auc: 0.9640 - val_loss: 2.2531\n",
      "Epoch 77/150\n",
      "\u001b[1m43/43\u001b[0m \u001b[32m━━━━━━━━━━━━━━━━━━━━\u001b[0m\u001b[37m\u001b[0m \u001b[1m15s\u001b[0m 343ms/step - direction_output_Precision: 0.8281 - direction_output_Recall: 0.6213 - direction_output_accuracy: 0.7325 - direction_output_auc_2: 0.9608 - distance_output_Precision: 0.8925 - distance_output_Recall: 0.8472 - distance_output_accuracy: 0.8620 - distance_output_auc_1: 0.9889 - gunshot_output_Precision: 0.9711 - gunshot_output_Recall: 0.9698 - gunshot_output_accuracy: 0.9698 - gunshot_output_auc: 0.9983 - loss: 1.0312 - val_direction_output_Precision: 0.7379 - val_direction_output_Recall: 0.5678 - val_direction_output_accuracy: 0.6475 - val_direction_output_auc_2: 0.9247 - val_distance_output_Precision: 0.8814 - val_distance_output_Recall: 0.7559 - val_distance_output_accuracy: 0.8051 - val_distance_output_auc_1: 0.9657 - val_gunshot_output_Precision: 0.9111 - val_gunshot_output_Recall: 0.9034 - val_gunshot_output_accuracy: 0.9068 - val_gunshot_output_auc: 0.9729 - val_loss: 1.9199\n",
      "Epoch 78/150\n",
      "\u001b[1m43/43\u001b[0m \u001b[32m━━━━━━━━━━━━━━━━━━━━\u001b[0m\u001b[37m\u001b[0m \u001b[1m15s\u001b[0m 353ms/step - direction_output_Precision: 0.8380 - direction_output_Recall: 0.6378 - direction_output_accuracy: 0.7323 - direction_output_auc_2: 0.9647 - distance_output_Precision: 0.8832 - distance_output_Recall: 0.8223 - distance_output_accuracy: 0.8601 - distance_output_auc_1: 0.9891 - gunshot_output_Precision: 0.9748 - gunshot_output_Recall: 0.9739 - gunshot_output_accuracy: 0.9748 - gunshot_output_auc: 0.9986 - loss: 0.9787 - val_direction_output_Precision: 0.7613 - val_direction_output_Recall: 0.6000 - val_direction_output_accuracy: 0.6627 - val_direction_output_auc_2: 0.9348 - val_distance_output_Precision: 0.8887 - val_distance_output_Recall: 0.7983 - val_distance_output_accuracy: 0.8305 - val_distance_output_auc_1: 0.9761 - val_gunshot_output_Precision: 0.9369 - val_gunshot_output_Recall: 0.9305 - val_gunshot_output_accuracy: 0.9322 - val_gunshot_output_auc: 0.9812 - val_loss: 1.6342\n",
      "Epoch 79/150\n",
      "\u001b[1m43/43\u001b[0m \u001b[32m━━━━━━━━━━━━━━━━━━━━\u001b[0m\u001b[37m\u001b[0m \u001b[1m20s\u001b[0m 339ms/step - direction_output_Precision: 0.8258 - direction_output_Recall: 0.6117 - direction_output_accuracy: 0.7210 - direction_output_auc_2: 0.9630 - distance_output_Precision: 0.9002 - distance_output_Recall: 0.8410 - distance_output_accuracy: 0.8693 - distance_output_auc_1: 0.9912 - gunshot_output_Precision: 0.9739 - gunshot_output_Recall: 0.9725 - gunshot_output_accuracy: 0.9733 - gunshot_output_auc: 0.9986 - loss: 0.9688 - val_direction_output_Precision: 0.7068 - val_direction_output_Recall: 0.5966 - val_direction_output_accuracy: 0.6424 - val_direction_output_auc_2: 0.9292 - val_distance_output_Precision: 0.8844 - val_distance_output_Recall: 0.7780 - val_distance_output_accuracy: 0.8169 - val_distance_output_auc_1: 0.9762 - val_gunshot_output_Precision: 0.9192 - val_gunshot_output_Recall: 0.9068 - val_gunshot_output_accuracy: 0.9085 - val_gunshot_output_auc: 0.9770 - val_loss: 1.7525\n",
      "Epoch 80/150\n",
      "\u001b[1m43/43\u001b[0m \u001b[32m━━━━━━━━━━━━━━━━━━━━\u001b[0m\u001b[37m\u001b[0m \u001b[1m17s\u001b[0m 386ms/step - direction_output_Precision: 0.8262 - direction_output_Recall: 0.6341 - direction_output_accuracy: 0.7303 - direction_output_auc_2: 0.9625 - distance_output_Precision: 0.8914 - distance_output_Recall: 0.8267 - distance_output_accuracy: 0.8549 - distance_output_auc_1: 0.9881 - gunshot_output_Precision: 0.9802 - gunshot_output_Recall: 0.9764 - gunshot_output_accuracy: 0.9795 - gunshot_output_auc: 0.9990 - loss: 1.0084 - val_direction_output_Precision: 0.7140 - val_direction_output_Recall: 0.6136 - val_direction_output_accuracy: 0.6576 - val_direction_output_auc_2: 0.9308 - val_distance_output_Precision: 0.9078 - val_distance_output_Recall: 0.7847 - val_distance_output_accuracy: 0.8237 - val_distance_output_auc_1: 0.9754 - val_gunshot_output_Precision: 0.9388 - val_gunshot_output_Recall: 0.9356 - val_gunshot_output_accuracy: 0.9373 - val_gunshot_output_auc: 0.9807 - val_loss: 1.6828\n",
      "Epoch 81/150\n",
      "\u001b[1m43/43\u001b[0m \u001b[32m━━━━━━━━━━━━━━━━━━━━\u001b[0m\u001b[37m\u001b[0m \u001b[1m19s\u001b[0m 435ms/step - direction_output_Precision: 0.8305 - direction_output_Recall: 0.6343 - direction_output_accuracy: 0.7263 - direction_output_auc_2: 0.9634 - distance_output_Precision: 0.9051 - distance_output_Recall: 0.8518 - distance_output_accuracy: 0.8740 - distance_output_auc_1: 0.9897 - gunshot_output_Precision: 0.9601 - gunshot_output_Recall: 0.9592 - gunshot_output_accuracy: 0.9599 - gunshot_output_auc: 0.9972 - loss: 1.0025 - val_direction_output_Precision: 0.7454 - val_direction_output_Recall: 0.6153 - val_direction_output_accuracy: 0.6712 - val_direction_output_auc_2: 0.9404 - val_distance_output_Precision: 0.9054 - val_distance_output_Recall: 0.7949 - val_distance_output_accuracy: 0.8322 - val_distance_output_auc_1: 0.9801 - val_gunshot_output_Precision: 0.9506 - val_gunshot_output_Recall: 0.9458 - val_gunshot_output_accuracy: 0.9458 - val_gunshot_output_auc: 0.9861 - val_loss: 1.4615\n",
      "Epoch 82/150\n",
      "\u001b[1m43/43\u001b[0m \u001b[32m━━━━━━━━━━━━━━━━━━━━\u001b[0m\u001b[37m\u001b[0m \u001b[1m17s\u001b[0m 403ms/step - direction_output_Precision: 0.8334 - direction_output_Recall: 0.6528 - direction_output_accuracy: 0.7473 - direction_output_auc_2: 0.9665 - distance_output_Precision: 0.9282 - distance_output_Recall: 0.8823 - distance_output_accuracy: 0.9054 - distance_output_auc_1: 0.9933 - gunshot_output_Precision: 0.9799 - gunshot_output_Recall: 0.9778 - gunshot_output_accuracy: 0.9786 - gunshot_output_auc: 0.9989 - loss: 0.8714 - val_direction_output_Precision: 0.7832 - val_direction_output_Recall: 0.6000 - val_direction_output_accuracy: 0.6847 - val_direction_output_auc_2: 0.9437 - val_distance_output_Precision: 0.8889 - val_distance_output_Recall: 0.8000 - val_distance_output_accuracy: 0.8373 - val_distance_output_auc_1: 0.9794 - val_gunshot_output_Precision: 0.9507 - val_gunshot_output_Recall: 0.9475 - val_gunshot_output_accuracy: 0.9475 - val_gunshot_output_auc: 0.9839 - val_loss: 1.4590\n",
      "Epoch 83/150\n",
      "\u001b[1m43/43\u001b[0m \u001b[32m━━━━━━━━━━━━━━━━━━━━\u001b[0m\u001b[37m\u001b[0m \u001b[1m16s\u001b[0m 382ms/step - direction_output_Precision: 0.8416 - direction_output_Recall: 0.6255 - direction_output_accuracy: 0.7277 - direction_output_auc_2: 0.9628 - distance_output_Precision: 0.9074 - distance_output_Recall: 0.8486 - distance_output_accuracy: 0.8835 - distance_output_auc_1: 0.9886 - gunshot_output_Precision: 0.9772 - gunshot_output_Recall: 0.9757 - gunshot_output_accuracy: 0.9764 - gunshot_output_auc: 0.9969 - loss: 0.9882 - val_direction_output_Precision: 0.7500 - val_direction_output_Recall: 0.6153 - val_direction_output_accuracy: 0.6627 - val_direction_output_auc_2: 0.9344 - val_distance_output_Precision: 0.8418 - val_distance_output_Recall: 0.7576 - val_distance_output_accuracy: 0.7966 - val_distance_output_auc_1: 0.9726 - val_gunshot_output_Precision: 0.9404 - val_gunshot_output_Recall: 0.9356 - val_gunshot_output_accuracy: 0.9390 - val_gunshot_output_auc: 0.9853 - val_loss: 1.6783\n",
      "Epoch 84/150\n",
      "\u001b[1m43/43\u001b[0m \u001b[32m━━━━━━━━━━━━━━━━━━━━\u001b[0m\u001b[37m\u001b[0m \u001b[1m15s\u001b[0m 347ms/step - direction_output_Precision: 0.8275 - direction_output_Recall: 0.6466 - direction_output_accuracy: 0.7419 - direction_output_auc_2: 0.9648 - distance_output_Precision: 0.9066 - distance_output_Recall: 0.8534 - distance_output_accuracy: 0.8759 - distance_output_auc_1: 0.9896 - gunshot_output_Precision: 0.9811 - gunshot_output_Recall: 0.9800 - gunshot_output_accuracy: 0.9805 - gunshot_output_auc: 0.9991 - loss: 0.9593 - val_direction_output_Precision: 0.7359 - val_direction_output_Recall: 0.6186 - val_direction_output_accuracy: 0.6712 - val_direction_output_auc_2: 0.9355 - val_distance_output_Precision: 0.8931 - val_distance_output_Recall: 0.8068 - val_distance_output_accuracy: 0.8441 - val_distance_output_auc_1: 0.9784 - val_gunshot_output_Precision: 0.9405 - val_gunshot_output_Recall: 0.9373 - val_gunshot_output_accuracy: 0.9373 - val_gunshot_output_auc: 0.9847 - val_loss: 1.5472\n",
      "Epoch 85/150\n",
      "\u001b[1m43/43\u001b[0m \u001b[32m━━━━━━━━━━━━━━━━━━━━\u001b[0m\u001b[37m\u001b[0m \u001b[1m15s\u001b[0m 343ms/step - direction_output_Precision: 0.8392 - direction_output_Recall: 0.6450 - direction_output_accuracy: 0.7472 - direction_output_auc_2: 0.9646 - distance_output_Precision: 0.8961 - distance_output_Recall: 0.8398 - distance_output_accuracy: 0.8678 - distance_output_auc_1: 0.9901 - gunshot_output_Precision: 0.9734 - gunshot_output_Recall: 0.9731 - gunshot_output_accuracy: 0.9731 - gunshot_output_auc: 0.9970 - loss: 0.9877 - val_direction_output_Precision: 0.7698 - val_direction_output_Recall: 0.5780 - val_direction_output_accuracy: 0.6593 - val_direction_output_auc_2: 0.9298 - val_distance_output_Precision: 0.8976 - val_distance_output_Recall: 0.7729 - val_distance_output_accuracy: 0.8305 - val_distance_output_auc_1: 0.9728 - val_gunshot_output_Precision: 0.9303 - val_gunshot_output_Recall: 0.9271 - val_gunshot_output_accuracy: 0.9288 - val_gunshot_output_auc: 0.9808 - val_loss: 1.7166\n",
      "Epoch 86/150\n",
      "\u001b[1m43/43\u001b[0m \u001b[32m━━━━━━━━━━━━━━━━━━━━\u001b[0m\u001b[37m\u001b[0m \u001b[1m16s\u001b[0m 374ms/step - direction_output_Precision: 0.8557 - direction_output_Recall: 0.6497 - direction_output_accuracy: 0.7600 - direction_output_auc_2: 0.9678 - distance_output_Precision: 0.8968 - distance_output_Recall: 0.8239 - distance_output_accuracy: 0.8691 - distance_output_auc_1: 0.9901 - gunshot_output_Precision: 0.9758 - gunshot_output_Recall: 0.9753 - gunshot_output_accuracy: 0.9753 - gunshot_output_auc: 0.9968 - loss: 0.9706 - val_direction_output_Precision: 0.7583 - val_direction_output_Recall: 0.6169 - val_direction_output_accuracy: 0.6678 - val_direction_output_auc_2: 0.9333 - val_distance_output_Precision: 0.8992 - val_distance_output_Recall: 0.8017 - val_distance_output_accuracy: 0.8407 - val_distance_output_auc_1: 0.9764 - val_gunshot_output_Precision: 0.9127 - val_gunshot_output_Recall: 0.9034 - val_gunshot_output_accuracy: 0.9068 - val_gunshot_output_auc: 0.9758 - val_loss: 1.6893\n",
      "Epoch 87/150\n",
      "\u001b[1m43/43\u001b[0m \u001b[32m━━━━━━━━━━━━━━━━━━━━\u001b[0m\u001b[37m\u001b[0m \u001b[1m17s\u001b[0m 402ms/step - direction_output_Precision: 0.8196 - direction_output_Recall: 0.6517 - direction_output_accuracy: 0.7371 - direction_output_auc_2: 0.9679 - distance_output_Precision: 0.9054 - distance_output_Recall: 0.8648 - distance_output_accuracy: 0.8832 - distance_output_auc_1: 0.9917 - gunshot_output_Precision: 0.9726 - gunshot_output_Recall: 0.9724 - gunshot_output_accuracy: 0.9724 - gunshot_output_auc: 0.9986 - loss: 0.9022 - val_direction_output_Precision: 0.7536 - val_direction_output_Recall: 0.6220 - val_direction_output_accuracy: 0.6729 - val_direction_output_auc_2: 0.9340 - val_distance_output_Precision: 0.8830 - val_distance_output_Recall: 0.7932 - val_distance_output_accuracy: 0.8237 - val_distance_output_auc_1: 0.9737 - val_gunshot_output_Precision: 0.9332 - val_gunshot_output_Recall: 0.9237 - val_gunshot_output_accuracy: 0.9288 - val_gunshot_output_auc: 0.9828 - val_loss: 1.6395\n",
      "Epoch 88/150\n",
      "\u001b[1m43/43\u001b[0m \u001b[32m━━━━━━━━━━━━━━━━━━━━\u001b[0m\u001b[37m\u001b[0m \u001b[1m23s\u001b[0m 471ms/step - direction_output_Precision: 0.8532 - direction_output_Recall: 0.6883 - direction_output_accuracy: 0.7582 - direction_output_auc_2: 0.9697 - distance_output_Precision: 0.9270 - distance_output_Recall: 0.8747 - distance_output_accuracy: 0.9071 - distance_output_auc_1: 0.9942 - gunshot_output_Precision: 0.9840 - gunshot_output_Recall: 0.9816 - gunshot_output_accuracy: 0.9816 - gunshot_output_auc: 0.9988 - loss: 0.8368 - val_direction_output_Precision: 0.7500 - val_direction_output_Recall: 0.5949 - val_direction_output_accuracy: 0.6814 - val_direction_output_auc_2: 0.9409 - val_distance_output_Precision: 0.9052 - val_distance_output_Recall: 0.8254 - val_distance_output_accuracy: 0.8559 - val_distance_output_auc_1: 0.9798 - val_gunshot_output_Precision: 0.9507 - val_gunshot_output_Recall: 0.9475 - val_gunshot_output_accuracy: 0.9492 - val_gunshot_output_auc: 0.9862 - val_loss: 1.4339\n",
      "Epoch 89/150\n",
      "\u001b[1m43/43\u001b[0m \u001b[32m━━━━━━━━━━━━━━━━━━━━\u001b[0m\u001b[37m\u001b[0m \u001b[1m16s\u001b[0m 364ms/step - direction_output_Precision: 0.8676 - direction_output_Recall: 0.6579 - direction_output_accuracy: 0.7431 - direction_output_auc_2: 0.9663 - distance_output_Precision: 0.9231 - distance_output_Recall: 0.8708 - distance_output_accuracy: 0.8976 - distance_output_auc_1: 0.9925 - gunshot_output_Precision: 0.9817 - gunshot_output_Recall: 0.9798 - gunshot_output_accuracy: 0.9813 - gunshot_output_auc: 0.9992 - loss: 0.8892 - val_direction_output_Precision: 0.7312 - val_direction_output_Recall: 0.6085 - val_direction_output_accuracy: 0.6458 - val_direction_output_auc_2: 0.9260 - val_distance_output_Precision: 0.8510 - val_distance_output_Recall: 0.7746 - val_distance_output_accuracy: 0.8085 - val_distance_output_auc_1: 0.9679 - val_gunshot_output_Precision: 0.9153 - val_gunshot_output_Recall: 0.9153 - val_gunshot_output_accuracy: 0.9153 - val_gunshot_output_auc: 0.9765 - val_loss: 1.9492\n",
      "Epoch 90/150\n",
      "\u001b[1m43/43\u001b[0m \u001b[32m━━━━━━━━━━━━━━━━━━━━\u001b[0m\u001b[37m\u001b[0m \u001b[1m19s\u001b[0m 434ms/step - direction_output_Precision: 0.8206 - direction_output_Recall: 0.6611 - direction_output_accuracy: 0.7519 - direction_output_auc_2: 0.9702 - distance_output_Precision: 0.9100 - distance_output_Recall: 0.8598 - distance_output_accuracy: 0.8806 - distance_output_auc_1: 0.9912 - gunshot_output_Precision: 0.9757 - gunshot_output_Recall: 0.9753 - gunshot_output_accuracy: 0.9755 - gunshot_output_auc: 0.9986 - loss: 0.8943 - val_direction_output_Precision: 0.7035 - val_direction_output_Recall: 0.6153 - val_direction_output_accuracy: 0.6525 - val_direction_output_auc_2: 0.9284 - val_distance_output_Precision: 0.8623 - val_distance_output_Recall: 0.7746 - val_distance_output_accuracy: 0.8085 - val_distance_output_auc_1: 0.9696 - val_gunshot_output_Precision: 0.9253 - val_gunshot_output_Recall: 0.9237 - val_gunshot_output_accuracy: 0.9237 - val_gunshot_output_auc: 0.9817 - val_loss: 1.8283\n",
      "Epoch 91/150\n",
      "\u001b[1m43/43\u001b[0m \u001b[32m━━━━━━━━━━━━━━━━━━━━\u001b[0m\u001b[37m\u001b[0m \u001b[1m18s\u001b[0m 426ms/step - direction_output_Precision: 0.8288 - direction_output_Recall: 0.6476 - direction_output_accuracy: 0.7171 - direction_output_auc_2: 0.9650 - distance_output_Precision: 0.9227 - distance_output_Recall: 0.8661 - distance_output_accuracy: 0.8827 - distance_output_auc_1: 0.9932 - gunshot_output_Precision: 0.9865 - gunshot_output_Recall: 0.9832 - gunshot_output_accuracy: 0.9866 - gunshot_output_auc: 0.9993 - loss: 0.8747 - val_direction_output_Precision: 0.7338 - val_direction_output_Recall: 0.5932 - val_direction_output_accuracy: 0.6542 - val_direction_output_auc_2: 0.9316 - val_distance_output_Precision: 0.8542 - val_distance_output_Recall: 0.7847 - val_distance_output_accuracy: 0.8068 - val_distance_output_auc_1: 0.9707 - val_gunshot_output_Precision: 0.9203 - val_gunshot_output_Recall: 0.9203 - val_gunshot_output_accuracy: 0.9203 - val_gunshot_output_auc: 0.9778 - val_loss: 1.7983\n",
      "Epoch 92/150\n",
      "\u001b[1m43/43\u001b[0m \u001b[32m━━━━━━━━━━━━━━━━━━━━\u001b[0m\u001b[37m\u001b[0m \u001b[1m16s\u001b[0m 367ms/step - direction_output_Precision: 0.8527 - direction_output_Recall: 0.6820 - direction_output_accuracy: 0.7562 - direction_output_auc_2: 0.9696 - distance_output_Precision: 0.9137 - distance_output_Recall: 0.8619 - distance_output_accuracy: 0.8834 - distance_output_auc_1: 0.9899 - gunshot_output_Precision: 0.9773 - gunshot_output_Recall: 0.9770 - gunshot_output_accuracy: 0.9770 - gunshot_output_auc: 0.9982 - loss: 0.9014 - val_direction_output_Precision: 0.7292 - val_direction_output_Recall: 0.5932 - val_direction_output_accuracy: 0.6424 - val_direction_output_auc_2: 0.9240 - val_distance_output_Precision: 0.8423 - val_distance_output_Recall: 0.7424 - val_distance_output_accuracy: 0.7712 - val_distance_output_auc_1: 0.9644 - val_gunshot_output_Precision: 0.9142 - val_gunshot_output_Recall: 0.9034 - val_gunshot_output_accuracy: 0.9085 - val_gunshot_output_auc: 0.9726 - val_loss: 2.0580\n",
      "Epoch 93/150\n",
      "\u001b[1m43/43\u001b[0m \u001b[32m━━━━━━━━━━━━━━━━━━━━\u001b[0m\u001b[37m\u001b[0m \u001b[1m16s\u001b[0m 369ms/step - direction_output_Precision: 0.8325 - direction_output_Recall: 0.6441 - direction_output_accuracy: 0.7377 - direction_output_auc_2: 0.9646 - distance_output_Precision: 0.9147 - distance_output_Recall: 0.8705 - distance_output_accuracy: 0.8927 - distance_output_auc_1: 0.9917 - gunshot_output_Precision: 0.9810 - gunshot_output_Recall: 0.9772 - gunshot_output_accuracy: 0.9772 - gunshot_output_auc: 0.9993 - loss: 0.9012 - val_direction_output_Precision: 0.7223 - val_direction_output_Recall: 0.6085 - val_direction_output_accuracy: 0.6508 - val_direction_output_auc_2: 0.9267 - val_distance_output_Precision: 0.8339 - val_distance_output_Recall: 0.7661 - val_distance_output_accuracy: 0.7847 - val_distance_output_auc_1: 0.9683 - val_gunshot_output_Precision: 0.9130 - val_gunshot_output_Recall: 0.9068 - val_gunshot_output_accuracy: 0.9102 - val_gunshot_output_auc: 0.9743 - val_loss: 1.9486\n",
      "Epoch 94/150\n",
      "\u001b[1m43/43\u001b[0m \u001b[32m━━━━━━━━━━━━━━━━━━━━\u001b[0m\u001b[37m\u001b[0m \u001b[1m15s\u001b[0m 347ms/step - direction_output_Precision: 0.8662 - direction_output_Recall: 0.6686 - direction_output_accuracy: 0.7583 - direction_output_auc_2: 0.9656 - distance_output_Precision: 0.9079 - distance_output_Recall: 0.8527 - distance_output_accuracy: 0.8836 - distance_output_auc_1: 0.9893 - gunshot_output_Precision: 0.9812 - gunshot_output_Recall: 0.9797 - gunshot_output_accuracy: 0.9812 - gunshot_output_auc: 0.9972 - loss: 0.9634 - val_direction_output_Precision: 0.7852 - val_direction_output_Recall: 0.6136 - val_direction_output_accuracy: 0.6932 - val_direction_output_auc_2: 0.9471 - val_distance_output_Precision: 0.8992 - val_distance_output_Recall: 0.8017 - val_distance_output_accuracy: 0.8508 - val_distance_output_auc_1: 0.9826 - val_gunshot_output_Precision: 0.9507 - val_gunshot_output_Recall: 0.9475 - val_gunshot_output_accuracy: 0.9492 - val_gunshot_output_auc: 0.9873 - val_loss: 1.3488\n",
      "Epoch 95/150\n",
      "\u001b[1m43/43\u001b[0m \u001b[32m━━━━━━━━━━━━━━━━━━━━\u001b[0m\u001b[37m\u001b[0m \u001b[1m15s\u001b[0m 348ms/step - direction_output_Precision: 0.8394 - direction_output_Recall: 0.6736 - direction_output_accuracy: 0.7492 - direction_output_auc_2: 0.9707 - distance_output_Precision: 0.9063 - distance_output_Recall: 0.8444 - distance_output_accuracy: 0.8786 - distance_output_auc_1: 0.9903 - gunshot_output_Precision: 0.9876 - gunshot_output_Recall: 0.9857 - gunshot_output_accuracy: 0.9877 - gunshot_output_auc: 0.9996 - loss: 0.8673 - val_direction_output_Precision: 0.8000 - val_direction_output_Recall: 0.6305 - val_direction_output_accuracy: 0.7237 - val_direction_output_auc_2: 0.9525 - val_distance_output_Precision: 0.9147 - val_distance_output_Recall: 0.8542 - val_distance_output_accuracy: 0.8746 - val_distance_output_auc_1: 0.9881 - val_gunshot_output_Precision: 0.9539 - val_gunshot_output_Recall: 0.9475 - val_gunshot_output_accuracy: 0.9508 - val_gunshot_output_auc: 0.9901 - val_loss: 1.2066\n",
      "Epoch 96/150\n",
      "\u001b[1m43/43\u001b[0m \u001b[32m━━━━━━━━━━━━━━━━━━━━\u001b[0m\u001b[37m\u001b[0m \u001b[1m20s\u001b[0m 328ms/step - direction_output_Precision: 0.8438 - direction_output_Recall: 0.6623 - direction_output_accuracy: 0.7453 - direction_output_auc_2: 0.9707 - distance_output_Precision: 0.9125 - distance_output_Recall: 0.8770 - distance_output_accuracy: 0.8904 - distance_output_auc_1: 0.9927 - gunshot_output_Precision: 0.9868 - gunshot_output_Recall: 0.9868 - gunshot_output_accuracy: 0.9868 - gunshot_output_auc: 0.9985 - loss: 0.8403 - val_direction_output_Precision: 0.7479 - val_direction_output_Recall: 0.6085 - val_direction_output_accuracy: 0.6678 - val_direction_output_auc_2: 0.9415 - val_distance_output_Precision: 0.8584 - val_distance_output_Recall: 0.8017 - val_distance_output_accuracy: 0.8169 - val_distance_output_auc_1: 0.9756 - val_gunshot_output_Precision: 0.9371 - val_gunshot_output_Recall: 0.9339 - val_gunshot_output_accuracy: 0.9356 - val_gunshot_output_auc: 0.9864 - val_loss: 1.5846\n",
      "Epoch 97/150\n",
      "\u001b[1m43/43\u001b[0m \u001b[32m━━━━━━━━━━━━━━━━━━━━\u001b[0m\u001b[37m\u001b[0m \u001b[1m15s\u001b[0m 353ms/step - direction_output_Precision: 0.8440 - direction_output_Recall: 0.6718 - direction_output_accuracy: 0.7678 - direction_output_auc_2: 0.9706 - distance_output_Precision: 0.9031 - distance_output_Recall: 0.8534 - distance_output_accuracy: 0.8758 - distance_output_auc_1: 0.9908 - gunshot_output_Precision: 0.9730 - gunshot_output_Recall: 0.9728 - gunshot_output_accuracy: 0.9729 - gunshot_output_auc: 0.9985 - loss: 0.9177 - val_direction_output_Precision: 0.7643 - val_direction_output_Recall: 0.6102 - val_direction_output_accuracy: 0.6898 - val_direction_output_auc_2: 0.9367 - val_distance_output_Precision: 0.8976 - val_distance_output_Recall: 0.8169 - val_distance_output_accuracy: 0.8475 - val_distance_output_auc_1: 0.9760 - val_gunshot_output_Precision: 0.9287 - val_gunshot_output_Recall: 0.9271 - val_gunshot_output_accuracy: 0.9271 - val_gunshot_output_auc: 0.9787 - val_loss: 1.6209\n",
      "Epoch 98/150\n",
      "\u001b[1m43/43\u001b[0m \u001b[32m━━━━━━━━━━━━━━━━━━━━\u001b[0m\u001b[37m\u001b[0m \u001b[1m15s\u001b[0m 358ms/step - direction_output_Precision: 0.8378 - direction_output_Recall: 0.6756 - direction_output_accuracy: 0.7625 - direction_output_auc_2: 0.9713 - distance_output_Precision: 0.9097 - distance_output_Recall: 0.8778 - distance_output_accuracy: 0.8992 - distance_output_auc_1: 0.9916 - gunshot_output_Precision: 0.9835 - gunshot_output_Recall: 0.9797 - gunshot_output_accuracy: 0.9836 - gunshot_output_auc: 0.9994 - loss: 0.8440 - val_direction_output_Precision: 0.7589 - val_direction_output_Recall: 0.6136 - val_direction_output_accuracy: 0.6661 - val_direction_output_auc_2: 0.9450 - val_distance_output_Precision: 0.9006 - val_distance_output_Recall: 0.8136 - val_distance_output_accuracy: 0.8559 - val_distance_output_auc_1: 0.9831 - val_gunshot_output_Precision: 0.9490 - val_gunshot_output_Recall: 0.9458 - val_gunshot_output_accuracy: 0.9458 - val_gunshot_output_auc: 0.9908 - val_loss: 1.3631\n",
      "Epoch 99/150\n",
      "\u001b[1m43/43\u001b[0m \u001b[32m━━━━━━━━━━━━━━━━━━━━\u001b[0m\u001b[37m\u001b[0m \u001b[1m15s\u001b[0m 344ms/step - direction_output_Precision: 0.8141 - direction_output_Recall: 0.6542 - direction_output_accuracy: 0.7355 - direction_output_auc_2: 0.9690 - distance_output_Precision: 0.9144 - distance_output_Recall: 0.8697 - distance_output_accuracy: 0.8979 - distance_output_auc_1: 0.9938 - gunshot_output_Precision: 0.9805 - gunshot_output_Recall: 0.9792 - gunshot_output_accuracy: 0.9802 - gunshot_output_auc: 0.9989 - loss: 0.8569 - val_direction_output_Precision: 0.7694 - val_direction_output_Recall: 0.6220 - val_direction_output_accuracy: 0.6949 - val_direction_output_auc_2: 0.9434 - val_distance_output_Precision: 0.8748 - val_distance_output_Recall: 0.8407 - val_distance_output_accuracy: 0.8508 - val_distance_output_auc_1: 0.9799 - val_gunshot_output_Precision: 0.9423 - val_gunshot_output_Recall: 0.9407 - val_gunshot_output_accuracy: 0.9407 - val_gunshot_output_auc: 0.9843 - val_loss: 1.5249\n",
      "Epoch 100/150\n",
      "\u001b[1m43/43\u001b[0m \u001b[32m━━━━━━━━━━━━━━━━━━━━\u001b[0m\u001b[37m\u001b[0m \u001b[1m15s\u001b[0m 351ms/step - direction_output_Precision: 0.8381 - direction_output_Recall: 0.6781 - direction_output_accuracy: 0.7490 - direction_output_auc_2: 0.9668 - distance_output_Precision: 0.9195 - distance_output_Recall: 0.8794 - distance_output_accuracy: 0.8998 - distance_output_auc_1: 0.9925 - gunshot_output_Precision: 0.9861 - gunshot_output_Recall: 0.9855 - gunshot_output_accuracy: 0.9861 - gunshot_output_auc: 0.9982 - loss: 0.8762 - val_direction_output_Precision: 0.7571 - val_direction_output_Recall: 0.6288 - val_direction_output_accuracy: 0.6763 - val_direction_output_auc_2: 0.9412 - val_distance_output_Precision: 0.8773 - val_distance_output_Recall: 0.8119 - val_distance_output_accuracy: 0.8390 - val_distance_output_auc_1: 0.9776 - val_gunshot_output_Precision: 0.9440 - val_gunshot_output_Recall: 0.9424 - val_gunshot_output_accuracy: 0.9424 - val_gunshot_output_auc: 0.9860 - val_loss: 1.5208\n",
      "Epoch 101/150\n",
      "\u001b[1m43/43\u001b[0m \u001b[32m━━━━━━━━━━━━━━━━━━━━\u001b[0m\u001b[37m\u001b[0m \u001b[1m16s\u001b[0m 379ms/step - direction_output_Precision: 0.8133 - direction_output_Recall: 0.6638 - direction_output_accuracy: 0.7284 - direction_output_auc_2: 0.9655 - distance_output_Precision: 0.9068 - distance_output_Recall: 0.8651 - distance_output_accuracy: 0.8830 - distance_output_auc_1: 0.9924 - gunshot_output_Precision: 0.9710 - gunshot_output_Recall: 0.9695 - gunshot_output_accuracy: 0.9695 - gunshot_output_auc: 0.9973 - loss: 0.9455 - val_direction_output_Precision: 0.7391 - val_direction_output_Recall: 0.6339 - val_direction_output_accuracy: 0.6695 - val_direction_output_auc_2: 0.9449 - val_distance_output_Precision: 0.9002 - val_distance_output_Recall: 0.8254 - val_distance_output_accuracy: 0.8678 - val_distance_output_auc_1: 0.9868 - val_gunshot_output_Precision: 0.9475 - val_gunshot_output_Recall: 0.9475 - val_gunshot_output_accuracy: 0.9475 - val_gunshot_output_auc: 0.9900 - val_loss: 1.3170\n",
      "Epoch 102/150\n",
      "\u001b[1m43/43\u001b[0m \u001b[32m━━━━━━━━━━━━━━━━━━━━\u001b[0m\u001b[37m\u001b[0m \u001b[1m15s\u001b[0m 355ms/step - direction_output_Precision: 0.8544 - direction_output_Recall: 0.7003 - direction_output_accuracy: 0.7648 - direction_output_auc_2: 0.9708 - distance_output_Precision: 0.9093 - distance_output_Recall: 0.8601 - distance_output_accuracy: 0.8784 - distance_output_auc_1: 0.9898 - gunshot_output_Precision: 0.9710 - gunshot_output_Recall: 0.9669 - gunshot_output_accuracy: 0.9702 - gunshot_output_auc: 0.9979 - loss: 0.9278 - val_direction_output_Precision: 0.7697 - val_direction_output_Recall: 0.6288 - val_direction_output_accuracy: 0.6864 - val_direction_output_auc_2: 0.9431 - val_distance_output_Precision: 0.8905 - val_distance_output_Recall: 0.8136 - val_distance_output_accuracy: 0.8356 - val_distance_output_auc_1: 0.9812 - val_gunshot_output_Precision: 0.9371 - val_gunshot_output_Recall: 0.9339 - val_gunshot_output_accuracy: 0.9356 - val_gunshot_output_auc: 0.9864 - val_loss: 1.4918\n",
      "Epoch 103/150\n",
      "\u001b[1m43/43\u001b[0m \u001b[32m━━━━━━━━━━━━━━━━━━━━\u001b[0m\u001b[37m\u001b[0m \u001b[1m15s\u001b[0m 349ms/step - direction_output_Precision: 0.8376 - direction_output_Recall: 0.6751 - direction_output_accuracy: 0.7392 - direction_output_auc_2: 0.9655 - distance_output_Precision: 0.9055 - distance_output_Recall: 0.8547 - distance_output_accuracy: 0.8721 - distance_output_auc_1: 0.9893 - gunshot_output_Precision: 0.9725 - gunshot_output_Recall: 0.9708 - gunshot_output_accuracy: 0.9715 - gunshot_output_auc: 0.9986 - loss: 0.9536 - val_direction_output_Precision: 0.7422 - val_direction_output_Recall: 0.6051 - val_direction_output_accuracy: 0.6559 - val_direction_output_auc_2: 0.9383 - val_distance_output_Precision: 0.8916 - val_distance_output_Recall: 0.7949 - val_distance_output_accuracy: 0.8322 - val_distance_output_auc_1: 0.9793 - val_gunshot_output_Precision: 0.9248 - val_gunshot_output_Recall: 0.9169 - val_gunshot_output_accuracy: 0.9220 - val_gunshot_output_auc: 0.9820 - val_loss: 1.5875\n",
      "Epoch 104/150\n",
      "\u001b[1m43/43\u001b[0m \u001b[32m━━━━━━━━━━━━━━━━━━━━\u001b[0m\u001b[37m\u001b[0m \u001b[1m22s\u001b[0m 384ms/step - direction_output_Precision: 0.8391 - direction_output_Recall: 0.6861 - direction_output_accuracy: 0.7556 - direction_output_auc_2: 0.9675 - distance_output_Precision: 0.9261 - distance_output_Recall: 0.8717 - distance_output_accuracy: 0.8972 - distance_output_auc_1: 0.9936 - gunshot_output_Precision: 0.9796 - gunshot_output_Recall: 0.9766 - gunshot_output_accuracy: 0.9773 - gunshot_output_auc: 0.9988 - loss: 0.8604 - val_direction_output_Precision: 0.7359 - val_direction_output_Recall: 0.6186 - val_direction_output_accuracy: 0.6780 - val_direction_output_auc_2: 0.9392 - val_distance_output_Precision: 0.8809 - val_distance_output_Recall: 0.8271 - val_distance_output_accuracy: 0.8475 - val_distance_output_auc_1: 0.9776 - val_gunshot_output_Precision: 0.9338 - val_gunshot_output_Recall: 0.9322 - val_gunshot_output_accuracy: 0.9339 - val_gunshot_output_auc: 0.9800 - val_loss: 1.5645\n",
      "Epoch 105/150\n",
      "\u001b[1m43/43\u001b[0m \u001b[32m━━━━━━━━━━━━━━━━━━━━\u001b[0m\u001b[37m\u001b[0m \u001b[1m18s\u001b[0m 419ms/step - direction_output_Precision: 0.8224 - direction_output_Recall: 0.6698 - direction_output_accuracy: 0.7535 - direction_output_auc_2: 0.9684 - distance_output_Precision: 0.9187 - distance_output_Recall: 0.8736 - distance_output_accuracy: 0.8939 - distance_output_auc_1: 0.9936 - gunshot_output_Precision: 0.9834 - gunshot_output_Recall: 0.9816 - gunshot_output_accuracy: 0.9834 - gunshot_output_auc: 0.9989 - loss: 0.8472 - val_direction_output_Precision: 0.7411 - val_direction_output_Recall: 0.6017 - val_direction_output_accuracy: 0.6695 - val_direction_output_auc_2: 0.9359 - val_distance_output_Precision: 0.8799 - val_distance_output_Recall: 0.8068 - val_distance_output_accuracy: 0.8373 - val_distance_output_auc_1: 0.9778 - val_gunshot_output_Precision: 0.9390 - val_gunshot_output_Recall: 0.9390 - val_gunshot_output_accuracy: 0.9390 - val_gunshot_output_auc: 0.9842 - val_loss: 1.5966\n",
      "Epoch 106/150\n",
      "\u001b[1m43/43\u001b[0m \u001b[32m━━━━━━━━━━━━━━━━━━━━\u001b[0m\u001b[37m\u001b[0m \u001b[1m16s\u001b[0m 369ms/step - direction_output_Precision: 0.8269 - direction_output_Recall: 0.6976 - direction_output_accuracy: 0.7651 - direction_output_auc_2: 0.9716 - distance_output_Precision: 0.9338 - distance_output_Recall: 0.8976 - distance_output_accuracy: 0.9175 - distance_output_auc_1: 0.9950 - gunshot_output_Precision: 0.9888 - gunshot_output_Recall: 0.9886 - gunshot_output_accuracy: 0.9888 - gunshot_output_auc: 0.9988 - loss: 0.7784 - val_direction_output_Precision: 0.7582 - val_direction_output_Recall: 0.6271 - val_direction_output_accuracy: 0.6932 - val_direction_output_auc_2: 0.9364 - val_distance_output_Precision: 0.8899 - val_distance_output_Recall: 0.8220 - val_distance_output_accuracy: 0.8525 - val_distance_output_auc_1: 0.9769 - val_gunshot_output_Precision: 0.9286 - val_gunshot_output_Recall: 0.9254 - val_gunshot_output_accuracy: 0.9271 - val_gunshot_output_auc: 0.9808 - val_loss: 1.6374\n",
      "Epoch 107/150\n",
      "\u001b[1m43/43\u001b[0m \u001b[32m━━━━━━━━━━━━━━━━━━━━\u001b[0m\u001b[37m\u001b[0m \u001b[1m16s\u001b[0m 373ms/step - direction_output_Precision: 0.8296 - direction_output_Recall: 0.6899 - direction_output_accuracy: 0.7590 - direction_output_auc_2: 0.9707 - distance_output_Precision: 0.9234 - distance_output_Recall: 0.8839 - distance_output_accuracy: 0.9048 - distance_output_auc_1: 0.9925 - gunshot_output_Precision: 0.9805 - gunshot_output_Recall: 0.9795 - gunshot_output_accuracy: 0.9795 - gunshot_output_auc: 0.9985 - loss: 0.8465 - val_direction_output_Precision: 0.6936 - val_direction_output_Recall: 0.6102 - val_direction_output_accuracy: 0.6559 - val_direction_output_auc_2: 0.9299 - val_distance_output_Precision: 0.8715 - val_distance_output_Recall: 0.7932 - val_distance_output_accuracy: 0.8339 - val_distance_output_auc_1: 0.9752 - val_gunshot_output_Precision: 0.9201 - val_gunshot_output_Recall: 0.9169 - val_gunshot_output_accuracy: 0.9169 - val_gunshot_output_auc: 0.9813 - val_loss: 1.7535\n",
      "Epoch 108/150\n",
      "\u001b[1m43/43\u001b[0m \u001b[32m━━━━━━━━━━━━━━━━━━━━\u001b[0m\u001b[37m\u001b[0m \u001b[1m17s\u001b[0m 382ms/step - direction_output_Precision: 0.8503 - direction_output_Recall: 0.7059 - direction_output_accuracy: 0.7745 - direction_output_auc_2: 0.9720 - distance_output_Precision: 0.9086 - distance_output_Recall: 0.8643 - distance_output_accuracy: 0.8862 - distance_output_auc_1: 0.9922 - gunshot_output_Precision: 0.9802 - gunshot_output_Recall: 0.9786 - gunshot_output_accuracy: 0.9800 - gunshot_output_auc: 0.9984 - loss: 0.8497 - val_direction_output_Precision: 0.7569 - val_direction_output_Recall: 0.6017 - val_direction_output_accuracy: 0.6746 - val_direction_output_auc_2: 0.9344 - val_distance_output_Precision: 0.8867 - val_distance_output_Recall: 0.8220 - val_distance_output_accuracy: 0.8458 - val_distance_output_auc_1: 0.9749 - val_gunshot_output_Precision: 0.9232 - val_gunshot_output_Recall: 0.9169 - val_gunshot_output_accuracy: 0.9169 - val_gunshot_output_auc: 0.9810 - val_loss: 1.6708\n",
      "Epoch 109/150\n",
      "\u001b[1m43/43\u001b[0m \u001b[32m━━━━━━━━━━━━━━━━━━━━\u001b[0m\u001b[37m\u001b[0m \u001b[1m17s\u001b[0m 390ms/step - direction_output_Precision: 0.8085 - direction_output_Recall: 0.6719 - direction_output_accuracy: 0.7437 - direction_output_auc_2: 0.9659 - distance_output_Precision: 0.8874 - distance_output_Recall: 0.8432 - distance_output_accuracy: 0.8640 - distance_output_auc_1: 0.9896 - gunshot_output_Precision: 0.9778 - gunshot_output_Recall: 0.9763 - gunshot_output_accuracy: 0.9769 - gunshot_output_auc: 0.9990 - loss: 0.9579 - val_direction_output_Precision: 0.7716 - val_direction_output_Recall: 0.6356 - val_direction_output_accuracy: 0.6966 - val_direction_output_auc_2: 0.9423 - val_distance_output_Precision: 0.8644 - val_distance_output_Recall: 0.8102 - val_distance_output_accuracy: 0.8305 - val_distance_output_auc_1: 0.9786 - val_gunshot_output_Precision: 0.9334 - val_gunshot_output_Recall: 0.9271 - val_gunshot_output_accuracy: 0.9271 - val_gunshot_output_auc: 0.9867 - val_loss: 1.5387\n",
      "Epoch 110/150\n",
      "\u001b[1m43/43\u001b[0m \u001b[32m━━━━━━━━━━━━━━━━━━━━\u001b[0m\u001b[37m\u001b[0m \u001b[1m18s\u001b[0m 431ms/step - direction_output_Precision: 0.8292 - direction_output_Recall: 0.6656 - direction_output_accuracy: 0.7507 - direction_output_auc_2: 0.9675 - distance_output_Precision: 0.9102 - distance_output_Recall: 0.8753 - distance_output_accuracy: 0.8941 - distance_output_auc_1: 0.9932 - gunshot_output_Precision: 0.9784 - gunshot_output_Recall: 0.9780 - gunshot_output_accuracy: 0.9783 - gunshot_output_auc: 0.9991 - loss: 0.8675 - val_direction_output_Precision: 0.7421 - val_direction_output_Recall: 0.6339 - val_direction_output_accuracy: 0.6881 - val_direction_output_auc_2: 0.9459 - val_distance_output_Precision: 0.8915 - val_distance_output_Recall: 0.8220 - val_distance_output_accuracy: 0.8424 - val_distance_output_auc_1: 0.9825 - val_gunshot_output_Precision: 0.9470 - val_gunshot_output_Recall: 0.9390 - val_gunshot_output_accuracy: 0.9407 - val_gunshot_output_auc: 0.9874 - val_loss: 1.4316\n",
      "Epoch 111/150\n",
      "\u001b[1m43/43\u001b[0m \u001b[32m━━━━━━━━━━━━━━━━━━━━\u001b[0m\u001b[37m\u001b[0m \u001b[1m21s\u001b[0m 484ms/step - direction_output_Precision: 0.8361 - direction_output_Recall: 0.6845 - direction_output_accuracy: 0.7413 - direction_output_auc_2: 0.9666 - distance_output_Precision: 0.9291 - distance_output_Recall: 0.8860 - distance_output_accuracy: 0.9105 - distance_output_auc_1: 0.9936 - gunshot_output_Precision: 0.9816 - gunshot_output_Recall: 0.9814 - gunshot_output_accuracy: 0.9816 - gunshot_output_auc: 0.9993 - loss: 0.8555 - val_direction_output_Precision: 0.7613 - val_direction_output_Recall: 0.6542 - val_direction_output_accuracy: 0.6983 - val_direction_output_auc_2: 0.9491 - val_distance_output_Precision: 0.9120 - val_distance_output_Recall: 0.8780 - val_distance_output_accuracy: 0.8932 - val_distance_output_auc_1: 0.9869 - val_gunshot_output_Precision: 0.9524 - val_gunshot_output_Recall: 0.9492 - val_gunshot_output_accuracy: 0.9508 - val_gunshot_output_auc: 0.9878 - val_loss: 1.2934\n",
      "Epoch 112/150\n",
      "\u001b[1m43/43\u001b[0m \u001b[32m━━━━━━━━━━━━━━━━━━━━\u001b[0m\u001b[37m\u001b[0m \u001b[1m22s\u001b[0m 513ms/step - direction_output_Precision: 0.8492 - direction_output_Recall: 0.7089 - direction_output_accuracy: 0.7778 - direction_output_auc_2: 0.9741 - distance_output_Precision: 0.9198 - distance_output_Recall: 0.8773 - distance_output_accuracy: 0.8978 - distance_output_auc_1: 0.9934 - gunshot_output_Precision: 0.9789 - gunshot_output_Recall: 0.9789 - gunshot_output_accuracy: 0.9789 - gunshot_output_auc: 0.9990 - loss: 0.8093 - val_direction_output_Precision: 0.7198 - val_direction_output_Recall: 0.6051 - val_direction_output_accuracy: 0.6644 - val_direction_output_auc_2: 0.9291 - val_distance_output_Precision: 0.8702 - val_distance_output_Recall: 0.8068 - val_distance_output_accuracy: 0.8373 - val_distance_output_auc_1: 0.9697 - val_gunshot_output_Precision: 0.9231 - val_gunshot_output_Recall: 0.9153 - val_gunshot_output_accuracy: 0.9203 - val_gunshot_output_auc: 0.9760 - val_loss: 1.8374\n",
      "Epoch 113/150\n",
      "\u001b[1m43/43\u001b[0m \u001b[32m━━━━━━━━━━━━━━━━━━━━\u001b[0m\u001b[37m\u001b[0m \u001b[1m16s\u001b[0m 376ms/step - direction_output_Precision: 0.8417 - direction_output_Recall: 0.6927 - direction_output_accuracy: 0.7723 - direction_output_auc_2: 0.9719 - distance_output_Precision: 0.9099 - distance_output_Recall: 0.8723 - distance_output_accuracy: 0.8897 - distance_output_auc_1: 0.9925 - gunshot_output_Precision: 0.9854 - gunshot_output_Recall: 0.9842 - gunshot_output_accuracy: 0.9845 - gunshot_output_auc: 0.9993 - loss: 0.8458 - val_direction_output_Precision: 0.7373 - val_direction_output_Recall: 0.6373 - val_direction_output_accuracy: 0.6797 - val_direction_output_auc_2: 0.9406 - val_distance_output_Precision: 0.8541 - val_distance_output_Recall: 0.8034 - val_distance_output_accuracy: 0.8237 - val_distance_output_auc_1: 0.9772 - val_gunshot_output_Precision: 0.9369 - val_gunshot_output_Recall: 0.9305 - val_gunshot_output_accuracy: 0.9305 - val_gunshot_output_auc: 0.9829 - val_loss: 1.5979\n",
      "Epoch 114/150\n",
      "\u001b[1m43/43\u001b[0m \u001b[32m━━━━━━━━━━━━━━━━━━━━\u001b[0m\u001b[37m\u001b[0m \u001b[1m14s\u001b[0m 328ms/step - direction_output_Precision: 0.8505 - direction_output_Recall: 0.6940 - direction_output_accuracy: 0.7682 - direction_output_auc_2: 0.9710 - distance_output_Precision: 0.9249 - distance_output_Recall: 0.8894 - distance_output_accuracy: 0.9022 - distance_output_auc_1: 0.9939 - gunshot_output_Precision: 0.9766 - gunshot_output_Recall: 0.9758 - gunshot_output_accuracy: 0.9767 - gunshot_output_auc: 0.9983 - loss: 0.8264 - val_direction_output_Precision: 0.7590 - val_direction_output_Recall: 0.6407 - val_direction_output_accuracy: 0.6932 - val_direction_output_auc_2: 0.9390 - val_distance_output_Precision: 0.8711 - val_distance_output_Recall: 0.8017 - val_distance_output_accuracy: 0.8288 - val_distance_output_auc_1: 0.9788 - val_gunshot_output_Precision: 0.9287 - val_gunshot_output_Recall: 0.9271 - val_gunshot_output_accuracy: 0.9288 - val_gunshot_output_auc: 0.9850 - val_loss: 1.5639\n",
      "Epoch 115/150\n",
      "\u001b[1m43/43\u001b[0m \u001b[32m━━━━━━━━━━━━━━━━━━━━\u001b[0m\u001b[37m\u001b[0m \u001b[1m14s\u001b[0m 327ms/step - direction_output_Precision: 0.8251 - direction_output_Recall: 0.6838 - direction_output_accuracy: 0.7522 - direction_output_auc_2: 0.9675 - distance_output_Precision: 0.8867 - distance_output_Recall: 0.8435 - distance_output_accuracy: 0.8656 - distance_output_auc_1: 0.9879 - gunshot_output_Precision: 0.9834 - gunshot_output_Recall: 0.9815 - gunshot_output_accuracy: 0.9834 - gunshot_output_auc: 0.9995 - loss: 0.9409 - val_direction_output_Precision: 0.7146 - val_direction_output_Recall: 0.6407 - val_direction_output_accuracy: 0.6695 - val_direction_output_auc_2: 0.9381 - val_distance_output_Precision: 0.8885 - val_distance_output_Recall: 0.8237 - val_distance_output_accuracy: 0.8475 - val_distance_output_auc_1: 0.9824 - val_gunshot_output_Precision: 0.9370 - val_gunshot_output_Recall: 0.9322 - val_gunshot_output_accuracy: 0.9356 - val_gunshot_output_auc: 0.9863 - val_loss: 1.5149\n",
      "Epoch 116/150\n",
      "\u001b[1m43/43\u001b[0m \u001b[32m━━━━━━━━━━━━━━━━━━━━\u001b[0m\u001b[37m\u001b[0m \u001b[1m14s\u001b[0m 328ms/step - direction_output_Precision: 0.8479 - direction_output_Recall: 0.7235 - direction_output_accuracy: 0.7867 - direction_output_auc_2: 0.9743 - distance_output_Precision: 0.9368 - distance_output_Recall: 0.9000 - distance_output_accuracy: 0.9234 - distance_output_auc_1: 0.9957 - gunshot_output_Precision: 0.9838 - gunshot_output_Recall: 0.9820 - gunshot_output_accuracy: 0.9820 - gunshot_output_auc: 0.9991 - loss: 0.7537 - val_direction_output_Precision: 0.7285 - val_direction_output_Recall: 0.6322 - val_direction_output_accuracy: 0.6644 - val_direction_output_auc_2: 0.9314 - val_distance_output_Precision: 0.8822 - val_distance_output_Recall: 0.8254 - val_distance_output_accuracy: 0.8458 - val_distance_output_auc_1: 0.9780 - val_gunshot_output_Precision: 0.9372 - val_gunshot_output_Recall: 0.9356 - val_gunshot_output_accuracy: 0.9373 - val_gunshot_output_auc: 0.9802 - val_loss: 1.6771\n",
      "Epoch 117/150\n",
      "\u001b[1m43/43\u001b[0m \u001b[32m━━━━━━━━━━━━━━━━━━━━\u001b[0m\u001b[37m\u001b[0m \u001b[1m14s\u001b[0m 321ms/step - direction_output_Precision: 0.8200 - direction_output_Recall: 0.6882 - direction_output_accuracy: 0.7521 - direction_output_auc_2: 0.9690 - distance_output_Precision: 0.9206 - distance_output_Recall: 0.8852 - distance_output_accuracy: 0.9012 - distance_output_auc_1: 0.9938 - gunshot_output_Precision: 0.9788 - gunshot_output_Recall: 0.9783 - gunshot_output_accuracy: 0.9783 - gunshot_output_auc: 0.9979 - loss: 0.8688 - val_direction_output_Precision: 0.7663 - val_direction_output_Recall: 0.6559 - val_direction_output_accuracy: 0.7000 - val_direction_output_auc_2: 0.9466 - val_distance_output_Precision: 0.9043 - val_distance_output_Recall: 0.8492 - val_distance_output_accuracy: 0.8780 - val_distance_output_auc_1: 0.9863 - val_gunshot_output_Precision: 0.9473 - val_gunshot_output_Recall: 0.9441 - val_gunshot_output_accuracy: 0.9475 - val_gunshot_output_auc: 0.9884 - val_loss: 1.3118\n",
      "Epoch 118/150\n",
      "\u001b[1m43/43\u001b[0m \u001b[32m━━━━━━━━━━━━━━━━━━━━\u001b[0m\u001b[37m\u001b[0m \u001b[1m14s\u001b[0m 328ms/step - direction_output_Precision: 0.8196 - direction_output_Recall: 0.7031 - direction_output_accuracy: 0.7580 - direction_output_auc_2: 0.9716 - distance_output_Precision: 0.9325 - distance_output_Recall: 0.9002 - distance_output_accuracy: 0.9160 - distance_output_auc_1: 0.9951 - gunshot_output_Precision: 0.9878 - gunshot_output_Recall: 0.9850 - gunshot_output_accuracy: 0.9863 - gunshot_output_auc: 0.9992 - loss: 0.7842 - val_direction_output_Precision: 0.7186 - val_direction_output_Recall: 0.6407 - val_direction_output_accuracy: 0.6712 - val_direction_output_auc_2: 0.9324 - val_distance_output_Precision: 0.8679 - val_distance_output_Recall: 0.8237 - val_distance_output_accuracy: 0.8508 - val_distance_output_auc_1: 0.9739 - val_gunshot_output_Precision: 0.9201 - val_gunshot_output_Recall: 0.9169 - val_gunshot_output_accuracy: 0.9186 - val_gunshot_output_auc: 0.9779 - val_loss: 1.7827\n",
      "Epoch 119/150\n",
      "\u001b[1m43/43\u001b[0m \u001b[32m━━━━━━━━━━━━━━━━━━━━\u001b[0m\u001b[37m\u001b[0m \u001b[1m14s\u001b[0m 328ms/step - direction_output_Precision: 0.8367 - direction_output_Recall: 0.7041 - direction_output_accuracy: 0.7741 - direction_output_auc_2: 0.9748 - distance_output_Precision: 0.9385 - distance_output_Recall: 0.8995 - distance_output_accuracy: 0.9224 - distance_output_auc_1: 0.9954 - gunshot_output_Precision: 0.9852 - gunshot_output_Recall: 0.9851 - gunshot_output_accuracy: 0.9851 - gunshot_output_auc: 0.9995 - loss: 0.7575 - val_direction_output_Precision: 0.7440 - val_direction_output_Recall: 0.6305 - val_direction_output_accuracy: 0.6881 - val_direction_output_auc_2: 0.9374 - val_distance_output_Precision: 0.8921 - val_distance_output_Recall: 0.8271 - val_distance_output_accuracy: 0.8508 - val_distance_output_auc_1: 0.9794 - val_gunshot_output_Precision: 0.9331 - val_gunshot_output_Recall: 0.9220 - val_gunshot_output_accuracy: 0.9288 - val_gunshot_output_auc: 0.9821 - val_loss: 1.5986\n",
      "Epoch 120/150\n",
      "\u001b[1m43/43\u001b[0m \u001b[32m━━━━━━━━━━━━━━━━━━━━\u001b[0m\u001b[37m\u001b[0m \u001b[1m14s\u001b[0m 326ms/step - direction_output_Precision: 0.8298 - direction_output_Recall: 0.7084 - direction_output_accuracy: 0.7799 - direction_output_auc_2: 0.9733 - distance_output_Precision: 0.9433 - distance_output_Recall: 0.9140 - distance_output_accuracy: 0.9332 - distance_output_auc_1: 0.9953 - gunshot_output_Precision: 0.9792 - gunshot_output_Recall: 0.9789 - gunshot_output_accuracy: 0.9789 - gunshot_output_auc: 0.9983 - loss: 0.7596 - val_direction_output_Precision: 0.7129 - val_direction_output_Recall: 0.6356 - val_direction_output_accuracy: 0.6678 - val_direction_output_auc_2: 0.9390 - val_distance_output_Precision: 0.8782 - val_distance_output_Recall: 0.8186 - val_distance_output_accuracy: 0.8390 - val_distance_output_auc_1: 0.9797 - val_gunshot_output_Precision: 0.9489 - val_gunshot_output_Recall: 0.9441 - val_gunshot_output_accuracy: 0.9458 - val_gunshot_output_auc: 0.9901 - val_loss: 1.5433\n",
      "Epoch 121/150\n",
      "\u001b[1m43/43\u001b[0m \u001b[32m━━━━━━━━━━━━━━━━━━━━\u001b[0m\u001b[37m\u001b[0m \u001b[1m14s\u001b[0m 329ms/step - direction_output_Precision: 0.8349 - direction_output_Recall: 0.6949 - direction_output_accuracy: 0.7708 - direction_output_auc_2: 0.9719 - distance_output_Precision: 0.9164 - distance_output_Recall: 0.8821 - distance_output_accuracy: 0.8994 - distance_output_auc_1: 0.9940 - gunshot_output_Precision: 0.9804 - gunshot_output_Recall: 0.9795 - gunshot_output_accuracy: 0.9804 - gunshot_output_auc: 0.9986 - loss: 0.8226 - val_direction_output_Precision: 0.7545 - val_direction_output_Recall: 0.6356 - val_direction_output_accuracy: 0.6864 - val_direction_output_auc_2: 0.9438 - val_distance_output_Precision: 0.8698 - val_distance_output_Recall: 0.8153 - val_distance_output_accuracy: 0.8373 - val_distance_output_auc_1: 0.9743 - val_gunshot_output_Precision: 0.9235 - val_gunshot_output_Recall: 0.9203 - val_gunshot_output_accuracy: 0.9220 - val_gunshot_output_auc: 0.9770 - val_loss: 1.7053\n",
      "Epoch 122/150\n",
      "\u001b[1m43/43\u001b[0m \u001b[32m━━━━━━━━━━━━━━━━━━━━\u001b[0m\u001b[37m\u001b[0m \u001b[1m14s\u001b[0m 320ms/step - direction_output_Precision: 0.8324 - direction_output_Recall: 0.6935 - direction_output_accuracy: 0.7728 - direction_output_auc_2: 0.9721 - distance_output_Precision: 0.9269 - distance_output_Recall: 0.8938 - distance_output_accuracy: 0.9132 - distance_output_auc_1: 0.9950 - gunshot_output_Precision: 0.9909 - gunshot_output_Recall: 0.9896 - gunshot_output_accuracy: 0.9899 - gunshot_output_auc: 0.9989 - loss: 0.7724 - val_direction_output_Precision: 0.7359 - val_direction_output_Recall: 0.6424 - val_direction_output_accuracy: 0.6746 - val_direction_output_auc_2: 0.9393 - val_distance_output_Precision: 0.8693 - val_distance_output_Recall: 0.8119 - val_distance_output_accuracy: 0.8356 - val_distance_output_auc_1: 0.9775 - val_gunshot_output_Precision: 0.9288 - val_gunshot_output_Recall: 0.9288 - val_gunshot_output_accuracy: 0.9288 - val_gunshot_output_auc: 0.9796 - val_loss: 1.6781\n",
      "Epoch 123/150\n",
      "\u001b[1m43/43\u001b[0m \u001b[32m━━━━━━━━━━━━━━━━━━━━\u001b[0m\u001b[37m\u001b[0m \u001b[1m14s\u001b[0m 329ms/step - direction_output_Precision: 0.8545 - direction_output_Recall: 0.7193 - direction_output_accuracy: 0.7846 - direction_output_auc_2: 0.9760 - distance_output_Precision: 0.9321 - distance_output_Recall: 0.8857 - distance_output_accuracy: 0.9075 - distance_output_auc_1: 0.9938 - gunshot_output_Precision: 0.9863 - gunshot_output_Recall: 0.9855 - gunshot_output_accuracy: 0.9863 - gunshot_output_auc: 0.9991 - loss: 0.7618 - val_direction_output_Precision: 0.7333 - val_direction_output_Recall: 0.6525 - val_direction_output_accuracy: 0.6864 - val_direction_output_auc_2: 0.9394 - val_distance_output_Precision: 0.8789 - val_distance_output_Recall: 0.8119 - val_distance_output_accuracy: 0.8407 - val_distance_output_auc_1: 0.9762 - val_gunshot_output_Precision: 0.9284 - val_gunshot_output_Recall: 0.9237 - val_gunshot_output_accuracy: 0.9254 - val_gunshot_output_auc: 0.9806 - val_loss: 1.6652\n",
      "Epoch 124/150\n",
      "\u001b[1m43/43\u001b[0m \u001b[32m━━━━━━━━━━━━━━━━━━━━\u001b[0m\u001b[37m\u001b[0m \u001b[1m14s\u001b[0m 329ms/step - direction_output_Precision: 0.8487 - direction_output_Recall: 0.7157 - direction_output_accuracy: 0.7920 - direction_output_auc_2: 0.9745 - distance_output_Precision: 0.9201 - distance_output_Recall: 0.8781 - distance_output_accuracy: 0.8967 - distance_output_auc_1: 0.9945 - gunshot_output_Precision: 0.9803 - gunshot_output_Recall: 0.9793 - gunshot_output_accuracy: 0.9803 - gunshot_output_auc: 0.9979 - loss: 0.8016 - val_direction_output_Precision: 0.7283 - val_direction_output_Recall: 0.6271 - val_direction_output_accuracy: 0.6576 - val_direction_output_auc_2: 0.9318 - val_distance_output_Precision: 0.8499 - val_distance_output_Recall: 0.7966 - val_distance_output_accuracy: 0.8136 - val_distance_output_auc_1: 0.9686 - val_gunshot_output_Precision: 0.9182 - val_gunshot_output_Recall: 0.9136 - val_gunshot_output_accuracy: 0.9169 - val_gunshot_output_auc: 0.9763 - val_loss: 1.9137\n",
      "Epoch 125/150\n",
      "\u001b[1m43/43\u001b[0m \u001b[32m━━━━━━━━━━━━━━━━━━━━\u001b[0m\u001b[37m\u001b[0m \u001b[1m15s\u001b[0m 342ms/step - direction_output_Precision: 0.8482 - direction_output_Recall: 0.6868 - direction_output_accuracy: 0.7668 - direction_output_auc_2: 0.9715 - distance_output_Precision: 0.9316 - distance_output_Recall: 0.8991 - distance_output_accuracy: 0.9157 - distance_output_auc_1: 0.9952 - gunshot_output_Precision: 0.9872 - gunshot_output_Recall: 0.9865 - gunshot_output_accuracy: 0.9865 - gunshot_output_auc: 0.9993 - loss: 0.7855 - val_direction_output_Precision: 0.7165 - val_direction_output_Recall: 0.6169 - val_direction_output_accuracy: 0.6644 - val_direction_output_auc_2: 0.9392 - val_distance_output_Precision: 0.8907 - val_distance_output_Recall: 0.8288 - val_distance_output_accuracy: 0.8576 - val_distance_output_auc_1: 0.9783 - val_gunshot_output_Precision: 0.9355 - val_gunshot_output_Recall: 0.9339 - val_gunshot_output_accuracy: 0.9356 - val_gunshot_output_auc: 0.9822 - val_loss: 1.5868\n",
      "Epoch 126/150\n",
      "\u001b[1m43/43\u001b[0m \u001b[32m━━━━━━━━━━━━━━━━━━━━\u001b[0m\u001b[37m\u001b[0m \u001b[1m13s\u001b[0m 302ms/step - direction_output_Precision: 0.8445 - direction_output_Recall: 0.7140 - direction_output_accuracy: 0.7821 - direction_output_auc_2: 0.9728 - distance_output_Precision: 0.9301 - distance_output_Recall: 0.8885 - distance_output_accuracy: 0.9048 - distance_output_auc_1: 0.9945 - gunshot_output_Precision: 0.9726 - gunshot_output_Recall: 0.9723 - gunshot_output_accuracy: 0.9726 - gunshot_output_auc: 0.9956 - loss: 0.8292 - val_direction_output_Precision: 0.7576 - val_direction_output_Recall: 0.6305 - val_direction_output_accuracy: 0.6898 - val_direction_output_auc_2: 0.9412 - val_distance_output_Precision: 0.8917 - val_distance_output_Recall: 0.8373 - val_distance_output_accuracy: 0.8542 - val_distance_output_auc_1: 0.9796 - val_gunshot_output_Precision: 0.9423 - val_gunshot_output_Recall: 0.9407 - val_gunshot_output_accuracy: 0.9407 - val_gunshot_output_auc: 0.9829 - val_loss: 1.5288\n",
      "Epoch 127/150\n",
      "\u001b[1m43/43\u001b[0m \u001b[32m━━━━━━━━━━━━━━━━━━━━\u001b[0m\u001b[37m\u001b[0m \u001b[1m13s\u001b[0m 299ms/step - direction_output_Precision: 0.8291 - direction_output_Recall: 0.7261 - direction_output_accuracy: 0.7663 - direction_output_auc_2: 0.9738 - distance_output_Precision: 0.9246 - distance_output_Recall: 0.8937 - distance_output_accuracy: 0.9119 - distance_output_auc_1: 0.9931 - gunshot_output_Precision: 0.9905 - gunshot_output_Recall: 0.9884 - gunshot_output_accuracy: 0.9885 - gunshot_output_auc: 0.9995 - loss: 0.7732 - val_direction_output_Precision: 0.7382 - val_direction_output_Recall: 0.6356 - val_direction_output_accuracy: 0.6763 - val_direction_output_auc_2: 0.9378 - val_distance_output_Precision: 0.8889 - val_distance_output_Recall: 0.8271 - val_distance_output_accuracy: 0.8458 - val_distance_output_auc_1: 0.9774 - val_gunshot_output_Precision: 0.9355 - val_gunshot_output_Recall: 0.9339 - val_gunshot_output_accuracy: 0.9339 - val_gunshot_output_auc: 0.9775 - val_loss: 1.6664\n",
      "Epoch 128/150\n",
      "\u001b[1m43/43\u001b[0m \u001b[32m━━━━━━━━━━━━━━━━━━━━\u001b[0m\u001b[37m\u001b[0m \u001b[1m13s\u001b[0m 296ms/step - direction_output_Precision: 0.8271 - direction_output_Recall: 0.7079 - direction_output_accuracy: 0.7576 - direction_output_auc_2: 0.9695 - distance_output_Precision: 0.9379 - distance_output_Recall: 0.9082 - distance_output_accuracy: 0.9196 - distance_output_auc_1: 0.9954 - gunshot_output_Precision: 0.9898 - gunshot_output_Recall: 0.9887 - gunshot_output_accuracy: 0.9898 - gunshot_output_auc: 0.9996 - loss: 0.7653 - val_direction_output_Precision: 0.7532 - val_direction_output_Recall: 0.6000 - val_direction_output_accuracy: 0.6729 - val_direction_output_auc_2: 0.9379 - val_distance_output_Precision: 0.8803 - val_distance_output_Recall: 0.8102 - val_distance_output_accuracy: 0.8424 - val_distance_output_auc_1: 0.9739 - val_gunshot_output_Precision: 0.9250 - val_gunshot_output_Recall: 0.9203 - val_gunshot_output_accuracy: 0.9220 - val_gunshot_output_auc: 0.9785 - val_loss: 1.6966\n",
      "Epoch 129/150\n",
      "\u001b[1m43/43\u001b[0m \u001b[32m━━━━━━━━━━━━━━━━━━━━\u001b[0m\u001b[37m\u001b[0m \u001b[1m13s\u001b[0m 297ms/step - direction_output_Precision: 0.8419 - direction_output_Recall: 0.6961 - direction_output_accuracy: 0.7752 - direction_output_auc_2: 0.9727 - distance_output_Precision: 0.9272 - distance_output_Recall: 0.8862 - distance_output_accuracy: 0.9078 - distance_output_auc_1: 0.9945 - gunshot_output_Precision: 0.9765 - gunshot_output_Recall: 0.9759 - gunshot_output_accuracy: 0.9765 - gunshot_output_auc: 0.9992 - loss: 0.8029 - val_direction_output_Precision: 0.7439 - val_direction_output_Recall: 0.6203 - val_direction_output_accuracy: 0.6763 - val_direction_output_auc_2: 0.9438 - val_distance_output_Precision: 0.8786 - val_distance_output_Recall: 0.8339 - val_distance_output_accuracy: 0.8559 - val_distance_output_auc_1: 0.9842 - val_gunshot_output_Precision: 0.9389 - val_gunshot_output_Recall: 0.9373 - val_gunshot_output_accuracy: 0.9390 - val_gunshot_output_auc: 0.9878 - val_loss: 1.4189\n",
      "Epoch 130/150\n",
      "\u001b[1m43/43\u001b[0m \u001b[32m━━━━━━━━━━━━━━━━━━━━\u001b[0m\u001b[37m\u001b[0m \u001b[1m13s\u001b[0m 304ms/step - direction_output_Precision: 0.8428 - direction_output_Recall: 0.7204 - direction_output_accuracy: 0.7892 - direction_output_auc_2: 0.9755 - distance_output_Precision: 0.9281 - distance_output_Recall: 0.8941 - distance_output_accuracy: 0.9068 - distance_output_auc_1: 0.9929 - gunshot_output_Precision: 0.9818 - gunshot_output_Recall: 0.9818 - gunshot_output_accuracy: 0.9818 - gunshot_output_auc: 0.9983 - loss: 0.7840 - val_direction_output_Precision: 0.7541 - val_direction_output_Recall: 0.6288 - val_direction_output_accuracy: 0.6983 - val_direction_output_auc_2: 0.9408 - val_distance_output_Precision: 0.8675 - val_distance_output_Recall: 0.8322 - val_distance_output_accuracy: 0.8492 - val_distance_output_auc_1: 0.9768 - val_gunshot_output_Precision: 0.9420 - val_gunshot_output_Recall: 0.9356 - val_gunshot_output_accuracy: 0.9390 - val_gunshot_output_auc: 0.9800 - val_loss: 1.6048\n",
      "Epoch 131/150\n",
      "\u001b[1m43/43\u001b[0m \u001b[32m━━━━━━━━━━━━━━━━━━━━\u001b[0m\u001b[37m\u001b[0m \u001b[1m13s\u001b[0m 293ms/step - direction_output_Precision: 0.8361 - direction_output_Recall: 0.7091 - direction_output_accuracy: 0.7745 - direction_output_auc_2: 0.9749 - distance_output_Precision: 0.9286 - distance_output_Recall: 0.9039 - distance_output_accuracy: 0.9122 - distance_output_auc_1: 0.9950 - gunshot_output_Precision: 0.9861 - gunshot_output_Recall: 0.9861 - gunshot_output_accuracy: 0.9861 - gunshot_output_auc: 0.9991 - loss: 0.7499 - val_direction_output_Precision: 0.7221 - val_direction_output_Recall: 0.6034 - val_direction_output_accuracy: 0.6525 - val_direction_output_auc_2: 0.9225 - val_distance_output_Precision: 0.8509 - val_distance_output_Recall: 0.7932 - val_distance_output_accuracy: 0.8102 - val_distance_output_auc_1: 0.9628 - val_gunshot_output_Precision: 0.9051 - val_gunshot_output_Recall: 0.9051 - val_gunshot_output_accuracy: 0.9051 - val_gunshot_output_auc: 0.9694 - val_loss: 2.1119\n",
      "Epoch 132/150\n",
      "\u001b[1m43/43\u001b[0m \u001b[32m━━━━━━━━━━━━━━━━━━━━\u001b[0m\u001b[37m\u001b[0m \u001b[1m13s\u001b[0m 297ms/step - direction_output_Precision: 0.8459 - direction_output_Recall: 0.6912 - direction_output_accuracy: 0.7770 - direction_output_auc_2: 0.9733 - distance_output_Precision: 0.9266 - distance_output_Recall: 0.9006 - distance_output_accuracy: 0.9102 - distance_output_auc_1: 0.9946 - gunshot_output_Precision: 0.9868 - gunshot_output_Recall: 0.9855 - gunshot_output_accuracy: 0.9855 - gunshot_output_auc: 0.9988 - loss: 0.7757 - val_direction_output_Precision: 0.7094 - val_direction_output_Recall: 0.6288 - val_direction_output_accuracy: 0.6746 - val_direction_output_auc_2: 0.9312 - val_distance_output_Precision: 0.8745 - val_distance_output_Recall: 0.8153 - val_distance_output_accuracy: 0.8390 - val_distance_output_auc_1: 0.9708 - val_gunshot_output_Precision: 0.9283 - val_gunshot_output_Recall: 0.9220 - val_gunshot_output_accuracy: 0.9254 - val_gunshot_output_auc: 0.9712 - val_loss: 1.8928\n",
      "Epoch 133/150\n",
      "\u001b[1m43/43\u001b[0m \u001b[32m━━━━━━━━━━━━━━━━━━━━\u001b[0m\u001b[37m\u001b[0m \u001b[1m12s\u001b[0m 290ms/step - direction_output_Precision: 0.8317 - direction_output_Recall: 0.6985 - direction_output_accuracy: 0.7625 - direction_output_auc_2: 0.9723 - distance_output_Precision: 0.9266 - distance_output_Recall: 0.8928 - distance_output_accuracy: 0.9126 - distance_output_auc_1: 0.9947 - gunshot_output_Precision: 0.9865 - gunshot_output_Recall: 0.9851 - gunshot_output_accuracy: 0.9851 - gunshot_output_auc: 0.9995 - loss: 0.7802 - val_direction_output_Precision: 0.6900 - val_direction_output_Recall: 0.6186 - val_direction_output_accuracy: 0.6492 - val_direction_output_auc_2: 0.9153 - val_distance_output_Precision: 0.8301 - val_distance_output_Recall: 0.7864 - val_distance_output_accuracy: 0.8051 - val_distance_output_auc_1: 0.9536 - val_gunshot_output_Precision: 0.8995 - val_gunshot_output_Recall: 0.8949 - val_gunshot_output_accuracy: 0.8966 - val_gunshot_output_auc: 0.9613 - val_loss: 2.5214\n",
      "Epoch 134/150\n",
      "\u001b[1m43/43\u001b[0m \u001b[32m━━━━━━━━━━━━━━━━━━━━\u001b[0m\u001b[37m\u001b[0m \u001b[1m12s\u001b[0m 289ms/step - direction_output_Precision: 0.8409 - direction_output_Recall: 0.7106 - direction_output_accuracy: 0.7751 - direction_output_auc_2: 0.9728 - distance_output_Precision: 0.9264 - distance_output_Recall: 0.8877 - distance_output_accuracy: 0.8989 - distance_output_auc_1: 0.9930 - gunshot_output_Precision: 0.9866 - gunshot_output_Recall: 0.9832 - gunshot_output_accuracy: 0.9833 - gunshot_output_auc: 0.9996 - loss: 0.8018 - val_direction_output_Precision: 0.7352 - val_direction_output_Recall: 0.6542 - val_direction_output_accuracy: 0.6864 - val_direction_output_auc_2: 0.9417 - val_distance_output_Precision: 0.8852 - val_distance_output_Recall: 0.8237 - val_distance_output_accuracy: 0.8525 - val_distance_output_auc_1: 0.9762 - val_gunshot_output_Precision: 0.9356 - val_gunshot_output_Recall: 0.9356 - val_gunshot_output_accuracy: 0.9356 - val_gunshot_output_auc: 0.9790 - val_loss: 1.6373\n",
      "Epoch 135/150\n",
      "\u001b[1m43/43\u001b[0m \u001b[32m━━━━━━━━━━━━━━━━━━━━\u001b[0m\u001b[37m\u001b[0m \u001b[1m13s\u001b[0m 293ms/step - direction_output_Precision: 0.8452 - direction_output_Recall: 0.7249 - direction_output_accuracy: 0.8077 - direction_output_auc_2: 0.9763 - distance_output_Precision: 0.9263 - distance_output_Recall: 0.8973 - distance_output_accuracy: 0.9135 - distance_output_auc_1: 0.9934 - gunshot_output_Precision: 0.9809 - gunshot_output_Recall: 0.9807 - gunshot_output_accuracy: 0.9807 - gunshot_output_auc: 0.9959 - loss: 0.8077 - val_direction_output_Precision: 0.7529 - val_direction_output_Recall: 0.6559 - val_direction_output_accuracy: 0.6881 - val_direction_output_auc_2: 0.9469 - val_distance_output_Precision: 0.8732 - val_distance_output_Recall: 0.8169 - val_distance_output_accuracy: 0.8407 - val_distance_output_auc_1: 0.9785 - val_gunshot_output_Precision: 0.9504 - val_gunshot_output_Recall: 0.9424 - val_gunshot_output_accuracy: 0.9458 - val_gunshot_output_auc: 0.9832 - val_loss: 1.5250\n",
      "Epoch 136/150\n",
      "\u001b[1m43/43\u001b[0m \u001b[32m━━━━━━━━━━━━━━━━━━━━\u001b[0m\u001b[37m\u001b[0m \u001b[1m13s\u001b[0m 303ms/step - direction_output_Precision: 0.8308 - direction_output_Recall: 0.7234 - direction_output_accuracy: 0.7896 - direction_output_auc_2: 0.9767 - distance_output_Precision: 0.9090 - distance_output_Recall: 0.8754 - distance_output_accuracy: 0.8959 - distance_output_auc_1: 0.9935 - gunshot_output_Precision: 0.9805 - gunshot_output_Recall: 0.9795 - gunshot_output_accuracy: 0.9795 - gunshot_output_auc: 0.9986 - loss: 0.7647 - val_direction_output_Precision: 0.7112 - val_direction_output_Recall: 0.6220 - val_direction_output_accuracy: 0.6610 - val_direction_output_auc_2: 0.9251 - val_distance_output_Precision: 0.8600 - val_distance_output_Recall: 0.8119 - val_distance_output_accuracy: 0.8254 - val_distance_output_auc_1: 0.9680 - val_gunshot_output_Precision: 0.9167 - val_gunshot_output_Recall: 0.9136 - val_gunshot_output_accuracy: 0.9153 - val_gunshot_output_auc: 0.9698 - val_loss: 2.0096\n",
      "Epoch 137/150\n",
      "\u001b[1m43/43\u001b[0m \u001b[32m━━━━━━━━━━━━━━━━━━━━\u001b[0m\u001b[37m\u001b[0m \u001b[1m16s\u001b[0m 376ms/step - direction_output_Precision: 0.8398 - direction_output_Recall: 0.7267 - direction_output_accuracy: 0.7784 - direction_output_auc_2: 0.9717 - distance_output_Precision: 0.9157 - distance_output_Recall: 0.8815 - distance_output_accuracy: 0.8990 - distance_output_auc_1: 0.9937 - gunshot_output_Precision: 0.9674 - gunshot_output_Recall: 0.9671 - gunshot_output_accuracy: 0.9674 - gunshot_output_auc: 0.9979 - loss: 0.8449 - val_direction_output_Precision: 0.7495 - val_direction_output_Recall: 0.6695 - val_direction_output_accuracy: 0.7051 - val_direction_output_auc_2: 0.9408 - val_distance_output_Precision: 0.8162 - val_distance_output_Recall: 0.7678 - val_distance_output_accuracy: 0.7847 - val_distance_output_auc_1: 0.9674 - val_gunshot_output_Precision: 0.9524 - val_gunshot_output_Recall: 0.9492 - val_gunshot_output_accuracy: 0.9492 - val_gunshot_output_auc: 0.9866 - val_loss: 1.7766\n",
      "Epoch 138/150\n",
      "\u001b[1m43/43\u001b[0m \u001b[32m━━━━━━━━━━━━━━━━━━━━\u001b[0m\u001b[37m\u001b[0m \u001b[1m29s\u001b[0m 686ms/step - direction_output_Precision: 0.8352 - direction_output_Recall: 0.7074 - direction_output_accuracy: 0.7667 - direction_output_auc_2: 0.9696 - distance_output_Precision: 0.9261 - distance_output_Recall: 0.8794 - distance_output_accuracy: 0.8962 - distance_output_auc_1: 0.9933 - gunshot_output_Precision: 0.9891 - gunshot_output_Recall: 0.9889 - gunshot_output_accuracy: 0.9889 - gunshot_output_auc: 0.9987 - loss: 0.8509 - val_direction_output_Precision: 0.7480 - val_direction_output_Recall: 0.6492 - val_direction_output_accuracy: 0.6898 - val_direction_output_auc_2: 0.9357 - val_distance_output_Precision: 0.8782 - val_distance_output_Recall: 0.8186 - val_distance_output_accuracy: 0.8542 - val_distance_output_auc_1: 0.9745 - val_gunshot_output_Precision: 0.9420 - val_gunshot_output_Recall: 0.9356 - val_gunshot_output_accuracy: 0.9390 - val_gunshot_output_auc: 0.9780 - val_loss: 1.7164\n",
      "Epoch 139/150\n",
      "\u001b[1m43/43\u001b[0m \u001b[32m━━━━━━━━━━━━━━━━━━━━\u001b[0m\u001b[37m\u001b[0m \u001b[1m28s\u001b[0m 651ms/step - direction_output_Precision: 0.8698 - direction_output_Recall: 0.7156 - direction_output_accuracy: 0.7914 - direction_output_auc_2: 0.9751 - distance_output_Precision: 0.9160 - distance_output_Recall: 0.8931 - distance_output_accuracy: 0.9090 - distance_output_auc_1: 0.9935 - gunshot_output_Precision: 0.9849 - gunshot_output_Recall: 0.9842 - gunshot_output_accuracy: 0.9842 - gunshot_output_auc: 0.9994 - loss: 0.7713 - val_direction_output_Precision: 0.7314 - val_direction_output_Recall: 0.6322 - val_direction_output_accuracy: 0.6712 - val_direction_output_auc_2: 0.9335 - val_distance_output_Precision: 0.8869 - val_distance_output_Recall: 0.8237 - val_distance_output_accuracy: 0.8593 - val_distance_output_auc_1: 0.9745 - val_gunshot_output_Precision: 0.9371 - val_gunshot_output_Recall: 0.9339 - val_gunshot_output_accuracy: 0.9373 - val_gunshot_output_auc: 0.9789 - val_loss: 1.7440\n",
      "Epoch 140/150\n",
      "\u001b[1m43/43\u001b[0m \u001b[32m━━━━━━━━━━━━━━━━━━━━\u001b[0m\u001b[37m\u001b[0m \u001b[1m35s\u001b[0m 821ms/step - direction_output_Precision: 0.8501 - direction_output_Recall: 0.7340 - direction_output_accuracy: 0.7930 - direction_output_auc_2: 0.9760 - distance_output_Precision: 0.9317 - distance_output_Recall: 0.8981 - distance_output_accuracy: 0.9135 - distance_output_auc_1: 0.9958 - gunshot_output_Precision: 0.9898 - gunshot_output_Recall: 0.9890 - gunshot_output_accuracy: 0.9890 - gunshot_output_auc: 0.9995 - loss: 0.7210 - val_direction_output_Precision: 0.7379 - val_direction_output_Recall: 0.6203 - val_direction_output_accuracy: 0.6729 - val_direction_output_auc_2: 0.9315 - val_distance_output_Precision: 0.8598 - val_distance_output_Recall: 0.7898 - val_distance_output_accuracy: 0.8153 - val_distance_output_auc_1: 0.9678 - val_gunshot_output_Precision: 0.9235 - val_gunshot_output_Recall: 0.9203 - val_gunshot_output_accuracy: 0.9220 - val_gunshot_output_auc: 0.9765 - val_loss: 1.9646\n",
      "Epoch 141/150\n",
      "\u001b[1m43/43\u001b[0m \u001b[32m━━━━━━━━━━━━━━━━━━━━\u001b[0m\u001b[37m\u001b[0m \u001b[1m44s\u001b[0m 889ms/step - direction_output_Precision: 0.8314 - direction_output_Recall: 0.7259 - direction_output_accuracy: 0.7917 - direction_output_auc_2: 0.9743 - distance_output_Precision: 0.9213 - distance_output_Recall: 0.8887 - distance_output_accuracy: 0.9066 - distance_output_auc_1: 0.9938 - gunshot_output_Precision: 0.9840 - gunshot_output_Recall: 0.9820 - gunshot_output_accuracy: 0.9838 - gunshot_output_auc: 0.9994 - loss: 0.7770 - val_direction_output_Precision: 0.7461 - val_direction_output_Recall: 0.6475 - val_direction_output_accuracy: 0.6763 - val_direction_output_auc_2: 0.9453 - val_distance_output_Precision: 0.9147 - val_distance_output_Recall: 0.8542 - val_distance_output_accuracy: 0.8814 - val_distance_output_auc_1: 0.9832 - val_gunshot_output_Precision: 0.9406 - val_gunshot_output_Recall: 0.9390 - val_gunshot_output_accuracy: 0.9390 - val_gunshot_output_auc: 0.9831 - val_loss: 1.4395\n",
      "Epoch 142/150\n",
      "\u001b[1m43/43\u001b[0m \u001b[32m━━━━━━━━━━━━━━━━━━━━\u001b[0m\u001b[37m\u001b[0m \u001b[1m22s\u001b[0m 505ms/step - direction_output_Precision: 0.8320 - direction_output_Recall: 0.7032 - direction_output_accuracy: 0.7642 - direction_output_auc_2: 0.9725 - distance_output_Precision: 0.9314 - distance_output_Recall: 0.9098 - distance_output_accuracy: 0.9244 - distance_output_auc_1: 0.9960 - gunshot_output_Precision: 0.9883 - gunshot_output_Recall: 0.9877 - gunshot_output_accuracy: 0.9877 - gunshot_output_auc: 0.9997 - loss: 0.7289 - val_direction_output_Precision: 0.7176 - val_direction_output_Recall: 0.6288 - val_direction_output_accuracy: 0.6678 - val_direction_output_auc_2: 0.9318 - val_distance_output_Precision: 0.8861 - val_distance_output_Recall: 0.8441 - val_distance_output_accuracy: 0.8559 - val_distance_output_auc_1: 0.9706 - val_gunshot_output_Precision: 0.9284 - val_gunshot_output_Recall: 0.9237 - val_gunshot_output_accuracy: 0.9271 - val_gunshot_output_auc: 0.9762 - val_loss: 1.8416\n",
      "Epoch 143/150\n",
      "\u001b[1m43/43\u001b[0m \u001b[32m━━━━━━━━━━━━━━━━━━━━\u001b[0m\u001b[37m\u001b[0m \u001b[1m17s\u001b[0m 387ms/step - direction_output_Precision: 0.8335 - direction_output_Recall: 0.7126 - direction_output_accuracy: 0.7773 - direction_output_auc_2: 0.9740 - distance_output_Precision: 0.9400 - distance_output_Recall: 0.9100 - distance_output_accuracy: 0.9223 - distance_output_auc_1: 0.9966 - gunshot_output_Precision: 0.9871 - gunshot_output_Recall: 0.9871 - gunshot_output_accuracy: 0.9871 - gunshot_output_auc: 0.9996 - loss: 0.7146 - val_direction_output_Precision: 0.7189 - val_direction_output_Recall: 0.6458 - val_direction_output_accuracy: 0.6712 - val_direction_output_auc_2: 0.9357 - val_distance_output_Precision: 0.8783 - val_distance_output_Recall: 0.8441 - val_distance_output_accuracy: 0.8627 - val_distance_output_auc_1: 0.9744 - val_gunshot_output_Precision: 0.9356 - val_gunshot_output_Recall: 0.9356 - val_gunshot_output_accuracy: 0.9356 - val_gunshot_output_auc: 0.9801 - val_loss: 1.7629\n",
      "Epoch 144/150\n",
      "\u001b[1m43/43\u001b[0m \u001b[32m━━━━━━━━━━━━━━━━━━━━\u001b[0m\u001b[37m\u001b[0m \u001b[1m24s\u001b[0m 566ms/step - direction_output_Precision: 0.8378 - direction_output_Recall: 0.7185 - direction_output_accuracy: 0.7779 - direction_output_auc_2: 0.9749 - distance_output_Precision: 0.9357 - distance_output_Recall: 0.9119 - distance_output_accuracy: 0.9277 - distance_output_auc_1: 0.9964 - gunshot_output_Precision: 0.9795 - gunshot_output_Recall: 0.9795 - gunshot_output_accuracy: 0.9795 - gunshot_output_auc: 0.9982 - loss: 0.7427 - val_direction_output_Precision: 0.7165 - val_direction_output_Recall: 0.6339 - val_direction_output_accuracy: 0.6729 - val_direction_output_auc_2: 0.9404 - val_distance_output_Precision: 0.8493 - val_distance_output_Recall: 0.8119 - val_distance_output_accuracy: 0.8254 - val_distance_output_auc_1: 0.9759 - val_gunshot_output_Precision: 0.9303 - val_gunshot_output_Recall: 0.9271 - val_gunshot_output_accuracy: 0.9288 - val_gunshot_output_auc: 0.9779 - val_loss: 1.7473\n",
      "Epoch 145/150\n",
      "\u001b[1m43/43\u001b[0m \u001b[32m━━━━━━━━━━━━━━━━━━━━\u001b[0m\u001b[37m\u001b[0m \u001b[1m24s\u001b[0m 553ms/step - direction_output_Precision: 0.8446 - direction_output_Recall: 0.7242 - direction_output_accuracy: 0.7905 - direction_output_auc_2: 0.9753 - distance_output_Precision: 0.9385 - distance_output_Recall: 0.9167 - distance_output_accuracy: 0.9266 - distance_output_auc_1: 0.9961 - gunshot_output_Precision: 0.9822 - gunshot_output_Recall: 0.9802 - gunshot_output_accuracy: 0.9818 - gunshot_output_auc: 0.9991 - loss: 0.7302 - val_direction_output_Precision: 0.7415 - val_direction_output_Recall: 0.6661 - val_direction_output_accuracy: 0.6983 - val_direction_output_auc_2: 0.9461 - val_distance_output_Precision: 0.9018 - val_distance_output_Recall: 0.8559 - val_distance_output_accuracy: 0.8814 - val_distance_output_auc_1: 0.9826 - val_gunshot_output_Precision: 0.9573 - val_gunshot_output_Recall: 0.9508 - val_gunshot_output_accuracy: 0.9508 - val_gunshot_output_auc: 0.9857 - val_loss: 1.4052\n",
      "Epoch 146/150\n",
      "\u001b[1m43/43\u001b[0m \u001b[32m━━━━━━━━━━━━━━━━━━━━\u001b[0m\u001b[37m\u001b[0m \u001b[1m25s\u001b[0m 587ms/step - direction_output_Precision: 0.8483 - direction_output_Recall: 0.7440 - direction_output_accuracy: 0.7937 - direction_output_auc_2: 0.9775 - distance_output_Precision: 0.9373 - distance_output_Recall: 0.9109 - distance_output_accuracy: 0.9222 - distance_output_auc_1: 0.9961 - gunshot_output_Precision: 0.9823 - gunshot_output_Recall: 0.9823 - gunshot_output_accuracy: 0.9823 - gunshot_output_auc: 0.9985 - loss: 0.6970 - val_direction_output_Precision: 0.7422 - val_direction_output_Recall: 0.6441 - val_direction_output_accuracy: 0.6915 - val_direction_output_auc_2: 0.9430 - val_distance_output_Precision: 0.8850 - val_distance_output_Recall: 0.8475 - val_distance_output_accuracy: 0.8576 - val_distance_output_auc_1: 0.9790 - val_gunshot_output_Precision: 0.9438 - val_gunshot_output_Recall: 0.9390 - val_gunshot_output_accuracy: 0.9424 - val_gunshot_output_auc: 0.9816 - val_loss: 1.5617\n",
      "Epoch 147/150\n",
      "\u001b[1m43/43\u001b[0m \u001b[32m━━━━━━━━━━━━━━━━━━━━\u001b[0m\u001b[37m\u001b[0m \u001b[1m24s\u001b[0m 552ms/step - direction_output_Precision: 0.8561 - direction_output_Recall: 0.7500 - direction_output_accuracy: 0.8008 - direction_output_auc_2: 0.9795 - distance_output_Precision: 0.9061 - distance_output_Recall: 0.8745 - distance_output_accuracy: 0.8857 - distance_output_auc_1: 0.9914 - gunshot_output_Precision: 0.9879 - gunshot_output_Recall: 0.9879 - gunshot_output_accuracy: 0.9879 - gunshot_output_auc: 0.9997 - loss: 0.7570 - val_direction_output_Precision: 0.7219 - val_direction_output_Recall: 0.6424 - val_direction_output_accuracy: 0.6831 - val_direction_output_auc_2: 0.9404 - val_distance_output_Precision: 0.9014 - val_distance_output_Recall: 0.8525 - val_distance_output_accuracy: 0.8661 - val_distance_output_auc_1: 0.9791 - val_gunshot_output_Precision: 0.9353 - val_gunshot_output_Recall: 0.9305 - val_gunshot_output_accuracy: 0.9339 - val_gunshot_output_auc: 0.9791 - val_loss: 1.6367\n",
      "Epoch 148/150\n",
      "\u001b[1m43/43\u001b[0m \u001b[32m━━━━━━━━━━━━━━━━━━━━\u001b[0m\u001b[37m\u001b[0m \u001b[1m20s\u001b[0m 463ms/step - direction_output_Precision: 0.8506 - direction_output_Recall: 0.7298 - direction_output_accuracy: 0.7804 - direction_output_auc_2: 0.9753 - distance_output_Precision: 0.9190 - distance_output_Recall: 0.8901 - distance_output_accuracy: 0.9043 - distance_output_auc_1: 0.9950 - gunshot_output_Precision: 0.9886 - gunshot_output_Recall: 0.9880 - gunshot_output_accuracy: 0.9880 - gunshot_output_auc: 0.9995 - loss: 0.7459 - val_direction_output_Precision: 0.7363 - val_direction_output_Recall: 0.6627 - val_direction_output_accuracy: 0.7000 - val_direction_output_auc_2: 0.9402 - val_distance_output_Precision: 0.8446 - val_distance_output_Recall: 0.8017 - val_distance_output_accuracy: 0.8203 - val_distance_output_auc_1: 0.9711 - val_gunshot_output_Precision: 0.9422 - val_gunshot_output_Recall: 0.9390 - val_gunshot_output_accuracy: 0.9390 - val_gunshot_output_auc: 0.9754 - val_loss: 1.7828\n",
      "Epoch 149/150\n",
      "\u001b[1m43/43\u001b[0m \u001b[32m━━━━━━━━━━━━━━━━━━━━\u001b[0m\u001b[37m\u001b[0m \u001b[1m20s\u001b[0m 456ms/step - direction_output_Precision: 0.8246 - direction_output_Recall: 0.7121 - direction_output_accuracy: 0.7766 - direction_output_auc_2: 0.9731 - distance_output_Precision: 0.9205 - distance_output_Recall: 0.8952 - distance_output_accuracy: 0.9126 - distance_output_auc_1: 0.9940 - gunshot_output_Precision: 0.9831 - gunshot_output_Recall: 0.9811 - gunshot_output_accuracy: 0.9826 - gunshot_output_auc: 0.9992 - loss: 0.8048 - val_direction_output_Precision: 0.7390 - val_direction_output_Recall: 0.6576 - val_direction_output_accuracy: 0.7102 - val_direction_output_auc_2: 0.9433 - val_distance_output_Precision: 0.8665 - val_distance_output_Recall: 0.8254 - val_distance_output_accuracy: 0.8441 - val_distance_output_auc_1: 0.9748 - val_gunshot_output_Precision: 0.9424 - val_gunshot_output_Recall: 0.9424 - val_gunshot_output_accuracy: 0.9424 - val_gunshot_output_auc: 0.9822 - val_loss: 1.6446\n",
      "Epoch 150/150\n",
      "\u001b[1m43/43\u001b[0m \u001b[32m━━━━━━━━━━━━━━━━━━━━\u001b[0m\u001b[37m\u001b[0m \u001b[1m23s\u001b[0m 533ms/step - direction_output_Precision: 0.8299 - direction_output_Recall: 0.7124 - direction_output_accuracy: 0.7690 - direction_output_auc_2: 0.9722 - distance_output_Precision: 0.9300 - distance_output_Recall: 0.9059 - distance_output_accuracy: 0.9145 - distance_output_auc_1: 0.9954 - gunshot_output_Precision: 0.9853 - gunshot_output_Recall: 0.9853 - gunshot_output_accuracy: 0.9853 - gunshot_output_auc: 0.9990 - loss: 0.7579 - val_direction_output_Precision: 0.7723 - val_direction_output_Recall: 0.6898 - val_direction_output_accuracy: 0.7322 - val_direction_output_auc_2: 0.9477 - val_distance_output_Precision: 0.9016 - val_distance_output_Recall: 0.8695 - val_distance_output_accuracy: 0.8746 - val_distance_output_auc_1: 0.9818 - val_gunshot_output_Precision: 0.9355 - val_gunshot_output_Recall: 0.9339 - val_gunshot_output_accuracy: 0.9356 - val_gunshot_output_auc: 0.9808 - val_loss: 1.4921\n"
     ]
    }
   ],
   "source": [
    "from keras.callbacks import ModelCheckpoint\n",
    "batch_size=32\n",
    "valid_batch_size=32\n",
    "callbacks=[ModelCheckpoint(\"best_model.keras\",monitor='val_loss')]\n",
    "history=model.fit([X_mfcc_train,X_melspec_train],\n",
    "                  {\n",
    "                      'gunshot_output':y_gun_train,\n",
    "                      'direction_output':y_direction_train,\n",
    "                      'distance_output':y_distance_train\n",
    "                  },\n",
    "                  validation_data=([X_mfcc_val,X_melspec_val],\n",
    "                                    {\n",
    "                                        'gunshot_output':y_gun_val,\n",
    "                                        'direction_output':y_direction_val,\n",
    "                                        'distance_output':y_distance_val\n",
    "                                    }),\n",
    "                    epochs=150,batch_size=32,callbacks=[callbacks])\n"
   ]
  },
  {
   "cell_type": "code",
   "execution_count": 20,
   "metadata": {},
   "outputs": [
    {
     "data": {
      "application/vnd.plotly.v1+json": {
       "config": {
        "plotlyServerURL": "https://plot.ly"
       },
       "data": [
        {
         "name": "Train",
         "type": "scatter",
         "y": [
          0.5269286632537842,
          0.6142649054527283,
          0.7074235677719116,
          0.7467249035835266,
          0.7896652221679688,
          0.8144105076789856,
          0.8304221034049988,
          0.83988356590271,
          0.8515284061431885,
          0.8668122291564941,
          0.8762736320495605,
          0.8835516571998596,
          0.8944687247276306,
          0.8893740773200989,
          0.9061135649681091,
          0.9112081527709961,
          0.9010189175605774,
          0.9184861779212952,
          0.9264919757843018,
          0.9206695556640625,
          0.919941782951355,
          0.9155749678611755,
          0.9279475808143616,
          0.9468704462051392,
          0.9286754131317139,
          0.9381368160247803,
          0.9454148411750793,
          0.9381368160247803,
          0.9454148411750793,
          0.9505094885826111,
          0.9410480260848999,
          0.9475982785224915,
          0.9475982785224915,
          0.9541484713554382,
          0.9505094885826111,
          0.9650654792785645,
          0.9454148411750793,
          0.9490538835525513,
          0.9723435044288635,
          0.9585152864456177,
          0.960698664188385,
          0.9621542692184448,
          0.9614264965057373,
          0.9592430591583252,
          0.9519650936126709,
          0.9585152864456177,
          0.9657933115959167,
          0.9636098742485046,
          0.9650654792785645,
          0.9614264965057373,
          0.9672489166259766,
          0.9679766893386841,
          0.9679766893386841,
          0.9701601266860962,
          0.971615731716156,
          0.9708878993988037,
          0.9650654792785645,
          0.9701601266860962,
          0.9694322943687439,
          0.9708878993988037,
          0.9737991094589233,
          0.9679766893386841,
          0.9694322943687439,
          0.9701601266860962,
          0.9745269417762756,
          0.9818049669265747,
          0.9759825468063354,
          0.9730713367462158,
          0.9687045216560364,
          0.9643377065658569,
          0.9672489166259766,
          0.9803493618965149,
          0.9737991094589233,
          0.9694322943687439,
          0.9657933115959167,
          0.976710319519043,
          0.9708878993988037,
          0.9672489166259766,
          0.9723435044288635,
          0.9774381518363953,
          0.9628821015357971,
          0.976710319519043,
          0.9723435044288635,
          0.9788937568664551,
          0.9745269417762756,
          0.9752547144889832,
          0.9752547144889832,
          0.9788937568664551,
          0.9803493618965149,
          0.9752547144889832,
          0.9788937568664551,
          0.9796215295791626,
          0.9781659245491028,
          0.9818049669265747,
          0.9868995547294617,
          0.983988344669342,
          0.9730713367462158,
          0.9847161769866943,
          0.9818049669265747,
          0.9825327396392822,
          0.9723435044288635,
          0.9708878993988037,
          0.9752547144889832,
          0.9818049669265747,
          0.9810771346092224,
          0.9854439496994019,
          0.9825327396392822,
          0.9759825468063354,
          0.983988344669342,
          0.9774381518363953,
          0.9818049669265747,
          0.9781659245491028,
          0.9861717820167542,
          0.976710319519043,
          0.9818049669265747,
          0.9803493618965149,
          0.9788937568664551,
          0.9796215295791626,
          0.9810771346092224,
          0.9803493618965149,
          0.9818049669265747,
          0.9854439496994019,
          0.987627387046814,
          0.9796215295791626,
          0.9810771346092224,
          0.9803493618965149,
          0.987627387046814,
          0.9832605719566345,
          0.9832605719566345,
          0.9810771346092224,
          0.983988344669342,
          0.9854439496994019,
          0.9832605719566345,
          0.9810771346092224,
          0.983988344669342,
          0.9759825468063354,
          0.9687045216560364,
          0.9847161769866943,
          0.976710319519043,
          0.9861717820167542,
          0.983988344669342,
          0.987627387046814,
          0.9818049669265747,
          0.9752547144889832,
          0.9818049669265747,
          0.9810771346092224,
          0.9905385971069336,
          0.9847161769866943,
          0.9810771346092224,
          0.9890829920768738
         ]
        },
        {
         "name": "Valid",
         "type": "scatter",
         "y": [
          0.6593220233917236,
          0.7050847411155701,
          0.7288135886192322,
          0.5627118349075317,
          0.7559322118759155,
          0.7559322118759155,
          0.5525423884391785,
          0.698305070400238,
          0.7779660820960999,
          0.798305094242096,
          0.7864406704902649,
          0.7813559174537659,
          0.7813559174537659,
          0.7813559174537659,
          0.8237287998199463,
          0.7847457528114319,
          0.8288135528564453,
          0.8169491291046143,
          0.803389847278595,
          0.8474576473236084,
          0.8627118468284607,
          0.806779682636261,
          0.8677965998649597,
          0.7915254235267639,
          0.8423728942871094,
          0.8932203650474548,
          0.8847457766532898,
          0.8305084705352783,
          0.8999999761581421,
          0.8576270937919617,
          0.9254237413406372,
          0.8305084705352783,
          0.8711864352226257,
          0.8949152827262878,
          0.8474576473236084,
          0.8983050584793091,
          0.8796610236167908,
          0.8474576473236084,
          0.8983050584793091,
          0.8966101408004761,
          0.9203389883041382,
          0.9118643999099731,
          0.8711864352226257,
          0.9322034120559692,
          0.9033898115158081,
          0.9220339059829712,
          0.8949152827262878,
          0.9135593175888062,
          0.9220339059829712,
          0.9305084943771362,
          0.9169491529464722,
          0.9067796468734741,
          0.9237288236618042,
          0.9203389883041382,
          0.9152542352676392,
          0.9491525292396545,
          0.9254237413406372,
          0.9271186590194702,
          0.9372881650924683,
          0.9322034120559692,
          0.9254237413406372,
          0.9271186590194702,
          0.9288135766983032,
          0.9237288236618042,
          0.9237288236618042,
          0.9186440706253052,
          0.8983050584793091,
          0.9220339059829712,
          0.9186440706253052,
          0.9135593175888062,
          0.9084745645523071,
          0.9186440706253052,
          0.9135593175888062,
          0.9203389883041382,
          0.9322034120559692,
          0.8966101408004761,
          0.9067796468734741,
          0.9322034120559692,
          0.9084745645523071,
          0.9372881650924683,
          0.9457626938819885,
          0.9474576115608215,
          0.9389830231666565,
          0.9372881650924683,
          0.9288135766983032,
          0.9067796468734741,
          0.9288135766983032,
          0.9491525292396545,
          0.9152542352676392,
          0.9237288236618042,
          0.9203389883041382,
          0.9084745645523071,
          0.9101694822311401,
          0.9491525292396545,
          0.9508474469184875,
          0.9355932474136353,
          0.9271186590194702,
          0.9457626938819885,
          0.9406779408454895,
          0.9423728585243225,
          0.9474576115608215,
          0.9355932474136353,
          0.9220339059829712,
          0.9338983297348022,
          0.9389830231666565,
          0.9271186590194702,
          0.9169491529464722,
          0.9169491529464722,
          0.9271186590194702,
          0.9406779408454895,
          0.9508474469184875,
          0.9203389883041382,
          0.9305084943771362,
          0.9288135766983032,
          0.9355932474136353,
          0.9372881650924683,
          0.9474576115608215,
          0.9186440706253052,
          0.9288135766983032,
          0.9457626938819885,
          0.9220339059829712,
          0.9288135766983032,
          0.9254237413406372,
          0.9169491529464722,
          0.9355932474136353,
          0.9406779408454895,
          0.9338983297348022,
          0.9220339059829712,
          0.9389830231666565,
          0.9389830231666565,
          0.9050847291946411,
          0.9254237413406372,
          0.8966101408004761,
          0.9355932474136353,
          0.9457626938819885,
          0.9152542352676392,
          0.9491525292396545,
          0.9389830231666565,
          0.9372881650924683,
          0.9220339059829712,
          0.9389830231666565,
          0.9271186590194702,
          0.9355932474136353,
          0.9288135766983032,
          0.9508474469184875,
          0.9423728585243225,
          0.9338983297348022,
          0.9389830231666565,
          0.9423728585243225,
          0.9355932474136353
         ]
        }
       ],
       "layout": {
        "height": 500,
        "template": {
         "data": {
          "bar": [
           {
            "error_x": {
             "color": "#2a3f5f"
            },
            "error_y": {
             "color": "#2a3f5f"
            },
            "marker": {
             "line": {
              "color": "#E5ECF6",
              "width": 0.5
             },
             "pattern": {
              "fillmode": "overlay",
              "size": 10,
              "solidity": 0.2
             }
            },
            "type": "bar"
           }
          ],
          "barpolar": [
           {
            "marker": {
             "line": {
              "color": "#E5ECF6",
              "width": 0.5
             },
             "pattern": {
              "fillmode": "overlay",
              "size": 10,
              "solidity": 0.2
             }
            },
            "type": "barpolar"
           }
          ],
          "carpet": [
           {
            "aaxis": {
             "endlinecolor": "#2a3f5f",
             "gridcolor": "white",
             "linecolor": "white",
             "minorgridcolor": "white",
             "startlinecolor": "#2a3f5f"
            },
            "baxis": {
             "endlinecolor": "#2a3f5f",
             "gridcolor": "white",
             "linecolor": "white",
             "minorgridcolor": "white",
             "startlinecolor": "#2a3f5f"
            },
            "type": "carpet"
           }
          ],
          "choropleth": [
           {
            "colorbar": {
             "outlinewidth": 0,
             "ticks": ""
            },
            "type": "choropleth"
           }
          ],
          "contour": [
           {
            "colorbar": {
             "outlinewidth": 0,
             "ticks": ""
            },
            "colorscale": [
             [
              0,
              "#0d0887"
             ],
             [
              0.1111111111111111,
              "#46039f"
             ],
             [
              0.2222222222222222,
              "#7201a8"
             ],
             [
              0.3333333333333333,
              "#9c179e"
             ],
             [
              0.4444444444444444,
              "#bd3786"
             ],
             [
              0.5555555555555556,
              "#d8576b"
             ],
             [
              0.6666666666666666,
              "#ed7953"
             ],
             [
              0.7777777777777778,
              "#fb9f3a"
             ],
             [
              0.8888888888888888,
              "#fdca26"
             ],
             [
              1,
              "#f0f921"
             ]
            ],
            "type": "contour"
           }
          ],
          "contourcarpet": [
           {
            "colorbar": {
             "outlinewidth": 0,
             "ticks": ""
            },
            "type": "contourcarpet"
           }
          ],
          "heatmap": [
           {
            "colorbar": {
             "outlinewidth": 0,
             "ticks": ""
            },
            "colorscale": [
             [
              0,
              "#0d0887"
             ],
             [
              0.1111111111111111,
              "#46039f"
             ],
             [
              0.2222222222222222,
              "#7201a8"
             ],
             [
              0.3333333333333333,
              "#9c179e"
             ],
             [
              0.4444444444444444,
              "#bd3786"
             ],
             [
              0.5555555555555556,
              "#d8576b"
             ],
             [
              0.6666666666666666,
              "#ed7953"
             ],
             [
              0.7777777777777778,
              "#fb9f3a"
             ],
             [
              0.8888888888888888,
              "#fdca26"
             ],
             [
              1,
              "#f0f921"
             ]
            ],
            "type": "heatmap"
           }
          ],
          "heatmapgl": [
           {
            "colorbar": {
             "outlinewidth": 0,
             "ticks": ""
            },
            "colorscale": [
             [
              0,
              "#0d0887"
             ],
             [
              0.1111111111111111,
              "#46039f"
             ],
             [
              0.2222222222222222,
              "#7201a8"
             ],
             [
              0.3333333333333333,
              "#9c179e"
             ],
             [
              0.4444444444444444,
              "#bd3786"
             ],
             [
              0.5555555555555556,
              "#d8576b"
             ],
             [
              0.6666666666666666,
              "#ed7953"
             ],
             [
              0.7777777777777778,
              "#fb9f3a"
             ],
             [
              0.8888888888888888,
              "#fdca26"
             ],
             [
              1,
              "#f0f921"
             ]
            ],
            "type": "heatmapgl"
           }
          ],
          "histogram": [
           {
            "marker": {
             "pattern": {
              "fillmode": "overlay",
              "size": 10,
              "solidity": 0.2
             }
            },
            "type": "histogram"
           }
          ],
          "histogram2d": [
           {
            "colorbar": {
             "outlinewidth": 0,
             "ticks": ""
            },
            "colorscale": [
             [
              0,
              "#0d0887"
             ],
             [
              0.1111111111111111,
              "#46039f"
             ],
             [
              0.2222222222222222,
              "#7201a8"
             ],
             [
              0.3333333333333333,
              "#9c179e"
             ],
             [
              0.4444444444444444,
              "#bd3786"
             ],
             [
              0.5555555555555556,
              "#d8576b"
             ],
             [
              0.6666666666666666,
              "#ed7953"
             ],
             [
              0.7777777777777778,
              "#fb9f3a"
             ],
             [
              0.8888888888888888,
              "#fdca26"
             ],
             [
              1,
              "#f0f921"
             ]
            ],
            "type": "histogram2d"
           }
          ],
          "histogram2dcontour": [
           {
            "colorbar": {
             "outlinewidth": 0,
             "ticks": ""
            },
            "colorscale": [
             [
              0,
              "#0d0887"
             ],
             [
              0.1111111111111111,
              "#46039f"
             ],
             [
              0.2222222222222222,
              "#7201a8"
             ],
             [
              0.3333333333333333,
              "#9c179e"
             ],
             [
              0.4444444444444444,
              "#bd3786"
             ],
             [
              0.5555555555555556,
              "#d8576b"
             ],
             [
              0.6666666666666666,
              "#ed7953"
             ],
             [
              0.7777777777777778,
              "#fb9f3a"
             ],
             [
              0.8888888888888888,
              "#fdca26"
             ],
             [
              1,
              "#f0f921"
             ]
            ],
            "type": "histogram2dcontour"
           }
          ],
          "mesh3d": [
           {
            "colorbar": {
             "outlinewidth": 0,
             "ticks": ""
            },
            "type": "mesh3d"
           }
          ],
          "parcoords": [
           {
            "line": {
             "colorbar": {
              "outlinewidth": 0,
              "ticks": ""
             }
            },
            "type": "parcoords"
           }
          ],
          "pie": [
           {
            "automargin": true,
            "type": "pie"
           }
          ],
          "scatter": [
           {
            "fillpattern": {
             "fillmode": "overlay",
             "size": 10,
             "solidity": 0.2
            },
            "type": "scatter"
           }
          ],
          "scatter3d": [
           {
            "line": {
             "colorbar": {
              "outlinewidth": 0,
              "ticks": ""
             }
            },
            "marker": {
             "colorbar": {
              "outlinewidth": 0,
              "ticks": ""
             }
            },
            "type": "scatter3d"
           }
          ],
          "scattercarpet": [
           {
            "marker": {
             "colorbar": {
              "outlinewidth": 0,
              "ticks": ""
             }
            },
            "type": "scattercarpet"
           }
          ],
          "scattergeo": [
           {
            "marker": {
             "colorbar": {
              "outlinewidth": 0,
              "ticks": ""
             }
            },
            "type": "scattergeo"
           }
          ],
          "scattergl": [
           {
            "marker": {
             "colorbar": {
              "outlinewidth": 0,
              "ticks": ""
             }
            },
            "type": "scattergl"
           }
          ],
          "scattermapbox": [
           {
            "marker": {
             "colorbar": {
              "outlinewidth": 0,
              "ticks": ""
             }
            },
            "type": "scattermapbox"
           }
          ],
          "scatterpolar": [
           {
            "marker": {
             "colorbar": {
              "outlinewidth": 0,
              "ticks": ""
             }
            },
            "type": "scatterpolar"
           }
          ],
          "scatterpolargl": [
           {
            "marker": {
             "colorbar": {
              "outlinewidth": 0,
              "ticks": ""
             }
            },
            "type": "scatterpolargl"
           }
          ],
          "scatterternary": [
           {
            "marker": {
             "colorbar": {
              "outlinewidth": 0,
              "ticks": ""
             }
            },
            "type": "scatterternary"
           }
          ],
          "surface": [
           {
            "colorbar": {
             "outlinewidth": 0,
             "ticks": ""
            },
            "colorscale": [
             [
              0,
              "#0d0887"
             ],
             [
              0.1111111111111111,
              "#46039f"
             ],
             [
              0.2222222222222222,
              "#7201a8"
             ],
             [
              0.3333333333333333,
              "#9c179e"
             ],
             [
              0.4444444444444444,
              "#bd3786"
             ],
             [
              0.5555555555555556,
              "#d8576b"
             ],
             [
              0.6666666666666666,
              "#ed7953"
             ],
             [
              0.7777777777777778,
              "#fb9f3a"
             ],
             [
              0.8888888888888888,
              "#fdca26"
             ],
             [
              1,
              "#f0f921"
             ]
            ],
            "type": "surface"
           }
          ],
          "table": [
           {
            "cells": {
             "fill": {
              "color": "#EBF0F8"
             },
             "line": {
              "color": "white"
             }
            },
            "header": {
             "fill": {
              "color": "#C8D4E3"
             },
             "line": {
              "color": "white"
             }
            },
            "type": "table"
           }
          ]
         },
         "layout": {
          "annotationdefaults": {
           "arrowcolor": "#2a3f5f",
           "arrowhead": 0,
           "arrowwidth": 1
          },
          "autotypenumbers": "strict",
          "coloraxis": {
           "colorbar": {
            "outlinewidth": 0,
            "ticks": ""
           }
          },
          "colorscale": {
           "diverging": [
            [
             0,
             "#8e0152"
            ],
            [
             0.1,
             "#c51b7d"
            ],
            [
             0.2,
             "#de77ae"
            ],
            [
             0.3,
             "#f1b6da"
            ],
            [
             0.4,
             "#fde0ef"
            ],
            [
             0.5,
             "#f7f7f7"
            ],
            [
             0.6,
             "#e6f5d0"
            ],
            [
             0.7,
             "#b8e186"
            ],
            [
             0.8,
             "#7fbc41"
            ],
            [
             0.9,
             "#4d9221"
            ],
            [
             1,
             "#276419"
            ]
           ],
           "sequential": [
            [
             0,
             "#0d0887"
            ],
            [
             0.1111111111111111,
             "#46039f"
            ],
            [
             0.2222222222222222,
             "#7201a8"
            ],
            [
             0.3333333333333333,
             "#9c179e"
            ],
            [
             0.4444444444444444,
             "#bd3786"
            ],
            [
             0.5555555555555556,
             "#d8576b"
            ],
            [
             0.6666666666666666,
             "#ed7953"
            ],
            [
             0.7777777777777778,
             "#fb9f3a"
            ],
            [
             0.8888888888888888,
             "#fdca26"
            ],
            [
             1,
             "#f0f921"
            ]
           ],
           "sequentialminus": [
            [
             0,
             "#0d0887"
            ],
            [
             0.1111111111111111,
             "#46039f"
            ],
            [
             0.2222222222222222,
             "#7201a8"
            ],
            [
             0.3333333333333333,
             "#9c179e"
            ],
            [
             0.4444444444444444,
             "#bd3786"
            ],
            [
             0.5555555555555556,
             "#d8576b"
            ],
            [
             0.6666666666666666,
             "#ed7953"
            ],
            [
             0.7777777777777778,
             "#fb9f3a"
            ],
            [
             0.8888888888888888,
             "#fdca26"
            ],
            [
             1,
             "#f0f921"
            ]
           ]
          },
          "colorway": [
           "#636efa",
           "#EF553B",
           "#00cc96",
           "#ab63fa",
           "#FFA15A",
           "#19d3f3",
           "#FF6692",
           "#B6E880",
           "#FF97FF",
           "#FECB52"
          ],
          "font": {
           "color": "#2a3f5f"
          },
          "geo": {
           "bgcolor": "white",
           "lakecolor": "white",
           "landcolor": "#E5ECF6",
           "showlakes": true,
           "showland": true,
           "subunitcolor": "white"
          },
          "hoverlabel": {
           "align": "left"
          },
          "hovermode": "closest",
          "mapbox": {
           "style": "light"
          },
          "paper_bgcolor": "white",
          "plot_bgcolor": "#E5ECF6",
          "polar": {
           "angularaxis": {
            "gridcolor": "white",
            "linecolor": "white",
            "ticks": ""
           },
           "bgcolor": "#E5ECF6",
           "radialaxis": {
            "gridcolor": "white",
            "linecolor": "white",
            "ticks": ""
           }
          },
          "scene": {
           "xaxis": {
            "backgroundcolor": "#E5ECF6",
            "gridcolor": "white",
            "gridwidth": 2,
            "linecolor": "white",
            "showbackground": true,
            "ticks": "",
            "zerolinecolor": "white"
           },
           "yaxis": {
            "backgroundcolor": "#E5ECF6",
            "gridcolor": "white",
            "gridwidth": 2,
            "linecolor": "white",
            "showbackground": true,
            "ticks": "",
            "zerolinecolor": "white"
           },
           "zaxis": {
            "backgroundcolor": "#E5ECF6",
            "gridcolor": "white",
            "gridwidth": 2,
            "linecolor": "white",
            "showbackground": true,
            "ticks": "",
            "zerolinecolor": "white"
           }
          },
          "shapedefaults": {
           "line": {
            "color": "#2a3f5f"
           }
          },
          "ternary": {
           "aaxis": {
            "gridcolor": "white",
            "linecolor": "white",
            "ticks": ""
           },
           "baxis": {
            "gridcolor": "white",
            "linecolor": "white",
            "ticks": ""
           },
           "bgcolor": "#E5ECF6",
           "caxis": {
            "gridcolor": "white",
            "linecolor": "white",
            "ticks": ""
           }
          },
          "title": {
           "x": 0.05
          },
          "xaxis": {
           "automargin": true,
           "gridcolor": "white",
           "linecolor": "white",
           "ticks": "",
           "title": {
            "standoff": 15
           },
           "zerolinecolor": "white",
           "zerolinewidth": 2
          },
          "yaxis": {
           "automargin": true,
           "gridcolor": "white",
           "linecolor": "white",
           "ticks": "",
           "title": {
            "standoff": 15
           },
           "zerolinecolor": "white",
           "zerolinewidth": 2
          }
         }
        },
        "title": {
         "text": "Accuracy for gunshot feature"
        },
        "width": 700,
        "xaxis": {
         "title": {
          "text": "Epoch"
         }
        },
        "yaxis": {
         "title": {
          "text": "Accuracy"
         }
        }
       }
      }
     },
     "metadata": {},
     "output_type": "display_data"
    },
    {
     "data": {
      "text/plain": [
       "<Figure size 640x480 with 0 Axes>"
      ]
     },
     "metadata": {},
     "output_type": "display_data"
    }
   ],
   "source": [
    "import plotly.graph_objects as go\n",
    "plt.clf()\n",
    "fig = go.Figure()\n",
    "fig.add_trace(go.Scatter(\n",
    "                    y=history.history['gunshot_output_accuracy'],\n",
    "                    name='Train'))\n",
    "fig.add_trace(go.Scatter(\n",
    "                    y=history.history['val_gunshot_output_accuracy'],\n",
    "                    name='Valid'))\n",
    "fig.update_layout(height=500, \n",
    "                  width=700,\n",
    "                  title='Accuracy for gunshot feature',\n",
    "                  xaxis_title='Epoch',\n",
    "                  yaxis_title='Accuracy')\n",
    "fig.show()"
   ]
  },
  {
   "cell_type": "code",
   "execution_count": 21,
   "metadata": {},
   "outputs": [
    {
     "data": {
      "application/vnd.plotly.v1+json": {
       "config": {
        "plotlyServerURL": "https://plot.ly"
       },
       "data": [
        {
         "name": "Train",
         "type": "scatter",
         "y": [
          0.2256186306476593,
          0.331877738237381,
          0.40465793013572693,
          0.4708879292011261,
          0.4810771346092224,
          0.5138282179832458,
          0.5036389827728271,
          0.5312954783439636,
          0.5458515286445618,
          0.551673948764801,
          0.5625909566879272,
          0.544395923614502,
          0.5705968141555786,
          0.580058217048645,
          0.5786026120185852,
          0.5887918472290039,
          0.5902474522590637,
          0.6098980903625488,
          0.6222707629203796,
          0.6120815277099609,
          0.6259097456932068,
          0.6186317205429077,
          0.6259097456932068,
          0.6324599981307983,
          0.6375545859336853,
          0.6390101909637451,
          0.6448326110839844,
          0.6521106362342834,
          0.6535662412643433,
          0.6681222915649414,
          0.6550218462944031,
          0.6448326110839844,
          0.6433770060539246,
          0.6703056693077087,
          0.6557496190071106,
          0.6681222915649414,
          0.6754003167152405,
          0.6586608290672302,
          0.6754003167152405,
          0.6768559217453003,
          0.688500702381134,
          0.6855894923210144,
          0.6870450973510742,
          0.676128089427948,
          0.6899563074111938,
          0.6754003167152405,
          0.6826782822608948,
          0.7037845849990845,
          0.6899563074111938,
          0.6834061145782471,
          0.6863173246383667,
          0.6950509548187256,
          0.6892285346984863,
          0.6928675174713135,
          0.7197962403297424,
          0.6965065598487854,
          0.6979621648788452,
          0.7016011476516724,
          0.7074235677719116,
          0.7132459878921509,
          0.7139738202095032,
          0.72052401304245,
          0.7256186604499817,
          0.7096070051193237,
          0.7190684080123901,
          0.7197962403297424,
          0.7176128029823303,
          0.7241630554199219,
          0.7234352231025696,
          0.727802038192749,
          0.7176128029823303,
          0.7132459878921509,
          0.7314410209655762,
          0.7292576432228088,
          0.7379912734031677,
          0.7270742654800415,
          0.7190684080123901,
          0.7263464331626892,
          0.7227074503898621,
          0.7314410209655762,
          0.7168850302696228,
          0.7365356683731079,
          0.7321688532829285,
          0.7467249035835266,
          0.7365356683731079,
          0.7503638863563538,
          0.743813693523407,
          0.7299854159355164,
          0.7503638863563538,
          0.7583697438240051,
          0.7256186604499817,
          0.7467249035835266,
          0.7394468784332275,
          0.748908281326294,
          0.7343522310256958,
          0.7525473237037659,
          0.7663755416870117,
          0.756186306476593,
          0.7445414662361145,
          0.7394468784332275,
          0.7343522310256958,
          0.7598253488540649,
          0.7481805086135864,
          0.7394468784332275,
          0.7620087265968323,
          0.7481805086135864,
          0.7554585337638855,
          0.7598253488540649,
          0.7452692985534668,
          0.7634643316268921,
          0.7590975165367126,
          0.7714701890945435,
          0.7678311467170715,
          0.7707423567771912,
          0.7620087265968323,
          0.7823871970176697,
          0.7423580884933472,
          0.7445414662361145,
          0.7714701890945435,
          0.7714701890945435,
          0.7598253488540649,
          0.7751091718673706,
          0.7700145840644836,
          0.7743813395500183,
          0.7714701890945435,
          0.77947598695755,
          0.7641921639442444,
          0.7598253488540649,
          0.767103374004364,
          0.7758369445800781,
          0.7809315919876099,
          0.7729257345199585,
          0.7700145840644836,
          0.7816593647003174,
          0.7969432473182678,
          0.7729257345199585,
          0.7663755416870117,
          0.7729257345199585,
          0.7700145840644836,
          0.7802037596702576,
          0.7772925496101379,
          0.767103374004364,
          0.7874817848205566,
          0.7831149697303772,
          0.784570574760437,
          0.7816593647003174,
          0.7802037596702576,
          0.7860261797904968,
          0.7860261797904968,
          0.7816593647003174
         ]
        },
        {
         "name": "Valid",
         "type": "scatter",
         "y": [
          0.2474576234817505,
          0.347457617521286,
          0.30169492959976196,
          0.33728814125061035,
          0.37118643522262573,
          0.39152541756629944,
          0.3288135528564453,
          0.3237287998199463,
          0.3864406645298004,
          0.4372881352901459,
          0.4050847589969635,
          0.41525423526763916,
          0.4254237413406372,
          0.39322033524513245,
          0.46949151158332825,
          0.47288134694099426,
          0.5203390121459961,
          0.4796610176563263,
          0.4610169529914856,
          0.5152542591094971,
          0.5559322237968445,
          0.501694917678833,
          0.5355932116508484,
          0.47288134694099426,
          0.5186440944671631,
          0.5355932116508484,
          0.5559322237968445,
          0.5322033762931824,
          0.5677965879440308,
          0.5728813409805298,
          0.6169491410255432,
          0.5593220591545105,
          0.5559322237968445,
          0.5830508470535278,
          0.5677965879440308,
          0.5864406824111938,
          0.5966101884841919,
          0.5440678000450134,
          0.5932203531265259,
          0.5915254354476929,
          0.6305084824562073,
          0.6067796349525452,
          0.5694915056228638,
          0.6254237294197083,
          0.6101694703102112,
          0.6237288117408752,
          0.6000000238418579,
          0.6135593056678772,
          0.6525423526763916,
          0.6305084824562073,
          0.6254237294197083,
          0.6169491410255432,
          0.6406779885292053,
          0.6135593056678772,
          0.6135593056678772,
          0.6559321880340576,
          0.6186440587043762,
          0.6389830708503723,
          0.6644067764282227,
          0.6576271057128906,
          0.6406779885292053,
          0.6559321880340576,
          0.6440678238868713,
          0.6186440587043762,
          0.6322034001350403,
          0.6423729062080383,
          0.6186440587043762,
          0.6372881531715393,
          0.6406779885292053,
          0.6118643879890442,
          0.6203389763832092,
          0.6627118587493896,
          0.6423729062080383,
          0.6423729062080383,
          0.6440678238868713,
          0.6067796349525452,
          0.6474575996398926,
          0.6627118587493896,
          0.6423729062080383,
          0.6576271057128906,
          0.6711864471435547,
          0.6847457885742188,
          0.6627118587493896,
          0.6711864471435547,
          0.6593220233917236,
          0.6677966117858887,
          0.6728813648223877,
          0.6813559532165527,
          0.6457627415657043,
          0.6525423526763916,
          0.6542372703552246,
          0.6423729062080383,
          0.6508474349975586,
          0.693220317363739,
          0.7237288355827332,
          0.6677966117858887,
          0.689830482006073,
          0.6661016941070557,
          0.694915235042572,
          0.6762712001800537,
          0.6694915294647217,
          0.6864407062530518,
          0.6559321880340576,
          0.6779661178588867,
          0.6694915294647217,
          0.693220317363739,
          0.6559321880340576,
          0.6745762825012207,
          0.696610152721405,
          0.68813556432724,
          0.698305070400238,
          0.6644067764282227,
          0.6796610355377197,
          0.693220317363739,
          0.6694915294647217,
          0.6644067764282227,
          0.699999988079071,
          0.6711864471435547,
          0.68813556432724,
          0.6677966117858887,
          0.6864407062530518,
          0.6745762825012207,
          0.6864407062530518,
          0.6576271057128906,
          0.6644067764282227,
          0.689830482006073,
          0.6762712001800537,
          0.6728813648223877,
          0.6762712001800537,
          0.698305070400238,
          0.6525423526763916,
          0.6745762825012207,
          0.6491525173187256,
          0.6864407062530518,
          0.68813556432724,
          0.6610169410705566,
          0.7050847411155701,
          0.689830482006073,
          0.6711864471435547,
          0.6728813648223877,
          0.6762712001800537,
          0.6677966117858887,
          0.6711864471435547,
          0.6728813648223877,
          0.698305070400238,
          0.691525399684906,
          0.6830508708953857,
          0.699999988079071,
          0.7101694941520691,
          0.7322033643722534
         ]
        }
       ],
       "layout": {
        "height": 500,
        "template": {
         "data": {
          "bar": [
           {
            "error_x": {
             "color": "#2a3f5f"
            },
            "error_y": {
             "color": "#2a3f5f"
            },
            "marker": {
             "line": {
              "color": "#E5ECF6",
              "width": 0.5
             },
             "pattern": {
              "fillmode": "overlay",
              "size": 10,
              "solidity": 0.2
             }
            },
            "type": "bar"
           }
          ],
          "barpolar": [
           {
            "marker": {
             "line": {
              "color": "#E5ECF6",
              "width": 0.5
             },
             "pattern": {
              "fillmode": "overlay",
              "size": 10,
              "solidity": 0.2
             }
            },
            "type": "barpolar"
           }
          ],
          "carpet": [
           {
            "aaxis": {
             "endlinecolor": "#2a3f5f",
             "gridcolor": "white",
             "linecolor": "white",
             "minorgridcolor": "white",
             "startlinecolor": "#2a3f5f"
            },
            "baxis": {
             "endlinecolor": "#2a3f5f",
             "gridcolor": "white",
             "linecolor": "white",
             "minorgridcolor": "white",
             "startlinecolor": "#2a3f5f"
            },
            "type": "carpet"
           }
          ],
          "choropleth": [
           {
            "colorbar": {
             "outlinewidth": 0,
             "ticks": ""
            },
            "type": "choropleth"
           }
          ],
          "contour": [
           {
            "colorbar": {
             "outlinewidth": 0,
             "ticks": ""
            },
            "colorscale": [
             [
              0,
              "#0d0887"
             ],
             [
              0.1111111111111111,
              "#46039f"
             ],
             [
              0.2222222222222222,
              "#7201a8"
             ],
             [
              0.3333333333333333,
              "#9c179e"
             ],
             [
              0.4444444444444444,
              "#bd3786"
             ],
             [
              0.5555555555555556,
              "#d8576b"
             ],
             [
              0.6666666666666666,
              "#ed7953"
             ],
             [
              0.7777777777777778,
              "#fb9f3a"
             ],
             [
              0.8888888888888888,
              "#fdca26"
             ],
             [
              1,
              "#f0f921"
             ]
            ],
            "type": "contour"
           }
          ],
          "contourcarpet": [
           {
            "colorbar": {
             "outlinewidth": 0,
             "ticks": ""
            },
            "type": "contourcarpet"
           }
          ],
          "heatmap": [
           {
            "colorbar": {
             "outlinewidth": 0,
             "ticks": ""
            },
            "colorscale": [
             [
              0,
              "#0d0887"
             ],
             [
              0.1111111111111111,
              "#46039f"
             ],
             [
              0.2222222222222222,
              "#7201a8"
             ],
             [
              0.3333333333333333,
              "#9c179e"
             ],
             [
              0.4444444444444444,
              "#bd3786"
             ],
             [
              0.5555555555555556,
              "#d8576b"
             ],
             [
              0.6666666666666666,
              "#ed7953"
             ],
             [
              0.7777777777777778,
              "#fb9f3a"
             ],
             [
              0.8888888888888888,
              "#fdca26"
             ],
             [
              1,
              "#f0f921"
             ]
            ],
            "type": "heatmap"
           }
          ],
          "heatmapgl": [
           {
            "colorbar": {
             "outlinewidth": 0,
             "ticks": ""
            },
            "colorscale": [
             [
              0,
              "#0d0887"
             ],
             [
              0.1111111111111111,
              "#46039f"
             ],
             [
              0.2222222222222222,
              "#7201a8"
             ],
             [
              0.3333333333333333,
              "#9c179e"
             ],
             [
              0.4444444444444444,
              "#bd3786"
             ],
             [
              0.5555555555555556,
              "#d8576b"
             ],
             [
              0.6666666666666666,
              "#ed7953"
             ],
             [
              0.7777777777777778,
              "#fb9f3a"
             ],
             [
              0.8888888888888888,
              "#fdca26"
             ],
             [
              1,
              "#f0f921"
             ]
            ],
            "type": "heatmapgl"
           }
          ],
          "histogram": [
           {
            "marker": {
             "pattern": {
              "fillmode": "overlay",
              "size": 10,
              "solidity": 0.2
             }
            },
            "type": "histogram"
           }
          ],
          "histogram2d": [
           {
            "colorbar": {
             "outlinewidth": 0,
             "ticks": ""
            },
            "colorscale": [
             [
              0,
              "#0d0887"
             ],
             [
              0.1111111111111111,
              "#46039f"
             ],
             [
              0.2222222222222222,
              "#7201a8"
             ],
             [
              0.3333333333333333,
              "#9c179e"
             ],
             [
              0.4444444444444444,
              "#bd3786"
             ],
             [
              0.5555555555555556,
              "#d8576b"
             ],
             [
              0.6666666666666666,
              "#ed7953"
             ],
             [
              0.7777777777777778,
              "#fb9f3a"
             ],
             [
              0.8888888888888888,
              "#fdca26"
             ],
             [
              1,
              "#f0f921"
             ]
            ],
            "type": "histogram2d"
           }
          ],
          "histogram2dcontour": [
           {
            "colorbar": {
             "outlinewidth": 0,
             "ticks": ""
            },
            "colorscale": [
             [
              0,
              "#0d0887"
             ],
             [
              0.1111111111111111,
              "#46039f"
             ],
             [
              0.2222222222222222,
              "#7201a8"
             ],
             [
              0.3333333333333333,
              "#9c179e"
             ],
             [
              0.4444444444444444,
              "#bd3786"
             ],
             [
              0.5555555555555556,
              "#d8576b"
             ],
             [
              0.6666666666666666,
              "#ed7953"
             ],
             [
              0.7777777777777778,
              "#fb9f3a"
             ],
             [
              0.8888888888888888,
              "#fdca26"
             ],
             [
              1,
              "#f0f921"
             ]
            ],
            "type": "histogram2dcontour"
           }
          ],
          "mesh3d": [
           {
            "colorbar": {
             "outlinewidth": 0,
             "ticks": ""
            },
            "type": "mesh3d"
           }
          ],
          "parcoords": [
           {
            "line": {
             "colorbar": {
              "outlinewidth": 0,
              "ticks": ""
             }
            },
            "type": "parcoords"
           }
          ],
          "pie": [
           {
            "automargin": true,
            "type": "pie"
           }
          ],
          "scatter": [
           {
            "fillpattern": {
             "fillmode": "overlay",
             "size": 10,
             "solidity": 0.2
            },
            "type": "scatter"
           }
          ],
          "scatter3d": [
           {
            "line": {
             "colorbar": {
              "outlinewidth": 0,
              "ticks": ""
             }
            },
            "marker": {
             "colorbar": {
              "outlinewidth": 0,
              "ticks": ""
             }
            },
            "type": "scatter3d"
           }
          ],
          "scattercarpet": [
           {
            "marker": {
             "colorbar": {
              "outlinewidth": 0,
              "ticks": ""
             }
            },
            "type": "scattercarpet"
           }
          ],
          "scattergeo": [
           {
            "marker": {
             "colorbar": {
              "outlinewidth": 0,
              "ticks": ""
             }
            },
            "type": "scattergeo"
           }
          ],
          "scattergl": [
           {
            "marker": {
             "colorbar": {
              "outlinewidth": 0,
              "ticks": ""
             }
            },
            "type": "scattergl"
           }
          ],
          "scattermapbox": [
           {
            "marker": {
             "colorbar": {
              "outlinewidth": 0,
              "ticks": ""
             }
            },
            "type": "scattermapbox"
           }
          ],
          "scatterpolar": [
           {
            "marker": {
             "colorbar": {
              "outlinewidth": 0,
              "ticks": ""
             }
            },
            "type": "scatterpolar"
           }
          ],
          "scatterpolargl": [
           {
            "marker": {
             "colorbar": {
              "outlinewidth": 0,
              "ticks": ""
             }
            },
            "type": "scatterpolargl"
           }
          ],
          "scatterternary": [
           {
            "marker": {
             "colorbar": {
              "outlinewidth": 0,
              "ticks": ""
             }
            },
            "type": "scatterternary"
           }
          ],
          "surface": [
           {
            "colorbar": {
             "outlinewidth": 0,
             "ticks": ""
            },
            "colorscale": [
             [
              0,
              "#0d0887"
             ],
             [
              0.1111111111111111,
              "#46039f"
             ],
             [
              0.2222222222222222,
              "#7201a8"
             ],
             [
              0.3333333333333333,
              "#9c179e"
             ],
             [
              0.4444444444444444,
              "#bd3786"
             ],
             [
              0.5555555555555556,
              "#d8576b"
             ],
             [
              0.6666666666666666,
              "#ed7953"
             ],
             [
              0.7777777777777778,
              "#fb9f3a"
             ],
             [
              0.8888888888888888,
              "#fdca26"
             ],
             [
              1,
              "#f0f921"
             ]
            ],
            "type": "surface"
           }
          ],
          "table": [
           {
            "cells": {
             "fill": {
              "color": "#EBF0F8"
             },
             "line": {
              "color": "white"
             }
            },
            "header": {
             "fill": {
              "color": "#C8D4E3"
             },
             "line": {
              "color": "white"
             }
            },
            "type": "table"
           }
          ]
         },
         "layout": {
          "annotationdefaults": {
           "arrowcolor": "#2a3f5f",
           "arrowhead": 0,
           "arrowwidth": 1
          },
          "autotypenumbers": "strict",
          "coloraxis": {
           "colorbar": {
            "outlinewidth": 0,
            "ticks": ""
           }
          },
          "colorscale": {
           "diverging": [
            [
             0,
             "#8e0152"
            ],
            [
             0.1,
             "#c51b7d"
            ],
            [
             0.2,
             "#de77ae"
            ],
            [
             0.3,
             "#f1b6da"
            ],
            [
             0.4,
             "#fde0ef"
            ],
            [
             0.5,
             "#f7f7f7"
            ],
            [
             0.6,
             "#e6f5d0"
            ],
            [
             0.7,
             "#b8e186"
            ],
            [
             0.8,
             "#7fbc41"
            ],
            [
             0.9,
             "#4d9221"
            ],
            [
             1,
             "#276419"
            ]
           ],
           "sequential": [
            [
             0,
             "#0d0887"
            ],
            [
             0.1111111111111111,
             "#46039f"
            ],
            [
             0.2222222222222222,
             "#7201a8"
            ],
            [
             0.3333333333333333,
             "#9c179e"
            ],
            [
             0.4444444444444444,
             "#bd3786"
            ],
            [
             0.5555555555555556,
             "#d8576b"
            ],
            [
             0.6666666666666666,
             "#ed7953"
            ],
            [
             0.7777777777777778,
             "#fb9f3a"
            ],
            [
             0.8888888888888888,
             "#fdca26"
            ],
            [
             1,
             "#f0f921"
            ]
           ],
           "sequentialminus": [
            [
             0,
             "#0d0887"
            ],
            [
             0.1111111111111111,
             "#46039f"
            ],
            [
             0.2222222222222222,
             "#7201a8"
            ],
            [
             0.3333333333333333,
             "#9c179e"
            ],
            [
             0.4444444444444444,
             "#bd3786"
            ],
            [
             0.5555555555555556,
             "#d8576b"
            ],
            [
             0.6666666666666666,
             "#ed7953"
            ],
            [
             0.7777777777777778,
             "#fb9f3a"
            ],
            [
             0.8888888888888888,
             "#fdca26"
            ],
            [
             1,
             "#f0f921"
            ]
           ]
          },
          "colorway": [
           "#636efa",
           "#EF553B",
           "#00cc96",
           "#ab63fa",
           "#FFA15A",
           "#19d3f3",
           "#FF6692",
           "#B6E880",
           "#FF97FF",
           "#FECB52"
          ],
          "font": {
           "color": "#2a3f5f"
          },
          "geo": {
           "bgcolor": "white",
           "lakecolor": "white",
           "landcolor": "#E5ECF6",
           "showlakes": true,
           "showland": true,
           "subunitcolor": "white"
          },
          "hoverlabel": {
           "align": "left"
          },
          "hovermode": "closest",
          "mapbox": {
           "style": "light"
          },
          "paper_bgcolor": "white",
          "plot_bgcolor": "#E5ECF6",
          "polar": {
           "angularaxis": {
            "gridcolor": "white",
            "linecolor": "white",
            "ticks": ""
           },
           "bgcolor": "#E5ECF6",
           "radialaxis": {
            "gridcolor": "white",
            "linecolor": "white",
            "ticks": ""
           }
          },
          "scene": {
           "xaxis": {
            "backgroundcolor": "#E5ECF6",
            "gridcolor": "white",
            "gridwidth": 2,
            "linecolor": "white",
            "showbackground": true,
            "ticks": "",
            "zerolinecolor": "white"
           },
           "yaxis": {
            "backgroundcolor": "#E5ECF6",
            "gridcolor": "white",
            "gridwidth": 2,
            "linecolor": "white",
            "showbackground": true,
            "ticks": "",
            "zerolinecolor": "white"
           },
           "zaxis": {
            "backgroundcolor": "#E5ECF6",
            "gridcolor": "white",
            "gridwidth": 2,
            "linecolor": "white",
            "showbackground": true,
            "ticks": "",
            "zerolinecolor": "white"
           }
          },
          "shapedefaults": {
           "line": {
            "color": "#2a3f5f"
           }
          },
          "ternary": {
           "aaxis": {
            "gridcolor": "white",
            "linecolor": "white",
            "ticks": ""
           },
           "baxis": {
            "gridcolor": "white",
            "linecolor": "white",
            "ticks": ""
           },
           "bgcolor": "#E5ECF6",
           "caxis": {
            "gridcolor": "white",
            "linecolor": "white",
            "ticks": ""
           }
          },
          "title": {
           "x": 0.05
          },
          "xaxis": {
           "automargin": true,
           "gridcolor": "white",
           "linecolor": "white",
           "ticks": "",
           "title": {
            "standoff": 15
           },
           "zerolinecolor": "white",
           "zerolinewidth": 2
          },
          "yaxis": {
           "automargin": true,
           "gridcolor": "white",
           "linecolor": "white",
           "ticks": "",
           "title": {
            "standoff": 15
           },
           "zerolinecolor": "white",
           "zerolinewidth": 2
          }
         }
        },
        "title": {
         "text": "Accuracy for direction feature"
        },
        "width": 700,
        "xaxis": {
         "title": {
          "text": "Epoch"
         }
        },
        "yaxis": {
         "title": {
          "text": "Accuracy"
         }
        }
       }
      }
     },
     "metadata": {},
     "output_type": "display_data"
    },
    {
     "data": {
      "text/plain": [
       "<Figure size 640x480 with 0 Axes>"
      ]
     },
     "metadata": {},
     "output_type": "display_data"
    }
   ],
   "source": [
    "plt.clf()\n",
    "fig = go.Figure()\n",
    "fig.add_trace(go.Scatter(\n",
    "                    y=history.history['direction_output_accuracy'],\n",
    "                    name='Train'))\n",
    "fig.add_trace(go.Scatter(\n",
    "                    y=history.history['val_direction_output_accuracy'],\n",
    "                    name='Valid'))\n",
    "fig.update_layout(height=500, \n",
    "                  width=700,\n",
    "                  title='Accuracy for direction feature',\n",
    "                  xaxis_title='Epoch',\n",
    "                  yaxis_title='Accuracy')\n",
    "fig.show()"
   ]
  },
  {
   "cell_type": "code",
   "execution_count": 22,
   "metadata": {},
   "outputs": [
    {
     "data": {
      "application/vnd.plotly.v1+json": {
       "config": {
        "plotlyServerURL": "https://plot.ly"
       },
       "data": [
        {
         "name": "Train",
         "type": "scatter",
         "y": [
          0.22125181555747986,
          0.3136826753616333,
          0.403930127620697,
          0.46652111411094666,
          0.49490538239479065,
          0.5189228653907776,
          0.5378457307815552,
          0.5720524191856384,
          0.5604075789451599,
          0.5866084694862366,
          0.5982532501220703,
          0.6055312752723694,
          0.6157205104827881,
          0.6535662412643433,
          0.6513828039169312,
          0.6673944592475891,
          0.6652110815048218,
          0.6957787275314331,
          0.7088791728019714,
          0.6957787275314331,
          0.7212518453598022,
          0.7037845849990845,
          0.7350800633430481,
          0.7336244583129883,
          0.7394468784332275,
          0.7358078360557556,
          0.7401746511459351,
          0.7503638863563538,
          0.7605531215667725,
          0.7409024834632874,
          0.7649199366569519,
          0.772197961807251,
          0.7518194913864136,
          0.7831149697303772,
          0.7780203819274902,
          0.7751091718673706,
          0.7656477689743042,
          0.7947598099708557,
          0.8071324825286865,
          0.800582230091095,
          0.8034934401512146,
          0.8049490451812744,
          0.8013100624084473,
          0.7911208271980286,
          0.8049490451812744,
          0.7882096171379089,
          0.8151382803916931,
          0.828966498374939,
          0.8260552883148193,
          0.8311499357223511,
          0.8195050954818726,
          0.8435225486755371,
          0.8267831206321716,
          0.8486171960830688,
          0.8355167508125305,
          0.8260552883148193,
          0.8253275156021118,
          0.8275108933448792,
          0.8318777084350586,
          0.8515284061431885,
          0.83988356590271,
          0.8551673889160156,
          0.8427947759628296,
          0.8442503809928894,
          0.8500728011131287,
          0.8580785989761353,
          0.8326055407524109,
          0.8726346492767334,
          0.8449781537055969,
          0.8689956068992615,
          0.8639010190963745,
          0.8551673889160156,
          0.8733624219894409,
          0.8609898090362549,
          0.8609898090362549,
          0.8748180270195007,
          0.8588064312934875,
          0.8573508262634277,
          0.864628791809082,
          0.8602620363235474,
          0.868267834186554,
          0.875545859336853,
          0.8799126744270325,
          0.875545859336853,
          0.8668122291564941,
          0.875545859336853,
          0.8828238844871521,
          0.9017467498779297,
          0.896652102470398,
          0.8850072622299194,
          0.8740902543067932,
          0.8791848421096802,
          0.88064044713974,
          0.8850072622299194,
          0.8835516571998596,
          0.8770014643669128,
          0.8784570693969727,
          0.891557514667511,
          0.896652102470398,
          0.9032023549079895,
          0.8748180270195007,
          0.8871906995773315,
          0.8864628672599792,
          0.8995633125305176,
          0.896652102470398,
          0.9061135649681091,
          0.8901019096374512,
          0.8951964974403381,
          0.8842794895172119,
          0.8930131196975708,
          0.903930127620697,
          0.8995633125305176,
          0.9010189175605774,
          0.8988355398178101,
          0.8799126744270325,
          0.9170305728912354,
          0.9032023549079895,
          0.9082969427108765,
          0.9148471355438232,
          0.9228529930114746,
          0.9097525477409363,
          0.903930127620697,
          0.9112081527709961,
          0.896652102470398,
          0.9112081527709961,
          0.9126637578010559,
          0.9112081527709961,
          0.903930127620697,
          0.9090247750282288,
          0.9082969427108765,
          0.9148471355438232,
          0.9163027405738831,
          0.9119359254837036,
          0.907569169998169,
          0.9155749678611755,
          0.8981077075004578,
          0.896652102470398,
          0.9053857326507568,
          0.9061135649681091,
          0.9097525477409363,
          0.9002911448478699,
          0.9206695556640625,
          0.9257642030715942,
          0.9206695556640625,
          0.9163027405738831,
          0.9192139506340027,
          0.9046579599380493,
          0.9119359254837036,
          0.9104803204536438,
          0.9308587908744812
         ]
        },
        {
         "name": "Valid",
         "type": "scatter",
         "y": [
          0.22542372345924377,
          0.31525424122810364,
          0.3644067943096161,
          0.350847452878952,
          0.3830508589744568,
          0.4203389883041382,
          0.35254237055778503,
          0.349152535200119,
          0.4220339059829712,
          0.4813559353351593,
          0.4576271176338196,
          0.4644067883491516,
          0.43050846457481384,
          0.4067796468734741,
          0.5423728823661804,
          0.5406779646873474,
          0.5762711763381958,
          0.5881356000900269,
          0.5830508470535278,
          0.6237288117408752,
          0.6864407062530518,
          0.5949152708053589,
          0.6677966117858887,
          0.5525423884391785,
          0.5898305177688599,
          0.6559321880340576,
          0.6711864471435547,
          0.6389830708503723,
          0.693220317363739,
          0.7135593295097351,
          0.7355931997299194,
          0.6830508708953857,
          0.7067796587944031,
          0.694915235042572,
          0.6864407062530518,
          0.7728813290596008,
          0.7677966356277466,
          0.7593220472335815,
          0.7305084466934204,
          0.7423728704452515,
          0.800000011920929,
          0.7728813290596008,
          0.7322033643722534,
          0.7847457528114319,
          0.7711864113807678,
          0.7661017179489136,
          0.7627118825912476,
          0.7559322118759155,
          0.7677966356277466,
          0.7677966356277466,
          0.7491525411605835,
          0.7762711644172668,
          0.7830508351325989,
          0.7576271295547485,
          0.7966101765632629,
          0.806779682636261,
          0.7677966356277466,
          0.7796609997749329,
          0.8338983058929443,
          0.801694929599762,
          0.7932203412055969,
          0.8152542114257812,
          0.8440678119659424,
          0.8152542114257812,
          0.803389847278595,
          0.7915254235267639,
          0.7728813290596008,
          0.806779682636261,
          0.7949152588844299,
          0.8135592937469482,
          0.798305094242096,
          0.8338983058929443,
          0.806779682636261,
          0.7915254235267639,
          0.8135592937469482,
          0.7915254235267639,
          0.805084764957428,
          0.8305084705352783,
          0.8169491291046143,
          0.8237287998199463,
          0.8322033882141113,
          0.8372881412506104,
          0.7966101765632629,
          0.8440678119659424,
          0.8305084705352783,
          0.8406779766082764,
          0.8237287998199463,
          0.8559321761131287,
          0.808474600315094,
          0.808474600315094,
          0.806779682636261,
          0.7711864113807678,
          0.7847457528114319,
          0.8508474826812744,
          0.8745762705802917,
          0.8169491291046143,
          0.8474576473236084,
          0.8559321761131287,
          0.8508474826812744,
          0.8389830589294434,
          0.8677965998649597,
          0.8355932235717773,
          0.8322033882141113,
          0.8474576473236084,
          0.8372881412506104,
          0.8525424003601074,
          0.8338983058929443,
          0.8457627296447754,
          0.8305084705352783,
          0.8423728942871094,
          0.8932203650474548,
          0.8372881412506104,
          0.8237287998199463,
          0.8288135528564453,
          0.8474576473236084,
          0.8457627296447754,
          0.8779661059379578,
          0.8508474826812744,
          0.8508474826812744,
          0.8389830589294434,
          0.8372881412506104,
          0.8355932235717773,
          0.8406779766082764,
          0.8135592937469482,
          0.8576270937919617,
          0.8542372584342957,
          0.8457627296447754,
          0.8423728942871094,
          0.8559321761131287,
          0.8491525650024414,
          0.810169517993927,
          0.8389830589294434,
          0.805084764957428,
          0.8525424003601074,
          0.8406779766082764,
          0.8254237174987793,
          0.7847457528114319,
          0.8542372584342957,
          0.8593220114707947,
          0.8152542114257812,
          0.8813559412956238,
          0.8559321761131287,
          0.8627118468284607,
          0.8254237174987793,
          0.8813559412956238,
          0.8576270937919617,
          0.8661016821861267,
          0.8203389644622803,
          0.8440678119659424,
          0.8745762705802917
         ]
        }
       ],
       "layout": {
        "height": 500,
        "template": {
         "data": {
          "bar": [
           {
            "error_x": {
             "color": "#2a3f5f"
            },
            "error_y": {
             "color": "#2a3f5f"
            },
            "marker": {
             "line": {
              "color": "#E5ECF6",
              "width": 0.5
             },
             "pattern": {
              "fillmode": "overlay",
              "size": 10,
              "solidity": 0.2
             }
            },
            "type": "bar"
           }
          ],
          "barpolar": [
           {
            "marker": {
             "line": {
              "color": "#E5ECF6",
              "width": 0.5
             },
             "pattern": {
              "fillmode": "overlay",
              "size": 10,
              "solidity": 0.2
             }
            },
            "type": "barpolar"
           }
          ],
          "carpet": [
           {
            "aaxis": {
             "endlinecolor": "#2a3f5f",
             "gridcolor": "white",
             "linecolor": "white",
             "minorgridcolor": "white",
             "startlinecolor": "#2a3f5f"
            },
            "baxis": {
             "endlinecolor": "#2a3f5f",
             "gridcolor": "white",
             "linecolor": "white",
             "minorgridcolor": "white",
             "startlinecolor": "#2a3f5f"
            },
            "type": "carpet"
           }
          ],
          "choropleth": [
           {
            "colorbar": {
             "outlinewidth": 0,
             "ticks": ""
            },
            "type": "choropleth"
           }
          ],
          "contour": [
           {
            "colorbar": {
             "outlinewidth": 0,
             "ticks": ""
            },
            "colorscale": [
             [
              0,
              "#0d0887"
             ],
             [
              0.1111111111111111,
              "#46039f"
             ],
             [
              0.2222222222222222,
              "#7201a8"
             ],
             [
              0.3333333333333333,
              "#9c179e"
             ],
             [
              0.4444444444444444,
              "#bd3786"
             ],
             [
              0.5555555555555556,
              "#d8576b"
             ],
             [
              0.6666666666666666,
              "#ed7953"
             ],
             [
              0.7777777777777778,
              "#fb9f3a"
             ],
             [
              0.8888888888888888,
              "#fdca26"
             ],
             [
              1,
              "#f0f921"
             ]
            ],
            "type": "contour"
           }
          ],
          "contourcarpet": [
           {
            "colorbar": {
             "outlinewidth": 0,
             "ticks": ""
            },
            "type": "contourcarpet"
           }
          ],
          "heatmap": [
           {
            "colorbar": {
             "outlinewidth": 0,
             "ticks": ""
            },
            "colorscale": [
             [
              0,
              "#0d0887"
             ],
             [
              0.1111111111111111,
              "#46039f"
             ],
             [
              0.2222222222222222,
              "#7201a8"
             ],
             [
              0.3333333333333333,
              "#9c179e"
             ],
             [
              0.4444444444444444,
              "#bd3786"
             ],
             [
              0.5555555555555556,
              "#d8576b"
             ],
             [
              0.6666666666666666,
              "#ed7953"
             ],
             [
              0.7777777777777778,
              "#fb9f3a"
             ],
             [
              0.8888888888888888,
              "#fdca26"
             ],
             [
              1,
              "#f0f921"
             ]
            ],
            "type": "heatmap"
           }
          ],
          "heatmapgl": [
           {
            "colorbar": {
             "outlinewidth": 0,
             "ticks": ""
            },
            "colorscale": [
             [
              0,
              "#0d0887"
             ],
             [
              0.1111111111111111,
              "#46039f"
             ],
             [
              0.2222222222222222,
              "#7201a8"
             ],
             [
              0.3333333333333333,
              "#9c179e"
             ],
             [
              0.4444444444444444,
              "#bd3786"
             ],
             [
              0.5555555555555556,
              "#d8576b"
             ],
             [
              0.6666666666666666,
              "#ed7953"
             ],
             [
              0.7777777777777778,
              "#fb9f3a"
             ],
             [
              0.8888888888888888,
              "#fdca26"
             ],
             [
              1,
              "#f0f921"
             ]
            ],
            "type": "heatmapgl"
           }
          ],
          "histogram": [
           {
            "marker": {
             "pattern": {
              "fillmode": "overlay",
              "size": 10,
              "solidity": 0.2
             }
            },
            "type": "histogram"
           }
          ],
          "histogram2d": [
           {
            "colorbar": {
             "outlinewidth": 0,
             "ticks": ""
            },
            "colorscale": [
             [
              0,
              "#0d0887"
             ],
             [
              0.1111111111111111,
              "#46039f"
             ],
             [
              0.2222222222222222,
              "#7201a8"
             ],
             [
              0.3333333333333333,
              "#9c179e"
             ],
             [
              0.4444444444444444,
              "#bd3786"
             ],
             [
              0.5555555555555556,
              "#d8576b"
             ],
             [
              0.6666666666666666,
              "#ed7953"
             ],
             [
              0.7777777777777778,
              "#fb9f3a"
             ],
             [
              0.8888888888888888,
              "#fdca26"
             ],
             [
              1,
              "#f0f921"
             ]
            ],
            "type": "histogram2d"
           }
          ],
          "histogram2dcontour": [
           {
            "colorbar": {
             "outlinewidth": 0,
             "ticks": ""
            },
            "colorscale": [
             [
              0,
              "#0d0887"
             ],
             [
              0.1111111111111111,
              "#46039f"
             ],
             [
              0.2222222222222222,
              "#7201a8"
             ],
             [
              0.3333333333333333,
              "#9c179e"
             ],
             [
              0.4444444444444444,
              "#bd3786"
             ],
             [
              0.5555555555555556,
              "#d8576b"
             ],
             [
              0.6666666666666666,
              "#ed7953"
             ],
             [
              0.7777777777777778,
              "#fb9f3a"
             ],
             [
              0.8888888888888888,
              "#fdca26"
             ],
             [
              1,
              "#f0f921"
             ]
            ],
            "type": "histogram2dcontour"
           }
          ],
          "mesh3d": [
           {
            "colorbar": {
             "outlinewidth": 0,
             "ticks": ""
            },
            "type": "mesh3d"
           }
          ],
          "parcoords": [
           {
            "line": {
             "colorbar": {
              "outlinewidth": 0,
              "ticks": ""
             }
            },
            "type": "parcoords"
           }
          ],
          "pie": [
           {
            "automargin": true,
            "type": "pie"
           }
          ],
          "scatter": [
           {
            "fillpattern": {
             "fillmode": "overlay",
             "size": 10,
             "solidity": 0.2
            },
            "type": "scatter"
           }
          ],
          "scatter3d": [
           {
            "line": {
             "colorbar": {
              "outlinewidth": 0,
              "ticks": ""
             }
            },
            "marker": {
             "colorbar": {
              "outlinewidth": 0,
              "ticks": ""
             }
            },
            "type": "scatter3d"
           }
          ],
          "scattercarpet": [
           {
            "marker": {
             "colorbar": {
              "outlinewidth": 0,
              "ticks": ""
             }
            },
            "type": "scattercarpet"
           }
          ],
          "scattergeo": [
           {
            "marker": {
             "colorbar": {
              "outlinewidth": 0,
              "ticks": ""
             }
            },
            "type": "scattergeo"
           }
          ],
          "scattergl": [
           {
            "marker": {
             "colorbar": {
              "outlinewidth": 0,
              "ticks": ""
             }
            },
            "type": "scattergl"
           }
          ],
          "scattermapbox": [
           {
            "marker": {
             "colorbar": {
              "outlinewidth": 0,
              "ticks": ""
             }
            },
            "type": "scattermapbox"
           }
          ],
          "scatterpolar": [
           {
            "marker": {
             "colorbar": {
              "outlinewidth": 0,
              "ticks": ""
             }
            },
            "type": "scatterpolar"
           }
          ],
          "scatterpolargl": [
           {
            "marker": {
             "colorbar": {
              "outlinewidth": 0,
              "ticks": ""
             }
            },
            "type": "scatterpolargl"
           }
          ],
          "scatterternary": [
           {
            "marker": {
             "colorbar": {
              "outlinewidth": 0,
              "ticks": ""
             }
            },
            "type": "scatterternary"
           }
          ],
          "surface": [
           {
            "colorbar": {
             "outlinewidth": 0,
             "ticks": ""
            },
            "colorscale": [
             [
              0,
              "#0d0887"
             ],
             [
              0.1111111111111111,
              "#46039f"
             ],
             [
              0.2222222222222222,
              "#7201a8"
             ],
             [
              0.3333333333333333,
              "#9c179e"
             ],
             [
              0.4444444444444444,
              "#bd3786"
             ],
             [
              0.5555555555555556,
              "#d8576b"
             ],
             [
              0.6666666666666666,
              "#ed7953"
             ],
             [
              0.7777777777777778,
              "#fb9f3a"
             ],
             [
              0.8888888888888888,
              "#fdca26"
             ],
             [
              1,
              "#f0f921"
             ]
            ],
            "type": "surface"
           }
          ],
          "table": [
           {
            "cells": {
             "fill": {
              "color": "#EBF0F8"
             },
             "line": {
              "color": "white"
             }
            },
            "header": {
             "fill": {
              "color": "#C8D4E3"
             },
             "line": {
              "color": "white"
             }
            },
            "type": "table"
           }
          ]
         },
         "layout": {
          "annotationdefaults": {
           "arrowcolor": "#2a3f5f",
           "arrowhead": 0,
           "arrowwidth": 1
          },
          "autotypenumbers": "strict",
          "coloraxis": {
           "colorbar": {
            "outlinewidth": 0,
            "ticks": ""
           }
          },
          "colorscale": {
           "diverging": [
            [
             0,
             "#8e0152"
            ],
            [
             0.1,
             "#c51b7d"
            ],
            [
             0.2,
             "#de77ae"
            ],
            [
             0.3,
             "#f1b6da"
            ],
            [
             0.4,
             "#fde0ef"
            ],
            [
             0.5,
             "#f7f7f7"
            ],
            [
             0.6,
             "#e6f5d0"
            ],
            [
             0.7,
             "#b8e186"
            ],
            [
             0.8,
             "#7fbc41"
            ],
            [
             0.9,
             "#4d9221"
            ],
            [
             1,
             "#276419"
            ]
           ],
           "sequential": [
            [
             0,
             "#0d0887"
            ],
            [
             0.1111111111111111,
             "#46039f"
            ],
            [
             0.2222222222222222,
             "#7201a8"
            ],
            [
             0.3333333333333333,
             "#9c179e"
            ],
            [
             0.4444444444444444,
             "#bd3786"
            ],
            [
             0.5555555555555556,
             "#d8576b"
            ],
            [
             0.6666666666666666,
             "#ed7953"
            ],
            [
             0.7777777777777778,
             "#fb9f3a"
            ],
            [
             0.8888888888888888,
             "#fdca26"
            ],
            [
             1,
             "#f0f921"
            ]
           ],
           "sequentialminus": [
            [
             0,
             "#0d0887"
            ],
            [
             0.1111111111111111,
             "#46039f"
            ],
            [
             0.2222222222222222,
             "#7201a8"
            ],
            [
             0.3333333333333333,
             "#9c179e"
            ],
            [
             0.4444444444444444,
             "#bd3786"
            ],
            [
             0.5555555555555556,
             "#d8576b"
            ],
            [
             0.6666666666666666,
             "#ed7953"
            ],
            [
             0.7777777777777778,
             "#fb9f3a"
            ],
            [
             0.8888888888888888,
             "#fdca26"
            ],
            [
             1,
             "#f0f921"
            ]
           ]
          },
          "colorway": [
           "#636efa",
           "#EF553B",
           "#00cc96",
           "#ab63fa",
           "#FFA15A",
           "#19d3f3",
           "#FF6692",
           "#B6E880",
           "#FF97FF",
           "#FECB52"
          ],
          "font": {
           "color": "#2a3f5f"
          },
          "geo": {
           "bgcolor": "white",
           "lakecolor": "white",
           "landcolor": "#E5ECF6",
           "showlakes": true,
           "showland": true,
           "subunitcolor": "white"
          },
          "hoverlabel": {
           "align": "left"
          },
          "hovermode": "closest",
          "mapbox": {
           "style": "light"
          },
          "paper_bgcolor": "white",
          "plot_bgcolor": "#E5ECF6",
          "polar": {
           "angularaxis": {
            "gridcolor": "white",
            "linecolor": "white",
            "ticks": ""
           },
           "bgcolor": "#E5ECF6",
           "radialaxis": {
            "gridcolor": "white",
            "linecolor": "white",
            "ticks": ""
           }
          },
          "scene": {
           "xaxis": {
            "backgroundcolor": "#E5ECF6",
            "gridcolor": "white",
            "gridwidth": 2,
            "linecolor": "white",
            "showbackground": true,
            "ticks": "",
            "zerolinecolor": "white"
           },
           "yaxis": {
            "backgroundcolor": "#E5ECF6",
            "gridcolor": "white",
            "gridwidth": 2,
            "linecolor": "white",
            "showbackground": true,
            "ticks": "",
            "zerolinecolor": "white"
           },
           "zaxis": {
            "backgroundcolor": "#E5ECF6",
            "gridcolor": "white",
            "gridwidth": 2,
            "linecolor": "white",
            "showbackground": true,
            "ticks": "",
            "zerolinecolor": "white"
           }
          },
          "shapedefaults": {
           "line": {
            "color": "#2a3f5f"
           }
          },
          "ternary": {
           "aaxis": {
            "gridcolor": "white",
            "linecolor": "white",
            "ticks": ""
           },
           "baxis": {
            "gridcolor": "white",
            "linecolor": "white",
            "ticks": ""
           },
           "bgcolor": "#E5ECF6",
           "caxis": {
            "gridcolor": "white",
            "linecolor": "white",
            "ticks": ""
           }
          },
          "title": {
           "x": 0.05
          },
          "xaxis": {
           "automargin": true,
           "gridcolor": "white",
           "linecolor": "white",
           "ticks": "",
           "title": {
            "standoff": 15
           },
           "zerolinecolor": "white",
           "zerolinewidth": 2
          },
          "yaxis": {
           "automargin": true,
           "gridcolor": "white",
           "linecolor": "white",
           "ticks": "",
           "title": {
            "standoff": 15
           },
           "zerolinecolor": "white",
           "zerolinewidth": 2
          }
         }
        },
        "title": {
         "text": "Accuracy for distance feature"
        },
        "width": 700,
        "xaxis": {
         "title": {
          "text": "Epoch"
         }
        },
        "yaxis": {
         "title": {
          "text": "Accuracy"
         }
        }
       }
      }
     },
     "metadata": {},
     "output_type": "display_data"
    },
    {
     "data": {
      "text/plain": [
       "<Figure size 640x480 with 0 Axes>"
      ]
     },
     "metadata": {},
     "output_type": "display_data"
    }
   ],
   "source": [
    "plt.clf()\n",
    "fig = go.Figure()\n",
    "fig.add_trace(go.Scatter(\n",
    "                    y=history.history['distance_output_accuracy'],\n",
    "                    name='Train'))\n",
    "fig.add_trace(go.Scatter(\n",
    "                    y=history.history['val_distance_output_accuracy'],\n",
    "                    name='Valid'))\n",
    "fig.update_layout(height=500, \n",
    "                  width=700,\n",
    "                  title='Accuracy for distance feature',\n",
    "                  xaxis_title='Epoch',\n",
    "                  yaxis_title='Accuracy')\n",
    "fig.show()"
   ]
  },
  {
   "cell_type": "code",
   "execution_count": 23,
   "metadata": {},
   "outputs": [],
   "source": [
    "# checkpoint=tf.keras.callbacks.ModelCheckpoint('best_model.keras',monitor='val_gunshot_output_accuracy',save_best_only=True,mode='max')\n",
    "# history=model.fit([X_mfcc_train,X_melspec_train],\n",
    "#                   {\n",
    "#                       'gunshot_output':y_gun_train,\n",
    "#                       'direction_output':y_direction_train,\n",
    "#                       'distance_output':y_distance_train\n",
    "#                   },\n",
    "#                   validation_data=([X_mfcc_val,X_melspec_val],\n",
    "#                                     {\n",
    "#                                         'gunshot_output':y_gun_val,\n",
    "#                                         'direction_output':y_direction_val,\n",
    "#                                         'distance_output':y_distance_val\n",
    "#                                     }),\n",
    "#                     epochs=30,batch_size=32,callbacks=[checkpoint])\n",
    "# model = create_model(input_shape_mfcc, input_shape_melspec)\n",
    "# model=tf.keras.models.load_model('best_model.keras')\n",
    "# model.load_weights('best_model.keras')\n",
    "# results=model.evaluate([X_mfcc_test,X_melspec_test],{\n",
    "#                                         'gunshot_output':y_gun_test,\n",
    "#                                         'direction_output':y_direction_test,\n",
    "#                                         'distance_output':y_distance_test\n",
    "#                                     })\n",
    "# test_loss=results[0]\n",
    "# test_gun_accuracy=results[1]\n",
    "# test_direction_accuracy=results[2]\n",
    "# test_distance_accuracy=results[3]\n",
    "\n",
    "# # print(f'Test Accuracy:{test_accuracy*100:.2f}%')\n",
    "# # print(f'Test Loss:{test_loss*100:.2f}%')"
   ]
  },
  {
   "cell_type": "code",
   "execution_count": 24,
   "metadata": {},
   "outputs": [
    {
     "name": "stdout",
     "output_type": "stream",
     "text": [
      "\u001b[1m27/27\u001b[0m \u001b[32m━━━━━━━━━━━━━━━━━━━━\u001b[0m\u001b[37m\u001b[0m \u001b[1m11s\u001b[0m 133ms/step - direction_output_Precision: 0.7577 - direction_output_Recall: 0.6747 - direction_output_accuracy: 0.7167 - direction_output_auc_2: 0.9535 - distance_output_Precision: 0.9208 - distance_output_Recall: 0.8870 - distance_output_accuracy: 0.8949 - distance_output_auc_1: 0.9848 - gunshot_output_Precision: 0.9362 - gunshot_output_Recall: 0.9348 - gunshot_output_accuracy: 0.9348 - gunshot_output_auc: 0.9877 - loss: 1.2717\n"
     ]
    }
   ],
   "source": [
    "test_results = model.evaluate([X_mfcc_test, X_melspec_test], \n",
    "                              [y_gun_test, y_direction_test, y_distance_test])"
   ]
  },
  {
   "cell_type": "code",
   "execution_count": null,
   "metadata": {},
   "outputs": [],
   "source": []
  }
 ],
 "metadata": {
  "kernelspec": {
   "display_name": "Python 3",
   "language": "python",
   "name": "python3"
  },
  "language_info": {
   "codemirror_mode": {
    "name": "ipython",
    "version": 3
   },
   "file_extension": ".py",
   "mimetype": "text/x-python",
   "name": "python",
   "nbconvert_exporter": "python",
   "pygments_lexer": "ipython3",
   "version": "3.12.4"
  },
  "orig_nbformat": 4
 },
 "nbformat": 4,
 "nbformat_minor": 2
}
