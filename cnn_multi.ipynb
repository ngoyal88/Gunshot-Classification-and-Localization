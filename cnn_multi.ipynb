{
 "cells": [
  {
   "cell_type": "code",
   "execution_count": 1,
   "metadata": {},
   "outputs": [],
   "source": [
    "import os\n",
    "import librosa\n",
    "import numpy as np\n",
    "import tensorflow as tf\n",
    "from sklearn.model_selection import train_test_split\n",
    "from tensorflow.keras.utils import to_categorical\n",
    "from tensorflow.keras.callbacks import ModelCheckpoint\n",
    "import matplotlib.pyplot as plt\n",
    "import pandas as pd\n",
    "from sklearn.preprocessing import LabelEncoder"
   ]
  },
  {
   "cell_type": "code",
   "execution_count": 2,
   "metadata": {},
   "outputs": [],
   "source": [
    "SR=22050\n",
    "N_MFCC=40\n",
    "N_MELS=128\n",
    "DURATION=1\n",
    "SAMPLES_PER_TRACK=SR*DURATION\n",
    "CLASSES=['AR','Sniper','nogun']"
   ]
  },
  {
   "cell_type": "code",
   "execution_count": 3,
   "metadata": {},
   "outputs": [],
   "source": [
    "dataset = pd.read_csv('dataset1.csv')"
   ]
  },
  {
   "cell_type": "code",
   "execution_count": null,
   "metadata": {},
   "outputs": [],
   "source": [
    "def extract_features(file_path):\n",
    "    y,sr=librosa.load(file_path,sr=SR,duration=DURATION)\n",
    "    if len(y)<SAMPLES_PER_TRACK:\n",
    "        y=np.pad(y,(0,SAMPLES_PER_TRACK-len(y)))\n",
    "    else:\n",
    "        y=y[:SAMPLES_PER_TRACK]\n",
    "    mfcc=librosa.feature.mfcc(y=y,sr=sr,n_mfcc=N_MFCC)\n",
    "    mfcc=librosa.util.fix_length(mfcc,size=174,axis=1)\n",
    "    mfcc=mfcc[...,np.newaxis]\n",
    "\n",
    "    mel_spec=librosa.feature.melspectrogram(y=y,sr=sr)\n",
    "    mel_spec=librosa.power_to_db(mel_spec,ref=np.max)\n",
    "    mel_spec=librosa.util.fix_length(mel_spec,size=174,axis=1)\n",
    "    mel_spec=mel_spec[...,np.newaxis]\n",
    "    return mfcc,mel_spec\n"
   ]
  },
  {
   "cell_type": "code",
   "execution_count": 5,
   "metadata": {},
   "outputs": [],
   "source": [
    "def load_dataset(dataset_path):\n",
    "    x_mfcc,x_melspec,gun_type,direction,distance=[],[],[],[],[]\n",
    "    suffixes=['_gain.wav','_pan.wav','_pitch.wav','_reverse.wav','_speed.wav','_noise.wav','_original.wav']\n",
    "    for i,class_name in enumerate(CLASSES):\n",
    "        class_dir=os.path.join(dataset_path,class_name)\n",
    "        for file_name in os.listdir(class_dir):\n",
    "            if file_name.endswith(\".wav\"):\n",
    "                file_path=os.path.join(class_dir,file_name)\n",
    "                mfcc,mel_spec=extract_features(file_path)\n",
    "                x_mfcc.append(mfcc)\n",
    "                x_melspec.append(mel_spec)\n",
    "                if class_name=='Sniper':\n",
    "                    for suffix in suffixes:\n",
    "                        if file_name.endswith(suffix):\n",
    "                            file_name=file_name[:-len(suffix)]+'.wav'\n",
    "                gun_type.append(i)\n",
    "                if class_name=='nogun':\n",
    "                    direction.append('None')\n",
    "                    distance.append('None')\n",
    "                else:\n",
    "                    row=dataset[dataset['name']==file_name]\n",
    "                    direction.append(row['dire'].values[0])\n",
    "                    distance.append(row['dist'].values[0])\n",
    "    x_mfcc=np.array(x_mfcc)\n",
    "    x_melspec=np.array(x_melspec)\n",
    "    gun_encoder=LabelEncoder()\n",
    "    gun_types_encoded=gun_encoder.fit_transform(gun_type)\n",
    "    gun_types_categorical=to_categorical(gun_types_encoded)\n",
    "    gun_types_categorical=np.array(gun_types_categorical)\n",
    "    direction_encoder=LabelEncoder()\n",
    "    direction_types_encoded=direction_encoder.fit_transform(direction)\n",
    "    direction_types_categorical=to_categorical(direction_types_encoded)\n",
    "    direction_types_categorical=np.array(direction_types_categorical)\n",
    "    distance_encoder=LabelEncoder()\n",
    "    distance_types_encoded=distance_encoder.fit_transform(distance)\n",
    "    distance_types_categorical=to_categorical(distance_types_encoded)\n",
    "    distance_types_categorical=np.array(distance_types_categorical)\n",
    "    return x_mfcc,x_melspec,gun_types_categorical,direction_types_categorical,distance_types_categorical\n"
   ]
  },
  {
   "cell_type": "code",
   "execution_count": 6,
   "metadata": {},
   "outputs": [],
   "source": [
    "X_mfcc,X_melspec,y_gun,y_direction,y_distance=load_dataset('gun_sound_v9')"
   ]
  },
  {
   "cell_type": "code",
   "execution_count": 7,
   "metadata": {},
   "outputs": [
    {
     "data": {
      "text/plain": [
       "(2807, 128, 174, 1)"
      ]
     },
     "execution_count": 7,
     "metadata": {},
     "output_type": "execute_result"
    }
   ],
   "source": [
    "X_melspec_shape=X_melspec.shape\n",
    "X_melspec_shape"
   ]
  },
  {
   "cell_type": "code",
   "execution_count": 8,
   "metadata": {},
   "outputs": [
    {
     "data": {
      "text/plain": [
       "(2807, 40, 174, 1)"
      ]
     },
     "execution_count": 8,
     "metadata": {},
     "output_type": "execute_result"
    }
   ],
   "source": [
    "X_mfcc_shape=X_mfcc.shape\n",
    "X_mfcc_shape"
   ]
  },
  {
   "cell_type": "code",
   "execution_count": 9,
   "metadata": {},
   "outputs": [
    {
     "data": {
      "text/plain": [
       "(2807, 3)"
      ]
     },
     "execution_count": 9,
     "metadata": {},
     "output_type": "execute_result"
    }
   ],
   "source": [
    "y_gun.shape"
   ]
  },
  {
   "cell_type": "code",
   "execution_count": 10,
   "metadata": {},
   "outputs": [
    {
     "data": {
      "text/plain": [
       "(2807, 6)"
      ]
     },
     "execution_count": 10,
     "metadata": {},
     "output_type": "execute_result"
    }
   ],
   "source": [
    "y_direction.shape"
   ]
  },
  {
   "cell_type": "code",
   "execution_count": 15,
   "metadata": {},
   "outputs": [],
   "source": [
    "X_mfcc_trainval, X_mfcc_test, X_melspec_trainval, X_melspec_test, y_gun_trainval, y_gun_test,y_distance_trainval,y_distance_test,y_direction_trainval,y_direction_test = train_test_split(\n",
    "    X_mfcc, X_melspec, y_gun,y_distance,y_direction,test_size=0.3, random_state=42\n",
    ")\n",
    "\n",
    "# Then, split the training+validation set into training and validation sets\n",
    "X_mfcc_train, X_mfcc_val, X_melspec_train, X_melspec_val, y_gun_train, y_gun_val,y_distance_train,y_distance_val,y_direction_train,y_direction_val = train_test_split(\n",
    "    X_mfcc_trainval, X_melspec_trainval, y_gun_trainval,y_distance_trainval,y_direction_trainval, test_size=0.3, random_state=42\n",
    ")"
   ]
  },
  {
   "cell_type": "code",
   "execution_count": 16,
   "metadata": {},
   "outputs": [
    {
     "data": {
      "text/plain": [
       "(1374, 3)"
      ]
     },
     "execution_count": 16,
     "metadata": {},
     "output_type": "execute_result"
    }
   ],
   "source": [
    "y_gun_train=np.array(y_gun_train)\n",
    "y_gun_train.shape"
   ]
  },
  {
   "cell_type": "code",
   "execution_count": 17,
   "metadata": {},
   "outputs": [
    {
     "data": {
      "text/plain": [
       "(843, 40, 174, 1)"
      ]
     },
     "execution_count": 17,
     "metadata": {},
     "output_type": "execute_result"
    }
   ],
   "source": [
    "X_mfcc_test.shape"
   ]
  },
  {
   "cell_type": "code",
   "execution_count": 18,
   "metadata": {},
   "outputs": [
    {
     "data": {
      "text/plain": [
       "(590, 40, 174, 1)"
      ]
     },
     "execution_count": 18,
     "metadata": {},
     "output_type": "execute_result"
    }
   ],
   "source": [
    "X_mfcc_val.shape"
   ]
  },
  {
   "cell_type": "code",
   "execution_count": 19,
   "metadata": {},
   "outputs": [],
   "source": [
    "import tensorflow as tf\n",
    "from tensorflow.keras.metrics import AUC\n",
    "from tensorflow.keras.layers import Conv2D,MaxPooling2D,Dropout,GlobalAveragePooling2D,Dense,Input\n",
    "from tensorflow.keras.models import Model\n",
    "def create_model(input_shape_mfcc,input_shape_melspec,num_classes=3,num_directions=6,num_distances=7):\n",
    "    input_mfcc=Input(shape=input_shape_mfcc,name='mfcc_input')\n",
    "    x_mfcc=Conv2D(16,kernel_size=(3,3),activation='relu')(input_mfcc)\n",
    "    x_mfcc=MaxPooling2D(pool_size=(2,2))(x_mfcc)\n",
    "    x_mfcc=Dropout(0.3)(x_mfcc)\n",
    "\n",
    "    x_mfcc=Conv2D(32,kernel_size=(3,3),activation='relu')(x_mfcc)\n",
    "    x_mfcc=MaxPooling2D(pool_size=(2,2))(x_mfcc)\n",
    "    x_mfcc=Dropout(0.3)(x_mfcc)\n",
    "\n",
    "    x_mfcc=Conv2D(64,kernel_size=(3,3),activation='relu')(x_mfcc)\n",
    "    x_mfcc=MaxPooling2D(pool_size=(1,2))(x_mfcc)\n",
    "    x_mfcc=Dropout(0.3)(x_mfcc)\n",
    "    \n",
    "    x_mfcc=Conv2D(128,kernel_size=(3,3),activation='relu')(x_mfcc)\n",
    "    x_mfcc=MaxPooling2D(pool_size=(2,2))(x_mfcc)\n",
    "    x_mfcc=Dropout(0.3)(x_mfcc)\n",
    "    \n",
    "    x_mfcc=GlobalAveragePooling2D()(x_mfcc)\n",
    "\n",
    "    input_melspec=Input(shape=input_shape_melspec,name='melspec_input')\n",
    "    x_melspec=Conv2D(16,kernel_size=(3,3),activation='relu')(input_melspec)\n",
    "    x_melspec=MaxPooling2D(pool_size=(2,2))(x_melspec)\n",
    "    x_melspec=Dropout(0.3)(x_melspec)\n",
    "\n",
    "    x_melspec=Conv2D(32,kernel_size=(3,3),activation='relu')(x_melspec)\n",
    "    x_melspec=MaxPooling2D(pool_size=(2,2))(x_melspec)\n",
    "    x_melspec=Dropout(0.3)(x_melspec)\n",
    "\n",
    "    x_melspec=Conv2D(64,kernel_size=(3,3),activation='relu')(x_melspec)\n",
    "    x_melspec=MaxPooling2D(pool_size=(2,2))(x_melspec)\n",
    "    x_melspec=Dropout(0.3)(x_melspec)\n",
    "\n",
    "    x_melspec=Conv2D(128,kernel_size=(3,3),activation='relu')(x_melspec)\n",
    "    x_melspec=MaxPooling2D(pool_size=(2,2))(x_melspec)\n",
    "    x_melspec=Dropout(0.3)(x_melspec)\n",
    "\n",
    "    x_melspec = GlobalAveragePooling2D()(x_melspec)\n",
    "\n",
    "    concatenated=tf.keras.layers.concatenate([x_mfcc,x_melspec])\n",
    "    common_dense=Dense(128,activation='relu')(concatenated)\n",
    "    gunshot_output=Dense(num_classes,activation='softmax',name='gunshot_output')(common_dense)\n",
    "    direction_output=Dense(num_directions,activation='softmax',name='direction_output')(common_dense)\n",
    "    distance_output=Dense(num_distances,activation='softmax',name='distance_output')(common_dense)\n",
    "\n",
    "    model=Model(inputs=[input_mfcc,input_melspec],outputs=[gunshot_output,direction_output,distance_output])\n",
    "    \n",
    "    return model"
   ]
  },
  {
   "cell_type": "code",
   "execution_count": 20,
   "metadata": {},
   "outputs": [],
   "source": [
    "input_shape_mfcc=(40,174,1)\n",
    "input_shape_melspec=(128,174,1)\n",
    "model=create_model(input_shape_mfcc,input_shape_melspec,num_classes=3,num_directions=6,num_distances=7)"
   ]
  },
  {
   "cell_type": "code",
   "execution_count": 21,
   "metadata": {},
   "outputs": [
    {
     "data": {
      "text/html": [
       "<pre style=\"white-space:pre;overflow-x:auto;line-height:normal;font-family:Menlo,'DejaVu Sans Mono',consolas,'Courier New',monospace\"><span style=\"font-weight: bold\">Model: \"functional_1\"</span>\n",
       "</pre>\n"
      ],
      "text/plain": [
       "\u001b[1mModel: \"functional_1\"\u001b[0m\n"
      ]
     },
     "metadata": {},
     "output_type": "display_data"
    },
    {
     "data": {
      "text/html": [
       "<pre style=\"white-space:pre;overflow-x:auto;line-height:normal;font-family:Menlo,'DejaVu Sans Mono',consolas,'Courier New',monospace\">┏━━━━━━━━━━━━━━━━━━━━━┳━━━━━━━━━━━━━━━━━━━┳━━━━━━━━━━━━┳━━━━━━━━━━━━━━━━━━━┓\n",
       "┃<span style=\"font-weight: bold\"> Layer (type)        </span>┃<span style=\"font-weight: bold\"> Output Shape      </span>┃<span style=\"font-weight: bold\">    Param # </span>┃<span style=\"font-weight: bold\"> Connected to      </span>┃\n",
       "┡━━━━━━━━━━━━━━━━━━━━━╇━━━━━━━━━━━━━━━━━━━╇━━━━━━━━━━━━╇━━━━━━━━━━━━━━━━━━━┩\n",
       "│ mfcc_input          │ (<span style=\"color: #00d7ff; text-decoration-color: #00d7ff\">None</span>, <span style=\"color: #00af00; text-decoration-color: #00af00\">40</span>, <span style=\"color: #00af00; text-decoration-color: #00af00\">174</span>,   │          <span style=\"color: #00af00; text-decoration-color: #00af00\">0</span> │ -                 │\n",
       "│ (<span style=\"color: #0087ff; text-decoration-color: #0087ff\">InputLayer</span>)        │ <span style=\"color: #00af00; text-decoration-color: #00af00\">1</span>)                │            │                   │\n",
       "├─────────────────────┼───────────────────┼────────────┼───────────────────┤\n",
       "│ melspec_input       │ (<span style=\"color: #00d7ff; text-decoration-color: #00d7ff\">None</span>, <span style=\"color: #00af00; text-decoration-color: #00af00\">128</span>, <span style=\"color: #00af00; text-decoration-color: #00af00\">174</span>,  │          <span style=\"color: #00af00; text-decoration-color: #00af00\">0</span> │ -                 │\n",
       "│ (<span style=\"color: #0087ff; text-decoration-color: #0087ff\">InputLayer</span>)        │ <span style=\"color: #00af00; text-decoration-color: #00af00\">1</span>)                │            │                   │\n",
       "├─────────────────────┼───────────────────┼────────────┼───────────────────┤\n",
       "│ conv2d (<span style=\"color: #0087ff; text-decoration-color: #0087ff\">Conv2D</span>)     │ (<span style=\"color: #00d7ff; text-decoration-color: #00d7ff\">None</span>, <span style=\"color: #00af00; text-decoration-color: #00af00\">38</span>, <span style=\"color: #00af00; text-decoration-color: #00af00\">172</span>,   │        <span style=\"color: #00af00; text-decoration-color: #00af00\">160</span> │ mfcc_input[<span style=\"color: #00af00; text-decoration-color: #00af00\">0</span>][<span style=\"color: #00af00; text-decoration-color: #00af00\">0</span>]  │\n",
       "│                     │ <span style=\"color: #00af00; text-decoration-color: #00af00\">16</span>)               │            │                   │\n",
       "├─────────────────────┼───────────────────┼────────────┼───────────────────┤\n",
       "│ conv2d_4 (<span style=\"color: #0087ff; text-decoration-color: #0087ff\">Conv2D</span>)   │ (<span style=\"color: #00d7ff; text-decoration-color: #00d7ff\">None</span>, <span style=\"color: #00af00; text-decoration-color: #00af00\">126</span>, <span style=\"color: #00af00; text-decoration-color: #00af00\">172</span>,  │        <span style=\"color: #00af00; text-decoration-color: #00af00\">160</span> │ melspec_input[<span style=\"color: #00af00; text-decoration-color: #00af00\">0</span>]… │\n",
       "│                     │ <span style=\"color: #00af00; text-decoration-color: #00af00\">16</span>)               │            │                   │\n",
       "├─────────────────────┼───────────────────┼────────────┼───────────────────┤\n",
       "│ max_pooling2d       │ (<span style=\"color: #00d7ff; text-decoration-color: #00d7ff\">None</span>, <span style=\"color: #00af00; text-decoration-color: #00af00\">19</span>, <span style=\"color: #00af00; text-decoration-color: #00af00\">86</span>,    │          <span style=\"color: #00af00; text-decoration-color: #00af00\">0</span> │ conv2d[<span style=\"color: #00af00; text-decoration-color: #00af00\">0</span>][<span style=\"color: #00af00; text-decoration-color: #00af00\">0</span>]      │\n",
       "│ (<span style=\"color: #0087ff; text-decoration-color: #0087ff\">MaxPooling2D</span>)      │ <span style=\"color: #00af00; text-decoration-color: #00af00\">16</span>)               │            │                   │\n",
       "├─────────────────────┼───────────────────┼────────────┼───────────────────┤\n",
       "│ max_pooling2d_4     │ (<span style=\"color: #00d7ff; text-decoration-color: #00d7ff\">None</span>, <span style=\"color: #00af00; text-decoration-color: #00af00\">63</span>, <span style=\"color: #00af00; text-decoration-color: #00af00\">86</span>,    │          <span style=\"color: #00af00; text-decoration-color: #00af00\">0</span> │ conv2d_4[<span style=\"color: #00af00; text-decoration-color: #00af00\">0</span>][<span style=\"color: #00af00; text-decoration-color: #00af00\">0</span>]    │\n",
       "│ (<span style=\"color: #0087ff; text-decoration-color: #0087ff\">MaxPooling2D</span>)      │ <span style=\"color: #00af00; text-decoration-color: #00af00\">16</span>)               │            │                   │\n",
       "├─────────────────────┼───────────────────┼────────────┼───────────────────┤\n",
       "│ dropout (<span style=\"color: #0087ff; text-decoration-color: #0087ff\">Dropout</span>)   │ (<span style=\"color: #00d7ff; text-decoration-color: #00d7ff\">None</span>, <span style=\"color: #00af00; text-decoration-color: #00af00\">19</span>, <span style=\"color: #00af00; text-decoration-color: #00af00\">86</span>,    │          <span style=\"color: #00af00; text-decoration-color: #00af00\">0</span> │ max_pooling2d[<span style=\"color: #00af00; text-decoration-color: #00af00\">0</span>]… │\n",
       "│                     │ <span style=\"color: #00af00; text-decoration-color: #00af00\">16</span>)               │            │                   │\n",
       "├─────────────────────┼───────────────────┼────────────┼───────────────────┤\n",
       "│ dropout_4 (<span style=\"color: #0087ff; text-decoration-color: #0087ff\">Dropout</span>) │ (<span style=\"color: #00d7ff; text-decoration-color: #00d7ff\">None</span>, <span style=\"color: #00af00; text-decoration-color: #00af00\">63</span>, <span style=\"color: #00af00; text-decoration-color: #00af00\">86</span>,    │          <span style=\"color: #00af00; text-decoration-color: #00af00\">0</span> │ max_pooling2d_4[<span style=\"color: #00af00; text-decoration-color: #00af00\">…</span> │\n",
       "│                     │ <span style=\"color: #00af00; text-decoration-color: #00af00\">16</span>)               │            │                   │\n",
       "├─────────────────────┼───────────────────┼────────────┼───────────────────┤\n",
       "│ conv2d_1 (<span style=\"color: #0087ff; text-decoration-color: #0087ff\">Conv2D</span>)   │ (<span style=\"color: #00d7ff; text-decoration-color: #00d7ff\">None</span>, <span style=\"color: #00af00; text-decoration-color: #00af00\">17</span>, <span style=\"color: #00af00; text-decoration-color: #00af00\">84</span>,    │      <span style=\"color: #00af00; text-decoration-color: #00af00\">4,640</span> │ dropout[<span style=\"color: #00af00; text-decoration-color: #00af00\">0</span>][<span style=\"color: #00af00; text-decoration-color: #00af00\">0</span>]     │\n",
       "│                     │ <span style=\"color: #00af00; text-decoration-color: #00af00\">32</span>)               │            │                   │\n",
       "├─────────────────────┼───────────────────┼────────────┼───────────────────┤\n",
       "│ conv2d_5 (<span style=\"color: #0087ff; text-decoration-color: #0087ff\">Conv2D</span>)   │ (<span style=\"color: #00d7ff; text-decoration-color: #00d7ff\">None</span>, <span style=\"color: #00af00; text-decoration-color: #00af00\">61</span>, <span style=\"color: #00af00; text-decoration-color: #00af00\">84</span>,    │      <span style=\"color: #00af00; text-decoration-color: #00af00\">4,640</span> │ dropout_4[<span style=\"color: #00af00; text-decoration-color: #00af00\">0</span>][<span style=\"color: #00af00; text-decoration-color: #00af00\">0</span>]   │\n",
       "│                     │ <span style=\"color: #00af00; text-decoration-color: #00af00\">32</span>)               │            │                   │\n",
       "├─────────────────────┼───────────────────┼────────────┼───────────────────┤\n",
       "│ max_pooling2d_1     │ (<span style=\"color: #00d7ff; text-decoration-color: #00d7ff\">None</span>, <span style=\"color: #00af00; text-decoration-color: #00af00\">8</span>, <span style=\"color: #00af00; text-decoration-color: #00af00\">42</span>, <span style=\"color: #00af00; text-decoration-color: #00af00\">32</span>) │          <span style=\"color: #00af00; text-decoration-color: #00af00\">0</span> │ conv2d_1[<span style=\"color: #00af00; text-decoration-color: #00af00\">0</span>][<span style=\"color: #00af00; text-decoration-color: #00af00\">0</span>]    │\n",
       "│ (<span style=\"color: #0087ff; text-decoration-color: #0087ff\">MaxPooling2D</span>)      │                   │            │                   │\n",
       "├─────────────────────┼───────────────────┼────────────┼───────────────────┤\n",
       "│ max_pooling2d_5     │ (<span style=\"color: #00d7ff; text-decoration-color: #00d7ff\">None</span>, <span style=\"color: #00af00; text-decoration-color: #00af00\">30</span>, <span style=\"color: #00af00; text-decoration-color: #00af00\">42</span>,    │          <span style=\"color: #00af00; text-decoration-color: #00af00\">0</span> │ conv2d_5[<span style=\"color: #00af00; text-decoration-color: #00af00\">0</span>][<span style=\"color: #00af00; text-decoration-color: #00af00\">0</span>]    │\n",
       "│ (<span style=\"color: #0087ff; text-decoration-color: #0087ff\">MaxPooling2D</span>)      │ <span style=\"color: #00af00; text-decoration-color: #00af00\">32</span>)               │            │                   │\n",
       "├─────────────────────┼───────────────────┼────────────┼───────────────────┤\n",
       "│ dropout_1 (<span style=\"color: #0087ff; text-decoration-color: #0087ff\">Dropout</span>) │ (<span style=\"color: #00d7ff; text-decoration-color: #00d7ff\">None</span>, <span style=\"color: #00af00; text-decoration-color: #00af00\">8</span>, <span style=\"color: #00af00; text-decoration-color: #00af00\">42</span>, <span style=\"color: #00af00; text-decoration-color: #00af00\">32</span>) │          <span style=\"color: #00af00; text-decoration-color: #00af00\">0</span> │ max_pooling2d_1[<span style=\"color: #00af00; text-decoration-color: #00af00\">…</span> │\n",
       "├─────────────────────┼───────────────────┼────────────┼───────────────────┤\n",
       "│ dropout_5 (<span style=\"color: #0087ff; text-decoration-color: #0087ff\">Dropout</span>) │ (<span style=\"color: #00d7ff; text-decoration-color: #00d7ff\">None</span>, <span style=\"color: #00af00; text-decoration-color: #00af00\">30</span>, <span style=\"color: #00af00; text-decoration-color: #00af00\">42</span>,    │          <span style=\"color: #00af00; text-decoration-color: #00af00\">0</span> │ max_pooling2d_5[<span style=\"color: #00af00; text-decoration-color: #00af00\">…</span> │\n",
       "│                     │ <span style=\"color: #00af00; text-decoration-color: #00af00\">32</span>)               │            │                   │\n",
       "├─────────────────────┼───────────────────┼────────────┼───────────────────┤\n",
       "│ conv2d_2 (<span style=\"color: #0087ff; text-decoration-color: #0087ff\">Conv2D</span>)   │ (<span style=\"color: #00d7ff; text-decoration-color: #00d7ff\">None</span>, <span style=\"color: #00af00; text-decoration-color: #00af00\">6</span>, <span style=\"color: #00af00; text-decoration-color: #00af00\">40</span>, <span style=\"color: #00af00; text-decoration-color: #00af00\">64</span>) │     <span style=\"color: #00af00; text-decoration-color: #00af00\">18,496</span> │ dropout_1[<span style=\"color: #00af00; text-decoration-color: #00af00\">0</span>][<span style=\"color: #00af00; text-decoration-color: #00af00\">0</span>]   │\n",
       "├─────────────────────┼───────────────────┼────────────┼───────────────────┤\n",
       "│ conv2d_6 (<span style=\"color: #0087ff; text-decoration-color: #0087ff\">Conv2D</span>)   │ (<span style=\"color: #00d7ff; text-decoration-color: #00d7ff\">None</span>, <span style=\"color: #00af00; text-decoration-color: #00af00\">28</span>, <span style=\"color: #00af00; text-decoration-color: #00af00\">40</span>,    │     <span style=\"color: #00af00; text-decoration-color: #00af00\">18,496</span> │ dropout_5[<span style=\"color: #00af00; text-decoration-color: #00af00\">0</span>][<span style=\"color: #00af00; text-decoration-color: #00af00\">0</span>]   │\n",
       "│                     │ <span style=\"color: #00af00; text-decoration-color: #00af00\">64</span>)               │            │                   │\n",
       "├─────────────────────┼───────────────────┼────────────┼───────────────────┤\n",
       "│ max_pooling2d_2     │ (<span style=\"color: #00d7ff; text-decoration-color: #00d7ff\">None</span>, <span style=\"color: #00af00; text-decoration-color: #00af00\">6</span>, <span style=\"color: #00af00; text-decoration-color: #00af00\">20</span>, <span style=\"color: #00af00; text-decoration-color: #00af00\">64</span>) │          <span style=\"color: #00af00; text-decoration-color: #00af00\">0</span> │ conv2d_2[<span style=\"color: #00af00; text-decoration-color: #00af00\">0</span>][<span style=\"color: #00af00; text-decoration-color: #00af00\">0</span>]    │\n",
       "│ (<span style=\"color: #0087ff; text-decoration-color: #0087ff\">MaxPooling2D</span>)      │                   │            │                   │\n",
       "├─────────────────────┼───────────────────┼────────────┼───────────────────┤\n",
       "│ max_pooling2d_6     │ (<span style=\"color: #00d7ff; text-decoration-color: #00d7ff\">None</span>, <span style=\"color: #00af00; text-decoration-color: #00af00\">14</span>, <span style=\"color: #00af00; text-decoration-color: #00af00\">20</span>,    │          <span style=\"color: #00af00; text-decoration-color: #00af00\">0</span> │ conv2d_6[<span style=\"color: #00af00; text-decoration-color: #00af00\">0</span>][<span style=\"color: #00af00; text-decoration-color: #00af00\">0</span>]    │\n",
       "│ (<span style=\"color: #0087ff; text-decoration-color: #0087ff\">MaxPooling2D</span>)      │ <span style=\"color: #00af00; text-decoration-color: #00af00\">64</span>)               │            │                   │\n",
       "├─────────────────────┼───────────────────┼────────────┼───────────────────┤\n",
       "│ dropout_2 (<span style=\"color: #0087ff; text-decoration-color: #0087ff\">Dropout</span>) │ (<span style=\"color: #00d7ff; text-decoration-color: #00d7ff\">None</span>, <span style=\"color: #00af00; text-decoration-color: #00af00\">6</span>, <span style=\"color: #00af00; text-decoration-color: #00af00\">20</span>, <span style=\"color: #00af00; text-decoration-color: #00af00\">64</span>) │          <span style=\"color: #00af00; text-decoration-color: #00af00\">0</span> │ max_pooling2d_2[<span style=\"color: #00af00; text-decoration-color: #00af00\">…</span> │\n",
       "├─────────────────────┼───────────────────┼────────────┼───────────────────┤\n",
       "│ dropout_6 (<span style=\"color: #0087ff; text-decoration-color: #0087ff\">Dropout</span>) │ (<span style=\"color: #00d7ff; text-decoration-color: #00d7ff\">None</span>, <span style=\"color: #00af00; text-decoration-color: #00af00\">14</span>, <span style=\"color: #00af00; text-decoration-color: #00af00\">20</span>,    │          <span style=\"color: #00af00; text-decoration-color: #00af00\">0</span> │ max_pooling2d_6[<span style=\"color: #00af00; text-decoration-color: #00af00\">…</span> │\n",
       "│                     │ <span style=\"color: #00af00; text-decoration-color: #00af00\">64</span>)               │            │                   │\n",
       "├─────────────────────┼───────────────────┼────────────┼───────────────────┤\n",
       "│ conv2d_3 (<span style=\"color: #0087ff; text-decoration-color: #0087ff\">Conv2D</span>)   │ (<span style=\"color: #00d7ff; text-decoration-color: #00d7ff\">None</span>, <span style=\"color: #00af00; text-decoration-color: #00af00\">4</span>, <span style=\"color: #00af00; text-decoration-color: #00af00\">18</span>,     │     <span style=\"color: #00af00; text-decoration-color: #00af00\">73,856</span> │ dropout_2[<span style=\"color: #00af00; text-decoration-color: #00af00\">0</span>][<span style=\"color: #00af00; text-decoration-color: #00af00\">0</span>]   │\n",
       "│                     │ <span style=\"color: #00af00; text-decoration-color: #00af00\">128</span>)              │            │                   │\n",
       "├─────────────────────┼───────────────────┼────────────┼───────────────────┤\n",
       "│ conv2d_7 (<span style=\"color: #0087ff; text-decoration-color: #0087ff\">Conv2D</span>)   │ (<span style=\"color: #00d7ff; text-decoration-color: #00d7ff\">None</span>, <span style=\"color: #00af00; text-decoration-color: #00af00\">12</span>, <span style=\"color: #00af00; text-decoration-color: #00af00\">18</span>,    │     <span style=\"color: #00af00; text-decoration-color: #00af00\">73,856</span> │ dropout_6[<span style=\"color: #00af00; text-decoration-color: #00af00\">0</span>][<span style=\"color: #00af00; text-decoration-color: #00af00\">0</span>]   │\n",
       "│                     │ <span style=\"color: #00af00; text-decoration-color: #00af00\">128</span>)              │            │                   │\n",
       "├─────────────────────┼───────────────────┼────────────┼───────────────────┤\n",
       "│ max_pooling2d_3     │ (<span style=\"color: #00d7ff; text-decoration-color: #00d7ff\">None</span>, <span style=\"color: #00af00; text-decoration-color: #00af00\">2</span>, <span style=\"color: #00af00; text-decoration-color: #00af00\">9</span>, <span style=\"color: #00af00; text-decoration-color: #00af00\">128</span>) │          <span style=\"color: #00af00; text-decoration-color: #00af00\">0</span> │ conv2d_3[<span style=\"color: #00af00; text-decoration-color: #00af00\">0</span>][<span style=\"color: #00af00; text-decoration-color: #00af00\">0</span>]    │\n",
       "│ (<span style=\"color: #0087ff; text-decoration-color: #0087ff\">MaxPooling2D</span>)      │                   │            │                   │\n",
       "├─────────────────────┼───────────────────┼────────────┼───────────────────┤\n",
       "│ max_pooling2d_7     │ (<span style=\"color: #00d7ff; text-decoration-color: #00d7ff\">None</span>, <span style=\"color: #00af00; text-decoration-color: #00af00\">6</span>, <span style=\"color: #00af00; text-decoration-color: #00af00\">9</span>, <span style=\"color: #00af00; text-decoration-color: #00af00\">128</span>) │          <span style=\"color: #00af00; text-decoration-color: #00af00\">0</span> │ conv2d_7[<span style=\"color: #00af00; text-decoration-color: #00af00\">0</span>][<span style=\"color: #00af00; text-decoration-color: #00af00\">0</span>]    │\n",
       "│ (<span style=\"color: #0087ff; text-decoration-color: #0087ff\">MaxPooling2D</span>)      │                   │            │                   │\n",
       "├─────────────────────┼───────────────────┼────────────┼───────────────────┤\n",
       "│ dropout_3 (<span style=\"color: #0087ff; text-decoration-color: #0087ff\">Dropout</span>) │ (<span style=\"color: #00d7ff; text-decoration-color: #00d7ff\">None</span>, <span style=\"color: #00af00; text-decoration-color: #00af00\">2</span>, <span style=\"color: #00af00; text-decoration-color: #00af00\">9</span>, <span style=\"color: #00af00; text-decoration-color: #00af00\">128</span>) │          <span style=\"color: #00af00; text-decoration-color: #00af00\">0</span> │ max_pooling2d_3[<span style=\"color: #00af00; text-decoration-color: #00af00\">…</span> │\n",
       "├─────────────────────┼───────────────────┼────────────┼───────────────────┤\n",
       "│ dropout_7 (<span style=\"color: #0087ff; text-decoration-color: #0087ff\">Dropout</span>) │ (<span style=\"color: #00d7ff; text-decoration-color: #00d7ff\">None</span>, <span style=\"color: #00af00; text-decoration-color: #00af00\">6</span>, <span style=\"color: #00af00; text-decoration-color: #00af00\">9</span>, <span style=\"color: #00af00; text-decoration-color: #00af00\">128</span>) │          <span style=\"color: #00af00; text-decoration-color: #00af00\">0</span> │ max_pooling2d_7[<span style=\"color: #00af00; text-decoration-color: #00af00\">…</span> │\n",
       "├─────────────────────┼───────────────────┼────────────┼───────────────────┤\n",
       "│ global_average_poo… │ (<span style=\"color: #00d7ff; text-decoration-color: #00d7ff\">None</span>, <span style=\"color: #00af00; text-decoration-color: #00af00\">128</span>)       │          <span style=\"color: #00af00; text-decoration-color: #00af00\">0</span> │ dropout_3[<span style=\"color: #00af00; text-decoration-color: #00af00\">0</span>][<span style=\"color: #00af00; text-decoration-color: #00af00\">0</span>]   │\n",
       "│ (<span style=\"color: #0087ff; text-decoration-color: #0087ff\">GlobalAveragePool…</span> │                   │            │                   │\n",
       "├─────────────────────┼───────────────────┼────────────┼───────────────────┤\n",
       "│ global_average_poo… │ (<span style=\"color: #00d7ff; text-decoration-color: #00d7ff\">None</span>, <span style=\"color: #00af00; text-decoration-color: #00af00\">128</span>)       │          <span style=\"color: #00af00; text-decoration-color: #00af00\">0</span> │ dropout_7[<span style=\"color: #00af00; text-decoration-color: #00af00\">0</span>][<span style=\"color: #00af00; text-decoration-color: #00af00\">0</span>]   │\n",
       "│ (<span style=\"color: #0087ff; text-decoration-color: #0087ff\">GlobalAveragePool…</span> │                   │            │                   │\n",
       "├─────────────────────┼───────────────────┼────────────┼───────────────────┤\n",
       "│ concatenate         │ (<span style=\"color: #00d7ff; text-decoration-color: #00d7ff\">None</span>, <span style=\"color: #00af00; text-decoration-color: #00af00\">256</span>)       │          <span style=\"color: #00af00; text-decoration-color: #00af00\">0</span> │ global_average_p… │\n",
       "│ (<span style=\"color: #0087ff; text-decoration-color: #0087ff\">Concatenate</span>)       │                   │            │ global_average_p… │\n",
       "├─────────────────────┼───────────────────┼────────────┼───────────────────┤\n",
       "│ dense (<span style=\"color: #0087ff; text-decoration-color: #0087ff\">Dense</span>)       │ (<span style=\"color: #00d7ff; text-decoration-color: #00d7ff\">None</span>, <span style=\"color: #00af00; text-decoration-color: #00af00\">128</span>)       │     <span style=\"color: #00af00; text-decoration-color: #00af00\">32,896</span> │ concatenate[<span style=\"color: #00af00; text-decoration-color: #00af00\">0</span>][<span style=\"color: #00af00; text-decoration-color: #00af00\">0</span>] │\n",
       "├─────────────────────┼───────────────────┼────────────┼───────────────────┤\n",
       "│ gunshot_output      │ (<span style=\"color: #00d7ff; text-decoration-color: #00d7ff\">None</span>, <span style=\"color: #00af00; text-decoration-color: #00af00\">3</span>)         │        <span style=\"color: #00af00; text-decoration-color: #00af00\">387</span> │ dense[<span style=\"color: #00af00; text-decoration-color: #00af00\">0</span>][<span style=\"color: #00af00; text-decoration-color: #00af00\">0</span>]       │\n",
       "│ (<span style=\"color: #0087ff; text-decoration-color: #0087ff\">Dense</span>)             │                   │            │                   │\n",
       "├─────────────────────┼───────────────────┼────────────┼───────────────────┤\n",
       "│ direction_output    │ (<span style=\"color: #00d7ff; text-decoration-color: #00d7ff\">None</span>, <span style=\"color: #00af00; text-decoration-color: #00af00\">6</span>)         │        <span style=\"color: #00af00; text-decoration-color: #00af00\">774</span> │ dense[<span style=\"color: #00af00; text-decoration-color: #00af00\">0</span>][<span style=\"color: #00af00; text-decoration-color: #00af00\">0</span>]       │\n",
       "│ (<span style=\"color: #0087ff; text-decoration-color: #0087ff\">Dense</span>)             │                   │            │                   │\n",
       "├─────────────────────┼───────────────────┼────────────┼───────────────────┤\n",
       "│ distance_output     │ (<span style=\"color: #00d7ff; text-decoration-color: #00d7ff\">None</span>, <span style=\"color: #00af00; text-decoration-color: #00af00\">7</span>)         │        <span style=\"color: #00af00; text-decoration-color: #00af00\">903</span> │ dense[<span style=\"color: #00af00; text-decoration-color: #00af00\">0</span>][<span style=\"color: #00af00; text-decoration-color: #00af00\">0</span>]       │\n",
       "│ (<span style=\"color: #0087ff; text-decoration-color: #0087ff\">Dense</span>)             │                   │            │                   │\n",
       "└─────────────────────┴───────────────────┴────────────┴───────────────────┘\n",
       "</pre>\n"
      ],
      "text/plain": [
       "┏━━━━━━━━━━━━━━━━━━━━━┳━━━━━━━━━━━━━━━━━━━┳━━━━━━━━━━━━┳━━━━━━━━━━━━━━━━━━━┓\n",
       "┃\u001b[1m \u001b[0m\u001b[1mLayer (type)       \u001b[0m\u001b[1m \u001b[0m┃\u001b[1m \u001b[0m\u001b[1mOutput Shape     \u001b[0m\u001b[1m \u001b[0m┃\u001b[1m \u001b[0m\u001b[1m   Param #\u001b[0m\u001b[1m \u001b[0m┃\u001b[1m \u001b[0m\u001b[1mConnected to     \u001b[0m\u001b[1m \u001b[0m┃\n",
       "┡━━━━━━━━━━━━━━━━━━━━━╇━━━━━━━━━━━━━━━━━━━╇━━━━━━━━━━━━╇━━━━━━━━━━━━━━━━━━━┩\n",
       "│ mfcc_input          │ (\u001b[38;5;45mNone\u001b[0m, \u001b[38;5;34m40\u001b[0m, \u001b[38;5;34m174\u001b[0m,   │          \u001b[38;5;34m0\u001b[0m │ -                 │\n",
       "│ (\u001b[38;5;33mInputLayer\u001b[0m)        │ \u001b[38;5;34m1\u001b[0m)                │            │                   │\n",
       "├─────────────────────┼───────────────────┼────────────┼───────────────────┤\n",
       "│ melspec_input       │ (\u001b[38;5;45mNone\u001b[0m, \u001b[38;5;34m128\u001b[0m, \u001b[38;5;34m174\u001b[0m,  │          \u001b[38;5;34m0\u001b[0m │ -                 │\n",
       "│ (\u001b[38;5;33mInputLayer\u001b[0m)        │ \u001b[38;5;34m1\u001b[0m)                │            │                   │\n",
       "├─────────────────────┼───────────────────┼────────────┼───────────────────┤\n",
       "│ conv2d (\u001b[38;5;33mConv2D\u001b[0m)     │ (\u001b[38;5;45mNone\u001b[0m, \u001b[38;5;34m38\u001b[0m, \u001b[38;5;34m172\u001b[0m,   │        \u001b[38;5;34m160\u001b[0m │ mfcc_input[\u001b[38;5;34m0\u001b[0m][\u001b[38;5;34m0\u001b[0m]  │\n",
       "│                     │ \u001b[38;5;34m16\u001b[0m)               │            │                   │\n",
       "├─────────────────────┼───────────────────┼────────────┼───────────────────┤\n",
       "│ conv2d_4 (\u001b[38;5;33mConv2D\u001b[0m)   │ (\u001b[38;5;45mNone\u001b[0m, \u001b[38;5;34m126\u001b[0m, \u001b[38;5;34m172\u001b[0m,  │        \u001b[38;5;34m160\u001b[0m │ melspec_input[\u001b[38;5;34m0\u001b[0m]… │\n",
       "│                     │ \u001b[38;5;34m16\u001b[0m)               │            │                   │\n",
       "├─────────────────────┼───────────────────┼────────────┼───────────────────┤\n",
       "│ max_pooling2d       │ (\u001b[38;5;45mNone\u001b[0m, \u001b[38;5;34m19\u001b[0m, \u001b[38;5;34m86\u001b[0m,    │          \u001b[38;5;34m0\u001b[0m │ conv2d[\u001b[38;5;34m0\u001b[0m][\u001b[38;5;34m0\u001b[0m]      │\n",
       "│ (\u001b[38;5;33mMaxPooling2D\u001b[0m)      │ \u001b[38;5;34m16\u001b[0m)               │            │                   │\n",
       "├─────────────────────┼───────────────────┼────────────┼───────────────────┤\n",
       "│ max_pooling2d_4     │ (\u001b[38;5;45mNone\u001b[0m, \u001b[38;5;34m63\u001b[0m, \u001b[38;5;34m86\u001b[0m,    │          \u001b[38;5;34m0\u001b[0m │ conv2d_4[\u001b[38;5;34m0\u001b[0m][\u001b[38;5;34m0\u001b[0m]    │\n",
       "│ (\u001b[38;5;33mMaxPooling2D\u001b[0m)      │ \u001b[38;5;34m16\u001b[0m)               │            │                   │\n",
       "├─────────────────────┼───────────────────┼────────────┼───────────────────┤\n",
       "│ dropout (\u001b[38;5;33mDropout\u001b[0m)   │ (\u001b[38;5;45mNone\u001b[0m, \u001b[38;5;34m19\u001b[0m, \u001b[38;5;34m86\u001b[0m,    │          \u001b[38;5;34m0\u001b[0m │ max_pooling2d[\u001b[38;5;34m0\u001b[0m]… │\n",
       "│                     │ \u001b[38;5;34m16\u001b[0m)               │            │                   │\n",
       "├─────────────────────┼───────────────────┼────────────┼───────────────────┤\n",
       "│ dropout_4 (\u001b[38;5;33mDropout\u001b[0m) │ (\u001b[38;5;45mNone\u001b[0m, \u001b[38;5;34m63\u001b[0m, \u001b[38;5;34m86\u001b[0m,    │          \u001b[38;5;34m0\u001b[0m │ max_pooling2d_4[\u001b[38;5;34m…\u001b[0m │\n",
       "│                     │ \u001b[38;5;34m16\u001b[0m)               │            │                   │\n",
       "├─────────────────────┼───────────────────┼────────────┼───────────────────┤\n",
       "│ conv2d_1 (\u001b[38;5;33mConv2D\u001b[0m)   │ (\u001b[38;5;45mNone\u001b[0m, \u001b[38;5;34m17\u001b[0m, \u001b[38;5;34m84\u001b[0m,    │      \u001b[38;5;34m4,640\u001b[0m │ dropout[\u001b[38;5;34m0\u001b[0m][\u001b[38;5;34m0\u001b[0m]     │\n",
       "│                     │ \u001b[38;5;34m32\u001b[0m)               │            │                   │\n",
       "├─────────────────────┼───────────────────┼────────────┼───────────────────┤\n",
       "│ conv2d_5 (\u001b[38;5;33mConv2D\u001b[0m)   │ (\u001b[38;5;45mNone\u001b[0m, \u001b[38;5;34m61\u001b[0m, \u001b[38;5;34m84\u001b[0m,    │      \u001b[38;5;34m4,640\u001b[0m │ dropout_4[\u001b[38;5;34m0\u001b[0m][\u001b[38;5;34m0\u001b[0m]   │\n",
       "│                     │ \u001b[38;5;34m32\u001b[0m)               │            │                   │\n",
       "├─────────────────────┼───────────────────┼────────────┼───────────────────┤\n",
       "│ max_pooling2d_1     │ (\u001b[38;5;45mNone\u001b[0m, \u001b[38;5;34m8\u001b[0m, \u001b[38;5;34m42\u001b[0m, \u001b[38;5;34m32\u001b[0m) │          \u001b[38;5;34m0\u001b[0m │ conv2d_1[\u001b[38;5;34m0\u001b[0m][\u001b[38;5;34m0\u001b[0m]    │\n",
       "│ (\u001b[38;5;33mMaxPooling2D\u001b[0m)      │                   │            │                   │\n",
       "├─────────────────────┼───────────────────┼────────────┼───────────────────┤\n",
       "│ max_pooling2d_5     │ (\u001b[38;5;45mNone\u001b[0m, \u001b[38;5;34m30\u001b[0m, \u001b[38;5;34m42\u001b[0m,    │          \u001b[38;5;34m0\u001b[0m │ conv2d_5[\u001b[38;5;34m0\u001b[0m][\u001b[38;5;34m0\u001b[0m]    │\n",
       "│ (\u001b[38;5;33mMaxPooling2D\u001b[0m)      │ \u001b[38;5;34m32\u001b[0m)               │            │                   │\n",
       "├─────────────────────┼───────────────────┼────────────┼───────────────────┤\n",
       "│ dropout_1 (\u001b[38;5;33mDropout\u001b[0m) │ (\u001b[38;5;45mNone\u001b[0m, \u001b[38;5;34m8\u001b[0m, \u001b[38;5;34m42\u001b[0m, \u001b[38;5;34m32\u001b[0m) │          \u001b[38;5;34m0\u001b[0m │ max_pooling2d_1[\u001b[38;5;34m…\u001b[0m │\n",
       "├─────────────────────┼───────────────────┼────────────┼───────────────────┤\n",
       "│ dropout_5 (\u001b[38;5;33mDropout\u001b[0m) │ (\u001b[38;5;45mNone\u001b[0m, \u001b[38;5;34m30\u001b[0m, \u001b[38;5;34m42\u001b[0m,    │          \u001b[38;5;34m0\u001b[0m │ max_pooling2d_5[\u001b[38;5;34m…\u001b[0m │\n",
       "│                     │ \u001b[38;5;34m32\u001b[0m)               │            │                   │\n",
       "├─────────────────────┼───────────────────┼────────────┼───────────────────┤\n",
       "│ conv2d_2 (\u001b[38;5;33mConv2D\u001b[0m)   │ (\u001b[38;5;45mNone\u001b[0m, \u001b[38;5;34m6\u001b[0m, \u001b[38;5;34m40\u001b[0m, \u001b[38;5;34m64\u001b[0m) │     \u001b[38;5;34m18,496\u001b[0m │ dropout_1[\u001b[38;5;34m0\u001b[0m][\u001b[38;5;34m0\u001b[0m]   │\n",
       "├─────────────────────┼───────────────────┼────────────┼───────────────────┤\n",
       "│ conv2d_6 (\u001b[38;5;33mConv2D\u001b[0m)   │ (\u001b[38;5;45mNone\u001b[0m, \u001b[38;5;34m28\u001b[0m, \u001b[38;5;34m40\u001b[0m,    │     \u001b[38;5;34m18,496\u001b[0m │ dropout_5[\u001b[38;5;34m0\u001b[0m][\u001b[38;5;34m0\u001b[0m]   │\n",
       "│                     │ \u001b[38;5;34m64\u001b[0m)               │            │                   │\n",
       "├─────────────────────┼───────────────────┼────────────┼───────────────────┤\n",
       "│ max_pooling2d_2     │ (\u001b[38;5;45mNone\u001b[0m, \u001b[38;5;34m6\u001b[0m, \u001b[38;5;34m20\u001b[0m, \u001b[38;5;34m64\u001b[0m) │          \u001b[38;5;34m0\u001b[0m │ conv2d_2[\u001b[38;5;34m0\u001b[0m][\u001b[38;5;34m0\u001b[0m]    │\n",
       "│ (\u001b[38;5;33mMaxPooling2D\u001b[0m)      │                   │            │                   │\n",
       "├─────────────────────┼───────────────────┼────────────┼───────────────────┤\n",
       "│ max_pooling2d_6     │ (\u001b[38;5;45mNone\u001b[0m, \u001b[38;5;34m14\u001b[0m, \u001b[38;5;34m20\u001b[0m,    │          \u001b[38;5;34m0\u001b[0m │ conv2d_6[\u001b[38;5;34m0\u001b[0m][\u001b[38;5;34m0\u001b[0m]    │\n",
       "│ (\u001b[38;5;33mMaxPooling2D\u001b[0m)      │ \u001b[38;5;34m64\u001b[0m)               │            │                   │\n",
       "├─────────────────────┼───────────────────┼────────────┼───────────────────┤\n",
       "│ dropout_2 (\u001b[38;5;33mDropout\u001b[0m) │ (\u001b[38;5;45mNone\u001b[0m, \u001b[38;5;34m6\u001b[0m, \u001b[38;5;34m20\u001b[0m, \u001b[38;5;34m64\u001b[0m) │          \u001b[38;5;34m0\u001b[0m │ max_pooling2d_2[\u001b[38;5;34m…\u001b[0m │\n",
       "├─────────────────────┼───────────────────┼────────────┼───────────────────┤\n",
       "│ dropout_6 (\u001b[38;5;33mDropout\u001b[0m) │ (\u001b[38;5;45mNone\u001b[0m, \u001b[38;5;34m14\u001b[0m, \u001b[38;5;34m20\u001b[0m,    │          \u001b[38;5;34m0\u001b[0m │ max_pooling2d_6[\u001b[38;5;34m…\u001b[0m │\n",
       "│                     │ \u001b[38;5;34m64\u001b[0m)               │            │                   │\n",
       "├─────────────────────┼───────────────────┼────────────┼───────────────────┤\n",
       "│ conv2d_3 (\u001b[38;5;33mConv2D\u001b[0m)   │ (\u001b[38;5;45mNone\u001b[0m, \u001b[38;5;34m4\u001b[0m, \u001b[38;5;34m18\u001b[0m,     │     \u001b[38;5;34m73,856\u001b[0m │ dropout_2[\u001b[38;5;34m0\u001b[0m][\u001b[38;5;34m0\u001b[0m]   │\n",
       "│                     │ \u001b[38;5;34m128\u001b[0m)              │            │                   │\n",
       "├─────────────────────┼───────────────────┼────────────┼───────────────────┤\n",
       "│ conv2d_7 (\u001b[38;5;33mConv2D\u001b[0m)   │ (\u001b[38;5;45mNone\u001b[0m, \u001b[38;5;34m12\u001b[0m, \u001b[38;5;34m18\u001b[0m,    │     \u001b[38;5;34m73,856\u001b[0m │ dropout_6[\u001b[38;5;34m0\u001b[0m][\u001b[38;5;34m0\u001b[0m]   │\n",
       "│                     │ \u001b[38;5;34m128\u001b[0m)              │            │                   │\n",
       "├─────────────────────┼───────────────────┼────────────┼───────────────────┤\n",
       "│ max_pooling2d_3     │ (\u001b[38;5;45mNone\u001b[0m, \u001b[38;5;34m2\u001b[0m, \u001b[38;5;34m9\u001b[0m, \u001b[38;5;34m128\u001b[0m) │          \u001b[38;5;34m0\u001b[0m │ conv2d_3[\u001b[38;5;34m0\u001b[0m][\u001b[38;5;34m0\u001b[0m]    │\n",
       "│ (\u001b[38;5;33mMaxPooling2D\u001b[0m)      │                   │            │                   │\n",
       "├─────────────────────┼───────────────────┼────────────┼───────────────────┤\n",
       "│ max_pooling2d_7     │ (\u001b[38;5;45mNone\u001b[0m, \u001b[38;5;34m6\u001b[0m, \u001b[38;5;34m9\u001b[0m, \u001b[38;5;34m128\u001b[0m) │          \u001b[38;5;34m0\u001b[0m │ conv2d_7[\u001b[38;5;34m0\u001b[0m][\u001b[38;5;34m0\u001b[0m]    │\n",
       "│ (\u001b[38;5;33mMaxPooling2D\u001b[0m)      │                   │            │                   │\n",
       "├─────────────────────┼───────────────────┼────────────┼───────────────────┤\n",
       "│ dropout_3 (\u001b[38;5;33mDropout\u001b[0m) │ (\u001b[38;5;45mNone\u001b[0m, \u001b[38;5;34m2\u001b[0m, \u001b[38;5;34m9\u001b[0m, \u001b[38;5;34m128\u001b[0m) │          \u001b[38;5;34m0\u001b[0m │ max_pooling2d_3[\u001b[38;5;34m…\u001b[0m │\n",
       "├─────────────────────┼───────────────────┼────────────┼───────────────────┤\n",
       "│ dropout_7 (\u001b[38;5;33mDropout\u001b[0m) │ (\u001b[38;5;45mNone\u001b[0m, \u001b[38;5;34m6\u001b[0m, \u001b[38;5;34m9\u001b[0m, \u001b[38;5;34m128\u001b[0m) │          \u001b[38;5;34m0\u001b[0m │ max_pooling2d_7[\u001b[38;5;34m…\u001b[0m │\n",
       "├─────────────────────┼───────────────────┼────────────┼───────────────────┤\n",
       "│ global_average_poo… │ (\u001b[38;5;45mNone\u001b[0m, \u001b[38;5;34m128\u001b[0m)       │          \u001b[38;5;34m0\u001b[0m │ dropout_3[\u001b[38;5;34m0\u001b[0m][\u001b[38;5;34m0\u001b[0m]   │\n",
       "│ (\u001b[38;5;33mGlobalAveragePool…\u001b[0m │                   │            │                   │\n",
       "├─────────────────────┼───────────────────┼────────────┼───────────────────┤\n",
       "│ global_average_poo… │ (\u001b[38;5;45mNone\u001b[0m, \u001b[38;5;34m128\u001b[0m)       │          \u001b[38;5;34m0\u001b[0m │ dropout_7[\u001b[38;5;34m0\u001b[0m][\u001b[38;5;34m0\u001b[0m]   │\n",
       "│ (\u001b[38;5;33mGlobalAveragePool…\u001b[0m │                   │            │                   │\n",
       "├─────────────────────┼───────────────────┼────────────┼───────────────────┤\n",
       "│ concatenate         │ (\u001b[38;5;45mNone\u001b[0m, \u001b[38;5;34m256\u001b[0m)       │          \u001b[38;5;34m0\u001b[0m │ global_average_p… │\n",
       "│ (\u001b[38;5;33mConcatenate\u001b[0m)       │                   │            │ global_average_p… │\n",
       "├─────────────────────┼───────────────────┼────────────┼───────────────────┤\n",
       "│ dense (\u001b[38;5;33mDense\u001b[0m)       │ (\u001b[38;5;45mNone\u001b[0m, \u001b[38;5;34m128\u001b[0m)       │     \u001b[38;5;34m32,896\u001b[0m │ concatenate[\u001b[38;5;34m0\u001b[0m][\u001b[38;5;34m0\u001b[0m] │\n",
       "├─────────────────────┼───────────────────┼────────────┼───────────────────┤\n",
       "│ gunshot_output      │ (\u001b[38;5;45mNone\u001b[0m, \u001b[38;5;34m3\u001b[0m)         │        \u001b[38;5;34m387\u001b[0m │ dense[\u001b[38;5;34m0\u001b[0m][\u001b[38;5;34m0\u001b[0m]       │\n",
       "│ (\u001b[38;5;33mDense\u001b[0m)             │                   │            │                   │\n",
       "├─────────────────────┼───────────────────┼────────────┼───────────────────┤\n",
       "│ direction_output    │ (\u001b[38;5;45mNone\u001b[0m, \u001b[38;5;34m6\u001b[0m)         │        \u001b[38;5;34m774\u001b[0m │ dense[\u001b[38;5;34m0\u001b[0m][\u001b[38;5;34m0\u001b[0m]       │\n",
       "│ (\u001b[38;5;33mDense\u001b[0m)             │                   │            │                   │\n",
       "├─────────────────────┼───────────────────┼────────────┼───────────────────┤\n",
       "│ distance_output     │ (\u001b[38;5;45mNone\u001b[0m, \u001b[38;5;34m7\u001b[0m)         │        \u001b[38;5;34m903\u001b[0m │ dense[\u001b[38;5;34m0\u001b[0m][\u001b[38;5;34m0\u001b[0m]       │\n",
       "│ (\u001b[38;5;33mDense\u001b[0m)             │                   │            │                   │\n",
       "└─────────────────────┴───────────────────┴────────────┴───────────────────┘\n"
      ]
     },
     "metadata": {},
     "output_type": "display_data"
    },
    {
     "data": {
      "text/html": [
       "<pre style=\"white-space:pre;overflow-x:auto;line-height:normal;font-family:Menlo,'DejaVu Sans Mono',consolas,'Courier New',monospace\"><span style=\"font-weight: bold\"> Total params: </span><span style=\"color: #00af00; text-decoration-color: #00af00\">229,264</span> (895.56 KB)\n",
       "</pre>\n"
      ],
      "text/plain": [
       "\u001b[1m Total params: \u001b[0m\u001b[38;5;34m229,264\u001b[0m (895.56 KB)\n"
      ]
     },
     "metadata": {},
     "output_type": "display_data"
    },
    {
     "data": {
      "text/html": [
       "<pre style=\"white-space:pre;overflow-x:auto;line-height:normal;font-family:Menlo,'DejaVu Sans Mono',consolas,'Courier New',monospace\"><span style=\"font-weight: bold\"> Trainable params: </span><span style=\"color: #00af00; text-decoration-color: #00af00\">229,264</span> (895.56 KB)\n",
       "</pre>\n"
      ],
      "text/plain": [
       "\u001b[1m Trainable params: \u001b[0m\u001b[38;5;34m229,264\u001b[0m (895.56 KB)\n"
      ]
     },
     "metadata": {},
     "output_type": "display_data"
    },
    {
     "data": {
      "text/html": [
       "<pre style=\"white-space:pre;overflow-x:auto;line-height:normal;font-family:Menlo,'DejaVu Sans Mono',consolas,'Courier New',monospace\"><span style=\"font-weight: bold\"> Non-trainable params: </span><span style=\"color: #00af00; text-decoration-color: #00af00\">0</span> (0.00 B)\n",
       "</pre>\n"
      ],
      "text/plain": [
       "\u001b[1m Non-trainable params: \u001b[0m\u001b[38;5;34m0\u001b[0m (0.00 B)\n"
      ]
     },
     "metadata": {},
     "output_type": "display_data"
    }
   ],
   "source": [
    "model.compile(optimizer='adam',\n",
    "              loss={\n",
    "                    'gunshot_output':'categorical_crossentropy',\n",
    "                    'direction_output':'categorical_crossentropy',\n",
    "                    'distance_output':'categorical_crossentropy'},\n",
    "                metrics={\n",
    "                    'gunshot_output': ['accuracy', 'Precision', 'Recall', AUC()],\n",
    "                    'distance_output': ['accuracy', 'Precision', 'Recall', AUC()],\n",
    "                    'direction_output': ['accuracy', 'Precision', 'Recall', AUC()]\n",
    "                    })\n",
    "model.summary()"
   ]
  },
  {
   "cell_type": "code",
   "execution_count": 22,
   "metadata": {},
   "outputs": [
    {
     "data": {
      "text/plain": [
       "(843, 6)"
      ]
     },
     "execution_count": 22,
     "metadata": {},
     "output_type": "execute_result"
    }
   ],
   "source": [
    "y_direction_test.shape"
   ]
  },
  {
   "cell_type": "code",
   "execution_count": 23,
   "metadata": {},
   "outputs": [
    {
     "name": "stdout",
     "output_type": "stream",
     "text": [
      "Epoch 1/150\n",
      "\u001b[1m43/43\u001b[0m \u001b[32m━━━━━━━━━━━━━━━━━━━━\u001b[0m\u001b[37m\u001b[0m \u001b[1m44s\u001b[0m 542ms/step - direction_output_Precision: 0.1837 - direction_output_Recall: 0.0230 - direction_output_accuracy: 0.1476 - direction_output_auc_2: 0.5207 - distance_output_Precision: 0.0842 - distance_output_Recall: 0.0044 - distance_output_accuracy: 0.1644 - distance_output_auc_1: 0.5313 - gunshot_output_Precision: 0.4724 - gunshot_output_Recall: 0.2966 - gunshot_output_accuracy: 0.4551 - gunshot_output_auc: 0.6285 - loss: 5.7440 - val_direction_output_Precision: 1.0000 - val_direction_output_Recall: 0.0085 - val_direction_output_accuracy: 0.2729 - val_direction_output_auc_2: 0.6809 - val_distance_output_Precision: 0.0000e+00 - val_distance_output_Recall: 0.0000e+00 - val_distance_output_accuracy: 0.2610 - val_distance_output_auc_1: 0.6956 - val_gunshot_output_Precision: 0.9127 - val_gunshot_output_Recall: 0.1949 - val_gunshot_output_accuracy: 0.6254 - val_gunshot_output_auc: 0.8140 - val_loss: 4.4197\n",
      "Epoch 2/150\n",
      "\u001b[1m43/43\u001b[0m \u001b[32m━━━━━━━━━━━━━━━━━━━━\u001b[0m\u001b[37m\u001b[0m \u001b[1m16s\u001b[0m 368ms/step - direction_output_Precision: 0.8178 - direction_output_Recall: 0.0680 - direction_output_accuracy: 0.3213 - direction_output_auc_2: 0.7242 - distance_output_Precision: 0.8456 - distance_output_Recall: 0.0424 - distance_output_accuracy: 0.2933 - distance_output_auc_1: 0.7080 - gunshot_output_Precision: 0.6606 - gunshot_output_Recall: 0.5134 - gunshot_output_accuracy: 0.6541 - gunshot_output_auc: 0.8060 - loss: 4.0920 - val_direction_output_Precision: 0.9205 - val_direction_output_Recall: 0.1373 - val_direction_output_accuracy: 0.3712 - val_direction_output_auc_2: 0.7595 - val_distance_output_Precision: 0.9571 - val_distance_output_Recall: 0.1136 - val_distance_output_accuracy: 0.3542 - val_distance_output_auc_1: 0.7848 - val_gunshot_output_Precision: 0.9170 - val_gunshot_output_Recall: 0.4492 - val_gunshot_output_accuracy: 0.7288 - val_gunshot_output_auc: 0.8893 - val_loss: 3.7722\n",
      "Epoch 3/150\n",
      "\u001b[1m43/43\u001b[0m \u001b[32m━━━━━━━━━━━━━━━━━━━━\u001b[0m\u001b[37m\u001b[0m \u001b[1m19s\u001b[0m 430ms/step - direction_output_Precision: 0.7947 - direction_output_Recall: 0.1872 - direction_output_accuracy: 0.4293 - direction_output_auc_2: 0.7949 - distance_output_Precision: 0.7883 - distance_output_Recall: 0.1643 - distance_output_accuracy: 0.4476 - distance_output_auc_1: 0.8062 - gunshot_output_Precision: 0.7861 - gunshot_output_Recall: 0.6660 - gunshot_output_accuracy: 0.7378 - gunshot_output_auc: 0.8933 - loss: 3.4272 - val_direction_output_Precision: 0.7612 - val_direction_output_Recall: 0.1729 - val_direction_output_accuracy: 0.4271 - val_direction_output_auc_2: 0.8126 - val_distance_output_Precision: 0.8421 - val_distance_output_Recall: 0.1627 - val_distance_output_accuracy: 0.4814 - val_distance_output_auc_1: 0.8532 - val_gunshot_output_Precision: 0.8830 - val_gunshot_output_Recall: 0.6525 - val_gunshot_output_accuracy: 0.8034 - val_gunshot_output_auc: 0.9248 - val_loss: 3.2331\n",
      "Epoch 4/150\n",
      "\u001b[1m43/43\u001b[0m \u001b[32m━━━━━━━━━━━━━━━━━━━━\u001b[0m\u001b[37m\u001b[0m \u001b[1m19s\u001b[0m 417ms/step - direction_output_Precision: 0.7519 - direction_output_Recall: 0.3116 - direction_output_accuracy: 0.4699 - direction_output_auc_2: 0.8459 - distance_output_Precision: 0.7736 - distance_output_Recall: 0.3294 - distance_output_accuracy: 0.4965 - distance_output_auc_1: 0.8638 - gunshot_output_Precision: 0.8265 - gunshot_output_Recall: 0.7453 - gunshot_output_accuracy: 0.8113 - gunshot_output_auc: 0.9357 - loss: 2.9046 - val_direction_output_Precision: 0.9638 - val_direction_output_Recall: 0.2254 - val_direction_output_accuracy: 0.4797 - val_direction_output_auc_2: 0.8581 - val_distance_output_Precision: 0.9417 - val_distance_output_Recall: 0.1644 - val_distance_output_accuracy: 0.5441 - val_distance_output_auc_1: 0.8810 - val_gunshot_output_Precision: 0.8562 - val_gunshot_output_Recall: 0.6966 - val_gunshot_output_accuracy: 0.8051 - val_gunshot_output_auc: 0.9370 - val_loss: 3.0267\n",
      "Epoch 5/150\n",
      "\u001b[1m43/43\u001b[0m \u001b[32m━━━━━━━━━━━━━━━━━━━━\u001b[0m\u001b[37m\u001b[0m \u001b[1m16s\u001b[0m 380ms/step - direction_output_Precision: 0.8489 - direction_output_Recall: 0.3161 - direction_output_accuracy: 0.4834 - direction_output_auc_2: 0.8595 - distance_output_Precision: 0.7986 - distance_output_Recall: 0.3707 - distance_output_accuracy: 0.5413 - distance_output_auc_1: 0.8910 - gunshot_output_Precision: 0.8285 - gunshot_output_Recall: 0.7599 - gunshot_output_accuracy: 0.8047 - gunshot_output_auc: 0.9408 - loss: 2.7010 - val_direction_output_Precision: 0.9643 - val_direction_output_Recall: 0.2288 - val_direction_output_accuracy: 0.4949 - val_direction_output_auc_2: 0.8589 - val_distance_output_Precision: 0.8986 - val_distance_output_Recall: 0.2254 - val_distance_output_accuracy: 0.5814 - val_distance_output_auc_1: 0.8908 - val_gunshot_output_Precision: 0.8859 - val_gunshot_output_Recall: 0.7373 - val_gunshot_output_accuracy: 0.8373 - val_gunshot_output_auc: 0.9448 - val_loss: 2.9289\n",
      "Epoch 6/150\n",
      "\u001b[1m43/43\u001b[0m \u001b[32m━━━━━━━━━━━━━━━━━━━━\u001b[0m\u001b[37m\u001b[0m \u001b[1m18s\u001b[0m 417ms/step - direction_output_Precision: 0.8592 - direction_output_Recall: 0.3219 - direction_output_accuracy: 0.5383 - direction_output_auc_2: 0.8697 - distance_output_Precision: 0.8325 - distance_output_Recall: 0.4047 - distance_output_accuracy: 0.5939 - distance_output_auc_1: 0.9075 - gunshot_output_Precision: 0.8728 - gunshot_output_Recall: 0.8187 - gunshot_output_accuracy: 0.8441 - gunshot_output_auc: 0.9596 - loss: 2.5145 - val_direction_output_Precision: 0.8864 - val_direction_output_Recall: 0.2644 - val_direction_output_accuracy: 0.5119 - val_direction_output_auc_2: 0.8793 - val_distance_output_Precision: 0.8798 - val_distance_output_Recall: 0.3102 - val_distance_output_accuracy: 0.6051 - val_distance_output_auc_1: 0.9047 - val_gunshot_output_Precision: 0.8917 - val_gunshot_output_Recall: 0.8237 - val_gunshot_output_accuracy: 0.8780 - val_gunshot_output_auc: 0.9627 - val_loss: 2.5803\n",
      "Epoch 7/150\n",
      "\u001b[1m43/43\u001b[0m \u001b[32m━━━━━━━━━━━━━━━━━━━━\u001b[0m\u001b[37m\u001b[0m \u001b[1m12s\u001b[0m 285ms/step - direction_output_Precision: 0.7858 - direction_output_Recall: 0.3578 - direction_output_accuracy: 0.5420 - direction_output_auc_2: 0.8828 - distance_output_Precision: 0.8033 - distance_output_Recall: 0.4740 - distance_output_accuracy: 0.6211 - distance_output_auc_1: 0.9234 - gunshot_output_Precision: 0.8715 - gunshot_output_Recall: 0.8440 - gunshot_output_accuracy: 0.8550 - gunshot_output_auc: 0.9711 - loss: 2.3102 - val_direction_output_Precision: 0.8230 - val_direction_output_Recall: 0.3153 - val_direction_output_accuracy: 0.5288 - val_direction_output_auc_2: 0.8879 - val_distance_output_Precision: 0.7940 - val_distance_output_Recall: 0.4051 - val_distance_output_accuracy: 0.6322 - val_distance_output_auc_1: 0.9154 - val_gunshot_output_Precision: 0.9034 - val_gunshot_output_Recall: 0.8559 - val_gunshot_output_accuracy: 0.8797 - val_gunshot_output_auc: 0.9739 - val_loss: 2.4096\n",
      "Epoch 8/150\n",
      "\u001b[1m43/43\u001b[0m \u001b[32m━━━━━━━━━━━━━━━━━━━━\u001b[0m\u001b[37m\u001b[0m \u001b[1m12s\u001b[0m 287ms/step - direction_output_Precision: 0.8284 - direction_output_Recall: 0.4026 - direction_output_accuracy: 0.5831 - direction_output_auc_2: 0.9012 - distance_output_Precision: 0.8208 - distance_output_Recall: 0.4862 - distance_output_accuracy: 0.6350 - distance_output_auc_1: 0.9312 - gunshot_output_Precision: 0.8877 - gunshot_output_Recall: 0.8653 - gunshot_output_accuracy: 0.8784 - gunshot_output_auc: 0.9731 - loss: 2.1610 - val_direction_output_Precision: 0.8419 - val_direction_output_Recall: 0.3610 - val_direction_output_accuracy: 0.5458 - val_direction_output_auc_2: 0.8928 - val_distance_output_Precision: 0.8970 - val_distance_output_Recall: 0.4576 - val_distance_output_accuracy: 0.6508 - val_distance_output_auc_1: 0.9245 - val_gunshot_output_Precision: 0.8394 - val_gunshot_output_Recall: 0.7797 - val_gunshot_output_accuracy: 0.8339 - val_gunshot_output_auc: 0.9565 - val_loss: 2.3810\n",
      "Epoch 9/150\n",
      "\u001b[1m43/43\u001b[0m \u001b[32m━━━━━━━━━━━━━━━━━━━━\u001b[0m\u001b[37m\u001b[0m \u001b[1m19s\u001b[0m 436ms/step - direction_output_Precision: 0.7953 - direction_output_Recall: 0.3893 - direction_output_accuracy: 0.5699 - direction_output_auc_2: 0.9024 - distance_output_Precision: 0.8440 - distance_output_Recall: 0.5337 - distance_output_accuracy: 0.6752 - distance_output_auc_1: 0.9412 - gunshot_output_Precision: 0.9084 - gunshot_output_Recall: 0.8876 - gunshot_output_accuracy: 0.9009 - gunshot_output_auc: 0.9777 - loss: 2.0606 - val_direction_output_Precision: 0.8167 - val_direction_output_Recall: 0.3475 - val_direction_output_accuracy: 0.5542 - val_direction_output_auc_2: 0.9068 - val_distance_output_Precision: 0.9024 - val_distance_output_Recall: 0.4542 - val_distance_output_accuracy: 0.6814 - val_distance_output_auc_1: 0.9425 - val_gunshot_output_Precision: 0.8602 - val_gunshot_output_Recall: 0.8237 - val_gunshot_output_accuracy: 0.8339 - val_gunshot_output_auc: 0.9641 - val_loss: 2.2213\n",
      "Epoch 10/150\n",
      "\u001b[1m43/43\u001b[0m \u001b[32m━━━━━━━━━━━━━━━━━━━━\u001b[0m\u001b[37m\u001b[0m \u001b[1m15s\u001b[0m 335ms/step - direction_output_Precision: 0.7823 - direction_output_Recall: 0.3966 - direction_output_accuracy: 0.5759 - direction_output_auc_2: 0.9073 - distance_output_Precision: 0.8513 - distance_output_Recall: 0.5252 - distance_output_accuracy: 0.6876 - distance_output_auc_1: 0.9404 - gunshot_output_Precision: 0.9124 - gunshot_output_Recall: 0.8892 - gunshot_output_accuracy: 0.9020 - gunshot_output_auc: 0.9788 - loss: 2.0330 - val_direction_output_Precision: 0.8513 - val_direction_output_Recall: 0.3881 - val_direction_output_accuracy: 0.5492 - val_direction_output_auc_2: 0.9061 - val_distance_output_Precision: 0.8906 - val_distance_output_Recall: 0.4831 - val_distance_output_accuracy: 0.6712 - val_distance_output_auc_1: 0.9494 - val_gunshot_output_Precision: 0.9197 - val_gunshot_output_Recall: 0.8932 - val_gunshot_output_accuracy: 0.9068 - val_gunshot_output_auc: 0.9857 - val_loss: 2.0019\n",
      "Epoch 11/150\n",
      "\u001b[1m43/43\u001b[0m \u001b[32m━━━━━━━━━━━━━━━━━━━━\u001b[0m\u001b[37m\u001b[0m \u001b[1m13s\u001b[0m 293ms/step - direction_output_Precision: 0.7813 - direction_output_Recall: 0.4320 - direction_output_accuracy: 0.5796 - direction_output_auc_2: 0.9109 - distance_output_Precision: 0.7783 - distance_output_Recall: 0.5421 - distance_output_accuracy: 0.6567 - distance_output_auc_1: 0.9381 - gunshot_output_Precision: 0.9063 - gunshot_output_Recall: 0.8962 - gunshot_output_accuracy: 0.9041 - gunshot_output_auc: 0.9836 - loss: 2.0035 - val_direction_output_Precision: 0.7747 - val_direction_output_Recall: 0.3847 - val_direction_output_accuracy: 0.5458 - val_direction_output_auc_2: 0.8921 - val_distance_output_Precision: 0.8320 - val_distance_output_Recall: 0.5119 - val_distance_output_accuracy: 0.6695 - val_distance_output_auc_1: 0.9356 - val_gunshot_output_Precision: 0.9104 - val_gunshot_output_Recall: 0.8441 - val_gunshot_output_accuracy: 0.8661 - val_gunshot_output_auc: 0.9773 - val_loss: 2.1908\n",
      "Epoch 12/150\n",
      "\u001b[1m43/43\u001b[0m \u001b[32m━━━━━━━━━━━━━━━━━━━━\u001b[0m\u001b[37m\u001b[0m \u001b[1m17s\u001b[0m 384ms/step - direction_output_Precision: 0.7829 - direction_output_Recall: 0.4687 - direction_output_accuracy: 0.5998 - direction_output_auc_2: 0.9160 - distance_output_Precision: 0.8458 - distance_output_Recall: 0.6000 - distance_output_accuracy: 0.7059 - distance_output_auc_1: 0.9544 - gunshot_output_Precision: 0.8972 - gunshot_output_Recall: 0.8857 - gunshot_output_accuracy: 0.8940 - gunshot_output_auc: 0.9795 - loss: 1.8706 - val_direction_output_Precision: 0.8614 - val_direction_output_Recall: 0.3898 - val_direction_output_accuracy: 0.5593 - val_direction_output_auc_2: 0.9152 - val_distance_output_Precision: 0.9211 - val_distance_output_Recall: 0.5339 - val_distance_output_accuracy: 0.7034 - val_distance_output_auc_1: 0.9580 - val_gunshot_output_Precision: 0.9459 - val_gunshot_output_Recall: 0.8593 - val_gunshot_output_accuracy: 0.8966 - val_gunshot_output_auc: 0.9841 - val_loss: 1.9531\n",
      "Epoch 13/150\n",
      "\u001b[1m43/43\u001b[0m \u001b[32m━━━━━━━━━━━━━━━━━━━━\u001b[0m\u001b[37m\u001b[0m \u001b[1m17s\u001b[0m 396ms/step - direction_output_Precision: 0.7893 - direction_output_Recall: 0.4545 - direction_output_accuracy: 0.6120 - direction_output_auc_2: 0.9228 - distance_output_Precision: 0.8674 - distance_output_Recall: 0.5867 - distance_output_accuracy: 0.7056 - distance_output_auc_1: 0.9568 - gunshot_output_Precision: 0.9178 - gunshot_output_Recall: 0.8985 - gunshot_output_accuracy: 0.9046 - gunshot_output_auc: 0.9849 - loss: 1.8032 - val_direction_output_Precision: 0.7826 - val_direction_output_Recall: 0.3966 - val_direction_output_accuracy: 0.5407 - val_direction_output_auc_2: 0.9034 - val_distance_output_Precision: 0.8613 - val_distance_output_Recall: 0.5576 - val_distance_output_accuracy: 0.7119 - val_distance_output_auc_1: 0.9520 - val_gunshot_output_Precision: 0.8824 - val_gunshot_output_Recall: 0.8390 - val_gunshot_output_accuracy: 0.8559 - val_gunshot_output_auc: 0.9761 - val_loss: 2.0000\n",
      "Epoch 14/150\n",
      "\u001b[1m43/43\u001b[0m \u001b[32m━━━━━━━━━━━━━━━━━━━━\u001b[0m\u001b[37m\u001b[0m \u001b[1m20s\u001b[0m 456ms/step - direction_output_Precision: 0.7736 - direction_output_Recall: 0.4711 - direction_output_accuracy: 0.6022 - direction_output_auc_2: 0.9227 - distance_output_Precision: 0.8668 - distance_output_Recall: 0.6263 - distance_output_accuracy: 0.7416 - distance_output_auc_1: 0.9607 - gunshot_output_Precision: 0.9194 - gunshot_output_Recall: 0.9105 - gunshot_output_accuracy: 0.9126 - gunshot_output_auc: 0.9867 - loss: 1.7360 - val_direction_output_Precision: 0.8082 - val_direction_output_Recall: 0.4356 - val_direction_output_accuracy: 0.5695 - val_direction_output_auc_2: 0.9183 - val_distance_output_Precision: 0.9321 - val_distance_output_Recall: 0.6051 - val_distance_output_accuracy: 0.7339 - val_distance_output_auc_1: 0.9622 - val_gunshot_output_Precision: 0.9475 - val_gunshot_output_Recall: 0.8864 - val_gunshot_output_accuracy: 0.9051 - val_gunshot_output_auc: 0.9883 - val_loss: 1.8259\n",
      "Epoch 15/150\n",
      "\u001b[1m43/43\u001b[0m \u001b[32m━━━━━━━━━━━━━━━━━━━━\u001b[0m\u001b[37m\u001b[0m \u001b[1m19s\u001b[0m 432ms/step - direction_output_Precision: 0.7786 - direction_output_Recall: 0.4677 - direction_output_accuracy: 0.6004 - direction_output_auc_2: 0.9222 - distance_output_Precision: 0.8462 - distance_output_Recall: 0.6236 - distance_output_accuracy: 0.7156 - distance_output_auc_1: 0.9564 - gunshot_output_Precision: 0.9328 - gunshot_output_Recall: 0.9215 - gunshot_output_accuracy: 0.9285 - gunshot_output_auc: 0.9882 - loss: 1.7597 - val_direction_output_Precision: 0.7761 - val_direction_output_Recall: 0.4407 - val_direction_output_accuracy: 0.5712 - val_direction_output_auc_2: 0.9193 - val_distance_output_Precision: 0.8617 - val_distance_output_Recall: 0.6441 - val_distance_output_accuracy: 0.7288 - val_distance_output_auc_1: 0.9610 - val_gunshot_output_Precision: 0.9246 - val_gunshot_output_Recall: 0.8729 - val_gunshot_output_accuracy: 0.8949 - val_gunshot_output_auc: 0.9862 - val_loss: 1.7858\n",
      "Epoch 16/150\n",
      "\u001b[1m43/43\u001b[0m \u001b[32m━━━━━━━━━━━━━━━━━━━━\u001b[0m\u001b[37m\u001b[0m \u001b[1m18s\u001b[0m 421ms/step - direction_output_Precision: 0.7645 - direction_output_Recall: 0.5026 - direction_output_accuracy: 0.6330 - direction_output_auc_2: 0.9314 - distance_output_Precision: 0.8556 - distance_output_Recall: 0.6882 - distance_output_accuracy: 0.7657 - distance_output_auc_1: 0.9687 - gunshot_output_Precision: 0.9390 - gunshot_output_Recall: 0.9334 - gunshot_output_accuracy: 0.9349 - gunshot_output_auc: 0.9921 - loss: 1.5602 - val_direction_output_Precision: 0.8302 - val_direction_output_Recall: 0.4559 - val_direction_output_accuracy: 0.5847 - val_direction_output_auc_2: 0.9331 - val_distance_output_Precision: 0.9229 - val_distance_output_Recall: 0.6492 - val_distance_output_accuracy: 0.7661 - val_distance_output_auc_1: 0.9717 - val_gunshot_output_Precision: 0.9700 - val_gunshot_output_Recall: 0.9322 - val_gunshot_output_accuracy: 0.9576 - val_gunshot_output_auc: 0.9948 - val_loss: 1.5742\n",
      "Epoch 17/150\n",
      "\u001b[1m43/43\u001b[0m \u001b[32m━━━━━━━━━━━━━━━━━━━━\u001b[0m\u001b[37m\u001b[0m \u001b[1m20s\u001b[0m 408ms/step - direction_output_Precision: 0.7672 - direction_output_Recall: 0.4997 - direction_output_accuracy: 0.6256 - direction_output_auc_2: 0.9305 - distance_output_Precision: 0.8676 - distance_output_Recall: 0.6859 - distance_output_accuracy: 0.7583 - distance_output_auc_1: 0.9677 - gunshot_output_Precision: 0.9519 - gunshot_output_Recall: 0.9381 - gunshot_output_accuracy: 0.9502 - gunshot_output_auc: 0.9919 - loss: 1.5574 - val_direction_output_Precision: 0.7840 - val_direction_output_Recall: 0.4305 - val_direction_output_accuracy: 0.5661 - val_direction_output_auc_2: 0.9143 - val_distance_output_Precision: 0.8528 - val_distance_output_Recall: 0.6186 - val_distance_output_accuracy: 0.7119 - val_distance_output_auc_1: 0.9583 - val_gunshot_output_Precision: 0.9180 - val_gunshot_output_Recall: 0.8915 - val_gunshot_output_accuracy: 0.9136 - val_gunshot_output_auc: 0.9847 - val_loss: 1.8247\n",
      "Epoch 18/150\n",
      "\u001b[1m43/43\u001b[0m \u001b[32m━━━━━━━━━━━━━━━━━━━━\u001b[0m\u001b[37m\u001b[0m \u001b[1m19s\u001b[0m 445ms/step - direction_output_Precision: 0.8021 - direction_output_Recall: 0.4783 - direction_output_accuracy: 0.6264 - direction_output_auc_2: 0.9268 - distance_output_Precision: 0.8493 - distance_output_Recall: 0.6260 - distance_output_accuracy: 0.7310 - distance_output_auc_1: 0.9632 - gunshot_output_Precision: 0.9510 - gunshot_output_Recall: 0.9455 - gunshot_output_accuracy: 0.9499 - gunshot_output_auc: 0.9944 - loss: 1.5947 - val_direction_output_Precision: 0.8155 - val_direction_output_Recall: 0.4644 - val_direction_output_accuracy: 0.6000 - val_direction_output_auc_2: 0.9274 - val_distance_output_Precision: 0.8934 - val_distance_output_Recall: 0.6678 - val_distance_output_accuracy: 0.7712 - val_distance_output_auc_1: 0.9697 - val_gunshot_output_Precision: 0.9565 - val_gunshot_output_Recall: 0.9322 - val_gunshot_output_accuracy: 0.9458 - val_gunshot_output_auc: 0.9928 - val_loss: 1.5935\n",
      "Epoch 19/150\n",
      "\u001b[1m43/43\u001b[0m \u001b[32m━━━━━━━━━━━━━━━━━━━━\u001b[0m\u001b[37m\u001b[0m \u001b[1m21s\u001b[0m 492ms/step - direction_output_Precision: 0.8287 - direction_output_Recall: 0.5312 - direction_output_accuracy: 0.6613 - direction_output_auc_2: 0.9383 - distance_output_Precision: 0.8512 - distance_output_Recall: 0.6737 - distance_output_accuracy: 0.7526 - distance_output_auc_1: 0.9703 - gunshot_output_Precision: 0.9510 - gunshot_output_Recall: 0.9399 - gunshot_output_accuracy: 0.9476 - gunshot_output_auc: 0.9940 - loss: 1.4729 - val_direction_output_Precision: 0.7942 - val_direction_output_Recall: 0.4644 - val_direction_output_accuracy: 0.6017 - val_direction_output_auc_2: 0.9243 - val_distance_output_Precision: 0.9319 - val_distance_output_Recall: 0.6492 - val_distance_output_accuracy: 0.7458 - val_distance_output_auc_1: 0.9689 - val_gunshot_output_Precision: 0.9162 - val_gunshot_output_Recall: 0.8712 - val_gunshot_output_accuracy: 0.8898 - val_gunshot_output_auc: 0.9805 - val_loss: 1.7527\n",
      "Epoch 20/150\n",
      "\u001b[1m43/43\u001b[0m \u001b[32m━━━━━━━━━━━━━━━━━━━━\u001b[0m\u001b[37m\u001b[0m \u001b[1m21s\u001b[0m 468ms/step - direction_output_Precision: 0.7851 - direction_output_Recall: 0.5186 - direction_output_accuracy: 0.6277 - direction_output_auc_2: 0.9357 - distance_output_Precision: 0.9010 - distance_output_Recall: 0.7027 - distance_output_accuracy: 0.7732 - distance_output_auc_1: 0.9738 - gunshot_output_Precision: 0.9571 - gunshot_output_Recall: 0.9500 - gunshot_output_accuracy: 0.9545 - gunshot_output_auc: 0.9950 - loss: 1.4367 - val_direction_output_Precision: 0.7640 - val_direction_output_Recall: 0.4610 - val_direction_output_accuracy: 0.5780 - val_direction_output_auc_2: 0.9238 - val_distance_output_Precision: 0.8699 - val_distance_output_Recall: 0.6458 - val_distance_output_accuracy: 0.7373 - val_distance_output_auc_1: 0.9684 - val_gunshot_output_Precision: 0.9142 - val_gunshot_output_Recall: 0.8847 - val_gunshot_output_accuracy: 0.8932 - val_gunshot_output_auc: 0.9844 - val_loss: 1.6875\n",
      "Epoch 21/150\n",
      "\u001b[1m43/43\u001b[0m \u001b[32m━━━━━━━━━━━━━━━━━━━━\u001b[0m\u001b[37m\u001b[0m \u001b[1m15s\u001b[0m 355ms/step - direction_output_Precision: 0.8194 - direction_output_Recall: 0.5260 - direction_output_accuracy: 0.6557 - direction_output_auc_2: 0.9379 - distance_output_Precision: 0.8730 - distance_output_Recall: 0.6880 - distance_output_accuracy: 0.7644 - distance_output_auc_1: 0.9709 - gunshot_output_Precision: 0.9425 - gunshot_output_Recall: 0.9370 - gunshot_output_accuracy: 0.9386 - gunshot_output_auc: 0.9940 - loss: 1.4748 - val_direction_output_Precision: 0.8328 - val_direction_output_Recall: 0.4814 - val_direction_output_accuracy: 0.6136 - val_direction_output_auc_2: 0.9328 - val_distance_output_Precision: 0.9470 - val_distance_output_Recall: 0.6661 - val_distance_output_accuracy: 0.7695 - val_distance_output_auc_1: 0.9751 - val_gunshot_output_Precision: 0.9513 - val_gunshot_output_Recall: 0.9271 - val_gunshot_output_accuracy: 0.9458 - val_gunshot_output_auc: 0.9935 - val_loss: 1.5243\n",
      "Epoch 22/150\n",
      "\u001b[1m43/43\u001b[0m \u001b[32m━━━━━━━━━━━━━━━━━━━━\u001b[0m\u001b[37m\u001b[0m \u001b[1m18s\u001b[0m 417ms/step - direction_output_Precision: 0.8055 - direction_output_Recall: 0.5339 - direction_output_accuracy: 0.6629 - direction_output_auc_2: 0.9429 - distance_output_Precision: 0.9017 - distance_output_Recall: 0.7018 - distance_output_accuracy: 0.8027 - distance_output_auc_1: 0.9758 - gunshot_output_Precision: 0.9673 - gunshot_output_Recall: 0.9666 - gunshot_output_accuracy: 0.9666 - gunshot_output_auc: 0.9970 - loss: 1.3496 - val_direction_output_Precision: 0.7787 - val_direction_output_Recall: 0.4949 - val_direction_output_accuracy: 0.5983 - val_direction_output_auc_2: 0.9295 - val_distance_output_Precision: 0.9093 - val_distance_output_Recall: 0.6797 - val_distance_output_accuracy: 0.7678 - val_distance_output_auc_1: 0.9740 - val_gunshot_output_Precision: 0.9455 - val_gunshot_output_Recall: 0.9119 - val_gunshot_output_accuracy: 0.9203 - val_gunshot_output_auc: 0.9907 - val_loss: 1.5611\n",
      "Epoch 23/150\n",
      "\u001b[1m43/43\u001b[0m \u001b[32m━━━━━━━━━━━━━━━━━━━━\u001b[0m\u001b[37m\u001b[0m \u001b[1m18s\u001b[0m 348ms/step - direction_output_Precision: 0.8424 - direction_output_Recall: 0.5639 - direction_output_accuracy: 0.6864 - direction_output_auc_2: 0.9476 - distance_output_Precision: 0.9050 - distance_output_Recall: 0.7327 - distance_output_accuracy: 0.8046 - distance_output_auc_1: 0.9778 - gunshot_output_Precision: 0.9633 - gunshot_output_Recall: 0.9584 - gunshot_output_accuracy: 0.9597 - gunshot_output_auc: 0.9967 - loss: 1.3078 - val_direction_output_Precision: 0.8273 - val_direction_output_Recall: 0.5034 - val_direction_output_accuracy: 0.6339 - val_direction_output_auc_2: 0.9363 - val_distance_output_Precision: 0.9163 - val_distance_output_Recall: 0.6864 - val_distance_output_accuracy: 0.7864 - val_distance_output_auc_1: 0.9781 - val_gunshot_output_Precision: 0.9532 - val_gunshot_output_Recall: 0.9322 - val_gunshot_output_accuracy: 0.9407 - val_gunshot_output_auc: 0.9928 - val_loss: 1.4644\n",
      "Epoch 24/150\n",
      "\u001b[1m43/43\u001b[0m \u001b[32m━━━━━━━━━━━━━━━━━━━━\u001b[0m\u001b[37m\u001b[0m \u001b[1m18s\u001b[0m 420ms/step - direction_output_Precision: 0.8366 - direction_output_Recall: 0.5494 - direction_output_accuracy: 0.6862 - direction_output_auc_2: 0.9458 - distance_output_Precision: 0.8884 - distance_output_Recall: 0.7056 - distance_output_accuracy: 0.7974 - distance_output_auc_1: 0.9780 - gunshot_output_Precision: 0.9590 - gunshot_output_Recall: 0.9435 - gunshot_output_accuracy: 0.9531 - gunshot_output_auc: 0.9949 - loss: 1.3495 - val_direction_output_Precision: 0.7935 - val_direction_output_Recall: 0.4559 - val_direction_output_accuracy: 0.6068 - val_direction_output_auc_2: 0.9289 - val_distance_output_Precision: 0.8940 - val_distance_output_Recall: 0.6576 - val_distance_output_accuracy: 0.7763 - val_distance_output_auc_1: 0.9731 - val_gunshot_output_Precision: 0.9376 - val_gunshot_output_Recall: 0.8915 - val_gunshot_output_accuracy: 0.9169 - val_gunshot_output_auc: 0.9883 - val_loss: 1.6062\n",
      "Epoch 25/150\n",
      "\u001b[1m43/43\u001b[0m \u001b[32m━━━━━━━━━━━━━━━━━━━━\u001b[0m\u001b[37m\u001b[0m \u001b[1m21s\u001b[0m 477ms/step - direction_output_Precision: 0.8405 - direction_output_Recall: 0.5597 - direction_output_accuracy: 0.6820 - direction_output_auc_2: 0.9487 - distance_output_Precision: 0.8752 - distance_output_Recall: 0.7167 - distance_output_accuracy: 0.7889 - distance_output_auc_1: 0.9756 - gunshot_output_Precision: 0.9541 - gunshot_output_Recall: 0.9521 - gunshot_output_accuracy: 0.9528 - gunshot_output_auc: 0.9952 - loss: 1.3591 - val_direction_output_Precision: 0.7995 - val_direction_output_Recall: 0.5136 - val_direction_output_accuracy: 0.6305 - val_direction_output_auc_2: 0.9352 - val_distance_output_Precision: 0.9222 - val_distance_output_Recall: 0.7034 - val_distance_output_accuracy: 0.8169 - val_distance_output_auc_1: 0.9805 - val_gunshot_output_Precision: 0.9640 - val_gunshot_output_Recall: 0.9525 - val_gunshot_output_accuracy: 0.9593 - val_gunshot_output_auc: 0.9946 - val_loss: 1.4112\n",
      "Epoch 26/150\n",
      "\u001b[1m43/43\u001b[0m \u001b[32m━━━━━━━━━━━━━━━━━━━━\u001b[0m\u001b[37m\u001b[0m \u001b[1m20s\u001b[0m 464ms/step - direction_output_Precision: 0.8129 - direction_output_Recall: 0.5754 - direction_output_accuracy: 0.6873 - direction_output_auc_2: 0.9497 - distance_output_Precision: 0.9083 - distance_output_Recall: 0.7628 - distance_output_accuracy: 0.8284 - distance_output_auc_1: 0.9829 - gunshot_output_Precision: 0.9751 - gunshot_output_Recall: 0.9717 - gunshot_output_accuracy: 0.9749 - gunshot_output_auc: 0.9973 - loss: 1.2069 - val_direction_output_Precision: 0.8225 - val_direction_output_Recall: 0.4949 - val_direction_output_accuracy: 0.6339 - val_direction_output_auc_2: 0.9383 - val_distance_output_Precision: 0.9203 - val_distance_output_Recall: 0.6847 - val_distance_output_accuracy: 0.8119 - val_distance_output_auc_1: 0.9801 - val_gunshot_output_Precision: 0.9545 - val_gunshot_output_Recall: 0.9254 - val_gunshot_output_accuracy: 0.9424 - val_gunshot_output_auc: 0.9928 - val_loss: 1.4405\n",
      "Epoch 27/150\n",
      "\u001b[1m43/43\u001b[0m \u001b[32m━━━━━━━━━━━━━━━━━━━━\u001b[0m\u001b[37m\u001b[0m \u001b[1m19s\u001b[0m 434ms/step - direction_output_Precision: 0.8103 - direction_output_Recall: 0.5516 - direction_output_accuracy: 0.6710 - direction_output_auc_2: 0.9460 - distance_output_Precision: 0.8990 - distance_output_Recall: 0.7285 - distance_output_accuracy: 0.8202 - distance_output_auc_1: 0.9812 - gunshot_output_Precision: 0.9660 - gunshot_output_Recall: 0.9578 - gunshot_output_accuracy: 0.9611 - gunshot_output_auc: 0.9965 - loss: 1.2733 - val_direction_output_Precision: 0.8223 - val_direction_output_Recall: 0.5254 - val_direction_output_accuracy: 0.6407 - val_direction_output_auc_2: 0.9402 - val_distance_output_Precision: 0.9065 - val_distance_output_Recall: 0.7068 - val_distance_output_accuracy: 0.8068 - val_distance_output_auc_1: 0.9820 - val_gunshot_output_Precision: 0.9605 - val_gunshot_output_Recall: 0.9492 - val_gunshot_output_accuracy: 0.9542 - val_gunshot_output_auc: 0.9934 - val_loss: 1.3660\n",
      "Epoch 28/150\n",
      "\u001b[1m43/43\u001b[0m \u001b[32m━━━━━━━━━━━━━━━━━━━━\u001b[0m\u001b[37m\u001b[0m \u001b[1m16s\u001b[0m 367ms/step - direction_output_Precision: 0.8209 - direction_output_Recall: 0.5782 - direction_output_accuracy: 0.6848 - direction_output_auc_2: 0.9500 - distance_output_Precision: 0.8761 - distance_output_Recall: 0.7434 - distance_output_accuracy: 0.7924 - distance_output_auc_1: 0.9802 - gunshot_output_Precision: 0.9652 - gunshot_output_Recall: 0.9619 - gunshot_output_accuracy: 0.9651 - gunshot_output_auc: 0.9976 - loss: 1.2493 - val_direction_output_Precision: 0.8130 - val_direction_output_Recall: 0.5085 - val_direction_output_accuracy: 0.6373 - val_direction_output_auc_2: 0.9364 - val_distance_output_Precision: 0.9022 - val_distance_output_Recall: 0.7034 - val_distance_output_accuracy: 0.7746 - val_distance_output_auc_1: 0.9772 - val_gunshot_output_Precision: 0.9485 - val_gunshot_output_Recall: 0.9373 - val_gunshot_output_accuracy: 0.9390 - val_gunshot_output_auc: 0.9931 - val_loss: 1.4548\n",
      "Epoch 29/150\n",
      "\u001b[1m43/43\u001b[0m \u001b[32m━━━━━━━━━━━━━━━━━━━━\u001b[0m\u001b[37m\u001b[0m \u001b[1m13s\u001b[0m 305ms/step - direction_output_Precision: 0.8307 - direction_output_Recall: 0.5934 - direction_output_accuracy: 0.7060 - direction_output_auc_2: 0.9552 - distance_output_Precision: 0.8890 - distance_output_Recall: 0.7417 - distance_output_accuracy: 0.8093 - distance_output_auc_1: 0.9804 - gunshot_output_Precision: 0.9699 - gunshot_output_Recall: 0.9681 - gunshot_output_accuracy: 0.9698 - gunshot_output_auc: 0.9977 - loss: 1.2068 - val_direction_output_Precision: 0.8106 - val_direction_output_Recall: 0.5441 - val_direction_output_accuracy: 0.6542 - val_direction_output_auc_2: 0.9411 - val_distance_output_Precision: 0.8938 - val_distance_output_Recall: 0.7271 - val_distance_output_accuracy: 0.8000 - val_distance_output_auc_1: 0.9800 - val_gunshot_output_Precision: 0.9623 - val_gunshot_output_Recall: 0.9525 - val_gunshot_output_accuracy: 0.9559 - val_gunshot_output_auc: 0.9946 - val_loss: 1.3629\n",
      "Epoch 30/150\n",
      "\u001b[1m43/43\u001b[0m \u001b[32m━━━━━━━━━━━━━━━━━━━━\u001b[0m\u001b[37m\u001b[0m \u001b[1m14s\u001b[0m 315ms/step - direction_output_Precision: 0.8191 - direction_output_Recall: 0.6193 - direction_output_accuracy: 0.7164 - direction_output_auc_2: 0.9575 - distance_output_Precision: 0.9039 - distance_output_Recall: 0.8009 - distance_output_accuracy: 0.8435 - distance_output_auc_1: 0.9870 - gunshot_output_Precision: 0.9699 - gunshot_output_Recall: 0.9682 - gunshot_output_accuracy: 0.9687 - gunshot_output_auc: 0.9976 - loss: 1.0919 - val_direction_output_Precision: 0.7965 - val_direction_output_Recall: 0.5373 - val_direction_output_accuracy: 0.6559 - val_direction_output_auc_2: 0.9447 - val_distance_output_Precision: 0.9138 - val_distance_output_Recall: 0.7542 - val_distance_output_accuracy: 0.8407 - val_distance_output_auc_1: 0.9841 - val_gunshot_output_Precision: 0.9656 - val_gunshot_output_Recall: 0.9525 - val_gunshot_output_accuracy: 0.9559 - val_gunshot_output_auc: 0.9940 - val_loss: 1.2889\n",
      "Epoch 31/150\n",
      "\u001b[1m43/43\u001b[0m \u001b[32m━━━━━━━━━━━━━━━━━━━━\u001b[0m\u001b[37m\u001b[0m \u001b[1m13s\u001b[0m 309ms/step - direction_output_Precision: 0.8329 - direction_output_Recall: 0.6096 - direction_output_accuracy: 0.7132 - direction_output_auc_2: 0.9599 - distance_output_Precision: 0.8979 - distance_output_Recall: 0.7867 - distance_output_accuracy: 0.8361 - distance_output_auc_1: 0.9858 - gunshot_output_Precision: 0.9786 - gunshot_output_Recall: 0.9747 - gunshot_output_accuracy: 0.9768 - gunshot_output_auc: 0.9982 - loss: 1.0942 - val_direction_output_Precision: 0.7887 - val_direction_output_Recall: 0.5441 - val_direction_output_accuracy: 0.6525 - val_direction_output_auc_2: 0.9448 - val_distance_output_Precision: 0.9146 - val_distance_output_Recall: 0.7441 - val_distance_output_accuracy: 0.8339 - val_distance_output_auc_1: 0.9820 - val_gunshot_output_Precision: 0.9637 - val_gunshot_output_Recall: 0.9441 - val_gunshot_output_accuracy: 0.9559 - val_gunshot_output_auc: 0.9960 - val_loss: 1.2900\n",
      "Epoch 32/150\n",
      "\u001b[1m43/43\u001b[0m \u001b[32m━━━━━━━━━━━━━━━━━━━━\u001b[0m\u001b[37m\u001b[0m \u001b[1m14s\u001b[0m 314ms/step - direction_output_Precision: 0.8110 - direction_output_Recall: 0.5719 - direction_output_accuracy: 0.6948 - direction_output_auc_2: 0.9495 - distance_output_Precision: 0.8832 - distance_output_Recall: 0.7673 - distance_output_accuracy: 0.8214 - distance_output_auc_1: 0.9791 - gunshot_output_Precision: 0.9716 - gunshot_output_Recall: 0.9701 - gunshot_output_accuracy: 0.9703 - gunshot_output_auc: 0.9964 - loss: 1.2529 - val_direction_output_Precision: 0.7966 - val_direction_output_Recall: 0.5576 - val_direction_output_accuracy: 0.6593 - val_direction_output_auc_2: 0.9467 - val_distance_output_Precision: 0.9304 - val_distance_output_Recall: 0.7475 - val_distance_output_accuracy: 0.8492 - val_distance_output_auc_1: 0.9849 - val_gunshot_output_Precision: 0.9658 - val_gunshot_output_Recall: 0.9559 - val_gunshot_output_accuracy: 0.9627 - val_gunshot_output_auc: 0.9963 - val_loss: 1.2436\n",
      "Epoch 33/150\n",
      "\u001b[1m43/43\u001b[0m \u001b[32m━━━━━━━━━━━━━━━━━━━━\u001b[0m\u001b[37m\u001b[0m \u001b[1m14s\u001b[0m 313ms/step - direction_output_Precision: 0.8378 - direction_output_Recall: 0.6020 - direction_output_accuracy: 0.7068 - direction_output_auc_2: 0.9568 - distance_output_Precision: 0.9001 - distance_output_Recall: 0.7684 - distance_output_accuracy: 0.8353 - distance_output_auc_1: 0.9835 - gunshot_output_Precision: 0.9607 - gunshot_output_Recall: 0.9602 - gunshot_output_accuracy: 0.9604 - gunshot_output_auc: 0.9969 - loss: 1.1620 - val_direction_output_Precision: 0.8005 - val_direction_output_Recall: 0.5373 - val_direction_output_accuracy: 0.6407 - val_direction_output_auc_2: 0.9388 - val_distance_output_Precision: 0.8768 - val_distance_output_Recall: 0.7356 - val_distance_output_accuracy: 0.8068 - val_distance_output_auc_1: 0.9799 - val_gunshot_output_Precision: 0.9427 - val_gunshot_output_Recall: 0.9203 - val_gunshot_output_accuracy: 0.9339 - val_gunshot_output_auc: 0.9898 - val_loss: 1.4173\n",
      "Epoch 34/150\n",
      "\u001b[1m43/43\u001b[0m \u001b[32m━━━━━━━━━━━━━━━━━━━━\u001b[0m\u001b[37m\u001b[0m \u001b[1m14s\u001b[0m 320ms/step - direction_output_Precision: 0.8399 - direction_output_Recall: 0.6360 - direction_output_accuracy: 0.7318 - direction_output_auc_2: 0.9610 - distance_output_Precision: 0.9042 - distance_output_Recall: 0.8085 - distance_output_accuracy: 0.8546 - distance_output_auc_1: 0.9878 - gunshot_output_Precision: 0.9711 - gunshot_output_Recall: 0.9663 - gunshot_output_accuracy: 0.9678 - gunshot_output_auc: 0.9974 - loss: 1.0702 - val_direction_output_Precision: 0.8144 - val_direction_output_Recall: 0.5576 - val_direction_output_accuracy: 0.6763 - val_direction_output_auc_2: 0.9427 - val_distance_output_Precision: 0.9321 - val_distance_output_Recall: 0.7441 - val_distance_output_accuracy: 0.8458 - val_distance_output_auc_1: 0.9811 - val_gunshot_output_Precision: 0.9727 - val_gunshot_output_Recall: 0.9661 - val_gunshot_output_accuracy: 0.9695 - val_gunshot_output_auc: 0.9940 - val_loss: 1.3377\n",
      "Epoch 35/150\n",
      "\u001b[1m43/43\u001b[0m \u001b[32m━━━━━━━━━━━━━━━━━━━━\u001b[0m\u001b[37m\u001b[0m \u001b[1m14s\u001b[0m 313ms/step - direction_output_Precision: 0.8092 - direction_output_Recall: 0.6043 - direction_output_accuracy: 0.7034 - direction_output_auc_2: 0.9550 - distance_output_Precision: 0.9023 - distance_output_Recall: 0.8112 - distance_output_accuracy: 0.8558 - distance_output_auc_1: 0.9856 - gunshot_output_Precision: 0.9622 - gunshot_output_Recall: 0.9589 - gunshot_output_accuracy: 0.9612 - gunshot_output_auc: 0.9959 - loss: 1.1447 - val_direction_output_Precision: 0.7881 - val_direction_output_Recall: 0.5610 - val_direction_output_accuracy: 0.6610 - val_direction_output_auc_2: 0.9428 - val_distance_output_Precision: 0.8877 - val_distance_output_Recall: 0.7237 - val_distance_output_accuracy: 0.8068 - val_distance_output_auc_1: 0.9803 - val_gunshot_output_Precision: 0.9535 - val_gunshot_output_Recall: 0.9390 - val_gunshot_output_accuracy: 0.9441 - val_gunshot_output_auc: 0.9933 - val_loss: 1.3504\n",
      "Epoch 36/150\n",
      "\u001b[1m43/43\u001b[0m \u001b[32m━━━━━━━━━━━━━━━━━━━━\u001b[0m\u001b[37m\u001b[0m \u001b[1m17s\u001b[0m 406ms/step - direction_output_Precision: 0.8406 - direction_output_Recall: 0.6171 - direction_output_accuracy: 0.7126 - direction_output_auc_2: 0.9595 - distance_output_Precision: 0.8806 - distance_output_Recall: 0.7857 - distance_output_accuracy: 0.8398 - distance_output_auc_1: 0.9883 - gunshot_output_Precision: 0.9806 - gunshot_output_Recall: 0.9769 - gunshot_output_accuracy: 0.9789 - gunshot_output_auc: 0.9991 - loss: 1.0279 - val_direction_output_Precision: 0.7517 - val_direction_output_Recall: 0.5644 - val_direction_output_accuracy: 0.6441 - val_direction_output_auc_2: 0.9434 - val_distance_output_Precision: 0.9168 - val_distance_output_Recall: 0.7661 - val_distance_output_accuracy: 0.8288 - val_distance_output_auc_1: 0.9857 - val_gunshot_output_Precision: 0.9660 - val_gunshot_output_Recall: 0.9644 - val_gunshot_output_accuracy: 0.9644 - val_gunshot_output_auc: 0.9970 - val_loss: 1.2497\n",
      "Epoch 37/150\n",
      "\u001b[1m43/43\u001b[0m \u001b[32m━━━━━━━━━━━━━━━━━━━━\u001b[0m\u001b[37m\u001b[0m \u001b[1m17s\u001b[0m 314ms/step - direction_output_Precision: 0.8058 - direction_output_Recall: 0.6451 - direction_output_accuracy: 0.7345 - direction_output_auc_2: 0.9619 - distance_output_Precision: 0.8846 - distance_output_Recall: 0.7800 - distance_output_accuracy: 0.8278 - distance_output_auc_1: 0.9844 - gunshot_output_Precision: 0.9684 - gunshot_output_Recall: 0.9680 - gunshot_output_accuracy: 0.9682 - gunshot_output_auc: 0.9951 - loss: 1.1095 - val_direction_output_Precision: 0.8329 - val_direction_output_Recall: 0.5576 - val_direction_output_accuracy: 0.6797 - val_direction_output_auc_2: 0.9489 - val_distance_output_Precision: 0.9115 - val_distance_output_Recall: 0.7508 - val_distance_output_accuracy: 0.8254 - val_distance_output_auc_1: 0.9838 - val_gunshot_output_Precision: 0.9762 - val_gunshot_output_Recall: 0.9746 - val_gunshot_output_accuracy: 0.9746 - val_gunshot_output_auc: 0.9977 - val_loss: 1.2293\n",
      "Epoch 38/150\n",
      "\u001b[1m43/43\u001b[0m \u001b[32m━━━━━━━━━━━━━━━━━━━━\u001b[0m\u001b[37m\u001b[0m \u001b[1m14s\u001b[0m 329ms/step - direction_output_Precision: 0.8614 - direction_output_Recall: 0.6461 - direction_output_accuracy: 0.7337 - direction_output_auc_2: 0.9618 - distance_output_Precision: 0.9362 - distance_output_Recall: 0.8328 - distance_output_accuracy: 0.8738 - distance_output_auc_1: 0.9898 - gunshot_output_Precision: 0.9844 - gunshot_output_Recall: 0.9839 - gunshot_output_accuracy: 0.9839 - gunshot_output_auc: 0.9989 - loss: 0.9808 - val_direction_output_Precision: 0.7711 - val_direction_output_Recall: 0.5424 - val_direction_output_accuracy: 0.6542 - val_direction_output_auc_2: 0.9444 - val_distance_output_Precision: 0.9173 - val_distance_output_Recall: 0.7712 - val_distance_output_accuracy: 0.8508 - val_distance_output_auc_1: 0.9831 - val_gunshot_output_Precision: 0.9727 - val_gunshot_output_Recall: 0.9678 - val_gunshot_output_accuracy: 0.9695 - val_gunshot_output_auc: 0.9959 - val_loss: 1.2553\n",
      "Epoch 39/150\n",
      "\u001b[1m43/43\u001b[0m \u001b[32m━━━━━━━━━━━━━━━━━━━━\u001b[0m\u001b[37m\u001b[0m \u001b[1m14s\u001b[0m 331ms/step - direction_output_Precision: 0.8218 - direction_output_Recall: 0.6118 - direction_output_accuracy: 0.7180 - direction_output_auc_2: 0.9588 - distance_output_Precision: 0.9021 - distance_output_Recall: 0.7920 - distance_output_accuracy: 0.8494 - distance_output_auc_1: 0.9881 - gunshot_output_Precision: 0.9518 - gunshot_output_Recall: 0.9477 - gunshot_output_accuracy: 0.9484 - gunshot_output_auc: 0.9940 - loss: 1.1232 - val_direction_output_Precision: 0.8103 - val_direction_output_Recall: 0.5576 - val_direction_output_accuracy: 0.6610 - val_direction_output_auc_2: 0.9461 - val_distance_output_Precision: 0.9089 - val_distance_output_Recall: 0.7780 - val_distance_output_accuracy: 0.8508 - val_distance_output_auc_1: 0.9857 - val_gunshot_output_Precision: 0.9676 - val_gunshot_output_Recall: 0.9610 - val_gunshot_output_accuracy: 0.9610 - val_gunshot_output_auc: 0.9962 - val_loss: 1.2381\n",
      "Epoch 40/150\n",
      "\u001b[1m43/43\u001b[0m \u001b[32m━━━━━━━━━━━━━━━━━━━━\u001b[0m\u001b[37m\u001b[0m \u001b[1m16s\u001b[0m 379ms/step - direction_output_Precision: 0.8177 - direction_output_Recall: 0.6195 - direction_output_accuracy: 0.7208 - direction_output_auc_2: 0.9618 - distance_output_Precision: 0.9287 - distance_output_Recall: 0.8347 - distance_output_accuracy: 0.8833 - distance_output_auc_1: 0.9910 - gunshot_output_Precision: 0.9786 - gunshot_output_Recall: 0.9784 - gunshot_output_accuracy: 0.9786 - gunshot_output_auc: 0.9985 - loss: 0.9747 - val_direction_output_Precision: 0.8228 - val_direction_output_Recall: 0.5746 - val_direction_output_accuracy: 0.6678 - val_direction_output_auc_2: 0.9474 - val_distance_output_Precision: 0.9361 - val_distance_output_Recall: 0.7949 - val_distance_output_accuracy: 0.8729 - val_distance_output_auc_1: 0.9881 - val_gunshot_output_Precision: 0.9677 - val_gunshot_output_Recall: 0.9644 - val_gunshot_output_accuracy: 0.9678 - val_gunshot_output_auc: 0.9959 - val_loss: 1.1922\n",
      "Epoch 41/150\n",
      "\u001b[1m43/43\u001b[0m \u001b[32m━━━━━━━━━━━━━━━━━━━━\u001b[0m\u001b[37m\u001b[0m \u001b[1m19s\u001b[0m 432ms/step - direction_output_Precision: 0.8228 - direction_output_Recall: 0.6121 - direction_output_accuracy: 0.7186 - direction_output_auc_2: 0.9583 - distance_output_Precision: 0.9167 - distance_output_Recall: 0.8273 - distance_output_accuracy: 0.8780 - distance_output_auc_1: 0.9897 - gunshot_output_Precision: 0.9741 - gunshot_output_Recall: 0.9690 - gunshot_output_accuracy: 0.9718 - gunshot_output_auc: 0.9986 - loss: 1.0280 - val_direction_output_Precision: 0.8138 - val_direction_output_Recall: 0.5780 - val_direction_output_accuracy: 0.6780 - val_direction_output_auc_2: 0.9481 - val_distance_output_Precision: 0.9078 - val_distance_output_Recall: 0.7847 - val_distance_output_accuracy: 0.8525 - val_distance_output_auc_1: 0.9851 - val_gunshot_output_Precision: 0.9796 - val_gunshot_output_Recall: 0.9763 - val_gunshot_output_accuracy: 0.9780 - val_gunshot_output_auc: 0.9958 - val_loss: 1.2036\n",
      "Epoch 42/150\n",
      "\u001b[1m43/43\u001b[0m \u001b[32m━━━━━━━━━━━━━━━━━━━━\u001b[0m\u001b[37m\u001b[0m \u001b[1m19s\u001b[0m 445ms/step - direction_output_Precision: 0.8338 - direction_output_Recall: 0.6384 - direction_output_accuracy: 0.7219 - direction_output_auc_2: 0.9637 - distance_output_Precision: 0.8953 - distance_output_Recall: 0.8111 - distance_output_accuracy: 0.8505 - distance_output_auc_1: 0.9878 - gunshot_output_Precision: 0.9830 - gunshot_output_Recall: 0.9792 - gunshot_output_accuracy: 0.9807 - gunshot_output_auc: 0.9987 - loss: 1.0107 - val_direction_output_Precision: 0.7773 - val_direction_output_Recall: 0.5678 - val_direction_output_accuracy: 0.6644 - val_direction_output_auc_2: 0.9450 - val_distance_output_Precision: 0.9066 - val_distance_output_Recall: 0.7898 - val_distance_output_accuracy: 0.8542 - val_distance_output_auc_1: 0.9839 - val_gunshot_output_Precision: 0.9707 - val_gunshot_output_Recall: 0.9559 - val_gunshot_output_accuracy: 0.9661 - val_gunshot_output_auc: 0.9970 - val_loss: 1.2387\n",
      "Epoch 43/150\n",
      "\u001b[1m43/43\u001b[0m \u001b[32m━━━━━━━━━━━━━━━━━━━━\u001b[0m\u001b[37m\u001b[0m \u001b[1m14s\u001b[0m 312ms/step - direction_output_Precision: 0.8523 - direction_output_Recall: 0.6544 - direction_output_accuracy: 0.7554 - direction_output_auc_2: 0.9673 - distance_output_Precision: 0.9307 - distance_output_Recall: 0.8701 - distance_output_accuracy: 0.8929 - distance_output_auc_1: 0.9933 - gunshot_output_Precision: 0.9688 - gunshot_output_Recall: 0.9686 - gunshot_output_accuracy: 0.9686 - gunshot_output_auc: 0.9982 - loss: 0.9159 - val_direction_output_Precision: 0.7963 - val_direction_output_Recall: 0.5831 - val_direction_output_accuracy: 0.6610 - val_direction_output_auc_2: 0.9503 - val_distance_output_Precision: 0.8979 - val_distance_output_Recall: 0.7898 - val_distance_output_accuracy: 0.8373 - val_distance_output_auc_1: 0.9840 - val_gunshot_output_Precision: 0.9555 - val_gunshot_output_Recall: 0.9458 - val_gunshot_output_accuracy: 0.9508 - val_gunshot_output_auc: 0.9955 - val_loss: 1.2230\n",
      "Epoch 44/150\n",
      "\u001b[1m43/43\u001b[0m \u001b[32m━━━━━━━━━━━━━━━━━━━━\u001b[0m\u001b[37m\u001b[0m \u001b[1m14s\u001b[0m 316ms/step - direction_output_Precision: 0.8515 - direction_output_Recall: 0.6776 - direction_output_accuracy: 0.7676 - direction_output_auc_2: 0.9703 - distance_output_Precision: 0.9218 - distance_output_Recall: 0.8390 - distance_output_accuracy: 0.8855 - distance_output_auc_1: 0.9910 - gunshot_output_Precision: 0.9819 - gunshot_output_Recall: 0.9802 - gunshot_output_accuracy: 0.9805 - gunshot_output_auc: 0.9986 - loss: 0.9100 - val_direction_output_Precision: 0.7798 - val_direction_output_Recall: 0.5763 - val_direction_output_accuracy: 0.6644 - val_direction_output_auc_2: 0.9476 - val_distance_output_Precision: 0.9140 - val_distance_output_Recall: 0.8102 - val_distance_output_accuracy: 0.8678 - val_distance_output_auc_1: 0.9850 - val_gunshot_output_Precision: 0.9691 - val_gunshot_output_Recall: 0.9576 - val_gunshot_output_accuracy: 0.9661 - val_gunshot_output_auc: 0.9943 - val_loss: 1.2093\n",
      "Epoch 45/150\n",
      "\u001b[1m43/43\u001b[0m \u001b[32m━━━━━━━━━━━━━━━━━━━━\u001b[0m\u001b[37m\u001b[0m \u001b[1m14s\u001b[0m 314ms/step - direction_output_Precision: 0.8505 - direction_output_Recall: 0.6875 - direction_output_accuracy: 0.7676 - direction_output_auc_2: 0.9680 - distance_output_Precision: 0.9200 - distance_output_Recall: 0.8428 - distance_output_accuracy: 0.8776 - distance_output_auc_1: 0.9898 - gunshot_output_Precision: 0.9867 - gunshot_output_Recall: 0.9867 - gunshot_output_accuracy: 0.9867 - gunshot_output_auc: 0.9996 - loss: 0.9101 - val_direction_output_Precision: 0.8005 - val_direction_output_Recall: 0.5780 - val_direction_output_accuracy: 0.6746 - val_direction_output_auc_2: 0.9465 - val_distance_output_Precision: 0.9194 - val_distance_output_Recall: 0.8119 - val_distance_output_accuracy: 0.8729 - val_distance_output_auc_1: 0.9868 - val_gunshot_output_Precision: 0.9794 - val_gunshot_output_Recall: 0.9661 - val_gunshot_output_accuracy: 0.9746 - val_gunshot_output_auc: 0.9974 - val_loss: 1.1639\n",
      "Epoch 46/150\n",
      "\u001b[1m43/43\u001b[0m \u001b[32m━━━━━━━━━━━━━━━━━━━━\u001b[0m\u001b[37m\u001b[0m \u001b[1m14s\u001b[0m 321ms/step - direction_output_Precision: 0.8287 - direction_output_Recall: 0.6593 - direction_output_accuracy: 0.7342 - direction_output_auc_2: 0.9663 - distance_output_Precision: 0.9220 - distance_output_Recall: 0.8480 - distance_output_accuracy: 0.8809 - distance_output_auc_1: 0.9906 - gunshot_output_Precision: 0.9823 - gunshot_output_Recall: 0.9820 - gunshot_output_accuracy: 0.9823 - gunshot_output_auc: 0.9987 - loss: 0.9394 - val_direction_output_Precision: 0.8322 - val_direction_output_Recall: 0.5966 - val_direction_output_accuracy: 0.6847 - val_direction_output_auc_2: 0.9512 - val_distance_output_Precision: 0.9133 - val_distance_output_Recall: 0.8034 - val_distance_output_accuracy: 0.8525 - val_distance_output_auc_1: 0.9876 - val_gunshot_output_Precision: 0.9728 - val_gunshot_output_Recall: 0.9695 - val_gunshot_output_accuracy: 0.9712 - val_gunshot_output_auc: 0.9974 - val_loss: 1.1294\n",
      "Epoch 47/150\n",
      "\u001b[1m43/43\u001b[0m \u001b[32m━━━━━━━━━━━━━━━━━━━━\u001b[0m\u001b[37m\u001b[0m \u001b[1m14s\u001b[0m 312ms/step - direction_output_Precision: 0.8468 - direction_output_Recall: 0.6786 - direction_output_accuracy: 0.7419 - direction_output_auc_2: 0.9691 - distance_output_Precision: 0.9270 - distance_output_Recall: 0.8506 - distance_output_accuracy: 0.8971 - distance_output_auc_1: 0.9931 - gunshot_output_Precision: 0.9803 - gunshot_output_Recall: 0.9799 - gunshot_output_accuracy: 0.9799 - gunshot_output_auc: 0.9977 - loss: 0.8895 - val_direction_output_Precision: 0.8165 - val_direction_output_Recall: 0.5881 - val_direction_output_accuracy: 0.6932 - val_direction_output_auc_2: 0.9555 - val_distance_output_Precision: 0.9316 - val_distance_output_Recall: 0.8305 - val_distance_output_accuracy: 0.8814 - val_distance_output_auc_1: 0.9889 - val_gunshot_output_Precision: 0.9761 - val_gunshot_output_Recall: 0.9678 - val_gunshot_output_accuracy: 0.9746 - val_gunshot_output_auc: 0.9977 - val_loss: 1.0799\n",
      "Epoch 48/150\n",
      "\u001b[1m43/43\u001b[0m \u001b[32m━━━━━━━━━━━━━━━━━━━━\u001b[0m\u001b[37m\u001b[0m \u001b[1m14s\u001b[0m 321ms/step - direction_output_Precision: 0.8483 - direction_output_Recall: 0.6513 - direction_output_accuracy: 0.7479 - direction_output_auc_2: 0.9685 - distance_output_Precision: 0.9202 - distance_output_Recall: 0.8480 - distance_output_accuracy: 0.8741 - distance_output_auc_1: 0.9919 - gunshot_output_Precision: 0.9901 - gunshot_output_Recall: 0.9886 - gunshot_output_accuracy: 0.9886 - gunshot_output_auc: 0.9994 - loss: 0.8754 - val_direction_output_Precision: 0.8101 - val_direction_output_Recall: 0.6000 - val_direction_output_accuracy: 0.6814 - val_direction_output_auc_2: 0.9527 - val_distance_output_Precision: 0.9316 - val_distance_output_Recall: 0.8305 - val_distance_output_accuracy: 0.8763 - val_distance_output_auc_1: 0.9892 - val_gunshot_output_Precision: 0.9694 - val_gunshot_output_Recall: 0.9678 - val_gunshot_output_accuracy: 0.9678 - val_gunshot_output_auc: 0.9970 - val_loss: 1.0904\n",
      "Epoch 49/150\n",
      "\u001b[1m43/43\u001b[0m \u001b[32m━━━━━━━━━━━━━━━━━━━━\u001b[0m\u001b[37m\u001b[0m \u001b[1m14s\u001b[0m 313ms/step - direction_output_Precision: 0.8394 - direction_output_Recall: 0.6831 - direction_output_accuracy: 0.7626 - direction_output_auc_2: 0.9695 - distance_output_Precision: 0.9170 - distance_output_Recall: 0.8467 - distance_output_accuracy: 0.8849 - distance_output_auc_1: 0.9915 - gunshot_output_Precision: 0.9738 - gunshot_output_Recall: 0.9714 - gunshot_output_accuracy: 0.9728 - gunshot_output_auc: 0.9980 - loss: 0.9119 - val_direction_output_Precision: 0.8147 - val_direction_output_Recall: 0.5814 - val_direction_output_accuracy: 0.6661 - val_direction_output_auc_2: 0.9493 - val_distance_output_Precision: 0.9125 - val_distance_output_Recall: 0.7949 - val_distance_output_accuracy: 0.8610 - val_distance_output_auc_1: 0.9874 - val_gunshot_output_Precision: 0.9744 - val_gunshot_output_Recall: 0.9661 - val_gunshot_output_accuracy: 0.9712 - val_gunshot_output_auc: 0.9967 - val_loss: 1.1466\n",
      "Epoch 50/150\n",
      "\u001b[1m43/43\u001b[0m \u001b[32m━━━━━━━━━━━━━━━━━━━━\u001b[0m\u001b[37m\u001b[0m \u001b[1m19s\u001b[0m 448ms/step - direction_output_Precision: 0.8560 - direction_output_Recall: 0.6901 - direction_output_accuracy: 0.7734 - direction_output_auc_2: 0.9718 - distance_output_Precision: 0.9115 - distance_output_Recall: 0.8432 - distance_output_accuracy: 0.8737 - distance_output_auc_1: 0.9887 - gunshot_output_Precision: 0.9877 - gunshot_output_Recall: 0.9850 - gunshot_output_accuracy: 0.9877 - gunshot_output_auc: 0.9995 - loss: 0.8877 - val_direction_output_Precision: 0.7795 - val_direction_output_Recall: 0.5932 - val_direction_output_accuracy: 0.6661 - val_direction_output_auc_2: 0.9426 - val_distance_output_Precision: 0.8574 - val_distance_output_Recall: 0.7746 - val_distance_output_accuracy: 0.8288 - val_distance_output_auc_1: 0.9823 - val_gunshot_output_Precision: 0.9524 - val_gunshot_output_Recall: 0.9492 - val_gunshot_output_accuracy: 0.9508 - val_gunshot_output_auc: 0.9948 - val_loss: 1.3081\n",
      "Epoch 51/150\n",
      "\u001b[1m43/43\u001b[0m \u001b[32m━━━━━━━━━━━━━━━━━━━━\u001b[0m\u001b[37m\u001b[0m \u001b[1m15s\u001b[0m 340ms/step - direction_output_Precision: 0.8192 - direction_output_Recall: 0.6568 - direction_output_accuracy: 0.7455 - direction_output_auc_2: 0.9654 - distance_output_Precision: 0.9076 - distance_output_Recall: 0.8467 - distance_output_accuracy: 0.8696 - distance_output_auc_1: 0.9906 - gunshot_output_Precision: 0.9727 - gunshot_output_Recall: 0.9715 - gunshot_output_accuracy: 0.9723 - gunshot_output_auc: 0.9975 - loss: 0.9694 - val_direction_output_Precision: 0.7950 - val_direction_output_Recall: 0.5915 - val_direction_output_accuracy: 0.6763 - val_direction_output_auc_2: 0.9499 - val_distance_output_Precision: 0.9183 - val_distance_output_Recall: 0.8186 - val_distance_output_accuracy: 0.8712 - val_distance_output_auc_1: 0.9875 - val_gunshot_output_Precision: 0.9812 - val_gunshot_output_Recall: 0.9729 - val_gunshot_output_accuracy: 0.9746 - val_gunshot_output_auc: 0.9951 - val_loss: 1.1523\n",
      "Epoch 52/150\n",
      "\u001b[1m43/43\u001b[0m \u001b[32m━━━━━━━━━━━━━━━━━━━━\u001b[0m\u001b[37m\u001b[0m \u001b[1m15s\u001b[0m 354ms/step - direction_output_Precision: 0.8637 - direction_output_Recall: 0.6936 - direction_output_accuracy: 0.7704 - direction_output_auc_2: 0.9706 - distance_output_Precision: 0.9025 - distance_output_Recall: 0.8534 - distance_output_accuracy: 0.8711 - distance_output_auc_1: 0.9909 - gunshot_output_Precision: 0.9790 - gunshot_output_Recall: 0.9784 - gunshot_output_accuracy: 0.9790 - gunshot_output_auc: 0.9988 - loss: 0.9124 - val_direction_output_Precision: 0.7841 - val_direction_output_Recall: 0.5847 - val_direction_output_accuracy: 0.6712 - val_direction_output_auc_2: 0.9449 - val_distance_output_Precision: 0.9002 - val_distance_output_Recall: 0.8102 - val_distance_output_accuracy: 0.8661 - val_distance_output_auc_1: 0.9851 - val_gunshot_output_Precision: 0.9660 - val_gunshot_output_Recall: 0.9644 - val_gunshot_output_accuracy: 0.9661 - val_gunshot_output_auc: 0.9944 - val_loss: 1.2414\n",
      "Epoch 53/150\n",
      "\u001b[1m43/43\u001b[0m \u001b[32m━━━━━━━━━━━━━━━━━━━━\u001b[0m\u001b[37m\u001b[0m \u001b[1m15s\u001b[0m 343ms/step - direction_output_Precision: 0.8356 - direction_output_Recall: 0.7035 - direction_output_accuracy: 0.7644 - direction_output_auc_2: 0.9723 - distance_output_Precision: 0.9198 - distance_output_Recall: 0.8712 - distance_output_accuracy: 0.8984 - distance_output_auc_1: 0.9926 - gunshot_output_Precision: 0.9782 - gunshot_output_Recall: 0.9781 - gunshot_output_accuracy: 0.9781 - gunshot_output_auc: 0.9992 - loss: 0.8459 - val_direction_output_Precision: 0.7932 - val_direction_output_Recall: 0.5915 - val_direction_output_accuracy: 0.6797 - val_direction_output_auc_2: 0.9504 - val_distance_output_Precision: 0.9079 - val_distance_output_Recall: 0.8186 - val_distance_output_accuracy: 0.8644 - val_distance_output_auc_1: 0.9870 - val_gunshot_output_Precision: 0.9609 - val_gunshot_output_Recall: 0.9576 - val_gunshot_output_accuracy: 0.9576 - val_gunshot_output_auc: 0.9941 - val_loss: 1.1751\n",
      "Epoch 54/150\n",
      "\u001b[1m43/43\u001b[0m \u001b[32m━━━━━━━━━━━━━━━━━━━━\u001b[0m\u001b[37m\u001b[0m \u001b[1m15s\u001b[0m 349ms/step - direction_output_Precision: 0.8719 - direction_output_Recall: 0.6876 - direction_output_accuracy: 0.7841 - direction_output_auc_2: 0.9712 - distance_output_Precision: 0.9361 - distance_output_Recall: 0.8692 - distance_output_accuracy: 0.8944 - distance_output_auc_1: 0.9928 - gunshot_output_Precision: 0.9731 - gunshot_output_Recall: 0.9718 - gunshot_output_accuracy: 0.9724 - gunshot_output_auc: 0.9978 - loss: 0.8880 - val_direction_output_Precision: 0.8073 - val_direction_output_Recall: 0.6034 - val_direction_output_accuracy: 0.7000 - val_direction_output_auc_2: 0.9499 - val_distance_output_Precision: 0.9195 - val_distance_output_Recall: 0.8322 - val_distance_output_accuracy: 0.8831 - val_distance_output_auc_1: 0.9891 - val_gunshot_output_Precision: 0.9727 - val_gunshot_output_Recall: 0.9678 - val_gunshot_output_accuracy: 0.9678 - val_gunshot_output_auc: 0.9947 - val_loss: 1.1316\n",
      "Epoch 55/150\n",
      "\u001b[1m43/43\u001b[0m \u001b[32m━━━━━━━━━━━━━━━━━━━━\u001b[0m\u001b[37m\u001b[0m \u001b[1m17s\u001b[0m 396ms/step - direction_output_Precision: 0.8505 - direction_output_Recall: 0.7127 - direction_output_accuracy: 0.7728 - direction_output_auc_2: 0.9731 - distance_output_Precision: 0.9404 - distance_output_Recall: 0.8848 - distance_output_accuracy: 0.9158 - distance_output_auc_1: 0.9952 - gunshot_output_Precision: 0.9832 - gunshot_output_Recall: 0.9832 - gunshot_output_accuracy: 0.9832 - gunshot_output_auc: 0.9996 - loss: 0.7704 - val_direction_output_Precision: 0.7543 - val_direction_output_Recall: 0.5932 - val_direction_output_accuracy: 0.6763 - val_direction_output_auc_2: 0.9416 - val_distance_output_Precision: 0.9170 - val_distance_output_Recall: 0.8424 - val_distance_output_accuracy: 0.8881 - val_distance_output_auc_1: 0.9842 - val_gunshot_output_Precision: 0.9558 - val_gunshot_output_Recall: 0.9525 - val_gunshot_output_accuracy: 0.9542 - val_gunshot_output_auc: 0.9922 - val_loss: 1.3526\n",
      "Epoch 56/150\n",
      "\u001b[1m43/43\u001b[0m \u001b[32m━━━━━━━━━━━━━━━━━━━━\u001b[0m\u001b[37m\u001b[0m \u001b[1m15s\u001b[0m 339ms/step - direction_output_Precision: 0.8145 - direction_output_Recall: 0.6593 - direction_output_accuracy: 0.7413 - direction_output_auc_2: 0.9653 - distance_output_Precision: 0.9241 - distance_output_Recall: 0.8643 - distance_output_accuracy: 0.8912 - distance_output_auc_1: 0.9916 - gunshot_output_Precision: 0.9716 - gunshot_output_Recall: 0.9716 - gunshot_output_accuracy: 0.9716 - gunshot_output_auc: 0.9986 - loss: 0.9235 - val_direction_output_Precision: 0.8102 - val_direction_output_Recall: 0.5932 - val_direction_output_accuracy: 0.6932 - val_direction_output_auc_2: 0.9535 - val_distance_output_Precision: 0.9326 - val_distance_output_Recall: 0.8203 - val_distance_output_accuracy: 0.8915 - val_distance_output_auc_1: 0.9891 - val_gunshot_output_Precision: 0.9795 - val_gunshot_output_Recall: 0.9729 - val_gunshot_output_accuracy: 0.9746 - val_gunshot_output_auc: 0.9954 - val_loss: 1.0920\n",
      "Epoch 57/150\n",
      "\u001b[1m43/43\u001b[0m \u001b[32m━━━━━━━━━━━━━━━━━━━━\u001b[0m\u001b[37m\u001b[0m \u001b[1m15s\u001b[0m 352ms/step - direction_output_Precision: 0.8585 - direction_output_Recall: 0.6896 - direction_output_accuracy: 0.7667 - direction_output_auc_2: 0.9722 - distance_output_Precision: 0.9450 - distance_output_Recall: 0.8852 - distance_output_accuracy: 0.9212 - distance_output_auc_1: 0.9947 - gunshot_output_Precision: 0.9730 - gunshot_output_Recall: 0.9726 - gunshot_output_accuracy: 0.9730 - gunshot_output_auc: 0.9977 - loss: 0.8177 - val_direction_output_Precision: 0.8027 - val_direction_output_Recall: 0.6068 - val_direction_output_accuracy: 0.6881 - val_direction_output_auc_2: 0.9504 - val_distance_output_Precision: 0.9389 - val_distance_output_Recall: 0.8593 - val_distance_output_accuracy: 0.8966 - val_distance_output_auc_1: 0.9894 - val_gunshot_output_Precision: 0.9677 - val_gunshot_output_Recall: 0.9661 - val_gunshot_output_accuracy: 0.9678 - val_gunshot_output_auc: 0.9958 - val_loss: 1.1067\n",
      "Epoch 58/150\n",
      "\u001b[1m43/43\u001b[0m \u001b[32m━━━━━━━━━━━━━━━━━━━━\u001b[0m\u001b[37m\u001b[0m \u001b[1m14s\u001b[0m 316ms/step - direction_output_Precision: 0.8523 - direction_output_Recall: 0.6968 - direction_output_accuracy: 0.7894 - direction_output_auc_2: 0.9746 - distance_output_Precision: 0.9260 - distance_output_Recall: 0.8876 - distance_output_accuracy: 0.9039 - distance_output_auc_1: 0.9934 - gunshot_output_Precision: 0.9856 - gunshot_output_Recall: 0.9836 - gunshot_output_accuracy: 0.9856 - gunshot_output_auc: 0.9996 - loss: 0.7715 - val_direction_output_Precision: 0.7887 - val_direction_output_Recall: 0.6136 - val_direction_output_accuracy: 0.7000 - val_direction_output_auc_2: 0.9546 - val_distance_output_Precision: 0.8987 - val_distance_output_Recall: 0.8424 - val_distance_output_accuracy: 0.8746 - val_distance_output_auc_1: 0.9891 - val_gunshot_output_Precision: 0.9745 - val_gunshot_output_Recall: 0.9712 - val_gunshot_output_accuracy: 0.9746 - val_gunshot_output_auc: 0.9960 - val_loss: 1.0626\n",
      "Epoch 59/150\n",
      "\u001b[1m43/43\u001b[0m \u001b[32m━━━━━━━━━━━━━━━━━━━━\u001b[0m\u001b[37m\u001b[0m \u001b[1m14s\u001b[0m 311ms/step - direction_output_Precision: 0.8559 - direction_output_Recall: 0.7087 - direction_output_accuracy: 0.7923 - direction_output_auc_2: 0.9719 - distance_output_Precision: 0.9244 - distance_output_Recall: 0.8743 - distance_output_accuracy: 0.9044 - distance_output_auc_1: 0.9909 - gunshot_output_Precision: 0.9832 - gunshot_output_Recall: 0.9823 - gunshot_output_accuracy: 0.9830 - gunshot_output_auc: 0.9986 - loss: 0.8571 - val_direction_output_Precision: 0.8100 - val_direction_output_Recall: 0.6068 - val_direction_output_accuracy: 0.6983 - val_direction_output_auc_2: 0.9536 - val_distance_output_Precision: 0.9292 - val_distance_output_Recall: 0.8458 - val_distance_output_accuracy: 0.8949 - val_distance_output_auc_1: 0.9885 - val_gunshot_output_Precision: 0.9779 - val_gunshot_output_Recall: 0.9763 - val_gunshot_output_accuracy: 0.9763 - val_gunshot_output_auc: 0.9965 - val_loss: 1.0959\n",
      "Epoch 60/150\n",
      "\u001b[1m43/43\u001b[0m \u001b[32m━━━━━━━━━━━━━━━━━━━━\u001b[0m\u001b[37m\u001b[0m \u001b[1m14s\u001b[0m 316ms/step - direction_output_Precision: 0.8851 - direction_output_Recall: 0.7300 - direction_output_accuracy: 0.8162 - direction_output_auc_2: 0.9790 - distance_output_Precision: 0.9269 - distance_output_Recall: 0.8643 - distance_output_accuracy: 0.8982 - distance_output_auc_1: 0.9942 - gunshot_output_Precision: 0.9862 - gunshot_output_Recall: 0.9846 - gunshot_output_accuracy: 0.9846 - gunshot_output_auc: 0.9996 - loss: 0.7347 - val_direction_output_Precision: 0.8188 - val_direction_output_Recall: 0.6203 - val_direction_output_accuracy: 0.7068 - val_direction_output_auc_2: 0.9552 - val_distance_output_Precision: 0.9424 - val_distance_output_Recall: 0.8593 - val_distance_output_accuracy: 0.8983 - val_distance_output_auc_1: 0.9887 - val_gunshot_output_Precision: 0.9745 - val_gunshot_output_Recall: 0.9712 - val_gunshot_output_accuracy: 0.9729 - val_gunshot_output_auc: 0.9947 - val_loss: 1.0729\n",
      "Epoch 61/150\n",
      "\u001b[1m43/43\u001b[0m \u001b[32m━━━━━━━━━━━━━━━━━━━━\u001b[0m\u001b[37m\u001b[0m \u001b[1m14s\u001b[0m 310ms/step - direction_output_Precision: 0.8591 - direction_output_Recall: 0.7247 - direction_output_accuracy: 0.7928 - direction_output_auc_2: 0.9744 - distance_output_Precision: 0.9322 - distance_output_Recall: 0.8948 - distance_output_accuracy: 0.9046 - distance_output_auc_1: 0.9949 - gunshot_output_Precision: 0.9878 - gunshot_output_Recall: 0.9864 - gunshot_output_accuracy: 0.9878 - gunshot_output_auc: 0.9995 - loss: 0.7679 - val_direction_output_Precision: 0.7911 - val_direction_output_Recall: 0.6034 - val_direction_output_accuracy: 0.6881 - val_direction_output_auc_2: 0.9545 - val_distance_output_Precision: 0.9121 - val_distance_output_Recall: 0.8441 - val_distance_output_accuracy: 0.8712 - val_distance_output_auc_1: 0.9883 - val_gunshot_output_Precision: 0.9813 - val_gunshot_output_Recall: 0.9780 - val_gunshot_output_accuracy: 0.9814 - val_gunshot_output_auc: 0.9959 - val_loss: 1.0545\n",
      "Epoch 62/150\n",
      "\u001b[1m43/43\u001b[0m \u001b[32m━━━━━━━━━━━━━━━━━━━━\u001b[0m\u001b[37m\u001b[0m \u001b[1m14s\u001b[0m 333ms/step - direction_output_Precision: 0.8522 - direction_output_Recall: 0.7146 - direction_output_accuracy: 0.7867 - direction_output_auc_2: 0.9767 - distance_output_Precision: 0.9258 - distance_output_Recall: 0.8892 - distance_output_accuracy: 0.9093 - distance_output_auc_1: 0.9955 - gunshot_output_Precision: 0.9805 - gunshot_output_Recall: 0.9805 - gunshot_output_accuracy: 0.9805 - gunshot_output_auc: 0.9982 - loss: 0.7516 - val_direction_output_Precision: 0.8053 - val_direction_output_Recall: 0.6237 - val_direction_output_accuracy: 0.7000 - val_direction_output_auc_2: 0.9512 - val_distance_output_Precision: 0.9299 - val_distance_output_Recall: 0.8763 - val_distance_output_accuracy: 0.9000 - val_distance_output_auc_1: 0.9877 - val_gunshot_output_Precision: 0.9779 - val_gunshot_output_Recall: 0.9746 - val_gunshot_output_accuracy: 0.9763 - val_gunshot_output_auc: 0.9973 - val_loss: 1.0903\n",
      "Epoch 63/150\n",
      "\u001b[1m43/43\u001b[0m \u001b[32m━━━━━━━━━━━━━━━━━━━━\u001b[0m\u001b[37m\u001b[0m \u001b[1m14s\u001b[0m 325ms/step - direction_output_Precision: 0.8796 - direction_output_Recall: 0.7554 - direction_output_accuracy: 0.8174 - direction_output_auc_2: 0.9811 - distance_output_Precision: 0.9462 - distance_output_Recall: 0.9091 - distance_output_accuracy: 0.9233 - distance_output_auc_1: 0.9960 - gunshot_output_Precision: 0.9946 - gunshot_output_Recall: 0.9945 - gunshot_output_accuracy: 0.9946 - gunshot_output_auc: 0.9998 - loss: 0.6388 - val_direction_output_Precision: 0.8099 - val_direction_output_Recall: 0.6356 - val_direction_output_accuracy: 0.7085 - val_direction_output_auc_2: 0.9534 - val_distance_output_Precision: 0.9419 - val_distance_output_Recall: 0.8797 - val_distance_output_accuracy: 0.9102 - val_distance_output_auc_1: 0.9895 - val_gunshot_output_Precision: 0.9728 - val_gunshot_output_Recall: 0.9712 - val_gunshot_output_accuracy: 0.9729 - val_gunshot_output_auc: 0.9951 - val_loss: 1.0612\n",
      "Epoch 64/150\n",
      "\u001b[1m43/43\u001b[0m \u001b[32m━━━━━━━━━━━━━━━━━━━━\u001b[0m\u001b[37m\u001b[0m \u001b[1m14s\u001b[0m 315ms/step - direction_output_Precision: 0.8952 - direction_output_Recall: 0.7678 - direction_output_accuracy: 0.8394 - direction_output_auc_2: 0.9829 - distance_output_Precision: 0.9321 - distance_output_Recall: 0.8848 - distance_output_accuracy: 0.9122 - distance_output_auc_1: 0.9953 - gunshot_output_Precision: 0.9879 - gunshot_output_Recall: 0.9868 - gunshot_output_accuracy: 0.9875 - gunshot_output_auc: 0.9991 - loss: 0.6771 - val_direction_output_Precision: 0.8039 - val_direction_output_Recall: 0.6254 - val_direction_output_accuracy: 0.7000 - val_direction_output_auc_2: 0.9496 - val_distance_output_Precision: 0.9195 - val_distance_output_Recall: 0.8322 - val_distance_output_accuracy: 0.8678 - val_distance_output_auc_1: 0.9885 - val_gunshot_output_Precision: 0.9710 - val_gunshot_output_Recall: 0.9661 - val_gunshot_output_accuracy: 0.9695 - val_gunshot_output_auc: 0.9946 - val_loss: 1.1577\n",
      "Epoch 65/150\n",
      "\u001b[1m43/43\u001b[0m \u001b[32m━━━━━━━━━━━━━━━━━━━━\u001b[0m\u001b[37m\u001b[0m \u001b[1m14s\u001b[0m 313ms/step - direction_output_Precision: 0.8646 - direction_output_Recall: 0.7240 - direction_output_accuracy: 0.7911 - direction_output_auc_2: 0.9751 - distance_output_Precision: 0.9183 - distance_output_Recall: 0.8760 - distance_output_accuracy: 0.8955 - distance_output_auc_1: 0.9913 - gunshot_output_Precision: 0.9729 - gunshot_output_Recall: 0.9705 - gunshot_output_accuracy: 0.9710 - gunshot_output_auc: 0.9982 - loss: 0.8476 - val_direction_output_Precision: 0.7694 - val_direction_output_Recall: 0.6390 - val_direction_output_accuracy: 0.6983 - val_direction_output_auc_2: 0.9486 - val_distance_output_Precision: 0.9392 - val_distance_output_Recall: 0.8644 - val_distance_output_accuracy: 0.9051 - val_distance_output_auc_1: 0.9894 - val_gunshot_output_Precision: 0.9693 - val_gunshot_output_Recall: 0.9644 - val_gunshot_output_accuracy: 0.9678 - val_gunshot_output_auc: 0.9955 - val_loss: 1.1222\n",
      "Epoch 66/150\n",
      "\u001b[1m43/43\u001b[0m \u001b[32m━━━━━━━━━━━━━━━━━━━━\u001b[0m\u001b[37m\u001b[0m \u001b[1m14s\u001b[0m 326ms/step - direction_output_Precision: 0.8636 - direction_output_Recall: 0.7494 - direction_output_accuracy: 0.8094 - direction_output_auc_2: 0.9793 - distance_output_Precision: 0.9351 - distance_output_Recall: 0.8965 - distance_output_accuracy: 0.9207 - distance_output_auc_1: 0.9959 - gunshot_output_Precision: 0.9886 - gunshot_output_Recall: 0.9886 - gunshot_output_accuracy: 0.9886 - gunshot_output_auc: 0.9996 - loss: 0.6819 - val_direction_output_Precision: 0.7940 - val_direction_output_Recall: 0.6271 - val_direction_output_accuracy: 0.7051 - val_direction_output_auc_2: 0.9511 - val_distance_output_Precision: 0.9288 - val_distance_output_Recall: 0.8627 - val_distance_output_accuracy: 0.8949 - val_distance_output_auc_1: 0.9875 - val_gunshot_output_Precision: 0.9643 - val_gunshot_output_Recall: 0.9610 - val_gunshot_output_accuracy: 0.9610 - val_gunshot_output_auc: 0.9942 - val_loss: 1.1478\n",
      "Epoch 67/150\n",
      "\u001b[1m43/43\u001b[0m \u001b[32m━━━━━━━━━━━━━━━━━━━━\u001b[0m\u001b[37m\u001b[0m \u001b[1m13s\u001b[0m 298ms/step - direction_output_Precision: 0.8798 - direction_output_Recall: 0.7524 - direction_output_accuracy: 0.8071 - direction_output_auc_2: 0.9819 - distance_output_Precision: 0.9418 - distance_output_Recall: 0.9131 - distance_output_accuracy: 0.9279 - distance_output_auc_1: 0.9969 - gunshot_output_Precision: 0.9893 - gunshot_output_Recall: 0.9867 - gunshot_output_accuracy: 0.9867 - gunshot_output_auc: 0.9984 - loss: 0.6417 - val_direction_output_Precision: 0.7897 - val_direction_output_Recall: 0.6237 - val_direction_output_accuracy: 0.7068 - val_direction_output_auc_2: 0.9459 - val_distance_output_Precision: 0.9201 - val_distance_output_Recall: 0.8593 - val_distance_output_accuracy: 0.8864 - val_distance_output_auc_1: 0.9850 - val_gunshot_output_Precision: 0.9557 - val_gunshot_output_Recall: 0.9508 - val_gunshot_output_accuracy: 0.9542 - val_gunshot_output_auc: 0.9926 - val_loss: 1.2650\n",
      "Epoch 68/150\n",
      "\u001b[1m43/43\u001b[0m \u001b[32m━━━━━━━━━━━━━━━━━━━━\u001b[0m\u001b[37m\u001b[0m \u001b[1m22s\u001b[0m 330ms/step - direction_output_Precision: 0.8839 - direction_output_Recall: 0.7641 - direction_output_accuracy: 0.8148 - direction_output_auc_2: 0.9812 - distance_output_Precision: 0.9451 - distance_output_Recall: 0.9175 - distance_output_accuracy: 0.9359 - distance_output_auc_1: 0.9967 - gunshot_output_Precision: 0.9922 - gunshot_output_Recall: 0.9922 - gunshot_output_accuracy: 0.9922 - gunshot_output_auc: 0.9986 - loss: 0.6492 - val_direction_output_Precision: 0.8047 - val_direction_output_Recall: 0.6424 - val_direction_output_accuracy: 0.7220 - val_direction_output_auc_2: 0.9529 - val_distance_output_Precision: 0.9184 - val_distance_output_Recall: 0.8780 - val_distance_output_accuracy: 0.8932 - val_distance_output_auc_1: 0.9898 - val_gunshot_output_Precision: 0.9728 - val_gunshot_output_Recall: 0.9712 - val_gunshot_output_accuracy: 0.9729 - val_gunshot_output_auc: 0.9954 - val_loss: 1.0673\n",
      "Epoch 69/150\n",
      "\u001b[1m43/43\u001b[0m \u001b[32m━━━━━━━━━━━━━━━━━━━━\u001b[0m\u001b[37m\u001b[0m \u001b[1m14s\u001b[0m 312ms/step - direction_output_Precision: 0.8716 - direction_output_Recall: 0.7715 - direction_output_accuracy: 0.8193 - direction_output_auc_2: 0.9774 - distance_output_Precision: 0.9375 - distance_output_Recall: 0.9133 - distance_output_accuracy: 0.9270 - distance_output_auc_1: 0.9958 - gunshot_output_Precision: 0.9843 - gunshot_output_Recall: 0.9827 - gunshot_output_accuracy: 0.9843 - gunshot_output_auc: 0.9994 - loss: 0.7138 - val_direction_output_Precision: 0.8055 - val_direction_output_Recall: 0.6458 - val_direction_output_accuracy: 0.7153 - val_direction_output_auc_2: 0.9498 - val_distance_output_Precision: 0.9224 - val_distance_output_Recall: 0.8458 - val_distance_output_accuracy: 0.8780 - val_distance_output_auc_1: 0.9867 - val_gunshot_output_Precision: 0.9694 - val_gunshot_output_Recall: 0.9678 - val_gunshot_output_accuracy: 0.9678 - val_gunshot_output_auc: 0.9931 - val_loss: 1.1630\n",
      "Epoch 70/150\n",
      "\u001b[1m43/43\u001b[0m \u001b[32m━━━━━━━━━━━━━━━━━━━━\u001b[0m\u001b[37m\u001b[0m \u001b[1m14s\u001b[0m 317ms/step - direction_output_Precision: 0.8735 - direction_output_Recall: 0.7650 - direction_output_accuracy: 0.8243 - direction_output_auc_2: 0.9812 - distance_output_Precision: 0.9343 - distance_output_Recall: 0.9052 - distance_output_accuracy: 0.9203 - distance_output_auc_1: 0.9959 - gunshot_output_Precision: 0.9854 - gunshot_output_Recall: 0.9851 - gunshot_output_accuracy: 0.9851 - gunshot_output_auc: 0.9980 - loss: 0.6723 - val_direction_output_Precision: 0.8138 - val_direction_output_Recall: 0.6593 - val_direction_output_accuracy: 0.7271 - val_direction_output_auc_2: 0.9540 - val_distance_output_Precision: 0.9138 - val_distance_output_Recall: 0.8441 - val_distance_output_accuracy: 0.8763 - val_distance_output_auc_1: 0.9885 - val_gunshot_output_Precision: 0.9693 - val_gunshot_output_Recall: 0.9627 - val_gunshot_output_accuracy: 0.9678 - val_gunshot_output_auc: 0.9951 - val_loss: 1.1256\n",
      "Epoch 71/150\n",
      "\u001b[1m43/43\u001b[0m \u001b[32m━━━━━━━━━━━━━━━━━━━━\u001b[0m\u001b[37m\u001b[0m \u001b[1m14s\u001b[0m 312ms/step - direction_output_Precision: 0.8786 - direction_output_Recall: 0.7507 - direction_output_accuracy: 0.8013 - direction_output_auc_2: 0.9779 - distance_output_Precision: 0.9369 - distance_output_Recall: 0.9018 - distance_output_accuracy: 0.9150 - distance_output_auc_1: 0.9944 - gunshot_output_Precision: 0.9853 - gunshot_output_Recall: 0.9853 - gunshot_output_accuracy: 0.9853 - gunshot_output_auc: 0.9993 - loss: 0.7316 - val_direction_output_Precision: 0.8101 - val_direction_output_Recall: 0.6508 - val_direction_output_accuracy: 0.7288 - val_direction_output_auc_2: 0.9537 - val_distance_output_Precision: 0.9107 - val_distance_output_Recall: 0.8475 - val_distance_output_accuracy: 0.8847 - val_distance_output_auc_1: 0.9883 - val_gunshot_output_Precision: 0.9643 - val_gunshot_output_Recall: 0.9627 - val_gunshot_output_accuracy: 0.9627 - val_gunshot_output_auc: 0.9945 - val_loss: 1.1302\n",
      "Epoch 72/150\n",
      "\u001b[1m43/43\u001b[0m \u001b[32m━━━━━━━━━━━━━━━━━━━━\u001b[0m\u001b[37m\u001b[0m \u001b[1m17s\u001b[0m 402ms/step - direction_output_Precision: 0.8448 - direction_output_Recall: 0.7260 - direction_output_accuracy: 0.7844 - direction_output_auc_2: 0.9767 - distance_output_Precision: 0.9274 - distance_output_Recall: 0.9055 - distance_output_accuracy: 0.9163 - distance_output_auc_1: 0.9937 - gunshot_output_Precision: 0.9878 - gunshot_output_Recall: 0.9878 - gunshot_output_accuracy: 0.9878 - gunshot_output_auc: 0.9996 - loss: 0.7261 - val_direction_output_Precision: 0.7907 - val_direction_output_Recall: 0.6339 - val_direction_output_accuracy: 0.7102 - val_direction_output_auc_2: 0.9513 - val_distance_output_Precision: 0.9195 - val_distance_output_Recall: 0.8712 - val_distance_output_accuracy: 0.9000 - val_distance_output_auc_1: 0.9880 - val_gunshot_output_Precision: 0.9576 - val_gunshot_output_Recall: 0.9576 - val_gunshot_output_accuracy: 0.9576 - val_gunshot_output_auc: 0.9920 - val_loss: 1.1910\n",
      "Epoch 73/150\n",
      "\u001b[1m43/43\u001b[0m \u001b[32m━━━━━━━━━━━━━━━━━━━━\u001b[0m\u001b[37m\u001b[0m \u001b[1m22s\u001b[0m 523ms/step - direction_output_Precision: 0.8839 - direction_output_Recall: 0.7789 - direction_output_accuracy: 0.8235 - direction_output_auc_2: 0.9819 - distance_output_Precision: 0.9460 - distance_output_Recall: 0.9181 - distance_output_accuracy: 0.9314 - distance_output_auc_1: 0.9972 - gunshot_output_Precision: 0.9919 - gunshot_output_Recall: 0.9909 - gunshot_output_accuracy: 0.9919 - gunshot_output_auc: 0.9995 - loss: 0.6231 - val_direction_output_Precision: 0.7803 - val_direction_output_Recall: 0.6322 - val_direction_output_accuracy: 0.7000 - val_direction_output_auc_2: 0.9489 - val_distance_output_Precision: 0.9109 - val_distance_output_Recall: 0.8661 - val_distance_output_accuracy: 0.8898 - val_distance_output_auc_1: 0.9849 - val_gunshot_output_Precision: 0.9745 - val_gunshot_output_Recall: 0.9729 - val_gunshot_output_accuracy: 0.9746 - val_gunshot_output_auc: 0.9947 - val_loss: 1.2266\n",
      "Epoch 74/150\n",
      "\u001b[1m43/43\u001b[0m \u001b[32m━━━━━━━━━━━━━━━━━━━━\u001b[0m\u001b[37m\u001b[0m \u001b[1m15s\u001b[0m 343ms/step - direction_output_Precision: 0.8677 - direction_output_Recall: 0.7504 - direction_output_accuracy: 0.8102 - direction_output_auc_2: 0.9791 - distance_output_Precision: 0.9488 - distance_output_Recall: 0.9293 - distance_output_accuracy: 0.9371 - distance_output_auc_1: 0.9972 - gunshot_output_Precision: 0.9909 - gunshot_output_Recall: 0.9909 - gunshot_output_accuracy: 0.9909 - gunshot_output_auc: 0.9999 - loss: 0.6270 - val_direction_output_Precision: 0.8118 - val_direction_output_Recall: 0.6508 - val_direction_output_accuracy: 0.7322 - val_direction_output_auc_2: 0.9533 - val_distance_output_Precision: 0.9238 - val_distance_output_Recall: 0.8831 - val_distance_output_accuracy: 0.9000 - val_distance_output_auc_1: 0.9906 - val_gunshot_output_Precision: 0.9779 - val_gunshot_output_Recall: 0.9763 - val_gunshot_output_accuracy: 0.9780 - val_gunshot_output_auc: 0.9938 - val_loss: 1.0810\n",
      "Epoch 75/150\n",
      "\u001b[1m43/43\u001b[0m \u001b[32m━━━━━━━━━━━━━━━━━━━━\u001b[0m\u001b[37m\u001b[0m \u001b[1m12s\u001b[0m 269ms/step - direction_output_Precision: 0.8639 - direction_output_Recall: 0.7727 - direction_output_accuracy: 0.8182 - direction_output_auc_2: 0.9829 - distance_output_Precision: 0.9551 - distance_output_Recall: 0.9272 - distance_output_accuracy: 0.9415 - distance_output_auc_1: 0.9973 - gunshot_output_Precision: 0.9926 - gunshot_output_Recall: 0.9902 - gunshot_output_accuracy: 0.9902 - gunshot_output_auc: 0.9998 - loss: 0.5932 - val_direction_output_Precision: 0.7675 - val_direction_output_Recall: 0.6492 - val_direction_output_accuracy: 0.7017 - val_direction_output_auc_2: 0.9499 - val_distance_output_Precision: 0.9158 - val_distance_output_Recall: 0.8661 - val_distance_output_accuracy: 0.8847 - val_distance_output_auc_1: 0.9863 - val_gunshot_output_Precision: 0.9695 - val_gunshot_output_Recall: 0.9695 - val_gunshot_output_accuracy: 0.9695 - val_gunshot_output_auc: 0.9945 - val_loss: 1.1998\n",
      "Epoch 76/150\n",
      "\u001b[1m43/43\u001b[0m \u001b[32m━━━━━━━━━━━━━━━━━━━━\u001b[0m\u001b[37m\u001b[0m \u001b[1m13s\u001b[0m 298ms/step - direction_output_Precision: 0.8740 - direction_output_Recall: 0.7915 - direction_output_accuracy: 0.8363 - direction_output_auc_2: 0.9838 - distance_output_Precision: 0.9452 - distance_output_Recall: 0.9275 - distance_output_accuracy: 0.9379 - distance_output_auc_1: 0.9970 - gunshot_output_Precision: 0.9896 - gunshot_output_Recall: 0.9896 - gunshot_output_accuracy: 0.9896 - gunshot_output_auc: 0.9998 - loss: 0.5939 - val_direction_output_Precision: 0.7959 - val_direction_output_Recall: 0.6542 - val_direction_output_accuracy: 0.7237 - val_direction_output_auc_2: 0.9544 - val_distance_output_Precision: 0.9264 - val_distance_output_Recall: 0.8746 - val_distance_output_accuracy: 0.9051 - val_distance_output_auc_1: 0.9885 - val_gunshot_output_Precision: 0.9744 - val_gunshot_output_Recall: 0.9695 - val_gunshot_output_accuracy: 0.9712 - val_gunshot_output_auc: 0.9948 - val_loss: 1.0752\n",
      "Epoch 77/150\n",
      "\u001b[1m43/43\u001b[0m \u001b[32m━━━━━━━━━━━━━━━━━━━━\u001b[0m\u001b[37m\u001b[0m \u001b[1m17s\u001b[0m 407ms/step - direction_output_Precision: 0.8832 - direction_output_Recall: 0.7880 - direction_output_accuracy: 0.8375 - direction_output_auc_2: 0.9848 - distance_output_Precision: 0.9520 - distance_output_Recall: 0.9333 - distance_output_accuracy: 0.9398 - distance_output_auc_1: 0.9975 - gunshot_output_Precision: 0.9926 - gunshot_output_Recall: 0.9926 - gunshot_output_accuracy: 0.9926 - gunshot_output_auc: 0.9999 - loss: 0.5531 - val_direction_output_Precision: 0.7836 - val_direction_output_Recall: 0.6627 - val_direction_output_accuracy: 0.7237 - val_direction_output_auc_2: 0.9561 - val_distance_output_Precision: 0.9183 - val_distance_output_Recall: 0.8763 - val_distance_output_accuracy: 0.9000 - val_distance_output_auc_1: 0.9905 - val_gunshot_output_Precision: 0.9694 - val_gunshot_output_Recall: 0.9661 - val_gunshot_output_accuracy: 0.9695 - val_gunshot_output_auc: 0.9946 - val_loss: 1.0837\n",
      "Epoch 78/150\n",
      "\u001b[1m43/43\u001b[0m \u001b[32m━━━━━━━━━━━━━━━━━━━━\u001b[0m\u001b[37m\u001b[0m \u001b[1m12s\u001b[0m 283ms/step - direction_output_Precision: 0.8764 - direction_output_Recall: 0.8084 - direction_output_accuracy: 0.8422 - direction_output_auc_2: 0.9860 - distance_output_Precision: 0.9571 - distance_output_Recall: 0.9357 - distance_output_accuracy: 0.9469 - distance_output_auc_1: 0.9978 - gunshot_output_Precision: 0.9937 - gunshot_output_Recall: 0.9937 - gunshot_output_accuracy: 0.9937 - gunshot_output_auc: 0.9998 - loss: 0.5331 - val_direction_output_Precision: 0.8069 - val_direction_output_Recall: 0.6729 - val_direction_output_accuracy: 0.7271 - val_direction_output_auc_2: 0.9559 - val_distance_output_Precision: 0.9331 - val_distance_output_Recall: 0.8983 - val_distance_output_accuracy: 0.9153 - val_distance_output_auc_1: 0.9919 - val_gunshot_output_Precision: 0.9762 - val_gunshot_output_Recall: 0.9729 - val_gunshot_output_accuracy: 0.9746 - val_gunshot_output_auc: 0.9965 - val_loss: 1.0171\n",
      "Epoch 79/150\n",
      "\u001b[1m43/43\u001b[0m \u001b[32m━━━━━━━━━━━━━━━━━━━━\u001b[0m\u001b[37m\u001b[0m \u001b[1m13s\u001b[0m 294ms/step - direction_output_Precision: 0.8835 - direction_output_Recall: 0.8081 - direction_output_accuracy: 0.8443 - direction_output_auc_2: 0.9851 - distance_output_Precision: 0.9495 - distance_output_Recall: 0.9249 - distance_output_accuracy: 0.9367 - distance_output_auc_1: 0.9959 - gunshot_output_Precision: 0.9886 - gunshot_output_Recall: 0.9871 - gunshot_output_accuracy: 0.9871 - gunshot_output_auc: 0.9998 - loss: 0.5840 - val_direction_output_Precision: 0.7748 - val_direction_output_Recall: 0.6763 - val_direction_output_accuracy: 0.7254 - val_direction_output_auc_2: 0.9538 - val_distance_output_Precision: 0.9183 - val_distance_output_Recall: 0.8763 - val_distance_output_accuracy: 0.8932 - val_distance_output_auc_1: 0.9885 - val_gunshot_output_Precision: 0.9695 - val_gunshot_output_Recall: 0.9695 - val_gunshot_output_accuracy: 0.9695 - val_gunshot_output_auc: 0.9947 - val_loss: 1.1306\n",
      "Epoch 80/150\n",
      "\u001b[1m43/43\u001b[0m \u001b[32m━━━━━━━━━━━━━━━━━━━━\u001b[0m\u001b[37m\u001b[0m \u001b[1m22s\u001b[0m 316ms/step - direction_output_Precision: 0.8874 - direction_output_Recall: 0.8156 - direction_output_accuracy: 0.8524 - direction_output_auc_2: 0.9834 - distance_output_Precision: 0.9409 - distance_output_Recall: 0.9192 - distance_output_accuracy: 0.9323 - distance_output_auc_1: 0.9967 - gunshot_output_Precision: 0.9897 - gunshot_output_Recall: 0.9897 - gunshot_output_accuracy: 0.9897 - gunshot_output_auc: 0.9998 - loss: 0.5975 - val_direction_output_Precision: 0.7963 - val_direction_output_Recall: 0.6559 - val_direction_output_accuracy: 0.7237 - val_direction_output_auc_2: 0.9521 - val_distance_output_Precision: 0.9255 - val_distance_output_Recall: 0.8847 - val_distance_output_accuracy: 0.9034 - val_distance_output_auc_1: 0.9897 - val_gunshot_output_Precision: 0.9710 - val_gunshot_output_Recall: 0.9661 - val_gunshot_output_accuracy: 0.9661 - val_gunshot_output_auc: 0.9937 - val_loss: 1.1454\n",
      "Epoch 81/150\n",
      "\u001b[1m43/43\u001b[0m \u001b[32m━━━━━━━━━━━━━━━━━━━━\u001b[0m\u001b[37m\u001b[0m \u001b[1m15s\u001b[0m 359ms/step - direction_output_Precision: 0.9021 - direction_output_Recall: 0.8061 - direction_output_accuracy: 0.8537 - direction_output_auc_2: 0.9871 - distance_output_Precision: 0.9602 - distance_output_Recall: 0.9389 - distance_output_accuracy: 0.9436 - distance_output_auc_1: 0.9967 - gunshot_output_Precision: 0.9866 - gunshot_output_Recall: 0.9862 - gunshot_output_accuracy: 0.9864 - gunshot_output_auc: 0.9996 - loss: 0.5492 - val_direction_output_Precision: 0.7677 - val_direction_output_Recall: 0.6610 - val_direction_output_accuracy: 0.6949 - val_direction_output_auc_2: 0.9507 - val_distance_output_Precision: 0.9190 - val_distance_output_Recall: 0.8847 - val_distance_output_accuracy: 0.8949 - val_distance_output_auc_1: 0.9870 - val_gunshot_output_Precision: 0.9711 - val_gunshot_output_Recall: 0.9695 - val_gunshot_output_accuracy: 0.9695 - val_gunshot_output_auc: 0.9934 - val_loss: 1.1831\n",
      "Epoch 82/150\n",
      "\u001b[1m43/43\u001b[0m \u001b[32m━━━━━━━━━━━━━━━━━━━━\u001b[0m\u001b[37m\u001b[0m \u001b[1m14s\u001b[0m 319ms/step - direction_output_Precision: 0.8612 - direction_output_Recall: 0.7867 - direction_output_accuracy: 0.8203 - direction_output_auc_2: 0.9806 - distance_output_Precision: 0.9492 - distance_output_Recall: 0.9339 - distance_output_accuracy: 0.9400 - distance_output_auc_1: 0.9963 - gunshot_output_Precision: 0.9869 - gunshot_output_Recall: 0.9869 - gunshot_output_accuracy: 0.9869 - gunshot_output_auc: 0.9997 - loss: 0.6324 - val_direction_output_Precision: 0.7700 - val_direction_output_Recall: 0.6695 - val_direction_output_accuracy: 0.7153 - val_direction_output_auc_2: 0.9476 - val_distance_output_Precision: 0.9088 - val_distance_output_Recall: 0.8610 - val_distance_output_accuracy: 0.8797 - val_distance_output_auc_1: 0.9840 - val_gunshot_output_Precision: 0.9644 - val_gunshot_output_Recall: 0.9644 - val_gunshot_output_accuracy: 0.9644 - val_gunshot_output_auc: 0.9914 - val_loss: 1.2925\n",
      "Epoch 83/150\n",
      "\u001b[1m43/43\u001b[0m \u001b[32m━━━━━━━━━━━━━━━━━━━━\u001b[0m\u001b[37m\u001b[0m \u001b[1m14s\u001b[0m 322ms/step - direction_output_Precision: 0.8806 - direction_output_Recall: 0.8009 - direction_output_accuracy: 0.8391 - direction_output_auc_2: 0.9854 - distance_output_Precision: 0.9375 - distance_output_Recall: 0.9109 - distance_output_accuracy: 0.9240 - distance_output_auc_1: 0.9970 - gunshot_output_Precision: 0.9860 - gunshot_output_Recall: 0.9860 - gunshot_output_accuracy: 0.9860 - gunshot_output_auc: 0.9996 - loss: 0.5787 - val_direction_output_Precision: 0.7844 - val_direction_output_Recall: 0.6661 - val_direction_output_accuracy: 0.7102 - val_direction_output_auc_2: 0.9518 - val_distance_output_Precision: 0.9255 - val_distance_output_Recall: 0.8847 - val_distance_output_accuracy: 0.9051 - val_distance_output_auc_1: 0.9881 - val_gunshot_output_Precision: 0.9694 - val_gunshot_output_Recall: 0.9678 - val_gunshot_output_accuracy: 0.9695 - val_gunshot_output_auc: 0.9945 - val_loss: 1.1358\n",
      "Epoch 84/150\n",
      "\u001b[1m43/43\u001b[0m \u001b[32m━━━━━━━━━━━━━━━━━━━━\u001b[0m\u001b[37m\u001b[0m \u001b[1m14s\u001b[0m 323ms/step - direction_output_Precision: 0.8981 - direction_output_Recall: 0.7918 - direction_output_accuracy: 0.8359 - direction_output_auc_2: 0.9838 - distance_output_Precision: 0.9610 - distance_output_Recall: 0.9432 - distance_output_accuracy: 0.9545 - distance_output_auc_1: 0.9985 - gunshot_output_Precision: 0.9947 - gunshot_output_Recall: 0.9947 - gunshot_output_accuracy: 0.9947 - gunshot_output_auc: 0.9999 - loss: 0.5420 - val_direction_output_Precision: 0.7544 - val_direction_output_Recall: 0.6559 - val_direction_output_accuracy: 0.6983 - val_direction_output_auc_2: 0.9494 - val_distance_output_Precision: 0.9156 - val_distance_output_Recall: 0.8831 - val_distance_output_accuracy: 0.9017 - val_distance_output_auc_1: 0.9889 - val_gunshot_output_Precision: 0.9694 - val_gunshot_output_Recall: 0.9678 - val_gunshot_output_accuracy: 0.9678 - val_gunshot_output_auc: 0.9946 - val_loss: 1.1301\n",
      "Epoch 85/150\n",
      "\u001b[1m43/43\u001b[0m \u001b[32m━━━━━━━━━━━━━━━━━━━━\u001b[0m\u001b[37m\u001b[0m \u001b[1m28s\u001b[0m 503ms/step - direction_output_Precision: 0.8909 - direction_output_Recall: 0.8035 - direction_output_accuracy: 0.8535 - direction_output_auc_2: 0.9866 - distance_output_Precision: 0.9618 - distance_output_Recall: 0.9424 - distance_output_accuracy: 0.9533 - distance_output_auc_1: 0.9979 - gunshot_output_Precision: 0.9876 - gunshot_output_Recall: 0.9876 - gunshot_output_accuracy: 0.9876 - gunshot_output_auc: 0.9991 - loss: 0.5093 - val_direction_output_Precision: 0.7638 - val_direction_output_Recall: 0.6576 - val_direction_output_accuracy: 0.7153 - val_direction_output_auc_2: 0.9501 - val_distance_output_Precision: 0.9106 - val_distance_output_Recall: 0.8627 - val_distance_output_accuracy: 0.8763 - val_distance_output_auc_1: 0.9878 - val_gunshot_output_Precision: 0.9728 - val_gunshot_output_Recall: 0.9695 - val_gunshot_output_accuracy: 0.9712 - val_gunshot_output_auc: 0.9947 - val_loss: 1.1481\n",
      "Epoch 86/150\n",
      "\u001b[1m43/43\u001b[0m \u001b[32m━━━━━━━━━━━━━━━━━━━━\u001b[0m\u001b[37m\u001b[0m \u001b[1m14s\u001b[0m 317ms/step - direction_output_Precision: 0.8983 - direction_output_Recall: 0.8106 - direction_output_accuracy: 0.8605 - direction_output_auc_2: 0.9890 - distance_output_Precision: 0.9476 - distance_output_Recall: 0.9368 - distance_output_accuracy: 0.9419 - distance_output_auc_1: 0.9978 - gunshot_output_Precision: 0.9863 - gunshot_output_Recall: 0.9863 - gunshot_output_accuracy: 0.9863 - gunshot_output_auc: 0.9993 - loss: 0.5091 - val_direction_output_Precision: 0.7344 - val_direction_output_Recall: 0.6373 - val_direction_output_accuracy: 0.6864 - val_direction_output_auc_2: 0.9281 - val_distance_output_Precision: 0.9002 - val_distance_output_Recall: 0.8712 - val_distance_output_accuracy: 0.8898 - val_distance_output_auc_1: 0.9738 - val_gunshot_output_Precision: 0.9388 - val_gunshot_output_Recall: 0.9356 - val_gunshot_output_accuracy: 0.9373 - val_gunshot_output_auc: 0.9773 - val_loss: 1.8761\n",
      "Epoch 87/150\n",
      "\u001b[1m43/43\u001b[0m \u001b[32m━━━━━━━━━━━━━━━━━━━━\u001b[0m\u001b[37m\u001b[0m \u001b[1m14s\u001b[0m 316ms/step - direction_output_Precision: 0.8546 - direction_output_Recall: 0.7780 - direction_output_accuracy: 0.8222 - direction_output_auc_2: 0.9776 - distance_output_Precision: 0.9200 - distance_output_Recall: 0.8994 - distance_output_accuracy: 0.9126 - distance_output_auc_1: 0.9914 - gunshot_output_Precision: 0.9593 - gunshot_output_Recall: 0.9592 - gunshot_output_accuracy: 0.9592 - gunshot_output_auc: 0.9929 - loss: 0.8576 - val_direction_output_Precision: 0.7933 - val_direction_output_Recall: 0.6441 - val_direction_output_accuracy: 0.7153 - val_direction_output_auc_2: 0.9534 - val_distance_output_Precision: 0.9158 - val_distance_output_Recall: 0.8661 - val_distance_output_accuracy: 0.8932 - val_distance_output_auc_1: 0.9895 - val_gunshot_output_Precision: 0.9661 - val_gunshot_output_Recall: 0.9661 - val_gunshot_output_accuracy: 0.9661 - val_gunshot_output_auc: 0.9954 - val_loss: 1.0979\n",
      "Epoch 88/150\n",
      "\u001b[1m43/43\u001b[0m \u001b[32m━━━━━━━━━━━━━━━━━━━━\u001b[0m\u001b[37m\u001b[0m \u001b[1m14s\u001b[0m 314ms/step - direction_output_Precision: 0.8918 - direction_output_Recall: 0.7996 - direction_output_accuracy: 0.8439 - direction_output_auc_2: 0.9854 - distance_output_Precision: 0.9492 - distance_output_Recall: 0.9301 - distance_output_accuracy: 0.9365 - distance_output_auc_1: 0.9972 - gunshot_output_Precision: 0.9822 - gunshot_output_Recall: 0.9806 - gunshot_output_accuracy: 0.9817 - gunshot_output_auc: 0.9992 - loss: 0.5974 - val_direction_output_Precision: 0.7984 - val_direction_output_Recall: 0.6644 - val_direction_output_accuracy: 0.7254 - val_direction_output_auc_2: 0.9558 - val_distance_output_Precision: 0.9239 - val_distance_output_Recall: 0.8847 - val_distance_output_accuracy: 0.9000 - val_distance_output_auc_1: 0.9905 - val_gunshot_output_Precision: 0.9745 - val_gunshot_output_Recall: 0.9712 - val_gunshot_output_accuracy: 0.9746 - val_gunshot_output_auc: 0.9966 - val_loss: 1.0161\n",
      "Epoch 89/150\n",
      "\u001b[1m43/43\u001b[0m \u001b[32m━━━━━━━━━━━━━━━━━━━━\u001b[0m\u001b[37m\u001b[0m \u001b[1m14s\u001b[0m 313ms/step - direction_output_Precision: 0.8784 - direction_output_Recall: 0.8024 - direction_output_accuracy: 0.8358 - direction_output_auc_2: 0.9854 - distance_output_Precision: 0.9584 - distance_output_Recall: 0.9451 - distance_output_accuracy: 0.9500 - distance_output_auc_1: 0.9972 - gunshot_output_Precision: 0.9936 - gunshot_output_Recall: 0.9936 - gunshot_output_accuracy: 0.9936 - gunshot_output_auc: 0.9990 - loss: 0.5404 - val_direction_output_Precision: 0.7980 - val_direction_output_Recall: 0.6831 - val_direction_output_accuracy: 0.7305 - val_direction_output_auc_2: 0.9580 - val_distance_output_Precision: 0.9350 - val_distance_output_Recall: 0.9017 - val_distance_output_accuracy: 0.9186 - val_distance_output_auc_1: 0.9923 - val_gunshot_output_Precision: 0.9694 - val_gunshot_output_Recall: 0.9678 - val_gunshot_output_accuracy: 0.9678 - val_gunshot_output_auc: 0.9963 - val_loss: 0.9955\n",
      "Epoch 90/150\n",
      "\u001b[1m43/43\u001b[0m \u001b[32m━━━━━━━━━━━━━━━━━━━━\u001b[0m\u001b[37m\u001b[0m \u001b[1m15s\u001b[0m 331ms/step - direction_output_Precision: 0.9038 - direction_output_Recall: 0.8209 - direction_output_accuracy: 0.8676 - direction_output_auc_2: 0.9888 - distance_output_Precision: 0.9603 - distance_output_Recall: 0.9528 - distance_output_accuracy: 0.9569 - distance_output_auc_1: 0.9988 - gunshot_output_Precision: 0.9961 - gunshot_output_Recall: 0.9952 - gunshot_output_accuracy: 0.9960 - gunshot_output_auc: 1.0000 - loss: 0.4619 - val_direction_output_Precision: 0.7784 - val_direction_output_Recall: 0.6966 - val_direction_output_accuracy: 0.7373 - val_direction_output_auc_2: 0.9543 - val_distance_output_Precision: 0.9223 - val_distance_output_Recall: 0.8847 - val_distance_output_accuracy: 0.9017 - val_distance_output_auc_1: 0.9903 - val_gunshot_output_Precision: 0.9711 - val_gunshot_output_Recall: 0.9678 - val_gunshot_output_accuracy: 0.9678 - val_gunshot_output_auc: 0.9945 - val_loss: 1.1176\n",
      "Epoch 91/150\n",
      "\u001b[1m43/43\u001b[0m \u001b[32m━━━━━━━━━━━━━━━━━━━━\u001b[0m\u001b[37m\u001b[0m \u001b[1m12s\u001b[0m 289ms/step - direction_output_Precision: 0.8659 - direction_output_Recall: 0.7933 - direction_output_accuracy: 0.8335 - direction_output_auc_2: 0.9829 - distance_output_Precision: 0.9450 - distance_output_Recall: 0.9300 - distance_output_accuracy: 0.9352 - distance_output_auc_1: 0.9968 - gunshot_output_Precision: 0.9825 - gunshot_output_Recall: 0.9825 - gunshot_output_accuracy: 0.9825 - gunshot_output_auc: 0.9972 - loss: 0.6321 - val_direction_output_Precision: 0.7828 - val_direction_output_Recall: 0.6780 - val_direction_output_accuracy: 0.7305 - val_direction_output_auc_2: 0.9526 - val_distance_output_Precision: 0.9171 - val_distance_output_Recall: 0.8814 - val_distance_output_accuracy: 0.8983 - val_distance_output_auc_1: 0.9894 - val_gunshot_output_Precision: 0.9779 - val_gunshot_output_Recall: 0.9763 - val_gunshot_output_accuracy: 0.9763 - val_gunshot_output_auc: 0.9971 - val_loss: 1.1276\n",
      "Epoch 92/150\n",
      "\u001b[1m43/43\u001b[0m \u001b[32m━━━━━━━━━━━━━━━━━━━━\u001b[0m\u001b[37m\u001b[0m \u001b[1m13s\u001b[0m 292ms/step - direction_output_Precision: 0.9066 - direction_output_Recall: 0.8333 - direction_output_accuracy: 0.8638 - direction_output_auc_2: 0.9890 - distance_output_Precision: 0.9509 - distance_output_Recall: 0.9339 - distance_output_accuracy: 0.9444 - distance_output_auc_1: 0.9956 - gunshot_output_Precision: 0.9967 - gunshot_output_Recall: 0.9967 - gunshot_output_accuracy: 0.9967 - gunshot_output_auc: 1.0000 - loss: 0.4924 - val_direction_output_Precision: 0.7725 - val_direction_output_Recall: 0.6847 - val_direction_output_accuracy: 0.7305 - val_direction_output_auc_2: 0.9556 - val_distance_output_Precision: 0.9261 - val_distance_output_Recall: 0.8915 - val_distance_output_accuracy: 0.8983 - val_distance_output_auc_1: 0.9894 - val_gunshot_output_Precision: 0.9762 - val_gunshot_output_Recall: 0.9746 - val_gunshot_output_accuracy: 0.9746 - val_gunshot_output_auc: 0.9957 - val_loss: 1.0824\n",
      "Epoch 93/150\n",
      "\u001b[1m43/43\u001b[0m \u001b[32m━━━━━━━━━━━━━━━━━━━━\u001b[0m\u001b[37m\u001b[0m \u001b[1m21s\u001b[0m 292ms/step - direction_output_Precision: 0.8934 - direction_output_Recall: 0.8397 - direction_output_accuracy: 0.8593 - direction_output_auc_2: 0.9888 - distance_output_Precision: 0.9592 - distance_output_Recall: 0.9420 - distance_output_accuracy: 0.9511 - distance_output_auc_1: 0.9972 - gunshot_output_Precision: 0.9943 - gunshot_output_Recall: 0.9943 - gunshot_output_accuracy: 0.9943 - gunshot_output_auc: 0.9998 - loss: 0.4818 - val_direction_output_Precision: 0.7931 - val_direction_output_Recall: 0.7017 - val_direction_output_accuracy: 0.7458 - val_direction_output_auc_2: 0.9571 - val_distance_output_Precision: 0.9147 - val_distance_output_Recall: 0.8729 - val_distance_output_accuracy: 0.8949 - val_distance_output_auc_1: 0.9914 - val_gunshot_output_Precision: 0.9728 - val_gunshot_output_Recall: 0.9712 - val_gunshot_output_accuracy: 0.9712 - val_gunshot_output_auc: 0.9950 - val_loss: 1.0710\n",
      "Epoch 94/150\n",
      "\u001b[1m43/43\u001b[0m \u001b[32m━━━━━━━━━━━━━━━━━━━━\u001b[0m\u001b[37m\u001b[0m \u001b[1m14s\u001b[0m 316ms/step - direction_output_Precision: 0.9117 - direction_output_Recall: 0.8393 - direction_output_accuracy: 0.8719 - direction_output_auc_2: 0.9900 - distance_output_Precision: 0.9700 - distance_output_Recall: 0.9508 - distance_output_accuracy: 0.9639 - distance_output_auc_1: 0.9986 - gunshot_output_Precision: 0.9870 - gunshot_output_Recall: 0.9870 - gunshot_output_accuracy: 0.9870 - gunshot_output_auc: 0.9996 - loss: 0.4570 - val_direction_output_Precision: 0.7910 - val_direction_output_Recall: 0.7186 - val_direction_output_accuracy: 0.7475 - val_direction_output_auc_2: 0.9560 - val_distance_output_Precision: 0.9190 - val_distance_output_Recall: 0.8847 - val_distance_output_accuracy: 0.8966 - val_distance_output_auc_1: 0.9905 - val_gunshot_output_Precision: 0.9762 - val_gunshot_output_Recall: 0.9729 - val_gunshot_output_accuracy: 0.9746 - val_gunshot_output_auc: 0.9958 - val_loss: 1.0862\n",
      "Epoch 95/150\n",
      "\u001b[1m43/43\u001b[0m \u001b[32m━━━━━━━━━━━━━━━━━━━━\u001b[0m\u001b[37m\u001b[0m \u001b[1m20s\u001b[0m 473ms/step - direction_output_Precision: 0.9013 - direction_output_Recall: 0.8506 - direction_output_accuracy: 0.8723 - direction_output_auc_2: 0.9911 - distance_output_Precision: 0.9602 - distance_output_Recall: 0.9505 - distance_output_accuracy: 0.9532 - distance_output_auc_1: 0.9989 - gunshot_output_Precision: 0.9931 - gunshot_output_Recall: 0.9922 - gunshot_output_accuracy: 0.9931 - gunshot_output_auc: 0.9999 - loss: 0.4165 - val_direction_output_Precision: 0.7864 - val_direction_output_Recall: 0.7051 - val_direction_output_accuracy: 0.7390 - val_direction_output_auc_2: 0.9544 - val_distance_output_Precision: 0.9235 - val_distance_output_Recall: 0.9000 - val_distance_output_accuracy: 0.9068 - val_distance_output_auc_1: 0.9911 - val_gunshot_output_Precision: 0.9677 - val_gunshot_output_Recall: 0.9644 - val_gunshot_output_accuracy: 0.9661 - val_gunshot_output_auc: 0.9945 - val_loss: 1.0905\n",
      "Epoch 96/150\n",
      "\u001b[1m43/43\u001b[0m \u001b[32m━━━━━━━━━━━━━━━━━━━━\u001b[0m\u001b[37m\u001b[0m \u001b[1m14s\u001b[0m 318ms/step - direction_output_Precision: 0.8891 - direction_output_Recall: 0.8175 - direction_output_accuracy: 0.8555 - direction_output_auc_2: 0.9889 - distance_output_Precision: 0.9607 - distance_output_Recall: 0.9492 - distance_output_accuracy: 0.9516 - distance_output_auc_1: 0.9976 - gunshot_output_Precision: 0.9964 - gunshot_output_Recall: 0.9962 - gunshot_output_accuracy: 0.9964 - gunshot_output_auc: 0.9995 - loss: 0.4637 - val_direction_output_Precision: 0.7850 - val_direction_output_Recall: 0.6932 - val_direction_output_accuracy: 0.7237 - val_direction_output_auc_2: 0.9525 - val_distance_output_Precision: 0.9215 - val_distance_output_Recall: 0.8949 - val_distance_output_accuracy: 0.9119 - val_distance_output_auc_1: 0.9896 - val_gunshot_output_Precision: 0.9710 - val_gunshot_output_Recall: 0.9661 - val_gunshot_output_accuracy: 0.9695 - val_gunshot_output_auc: 0.9955 - val_loss: 1.1199\n",
      "Epoch 97/150\n",
      "\u001b[1m43/43\u001b[0m \u001b[32m━━━━━━━━━━━━━━━━━━━━\u001b[0m\u001b[37m\u001b[0m \u001b[1m20s\u001b[0m 470ms/step - direction_output_Precision: 0.8987 - direction_output_Recall: 0.8405 - direction_output_accuracy: 0.8750 - direction_output_auc_2: 0.9892 - distance_output_Precision: 0.9604 - distance_output_Recall: 0.9522 - distance_output_accuracy: 0.9549 - distance_output_auc_1: 0.9974 - gunshot_output_Precision: 0.9830 - gunshot_output_Recall: 0.9821 - gunshot_output_accuracy: 0.9821 - gunshot_output_auc: 0.9980 - loss: 0.4997 - val_direction_output_Precision: 0.7856 - val_direction_output_Recall: 0.7017 - val_direction_output_accuracy: 0.7441 - val_direction_output_auc_2: 0.9560 - val_distance_output_Precision: 0.9289 - val_distance_output_Recall: 0.9085 - val_distance_output_accuracy: 0.9153 - val_distance_output_auc_1: 0.9915 - val_gunshot_output_Precision: 0.9694 - val_gunshot_output_Recall: 0.9661 - val_gunshot_output_accuracy: 0.9678 - val_gunshot_output_auc: 0.9955 - val_loss: 1.0234\n",
      "Epoch 98/150\n",
      "\u001b[1m43/43\u001b[0m \u001b[32m━━━━━━━━━━━━━━━━━━━━\u001b[0m\u001b[37m\u001b[0m \u001b[1m19s\u001b[0m 428ms/step - direction_output_Precision: 0.9097 - direction_output_Recall: 0.8467 - direction_output_accuracy: 0.8757 - direction_output_auc_2: 0.9904 - distance_output_Precision: 0.9662 - distance_output_Recall: 0.9515 - distance_output_accuracy: 0.9640 - distance_output_auc_1: 0.9988 - gunshot_output_Precision: 0.9938 - gunshot_output_Recall: 0.9937 - gunshot_output_accuracy: 0.9937 - gunshot_output_auc: 0.9999 - loss: 0.4363 - val_direction_output_Precision: 0.7932 - val_direction_output_Recall: 0.7153 - val_direction_output_accuracy: 0.7407 - val_direction_output_auc_2: 0.9513 - val_distance_output_Precision: 0.9288 - val_distance_output_Recall: 0.9068 - val_distance_output_accuracy: 0.9186 - val_distance_output_auc_1: 0.9873 - val_gunshot_output_Precision: 0.9677 - val_gunshot_output_Recall: 0.9644 - val_gunshot_output_accuracy: 0.9661 - val_gunshot_output_auc: 0.9949 - val_loss: 1.1801\n",
      "Epoch 99/150\n",
      "\u001b[1m43/43\u001b[0m \u001b[32m━━━━━━━━━━━━━━━━━━━━\u001b[0m\u001b[37m\u001b[0m \u001b[1m19s\u001b[0m 431ms/step - direction_output_Precision: 0.9093 - direction_output_Recall: 0.8494 - direction_output_accuracy: 0.8807 - direction_output_auc_2: 0.9899 - distance_output_Precision: 0.9629 - distance_output_Recall: 0.9506 - distance_output_accuracy: 0.9578 - distance_output_auc_1: 0.9980 - gunshot_output_Precision: 0.9919 - gunshot_output_Recall: 0.9919 - gunshot_output_accuracy: 0.9919 - gunshot_output_auc: 0.9999 - loss: 0.4431 - val_direction_output_Precision: 0.7875 - val_direction_output_Recall: 0.7034 - val_direction_output_accuracy: 0.7525 - val_direction_output_auc_2: 0.9541 - val_distance_output_Precision: 0.9165 - val_distance_output_Recall: 0.8932 - val_distance_output_accuracy: 0.9051 - val_distance_output_auc_1: 0.9921 - val_gunshot_output_Precision: 0.9729 - val_gunshot_output_Recall: 0.9729 - val_gunshot_output_accuracy: 0.9729 - val_gunshot_output_auc: 0.9955 - val_loss: 1.0840\n",
      "Epoch 100/150\n",
      "\u001b[1m43/43\u001b[0m \u001b[32m━━━━━━━━━━━━━━━━━━━━\u001b[0m\u001b[37m\u001b[0m \u001b[1m15s\u001b[0m 349ms/step - direction_output_Precision: 0.9208 - direction_output_Recall: 0.8753 - direction_output_accuracy: 0.8952 - direction_output_auc_2: 0.9920 - distance_output_Precision: 0.9634 - distance_output_Recall: 0.9598 - distance_output_accuracy: 0.9616 - distance_output_auc_1: 0.9987 - gunshot_output_Precision: 0.9904 - gunshot_output_Recall: 0.9904 - gunshot_output_accuracy: 0.9904 - gunshot_output_auc: 0.9992 - loss: 0.4025 - val_direction_output_Precision: 0.8023 - val_direction_output_Recall: 0.7153 - val_direction_output_accuracy: 0.7525 - val_direction_output_auc_2: 0.9561 - val_distance_output_Precision: 0.9253 - val_distance_output_Recall: 0.9034 - val_distance_output_accuracy: 0.9068 - val_distance_output_auc_1: 0.9923 - val_gunshot_output_Precision: 0.9728 - val_gunshot_output_Recall: 0.9712 - val_gunshot_output_accuracy: 0.9729 - val_gunshot_output_auc: 0.9959 - val_loss: 1.0435\n",
      "Epoch 101/150\n",
      "\u001b[1m43/43\u001b[0m \u001b[32m━━━━━━━━━━━━━━━━━━━━\u001b[0m\u001b[37m\u001b[0m \u001b[1m14s\u001b[0m 325ms/step - direction_output_Precision: 0.9071 - direction_output_Recall: 0.8407 - direction_output_accuracy: 0.8730 - direction_output_auc_2: 0.9889 - distance_output_Precision: 0.9522 - distance_output_Recall: 0.9381 - distance_output_accuracy: 0.9474 - distance_output_auc_1: 0.9984 - gunshot_output_Precision: 0.9855 - gunshot_output_Recall: 0.9855 - gunshot_output_accuracy: 0.9855 - gunshot_output_auc: 0.9997 - loss: 0.4888 - val_direction_output_Precision: 0.7700 - val_direction_output_Recall: 0.6864 - val_direction_output_accuracy: 0.7407 - val_direction_output_auc_2: 0.9549 - val_distance_output_Precision: 0.9248 - val_distance_output_Recall: 0.8966 - val_distance_output_accuracy: 0.9051 - val_distance_output_auc_1: 0.9917 - val_gunshot_output_Precision: 0.9711 - val_gunshot_output_Recall: 0.9695 - val_gunshot_output_accuracy: 0.9712 - val_gunshot_output_auc: 0.9964 - val_loss: 1.0443\n",
      "Epoch 102/150\n",
      "\u001b[1m43/43\u001b[0m \u001b[32m━━━━━━━━━━━━━━━━━━━━\u001b[0m\u001b[37m\u001b[0m \u001b[1m16s\u001b[0m 374ms/step - direction_output_Precision: 0.9101 - direction_output_Recall: 0.8604 - direction_output_accuracy: 0.8896 - direction_output_auc_2: 0.9921 - distance_output_Precision: 0.9618 - distance_output_Recall: 0.9562 - distance_output_accuracy: 0.9565 - distance_output_auc_1: 0.9977 - gunshot_output_Precision: 0.9897 - gunshot_output_Recall: 0.9887 - gunshot_output_accuracy: 0.9897 - gunshot_output_auc: 0.9985 - loss: 0.4331 - val_direction_output_Precision: 0.7818 - val_direction_output_Recall: 0.6983 - val_direction_output_accuracy: 0.7271 - val_direction_output_auc_2: 0.9493 - val_distance_output_Precision: 0.9124 - val_distance_output_Recall: 0.8831 - val_distance_output_accuracy: 0.8898 - val_distance_output_auc_1: 0.9889 - val_gunshot_output_Precision: 0.9677 - val_gunshot_output_Recall: 0.9661 - val_gunshot_output_accuracy: 0.9661 - val_gunshot_output_auc: 0.9928 - val_loss: 1.2255\n",
      "Epoch 103/150\n",
      "\u001b[1m43/43\u001b[0m \u001b[32m━━━━━━━━━━━━━━━━━━━━\u001b[0m\u001b[37m\u001b[0m \u001b[1m14s\u001b[0m 320ms/step - direction_output_Precision: 0.9165 - direction_output_Recall: 0.8549 - direction_output_accuracy: 0.8849 - direction_output_auc_2: 0.9911 - distance_output_Precision: 0.9709 - distance_output_Recall: 0.9628 - distance_output_accuracy: 0.9669 - distance_output_auc_1: 0.9994 - gunshot_output_Precision: 0.9947 - gunshot_output_Recall: 0.9940 - gunshot_output_accuracy: 0.9947 - gunshot_output_auc: 0.9999 - loss: 0.3887 - val_direction_output_Precision: 0.7826 - val_direction_output_Recall: 0.7017 - val_direction_output_accuracy: 0.7322 - val_direction_output_auc_2: 0.9489 - val_distance_output_Precision: 0.9209 - val_distance_output_Recall: 0.8881 - val_distance_output_accuracy: 0.9068 - val_distance_output_auc_1: 0.9908 - val_gunshot_output_Precision: 0.9661 - val_gunshot_output_Recall: 0.9661 - val_gunshot_output_accuracy: 0.9661 - val_gunshot_output_auc: 0.9942 - val_loss: 1.1620\n",
      "Epoch 104/150\n",
      "\u001b[1m43/43\u001b[0m \u001b[32m━━━━━━━━━━━━━━━━━━━━\u001b[0m\u001b[37m\u001b[0m \u001b[1m12s\u001b[0m 285ms/step - direction_output_Precision: 0.9197 - direction_output_Recall: 0.8746 - direction_output_accuracy: 0.8943 - direction_output_auc_2: 0.9929 - distance_output_Precision: 0.9668 - distance_output_Recall: 0.9626 - distance_output_accuracy: 0.9635 - distance_output_auc_1: 0.9992 - gunshot_output_Precision: 0.9937 - gunshot_output_Recall: 0.9937 - gunshot_output_accuracy: 0.9937 - gunshot_output_auc: 0.9999 - loss: 0.3606 - val_direction_output_Precision: 0.7985 - val_direction_output_Recall: 0.7051 - val_direction_output_accuracy: 0.7458 - val_direction_output_auc_2: 0.9534 - val_distance_output_Precision: 0.9158 - val_distance_output_Recall: 0.8847 - val_distance_output_accuracy: 0.8983 - val_distance_output_auc_1: 0.9924 - val_gunshot_output_Precision: 0.9779 - val_gunshot_output_Recall: 0.9746 - val_gunshot_output_accuracy: 0.9746 - val_gunshot_output_auc: 0.9966 - val_loss: 1.0807\n",
      "Epoch 105/150\n",
      "\u001b[1m43/43\u001b[0m \u001b[32m━━━━━━━━━━━━━━━━━━━━\u001b[0m\u001b[37m\u001b[0m \u001b[1m13s\u001b[0m 290ms/step - direction_output_Precision: 0.9104 - direction_output_Recall: 0.8627 - direction_output_accuracy: 0.8863 - direction_output_auc_2: 0.9909 - distance_output_Precision: 0.9690 - distance_output_Recall: 0.9544 - distance_output_accuracy: 0.9639 - distance_output_auc_1: 0.9990 - gunshot_output_Precision: 0.9914 - gunshot_output_Recall: 0.9914 - gunshot_output_accuracy: 0.9914 - gunshot_output_auc: 0.9998 - loss: 0.4260 - val_direction_output_Precision: 0.7896 - val_direction_output_Recall: 0.7186 - val_direction_output_accuracy: 0.7475 - val_direction_output_auc_2: 0.9545 - val_distance_output_Precision: 0.9343 - val_distance_output_Recall: 0.9153 - val_distance_output_accuracy: 0.9237 - val_distance_output_auc_1: 0.9926 - val_gunshot_output_Precision: 0.9729 - val_gunshot_output_Recall: 0.9729 - val_gunshot_output_accuracy: 0.9729 - val_gunshot_output_auc: 0.9965 - val_loss: 1.0466\n",
      "Epoch 106/150\n",
      "\u001b[1m43/43\u001b[0m \u001b[32m━━━━━━━━━━━━━━━━━━━━\u001b[0m\u001b[37m\u001b[0m \u001b[1m13s\u001b[0m 295ms/step - direction_output_Precision: 0.9424 - direction_output_Recall: 0.8876 - direction_output_accuracy: 0.9199 - direction_output_auc_2: 0.9950 - distance_output_Precision: 0.9708 - distance_output_Recall: 0.9615 - distance_output_accuracy: 0.9667 - distance_output_auc_1: 0.9986 - gunshot_output_Precision: 0.9943 - gunshot_output_Recall: 0.9943 - gunshot_output_accuracy: 0.9943 - gunshot_output_auc: 0.9999 - loss: 0.3314 - val_direction_output_Precision: 0.7716 - val_direction_output_Recall: 0.7102 - val_direction_output_accuracy: 0.7356 - val_direction_output_auc_2: 0.9535 - val_distance_output_Precision: 0.9237 - val_distance_output_Recall: 0.9034 - val_distance_output_accuracy: 0.9136 - val_distance_output_auc_1: 0.9925 - val_gunshot_output_Precision: 0.9677 - val_gunshot_output_Recall: 0.9661 - val_gunshot_output_accuracy: 0.9661 - val_gunshot_output_auc: 0.9949 - val_loss: 1.0924\n",
      "Epoch 107/150\n",
      "\u001b[1m43/43\u001b[0m \u001b[32m━━━━━━━━━━━━━━━━━━━━\u001b[0m\u001b[37m\u001b[0m \u001b[1m12s\u001b[0m 284ms/step - direction_output_Precision: 0.9018 - direction_output_Recall: 0.8607 - direction_output_accuracy: 0.8823 - direction_output_auc_2: 0.9904 - distance_output_Precision: 0.9679 - distance_output_Recall: 0.9659 - distance_output_accuracy: 0.9670 - distance_output_auc_1: 0.9988 - gunshot_output_Precision: 0.9905 - gunshot_output_Recall: 0.9905 - gunshot_output_accuracy: 0.9905 - gunshot_output_auc: 0.9999 - loss: 0.3969 - val_direction_output_Precision: 0.7837 - val_direction_output_Recall: 0.7186 - val_direction_output_accuracy: 0.7373 - val_direction_output_auc_2: 0.9514 - val_distance_output_Precision: 0.9243 - val_distance_output_Recall: 0.8898 - val_distance_output_accuracy: 0.8949 - val_distance_output_auc_1: 0.9895 - val_gunshot_output_Precision: 0.9593 - val_gunshot_output_Recall: 0.9576 - val_gunshot_output_accuracy: 0.9576 - val_gunshot_output_auc: 0.9929 - val_loss: 1.2067\n",
      "Epoch 108/150\n",
      "\u001b[1m43/43\u001b[0m \u001b[32m━━━━━━━━━━━━━━━━━━━━\u001b[0m\u001b[37m\u001b[0m \u001b[1m15s\u001b[0m 343ms/step - direction_output_Precision: 0.8981 - direction_output_Recall: 0.8516 - direction_output_accuracy: 0.8741 - direction_output_auc_2: 0.9890 - distance_output_Precision: 0.9537 - distance_output_Recall: 0.9488 - distance_output_accuracy: 0.9521 - distance_output_auc_1: 0.9982 - gunshot_output_Precision: 0.9948 - gunshot_output_Recall: 0.9948 - gunshot_output_accuracy: 0.9948 - gunshot_output_auc: 0.9994 - loss: 0.4596 - val_direction_output_Precision: 0.7841 - val_direction_output_Recall: 0.7203 - val_direction_output_accuracy: 0.7441 - val_direction_output_auc_2: 0.9576 - val_distance_output_Precision: 0.9124 - val_distance_output_Recall: 0.9000 - val_distance_output_accuracy: 0.9017 - val_distance_output_auc_1: 0.9929 - val_gunshot_output_Precision: 0.9660 - val_gunshot_output_Recall: 0.9644 - val_gunshot_output_accuracy: 0.9644 - val_gunshot_output_auc: 0.9962 - val_loss: 1.0598\n",
      "Epoch 109/150\n",
      "\u001b[1m43/43\u001b[0m \u001b[32m━━━━━━━━━━━━━━━━━━━━\u001b[0m\u001b[37m\u001b[0m \u001b[1m14s\u001b[0m 321ms/step - direction_output_Precision: 0.9258 - direction_output_Recall: 0.8890 - direction_output_accuracy: 0.9004 - direction_output_auc_2: 0.9941 - distance_output_Precision: 0.9798 - distance_output_Recall: 0.9743 - distance_output_accuracy: 0.9765 - distance_output_auc_1: 0.9994 - gunshot_output_Precision: 0.9882 - gunshot_output_Recall: 0.9882 - gunshot_output_accuracy: 0.9882 - gunshot_output_auc: 0.9971 - loss: 0.3689 - val_direction_output_Precision: 0.7812 - val_direction_output_Recall: 0.7203 - val_direction_output_accuracy: 0.7475 - val_direction_output_auc_2: 0.9542 - val_distance_output_Precision: 0.9332 - val_distance_output_Recall: 0.9000 - val_distance_output_accuracy: 0.9119 - val_distance_output_auc_1: 0.9910 - val_gunshot_output_Precision: 0.9694 - val_gunshot_output_Recall: 0.9678 - val_gunshot_output_accuracy: 0.9678 - val_gunshot_output_auc: 0.9943 - val_loss: 1.1560\n",
      "Epoch 110/150\n",
      "\u001b[1m43/43\u001b[0m \u001b[32m━━━━━━━━━━━━━━━━━━━━\u001b[0m\u001b[37m\u001b[0m \u001b[1m15s\u001b[0m 334ms/step - direction_output_Precision: 0.9094 - direction_output_Recall: 0.8527 - direction_output_accuracy: 0.8800 - direction_output_auc_2: 0.9893 - distance_output_Precision: 0.9686 - distance_output_Recall: 0.9609 - distance_output_accuracy: 0.9653 - distance_output_auc_1: 0.9991 - gunshot_output_Precision: 0.9941 - gunshot_output_Recall: 0.9941 - gunshot_output_accuracy: 0.9941 - gunshot_output_auc: 0.9998 - loss: 0.4182 - val_direction_output_Precision: 0.7788 - val_direction_output_Recall: 0.7220 - val_direction_output_accuracy: 0.7492 - val_direction_output_auc_2: 0.9542 - val_distance_output_Precision: 0.9232 - val_distance_output_Recall: 0.8966 - val_distance_output_accuracy: 0.9136 - val_distance_output_auc_1: 0.9919 - val_gunshot_output_Precision: 0.9728 - val_gunshot_output_Recall: 0.9712 - val_gunshot_output_accuracy: 0.9729 - val_gunshot_output_auc: 0.9958 - val_loss: 1.1330\n",
      "Epoch 111/150\n",
      "\u001b[1m43/43\u001b[0m \u001b[32m━━━━━━━━━━━━━━━━━━━━\u001b[0m\u001b[37m\u001b[0m \u001b[1m15s\u001b[0m 350ms/step - direction_output_Precision: 0.9394 - direction_output_Recall: 0.9000 - direction_output_accuracy: 0.9263 - direction_output_auc_2: 0.9945 - distance_output_Precision: 0.9769 - distance_output_Recall: 0.9693 - distance_output_accuracy: 0.9732 - distance_output_auc_1: 0.9988 - gunshot_output_Precision: 0.9932 - gunshot_output_Recall: 0.9932 - gunshot_output_accuracy: 0.9932 - gunshot_output_auc: 0.9999 - loss: 0.3177 - val_direction_output_Precision: 0.7937 - val_direction_output_Recall: 0.7305 - val_direction_output_accuracy: 0.7610 - val_direction_output_auc_2: 0.9541 - val_distance_output_Precision: 0.9341 - val_distance_output_Recall: 0.9136 - val_distance_output_accuracy: 0.9153 - val_distance_output_auc_1: 0.9919 - val_gunshot_output_Precision: 0.9661 - val_gunshot_output_Recall: 0.9661 - val_gunshot_output_accuracy: 0.9661 - val_gunshot_output_auc: 0.9964 - val_loss: 1.1280\n",
      "Epoch 112/150\n",
      "\u001b[1m43/43\u001b[0m \u001b[32m━━━━━━━━━━━━━━━━━━━━\u001b[0m\u001b[37m\u001b[0m \u001b[1m14s\u001b[0m 327ms/step - direction_output_Precision: 0.9246 - direction_output_Recall: 0.8922 - direction_output_accuracy: 0.9057 - direction_output_auc_2: 0.9938 - distance_output_Precision: 0.9746 - distance_output_Recall: 0.9680 - distance_output_accuracy: 0.9695 - distance_output_auc_1: 0.9993 - gunshot_output_Precision: 0.9975 - gunshot_output_Recall: 0.9975 - gunshot_output_accuracy: 0.9975 - gunshot_output_auc: 1.0000 - loss: 0.3223 - val_direction_output_Precision: 0.7722 - val_direction_output_Recall: 0.7237 - val_direction_output_accuracy: 0.7542 - val_direction_output_auc_2: 0.9534 - val_distance_output_Precision: 0.9292 - val_distance_output_Recall: 0.9119 - val_distance_output_accuracy: 0.9220 - val_distance_output_auc_1: 0.9927 - val_gunshot_output_Precision: 0.9660 - val_gunshot_output_Recall: 0.9644 - val_gunshot_output_accuracy: 0.9644 - val_gunshot_output_auc: 0.9947 - val_loss: 1.1348\n",
      "Epoch 113/150\n",
      "\u001b[1m43/43\u001b[0m \u001b[32m━━━━━━━━━━━━━━━━━━━━\u001b[0m\u001b[37m\u001b[0m \u001b[1m15s\u001b[0m 343ms/step - direction_output_Precision: 0.9374 - direction_output_Recall: 0.9031 - direction_output_accuracy: 0.9208 - direction_output_auc_2: 0.9935 - distance_output_Precision: 0.9795 - distance_output_Recall: 0.9724 - distance_output_accuracy: 0.9742 - distance_output_auc_1: 0.9993 - gunshot_output_Precision: 0.9962 - gunshot_output_Recall: 0.9958 - gunshot_output_accuracy: 0.9958 - gunshot_output_auc: 1.0000 - loss: 0.3132 - val_direction_output_Precision: 0.7780 - val_direction_output_Recall: 0.7305 - val_direction_output_accuracy: 0.7508 - val_direction_output_auc_2: 0.9575 - val_distance_output_Precision: 0.9243 - val_distance_output_Recall: 0.9102 - val_distance_output_accuracy: 0.9186 - val_distance_output_auc_1: 0.9924 - val_gunshot_output_Precision: 0.9627 - val_gunshot_output_Recall: 0.9627 - val_gunshot_output_accuracy: 0.9627 - val_gunshot_output_auc: 0.9936 - val_loss: 1.0939\n",
      "Epoch 114/150\n",
      "\u001b[1m43/43\u001b[0m \u001b[32m━━━━━━━━━━━━━━━━━━━━\u001b[0m\u001b[37m\u001b[0m \u001b[1m15s\u001b[0m 350ms/step - direction_output_Precision: 0.9335 - direction_output_Recall: 0.9012 - direction_output_accuracy: 0.9147 - direction_output_auc_2: 0.9956 - distance_output_Precision: 0.9737 - distance_output_Recall: 0.9669 - distance_output_accuracy: 0.9698 - distance_output_auc_1: 0.9979 - gunshot_output_Precision: 0.9968 - gunshot_output_Recall: 0.9968 - gunshot_output_accuracy: 0.9968 - gunshot_output_auc: 1.0000 - loss: 0.3199 - val_direction_output_Precision: 0.7810 - val_direction_output_Recall: 0.7254 - val_direction_output_accuracy: 0.7559 - val_direction_output_auc_2: 0.9545 - val_distance_output_Precision: 0.9236 - val_distance_output_Recall: 0.9017 - val_distance_output_accuracy: 0.9153 - val_distance_output_auc_1: 0.9925 - val_gunshot_output_Precision: 0.9745 - val_gunshot_output_Recall: 0.9712 - val_gunshot_output_accuracy: 0.9729 - val_gunshot_output_auc: 0.9936 - val_loss: 1.1209\n",
      "Epoch 115/150\n",
      "\u001b[1m43/43\u001b[0m \u001b[32m━━━━━━━━━━━━━━━━━━━━\u001b[0m\u001b[37m\u001b[0m \u001b[1m13s\u001b[0m 299ms/step - direction_output_Precision: 0.9310 - direction_output_Recall: 0.8931 - direction_output_accuracy: 0.9117 - direction_output_auc_2: 0.9947 - distance_output_Precision: 0.9701 - distance_output_Recall: 0.9618 - distance_output_accuracy: 0.9629 - distance_output_auc_1: 0.9991 - gunshot_output_Precision: 0.9974 - gunshot_output_Recall: 0.9974 - gunshot_output_accuracy: 0.9974 - gunshot_output_auc: 0.9992 - loss: 0.3227 - val_direction_output_Precision: 0.7748 - val_direction_output_Recall: 0.7288 - val_direction_output_accuracy: 0.7475 - val_direction_output_auc_2: 0.9535 - val_distance_output_Precision: 0.9210 - val_distance_output_Recall: 0.9085 - val_distance_output_accuracy: 0.9119 - val_distance_output_auc_1: 0.9892 - val_gunshot_output_Precision: 0.9727 - val_gunshot_output_Recall: 0.9678 - val_gunshot_output_accuracy: 0.9695 - val_gunshot_output_auc: 0.9951 - val_loss: 1.1498\n",
      "Epoch 116/150\n",
      "\u001b[1m43/43\u001b[0m \u001b[32m━━━━━━━━━━━━━━━━━━━━\u001b[0m\u001b[37m\u001b[0m \u001b[1m13s\u001b[0m 309ms/step - direction_output_Precision: 0.9188 - direction_output_Recall: 0.8884 - direction_output_accuracy: 0.9034 - direction_output_auc_2: 0.9924 - distance_output_Precision: 0.9583 - distance_output_Recall: 0.9540 - distance_output_accuracy: 0.9563 - distance_output_auc_1: 0.9958 - gunshot_output_Precision: 0.9879 - gunshot_output_Recall: 0.9877 - gunshot_output_accuracy: 0.9879 - gunshot_output_auc: 0.9986 - loss: 0.4460 - val_direction_output_Precision: 0.7716 - val_direction_output_Recall: 0.7102 - val_direction_output_accuracy: 0.7271 - val_direction_output_auc_2: 0.9512 - val_distance_output_Precision: 0.9180 - val_distance_output_Recall: 0.8915 - val_distance_output_accuracy: 0.9051 - val_distance_output_auc_1: 0.9857 - val_gunshot_output_Precision: 0.9576 - val_gunshot_output_Recall: 0.9559 - val_gunshot_output_accuracy: 0.9559 - val_gunshot_output_auc: 0.9931 - val_loss: 1.2729\n",
      "Epoch 117/150\n",
      "\u001b[1m43/43\u001b[0m \u001b[32m━━━━━━━━━━━━━━━━━━━━\u001b[0m\u001b[37m\u001b[0m \u001b[1m12s\u001b[0m 290ms/step - direction_output_Precision: 0.9215 - direction_output_Recall: 0.8733 - direction_output_accuracy: 0.8988 - direction_output_auc_2: 0.9915 - distance_output_Precision: 0.9634 - distance_output_Recall: 0.9528 - distance_output_accuracy: 0.9576 - distance_output_auc_1: 0.9985 - gunshot_output_Precision: 0.9823 - gunshot_output_Recall: 0.9814 - gunshot_output_accuracy: 0.9821 - gunshot_output_auc: 0.9987 - loss: 0.4564 - val_direction_output_Precision: 0.8086 - val_direction_output_Recall: 0.7305 - val_direction_output_accuracy: 0.7695 - val_direction_output_auc_2: 0.9582 - val_distance_output_Precision: 0.9282 - val_distance_output_Recall: 0.8983 - val_distance_output_accuracy: 0.9136 - val_distance_output_auc_1: 0.9927 - val_gunshot_output_Precision: 0.9762 - val_gunshot_output_Recall: 0.9746 - val_gunshot_output_accuracy: 0.9746 - val_gunshot_output_auc: 0.9964 - val_loss: 1.0327\n",
      "Epoch 118/150\n",
      "\u001b[1m43/43\u001b[0m \u001b[32m━━━━━━━━━━━━━━━━━━━━\u001b[0m\u001b[37m\u001b[0m \u001b[1m13s\u001b[0m 302ms/step - direction_output_Precision: 0.9345 - direction_output_Recall: 0.8837 - direction_output_accuracy: 0.9089 - direction_output_auc_2: 0.9940 - distance_output_Precision: 0.9662 - distance_output_Recall: 0.9624 - distance_output_accuracy: 0.9656 - distance_output_auc_1: 0.9978 - gunshot_output_Precision: 0.9952 - gunshot_output_Recall: 0.9952 - gunshot_output_accuracy: 0.9952 - gunshot_output_auc: 0.9989 - loss: 0.3692 - val_direction_output_Precision: 0.7646 - val_direction_output_Recall: 0.7102 - val_direction_output_accuracy: 0.7339 - val_direction_output_auc_2: 0.9544 - val_distance_output_Precision: 0.8939 - val_distance_output_Recall: 0.8712 - val_distance_output_accuracy: 0.8763 - val_distance_output_auc_1: 0.9884 - val_gunshot_output_Precision: 0.9610 - val_gunshot_output_Recall: 0.9593 - val_gunshot_output_accuracy: 0.9593 - val_gunshot_output_auc: 0.9933 - val_loss: 1.2194\n",
      "Epoch 119/150\n",
      "\u001b[1m43/43\u001b[0m \u001b[32m━━━━━━━━━━━━━━━━━━━━\u001b[0m\u001b[37m\u001b[0m \u001b[1m14s\u001b[0m 325ms/step - direction_output_Precision: 0.9343 - direction_output_Recall: 0.8974 - direction_output_accuracy: 0.9225 - direction_output_auc_2: 0.9947 - distance_output_Precision: 0.9481 - distance_output_Recall: 0.9396 - distance_output_accuracy: 0.9451 - distance_output_auc_1: 0.9941 - gunshot_output_Precision: 0.9966 - gunshot_output_Recall: 0.9966 - gunshot_output_accuracy: 0.9966 - gunshot_output_auc: 1.0000 - loss: 0.4006 - val_direction_output_Precision: 0.7725 - val_direction_output_Recall: 0.7136 - val_direction_output_accuracy: 0.7322 - val_direction_output_auc_2: 0.9518 - val_distance_output_Precision: 0.9272 - val_distance_output_Recall: 0.9068 - val_distance_output_accuracy: 0.9136 - val_distance_output_auc_1: 0.9902 - val_gunshot_output_Precision: 0.9678 - val_gunshot_output_Recall: 0.9678 - val_gunshot_output_accuracy: 0.9678 - val_gunshot_output_auc: 0.9953 - val_loss: 1.1332\n",
      "Epoch 120/150\n",
      "\u001b[1m43/43\u001b[0m \u001b[32m━━━━━━━━━━━━━━━━━━━━\u001b[0m\u001b[37m\u001b[0m \u001b[1m13s\u001b[0m 310ms/step - direction_output_Precision: 0.9307 - direction_output_Recall: 0.8981 - direction_output_accuracy: 0.9152 - direction_output_auc_2: 0.9943 - distance_output_Precision: 0.9723 - distance_output_Recall: 0.9664 - distance_output_accuracy: 0.9703 - distance_output_auc_1: 0.9989 - gunshot_output_Precision: 0.9893 - gunshot_output_Recall: 0.9893 - gunshot_output_accuracy: 0.9893 - gunshot_output_auc: 0.9992 - loss: 0.3291 - val_direction_output_Precision: 0.7740 - val_direction_output_Recall: 0.7254 - val_direction_output_accuracy: 0.7441 - val_direction_output_auc_2: 0.9550 - val_distance_output_Precision: 0.9277 - val_distance_output_Recall: 0.9136 - val_distance_output_accuracy: 0.9203 - val_distance_output_auc_1: 0.9922 - val_gunshot_output_Precision: 0.9694 - val_gunshot_output_Recall: 0.9678 - val_gunshot_output_accuracy: 0.9678 - val_gunshot_output_auc: 0.9948 - val_loss: 1.1136\n",
      "Epoch 121/150\n",
      "\u001b[1m43/43\u001b[0m \u001b[32m━━━━━━━━━━━━━━━━━━━━\u001b[0m\u001b[37m\u001b[0m \u001b[1m14s\u001b[0m 324ms/step - direction_output_Precision: 0.9405 - direction_output_Recall: 0.9017 - direction_output_accuracy: 0.9249 - direction_output_auc_2: 0.9958 - distance_output_Precision: 0.9740 - distance_output_Recall: 0.9689 - distance_output_accuracy: 0.9716 - distance_output_auc_1: 0.9988 - gunshot_output_Precision: 0.9968 - gunshot_output_Recall: 0.9968 - gunshot_output_accuracy: 0.9968 - gunshot_output_auc: 1.0000 - loss: 0.2976 - val_direction_output_Precision: 0.7942 - val_direction_output_Recall: 0.7390 - val_direction_output_accuracy: 0.7695 - val_direction_output_auc_2: 0.9574 - val_distance_output_Precision: 0.9273 - val_distance_output_Recall: 0.9085 - val_distance_output_accuracy: 0.9153 - val_distance_output_auc_1: 0.9909 - val_gunshot_output_Precision: 0.9711 - val_gunshot_output_Recall: 0.9695 - val_gunshot_output_accuracy: 0.9695 - val_gunshot_output_auc: 0.9949 - val_loss: 1.0811\n",
      "Epoch 122/150\n",
      "\u001b[1m43/43\u001b[0m \u001b[32m━━━━━━━━━━━━━━━━━━━━\u001b[0m\u001b[37m\u001b[0m \u001b[1m14s\u001b[0m 327ms/step - direction_output_Precision: 0.9391 - direction_output_Recall: 0.9082 - direction_output_accuracy: 0.9234 - direction_output_auc_2: 0.9964 - distance_output_Precision: 0.9826 - distance_output_Recall: 0.9812 - distance_output_accuracy: 0.9813 - distance_output_auc_1: 0.9991 - gunshot_output_Precision: 0.9943 - gunshot_output_Recall: 0.9943 - gunshot_output_accuracy: 0.9943 - gunshot_output_auc: 1.0000 - loss: 0.2576 - val_direction_output_Precision: 0.7882 - val_direction_output_Recall: 0.7254 - val_direction_output_accuracy: 0.7424 - val_direction_output_auc_2: 0.9537 - val_distance_output_Precision: 0.9338 - val_distance_output_Recall: 0.9085 - val_distance_output_accuracy: 0.9220 - val_distance_output_auc_1: 0.9891 - val_gunshot_output_Precision: 0.9728 - val_gunshot_output_Recall: 0.9712 - val_gunshot_output_accuracy: 0.9729 - val_gunshot_output_auc: 0.9925 - val_loss: 1.1526\n",
      "Epoch 123/150\n",
      "\u001b[1m43/43\u001b[0m \u001b[32m━━━━━━━━━━━━━━━━━━━━\u001b[0m\u001b[37m\u001b[0m \u001b[1m16s\u001b[0m 374ms/step - direction_output_Precision: 0.9501 - direction_output_Recall: 0.9180 - direction_output_accuracy: 0.9316 - direction_output_auc_2: 0.9968 - distance_output_Precision: 0.9816 - distance_output_Recall: 0.9751 - distance_output_accuracy: 0.9770 - distance_output_auc_1: 0.9997 - gunshot_output_Precision: 0.9939 - gunshot_output_Recall: 0.9928 - gunshot_output_accuracy: 0.9928 - gunshot_output_auc: 0.9997 - loss: 0.2504 - val_direction_output_Precision: 0.7717 - val_direction_output_Recall: 0.7220 - val_direction_output_accuracy: 0.7356 - val_direction_output_auc_2: 0.9465 - val_distance_output_Precision: 0.9066 - val_distance_output_Recall: 0.8881 - val_distance_output_accuracy: 0.8949 - val_distance_output_auc_1: 0.9857 - val_gunshot_output_Precision: 0.9660 - val_gunshot_output_Recall: 0.9644 - val_gunshot_output_accuracy: 0.9644 - val_gunshot_output_auc: 0.9889 - val_loss: 1.3722\n",
      "Epoch 124/150\n",
      "\u001b[1m43/43\u001b[0m \u001b[32m━━━━━━━━━━━━━━━━━━━━\u001b[0m\u001b[37m\u001b[0m \u001b[1m14s\u001b[0m 323ms/step - direction_output_Precision: 0.9268 - direction_output_Recall: 0.9031 - direction_output_accuracy: 0.9168 - direction_output_auc_2: 0.9936 - distance_output_Precision: 0.9749 - distance_output_Recall: 0.9729 - distance_output_accuracy: 0.9744 - distance_output_auc_1: 0.9977 - gunshot_output_Precision: 0.9967 - gunshot_output_Recall: 0.9967 - gunshot_output_accuracy: 0.9967 - gunshot_output_auc: 0.9998 - loss: 0.3210 - val_direction_output_Precision: 0.7604 - val_direction_output_Recall: 0.7153 - val_direction_output_accuracy: 0.7390 - val_direction_output_auc_2: 0.9438 - val_distance_output_Precision: 0.9085 - val_distance_output_Recall: 0.8915 - val_distance_output_accuracy: 0.8966 - val_distance_output_auc_1: 0.9839 - val_gunshot_output_Precision: 0.9542 - val_gunshot_output_Recall: 0.9525 - val_gunshot_output_accuracy: 0.9542 - val_gunshot_output_auc: 0.9883 - val_loss: 1.4623\n",
      "Epoch 125/150\n",
      "\u001b[1m43/43\u001b[0m \u001b[32m━━━━━━━━━━━━━━━━━━━━\u001b[0m\u001b[37m\u001b[0m \u001b[1m14s\u001b[0m 320ms/step - direction_output_Precision: 0.9178 - direction_output_Recall: 0.8869 - direction_output_accuracy: 0.8994 - direction_output_auc_2: 0.9927 - distance_output_Precision: 0.9736 - distance_output_Recall: 0.9661 - distance_output_accuracy: 0.9689 - distance_output_auc_1: 0.9978 - gunshot_output_Precision: 0.9885 - gunshot_output_Recall: 0.9885 - gunshot_output_accuracy: 0.9885 - gunshot_output_auc: 0.9983 - loss: 0.3956 - val_direction_output_Precision: 0.7717 - val_direction_output_Recall: 0.7220 - val_direction_output_accuracy: 0.7356 - val_direction_output_auc_2: 0.9510 - val_distance_output_Precision: 0.9014 - val_distance_output_Recall: 0.8831 - val_distance_output_accuracy: 0.8881 - val_distance_output_auc_1: 0.9873 - val_gunshot_output_Precision: 0.9643 - val_gunshot_output_Recall: 0.9610 - val_gunshot_output_accuracy: 0.9627 - val_gunshot_output_auc: 0.9935 - val_loss: 1.2574\n",
      "Epoch 126/150\n",
      "\u001b[1m43/43\u001b[0m \u001b[32m━━━━━━━━━━━━━━━━━━━━\u001b[0m\u001b[37m\u001b[0m \u001b[1m14s\u001b[0m 322ms/step - direction_output_Precision: 0.9266 - direction_output_Recall: 0.9009 - direction_output_accuracy: 0.9149 - direction_output_auc_2: 0.9949 - distance_output_Precision: 0.9641 - distance_output_Recall: 0.9489 - distance_output_accuracy: 0.9520 - distance_output_auc_1: 0.9977 - gunshot_output_Precision: 0.9971 - gunshot_output_Recall: 0.9971 - gunshot_output_accuracy: 0.9971 - gunshot_output_auc: 0.9999 - loss: 0.3570 - val_direction_output_Precision: 0.7770 - val_direction_output_Recall: 0.7322 - val_direction_output_accuracy: 0.7559 - val_direction_output_auc_2: 0.9499 - val_distance_output_Precision: 0.9122 - val_distance_output_Recall: 0.8983 - val_distance_output_accuracy: 0.9034 - val_distance_output_auc_1: 0.9885 - val_gunshot_output_Precision: 0.9762 - val_gunshot_output_Recall: 0.9729 - val_gunshot_output_accuracy: 0.9763 - val_gunshot_output_auc: 0.9915 - val_loss: 1.2339\n",
      "Epoch 127/150\n",
      "\u001b[1m43/43\u001b[0m \u001b[32m━━━━━━━━━━━━━━━━━━━━\u001b[0m\u001b[37m\u001b[0m \u001b[1m14s\u001b[0m 324ms/step - direction_output_Precision: 0.9407 - direction_output_Recall: 0.9175 - direction_output_accuracy: 0.9265 - direction_output_auc_2: 0.9954 - distance_output_Precision: 0.9764 - distance_output_Recall: 0.9728 - distance_output_accuracy: 0.9743 - distance_output_auc_1: 0.9994 - gunshot_output_Precision: 0.9952 - gunshot_output_Recall: 0.9952 - gunshot_output_accuracy: 0.9952 - gunshot_output_auc: 0.9999 - loss: 0.2983 - val_direction_output_Precision: 0.7828 - val_direction_output_Recall: 0.7390 - val_direction_output_accuracy: 0.7593 - val_direction_output_auc_2: 0.9511 - val_distance_output_Precision: 0.9158 - val_distance_output_Recall: 0.9034 - val_distance_output_accuracy: 0.9085 - val_distance_output_auc_1: 0.9905 - val_gunshot_output_Precision: 0.9729 - val_gunshot_output_Recall: 0.9729 - val_gunshot_output_accuracy: 0.9729 - val_gunshot_output_auc: 0.9915 - val_loss: 1.1917\n",
      "Epoch 128/150\n",
      "\u001b[1m43/43\u001b[0m \u001b[32m━━━━━━━━━━━━━━━━━━━━\u001b[0m\u001b[37m\u001b[0m \u001b[1m14s\u001b[0m 333ms/step - direction_output_Precision: 0.9444 - direction_output_Recall: 0.9209 - direction_output_accuracy: 0.9318 - direction_output_auc_2: 0.9959 - distance_output_Precision: 0.9836 - distance_output_Recall: 0.9821 - distance_output_accuracy: 0.9825 - distance_output_auc_1: 0.9994 - gunshot_output_Precision: 0.9984 - gunshot_output_Recall: 0.9984 - gunshot_output_accuracy: 0.9984 - gunshot_output_auc: 1.0000 - loss: 0.2388 - val_direction_output_Precision: 0.7726 - val_direction_output_Recall: 0.7254 - val_direction_output_accuracy: 0.7492 - val_direction_output_auc_2: 0.9464 - val_distance_output_Precision: 0.9033 - val_distance_output_Recall: 0.8864 - val_distance_output_accuracy: 0.8898 - val_distance_output_auc_1: 0.9868 - val_gunshot_output_Precision: 0.9745 - val_gunshot_output_Recall: 0.9712 - val_gunshot_output_accuracy: 0.9712 - val_gunshot_output_auc: 0.9917 - val_loss: 1.2962\n",
      "Epoch 129/150\n",
      "\u001b[1m43/43\u001b[0m \u001b[32m━━━━━━━━━━━━━━━━━━━━\u001b[0m\u001b[37m\u001b[0m \u001b[1m18s\u001b[0m 414ms/step - direction_output_Precision: 0.9451 - direction_output_Recall: 0.9226 - direction_output_accuracy: 0.9358 - direction_output_auc_2: 0.9955 - distance_output_Precision: 0.9766 - distance_output_Recall: 0.9721 - distance_output_accuracy: 0.9764 - distance_output_auc_1: 0.9987 - gunshot_output_Precision: 0.9986 - gunshot_output_Recall: 0.9969 - gunshot_output_accuracy: 0.9969 - gunshot_output_auc: 1.0000 - loss: 0.2771 - val_direction_output_Precision: 0.7762 - val_direction_output_Recall: 0.7288 - val_direction_output_accuracy: 0.7441 - val_direction_output_auc_2: 0.9515 - val_distance_output_Precision: 0.9245 - val_distance_output_Recall: 0.9136 - val_distance_output_accuracy: 0.9153 - val_distance_output_auc_1: 0.9914 - val_gunshot_output_Precision: 0.9762 - val_gunshot_output_Recall: 0.9746 - val_gunshot_output_accuracy: 0.9746 - val_gunshot_output_auc: 0.9921 - val_loss: 1.2201\n",
      "Epoch 130/150\n",
      "\u001b[1m43/43\u001b[0m \u001b[32m━━━━━━━━━━━━━━━━━━━━\u001b[0m\u001b[37m\u001b[0m \u001b[1m14s\u001b[0m 324ms/step - direction_output_Precision: 0.9327 - direction_output_Recall: 0.9019 - direction_output_accuracy: 0.9178 - direction_output_auc_2: 0.9954 - distance_output_Precision: 0.9763 - distance_output_Recall: 0.9741 - distance_output_accuracy: 0.9745 - distance_output_auc_1: 0.9985 - gunshot_output_Precision: 0.9963 - gunshot_output_Recall: 0.9963 - gunshot_output_accuracy: 0.9963 - gunshot_output_auc: 1.0000 - loss: 0.2969 - val_direction_output_Precision: 0.7625 - val_direction_output_Recall: 0.7237 - val_direction_output_accuracy: 0.7458 - val_direction_output_auc_2: 0.9512 - val_distance_output_Precision: 0.9308 - val_distance_output_Recall: 0.9119 - val_distance_output_accuracy: 0.9220 - val_distance_output_auc_1: 0.9897 - val_gunshot_output_Precision: 0.9695 - val_gunshot_output_Recall: 0.9695 - val_gunshot_output_accuracy: 0.9695 - val_gunshot_output_auc: 0.9927 - val_loss: 1.2283\n",
      "Epoch 131/150\n",
      "\u001b[1m43/43\u001b[0m \u001b[32m━━━━━━━━━━━━━━━━━━━━\u001b[0m\u001b[37m\u001b[0m \u001b[1m16s\u001b[0m 364ms/step - direction_output_Precision: 0.9418 - direction_output_Recall: 0.9176 - direction_output_accuracy: 0.9314 - direction_output_auc_2: 0.9950 - distance_output_Precision: 0.9733 - distance_output_Recall: 0.9715 - distance_output_accuracy: 0.9731 - distance_output_auc_1: 0.9974 - gunshot_output_Precision: 0.9869 - gunshot_output_Recall: 0.9865 - gunshot_output_accuracy: 0.9865 - gunshot_output_auc: 0.9992 - loss: 0.3144 - val_direction_output_Precision: 0.7518 - val_direction_output_Recall: 0.7034 - val_direction_output_accuracy: 0.7271 - val_direction_output_auc_2: 0.9447 - val_distance_output_Precision: 0.8893 - val_distance_output_Recall: 0.8712 - val_distance_output_accuracy: 0.8780 - val_distance_output_auc_1: 0.9827 - val_gunshot_output_Precision: 0.9558 - val_gunshot_output_Recall: 0.9525 - val_gunshot_output_accuracy: 0.9542 - val_gunshot_output_auc: 0.9860 - val_loss: 1.5142\n",
      "Epoch 132/150\n",
      "\u001b[1m43/43\u001b[0m \u001b[32m━━━━━━━━━━━━━━━━━━━━\u001b[0m\u001b[37m\u001b[0m \u001b[1m12s\u001b[0m 286ms/step - direction_output_Precision: 0.9271 - direction_output_Recall: 0.8937 - direction_output_accuracy: 0.9164 - direction_output_auc_2: 0.9931 - distance_output_Precision: 0.9756 - distance_output_Recall: 0.9696 - distance_output_accuracy: 0.9724 - distance_output_auc_1: 0.9994 - gunshot_output_Precision: 0.9930 - gunshot_output_Recall: 0.9907 - gunshot_output_accuracy: 0.9921 - gunshot_output_auc: 0.9974 - loss: 0.3490 - val_direction_output_Precision: 0.7584 - val_direction_output_Recall: 0.7288 - val_direction_output_accuracy: 0.7441 - val_direction_output_auc_2: 0.9479 - val_distance_output_Precision: 0.9270 - val_distance_output_Recall: 0.9034 - val_distance_output_accuracy: 0.9085 - val_distance_output_auc_1: 0.9906 - val_gunshot_output_Precision: 0.9694 - val_gunshot_output_Recall: 0.9678 - val_gunshot_output_accuracy: 0.9678 - val_gunshot_output_auc: 0.9920 - val_loss: 1.2477\n",
      "Epoch 133/150\n",
      "\u001b[1m43/43\u001b[0m \u001b[32m━━━━━━━━━━━━━━━━━━━━\u001b[0m\u001b[37m\u001b[0m \u001b[1m12s\u001b[0m 276ms/step - direction_output_Precision: 0.9500 - direction_output_Recall: 0.9121 - direction_output_accuracy: 0.9282 - direction_output_auc_2: 0.9963 - distance_output_Precision: 0.9717 - distance_output_Recall: 0.9695 - distance_output_accuracy: 0.9699 - distance_output_auc_1: 0.9995 - gunshot_output_Precision: 0.9989 - gunshot_output_Recall: 0.9989 - gunshot_output_accuracy: 0.9989 - gunshot_output_auc: 1.0000 - loss: 0.2554 - val_direction_output_Precision: 0.7703 - val_direction_output_Recall: 0.7390 - val_direction_output_accuracy: 0.7475 - val_direction_output_auc_2: 0.9514 - val_distance_output_Precision: 0.9224 - val_distance_output_Recall: 0.9068 - val_distance_output_accuracy: 0.9136 - val_distance_output_auc_1: 0.9904 - val_gunshot_output_Precision: 0.9779 - val_gunshot_output_Recall: 0.9746 - val_gunshot_output_accuracy: 0.9763 - val_gunshot_output_auc: 0.9952 - val_loss: 1.2188\n",
      "Epoch 134/150\n",
      "\u001b[1m43/43\u001b[0m \u001b[32m━━━━━━━━━━━━━━━━━━━━\u001b[0m\u001b[37m\u001b[0m \u001b[1m12s\u001b[0m 286ms/step - direction_output_Precision: 0.9298 - direction_output_Recall: 0.9086 - direction_output_accuracy: 0.9174 - direction_output_auc_2: 0.9949 - distance_output_Precision: 0.9881 - distance_output_Recall: 0.9861 - distance_output_accuracy: 0.9867 - distance_output_auc_1: 0.9989 - gunshot_output_Precision: 0.9907 - gunshot_output_Recall: 0.9907 - gunshot_output_accuracy: 0.9907 - gunshot_output_auc: 0.9993 - loss: 0.2767 - val_direction_output_Precision: 0.7740 - val_direction_output_Recall: 0.7254 - val_direction_output_accuracy: 0.7390 - val_direction_output_auc_2: 0.9481 - val_distance_output_Precision: 0.9240 - val_distance_output_Recall: 0.9068 - val_distance_output_accuracy: 0.9169 - val_distance_output_auc_1: 0.9901 - val_gunshot_output_Precision: 0.9728 - val_gunshot_output_Recall: 0.9695 - val_gunshot_output_accuracy: 0.9712 - val_gunshot_output_auc: 0.9927 - val_loss: 1.2809\n",
      "Epoch 135/150\n",
      "\u001b[1m43/43\u001b[0m \u001b[32m━━━━━━━━━━━━━━━━━━━━\u001b[0m\u001b[37m\u001b[0m \u001b[1m14s\u001b[0m 332ms/step - direction_output_Precision: 0.9334 - direction_output_Recall: 0.9098 - direction_output_accuracy: 0.9307 - direction_output_auc_2: 0.9963 - distance_output_Precision: 0.9840 - distance_output_Recall: 0.9820 - distance_output_accuracy: 0.9840 - distance_output_auc_1: 0.9993 - gunshot_output_Precision: 0.9969 - gunshot_output_Recall: 0.9969 - gunshot_output_accuracy: 0.9969 - gunshot_output_auc: 0.9999 - loss: 0.2418 - val_direction_output_Precision: 0.7770 - val_direction_output_Recall: 0.7322 - val_direction_output_accuracy: 0.7441 - val_direction_output_auc_2: 0.9472 - val_distance_output_Precision: 0.9322 - val_distance_output_Recall: 0.9085 - val_distance_output_accuracy: 0.9169 - val_distance_output_auc_1: 0.9900 - val_gunshot_output_Precision: 0.9660 - val_gunshot_output_Recall: 0.9644 - val_gunshot_output_accuracy: 0.9644 - val_gunshot_output_auc: 0.9924 - val_loss: 1.2849\n",
      "Epoch 136/150\n",
      "\u001b[1m43/43\u001b[0m \u001b[32m━━━━━━━━━━━━━━━━━━━━\u001b[0m\u001b[37m\u001b[0m \u001b[1m16s\u001b[0m 366ms/step - direction_output_Precision: 0.9363 - direction_output_Recall: 0.9089 - direction_output_accuracy: 0.9268 - direction_output_auc_2: 0.9964 - distance_output_Precision: 0.9843 - distance_output_Recall: 0.9789 - distance_output_accuracy: 0.9839 - distance_output_auc_1: 0.9977 - gunshot_output_Precision: 0.9933 - gunshot_output_Recall: 0.9933 - gunshot_output_accuracy: 0.9933 - gunshot_output_auc: 0.9998 - loss: 0.2865 - val_direction_output_Precision: 0.7744 - val_direction_output_Recall: 0.7390 - val_direction_output_accuracy: 0.7475 - val_direction_output_auc_2: 0.9535 - val_distance_output_Precision: 0.9141 - val_distance_output_Recall: 0.9017 - val_distance_output_accuracy: 0.9068 - val_distance_output_auc_1: 0.9896 - val_gunshot_output_Precision: 0.9745 - val_gunshot_output_Recall: 0.9712 - val_gunshot_output_accuracy: 0.9712 - val_gunshot_output_auc: 0.9954 - val_loss: 1.2144\n",
      "Epoch 137/150\n",
      "\u001b[1m43/43\u001b[0m \u001b[32m━━━━━━━━━━━━━━━━━━━━\u001b[0m\u001b[37m\u001b[0m \u001b[1m15s\u001b[0m 346ms/step - direction_output_Precision: 0.9571 - direction_output_Recall: 0.9356 - direction_output_accuracy: 0.9471 - direction_output_auc_2: 0.9977 - distance_output_Precision: 0.9790 - distance_output_Recall: 0.9763 - distance_output_accuracy: 0.9775 - distance_output_auc_1: 0.9996 - gunshot_output_Precision: 0.9966 - gunshot_output_Recall: 0.9966 - gunshot_output_accuracy: 0.9966 - gunshot_output_auc: 0.9999 - loss: 0.2220 - val_direction_output_Precision: 0.7661 - val_direction_output_Recall: 0.7271 - val_direction_output_accuracy: 0.7492 - val_direction_output_auc_2: 0.9469 - val_distance_output_Precision: 0.9113 - val_distance_output_Recall: 0.8881 - val_distance_output_accuracy: 0.8949 - val_distance_output_auc_1: 0.9863 - val_gunshot_output_Precision: 0.9694 - val_gunshot_output_Recall: 0.9661 - val_gunshot_output_accuracy: 0.9678 - val_gunshot_output_auc: 0.9964 - val_loss: 1.3114\n",
      "Epoch 138/150\n",
      "\u001b[1m43/43\u001b[0m \u001b[32m━━━━━━━━━━━━━━━━━━━━\u001b[0m\u001b[37m\u001b[0m \u001b[1m16s\u001b[0m 371ms/step - direction_output_Precision: 0.9489 - direction_output_Recall: 0.9324 - direction_output_accuracy: 0.9369 - direction_output_auc_2: 0.9963 - distance_output_Precision: 0.9841 - distance_output_Recall: 0.9805 - distance_output_accuracy: 0.9828 - distance_output_auc_1: 0.9995 - gunshot_output_Precision: 0.9968 - gunshot_output_Recall: 0.9968 - gunshot_output_accuracy: 0.9968 - gunshot_output_auc: 1.0000 - loss: 0.2556 - val_direction_output_Precision: 0.7584 - val_direction_output_Recall: 0.7288 - val_direction_output_accuracy: 0.7390 - val_direction_output_auc_2: 0.9469 - val_distance_output_Precision: 0.9158 - val_distance_output_Recall: 0.9034 - val_distance_output_accuracy: 0.9068 - val_distance_output_auc_1: 0.9918 - val_gunshot_output_Precision: 0.9677 - val_gunshot_output_Recall: 0.9661 - val_gunshot_output_accuracy: 0.9661 - val_gunshot_output_auc: 0.9948 - val_loss: 1.2904\n",
      "Epoch 139/150\n",
      "\u001b[1m43/43\u001b[0m \u001b[32m━━━━━━━━━━━━━━━━━━━━\u001b[0m\u001b[37m\u001b[0m \u001b[1m15s\u001b[0m 353ms/step - direction_output_Precision: 0.9401 - direction_output_Recall: 0.9199 - direction_output_accuracy: 0.9269 - direction_output_auc_2: 0.9964 - distance_output_Precision: 0.9800 - distance_output_Recall: 0.9746 - distance_output_accuracy: 0.9746 - distance_output_auc_1: 0.9996 - gunshot_output_Precision: 0.9976 - gunshot_output_Recall: 0.9976 - gunshot_output_accuracy: 0.9976 - gunshot_output_auc: 1.0000 - loss: 0.2526 - val_direction_output_Precision: 0.7711 - val_direction_output_Recall: 0.7424 - val_direction_output_accuracy: 0.7475 - val_direction_output_auc_2: 0.9447 - val_distance_output_Precision: 0.9259 - val_distance_output_Recall: 0.9102 - val_distance_output_accuracy: 0.9153 - val_distance_output_auc_1: 0.9889 - val_gunshot_output_Precision: 0.9729 - val_gunshot_output_Recall: 0.9729 - val_gunshot_output_accuracy: 0.9729 - val_gunshot_output_auc: 0.9940 - val_loss: 1.3142\n",
      "Epoch 140/150\n",
      "\u001b[1m43/43\u001b[0m \u001b[32m━━━━━━━━━━━━━━━━━━━━\u001b[0m\u001b[37m\u001b[0m \u001b[1m15s\u001b[0m 337ms/step - direction_output_Precision: 0.9598 - direction_output_Recall: 0.9436 - direction_output_accuracy: 0.9468 - direction_output_auc_2: 0.9978 - distance_output_Precision: 0.9869 - distance_output_Recall: 0.9787 - distance_output_accuracy: 0.9817 - distance_output_auc_1: 0.9995 - gunshot_output_Precision: 1.0000 - gunshot_output_Recall: 1.0000 - gunshot_output_accuracy: 1.0000 - gunshot_output_auc: 1.0000 - loss: 0.2034 - val_direction_output_Precision: 0.7703 - val_direction_output_Recall: 0.7390 - val_direction_output_accuracy: 0.7508 - val_direction_output_auc_2: 0.9490 - val_distance_output_Precision: 0.9151 - val_distance_output_Recall: 0.8949 - val_distance_output_accuracy: 0.9034 - val_distance_output_auc_1: 0.9915 - val_gunshot_output_Precision: 0.9660 - val_gunshot_output_Recall: 0.9627 - val_gunshot_output_accuracy: 0.9661 - val_gunshot_output_auc: 0.9925 - val_loss: 1.2887\n",
      "Epoch 141/150\n",
      "\u001b[1m43/43\u001b[0m \u001b[32m━━━━━━━━━━━━━━━━━━━━\u001b[0m\u001b[37m\u001b[0m \u001b[1m16s\u001b[0m 374ms/step - direction_output_Precision: 0.9425 - direction_output_Recall: 0.9288 - direction_output_accuracy: 0.9375 - direction_output_auc_2: 0.9970 - distance_output_Precision: 0.9790 - distance_output_Recall: 0.9774 - distance_output_accuracy: 0.9777 - distance_output_auc_1: 0.9986 - gunshot_output_Precision: 0.9950 - gunshot_output_Recall: 0.9948 - gunshot_output_accuracy: 0.9950 - gunshot_output_auc: 0.9998 - loss: 0.2515 - val_direction_output_Precision: 0.7649 - val_direction_output_Recall: 0.7390 - val_direction_output_accuracy: 0.7475 - val_direction_output_auc_2: 0.9488 - val_distance_output_Precision: 0.9256 - val_distance_output_Recall: 0.9068 - val_distance_output_accuracy: 0.9169 - val_distance_output_auc_1: 0.9909 - val_gunshot_output_Precision: 0.9744 - val_gunshot_output_Recall: 0.9695 - val_gunshot_output_accuracy: 0.9712 - val_gunshot_output_auc: 0.9949 - val_loss: 1.2456\n",
      "Epoch 142/150\n",
      "\u001b[1m43/43\u001b[0m \u001b[32m━━━━━━━━━━━━━━━━━━━━\u001b[0m\u001b[37m\u001b[0m \u001b[1m15s\u001b[0m 359ms/step - direction_output_Precision: 0.9535 - direction_output_Recall: 0.9386 - direction_output_accuracy: 0.9498 - direction_output_auc_2: 0.9973 - distance_output_Precision: 0.9838 - distance_output_Recall: 0.9823 - distance_output_accuracy: 0.9830 - distance_output_auc_1: 0.9998 - gunshot_output_Precision: 0.9954 - gunshot_output_Recall: 0.9954 - gunshot_output_accuracy: 0.9954 - gunshot_output_auc: 0.9999 - loss: 0.2054 - val_direction_output_Precision: 0.7762 - val_direction_output_Recall: 0.7407 - val_direction_output_accuracy: 0.7525 - val_direction_output_auc_2: 0.9521 - val_distance_output_Precision: 0.9296 - val_distance_output_Recall: 0.9169 - val_distance_output_accuracy: 0.9254 - val_distance_output_auc_1: 0.9917 - val_gunshot_output_Precision: 0.9745 - val_gunshot_output_Recall: 0.9729 - val_gunshot_output_accuracy: 0.9729 - val_gunshot_output_auc: 0.9940 - val_loss: 1.1930\n",
      "Epoch 143/150\n",
      "\u001b[1m43/43\u001b[0m \u001b[32m━━━━━━━━━━━━━━━━━━━━\u001b[0m\u001b[37m\u001b[0m \u001b[1m18s\u001b[0m 407ms/step - direction_output_Precision: 0.9381 - direction_output_Recall: 0.9217 - direction_output_accuracy: 0.9293 - direction_output_auc_2: 0.9936 - distance_output_Precision: 0.9773 - distance_output_Recall: 0.9732 - distance_output_accuracy: 0.9755 - distance_output_auc_1: 0.9995 - gunshot_output_Precision: 0.9969 - gunshot_output_Recall: 0.9969 - gunshot_output_accuracy: 0.9969 - gunshot_output_auc: 1.0000 - loss: 0.2808 - val_direction_output_Precision: 0.7713 - val_direction_output_Recall: 0.7373 - val_direction_output_accuracy: 0.7475 - val_direction_output_auc_2: 0.9435 - val_distance_output_Precision: 0.9162 - val_distance_output_Recall: 0.9085 - val_distance_output_accuracy: 0.9119 - val_distance_output_auc_1: 0.9879 - val_gunshot_output_Precision: 0.9695 - val_gunshot_output_Recall: 0.9695 - val_gunshot_output_accuracy: 0.9695 - val_gunshot_output_auc: 0.9926 - val_loss: 1.3952\n",
      "Epoch 144/150\n",
      "\u001b[1m43/43\u001b[0m \u001b[32m━━━━━━━━━━━━━━━━━━━━\u001b[0m\u001b[37m\u001b[0m \u001b[1m19s\u001b[0m 431ms/step - direction_output_Precision: 0.9510 - direction_output_Recall: 0.9401 - direction_output_accuracy: 0.9454 - direction_output_auc_2: 0.9970 - distance_output_Precision: 0.9851 - distance_output_Recall: 0.9836 - distance_output_accuracy: 0.9837 - distance_output_auc_1: 0.9998 - gunshot_output_Precision: 0.9957 - gunshot_output_Recall: 0.9957 - gunshot_output_accuracy: 0.9957 - gunshot_output_auc: 0.9996 - loss: 0.2083 - val_direction_output_Precision: 0.7758 - val_direction_output_Recall: 0.7508 - val_direction_output_accuracy: 0.7576 - val_direction_output_auc_2: 0.9491 - val_distance_output_Precision: 0.9124 - val_distance_output_Recall: 0.9000 - val_distance_output_accuracy: 0.9034 - val_distance_output_auc_1: 0.9859 - val_gunshot_output_Precision: 0.9678 - val_gunshot_output_Recall: 0.9678 - val_gunshot_output_accuracy: 0.9678 - val_gunshot_output_auc: 0.9921 - val_loss: 1.4083\n",
      "Epoch 145/150\n",
      "\u001b[1m43/43\u001b[0m \u001b[32m━━━━━━━━━━━━━━━━━━━━\u001b[0m\u001b[37m\u001b[0m \u001b[1m13s\u001b[0m 300ms/step - direction_output_Precision: 0.9447 - direction_output_Recall: 0.9270 - direction_output_accuracy: 0.9321 - direction_output_auc_2: 0.9966 - distance_output_Precision: 0.9784 - distance_output_Recall: 0.9765 - distance_output_accuracy: 0.9774 - distance_output_auc_1: 0.9975 - gunshot_output_Precision: 0.9941 - gunshot_output_Recall: 0.9941 - gunshot_output_accuracy: 0.9941 - gunshot_output_auc: 0.9999 - loss: 0.2542 - val_direction_output_Precision: 0.7696 - val_direction_output_Recall: 0.7475 - val_direction_output_accuracy: 0.7559 - val_direction_output_auc_2: 0.9456 - val_distance_output_Precision: 0.9235 - val_distance_output_Recall: 0.9203 - val_distance_output_accuracy: 0.9220 - val_distance_output_auc_1: 0.9896 - val_gunshot_output_Precision: 0.9660 - val_gunshot_output_Recall: 0.9627 - val_gunshot_output_accuracy: 0.9644 - val_gunshot_output_auc: 0.9952 - val_loss: 1.3612\n",
      "Epoch 146/150\n",
      "\u001b[1m43/43\u001b[0m \u001b[32m━━━━━━━━━━━━━━━━━━━━\u001b[0m\u001b[37m\u001b[0m \u001b[1m13s\u001b[0m 297ms/step - direction_output_Precision: 0.9414 - direction_output_Recall: 0.9223 - direction_output_accuracy: 0.9337 - direction_output_auc_2: 0.9969 - distance_output_Precision: 0.9819 - distance_output_Recall: 0.9810 - distance_output_accuracy: 0.9820 - distance_output_auc_1: 0.9996 - gunshot_output_Precision: 0.9969 - gunshot_output_Recall: 0.9969 - gunshot_output_accuracy: 0.9969 - gunshot_output_auc: 1.0000 - loss: 0.2295 - val_direction_output_Precision: 0.7668 - val_direction_output_Recall: 0.7356 - val_direction_output_accuracy: 0.7475 - val_direction_output_auc_2: 0.9420 - val_distance_output_Precision: 0.9256 - val_distance_output_Recall: 0.9068 - val_distance_output_accuracy: 0.9153 - val_distance_output_auc_1: 0.9879 - val_gunshot_output_Precision: 0.9593 - val_gunshot_output_Recall: 0.9593 - val_gunshot_output_accuracy: 0.9593 - val_gunshot_output_auc: 0.9943 - val_loss: 1.4073\n",
      "Epoch 147/150\n",
      "\u001b[1m43/43\u001b[0m \u001b[32m━━━━━━━━━━━━━━━━━━━━\u001b[0m\u001b[37m\u001b[0m \u001b[1m29s\u001b[0m 502ms/step - direction_output_Precision: 0.9418 - direction_output_Recall: 0.9298 - direction_output_accuracy: 0.9345 - direction_output_auc_2: 0.9971 - distance_output_Precision: 0.9863 - distance_output_Recall: 0.9857 - distance_output_accuracy: 0.9863 - distance_output_auc_1: 0.9998 - gunshot_output_Precision: 0.9983 - gunshot_output_Recall: 0.9983 - gunshot_output_accuracy: 0.9983 - gunshot_output_auc: 1.0000 - loss: 0.2046 - val_direction_output_Precision: 0.7739 - val_direction_output_Recall: 0.7424 - val_direction_output_accuracy: 0.7492 - val_direction_output_auc_2: 0.9440 - val_distance_output_Precision: 0.9161 - val_distance_output_Recall: 0.9068 - val_distance_output_accuracy: 0.9102 - val_distance_output_auc_1: 0.9894 - val_gunshot_output_Precision: 0.9660 - val_gunshot_output_Recall: 0.9644 - val_gunshot_output_accuracy: 0.9644 - val_gunshot_output_auc: 0.9885 - val_loss: 1.4190\n",
      "Epoch 148/150\n",
      "\u001b[1m43/43\u001b[0m \u001b[32m━━━━━━━━━━━━━━━━━━━━\u001b[0m\u001b[37m\u001b[0m \u001b[1m17s\u001b[0m 383ms/step - direction_output_Precision: 0.9324 - direction_output_Recall: 0.9145 - direction_output_accuracy: 0.9236 - direction_output_auc_2: 0.9959 - distance_output_Precision: 0.9781 - distance_output_Recall: 0.9725 - distance_output_accuracy: 0.9740 - distance_output_auc_1: 0.9995 - gunshot_output_Precision: 0.9892 - gunshot_output_Recall: 0.9882 - gunshot_output_accuracy: 0.9889 - gunshot_output_auc: 0.9998 - loss: 0.2678 - val_direction_output_Precision: 0.7518 - val_direction_output_Recall: 0.7186 - val_direction_output_accuracy: 0.7322 - val_direction_output_auc_2: 0.9378 - val_distance_output_Precision: 0.8891 - val_distance_output_Recall: 0.8831 - val_distance_output_accuracy: 0.8847 - val_distance_output_auc_1: 0.9832 - val_gunshot_output_Precision: 0.9627 - val_gunshot_output_Recall: 0.9627 - val_gunshot_output_accuracy: 0.9627 - val_gunshot_output_auc: 0.9867 - val_loss: 1.6374\n",
      "Epoch 149/150\n",
      "\u001b[1m43/43\u001b[0m \u001b[32m━━━━━━━━━━━━━━━━━━━━\u001b[0m\u001b[37m\u001b[0m \u001b[1m12s\u001b[0m 284ms/step - direction_output_Precision: 0.9509 - direction_output_Recall: 0.9262 - direction_output_accuracy: 0.9378 - direction_output_auc_2: 0.9962 - distance_output_Precision: 0.9629 - distance_output_Recall: 0.9586 - distance_output_accuracy: 0.9586 - distance_output_auc_1: 0.9985 - gunshot_output_Precision: 0.9924 - gunshot_output_Recall: 0.9924 - gunshot_output_accuracy: 0.9924 - gunshot_output_auc: 0.9991 - loss: 0.2897 - val_direction_output_Precision: 0.7671 - val_direction_output_Recall: 0.7424 - val_direction_output_accuracy: 0.7492 - val_direction_output_auc_2: 0.9406 - val_distance_output_Precision: 0.9179 - val_distance_output_Recall: 0.9102 - val_distance_output_accuracy: 0.9153 - val_distance_output_auc_1: 0.9879 - val_gunshot_output_Precision: 0.9728 - val_gunshot_output_Recall: 0.9712 - val_gunshot_output_accuracy: 0.9729 - val_gunshot_output_auc: 0.9919 - val_loss: 1.3900\n",
      "Epoch 150/150\n",
      "\u001b[1m43/43\u001b[0m \u001b[32m━━━━━━━━━━━━━━━━━━━━\u001b[0m\u001b[37m\u001b[0m \u001b[1m13s\u001b[0m 299ms/step - direction_output_Precision: 0.9471 - direction_output_Recall: 0.9269 - direction_output_accuracy: 0.9419 - direction_output_auc_2: 0.9956 - distance_output_Precision: 0.9904 - distance_output_Recall: 0.9888 - distance_output_accuracy: 0.9905 - distance_output_auc_1: 0.9999 - gunshot_output_Precision: 0.9962 - gunshot_output_Recall: 0.9962 - gunshot_output_accuracy: 0.9962 - gunshot_output_auc: 0.9999 - loss: 0.2239 - val_direction_output_Precision: 0.7743 - val_direction_output_Recall: 0.7441 - val_direction_output_accuracy: 0.7559 - val_direction_output_auc_2: 0.9477 - val_distance_output_Precision: 0.9103 - val_distance_output_Recall: 0.8949 - val_distance_output_accuracy: 0.9000 - val_distance_output_auc_1: 0.9855 - val_gunshot_output_Precision: 0.9745 - val_gunshot_output_Recall: 0.9729 - val_gunshot_output_accuracy: 0.9746 - val_gunshot_output_auc: 0.9924 - val_loss: 1.4439\n"
     ]
    }
   ],
   "source": [
    "from keras.callbacks import ModelCheckpoint\n",
    "batch_size=32\n",
    "valid_batch_size=32\n",
    "callbacks=[ModelCheckpoint(\"best_model.keras\",monitor='val_loss')]\n",
    "history=model.fit([X_mfcc_train,X_melspec_train],\n",
    "                  {\n",
    "                      'gunshot_output':y_gun_train,\n",
    "                      'direction_output':y_direction_train,\n",
    "                      'distance_output':y_distance_train\n",
    "                  },\n",
    "                  validation_data=([X_mfcc_val,X_melspec_val],\n",
    "                                    {\n",
    "                                        'gunshot_output':y_gun_val,\n",
    "                                        'direction_output':y_direction_val,\n",
    "                                        'distance_output':y_distance_val\n",
    "                                    }),\n",
    "                    epochs=150,batch_size=32,callbacks=[callbacks])\n"
   ]
  },
  {
   "cell_type": "code",
   "execution_count": 24,
   "metadata": {},
   "outputs": [
    {
     "name": "stdout",
     "output_type": "stream",
     "text": [
      "\u001b[1m27/27\u001b[0m \u001b[32m━━━━━━━━━━━━━━━━━━━━\u001b[0m\u001b[37m\u001b[0m \u001b[1m6s\u001b[0m 79ms/step - direction_output_Precision: 0.7611 - direction_output_Recall: 0.7272 - direction_output_accuracy: 0.7368 - direction_output_auc_2: 0.9404 - distance_output_Precision: 0.8929 - distance_output_Recall: 0.8800 - distance_output_accuracy: 0.8846 - distance_output_auc_1: 0.9814 - gunshot_output_Precision: 0.9635 - gunshot_output_Recall: 0.9633 - gunshot_output_accuracy: 0.9635 - gunshot_output_auc: 0.9947 - loss: 1.5269\n"
     ]
    }
   ],
   "source": [
    "test_results = model.evaluate([X_mfcc_test, X_melspec_test], \n",
    "                              [y_gun_test, y_direction_test, y_distance_test])"
   ]
  },
  {
   "cell_type": "code",
   "execution_count": 25,
   "metadata": {},
   "outputs": [
    {
     "data": {
      "application/vnd.plotly.v1+json": {
       "config": {
        "plotlyServerURL": "https://plot.ly"
       },
       "data": [
        {
         "name": "Train",
         "type": "scatter",
         "y": [
          0.5109170079231262,
          0.6848617196083069,
          0.767103374004364,
          0.8085880875587463,
          0.8165938854217529,
          0.8558952212333679,
          0.863173246383667,
          0.8653566241264343,
          0.9010189175605774,
          0.9017467498779297,
          0.9002911448478699,
          0.9024745225906372,
          0.9141193628311157,
          0.9257642030715942,
          0.9374090433120728,
          0.9359534382820129,
          0.9461426734924316,
          0.9446870684623718,
          0.9512372612953186,
          0.9468704462051392,
          0.9461426734924316,
          0.9585152864456177,
          0.9577874541282654,
          0.9519650936126709,
          0.9526928663253784,
          0.9599708914756775,
          0.9643377065658569,
          0.9577874541282654,
          0.9657933115959167,
          0.9628821015357971,
          0.9657933115959167,
          0.9694322943687439,
          0.9672489166259766,
          0.9665210843086243,
          0.9665210843086243,
          0.9730713367462158,
          0.9737991094589233,
          0.9701601266860962,
          0.9534206986427307,
          0.9745269417762756,
          0.971615731716156,
          0.9774381518363953,
          0.9694322943687439,
          0.9788937568664551,
          0.9825327396392822,
          0.983988344669342,
          0.9810771346092224,
          0.9854439496994019,
          0.9752547144889832,
          0.9803493618965149,
          0.9781659245491028,
          0.9752547144889832,
          0.976710319519043,
          0.9723435044288635,
          0.9788937568664551,
          0.9737991094589233,
          0.9796215295791626,
          0.9868995547294617,
          0.9781659245491028,
          0.9883551597595215,
          0.9868995547294617,
          0.9861717820167542,
          0.9890829920768738,
          0.9810771346092224,
          0.9818049669265747,
          0.9868995547294617,
          0.9868995547294617,
          0.9854439496994019,
          0.983988344669342,
          0.9810771346092224,
          0.9861717820167542,
          0.9868995547294617,
          0.9905385971069336,
          0.9883551597595215,
          0.987627387046814,
          0.9898107647895813,
          0.9890829920768738,
          0.9912663698196411,
          0.9905385971069336,
          0.987627387046814,
          0.9868995547294617,
          0.987627387046814,
          0.987627387046814,
          0.9934498071670532,
          0.9890829920768738,
          0.983988344669342,
          0.9672489166259766,
          0.9883551597595215,
          0.9919942021369934,
          0.9956331849098206,
          0.9847161769866943,
          0.9963610172271729,
          0.9934498071670532,
          0.9927219748497009,
          0.9934498071670532,
          0.9927219748497009,
          0.9818049669265747,
          0.9905385971069336,
          0.9941775798797607,
          0.9868995547294617,
          0.9890829920768738,
          0.9868995547294617,
          0.9934498071670532,
          0.9941775798797607,
          0.9934498071670532,
          0.9934498071670532,
          0.9919942021369934,
          0.9927219748497009,
          0.9883551597595215,
          0.9934498071670532,
          0.9934498071670532,
          0.9978166222572327,
          0.9934498071670532,
          0.9956331849098206,
          0.9978166222572327,
          0.9796215295791626,
          0.9847161769866943,
          0.994905412197113,
          0.9956331849098206,
          0.9890829920768738,
          0.994905412197113,
          0.9927219748497009,
          0.9934498071670532,
          0.994905412197113,
          0.9868995547294617,
          0.994905412197113,
          0.9963610172271729,
          0.9978166222572327,
          0.994905412197113,
          0.994905412197113,
          0.9810771346092224,
          0.9963610172271729,
          0.9978166222572327,
          0.9905385971069336,
          0.9956331849098206,
          0.9963610172271729,
          0.9956331849098206,
          0.9978166222572327,
          0.9963610172271729,
          1,
          0.9941775798797607,
          0.9927219748497009,
          0.9963610172271729,
          0.9956331849098206,
          0.9927219748497009,
          0.9963610172271729,
          0.9978166222572327,
          0.9919942021369934,
          0.9905385971069336,
          0.9941775798797607
         ]
        },
        {
         "name": "Valid",
         "type": "scatter",
         "y": [
          0.6254237294197083,
          0.7288135886192322,
          0.803389847278595,
          0.805084764957428,
          0.8372881412506104,
          0.8779661059379578,
          0.8796610236167908,
          0.8338983058929443,
          0.8338983058929443,
          0.9067796468734741,
          0.8661016821861267,
          0.8966101408004761,
          0.8559321761131287,
          0.9050847291946411,
          0.8949152827262878,
          0.9576271176338196,
          0.9135593175888062,
          0.9457626938819885,
          0.8898305296897888,
          0.8932203650474548,
          0.9457626938819885,
          0.9203389883041382,
          0.9406779408454895,
          0.9169491529464722,
          0.9593220353126526,
          0.9423728585243225,
          0.9542372822761536,
          0.9389830231666565,
          0.9559321999549866,
          0.9559321999549866,
          0.9559321999549866,
          0.9627118706703186,
          0.9338983297348022,
          0.9694915413856506,
          0.9440677762031555,
          0.9644067883491516,
          0.9745762944221497,
          0.9694915413856506,
          0.9610169529914856,
          0.9677966237068176,
          0.9779661297798157,
          0.9661017060279846,
          0.9508474469184875,
          0.9661017060279846,
          0.9745762944221497,
          0.9711864590644836,
          0.9745762944221497,
          0.9677966237068176,
          0.9711864590644836,
          0.9508474469184875,
          0.9745762944221497,
          0.9661017060279846,
          0.9576271176338196,
          0.9677966237068176,
          0.9542372822761536,
          0.9745762944221497,
          0.9677966237068176,
          0.9745762944221497,
          0.9762712121009827,
          0.9728813767433167,
          0.9813559055328369,
          0.9762712121009827,
          0.9728813767433167,
          0.9694915413856506,
          0.9677966237068176,
          0.9610169529914856,
          0.9542372822761536,
          0.9728813767433167,
          0.9677966237068176,
          0.9677966237068176,
          0.9627118706703186,
          0.9576271176338196,
          0.9745762944221497,
          0.9779661297798157,
          0.9694915413856506,
          0.9711864590644836,
          0.9694915413856506,
          0.9745762944221497,
          0.9694915413856506,
          0.9661017060279846,
          0.9694915413856506,
          0.9644067883491516,
          0.9694915413856506,
          0.9677966237068176,
          0.9711864590644836,
          0.9372881650924683,
          0.9661017060279846,
          0.9745762944221497,
          0.9677966237068176,
          0.9677966237068176,
          0.9762712121009827,
          0.9745762944221497,
          0.9711864590644836,
          0.9745762944221497,
          0.9661017060279846,
          0.9694915413856506,
          0.9677966237068176,
          0.9661017060279846,
          0.9728813767433167,
          0.9728813767433167,
          0.9711864590644836,
          0.9661017060279846,
          0.9661017060279846,
          0.9745762944221497,
          0.9728813767433167,
          0.9661017060279846,
          0.9576271176338196,
          0.9644067883491516,
          0.9677966237068176,
          0.9728813767433167,
          0.9661017060279846,
          0.9644067883491516,
          0.9627118706703186,
          0.9728813767433167,
          0.9694915413856506,
          0.9559321999549866,
          0.9745762944221497,
          0.9593220353126526,
          0.9677966237068176,
          0.9677966237068176,
          0.9694915413856506,
          0.9728813767433167,
          0.9644067883491516,
          0.9542372822761536,
          0.9627118706703186,
          0.9762712121009827,
          0.9728813767433167,
          0.9711864590644836,
          0.9745762944221497,
          0.9694915413856506,
          0.9542372822761536,
          0.9677966237068176,
          0.9762712121009827,
          0.9711864590644836,
          0.9644067883491516,
          0.9711864590644836,
          0.9677966237068176,
          0.9661017060279846,
          0.9728813767433167,
          0.9661017060279846,
          0.9711864590644836,
          0.9728813767433167,
          0.9694915413856506,
          0.9677966237068176,
          0.9644067883491516,
          0.9593220353126526,
          0.9644067883491516,
          0.9627118706703186,
          0.9728813767433167,
          0.9745762944221497
         ]
        }
       ],
       "layout": {
        "height": 500,
        "template": {
         "data": {
          "bar": [
           {
            "error_x": {
             "color": "#2a3f5f"
            },
            "error_y": {
             "color": "#2a3f5f"
            },
            "marker": {
             "line": {
              "color": "#E5ECF6",
              "width": 0.5
             },
             "pattern": {
              "fillmode": "overlay",
              "size": 10,
              "solidity": 0.2
             }
            },
            "type": "bar"
           }
          ],
          "barpolar": [
           {
            "marker": {
             "line": {
              "color": "#E5ECF6",
              "width": 0.5
             },
             "pattern": {
              "fillmode": "overlay",
              "size": 10,
              "solidity": 0.2
             }
            },
            "type": "barpolar"
           }
          ],
          "carpet": [
           {
            "aaxis": {
             "endlinecolor": "#2a3f5f",
             "gridcolor": "white",
             "linecolor": "white",
             "minorgridcolor": "white",
             "startlinecolor": "#2a3f5f"
            },
            "baxis": {
             "endlinecolor": "#2a3f5f",
             "gridcolor": "white",
             "linecolor": "white",
             "minorgridcolor": "white",
             "startlinecolor": "#2a3f5f"
            },
            "type": "carpet"
           }
          ],
          "choropleth": [
           {
            "colorbar": {
             "outlinewidth": 0,
             "ticks": ""
            },
            "type": "choropleth"
           }
          ],
          "contour": [
           {
            "colorbar": {
             "outlinewidth": 0,
             "ticks": ""
            },
            "colorscale": [
             [
              0,
              "#0d0887"
             ],
             [
              0.1111111111111111,
              "#46039f"
             ],
             [
              0.2222222222222222,
              "#7201a8"
             ],
             [
              0.3333333333333333,
              "#9c179e"
             ],
             [
              0.4444444444444444,
              "#bd3786"
             ],
             [
              0.5555555555555556,
              "#d8576b"
             ],
             [
              0.6666666666666666,
              "#ed7953"
             ],
             [
              0.7777777777777778,
              "#fb9f3a"
             ],
             [
              0.8888888888888888,
              "#fdca26"
             ],
             [
              1,
              "#f0f921"
             ]
            ],
            "type": "contour"
           }
          ],
          "contourcarpet": [
           {
            "colorbar": {
             "outlinewidth": 0,
             "ticks": ""
            },
            "type": "contourcarpet"
           }
          ],
          "heatmap": [
           {
            "colorbar": {
             "outlinewidth": 0,
             "ticks": ""
            },
            "colorscale": [
             [
              0,
              "#0d0887"
             ],
             [
              0.1111111111111111,
              "#46039f"
             ],
             [
              0.2222222222222222,
              "#7201a8"
             ],
             [
              0.3333333333333333,
              "#9c179e"
             ],
             [
              0.4444444444444444,
              "#bd3786"
             ],
             [
              0.5555555555555556,
              "#d8576b"
             ],
             [
              0.6666666666666666,
              "#ed7953"
             ],
             [
              0.7777777777777778,
              "#fb9f3a"
             ],
             [
              0.8888888888888888,
              "#fdca26"
             ],
             [
              1,
              "#f0f921"
             ]
            ],
            "type": "heatmap"
           }
          ],
          "heatmapgl": [
           {
            "colorbar": {
             "outlinewidth": 0,
             "ticks": ""
            },
            "colorscale": [
             [
              0,
              "#0d0887"
             ],
             [
              0.1111111111111111,
              "#46039f"
             ],
             [
              0.2222222222222222,
              "#7201a8"
             ],
             [
              0.3333333333333333,
              "#9c179e"
             ],
             [
              0.4444444444444444,
              "#bd3786"
             ],
             [
              0.5555555555555556,
              "#d8576b"
             ],
             [
              0.6666666666666666,
              "#ed7953"
             ],
             [
              0.7777777777777778,
              "#fb9f3a"
             ],
             [
              0.8888888888888888,
              "#fdca26"
             ],
             [
              1,
              "#f0f921"
             ]
            ],
            "type": "heatmapgl"
           }
          ],
          "histogram": [
           {
            "marker": {
             "pattern": {
              "fillmode": "overlay",
              "size": 10,
              "solidity": 0.2
             }
            },
            "type": "histogram"
           }
          ],
          "histogram2d": [
           {
            "colorbar": {
             "outlinewidth": 0,
             "ticks": ""
            },
            "colorscale": [
             [
              0,
              "#0d0887"
             ],
             [
              0.1111111111111111,
              "#46039f"
             ],
             [
              0.2222222222222222,
              "#7201a8"
             ],
             [
              0.3333333333333333,
              "#9c179e"
             ],
             [
              0.4444444444444444,
              "#bd3786"
             ],
             [
              0.5555555555555556,
              "#d8576b"
             ],
             [
              0.6666666666666666,
              "#ed7953"
             ],
             [
              0.7777777777777778,
              "#fb9f3a"
             ],
             [
              0.8888888888888888,
              "#fdca26"
             ],
             [
              1,
              "#f0f921"
             ]
            ],
            "type": "histogram2d"
           }
          ],
          "histogram2dcontour": [
           {
            "colorbar": {
             "outlinewidth": 0,
             "ticks": ""
            },
            "colorscale": [
             [
              0,
              "#0d0887"
             ],
             [
              0.1111111111111111,
              "#46039f"
             ],
             [
              0.2222222222222222,
              "#7201a8"
             ],
             [
              0.3333333333333333,
              "#9c179e"
             ],
             [
              0.4444444444444444,
              "#bd3786"
             ],
             [
              0.5555555555555556,
              "#d8576b"
             ],
             [
              0.6666666666666666,
              "#ed7953"
             ],
             [
              0.7777777777777778,
              "#fb9f3a"
             ],
             [
              0.8888888888888888,
              "#fdca26"
             ],
             [
              1,
              "#f0f921"
             ]
            ],
            "type": "histogram2dcontour"
           }
          ],
          "mesh3d": [
           {
            "colorbar": {
             "outlinewidth": 0,
             "ticks": ""
            },
            "type": "mesh3d"
           }
          ],
          "parcoords": [
           {
            "line": {
             "colorbar": {
              "outlinewidth": 0,
              "ticks": ""
             }
            },
            "type": "parcoords"
           }
          ],
          "pie": [
           {
            "automargin": true,
            "type": "pie"
           }
          ],
          "scatter": [
           {
            "fillpattern": {
             "fillmode": "overlay",
             "size": 10,
             "solidity": 0.2
            },
            "type": "scatter"
           }
          ],
          "scatter3d": [
           {
            "line": {
             "colorbar": {
              "outlinewidth": 0,
              "ticks": ""
             }
            },
            "marker": {
             "colorbar": {
              "outlinewidth": 0,
              "ticks": ""
             }
            },
            "type": "scatter3d"
           }
          ],
          "scattercarpet": [
           {
            "marker": {
             "colorbar": {
              "outlinewidth": 0,
              "ticks": ""
             }
            },
            "type": "scattercarpet"
           }
          ],
          "scattergeo": [
           {
            "marker": {
             "colorbar": {
              "outlinewidth": 0,
              "ticks": ""
             }
            },
            "type": "scattergeo"
           }
          ],
          "scattergl": [
           {
            "marker": {
             "colorbar": {
              "outlinewidth": 0,
              "ticks": ""
             }
            },
            "type": "scattergl"
           }
          ],
          "scattermapbox": [
           {
            "marker": {
             "colorbar": {
              "outlinewidth": 0,
              "ticks": ""
             }
            },
            "type": "scattermapbox"
           }
          ],
          "scatterpolar": [
           {
            "marker": {
             "colorbar": {
              "outlinewidth": 0,
              "ticks": ""
             }
            },
            "type": "scatterpolar"
           }
          ],
          "scatterpolargl": [
           {
            "marker": {
             "colorbar": {
              "outlinewidth": 0,
              "ticks": ""
             }
            },
            "type": "scatterpolargl"
           }
          ],
          "scatterternary": [
           {
            "marker": {
             "colorbar": {
              "outlinewidth": 0,
              "ticks": ""
             }
            },
            "type": "scatterternary"
           }
          ],
          "surface": [
           {
            "colorbar": {
             "outlinewidth": 0,
             "ticks": ""
            },
            "colorscale": [
             [
              0,
              "#0d0887"
             ],
             [
              0.1111111111111111,
              "#46039f"
             ],
             [
              0.2222222222222222,
              "#7201a8"
             ],
             [
              0.3333333333333333,
              "#9c179e"
             ],
             [
              0.4444444444444444,
              "#bd3786"
             ],
             [
              0.5555555555555556,
              "#d8576b"
             ],
             [
              0.6666666666666666,
              "#ed7953"
             ],
             [
              0.7777777777777778,
              "#fb9f3a"
             ],
             [
              0.8888888888888888,
              "#fdca26"
             ],
             [
              1,
              "#f0f921"
             ]
            ],
            "type": "surface"
           }
          ],
          "table": [
           {
            "cells": {
             "fill": {
              "color": "#EBF0F8"
             },
             "line": {
              "color": "white"
             }
            },
            "header": {
             "fill": {
              "color": "#C8D4E3"
             },
             "line": {
              "color": "white"
             }
            },
            "type": "table"
           }
          ]
         },
         "layout": {
          "annotationdefaults": {
           "arrowcolor": "#2a3f5f",
           "arrowhead": 0,
           "arrowwidth": 1
          },
          "autotypenumbers": "strict",
          "coloraxis": {
           "colorbar": {
            "outlinewidth": 0,
            "ticks": ""
           }
          },
          "colorscale": {
           "diverging": [
            [
             0,
             "#8e0152"
            ],
            [
             0.1,
             "#c51b7d"
            ],
            [
             0.2,
             "#de77ae"
            ],
            [
             0.3,
             "#f1b6da"
            ],
            [
             0.4,
             "#fde0ef"
            ],
            [
             0.5,
             "#f7f7f7"
            ],
            [
             0.6,
             "#e6f5d0"
            ],
            [
             0.7,
             "#b8e186"
            ],
            [
             0.8,
             "#7fbc41"
            ],
            [
             0.9,
             "#4d9221"
            ],
            [
             1,
             "#276419"
            ]
           ],
           "sequential": [
            [
             0,
             "#0d0887"
            ],
            [
             0.1111111111111111,
             "#46039f"
            ],
            [
             0.2222222222222222,
             "#7201a8"
            ],
            [
             0.3333333333333333,
             "#9c179e"
            ],
            [
             0.4444444444444444,
             "#bd3786"
            ],
            [
             0.5555555555555556,
             "#d8576b"
            ],
            [
             0.6666666666666666,
             "#ed7953"
            ],
            [
             0.7777777777777778,
             "#fb9f3a"
            ],
            [
             0.8888888888888888,
             "#fdca26"
            ],
            [
             1,
             "#f0f921"
            ]
           ],
           "sequentialminus": [
            [
             0,
             "#0d0887"
            ],
            [
             0.1111111111111111,
             "#46039f"
            ],
            [
             0.2222222222222222,
             "#7201a8"
            ],
            [
             0.3333333333333333,
             "#9c179e"
            ],
            [
             0.4444444444444444,
             "#bd3786"
            ],
            [
             0.5555555555555556,
             "#d8576b"
            ],
            [
             0.6666666666666666,
             "#ed7953"
            ],
            [
             0.7777777777777778,
             "#fb9f3a"
            ],
            [
             0.8888888888888888,
             "#fdca26"
            ],
            [
             1,
             "#f0f921"
            ]
           ]
          },
          "colorway": [
           "#636efa",
           "#EF553B",
           "#00cc96",
           "#ab63fa",
           "#FFA15A",
           "#19d3f3",
           "#FF6692",
           "#B6E880",
           "#FF97FF",
           "#FECB52"
          ],
          "font": {
           "color": "#2a3f5f"
          },
          "geo": {
           "bgcolor": "white",
           "lakecolor": "white",
           "landcolor": "#E5ECF6",
           "showlakes": true,
           "showland": true,
           "subunitcolor": "white"
          },
          "hoverlabel": {
           "align": "left"
          },
          "hovermode": "closest",
          "mapbox": {
           "style": "light"
          },
          "paper_bgcolor": "white",
          "plot_bgcolor": "#E5ECF6",
          "polar": {
           "angularaxis": {
            "gridcolor": "white",
            "linecolor": "white",
            "ticks": ""
           },
           "bgcolor": "#E5ECF6",
           "radialaxis": {
            "gridcolor": "white",
            "linecolor": "white",
            "ticks": ""
           }
          },
          "scene": {
           "xaxis": {
            "backgroundcolor": "#E5ECF6",
            "gridcolor": "white",
            "gridwidth": 2,
            "linecolor": "white",
            "showbackground": true,
            "ticks": "",
            "zerolinecolor": "white"
           },
           "yaxis": {
            "backgroundcolor": "#E5ECF6",
            "gridcolor": "white",
            "gridwidth": 2,
            "linecolor": "white",
            "showbackground": true,
            "ticks": "",
            "zerolinecolor": "white"
           },
           "zaxis": {
            "backgroundcolor": "#E5ECF6",
            "gridcolor": "white",
            "gridwidth": 2,
            "linecolor": "white",
            "showbackground": true,
            "ticks": "",
            "zerolinecolor": "white"
           }
          },
          "shapedefaults": {
           "line": {
            "color": "#2a3f5f"
           }
          },
          "ternary": {
           "aaxis": {
            "gridcolor": "white",
            "linecolor": "white",
            "ticks": ""
           },
           "baxis": {
            "gridcolor": "white",
            "linecolor": "white",
            "ticks": ""
           },
           "bgcolor": "#E5ECF6",
           "caxis": {
            "gridcolor": "white",
            "linecolor": "white",
            "ticks": ""
           }
          },
          "title": {
           "x": 0.05
          },
          "xaxis": {
           "automargin": true,
           "gridcolor": "white",
           "linecolor": "white",
           "ticks": "",
           "title": {
            "standoff": 15
           },
           "zerolinecolor": "white",
           "zerolinewidth": 2
          },
          "yaxis": {
           "automargin": true,
           "gridcolor": "white",
           "linecolor": "white",
           "ticks": "",
           "title": {
            "standoff": 15
           },
           "zerolinecolor": "white",
           "zerolinewidth": 2
          }
         }
        },
        "title": {
         "text": "Accuracy for gunshot feature"
        },
        "width": 700,
        "xaxis": {
         "title": {
          "text": "Epoch"
         }
        },
        "yaxis": {
         "title": {
          "text": "Accuracy"
         }
        }
       }
      }
     },
     "metadata": {},
     "output_type": "display_data"
    },
    {
     "data": {
      "text/plain": [
       "<Figure size 640x480 with 0 Axes>"
      ]
     },
     "metadata": {},
     "output_type": "display_data"
    }
   ],
   "source": [
    "import plotly.graph_objects as go\n",
    "plt.clf()\n",
    "fig = go.Figure()\n",
    "fig.add_trace(go.Scatter(\n",
    "                    y=history.history['gunshot_output_accuracy'],\n",
    "                    name='Train'))\n",
    "fig.add_trace(go.Scatter(\n",
    "                    y=history.history['val_gunshot_output_accuracy'],\n",
    "                    name='Valid'))\n",
    "fig.update_layout(height=500, \n",
    "                  width=700,\n",
    "                  title='Accuracy for gunshot feature',\n",
    "                  xaxis_title='Epoch',\n",
    "                  yaxis_title='Accuracy')\n",
    "fig.show()"
   ]
  },
  {
   "cell_type": "code",
   "execution_count": 26,
   "metadata": {},
   "outputs": [
    {
     "data": {
      "application/vnd.plotly.v1+json": {
       "config": {
        "plotlyServerURL": "https://plot.ly"
       },
       "data": [
        {
         "name": "Train",
         "type": "scatter",
         "y": [
          0.19213974475860596,
          0.35589519143104553,
          0.44759824872016907,
          0.4585152864456177,
          0.48617175221443176,
          0.5269286632537842,
          0.5422125458717346,
          0.5647743940353394,
          0.5662299990653992,
          0.5764192342758179,
          0.5873362421989441,
          0.5829694271087646,
          0.6120815277099609,
          0.5989810824394226,
          0.6215429306030273,
          0.6375545859336853,
          0.6200873255729675,
          0.636826753616333,
          0.6572052240371704,
          0.6462882161140442,
          0.6535662412643433,
          0.6615720391273499,
          0.6754003167152405,
          0.6717612743377686,
          0.6739447116851807,
          0.6652110815048218,
          0.6783115267753601,
          0.6899563074111938,
          0.7059679627418518,
          0.6950509548187256,
          0.7125182151794434,
          0.7110626101493835,
          0.7110626101493835,
          0.7176128029823303,
          0.7081514000892639,
          0.7176128029823303,
          0.7307132482528687,
          0.7081514000892639,
          0.7139738202095032,
          0.7103347778320312,
          0.7176128029823303,
          0.7372634410858154,
          0.7416302561759949,
          0.751091718673706,
          0.748908281326294,
          0.7423580884933472,
          0.7409024834632874,
          0.7605531215667725,
          0.7430858612060547,
          0.7547307014465332,
          0.7474526762962341,
          0.7620087265968323,
          0.7518194913864136,
          0.7656477689743042,
          0.7525473237037659,
          0.7445414662361145,
          0.7736535668373108,
          0.7802037596702576,
          0.7867540121078491,
          0.7933042049407959,
          0.7823871970176697,
          0.7831149697303772,
          0.8042212724685669,
          0.8085880875587463,
          0.7969432473182678,
          0.7991266250610352,
          0.8049490451812744,
          0.8042212724685669,
          0.8136826753616333,
          0.823871910572052,
          0.8093158602714539,
          0.8027656674385071,
          0.828966498374939,
          0.8107714653015137,
          0.8209607005119324,
          0.8377001285552979,
          0.8391557335853577,
          0.8355167508125305,
          0.8449781537055969,
          0.847161591053009,
          0.8391557335853577,
          0.8245996832847595,
          0.8318777084350586,
          0.8435225486755371,
          0.8435225486755371,
          0.8420669436454773,
          0.8173217177391052,
          0.8486171960830688,
          0.8464337587356567,
          0.8668122291564941,
          0.8391557335853577,
          0.8704512119293213,
          0.8566229939460754,
          0.8762736320495605,
          0.8784570693969727,
          0.8508005738258362,
          0.8726346492767334,
          0.8813682794570923,
          0.8748180270195007,
          0.8857350945472717,
          0.8711790442466736,
          0.8726346492767334,
          0.8828238844871521,
          0.8857350945472717,
          0.8886463046073914,
          0.9010189175605774,
          0.8777292370796204,
          0.8879184722900391,
          0.8930131196975708,
          0.8820960521697998,
          0.9068413376808167,
          0.8930131196975708,
          0.9046579599380493,
          0.9119359254837036,
          0.903930127620697,
          0.8930131196975708,
          0.891557514667511,
          0.9104803204536438,
          0.9184861779212952,
          0.9061135649681091,
          0.9221251606941223,
          0.9112081527709961,
          0.9228529930114746,
          0.9141193628311157,
          0.9046579599380493,
          0.907569169998169,
          0.9192139506340027,
          0.9264919757843018,
          0.9250363707542419,
          0.919941782951355,
          0.9112081527709961,
          0.9213973879814148,
          0.9315866231918335,
          0.9155749678611755,
          0.9184861779212952,
          0.9301310181617737,
          0.9352256059646606,
          0.932314395904541,
          0.9279475808143616,
          0.9410480260848999,
          0.9308587908744812,
          0.9381368160247803,
          0.9359534382820129,
          0.9395924210548401,
          0.9381368160247803,
          0.9374090433120728,
          0.9294031858444214,
          0.9250363707542419,
          0.9337700009346008,
          0.9388646483421326
         ]
        },
        {
         "name": "Valid",
         "type": "scatter",
         "y": [
          0.2728813588619232,
          0.37118643522262573,
          0.4271186292171478,
          0.4796610176563263,
          0.494915246963501,
          0.511864423751831,
          0.5288135409355164,
          0.5457627177238464,
          0.5542373061180115,
          0.5491525530815125,
          0.5457627177238464,
          0.5593220591545105,
          0.5406779646873474,
          0.5694915056228638,
          0.5711864233016968,
          0.5847457647323608,
          0.5661016702651978,
          0.6000000238418579,
          0.6016949415206909,
          0.5779660940170288,
          0.6135593056678772,
          0.5983051061630249,
          0.6338983178138733,
          0.6067796349525452,
          0.6305084824562073,
          0.6338983178138733,
          0.6406779885292053,
          0.6372881531715393,
          0.6542372703552246,
          0.6559321880340576,
          0.6525423526763916,
          0.6593220233917236,
          0.6406779885292053,
          0.6762712001800537,
          0.6610169410705566,
          0.6440678238868713,
          0.6796610355377197,
          0.6542372703552246,
          0.6610169410705566,
          0.6677966117858887,
          0.6779661178588867,
          0.6644067764282227,
          0.6610169410705566,
          0.6644067764282227,
          0.6745762825012207,
          0.6847457885742188,
          0.693220317363739,
          0.6813559532165527,
          0.6661016941070557,
          0.6661016941070557,
          0.6762712001800537,
          0.6711864471435547,
          0.6796610355377197,
          0.699999988079071,
          0.6762712001800537,
          0.693220317363739,
          0.68813556432724,
          0.699999988079071,
          0.698305070400238,
          0.7067796587944031,
          0.68813556432724,
          0.699999988079071,
          0.7084745764732361,
          0.699999988079071,
          0.698305070400238,
          0.7050847411155701,
          0.7067796587944031,
          0.7220339179039001,
          0.7152542471885681,
          0.7271186709403992,
          0.7288135886192322,
          0.7101694941520691,
          0.699999988079071,
          0.7322033643722534,
          0.701694905757904,
          0.7237288355827332,
          0.7237288355827332,
          0.7271186709403992,
          0.7254237532615662,
          0.7237288355827332,
          0.694915235042572,
          0.7152542471885681,
          0.7101694941520691,
          0.698305070400238,
          0.7152542471885681,
          0.6864407062530518,
          0.7152542471885681,
          0.7254237532615662,
          0.7305084466934204,
          0.7372881174087524,
          0.7305084466934204,
          0.7305084466934204,
          0.7457627058029175,
          0.7474576234817505,
          0.7389830350875854,
          0.7237288355827332,
          0.7440677881240845,
          0.7406779527664185,
          0.7525423765182495,
          0.7525423765182495,
          0.7406779527664185,
          0.7271186709403992,
          0.7322033643722534,
          0.7457627058029175,
          0.7474576234817505,
          0.7355931997299194,
          0.7372881174087524,
          0.7440677881240845,
          0.7474576234817505,
          0.7491525411605835,
          0.7610169649124146,
          0.7542372941970825,
          0.7508474588394165,
          0.7559322118759155,
          0.7474576234817505,
          0.7271186709403992,
          0.7694915533065796,
          0.7338982820510864,
          0.7322033643722534,
          0.7440677881240845,
          0.7694915533065796,
          0.7423728704452515,
          0.7355931997299194,
          0.7389830350875854,
          0.7355931997299194,
          0.7559322118759155,
          0.7593220472335815,
          0.7491525411605835,
          0.7440677881240845,
          0.7457627058029175,
          0.7271186709403992,
          0.7440677881240845,
          0.7474576234817505,
          0.7389830350875854,
          0.7440677881240845,
          0.7474576234817505,
          0.7491525411605835,
          0.7389830350875854,
          0.7474576234817505,
          0.7508474588394165,
          0.7474576234817505,
          0.7525423765182495,
          0.7474576234817505,
          0.7576271295547485,
          0.7559322118759155,
          0.7474576234817505,
          0.7491525411605835,
          0.7322033643722534,
          0.7491525411605835,
          0.7559322118759155
         ]
        }
       ],
       "layout": {
        "height": 500,
        "template": {
         "data": {
          "bar": [
           {
            "error_x": {
             "color": "#2a3f5f"
            },
            "error_y": {
             "color": "#2a3f5f"
            },
            "marker": {
             "line": {
              "color": "#E5ECF6",
              "width": 0.5
             },
             "pattern": {
              "fillmode": "overlay",
              "size": 10,
              "solidity": 0.2
             }
            },
            "type": "bar"
           }
          ],
          "barpolar": [
           {
            "marker": {
             "line": {
              "color": "#E5ECF6",
              "width": 0.5
             },
             "pattern": {
              "fillmode": "overlay",
              "size": 10,
              "solidity": 0.2
             }
            },
            "type": "barpolar"
           }
          ],
          "carpet": [
           {
            "aaxis": {
             "endlinecolor": "#2a3f5f",
             "gridcolor": "white",
             "linecolor": "white",
             "minorgridcolor": "white",
             "startlinecolor": "#2a3f5f"
            },
            "baxis": {
             "endlinecolor": "#2a3f5f",
             "gridcolor": "white",
             "linecolor": "white",
             "minorgridcolor": "white",
             "startlinecolor": "#2a3f5f"
            },
            "type": "carpet"
           }
          ],
          "choropleth": [
           {
            "colorbar": {
             "outlinewidth": 0,
             "ticks": ""
            },
            "type": "choropleth"
           }
          ],
          "contour": [
           {
            "colorbar": {
             "outlinewidth": 0,
             "ticks": ""
            },
            "colorscale": [
             [
              0,
              "#0d0887"
             ],
             [
              0.1111111111111111,
              "#46039f"
             ],
             [
              0.2222222222222222,
              "#7201a8"
             ],
             [
              0.3333333333333333,
              "#9c179e"
             ],
             [
              0.4444444444444444,
              "#bd3786"
             ],
             [
              0.5555555555555556,
              "#d8576b"
             ],
             [
              0.6666666666666666,
              "#ed7953"
             ],
             [
              0.7777777777777778,
              "#fb9f3a"
             ],
             [
              0.8888888888888888,
              "#fdca26"
             ],
             [
              1,
              "#f0f921"
             ]
            ],
            "type": "contour"
           }
          ],
          "contourcarpet": [
           {
            "colorbar": {
             "outlinewidth": 0,
             "ticks": ""
            },
            "type": "contourcarpet"
           }
          ],
          "heatmap": [
           {
            "colorbar": {
             "outlinewidth": 0,
             "ticks": ""
            },
            "colorscale": [
             [
              0,
              "#0d0887"
             ],
             [
              0.1111111111111111,
              "#46039f"
             ],
             [
              0.2222222222222222,
              "#7201a8"
             ],
             [
              0.3333333333333333,
              "#9c179e"
             ],
             [
              0.4444444444444444,
              "#bd3786"
             ],
             [
              0.5555555555555556,
              "#d8576b"
             ],
             [
              0.6666666666666666,
              "#ed7953"
             ],
             [
              0.7777777777777778,
              "#fb9f3a"
             ],
             [
              0.8888888888888888,
              "#fdca26"
             ],
             [
              1,
              "#f0f921"
             ]
            ],
            "type": "heatmap"
           }
          ],
          "heatmapgl": [
           {
            "colorbar": {
             "outlinewidth": 0,
             "ticks": ""
            },
            "colorscale": [
             [
              0,
              "#0d0887"
             ],
             [
              0.1111111111111111,
              "#46039f"
             ],
             [
              0.2222222222222222,
              "#7201a8"
             ],
             [
              0.3333333333333333,
              "#9c179e"
             ],
             [
              0.4444444444444444,
              "#bd3786"
             ],
             [
              0.5555555555555556,
              "#d8576b"
             ],
             [
              0.6666666666666666,
              "#ed7953"
             ],
             [
              0.7777777777777778,
              "#fb9f3a"
             ],
             [
              0.8888888888888888,
              "#fdca26"
             ],
             [
              1,
              "#f0f921"
             ]
            ],
            "type": "heatmapgl"
           }
          ],
          "histogram": [
           {
            "marker": {
             "pattern": {
              "fillmode": "overlay",
              "size": 10,
              "solidity": 0.2
             }
            },
            "type": "histogram"
           }
          ],
          "histogram2d": [
           {
            "colorbar": {
             "outlinewidth": 0,
             "ticks": ""
            },
            "colorscale": [
             [
              0,
              "#0d0887"
             ],
             [
              0.1111111111111111,
              "#46039f"
             ],
             [
              0.2222222222222222,
              "#7201a8"
             ],
             [
              0.3333333333333333,
              "#9c179e"
             ],
             [
              0.4444444444444444,
              "#bd3786"
             ],
             [
              0.5555555555555556,
              "#d8576b"
             ],
             [
              0.6666666666666666,
              "#ed7953"
             ],
             [
              0.7777777777777778,
              "#fb9f3a"
             ],
             [
              0.8888888888888888,
              "#fdca26"
             ],
             [
              1,
              "#f0f921"
             ]
            ],
            "type": "histogram2d"
           }
          ],
          "histogram2dcontour": [
           {
            "colorbar": {
             "outlinewidth": 0,
             "ticks": ""
            },
            "colorscale": [
             [
              0,
              "#0d0887"
             ],
             [
              0.1111111111111111,
              "#46039f"
             ],
             [
              0.2222222222222222,
              "#7201a8"
             ],
             [
              0.3333333333333333,
              "#9c179e"
             ],
             [
              0.4444444444444444,
              "#bd3786"
             ],
             [
              0.5555555555555556,
              "#d8576b"
             ],
             [
              0.6666666666666666,
              "#ed7953"
             ],
             [
              0.7777777777777778,
              "#fb9f3a"
             ],
             [
              0.8888888888888888,
              "#fdca26"
             ],
             [
              1,
              "#f0f921"
             ]
            ],
            "type": "histogram2dcontour"
           }
          ],
          "mesh3d": [
           {
            "colorbar": {
             "outlinewidth": 0,
             "ticks": ""
            },
            "type": "mesh3d"
           }
          ],
          "parcoords": [
           {
            "line": {
             "colorbar": {
              "outlinewidth": 0,
              "ticks": ""
             }
            },
            "type": "parcoords"
           }
          ],
          "pie": [
           {
            "automargin": true,
            "type": "pie"
           }
          ],
          "scatter": [
           {
            "fillpattern": {
             "fillmode": "overlay",
             "size": 10,
             "solidity": 0.2
            },
            "type": "scatter"
           }
          ],
          "scatter3d": [
           {
            "line": {
             "colorbar": {
              "outlinewidth": 0,
              "ticks": ""
             }
            },
            "marker": {
             "colorbar": {
              "outlinewidth": 0,
              "ticks": ""
             }
            },
            "type": "scatter3d"
           }
          ],
          "scattercarpet": [
           {
            "marker": {
             "colorbar": {
              "outlinewidth": 0,
              "ticks": ""
             }
            },
            "type": "scattercarpet"
           }
          ],
          "scattergeo": [
           {
            "marker": {
             "colorbar": {
              "outlinewidth": 0,
              "ticks": ""
             }
            },
            "type": "scattergeo"
           }
          ],
          "scattergl": [
           {
            "marker": {
             "colorbar": {
              "outlinewidth": 0,
              "ticks": ""
             }
            },
            "type": "scattergl"
           }
          ],
          "scattermapbox": [
           {
            "marker": {
             "colorbar": {
              "outlinewidth": 0,
              "ticks": ""
             }
            },
            "type": "scattermapbox"
           }
          ],
          "scatterpolar": [
           {
            "marker": {
             "colorbar": {
              "outlinewidth": 0,
              "ticks": ""
             }
            },
            "type": "scatterpolar"
           }
          ],
          "scatterpolargl": [
           {
            "marker": {
             "colorbar": {
              "outlinewidth": 0,
              "ticks": ""
             }
            },
            "type": "scatterpolargl"
           }
          ],
          "scatterternary": [
           {
            "marker": {
             "colorbar": {
              "outlinewidth": 0,
              "ticks": ""
             }
            },
            "type": "scatterternary"
           }
          ],
          "surface": [
           {
            "colorbar": {
             "outlinewidth": 0,
             "ticks": ""
            },
            "colorscale": [
             [
              0,
              "#0d0887"
             ],
             [
              0.1111111111111111,
              "#46039f"
             ],
             [
              0.2222222222222222,
              "#7201a8"
             ],
             [
              0.3333333333333333,
              "#9c179e"
             ],
             [
              0.4444444444444444,
              "#bd3786"
             ],
             [
              0.5555555555555556,
              "#d8576b"
             ],
             [
              0.6666666666666666,
              "#ed7953"
             ],
             [
              0.7777777777777778,
              "#fb9f3a"
             ],
             [
              0.8888888888888888,
              "#fdca26"
             ],
             [
              1,
              "#f0f921"
             ]
            ],
            "type": "surface"
           }
          ],
          "table": [
           {
            "cells": {
             "fill": {
              "color": "#EBF0F8"
             },
             "line": {
              "color": "white"
             }
            },
            "header": {
             "fill": {
              "color": "#C8D4E3"
             },
             "line": {
              "color": "white"
             }
            },
            "type": "table"
           }
          ]
         },
         "layout": {
          "annotationdefaults": {
           "arrowcolor": "#2a3f5f",
           "arrowhead": 0,
           "arrowwidth": 1
          },
          "autotypenumbers": "strict",
          "coloraxis": {
           "colorbar": {
            "outlinewidth": 0,
            "ticks": ""
           }
          },
          "colorscale": {
           "diverging": [
            [
             0,
             "#8e0152"
            ],
            [
             0.1,
             "#c51b7d"
            ],
            [
             0.2,
             "#de77ae"
            ],
            [
             0.3,
             "#f1b6da"
            ],
            [
             0.4,
             "#fde0ef"
            ],
            [
             0.5,
             "#f7f7f7"
            ],
            [
             0.6,
             "#e6f5d0"
            ],
            [
             0.7,
             "#b8e186"
            ],
            [
             0.8,
             "#7fbc41"
            ],
            [
             0.9,
             "#4d9221"
            ],
            [
             1,
             "#276419"
            ]
           ],
           "sequential": [
            [
             0,
             "#0d0887"
            ],
            [
             0.1111111111111111,
             "#46039f"
            ],
            [
             0.2222222222222222,
             "#7201a8"
            ],
            [
             0.3333333333333333,
             "#9c179e"
            ],
            [
             0.4444444444444444,
             "#bd3786"
            ],
            [
             0.5555555555555556,
             "#d8576b"
            ],
            [
             0.6666666666666666,
             "#ed7953"
            ],
            [
             0.7777777777777778,
             "#fb9f3a"
            ],
            [
             0.8888888888888888,
             "#fdca26"
            ],
            [
             1,
             "#f0f921"
            ]
           ],
           "sequentialminus": [
            [
             0,
             "#0d0887"
            ],
            [
             0.1111111111111111,
             "#46039f"
            ],
            [
             0.2222222222222222,
             "#7201a8"
            ],
            [
             0.3333333333333333,
             "#9c179e"
            ],
            [
             0.4444444444444444,
             "#bd3786"
            ],
            [
             0.5555555555555556,
             "#d8576b"
            ],
            [
             0.6666666666666666,
             "#ed7953"
            ],
            [
             0.7777777777777778,
             "#fb9f3a"
            ],
            [
             0.8888888888888888,
             "#fdca26"
            ],
            [
             1,
             "#f0f921"
            ]
           ]
          },
          "colorway": [
           "#636efa",
           "#EF553B",
           "#00cc96",
           "#ab63fa",
           "#FFA15A",
           "#19d3f3",
           "#FF6692",
           "#B6E880",
           "#FF97FF",
           "#FECB52"
          ],
          "font": {
           "color": "#2a3f5f"
          },
          "geo": {
           "bgcolor": "white",
           "lakecolor": "white",
           "landcolor": "#E5ECF6",
           "showlakes": true,
           "showland": true,
           "subunitcolor": "white"
          },
          "hoverlabel": {
           "align": "left"
          },
          "hovermode": "closest",
          "mapbox": {
           "style": "light"
          },
          "paper_bgcolor": "white",
          "plot_bgcolor": "#E5ECF6",
          "polar": {
           "angularaxis": {
            "gridcolor": "white",
            "linecolor": "white",
            "ticks": ""
           },
           "bgcolor": "#E5ECF6",
           "radialaxis": {
            "gridcolor": "white",
            "linecolor": "white",
            "ticks": ""
           }
          },
          "scene": {
           "xaxis": {
            "backgroundcolor": "#E5ECF6",
            "gridcolor": "white",
            "gridwidth": 2,
            "linecolor": "white",
            "showbackground": true,
            "ticks": "",
            "zerolinecolor": "white"
           },
           "yaxis": {
            "backgroundcolor": "#E5ECF6",
            "gridcolor": "white",
            "gridwidth": 2,
            "linecolor": "white",
            "showbackground": true,
            "ticks": "",
            "zerolinecolor": "white"
           },
           "zaxis": {
            "backgroundcolor": "#E5ECF6",
            "gridcolor": "white",
            "gridwidth": 2,
            "linecolor": "white",
            "showbackground": true,
            "ticks": "",
            "zerolinecolor": "white"
           }
          },
          "shapedefaults": {
           "line": {
            "color": "#2a3f5f"
           }
          },
          "ternary": {
           "aaxis": {
            "gridcolor": "white",
            "linecolor": "white",
            "ticks": ""
           },
           "baxis": {
            "gridcolor": "white",
            "linecolor": "white",
            "ticks": ""
           },
           "bgcolor": "#E5ECF6",
           "caxis": {
            "gridcolor": "white",
            "linecolor": "white",
            "ticks": ""
           }
          },
          "title": {
           "x": 0.05
          },
          "xaxis": {
           "automargin": true,
           "gridcolor": "white",
           "linecolor": "white",
           "ticks": "",
           "title": {
            "standoff": 15
           },
           "zerolinecolor": "white",
           "zerolinewidth": 2
          },
          "yaxis": {
           "automargin": true,
           "gridcolor": "white",
           "linecolor": "white",
           "ticks": "",
           "title": {
            "standoff": 15
           },
           "zerolinecolor": "white",
           "zerolinewidth": 2
          }
         }
        },
        "title": {
         "text": "Accuracy for direction feature"
        },
        "width": 700,
        "xaxis": {
         "title": {
          "text": "Epoch"
         }
        },
        "yaxis": {
         "title": {
          "text": "Accuracy"
         }
        }
       }
      }
     },
     "metadata": {},
     "output_type": "display_data"
    },
    {
     "data": {
      "text/plain": [
       "<Figure size 640x480 with 0 Axes>"
      ]
     },
     "metadata": {},
     "output_type": "display_data"
    }
   ],
   "source": [
    "plt.clf()\n",
    "fig = go.Figure()\n",
    "fig.add_trace(go.Scatter(\n",
    "                    y=history.history['direction_output_accuracy'],\n",
    "                    name='Train'))\n",
    "fig.add_trace(go.Scatter(\n",
    "                    y=history.history['val_direction_output_accuracy'],\n",
    "                    name='Valid'))\n",
    "fig.update_layout(height=500, \n",
    "                  width=700,\n",
    "                  title='Accuracy for direction feature',\n",
    "                  xaxis_title='Epoch',\n",
    "                  yaxis_title='Accuracy')\n",
    "fig.show()"
   ]
  },
  {
   "cell_type": "code",
   "execution_count": 27,
   "metadata": {},
   "outputs": [
    {
     "data": {
      "application/vnd.plotly.v1+json": {
       "config": {
        "plotlyServerURL": "https://plot.ly"
       },
       "data": [
        {
         "name": "Train",
         "type": "scatter",
         "y": [
          0.19213974475860596,
          0.3209607005119324,
          0.4606986939907074,
          0.5065501928329468,
          0.5385735034942627,
          0.5858806371688843,
          0.6339156031608582,
          0.6331877708435059,
          0.6754003167152405,
          0.6899563074111938,
          0.6703056693077087,
          0.7052401900291443,
          0.7161571979522705,
          0.7379912734031677,
          0.7358078360557556,
          0.7532750964164734,
          0.7452692985534668,
          0.7467249035835266,
          0.748908281326294,
          0.772197961807251,
          0.7663755416870117,
          0.7896652221679688,
          0.7882096171379089,
          0.7831149697303772,
          0.8042212724685669,
          0.8042212724685669,
          0.8129549026489258,
          0.8034934401512146,
          0.823871910572052,
          0.828966498374939,
          0.8209607005119324,
          0.8267831206321716,
          0.83988356590271,
          0.852256178855896,
          0.8537117838859558,
          0.8486171960830688,
          0.8333333134651184,
          0.8500728011131287,
          0.8347889184951782,
          0.8719068169593811,
          0.868267834186554,
          0.8508005738258362,
          0.8791848421096802,
          0.8850072622299194,
          0.8704512119293213,
          0.8791848421096802,
          0.8930131196975708,
          0.88064044713974,
          0.8762736320495605,
          0.8740902543067932,
          0.8770014643669128,
          0.8828238844871521,
          0.8886463046073914,
          0.8951964974403381,
          0.9097525477409363,
          0.8922852873802185,
          0.903930127620697,
          0.8995633125305176,
          0.9032023549079895,
          0.9046579599380493,
          0.9090247750282288,
          0.9090247750282288,
          0.9082969427108765,
          0.8944687247276306,
          0.9017467498779297,
          0.9235807657241821,
          0.9257642030715942,
          0.9344978332519531,
          0.9264919757843018,
          0.9133915305137634,
          0.9228529930114746,
          0.9192139506340027,
          0.9337700009346008,
          0.927219808101654,
          0.9330422282218933,
          0.9366812109947205,
          0.9344978332519531,
          0.9490538835525513,
          0.9454148411750793,
          0.9381368160247803,
          0.9410480260848999,
          0.9330422282218933,
          0.9286754131317139,
          0.9497816562652588,
          0.9403202533721924,
          0.9374090433120728,
          0.9155749678611755,
          0.9381368160247803,
          0.9519650936126709,
          0.9628821015357971,
          0.9352256059646606,
          0.9534206986427307,
          0.9475982785224915,
          0.9592430591583252,
          0.9526928663253784,
          0.9505094885826111,
          0.9497816562652588,
          0.9570596814155579,
          0.9563318490982056,
          0.9592430591583252,
          0.9541484713554382,
          0.9548762440681458,
          0.9643377065658569,
          0.9585152864456177,
          0.9643377065658569,
          0.9701601266860962,
          0.9621542692184448,
          0.955604076385498,
          0.9730713367462158,
          0.9614264965057373,
          0.9657933115959167,
          0.9679766893386841,
          0.9694322943687439,
          0.9614264965057373,
          0.960698664188385,
          0.9388646483421326,
          0.9570596814155579,
          0.9643377065658569,
          0.9585152864456177,
          0.9643377065658569,
          0.9737991094589233,
          0.9745269417762756,
          0.9723435044288635,
          0.9745269417762756,
          0.9599708914756775,
          0.9679766893386841,
          0.9737991094589233,
          0.9774381518363953,
          0.9723435044288635,
          0.9679766893386841,
          0.9665210843086243,
          0.9752547144889832,
          0.9730713367462158,
          0.9818049669265747,
          0.9796215295791626,
          0.9818049669265747,
          0.9796215295791626,
          0.9788937568664551,
          0.9803493618965149,
          0.9796215295791626,
          0.9752547144889832,
          0.9854439496994019,
          0.9796215295791626,
          0.9832605719566345,
          0.976710319519043,
          0.9832605719566345,
          0.9796215295791626,
          0.9781659245491028,
          0.9730713367462158,
          0.9847161769866943
         ]
        },
        {
         "name": "Valid",
         "type": "scatter",
         "y": [
          0.26101693511009216,
          0.35423728823661804,
          0.4813559353351593,
          0.5440678000450134,
          0.5813559293746948,
          0.6050847172737122,
          0.6322034001350403,
          0.6508474349975586,
          0.6813559532165527,
          0.6711864471435547,
          0.6694915294647217,
          0.7033898234367371,
          0.7118644118309021,
          0.7338982820510864,
          0.7288135886192322,
          0.7661017179489136,
          0.7118644118309021,
          0.7711864113807678,
          0.7457627058029175,
          0.7372881174087524,
          0.7694915533065796,
          0.7677966356277466,
          0.7864406704902649,
          0.7762711644172668,
          0.8169491291046143,
          0.81186443567276,
          0.806779682636261,
          0.7745762467384338,
          0.800000011920929,
          0.8406779766082764,
          0.8338983058929443,
          0.8491525650024414,
          0.806779682636261,
          0.8457627296447754,
          0.806779682636261,
          0.8288135528564453,
          0.8254237174987793,
          0.8508474826812744,
          0.8508474826812744,
          0.8728813529014587,
          0.8525424003601074,
          0.8542372584342957,
          0.8372881412506104,
          0.8677965998649597,
          0.8728813529014587,
          0.8525424003601074,
          0.8813559412956238,
          0.8762711882591248,
          0.8610169291496277,
          0.8288135528564453,
          0.8711864352226257,
          0.8661016821861267,
          0.8644067645072937,
          0.8830508589744568,
          0.8881356120109558,
          0.8915254473686218,
          0.8966101408004761,
          0.8745762705802917,
          0.8949152827262878,
          0.8983050584793091,
          0.8711864352226257,
          0.8999999761581421,
          0.9101694822311401,
          0.8677965998649597,
          0.9050847291946411,
          0.8949152827262878,
          0.8864406943321228,
          0.8932203650474548,
          0.8779661059379578,
          0.8762711882591248,
          0.8847457766532898,
          0.8999999761581421,
          0.8898305296897888,
          0.8999999761581421,
          0.8847457766532898,
          0.9050847291946411,
          0.8999999761581421,
          0.9152542352676392,
          0.8932203650474548,
          0.9033898115158081,
          0.8949152827262878,
          0.8796610236167908,
          0.9050847291946411,
          0.9016948938369751,
          0.8762711882591248,
          0.8898305296897888,
          0.8932203650474548,
          0.8999999761581421,
          0.9186440706253052,
          0.9016948938369751,
          0.8983050584793091,
          0.8983050584793091,
          0.8949152827262878,
          0.8966101408004761,
          0.9067796468734741,
          0.9118643999099731,
          0.9152542352676392,
          0.9186440706253052,
          0.9050847291946411,
          0.9067796468734741,
          0.9050847291946411,
          0.8898305296897888,
          0.9067796468734741,
          0.8983050584793091,
          0.9237288236618042,
          0.9135593175888062,
          0.8949152827262878,
          0.9016948938369751,
          0.9118643999099731,
          0.9135593175888062,
          0.9152542352676392,
          0.9220339059829712,
          0.9186440706253052,
          0.9152542352676392,
          0.9118643999099731,
          0.9050847291946411,
          0.9135593175888062,
          0.8762711882591248,
          0.9135593175888062,
          0.9203389883041382,
          0.9152542352676392,
          0.9220339059829712,
          0.8949152827262878,
          0.8966101408004761,
          0.8881356120109558,
          0.9033898115158081,
          0.9084745645523071,
          0.8898305296897888,
          0.9152542352676392,
          0.9220339059829712,
          0.8779661059379578,
          0.9084745645523071,
          0.9135593175888062,
          0.9169491529464722,
          0.9169491529464722,
          0.9067796468734741,
          0.8949152827262878,
          0.9067796468734741,
          0.9152542352676392,
          0.9033898115158081,
          0.9169491529464722,
          0.9254237413406372,
          0.9118643999099731,
          0.9033898115158081,
          0.9220339059829712,
          0.9152542352676392,
          0.9101694822311401,
          0.8847457766532898,
          0.9152542352676392,
          0.8999999761581421
         ]
        }
       ],
       "layout": {
        "height": 500,
        "template": {
         "data": {
          "bar": [
           {
            "error_x": {
             "color": "#2a3f5f"
            },
            "error_y": {
             "color": "#2a3f5f"
            },
            "marker": {
             "line": {
              "color": "#E5ECF6",
              "width": 0.5
             },
             "pattern": {
              "fillmode": "overlay",
              "size": 10,
              "solidity": 0.2
             }
            },
            "type": "bar"
           }
          ],
          "barpolar": [
           {
            "marker": {
             "line": {
              "color": "#E5ECF6",
              "width": 0.5
             },
             "pattern": {
              "fillmode": "overlay",
              "size": 10,
              "solidity": 0.2
             }
            },
            "type": "barpolar"
           }
          ],
          "carpet": [
           {
            "aaxis": {
             "endlinecolor": "#2a3f5f",
             "gridcolor": "white",
             "linecolor": "white",
             "minorgridcolor": "white",
             "startlinecolor": "#2a3f5f"
            },
            "baxis": {
             "endlinecolor": "#2a3f5f",
             "gridcolor": "white",
             "linecolor": "white",
             "minorgridcolor": "white",
             "startlinecolor": "#2a3f5f"
            },
            "type": "carpet"
           }
          ],
          "choropleth": [
           {
            "colorbar": {
             "outlinewidth": 0,
             "ticks": ""
            },
            "type": "choropleth"
           }
          ],
          "contour": [
           {
            "colorbar": {
             "outlinewidth": 0,
             "ticks": ""
            },
            "colorscale": [
             [
              0,
              "#0d0887"
             ],
             [
              0.1111111111111111,
              "#46039f"
             ],
             [
              0.2222222222222222,
              "#7201a8"
             ],
             [
              0.3333333333333333,
              "#9c179e"
             ],
             [
              0.4444444444444444,
              "#bd3786"
             ],
             [
              0.5555555555555556,
              "#d8576b"
             ],
             [
              0.6666666666666666,
              "#ed7953"
             ],
             [
              0.7777777777777778,
              "#fb9f3a"
             ],
             [
              0.8888888888888888,
              "#fdca26"
             ],
             [
              1,
              "#f0f921"
             ]
            ],
            "type": "contour"
           }
          ],
          "contourcarpet": [
           {
            "colorbar": {
             "outlinewidth": 0,
             "ticks": ""
            },
            "type": "contourcarpet"
           }
          ],
          "heatmap": [
           {
            "colorbar": {
             "outlinewidth": 0,
             "ticks": ""
            },
            "colorscale": [
             [
              0,
              "#0d0887"
             ],
             [
              0.1111111111111111,
              "#46039f"
             ],
             [
              0.2222222222222222,
              "#7201a8"
             ],
             [
              0.3333333333333333,
              "#9c179e"
             ],
             [
              0.4444444444444444,
              "#bd3786"
             ],
             [
              0.5555555555555556,
              "#d8576b"
             ],
             [
              0.6666666666666666,
              "#ed7953"
             ],
             [
              0.7777777777777778,
              "#fb9f3a"
             ],
             [
              0.8888888888888888,
              "#fdca26"
             ],
             [
              1,
              "#f0f921"
             ]
            ],
            "type": "heatmap"
           }
          ],
          "heatmapgl": [
           {
            "colorbar": {
             "outlinewidth": 0,
             "ticks": ""
            },
            "colorscale": [
             [
              0,
              "#0d0887"
             ],
             [
              0.1111111111111111,
              "#46039f"
             ],
             [
              0.2222222222222222,
              "#7201a8"
             ],
             [
              0.3333333333333333,
              "#9c179e"
             ],
             [
              0.4444444444444444,
              "#bd3786"
             ],
             [
              0.5555555555555556,
              "#d8576b"
             ],
             [
              0.6666666666666666,
              "#ed7953"
             ],
             [
              0.7777777777777778,
              "#fb9f3a"
             ],
             [
              0.8888888888888888,
              "#fdca26"
             ],
             [
              1,
              "#f0f921"
             ]
            ],
            "type": "heatmapgl"
           }
          ],
          "histogram": [
           {
            "marker": {
             "pattern": {
              "fillmode": "overlay",
              "size": 10,
              "solidity": 0.2
             }
            },
            "type": "histogram"
           }
          ],
          "histogram2d": [
           {
            "colorbar": {
             "outlinewidth": 0,
             "ticks": ""
            },
            "colorscale": [
             [
              0,
              "#0d0887"
             ],
             [
              0.1111111111111111,
              "#46039f"
             ],
             [
              0.2222222222222222,
              "#7201a8"
             ],
             [
              0.3333333333333333,
              "#9c179e"
             ],
             [
              0.4444444444444444,
              "#bd3786"
             ],
             [
              0.5555555555555556,
              "#d8576b"
             ],
             [
              0.6666666666666666,
              "#ed7953"
             ],
             [
              0.7777777777777778,
              "#fb9f3a"
             ],
             [
              0.8888888888888888,
              "#fdca26"
             ],
             [
              1,
              "#f0f921"
             ]
            ],
            "type": "histogram2d"
           }
          ],
          "histogram2dcontour": [
           {
            "colorbar": {
             "outlinewidth": 0,
             "ticks": ""
            },
            "colorscale": [
             [
              0,
              "#0d0887"
             ],
             [
              0.1111111111111111,
              "#46039f"
             ],
             [
              0.2222222222222222,
              "#7201a8"
             ],
             [
              0.3333333333333333,
              "#9c179e"
             ],
             [
              0.4444444444444444,
              "#bd3786"
             ],
             [
              0.5555555555555556,
              "#d8576b"
             ],
             [
              0.6666666666666666,
              "#ed7953"
             ],
             [
              0.7777777777777778,
              "#fb9f3a"
             ],
             [
              0.8888888888888888,
              "#fdca26"
             ],
             [
              1,
              "#f0f921"
             ]
            ],
            "type": "histogram2dcontour"
           }
          ],
          "mesh3d": [
           {
            "colorbar": {
             "outlinewidth": 0,
             "ticks": ""
            },
            "type": "mesh3d"
           }
          ],
          "parcoords": [
           {
            "line": {
             "colorbar": {
              "outlinewidth": 0,
              "ticks": ""
             }
            },
            "type": "parcoords"
           }
          ],
          "pie": [
           {
            "automargin": true,
            "type": "pie"
           }
          ],
          "scatter": [
           {
            "fillpattern": {
             "fillmode": "overlay",
             "size": 10,
             "solidity": 0.2
            },
            "type": "scatter"
           }
          ],
          "scatter3d": [
           {
            "line": {
             "colorbar": {
              "outlinewidth": 0,
              "ticks": ""
             }
            },
            "marker": {
             "colorbar": {
              "outlinewidth": 0,
              "ticks": ""
             }
            },
            "type": "scatter3d"
           }
          ],
          "scattercarpet": [
           {
            "marker": {
             "colorbar": {
              "outlinewidth": 0,
              "ticks": ""
             }
            },
            "type": "scattercarpet"
           }
          ],
          "scattergeo": [
           {
            "marker": {
             "colorbar": {
              "outlinewidth": 0,
              "ticks": ""
             }
            },
            "type": "scattergeo"
           }
          ],
          "scattergl": [
           {
            "marker": {
             "colorbar": {
              "outlinewidth": 0,
              "ticks": ""
             }
            },
            "type": "scattergl"
           }
          ],
          "scattermapbox": [
           {
            "marker": {
             "colorbar": {
              "outlinewidth": 0,
              "ticks": ""
             }
            },
            "type": "scattermapbox"
           }
          ],
          "scatterpolar": [
           {
            "marker": {
             "colorbar": {
              "outlinewidth": 0,
              "ticks": ""
             }
            },
            "type": "scatterpolar"
           }
          ],
          "scatterpolargl": [
           {
            "marker": {
             "colorbar": {
              "outlinewidth": 0,
              "ticks": ""
             }
            },
            "type": "scatterpolargl"
           }
          ],
          "scatterternary": [
           {
            "marker": {
             "colorbar": {
              "outlinewidth": 0,
              "ticks": ""
             }
            },
            "type": "scatterternary"
           }
          ],
          "surface": [
           {
            "colorbar": {
             "outlinewidth": 0,
             "ticks": ""
            },
            "colorscale": [
             [
              0,
              "#0d0887"
             ],
             [
              0.1111111111111111,
              "#46039f"
             ],
             [
              0.2222222222222222,
              "#7201a8"
             ],
             [
              0.3333333333333333,
              "#9c179e"
             ],
             [
              0.4444444444444444,
              "#bd3786"
             ],
             [
              0.5555555555555556,
              "#d8576b"
             ],
             [
              0.6666666666666666,
              "#ed7953"
             ],
             [
              0.7777777777777778,
              "#fb9f3a"
             ],
             [
              0.8888888888888888,
              "#fdca26"
             ],
             [
              1,
              "#f0f921"
             ]
            ],
            "type": "surface"
           }
          ],
          "table": [
           {
            "cells": {
             "fill": {
              "color": "#EBF0F8"
             },
             "line": {
              "color": "white"
             }
            },
            "header": {
             "fill": {
              "color": "#C8D4E3"
             },
             "line": {
              "color": "white"
             }
            },
            "type": "table"
           }
          ]
         },
         "layout": {
          "annotationdefaults": {
           "arrowcolor": "#2a3f5f",
           "arrowhead": 0,
           "arrowwidth": 1
          },
          "autotypenumbers": "strict",
          "coloraxis": {
           "colorbar": {
            "outlinewidth": 0,
            "ticks": ""
           }
          },
          "colorscale": {
           "diverging": [
            [
             0,
             "#8e0152"
            ],
            [
             0.1,
             "#c51b7d"
            ],
            [
             0.2,
             "#de77ae"
            ],
            [
             0.3,
             "#f1b6da"
            ],
            [
             0.4,
             "#fde0ef"
            ],
            [
             0.5,
             "#f7f7f7"
            ],
            [
             0.6,
             "#e6f5d0"
            ],
            [
             0.7,
             "#b8e186"
            ],
            [
             0.8,
             "#7fbc41"
            ],
            [
             0.9,
             "#4d9221"
            ],
            [
             1,
             "#276419"
            ]
           ],
           "sequential": [
            [
             0,
             "#0d0887"
            ],
            [
             0.1111111111111111,
             "#46039f"
            ],
            [
             0.2222222222222222,
             "#7201a8"
            ],
            [
             0.3333333333333333,
             "#9c179e"
            ],
            [
             0.4444444444444444,
             "#bd3786"
            ],
            [
             0.5555555555555556,
             "#d8576b"
            ],
            [
             0.6666666666666666,
             "#ed7953"
            ],
            [
             0.7777777777777778,
             "#fb9f3a"
            ],
            [
             0.8888888888888888,
             "#fdca26"
            ],
            [
             1,
             "#f0f921"
            ]
           ],
           "sequentialminus": [
            [
             0,
             "#0d0887"
            ],
            [
             0.1111111111111111,
             "#46039f"
            ],
            [
             0.2222222222222222,
             "#7201a8"
            ],
            [
             0.3333333333333333,
             "#9c179e"
            ],
            [
             0.4444444444444444,
             "#bd3786"
            ],
            [
             0.5555555555555556,
             "#d8576b"
            ],
            [
             0.6666666666666666,
             "#ed7953"
            ],
            [
             0.7777777777777778,
             "#fb9f3a"
            ],
            [
             0.8888888888888888,
             "#fdca26"
            ],
            [
             1,
             "#f0f921"
            ]
           ]
          },
          "colorway": [
           "#636efa",
           "#EF553B",
           "#00cc96",
           "#ab63fa",
           "#FFA15A",
           "#19d3f3",
           "#FF6692",
           "#B6E880",
           "#FF97FF",
           "#FECB52"
          ],
          "font": {
           "color": "#2a3f5f"
          },
          "geo": {
           "bgcolor": "white",
           "lakecolor": "white",
           "landcolor": "#E5ECF6",
           "showlakes": true,
           "showland": true,
           "subunitcolor": "white"
          },
          "hoverlabel": {
           "align": "left"
          },
          "hovermode": "closest",
          "mapbox": {
           "style": "light"
          },
          "paper_bgcolor": "white",
          "plot_bgcolor": "#E5ECF6",
          "polar": {
           "angularaxis": {
            "gridcolor": "white",
            "linecolor": "white",
            "ticks": ""
           },
           "bgcolor": "#E5ECF6",
           "radialaxis": {
            "gridcolor": "white",
            "linecolor": "white",
            "ticks": ""
           }
          },
          "scene": {
           "xaxis": {
            "backgroundcolor": "#E5ECF6",
            "gridcolor": "white",
            "gridwidth": 2,
            "linecolor": "white",
            "showbackground": true,
            "ticks": "",
            "zerolinecolor": "white"
           },
           "yaxis": {
            "backgroundcolor": "#E5ECF6",
            "gridcolor": "white",
            "gridwidth": 2,
            "linecolor": "white",
            "showbackground": true,
            "ticks": "",
            "zerolinecolor": "white"
           },
           "zaxis": {
            "backgroundcolor": "#E5ECF6",
            "gridcolor": "white",
            "gridwidth": 2,
            "linecolor": "white",
            "showbackground": true,
            "ticks": "",
            "zerolinecolor": "white"
           }
          },
          "shapedefaults": {
           "line": {
            "color": "#2a3f5f"
           }
          },
          "ternary": {
           "aaxis": {
            "gridcolor": "white",
            "linecolor": "white",
            "ticks": ""
           },
           "baxis": {
            "gridcolor": "white",
            "linecolor": "white",
            "ticks": ""
           },
           "bgcolor": "#E5ECF6",
           "caxis": {
            "gridcolor": "white",
            "linecolor": "white",
            "ticks": ""
           }
          },
          "title": {
           "x": 0.05
          },
          "xaxis": {
           "automargin": true,
           "gridcolor": "white",
           "linecolor": "white",
           "ticks": "",
           "title": {
            "standoff": 15
           },
           "zerolinecolor": "white",
           "zerolinewidth": 2
          },
          "yaxis": {
           "automargin": true,
           "gridcolor": "white",
           "linecolor": "white",
           "ticks": "",
           "title": {
            "standoff": 15
           },
           "zerolinecolor": "white",
           "zerolinewidth": 2
          }
         }
        },
        "title": {
         "text": "Accuracy for distance feature"
        },
        "width": 700,
        "xaxis": {
         "title": {
          "text": "Epoch"
         }
        },
        "yaxis": {
         "title": {
          "text": "Accuracy"
         }
        }
       }
      }
     },
     "metadata": {},
     "output_type": "display_data"
    },
    {
     "data": {
      "text/plain": [
       "<Figure size 640x480 with 0 Axes>"
      ]
     },
     "metadata": {},
     "output_type": "display_data"
    }
   ],
   "source": [
    "plt.clf()\n",
    "fig = go.Figure()\n",
    "fig.add_trace(go.Scatter(\n",
    "                    y=history.history['distance_output_accuracy'],\n",
    "                    name='Train'))\n",
    "fig.add_trace(go.Scatter(\n",
    "                    y=history.history['val_distance_output_accuracy'],\n",
    "                    name='Valid'))\n",
    "fig.update_layout(height=500, \n",
    "                  width=700,\n",
    "                  title='Accuracy for distance feature',\n",
    "                  xaxis_title='Epoch',\n",
    "                  yaxis_title='Accuracy')\n",
    "fig.show()"
   ]
  },
  {
   "cell_type": "code",
   "execution_count": 23,
   "metadata": {},
   "outputs": [],
   "source": [
    "# checkpoint=tf.keras.callbacks.ModelCheckpoint('best_model.keras',monitor='val_gunshot_output_accuracy',save_best_only=True,mode='max')\n",
    "# history=model.fit([X_mfcc_train,X_melspec_train],\n",
    "#                   {\n",
    "#                       'gunshot_output':y_gun_train,\n",
    "#                       'direction_output':y_direction_train,\n",
    "#                       'distance_output':y_distance_train\n",
    "#                   },\n",
    "#                   validation_data=([X_mfcc_val,X_melspec_val],\n",
    "#                                     {\n",
    "#                                         'gunshot_output':y_gun_val,\n",
    "#                                         'direction_output':y_direction_val,\n",
    "#                                         'distance_output':y_distance_val\n",
    "#                                     }),\n",
    "#                     epochs=30,batch_size=32,callbacks=[checkpoint])\n",
    "# model = create_model(input_shape_mfcc, input_shape_melspec)\n",
    "# model=tf.keras.models.load_model('best_model.keras')\n",
    "# model.load_weights('best_model.keras')\n",
    "# results=model.evaluate([X_mfcc_test,X_melspec_test],{\n",
    "#                                         'gunshot_output':y_gun_test,\n",
    "#                                         'direction_output':y_direction_test,\n",
    "#                                         'distance_output':y_distance_test\n",
    "#                                     })\n",
    "# test_loss=results[0]\n",
    "# test_gun_accuracy=results[1]\n",
    "# test_direction_accuracy=results[2]\n",
    "# test_distance_accuracy=results[3]\n",
    "\n",
    "# # print(f'Test Accuracy:{test_accuracy*100:.2f}%')\n",
    "# # print(f'Test Loss:{test_loss*100:.2f}%')"
   ]
  }
 ],
 "metadata": {
  "kernelspec": {
   "display_name": "Python 3",
   "language": "python",
   "name": "python3"
  },
  "language_info": {
   "codemirror_mode": {
    "name": "ipython",
    "version": 3
   },
   "file_extension": ".py",
   "mimetype": "text/x-python",
   "name": "python",
   "nbconvert_exporter": "python",
   "pygments_lexer": "ipython3",
   "version": "3.12.4"
  }
 },
 "nbformat": 4,
 "nbformat_minor": 2
}
