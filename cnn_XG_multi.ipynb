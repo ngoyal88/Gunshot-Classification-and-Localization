{
 "cells": [
  {
   "cell_type": "code",
   "execution_count": 1,
   "metadata": {},
   "outputs": [],
   "source": [
    "import os\n",
    "import librosa\n",
    "import numpy as np\n",
    "import tensorflow as tf\n",
    "from sklearn.model_selection import train_test_split\n",
    "from tensorflow.keras.utils import to_categorical\n",
    "from tensorflow.keras.callbacks import ModelCheckpoint\n",
    "import matplotlib.pyplot as plt\n",
    "import pandas as pd\n",
    "from sklearn.preprocessing import LabelEncoder"
   ]
  },
  {
   "cell_type": "code",
   "execution_count": 2,
   "metadata": {},
   "outputs": [],
   "source": [
    "SR=22050\n",
    "N_MFCC=40\n",
    "N_MELS=128\n",
    "DURATION=1\n",
    "SAMPLES_PER_TRACK=SR*DURATION\n",
    "CLASSES=['AR','Sniper','nogun']"
   ]
  },
  {
   "cell_type": "code",
   "execution_count": 3,
   "metadata": {},
   "outputs": [],
   "source": [
    "dataset = pd.read_csv('dataset1.csv')"
   ]
  },
  {
   "cell_type": "code",
   "execution_count": 4,
   "metadata": {},
   "outputs": [],
   "source": [
    "\n",
    "\n",
    "# def extract_mfcc(audio_path, n_mfcc=13):\n",
    "#     y, sr = librosa.load(audio_path)\n",
    "#     mfcc = librosa.feature.mfcc(y=y, sr=sr, n_mfcc=n_mfcc)\n",
    "#     return np.mean(mfcc, axis=1) \n",
    "\n",
    "def extract_features(file_path):\n",
    "    y,sr=librosa.load(file_path,sr=SR,duration=DURATION)\n",
    "    if len(y)<SAMPLES_PER_TRACK:\n",
    "        y=np.pad(y,(0,SAMPLES_PER_TRACK-len(y)))\n",
    "    else:\n",
    "        y=y[:SAMPLES_PER_TRACK]\n",
    "    mfcc=librosa.feature.mfcc(y=y,sr=sr,n_mfcc=N_MFCC)\n",
    "    mfcc=librosa.util.fix_length(mfcc,size=174,axis=1)\n",
    "    mfcc=mfcc[...,np.newaxis]\n",
    "\n",
    "    mel_spec=librosa.feature.melspectrogram(y=y,sr=sr)\n",
    "    mel_spec=librosa.power_to_db(mel_spec,ref=np.max)\n",
    "    # plt.figure(figsize=(10,6))\n",
    "    # librosa.display.specshow(mel_spec,sr=SR,x_axis='time',y_axis='mel')\n",
    "    # plt.colorbar(format='%+2.0f dB')\n",
    "    # plt.title('Mel-Spectogram')\n",
    "    # plt.tight_layout()\n",
    "    # plt.show()\n",
    "    mel_spec=librosa.util.fix_length(mel_spec,size=174,axis=1)\n",
    "    mel_spec=mel_spec[...,np.newaxis]\n",
    "    return mfcc,mel_spec\n",
    "\n",
    "\n",
    "# audio_features_melspec = []\n",
    "# audio_features_mfcc=[]\n",
    "\n",
    "# for audio_file in os.listdir(audio_dir):\n",
    "#     if audio_file.endswith('.wav'):\n",
    "#         audio_path = os.path.join(audio_dir, audio_file)\n",
    "#         mfcc_features,melspec_features = extract_features(audio_path)\n",
    "#         audio_features_mfcc.append([audio_file] + mfcc_features.tolist())\n",
    "#         audio_features_melspec.append([audio_file]+melspec_features.tolist())\n",
    "\n"
   ]
  },
  {
   "cell_type": "code",
   "execution_count": 5,
   "metadata": {},
   "outputs": [],
   "source": [
    "def load_dataset(dataset_path):\n",
    "    x_mfcc,x_melspec,gun_type,direction,distance=[],[],[],[],[]\n",
    "    suffixes=['_gain.wav','_pan.wav','_pitch.wav','_reverse.wav','_speed.wav','_noise.wav','_original.wav']\n",
    "    for i,class_name in enumerate(CLASSES):\n",
    "        class_dir=os.path.join(dataset_path,class_name)\n",
    "        for file_name in os.listdir(class_dir):\n",
    "            if file_name.endswith(\".wav\"):\n",
    "                file_path=os.path.join(class_dir,file_name)\n",
    "                mfcc,mel_spec=extract_features(file_path)\n",
    "                x_mfcc.append(mfcc)\n",
    "                x_melspec.append(mel_spec)\n",
    "                if class_name=='Sniper':\n",
    "                    for suffix in suffixes:\n",
    "                        if file_name.endswith(suffix):\n",
    "                            file_name=file_name[:-len(suffix)]+'.wav'\n",
    "                gun_type.append(i)\n",
    "                if class_name=='nogun':\n",
    "                    direction.append('None')\n",
    "                    distance.append('None')\n",
    "                else:\n",
    "                    row=dataset[dataset['name']==file_name]\n",
    "                    direction.append(row['dire'].values[0])\n",
    "                    distance.append(row['dist'].values[0])\n",
    "    x_mfcc=np.array(x_mfcc)\n",
    "    x_melspec=np.array(x_melspec)\n",
    "    gun_encoder=LabelEncoder()\n",
    "    gun_types_encoded=gun_encoder.fit_transform(gun_type)\n",
    "    gun_types_categorical=to_categorical(gun_types_encoded)\n",
    "    gun_types_categorical=np.array(gun_types_categorical)\n",
    "    direction_encoder=LabelEncoder()\n",
    "    direction_types_encoded=direction_encoder.fit_transform(direction)\n",
    "    direction_types_categorical=to_categorical(direction_types_encoded)\n",
    "    direction_types_categorical=np.array(direction_types_categorical)\n",
    "    distance_encoder=LabelEncoder()\n",
    "    distance_types_encoded=distance_encoder.fit_transform(distance)\n",
    "    distance_types_categorical=to_categorical(distance_types_encoded)\n",
    "    distance_types_categorical=np.array(distance_types_categorical)\n",
    "    return x_mfcc,x_melspec,gun_types_categorical,direction_types_categorical,distance_types_categorical\n"
   ]
  },
  {
   "cell_type": "code",
   "execution_count": 6,
   "metadata": {},
   "outputs": [],
   "source": [
    "X_mfcc,X_melspec,y_gun,y_direction,y_distance=load_dataset('gun_sound_v9')"
   ]
  },
  {
   "cell_type": "code",
   "execution_count": 7,
   "metadata": {},
   "outputs": [
    {
     "data": {
      "text/plain": [
       "(2807, 128, 174, 1)"
      ]
     },
     "execution_count": 7,
     "metadata": {},
     "output_type": "execute_result"
    }
   ],
   "source": [
    "X_melspec_shape=X_melspec.shape\n",
    "X_melspec_shape"
   ]
  },
  {
   "cell_type": "code",
   "execution_count": 8,
   "metadata": {},
   "outputs": [
    {
     "data": {
      "text/plain": [
       "(2807, 40, 174, 1)"
      ]
     },
     "execution_count": 8,
     "metadata": {},
     "output_type": "execute_result"
    }
   ],
   "source": [
    "X_mfcc_shape=X_mfcc.shape\n",
    "X_mfcc_shape"
   ]
  },
  {
   "cell_type": "code",
   "execution_count": 9,
   "metadata": {},
   "outputs": [
    {
     "data": {
      "text/plain": [
       "(2807, 3)"
      ]
     },
     "execution_count": 9,
     "metadata": {},
     "output_type": "execute_result"
    }
   ],
   "source": [
    "y_gun.shape"
   ]
  },
  {
   "cell_type": "code",
   "execution_count": 10,
   "metadata": {},
   "outputs": [
    {
     "data": {
      "text/plain": [
       "(2807, 6)"
      ]
     },
     "execution_count": 10,
     "metadata": {},
     "output_type": "execute_result"
    }
   ],
   "source": [
    "y_direction.shape"
   ]
  },
  {
   "cell_type": "code",
   "execution_count": 11,
   "metadata": {},
   "outputs": [],
   "source": [
    "X_mfcc_train, X_mfcc_test, X_melspec_train, X_melspec_test, y_gun_train, y_gun_test,y_distance_train,y_distance_test,y_direction_train,y_direction_test = train_test_split(\n",
    "    X_mfcc, X_melspec, y_gun,y_distance,y_direction,test_size=0.3, random_state=42\n",
    ")\n",
    "\n",
    "# Then, split the training+validation set into training and validation sets\n",
    "# X_mfcc_train, X_mfcc_val, X_melspec_train, X_melspec_val, y_gun_train, y_gun_val,y_distance_train,y_distance_val,y_direction_train,y_direction_val = train_test_split(\n",
    "#     X_mfcc_trainval, X_melspec_trainval, y_gun_trainval,y_distance_trainval,y_direction_trainval, test_size=0.3, random_state=42\n",
    "# )"
   ]
  },
  {
   "cell_type": "code",
   "execution_count": 12,
   "metadata": {},
   "outputs": [
    {
     "data": {
      "text/plain": [
       "(1964, 3)"
      ]
     },
     "execution_count": 12,
     "metadata": {},
     "output_type": "execute_result"
    }
   ],
   "source": [
    "y_gun_train=np.array(y_gun_train)\n",
    "y_gun_train.shape"
   ]
  },
  {
   "cell_type": "code",
   "execution_count": 13,
   "metadata": {},
   "outputs": [
    {
     "data": {
      "text/plain": [
       "(843, 40, 174, 1)"
      ]
     },
     "execution_count": 13,
     "metadata": {},
     "output_type": "execute_result"
    }
   ],
   "source": [
    "X_mfcc_test.shape"
   ]
  },
  {
   "cell_type": "code",
   "execution_count": 14,
   "metadata": {},
   "outputs": [],
   "source": [
    "import tensorflow as tf\n",
    "from tensorflow.keras.metrics import AUC\n",
    "from tensorflow.keras.layers import Conv2D,MaxPooling2D,Dropout,GlobalAveragePooling2D,Dense,Input\n",
    "from tensorflow.keras.models import Model\n",
    "def create_model(input_shape_mfcc,input_shape_melspec,num_classes=3,num_directions=6,num_distances=7):\n",
    "    input_mfcc=Input(shape=input_shape_mfcc,name='mfcc_input')\n",
    "    x_mfcc=Conv2D(16,kernel_size=(3,3),activation='relu')(input_mfcc)\n",
    "    x_mfcc=MaxPooling2D(pool_size=(2,2))(x_mfcc)\n",
    "    x_mfcc=Dropout(0.3)(x_mfcc)\n",
    "\n",
    "    x_mfcc=Conv2D(32,kernel_size=(3,3),activation='relu')(x_mfcc)\n",
    "    x_mfcc=MaxPooling2D(pool_size=(2,2))(x_mfcc)\n",
    "    x_mfcc=Dropout(0.3)(x_mfcc)\n",
    "\n",
    "    x_mfcc=Conv2D(64,kernel_size=(3,3),activation='relu')(x_mfcc)\n",
    "    x_mfcc=MaxPooling2D(pool_size=(1,2))(x_mfcc)\n",
    "    x_mfcc=Dropout(0.3)(x_mfcc)\n",
    "    \n",
    "    x_mfcc=Conv2D(128,kernel_size=(3,3),activation='relu')(x_mfcc)\n",
    "    x_mfcc=MaxPooling2D(pool_size=(2,2))(x_mfcc)\n",
    "    x_mfcc=Dropout(0.3)(x_mfcc)\n",
    "    \n",
    "    x_mfcc=GlobalAveragePooling2D()(x_mfcc)\n",
    "\n",
    "    input_melspec=Input(shape=input_shape_melspec,name='melspec_input')\n",
    "    x_melspec=Conv2D(16,kernel_size=(3,3),activation='relu')(input_melspec)\n",
    "    x_melspec=MaxPooling2D(pool_size=(2,2))(x_melspec)\n",
    "    x_melspec=Dropout(0.3)(x_melspec)\n",
    "\n",
    "    x_melspec=Conv2D(32,kernel_size=(3,3),activation='relu')(x_melspec)\n",
    "    x_melspec=MaxPooling2D(pool_size=(2,2))(x_melspec)\n",
    "    x_melspec=Dropout(0.3)(x_melspec)\n",
    "\n",
    "    x_melspec=Conv2D(64,kernel_size=(3,3),activation='relu')(x_melspec)\n",
    "    x_melspec=MaxPooling2D(pool_size=(2,2))(x_melspec)\n",
    "    x_melspec=Dropout(0.3)(x_melspec)\n",
    "\n",
    "    x_melspec=Conv2D(128,kernel_size=(3,3),activation='relu')(x_melspec)\n",
    "    x_melspec=MaxPooling2D(pool_size=(2,2))(x_melspec)\n",
    "    x_melspec=Dropout(0.3)(x_melspec)\n",
    "\n",
    "    x_melspec = GlobalAveragePooling2D()(x_melspec)\n",
    "\n",
    "    concatenated=tf.keras.layers.concatenate([x_mfcc,x_melspec])\n",
    "    common_dense=Dense(128,activation='relu',name='concatenated')(concatenated)\n",
    "    gunshot_output=Dense(num_classes,activation='softmax',name='gunshot_output')(common_dense)\n",
    "    direction_output=Dense(num_directions,activation='softmax',name='direction_output')(common_dense)\n",
    "    distance_output=Dense(num_distances,activation='softmax',name='distance_output')(common_dense)\n",
    "\n",
    "    model=Model(inputs=[input_mfcc,input_melspec],outputs=[gunshot_output,direction_output,distance_output])\n",
    "    \n",
    "    return model"
   ]
  },
  {
   "cell_type": "code",
   "execution_count": 15,
   "metadata": {},
   "outputs": [],
   "source": [
    "import xgboost as xgb\n",
    "from sklearn.model_selection import train_test_split\n",
    "import numpy as np\n",
    "\n",
    "def create_feature_extractor(input_shape_mfcc, input_shape_melspec):\n",
    "    model = create_model(input_shape_mfcc, input_shape_melspec)\n",
    "    feature_extractor = Model(inputs=model.inputs, outputs=model.get_layer('concatenated').output)\n",
    "    return model,feature_extractor"
   ]
  },
  {
   "cell_type": "code",
   "execution_count": 16,
   "metadata": {},
   "outputs": [],
   "source": [
    "input_shape_mfcc=(40,174,1)\n",
    "input_shape_melspec=(128,174,1)\n",
    "model,feature_extractor=create_feature_extractor(input_shape_mfcc,input_shape_melspec)"
   ]
  },
  {
   "cell_type": "code",
   "execution_count": 17,
   "metadata": {},
   "outputs": [
    {
     "data": {
      "text/html": [
       "<pre style=\"white-space:pre;overflow-x:auto;line-height:normal;font-family:Menlo,'DejaVu Sans Mono',consolas,'Courier New',monospace\"><span style=\"font-weight: bold\">Model: \"functional_1\"</span>\n",
       "</pre>\n"
      ],
      "text/plain": [
       "\u001b[1mModel: \"functional_1\"\u001b[0m\n"
      ]
     },
     "metadata": {},
     "output_type": "display_data"
    },
    {
     "data": {
      "text/html": [
       "<pre style=\"white-space:pre;overflow-x:auto;line-height:normal;font-family:Menlo,'DejaVu Sans Mono',consolas,'Courier New',monospace\">┏━━━━━━━━━━━━━━━━━━━━━┳━━━━━━━━━━━━━━━━━━━┳━━━━━━━━━━━━┳━━━━━━━━━━━━━━━━━━━┓\n",
       "┃<span style=\"font-weight: bold\"> Layer (type)        </span>┃<span style=\"font-weight: bold\"> Output Shape      </span>┃<span style=\"font-weight: bold\">    Param # </span>┃<span style=\"font-weight: bold\"> Connected to      </span>┃\n",
       "┡━━━━━━━━━━━━━━━━━━━━━╇━━━━━━━━━━━━━━━━━━━╇━━━━━━━━━━━━╇━━━━━━━━━━━━━━━━━━━┩\n",
       "│ mfcc_input          │ (<span style=\"color: #00d7ff; text-decoration-color: #00d7ff\">None</span>, <span style=\"color: #00af00; text-decoration-color: #00af00\">40</span>, <span style=\"color: #00af00; text-decoration-color: #00af00\">174</span>,   │          <span style=\"color: #00af00; text-decoration-color: #00af00\">0</span> │ -                 │\n",
       "│ (<span style=\"color: #0087ff; text-decoration-color: #0087ff\">InputLayer</span>)        │ <span style=\"color: #00af00; text-decoration-color: #00af00\">1</span>)                │            │                   │\n",
       "├─────────────────────┼───────────────────┼────────────┼───────────────────┤\n",
       "│ melspec_input       │ (<span style=\"color: #00d7ff; text-decoration-color: #00d7ff\">None</span>, <span style=\"color: #00af00; text-decoration-color: #00af00\">128</span>, <span style=\"color: #00af00; text-decoration-color: #00af00\">174</span>,  │          <span style=\"color: #00af00; text-decoration-color: #00af00\">0</span> │ -                 │\n",
       "│ (<span style=\"color: #0087ff; text-decoration-color: #0087ff\">InputLayer</span>)        │ <span style=\"color: #00af00; text-decoration-color: #00af00\">1</span>)                │            │                   │\n",
       "├─────────────────────┼───────────────────┼────────────┼───────────────────┤\n",
       "│ conv2d (<span style=\"color: #0087ff; text-decoration-color: #0087ff\">Conv2D</span>)     │ (<span style=\"color: #00d7ff; text-decoration-color: #00d7ff\">None</span>, <span style=\"color: #00af00; text-decoration-color: #00af00\">38</span>, <span style=\"color: #00af00; text-decoration-color: #00af00\">172</span>,   │        <span style=\"color: #00af00; text-decoration-color: #00af00\">160</span> │ mfcc_input[<span style=\"color: #00af00; text-decoration-color: #00af00\">0</span>][<span style=\"color: #00af00; text-decoration-color: #00af00\">0</span>]  │\n",
       "│                     │ <span style=\"color: #00af00; text-decoration-color: #00af00\">16</span>)               │            │                   │\n",
       "├─────────────────────┼───────────────────┼────────────┼───────────────────┤\n",
       "│ conv2d_4 (<span style=\"color: #0087ff; text-decoration-color: #0087ff\">Conv2D</span>)   │ (<span style=\"color: #00d7ff; text-decoration-color: #00d7ff\">None</span>, <span style=\"color: #00af00; text-decoration-color: #00af00\">126</span>, <span style=\"color: #00af00; text-decoration-color: #00af00\">172</span>,  │        <span style=\"color: #00af00; text-decoration-color: #00af00\">160</span> │ melspec_input[<span style=\"color: #00af00; text-decoration-color: #00af00\">0</span>]… │\n",
       "│                     │ <span style=\"color: #00af00; text-decoration-color: #00af00\">16</span>)               │            │                   │\n",
       "├─────────────────────┼───────────────────┼────────────┼───────────────────┤\n",
       "│ max_pooling2d       │ (<span style=\"color: #00d7ff; text-decoration-color: #00d7ff\">None</span>, <span style=\"color: #00af00; text-decoration-color: #00af00\">19</span>, <span style=\"color: #00af00; text-decoration-color: #00af00\">86</span>,    │          <span style=\"color: #00af00; text-decoration-color: #00af00\">0</span> │ conv2d[<span style=\"color: #00af00; text-decoration-color: #00af00\">0</span>][<span style=\"color: #00af00; text-decoration-color: #00af00\">0</span>]      │\n",
       "│ (<span style=\"color: #0087ff; text-decoration-color: #0087ff\">MaxPooling2D</span>)      │ <span style=\"color: #00af00; text-decoration-color: #00af00\">16</span>)               │            │                   │\n",
       "├─────────────────────┼───────────────────┼────────────┼───────────────────┤\n",
       "│ max_pooling2d_4     │ (<span style=\"color: #00d7ff; text-decoration-color: #00d7ff\">None</span>, <span style=\"color: #00af00; text-decoration-color: #00af00\">63</span>, <span style=\"color: #00af00; text-decoration-color: #00af00\">86</span>,    │          <span style=\"color: #00af00; text-decoration-color: #00af00\">0</span> │ conv2d_4[<span style=\"color: #00af00; text-decoration-color: #00af00\">0</span>][<span style=\"color: #00af00; text-decoration-color: #00af00\">0</span>]    │\n",
       "│ (<span style=\"color: #0087ff; text-decoration-color: #0087ff\">MaxPooling2D</span>)      │ <span style=\"color: #00af00; text-decoration-color: #00af00\">16</span>)               │            │                   │\n",
       "├─────────────────────┼───────────────────┼────────────┼───────────────────┤\n",
       "│ dropout (<span style=\"color: #0087ff; text-decoration-color: #0087ff\">Dropout</span>)   │ (<span style=\"color: #00d7ff; text-decoration-color: #00d7ff\">None</span>, <span style=\"color: #00af00; text-decoration-color: #00af00\">19</span>, <span style=\"color: #00af00; text-decoration-color: #00af00\">86</span>,    │          <span style=\"color: #00af00; text-decoration-color: #00af00\">0</span> │ max_pooling2d[<span style=\"color: #00af00; text-decoration-color: #00af00\">0</span>]… │\n",
       "│                     │ <span style=\"color: #00af00; text-decoration-color: #00af00\">16</span>)               │            │                   │\n",
       "├─────────────────────┼───────────────────┼────────────┼───────────────────┤\n",
       "│ dropout_4 (<span style=\"color: #0087ff; text-decoration-color: #0087ff\">Dropout</span>) │ (<span style=\"color: #00d7ff; text-decoration-color: #00d7ff\">None</span>, <span style=\"color: #00af00; text-decoration-color: #00af00\">63</span>, <span style=\"color: #00af00; text-decoration-color: #00af00\">86</span>,    │          <span style=\"color: #00af00; text-decoration-color: #00af00\">0</span> │ max_pooling2d_4[<span style=\"color: #00af00; text-decoration-color: #00af00\">…</span> │\n",
       "│                     │ <span style=\"color: #00af00; text-decoration-color: #00af00\">16</span>)               │            │                   │\n",
       "├─────────────────────┼───────────────────┼────────────┼───────────────────┤\n",
       "│ conv2d_1 (<span style=\"color: #0087ff; text-decoration-color: #0087ff\">Conv2D</span>)   │ (<span style=\"color: #00d7ff; text-decoration-color: #00d7ff\">None</span>, <span style=\"color: #00af00; text-decoration-color: #00af00\">17</span>, <span style=\"color: #00af00; text-decoration-color: #00af00\">84</span>,    │      <span style=\"color: #00af00; text-decoration-color: #00af00\">4,640</span> │ dropout[<span style=\"color: #00af00; text-decoration-color: #00af00\">0</span>][<span style=\"color: #00af00; text-decoration-color: #00af00\">0</span>]     │\n",
       "│                     │ <span style=\"color: #00af00; text-decoration-color: #00af00\">32</span>)               │            │                   │\n",
       "├─────────────────────┼───────────────────┼────────────┼───────────────────┤\n",
       "│ conv2d_5 (<span style=\"color: #0087ff; text-decoration-color: #0087ff\">Conv2D</span>)   │ (<span style=\"color: #00d7ff; text-decoration-color: #00d7ff\">None</span>, <span style=\"color: #00af00; text-decoration-color: #00af00\">61</span>, <span style=\"color: #00af00; text-decoration-color: #00af00\">84</span>,    │      <span style=\"color: #00af00; text-decoration-color: #00af00\">4,640</span> │ dropout_4[<span style=\"color: #00af00; text-decoration-color: #00af00\">0</span>][<span style=\"color: #00af00; text-decoration-color: #00af00\">0</span>]   │\n",
       "│                     │ <span style=\"color: #00af00; text-decoration-color: #00af00\">32</span>)               │            │                   │\n",
       "├─────────────────────┼───────────────────┼────────────┼───────────────────┤\n",
       "│ max_pooling2d_1     │ (<span style=\"color: #00d7ff; text-decoration-color: #00d7ff\">None</span>, <span style=\"color: #00af00; text-decoration-color: #00af00\">8</span>, <span style=\"color: #00af00; text-decoration-color: #00af00\">42</span>, <span style=\"color: #00af00; text-decoration-color: #00af00\">32</span>) │          <span style=\"color: #00af00; text-decoration-color: #00af00\">0</span> │ conv2d_1[<span style=\"color: #00af00; text-decoration-color: #00af00\">0</span>][<span style=\"color: #00af00; text-decoration-color: #00af00\">0</span>]    │\n",
       "│ (<span style=\"color: #0087ff; text-decoration-color: #0087ff\">MaxPooling2D</span>)      │                   │            │                   │\n",
       "├─────────────────────┼───────────────────┼────────────┼───────────────────┤\n",
       "│ max_pooling2d_5     │ (<span style=\"color: #00d7ff; text-decoration-color: #00d7ff\">None</span>, <span style=\"color: #00af00; text-decoration-color: #00af00\">30</span>, <span style=\"color: #00af00; text-decoration-color: #00af00\">42</span>,    │          <span style=\"color: #00af00; text-decoration-color: #00af00\">0</span> │ conv2d_5[<span style=\"color: #00af00; text-decoration-color: #00af00\">0</span>][<span style=\"color: #00af00; text-decoration-color: #00af00\">0</span>]    │\n",
       "│ (<span style=\"color: #0087ff; text-decoration-color: #0087ff\">MaxPooling2D</span>)      │ <span style=\"color: #00af00; text-decoration-color: #00af00\">32</span>)               │            │                   │\n",
       "├─────────────────────┼───────────────────┼────────────┼───────────────────┤\n",
       "│ dropout_1 (<span style=\"color: #0087ff; text-decoration-color: #0087ff\">Dropout</span>) │ (<span style=\"color: #00d7ff; text-decoration-color: #00d7ff\">None</span>, <span style=\"color: #00af00; text-decoration-color: #00af00\">8</span>, <span style=\"color: #00af00; text-decoration-color: #00af00\">42</span>, <span style=\"color: #00af00; text-decoration-color: #00af00\">32</span>) │          <span style=\"color: #00af00; text-decoration-color: #00af00\">0</span> │ max_pooling2d_1[<span style=\"color: #00af00; text-decoration-color: #00af00\">…</span> │\n",
       "├─────────────────────┼───────────────────┼────────────┼───────────────────┤\n",
       "│ dropout_5 (<span style=\"color: #0087ff; text-decoration-color: #0087ff\">Dropout</span>) │ (<span style=\"color: #00d7ff; text-decoration-color: #00d7ff\">None</span>, <span style=\"color: #00af00; text-decoration-color: #00af00\">30</span>, <span style=\"color: #00af00; text-decoration-color: #00af00\">42</span>,    │          <span style=\"color: #00af00; text-decoration-color: #00af00\">0</span> │ max_pooling2d_5[<span style=\"color: #00af00; text-decoration-color: #00af00\">…</span> │\n",
       "│                     │ <span style=\"color: #00af00; text-decoration-color: #00af00\">32</span>)               │            │                   │\n",
       "├─────────────────────┼───────────────────┼────────────┼───────────────────┤\n",
       "│ conv2d_2 (<span style=\"color: #0087ff; text-decoration-color: #0087ff\">Conv2D</span>)   │ (<span style=\"color: #00d7ff; text-decoration-color: #00d7ff\">None</span>, <span style=\"color: #00af00; text-decoration-color: #00af00\">6</span>, <span style=\"color: #00af00; text-decoration-color: #00af00\">40</span>, <span style=\"color: #00af00; text-decoration-color: #00af00\">64</span>) │     <span style=\"color: #00af00; text-decoration-color: #00af00\">18,496</span> │ dropout_1[<span style=\"color: #00af00; text-decoration-color: #00af00\">0</span>][<span style=\"color: #00af00; text-decoration-color: #00af00\">0</span>]   │\n",
       "├─────────────────────┼───────────────────┼────────────┼───────────────────┤\n",
       "│ conv2d_6 (<span style=\"color: #0087ff; text-decoration-color: #0087ff\">Conv2D</span>)   │ (<span style=\"color: #00d7ff; text-decoration-color: #00d7ff\">None</span>, <span style=\"color: #00af00; text-decoration-color: #00af00\">28</span>, <span style=\"color: #00af00; text-decoration-color: #00af00\">40</span>,    │     <span style=\"color: #00af00; text-decoration-color: #00af00\">18,496</span> │ dropout_5[<span style=\"color: #00af00; text-decoration-color: #00af00\">0</span>][<span style=\"color: #00af00; text-decoration-color: #00af00\">0</span>]   │\n",
       "│                     │ <span style=\"color: #00af00; text-decoration-color: #00af00\">64</span>)               │            │                   │\n",
       "├─────────────────────┼───────────────────┼────────────┼───────────────────┤\n",
       "│ max_pooling2d_2     │ (<span style=\"color: #00d7ff; text-decoration-color: #00d7ff\">None</span>, <span style=\"color: #00af00; text-decoration-color: #00af00\">6</span>, <span style=\"color: #00af00; text-decoration-color: #00af00\">20</span>, <span style=\"color: #00af00; text-decoration-color: #00af00\">64</span>) │          <span style=\"color: #00af00; text-decoration-color: #00af00\">0</span> │ conv2d_2[<span style=\"color: #00af00; text-decoration-color: #00af00\">0</span>][<span style=\"color: #00af00; text-decoration-color: #00af00\">0</span>]    │\n",
       "│ (<span style=\"color: #0087ff; text-decoration-color: #0087ff\">MaxPooling2D</span>)      │                   │            │                   │\n",
       "├─────────────────────┼───────────────────┼────────────┼───────────────────┤\n",
       "│ max_pooling2d_6     │ (<span style=\"color: #00d7ff; text-decoration-color: #00d7ff\">None</span>, <span style=\"color: #00af00; text-decoration-color: #00af00\">14</span>, <span style=\"color: #00af00; text-decoration-color: #00af00\">20</span>,    │          <span style=\"color: #00af00; text-decoration-color: #00af00\">0</span> │ conv2d_6[<span style=\"color: #00af00; text-decoration-color: #00af00\">0</span>][<span style=\"color: #00af00; text-decoration-color: #00af00\">0</span>]    │\n",
       "│ (<span style=\"color: #0087ff; text-decoration-color: #0087ff\">MaxPooling2D</span>)      │ <span style=\"color: #00af00; text-decoration-color: #00af00\">64</span>)               │            │                   │\n",
       "├─────────────────────┼───────────────────┼────────────┼───────────────────┤\n",
       "│ dropout_2 (<span style=\"color: #0087ff; text-decoration-color: #0087ff\">Dropout</span>) │ (<span style=\"color: #00d7ff; text-decoration-color: #00d7ff\">None</span>, <span style=\"color: #00af00; text-decoration-color: #00af00\">6</span>, <span style=\"color: #00af00; text-decoration-color: #00af00\">20</span>, <span style=\"color: #00af00; text-decoration-color: #00af00\">64</span>) │          <span style=\"color: #00af00; text-decoration-color: #00af00\">0</span> │ max_pooling2d_2[<span style=\"color: #00af00; text-decoration-color: #00af00\">…</span> │\n",
       "├─────────────────────┼───────────────────┼────────────┼───────────────────┤\n",
       "│ dropout_6 (<span style=\"color: #0087ff; text-decoration-color: #0087ff\">Dropout</span>) │ (<span style=\"color: #00d7ff; text-decoration-color: #00d7ff\">None</span>, <span style=\"color: #00af00; text-decoration-color: #00af00\">14</span>, <span style=\"color: #00af00; text-decoration-color: #00af00\">20</span>,    │          <span style=\"color: #00af00; text-decoration-color: #00af00\">0</span> │ max_pooling2d_6[<span style=\"color: #00af00; text-decoration-color: #00af00\">…</span> │\n",
       "│                     │ <span style=\"color: #00af00; text-decoration-color: #00af00\">64</span>)               │            │                   │\n",
       "├─────────────────────┼───────────────────┼────────────┼───────────────────┤\n",
       "│ conv2d_3 (<span style=\"color: #0087ff; text-decoration-color: #0087ff\">Conv2D</span>)   │ (<span style=\"color: #00d7ff; text-decoration-color: #00d7ff\">None</span>, <span style=\"color: #00af00; text-decoration-color: #00af00\">4</span>, <span style=\"color: #00af00; text-decoration-color: #00af00\">18</span>,     │     <span style=\"color: #00af00; text-decoration-color: #00af00\">73,856</span> │ dropout_2[<span style=\"color: #00af00; text-decoration-color: #00af00\">0</span>][<span style=\"color: #00af00; text-decoration-color: #00af00\">0</span>]   │\n",
       "│                     │ <span style=\"color: #00af00; text-decoration-color: #00af00\">128</span>)              │            │                   │\n",
       "├─────────────────────┼───────────────────┼────────────┼───────────────────┤\n",
       "│ conv2d_7 (<span style=\"color: #0087ff; text-decoration-color: #0087ff\">Conv2D</span>)   │ (<span style=\"color: #00d7ff; text-decoration-color: #00d7ff\">None</span>, <span style=\"color: #00af00; text-decoration-color: #00af00\">12</span>, <span style=\"color: #00af00; text-decoration-color: #00af00\">18</span>,    │     <span style=\"color: #00af00; text-decoration-color: #00af00\">73,856</span> │ dropout_6[<span style=\"color: #00af00; text-decoration-color: #00af00\">0</span>][<span style=\"color: #00af00; text-decoration-color: #00af00\">0</span>]   │\n",
       "│                     │ <span style=\"color: #00af00; text-decoration-color: #00af00\">128</span>)              │            │                   │\n",
       "├─────────────────────┼───────────────────┼────────────┼───────────────────┤\n",
       "│ max_pooling2d_3     │ (<span style=\"color: #00d7ff; text-decoration-color: #00d7ff\">None</span>, <span style=\"color: #00af00; text-decoration-color: #00af00\">2</span>, <span style=\"color: #00af00; text-decoration-color: #00af00\">9</span>, <span style=\"color: #00af00; text-decoration-color: #00af00\">128</span>) │          <span style=\"color: #00af00; text-decoration-color: #00af00\">0</span> │ conv2d_3[<span style=\"color: #00af00; text-decoration-color: #00af00\">0</span>][<span style=\"color: #00af00; text-decoration-color: #00af00\">0</span>]    │\n",
       "│ (<span style=\"color: #0087ff; text-decoration-color: #0087ff\">MaxPooling2D</span>)      │                   │            │                   │\n",
       "├─────────────────────┼───────────────────┼────────────┼───────────────────┤\n",
       "│ max_pooling2d_7     │ (<span style=\"color: #00d7ff; text-decoration-color: #00d7ff\">None</span>, <span style=\"color: #00af00; text-decoration-color: #00af00\">6</span>, <span style=\"color: #00af00; text-decoration-color: #00af00\">9</span>, <span style=\"color: #00af00; text-decoration-color: #00af00\">128</span>) │          <span style=\"color: #00af00; text-decoration-color: #00af00\">0</span> │ conv2d_7[<span style=\"color: #00af00; text-decoration-color: #00af00\">0</span>][<span style=\"color: #00af00; text-decoration-color: #00af00\">0</span>]    │\n",
       "│ (<span style=\"color: #0087ff; text-decoration-color: #0087ff\">MaxPooling2D</span>)      │                   │            │                   │\n",
       "├─────────────────────┼───────────────────┼────────────┼───────────────────┤\n",
       "│ dropout_3 (<span style=\"color: #0087ff; text-decoration-color: #0087ff\">Dropout</span>) │ (<span style=\"color: #00d7ff; text-decoration-color: #00d7ff\">None</span>, <span style=\"color: #00af00; text-decoration-color: #00af00\">2</span>, <span style=\"color: #00af00; text-decoration-color: #00af00\">9</span>, <span style=\"color: #00af00; text-decoration-color: #00af00\">128</span>) │          <span style=\"color: #00af00; text-decoration-color: #00af00\">0</span> │ max_pooling2d_3[<span style=\"color: #00af00; text-decoration-color: #00af00\">…</span> │\n",
       "├─────────────────────┼───────────────────┼────────────┼───────────────────┤\n",
       "│ dropout_7 (<span style=\"color: #0087ff; text-decoration-color: #0087ff\">Dropout</span>) │ (<span style=\"color: #00d7ff; text-decoration-color: #00d7ff\">None</span>, <span style=\"color: #00af00; text-decoration-color: #00af00\">6</span>, <span style=\"color: #00af00; text-decoration-color: #00af00\">9</span>, <span style=\"color: #00af00; text-decoration-color: #00af00\">128</span>) │          <span style=\"color: #00af00; text-decoration-color: #00af00\">0</span> │ max_pooling2d_7[<span style=\"color: #00af00; text-decoration-color: #00af00\">…</span> │\n",
       "├─────────────────────┼───────────────────┼────────────┼───────────────────┤\n",
       "│ global_average_poo… │ (<span style=\"color: #00d7ff; text-decoration-color: #00d7ff\">None</span>, <span style=\"color: #00af00; text-decoration-color: #00af00\">128</span>)       │          <span style=\"color: #00af00; text-decoration-color: #00af00\">0</span> │ dropout_3[<span style=\"color: #00af00; text-decoration-color: #00af00\">0</span>][<span style=\"color: #00af00; text-decoration-color: #00af00\">0</span>]   │\n",
       "│ (<span style=\"color: #0087ff; text-decoration-color: #0087ff\">GlobalAveragePool…</span> │                   │            │                   │\n",
       "├─────────────────────┼───────────────────┼────────────┼───────────────────┤\n",
       "│ global_average_poo… │ (<span style=\"color: #00d7ff; text-decoration-color: #00d7ff\">None</span>, <span style=\"color: #00af00; text-decoration-color: #00af00\">128</span>)       │          <span style=\"color: #00af00; text-decoration-color: #00af00\">0</span> │ dropout_7[<span style=\"color: #00af00; text-decoration-color: #00af00\">0</span>][<span style=\"color: #00af00; text-decoration-color: #00af00\">0</span>]   │\n",
       "│ (<span style=\"color: #0087ff; text-decoration-color: #0087ff\">GlobalAveragePool…</span> │                   │            │                   │\n",
       "├─────────────────────┼───────────────────┼────────────┼───────────────────┤\n",
       "│ concatenate         │ (<span style=\"color: #00d7ff; text-decoration-color: #00d7ff\">None</span>, <span style=\"color: #00af00; text-decoration-color: #00af00\">256</span>)       │          <span style=\"color: #00af00; text-decoration-color: #00af00\">0</span> │ global_average_p… │\n",
       "│ (<span style=\"color: #0087ff; text-decoration-color: #0087ff\">Concatenate</span>)       │                   │            │ global_average_p… │\n",
       "├─────────────────────┼───────────────────┼────────────┼───────────────────┤\n",
       "│ concatenated        │ (<span style=\"color: #00d7ff; text-decoration-color: #00d7ff\">None</span>, <span style=\"color: #00af00; text-decoration-color: #00af00\">128</span>)       │     <span style=\"color: #00af00; text-decoration-color: #00af00\">32,896</span> │ concatenate[<span style=\"color: #00af00; text-decoration-color: #00af00\">0</span>][<span style=\"color: #00af00; text-decoration-color: #00af00\">0</span>] │\n",
       "│ (<span style=\"color: #0087ff; text-decoration-color: #0087ff\">Dense</span>)             │                   │            │                   │\n",
       "├─────────────────────┼───────────────────┼────────────┼───────────────────┤\n",
       "│ gunshot_output      │ (<span style=\"color: #00d7ff; text-decoration-color: #00d7ff\">None</span>, <span style=\"color: #00af00; text-decoration-color: #00af00\">3</span>)         │        <span style=\"color: #00af00; text-decoration-color: #00af00\">387</span> │ concatenated[<span style=\"color: #00af00; text-decoration-color: #00af00\">0</span>][<span style=\"color: #00af00; text-decoration-color: #00af00\">…</span> │\n",
       "│ (<span style=\"color: #0087ff; text-decoration-color: #0087ff\">Dense</span>)             │                   │            │                   │\n",
       "├─────────────────────┼───────────────────┼────────────┼───────────────────┤\n",
       "│ direction_output    │ (<span style=\"color: #00d7ff; text-decoration-color: #00d7ff\">None</span>, <span style=\"color: #00af00; text-decoration-color: #00af00\">6</span>)         │        <span style=\"color: #00af00; text-decoration-color: #00af00\">774</span> │ concatenated[<span style=\"color: #00af00; text-decoration-color: #00af00\">0</span>][<span style=\"color: #00af00; text-decoration-color: #00af00\">…</span> │\n",
       "│ (<span style=\"color: #0087ff; text-decoration-color: #0087ff\">Dense</span>)             │                   │            │                   │\n",
       "├─────────────────────┼───────────────────┼────────────┼───────────────────┤\n",
       "│ distance_output     │ (<span style=\"color: #00d7ff; text-decoration-color: #00d7ff\">None</span>, <span style=\"color: #00af00; text-decoration-color: #00af00\">7</span>)         │        <span style=\"color: #00af00; text-decoration-color: #00af00\">903</span> │ concatenated[<span style=\"color: #00af00; text-decoration-color: #00af00\">0</span>][<span style=\"color: #00af00; text-decoration-color: #00af00\">…</span> │\n",
       "│ (<span style=\"color: #0087ff; text-decoration-color: #0087ff\">Dense</span>)             │                   │            │                   │\n",
       "└─────────────────────┴───────────────────┴────────────┴───────────────────┘\n",
       "</pre>\n"
      ],
      "text/plain": [
       "┏━━━━━━━━━━━━━━━━━━━━━┳━━━━━━━━━━━━━━━━━━━┳━━━━━━━━━━━━┳━━━━━━━━━━━━━━━━━━━┓\n",
       "┃\u001b[1m \u001b[0m\u001b[1mLayer (type)       \u001b[0m\u001b[1m \u001b[0m┃\u001b[1m \u001b[0m\u001b[1mOutput Shape     \u001b[0m\u001b[1m \u001b[0m┃\u001b[1m \u001b[0m\u001b[1m   Param #\u001b[0m\u001b[1m \u001b[0m┃\u001b[1m \u001b[0m\u001b[1mConnected to     \u001b[0m\u001b[1m \u001b[0m┃\n",
       "┡━━━━━━━━━━━━━━━━━━━━━╇━━━━━━━━━━━━━━━━━━━╇━━━━━━━━━━━━╇━━━━━━━━━━━━━━━━━━━┩\n",
       "│ mfcc_input          │ (\u001b[38;5;45mNone\u001b[0m, \u001b[38;5;34m40\u001b[0m, \u001b[38;5;34m174\u001b[0m,   │          \u001b[38;5;34m0\u001b[0m │ -                 │\n",
       "│ (\u001b[38;5;33mInputLayer\u001b[0m)        │ \u001b[38;5;34m1\u001b[0m)                │            │                   │\n",
       "├─────────────────────┼───────────────────┼────────────┼───────────────────┤\n",
       "│ melspec_input       │ (\u001b[38;5;45mNone\u001b[0m, \u001b[38;5;34m128\u001b[0m, \u001b[38;5;34m174\u001b[0m,  │          \u001b[38;5;34m0\u001b[0m │ -                 │\n",
       "│ (\u001b[38;5;33mInputLayer\u001b[0m)        │ \u001b[38;5;34m1\u001b[0m)                │            │                   │\n",
       "├─────────────────────┼───────────────────┼────────────┼───────────────────┤\n",
       "│ conv2d (\u001b[38;5;33mConv2D\u001b[0m)     │ (\u001b[38;5;45mNone\u001b[0m, \u001b[38;5;34m38\u001b[0m, \u001b[38;5;34m172\u001b[0m,   │        \u001b[38;5;34m160\u001b[0m │ mfcc_input[\u001b[38;5;34m0\u001b[0m][\u001b[38;5;34m0\u001b[0m]  │\n",
       "│                     │ \u001b[38;5;34m16\u001b[0m)               │            │                   │\n",
       "├─────────────────────┼───────────────────┼────────────┼───────────────────┤\n",
       "│ conv2d_4 (\u001b[38;5;33mConv2D\u001b[0m)   │ (\u001b[38;5;45mNone\u001b[0m, \u001b[38;5;34m126\u001b[0m, \u001b[38;5;34m172\u001b[0m,  │        \u001b[38;5;34m160\u001b[0m │ melspec_input[\u001b[38;5;34m0\u001b[0m]… │\n",
       "│                     │ \u001b[38;5;34m16\u001b[0m)               │            │                   │\n",
       "├─────────────────────┼───────────────────┼────────────┼───────────────────┤\n",
       "│ max_pooling2d       │ (\u001b[38;5;45mNone\u001b[0m, \u001b[38;5;34m19\u001b[0m, \u001b[38;5;34m86\u001b[0m,    │          \u001b[38;5;34m0\u001b[0m │ conv2d[\u001b[38;5;34m0\u001b[0m][\u001b[38;5;34m0\u001b[0m]      │\n",
       "│ (\u001b[38;5;33mMaxPooling2D\u001b[0m)      │ \u001b[38;5;34m16\u001b[0m)               │            │                   │\n",
       "├─────────────────────┼───────────────────┼────────────┼───────────────────┤\n",
       "│ max_pooling2d_4     │ (\u001b[38;5;45mNone\u001b[0m, \u001b[38;5;34m63\u001b[0m, \u001b[38;5;34m86\u001b[0m,    │          \u001b[38;5;34m0\u001b[0m │ conv2d_4[\u001b[38;5;34m0\u001b[0m][\u001b[38;5;34m0\u001b[0m]    │\n",
       "│ (\u001b[38;5;33mMaxPooling2D\u001b[0m)      │ \u001b[38;5;34m16\u001b[0m)               │            │                   │\n",
       "├─────────────────────┼───────────────────┼────────────┼───────────────────┤\n",
       "│ dropout (\u001b[38;5;33mDropout\u001b[0m)   │ (\u001b[38;5;45mNone\u001b[0m, \u001b[38;5;34m19\u001b[0m, \u001b[38;5;34m86\u001b[0m,    │          \u001b[38;5;34m0\u001b[0m │ max_pooling2d[\u001b[38;5;34m0\u001b[0m]… │\n",
       "│                     │ \u001b[38;5;34m16\u001b[0m)               │            │                   │\n",
       "├─────────────────────┼───────────────────┼────────────┼───────────────────┤\n",
       "│ dropout_4 (\u001b[38;5;33mDropout\u001b[0m) │ (\u001b[38;5;45mNone\u001b[0m, \u001b[38;5;34m63\u001b[0m, \u001b[38;5;34m86\u001b[0m,    │          \u001b[38;5;34m0\u001b[0m │ max_pooling2d_4[\u001b[38;5;34m…\u001b[0m │\n",
       "│                     │ \u001b[38;5;34m16\u001b[0m)               │            │                   │\n",
       "├─────────────────────┼───────────────────┼────────────┼───────────────────┤\n",
       "│ conv2d_1 (\u001b[38;5;33mConv2D\u001b[0m)   │ (\u001b[38;5;45mNone\u001b[0m, \u001b[38;5;34m17\u001b[0m, \u001b[38;5;34m84\u001b[0m,    │      \u001b[38;5;34m4,640\u001b[0m │ dropout[\u001b[38;5;34m0\u001b[0m][\u001b[38;5;34m0\u001b[0m]     │\n",
       "│                     │ \u001b[38;5;34m32\u001b[0m)               │            │                   │\n",
       "├─────────────────────┼───────────────────┼────────────┼───────────────────┤\n",
       "│ conv2d_5 (\u001b[38;5;33mConv2D\u001b[0m)   │ (\u001b[38;5;45mNone\u001b[0m, \u001b[38;5;34m61\u001b[0m, \u001b[38;5;34m84\u001b[0m,    │      \u001b[38;5;34m4,640\u001b[0m │ dropout_4[\u001b[38;5;34m0\u001b[0m][\u001b[38;5;34m0\u001b[0m]   │\n",
       "│                     │ \u001b[38;5;34m32\u001b[0m)               │            │                   │\n",
       "├─────────────────────┼───────────────────┼────────────┼───────────────────┤\n",
       "│ max_pooling2d_1     │ (\u001b[38;5;45mNone\u001b[0m, \u001b[38;5;34m8\u001b[0m, \u001b[38;5;34m42\u001b[0m, \u001b[38;5;34m32\u001b[0m) │          \u001b[38;5;34m0\u001b[0m │ conv2d_1[\u001b[38;5;34m0\u001b[0m][\u001b[38;5;34m0\u001b[0m]    │\n",
       "│ (\u001b[38;5;33mMaxPooling2D\u001b[0m)      │                   │            │                   │\n",
       "├─────────────────────┼───────────────────┼────────────┼───────────────────┤\n",
       "│ max_pooling2d_5     │ (\u001b[38;5;45mNone\u001b[0m, \u001b[38;5;34m30\u001b[0m, \u001b[38;5;34m42\u001b[0m,    │          \u001b[38;5;34m0\u001b[0m │ conv2d_5[\u001b[38;5;34m0\u001b[0m][\u001b[38;5;34m0\u001b[0m]    │\n",
       "│ (\u001b[38;5;33mMaxPooling2D\u001b[0m)      │ \u001b[38;5;34m32\u001b[0m)               │            │                   │\n",
       "├─────────────────────┼───────────────────┼────────────┼───────────────────┤\n",
       "│ dropout_1 (\u001b[38;5;33mDropout\u001b[0m) │ (\u001b[38;5;45mNone\u001b[0m, \u001b[38;5;34m8\u001b[0m, \u001b[38;5;34m42\u001b[0m, \u001b[38;5;34m32\u001b[0m) │          \u001b[38;5;34m0\u001b[0m │ max_pooling2d_1[\u001b[38;5;34m…\u001b[0m │\n",
       "├─────────────────────┼───────────────────┼────────────┼───────────────────┤\n",
       "│ dropout_5 (\u001b[38;5;33mDropout\u001b[0m) │ (\u001b[38;5;45mNone\u001b[0m, \u001b[38;5;34m30\u001b[0m, \u001b[38;5;34m42\u001b[0m,    │          \u001b[38;5;34m0\u001b[0m │ max_pooling2d_5[\u001b[38;5;34m…\u001b[0m │\n",
       "│                     │ \u001b[38;5;34m32\u001b[0m)               │            │                   │\n",
       "├─────────────────────┼───────────────────┼────────────┼───────────────────┤\n",
       "│ conv2d_2 (\u001b[38;5;33mConv2D\u001b[0m)   │ (\u001b[38;5;45mNone\u001b[0m, \u001b[38;5;34m6\u001b[0m, \u001b[38;5;34m40\u001b[0m, \u001b[38;5;34m64\u001b[0m) │     \u001b[38;5;34m18,496\u001b[0m │ dropout_1[\u001b[38;5;34m0\u001b[0m][\u001b[38;5;34m0\u001b[0m]   │\n",
       "├─────────────────────┼───────────────────┼────────────┼───────────────────┤\n",
       "│ conv2d_6 (\u001b[38;5;33mConv2D\u001b[0m)   │ (\u001b[38;5;45mNone\u001b[0m, \u001b[38;5;34m28\u001b[0m, \u001b[38;5;34m40\u001b[0m,    │     \u001b[38;5;34m18,496\u001b[0m │ dropout_5[\u001b[38;5;34m0\u001b[0m][\u001b[38;5;34m0\u001b[0m]   │\n",
       "│                     │ \u001b[38;5;34m64\u001b[0m)               │            │                   │\n",
       "├─────────────────────┼───────────────────┼────────────┼───────────────────┤\n",
       "│ max_pooling2d_2     │ (\u001b[38;5;45mNone\u001b[0m, \u001b[38;5;34m6\u001b[0m, \u001b[38;5;34m20\u001b[0m, \u001b[38;5;34m64\u001b[0m) │          \u001b[38;5;34m0\u001b[0m │ conv2d_2[\u001b[38;5;34m0\u001b[0m][\u001b[38;5;34m0\u001b[0m]    │\n",
       "│ (\u001b[38;5;33mMaxPooling2D\u001b[0m)      │                   │            │                   │\n",
       "├─────────────────────┼───────────────────┼────────────┼───────────────────┤\n",
       "│ max_pooling2d_6     │ (\u001b[38;5;45mNone\u001b[0m, \u001b[38;5;34m14\u001b[0m, \u001b[38;5;34m20\u001b[0m,    │          \u001b[38;5;34m0\u001b[0m │ conv2d_6[\u001b[38;5;34m0\u001b[0m][\u001b[38;5;34m0\u001b[0m]    │\n",
       "│ (\u001b[38;5;33mMaxPooling2D\u001b[0m)      │ \u001b[38;5;34m64\u001b[0m)               │            │                   │\n",
       "├─────────────────────┼───────────────────┼────────────┼───────────────────┤\n",
       "│ dropout_2 (\u001b[38;5;33mDropout\u001b[0m) │ (\u001b[38;5;45mNone\u001b[0m, \u001b[38;5;34m6\u001b[0m, \u001b[38;5;34m20\u001b[0m, \u001b[38;5;34m64\u001b[0m) │          \u001b[38;5;34m0\u001b[0m │ max_pooling2d_2[\u001b[38;5;34m…\u001b[0m │\n",
       "├─────────────────────┼───────────────────┼────────────┼───────────────────┤\n",
       "│ dropout_6 (\u001b[38;5;33mDropout\u001b[0m) │ (\u001b[38;5;45mNone\u001b[0m, \u001b[38;5;34m14\u001b[0m, \u001b[38;5;34m20\u001b[0m,    │          \u001b[38;5;34m0\u001b[0m │ max_pooling2d_6[\u001b[38;5;34m…\u001b[0m │\n",
       "│                     │ \u001b[38;5;34m64\u001b[0m)               │            │                   │\n",
       "├─────────────────────┼───────────────────┼────────────┼───────────────────┤\n",
       "│ conv2d_3 (\u001b[38;5;33mConv2D\u001b[0m)   │ (\u001b[38;5;45mNone\u001b[0m, \u001b[38;5;34m4\u001b[0m, \u001b[38;5;34m18\u001b[0m,     │     \u001b[38;5;34m73,856\u001b[0m │ dropout_2[\u001b[38;5;34m0\u001b[0m][\u001b[38;5;34m0\u001b[0m]   │\n",
       "│                     │ \u001b[38;5;34m128\u001b[0m)              │            │                   │\n",
       "├─────────────────────┼───────────────────┼────────────┼───────────────────┤\n",
       "│ conv2d_7 (\u001b[38;5;33mConv2D\u001b[0m)   │ (\u001b[38;5;45mNone\u001b[0m, \u001b[38;5;34m12\u001b[0m, \u001b[38;5;34m18\u001b[0m,    │     \u001b[38;5;34m73,856\u001b[0m │ dropout_6[\u001b[38;5;34m0\u001b[0m][\u001b[38;5;34m0\u001b[0m]   │\n",
       "│                     │ \u001b[38;5;34m128\u001b[0m)              │            │                   │\n",
       "├─────────────────────┼───────────────────┼────────────┼───────────────────┤\n",
       "│ max_pooling2d_3     │ (\u001b[38;5;45mNone\u001b[0m, \u001b[38;5;34m2\u001b[0m, \u001b[38;5;34m9\u001b[0m, \u001b[38;5;34m128\u001b[0m) │          \u001b[38;5;34m0\u001b[0m │ conv2d_3[\u001b[38;5;34m0\u001b[0m][\u001b[38;5;34m0\u001b[0m]    │\n",
       "│ (\u001b[38;5;33mMaxPooling2D\u001b[0m)      │                   │            │                   │\n",
       "├─────────────────────┼───────────────────┼────────────┼───────────────────┤\n",
       "│ max_pooling2d_7     │ (\u001b[38;5;45mNone\u001b[0m, \u001b[38;5;34m6\u001b[0m, \u001b[38;5;34m9\u001b[0m, \u001b[38;5;34m128\u001b[0m) │          \u001b[38;5;34m0\u001b[0m │ conv2d_7[\u001b[38;5;34m0\u001b[0m][\u001b[38;5;34m0\u001b[0m]    │\n",
       "│ (\u001b[38;5;33mMaxPooling2D\u001b[0m)      │                   │            │                   │\n",
       "├─────────────────────┼───────────────────┼────────────┼───────────────────┤\n",
       "│ dropout_3 (\u001b[38;5;33mDropout\u001b[0m) │ (\u001b[38;5;45mNone\u001b[0m, \u001b[38;5;34m2\u001b[0m, \u001b[38;5;34m9\u001b[0m, \u001b[38;5;34m128\u001b[0m) │          \u001b[38;5;34m0\u001b[0m │ max_pooling2d_3[\u001b[38;5;34m…\u001b[0m │\n",
       "├─────────────────────┼───────────────────┼────────────┼───────────────────┤\n",
       "│ dropout_7 (\u001b[38;5;33mDropout\u001b[0m) │ (\u001b[38;5;45mNone\u001b[0m, \u001b[38;5;34m6\u001b[0m, \u001b[38;5;34m9\u001b[0m, \u001b[38;5;34m128\u001b[0m) │          \u001b[38;5;34m0\u001b[0m │ max_pooling2d_7[\u001b[38;5;34m…\u001b[0m │\n",
       "├─────────────────────┼───────────────────┼────────────┼───────────────────┤\n",
       "│ global_average_poo… │ (\u001b[38;5;45mNone\u001b[0m, \u001b[38;5;34m128\u001b[0m)       │          \u001b[38;5;34m0\u001b[0m │ dropout_3[\u001b[38;5;34m0\u001b[0m][\u001b[38;5;34m0\u001b[0m]   │\n",
       "│ (\u001b[38;5;33mGlobalAveragePool…\u001b[0m │                   │            │                   │\n",
       "├─────────────────────┼───────────────────┼────────────┼───────────────────┤\n",
       "│ global_average_poo… │ (\u001b[38;5;45mNone\u001b[0m, \u001b[38;5;34m128\u001b[0m)       │          \u001b[38;5;34m0\u001b[0m │ dropout_7[\u001b[38;5;34m0\u001b[0m][\u001b[38;5;34m0\u001b[0m]   │\n",
       "│ (\u001b[38;5;33mGlobalAveragePool…\u001b[0m │                   │            │                   │\n",
       "├─────────────────────┼───────────────────┼────────────┼───────────────────┤\n",
       "│ concatenate         │ (\u001b[38;5;45mNone\u001b[0m, \u001b[38;5;34m256\u001b[0m)       │          \u001b[38;5;34m0\u001b[0m │ global_average_p… │\n",
       "│ (\u001b[38;5;33mConcatenate\u001b[0m)       │                   │            │ global_average_p… │\n",
       "├─────────────────────┼───────────────────┼────────────┼───────────────────┤\n",
       "│ concatenated        │ (\u001b[38;5;45mNone\u001b[0m, \u001b[38;5;34m128\u001b[0m)       │     \u001b[38;5;34m32,896\u001b[0m │ concatenate[\u001b[38;5;34m0\u001b[0m][\u001b[38;5;34m0\u001b[0m] │\n",
       "│ (\u001b[38;5;33mDense\u001b[0m)             │                   │            │                   │\n",
       "├─────────────────────┼───────────────────┼────────────┼───────────────────┤\n",
       "│ gunshot_output      │ (\u001b[38;5;45mNone\u001b[0m, \u001b[38;5;34m3\u001b[0m)         │        \u001b[38;5;34m387\u001b[0m │ concatenated[\u001b[38;5;34m0\u001b[0m][\u001b[38;5;34m…\u001b[0m │\n",
       "│ (\u001b[38;5;33mDense\u001b[0m)             │                   │            │                   │\n",
       "├─────────────────────┼───────────────────┼────────────┼───────────────────┤\n",
       "│ direction_output    │ (\u001b[38;5;45mNone\u001b[0m, \u001b[38;5;34m6\u001b[0m)         │        \u001b[38;5;34m774\u001b[0m │ concatenated[\u001b[38;5;34m0\u001b[0m][\u001b[38;5;34m…\u001b[0m │\n",
       "│ (\u001b[38;5;33mDense\u001b[0m)             │                   │            │                   │\n",
       "├─────────────────────┼───────────────────┼────────────┼───────────────────┤\n",
       "│ distance_output     │ (\u001b[38;5;45mNone\u001b[0m, \u001b[38;5;34m7\u001b[0m)         │        \u001b[38;5;34m903\u001b[0m │ concatenated[\u001b[38;5;34m0\u001b[0m][\u001b[38;5;34m…\u001b[0m │\n",
       "│ (\u001b[38;5;33mDense\u001b[0m)             │                   │            │                   │\n",
       "└─────────────────────┴───────────────────┴────────────┴───────────────────┘\n"
      ]
     },
     "metadata": {},
     "output_type": "display_data"
    },
    {
     "data": {
      "text/html": [
       "<pre style=\"white-space:pre;overflow-x:auto;line-height:normal;font-family:Menlo,'DejaVu Sans Mono',consolas,'Courier New',monospace\"><span style=\"font-weight: bold\"> Total params: </span><span style=\"color: #00af00; text-decoration-color: #00af00\">229,264</span> (895.56 KB)\n",
       "</pre>\n"
      ],
      "text/plain": [
       "\u001b[1m Total params: \u001b[0m\u001b[38;5;34m229,264\u001b[0m (895.56 KB)\n"
      ]
     },
     "metadata": {},
     "output_type": "display_data"
    },
    {
     "data": {
      "text/html": [
       "<pre style=\"white-space:pre;overflow-x:auto;line-height:normal;font-family:Menlo,'DejaVu Sans Mono',consolas,'Courier New',monospace\"><span style=\"font-weight: bold\"> Trainable params: </span><span style=\"color: #00af00; text-decoration-color: #00af00\">229,264</span> (895.56 KB)\n",
       "</pre>\n"
      ],
      "text/plain": [
       "\u001b[1m Trainable params: \u001b[0m\u001b[38;5;34m229,264\u001b[0m (895.56 KB)\n"
      ]
     },
     "metadata": {},
     "output_type": "display_data"
    },
    {
     "data": {
      "text/html": [
       "<pre style=\"white-space:pre;overflow-x:auto;line-height:normal;font-family:Menlo,'DejaVu Sans Mono',consolas,'Courier New',monospace\"><span style=\"font-weight: bold\"> Non-trainable params: </span><span style=\"color: #00af00; text-decoration-color: #00af00\">0</span> (0.00 B)\n",
       "</pre>\n"
      ],
      "text/plain": [
       "\u001b[1m Non-trainable params: \u001b[0m\u001b[38;5;34m0\u001b[0m (0.00 B)\n"
      ]
     },
     "metadata": {},
     "output_type": "display_data"
    }
   ],
   "source": [
    "model.compile(optimizer='adam',\n",
    "              loss={\n",
    "                    'gunshot_output':'categorical_crossentropy',\n",
    "                    'direction_output':'categorical_crossentropy',\n",
    "                    'distance_output':'categorical_crossentropy'},\n",
    "                metrics={\n",
    "                    'gunshot_output': ['accuracy', 'Precision', 'Recall', AUC()],\n",
    "                    'distance_output': ['accuracy', 'Precision', 'Recall', AUC()],\n",
    "                    'direction_output': ['accuracy', 'Precision', 'Recall', AUC()]\n",
    "                    })\n",
    "model.summary()"
   ]
  },
  {
   "cell_type": "code",
   "execution_count": 18,
   "metadata": {},
   "outputs": [
    {
     "name": "stdout",
     "output_type": "stream",
     "text": [
      "Epoch 1/64\n",
      "\u001b[1m62/62\u001b[0m \u001b[32m━━━━━━━━━━━━━━━━━━━━\u001b[0m\u001b[37m\u001b[0m \u001b[1m29s\u001b[0m 323ms/step - direction_output_Precision: 0.4830 - direction_output_Recall: 0.0460 - direction_output_accuracy: 0.2534 - direction_output_auc_2: 0.6108 - distance_output_Precision: 0.4049 - distance_output_Recall: 0.0478 - distance_output_accuracy: 0.2196 - distance_output_auc_1: 0.5914 - gunshot_output_Precision: 0.5335 - gunshot_output_Recall: 0.2866 - gunshot_output_accuracy: 0.5161 - gunshot_output_auc: 0.6811 - loss: 5.0943 - val_direction_output_Precision: 0.9273 - val_direction_output_Recall: 0.0605 - val_direction_output_accuracy: 0.3725 - val_direction_output_auc_2: 0.7394 - val_distance_output_Precision: 1.0000 - val_distance_output_Recall: 0.0486 - val_distance_output_accuracy: 0.3286 - val_distance_output_auc_1: 0.7627 - val_gunshot_output_Precision: 0.9620 - val_gunshot_output_Recall: 0.2100 - val_gunshot_output_accuracy: 0.5563 - val_gunshot_output_auc: 0.7613 - val_loss: 4.0982\n",
      "Epoch 2/64\n",
      "\u001b[1m62/62\u001b[0m \u001b[32m━━━━━━━━━━━━━━━━━━━━\u001b[0m\u001b[37m\u001b[0m \u001b[1m21s\u001b[0m 342ms/step - direction_output_Precision: 0.8253 - direction_output_Recall: 0.2139 - direction_output_accuracy: 0.4205 - direction_output_auc_2: 0.7925 - distance_output_Precision: 0.8333 - distance_output_Recall: 0.1914 - distance_output_accuracy: 0.4407 - distance_output_auc_1: 0.8111 - gunshot_output_Precision: 0.7704 - gunshot_output_Recall: 0.6913 - gunshot_output_accuracy: 0.7413 - gunshot_output_auc: 0.8782 - loss: 3.4686 - val_direction_output_Precision: 0.8514 - val_direction_output_Recall: 0.2515 - val_direction_output_accuracy: 0.4353 - val_direction_output_auc_2: 0.8224 - val_distance_output_Precision: 0.9652 - val_distance_output_Recall: 0.2301 - val_distance_output_accuracy: 0.5492 - val_distance_output_auc_1: 0.8711 - val_gunshot_output_Precision: 0.8973 - val_gunshot_output_Recall: 0.6323 - val_gunshot_output_accuracy: 0.7770 - val_gunshot_output_auc: 0.9231 - val_loss: 3.1625\n",
      "Epoch 3/64\n",
      "\u001b[1m62/62\u001b[0m \u001b[32m━━━━━━━━━━━━━━━━━━━━\u001b[0m\u001b[37m\u001b[0m \u001b[1m14s\u001b[0m 225ms/step - direction_output_Precision: 0.8196 - direction_output_Recall: 0.2958 - direction_output_accuracy: 0.5075 - direction_output_auc_2: 0.8632 - distance_output_Precision: 0.8568 - distance_output_Recall: 0.2993 - distance_output_accuracy: 0.5151 - distance_output_auc_1: 0.8825 - gunshot_output_Precision: 0.8159 - gunshot_output_Recall: 0.7672 - gunshot_output_accuracy: 0.7940 - gunshot_output_auc: 0.9326 - loss: 2.8042 - val_direction_output_Precision: 0.9079 - val_direction_output_Recall: 0.2456 - val_direction_output_accuracy: 0.5362 - val_direction_output_auc_2: 0.8716 - val_distance_output_Precision: 0.9320 - val_distance_output_Recall: 0.2764 - val_distance_output_accuracy: 0.5623 - val_distance_output_auc_1: 0.8805 - val_gunshot_output_Precision: 0.8538 - val_gunshot_output_Recall: 0.7272 - val_gunshot_output_accuracy: 0.7900 - val_gunshot_output_auc: 0.9375 - val_loss: 2.8998\n",
      "Epoch 4/64\n",
      "\u001b[1m62/62\u001b[0m \u001b[32m━━━━━━━━━━━━━━━━━━━━\u001b[0m\u001b[37m\u001b[0m \u001b[1m13s\u001b[0m 207ms/step - direction_output_Precision: 0.8041 - direction_output_Recall: 0.3179 - direction_output_accuracy: 0.5199 - direction_output_auc_2: 0.8716 - distance_output_Precision: 0.8134 - distance_output_Recall: 0.4047 - distance_output_accuracy: 0.5900 - distance_output_auc_1: 0.9088 - gunshot_output_Precision: 0.8544 - gunshot_output_Recall: 0.8176 - gunshot_output_accuracy: 0.8389 - gunshot_output_auc: 0.9545 - loss: 2.5444 - val_direction_output_Precision: 0.8371 - val_direction_output_Recall: 0.3108 - val_direction_output_accuracy: 0.5196 - val_direction_output_auc_2: 0.8735 - val_distance_output_Precision: 0.9169 - val_distance_output_Recall: 0.3796 - val_distance_output_accuracy: 0.6406 - val_distance_output_auc_1: 0.9266 - val_gunshot_output_Precision: 0.8976 - val_gunshot_output_Recall: 0.7177 - val_gunshot_output_accuracy: 0.8185 - val_gunshot_output_auc: 0.9537 - val_loss: 2.5645\n",
      "Epoch 5/64\n",
      "\u001b[1m62/62\u001b[0m \u001b[32m━━━━━━━━━━━━━━━━━━━━\u001b[0m\u001b[37m\u001b[0m \u001b[1m13s\u001b[0m 207ms/step - direction_output_Precision: 0.7896 - direction_output_Recall: 0.3746 - direction_output_accuracy: 0.5471 - direction_output_auc_2: 0.8950 - distance_output_Precision: 0.8405 - distance_output_Recall: 0.4731 - distance_output_accuracy: 0.6393 - distance_output_auc_1: 0.9305 - gunshot_output_Precision: 0.8916 - gunshot_output_Recall: 0.8682 - gunshot_output_accuracy: 0.8839 - gunshot_output_auc: 0.9727 - loss: 2.2138 - val_direction_output_Precision: 0.8664 - val_direction_output_Recall: 0.3001 - val_direction_output_accuracy: 0.5219 - val_direction_output_auc_2: 0.8742 - val_distance_output_Precision: 0.9284 - val_distance_output_Recall: 0.3998 - val_distance_output_accuracy: 0.6370 - val_distance_output_auc_1: 0.9271 - val_gunshot_output_Precision: 0.9284 - val_gunshot_output_Recall: 0.7841 - val_gunshot_output_accuracy: 0.8671 - val_gunshot_output_auc: 0.9696 - val_loss: 2.5030\n",
      "Epoch 6/64\n",
      "\u001b[1m62/62\u001b[0m \u001b[32m━━━━━━━━━━━━━━━━━━━━\u001b[0m\u001b[37m\u001b[0m \u001b[1m13s\u001b[0m 204ms/step - direction_output_Precision: 0.7653 - direction_output_Recall: 0.3914 - direction_output_accuracy: 0.5626 - direction_output_auc_2: 0.9035 - distance_output_Precision: 0.8315 - distance_output_Recall: 0.5036 - distance_output_accuracy: 0.6603 - distance_output_auc_1: 0.9391 - gunshot_output_Precision: 0.8975 - gunshot_output_Recall: 0.8746 - gunshot_output_accuracy: 0.8877 - gunshot_output_auc: 0.9786 - loss: 2.0862 - val_direction_output_Precision: 0.8373 - val_direction_output_Recall: 0.3784 - val_direction_output_accuracy: 0.5872 - val_direction_output_auc_2: 0.9116 - val_distance_output_Precision: 0.8933 - val_distance_output_Recall: 0.4769 - val_distance_output_accuracy: 0.6738 - val_distance_output_auc_1: 0.9437 - val_gunshot_output_Precision: 0.9346 - val_gunshot_output_Recall: 0.8470 - val_gunshot_output_accuracy: 0.9063 - val_gunshot_output_auc: 0.9795 - val_loss: 2.1095\n",
      "Epoch 7/64\n",
      "\u001b[1m62/62\u001b[0m \u001b[32m━━━━━━━━━━━━━━━━━━━━\u001b[0m\u001b[37m\u001b[0m \u001b[1m13s\u001b[0m 203ms/step - direction_output_Precision: 0.7685 - direction_output_Recall: 0.4513 - direction_output_accuracy: 0.5695 - direction_output_auc_2: 0.9081 - distance_output_Precision: 0.8400 - distance_output_Recall: 0.5674 - distance_output_accuracy: 0.6949 - distance_output_auc_1: 0.9467 - gunshot_output_Precision: 0.9010 - gunshot_output_Recall: 0.8823 - gunshot_output_accuracy: 0.8893 - gunshot_output_auc: 0.9785 - loss: 1.9851 - val_direction_output_Precision: 0.8810 - val_direction_output_Recall: 0.3511 - val_direction_output_accuracy: 0.5682 - val_direction_output_auc_2: 0.9157 - val_distance_output_Precision: 0.9277 - val_distance_output_Recall: 0.4721 - val_distance_output_accuracy: 0.7129 - val_distance_output_auc_1: 0.9538 - val_gunshot_output_Precision: 0.9268 - val_gunshot_output_Recall: 0.8256 - val_gunshot_output_accuracy: 0.8861 - val_gunshot_output_auc: 0.9780 - val_loss: 2.1207\n",
      "Epoch 8/64\n",
      "\u001b[1m62/62\u001b[0m \u001b[32m━━━━━━━━━━━━━━━━━━━━\u001b[0m\u001b[37m\u001b[0m \u001b[1m14s\u001b[0m 220ms/step - direction_output_Precision: 0.7714 - direction_output_Recall: 0.4566 - direction_output_accuracy: 0.5919 - direction_output_auc_2: 0.9148 - distance_output_Precision: 0.8480 - distance_output_Recall: 0.5741 - distance_output_accuracy: 0.6993 - distance_output_auc_1: 0.9529 - gunshot_output_Precision: 0.9202 - gunshot_output_Recall: 0.8953 - gunshot_output_accuracy: 0.9049 - gunshot_output_auc: 0.9823 - loss: 1.8862 - val_direction_output_Precision: 0.8043 - val_direction_output_Recall: 0.3950 - val_direction_output_accuracy: 0.5991 - val_direction_output_auc_2: 0.9196 - val_distance_output_Precision: 0.9141 - val_distance_output_Recall: 0.5552 - val_distance_output_accuracy: 0.7331 - val_distance_output_auc_1: 0.9583 - val_gunshot_output_Precision: 0.9295 - val_gunshot_output_Recall: 0.8754 - val_gunshot_output_accuracy: 0.9087 - val_gunshot_output_auc: 0.9810 - val_loss: 1.9592\n",
      "Epoch 9/64\n",
      "\u001b[1m62/62\u001b[0m \u001b[32m━━━━━━━━━━━━━━━━━━━━\u001b[0m\u001b[37m\u001b[0m \u001b[1m14s\u001b[0m 219ms/step - direction_output_Precision: 0.7742 - direction_output_Recall: 0.4823 - direction_output_accuracy: 0.6005 - direction_output_auc_2: 0.9189 - distance_output_Precision: 0.8172 - distance_output_Recall: 0.5942 - distance_output_accuracy: 0.7050 - distance_output_auc_1: 0.9533 - gunshot_output_Precision: 0.9154 - gunshot_output_Recall: 0.8968 - gunshot_output_accuracy: 0.9040 - gunshot_output_auc: 0.9824 - loss: 1.8655 - val_direction_output_Precision: 0.8304 - val_direction_output_Recall: 0.4413 - val_direction_output_accuracy: 0.6180 - val_direction_output_auc_2: 0.9279 - val_distance_output_Precision: 0.8877 - val_distance_output_Recall: 0.5907 - val_distance_output_accuracy: 0.7450 - val_distance_output_auc_1: 0.9607 - val_gunshot_output_Precision: 0.9267 - val_gunshot_output_Recall: 0.8695 - val_gunshot_output_accuracy: 0.9051 - val_gunshot_output_auc: 0.9796 - val_loss: 1.8580\n",
      "Epoch 10/64\n",
      "\u001b[1m62/62\u001b[0m \u001b[32m━━━━━━━━━━━━━━━━━━━━\u001b[0m\u001b[37m\u001b[0m \u001b[1m15s\u001b[0m 241ms/step - direction_output_Precision: 0.7659 - direction_output_Recall: 0.4987 - direction_output_accuracy: 0.6113 - direction_output_auc_2: 0.9244 - distance_output_Precision: 0.8560 - distance_output_Recall: 0.6450 - distance_output_accuracy: 0.7526 - distance_output_auc_1: 0.9607 - gunshot_output_Precision: 0.9311 - gunshot_output_Recall: 0.9216 - gunshot_output_accuracy: 0.9233 - gunshot_output_auc: 0.9877 - loss: 1.7178 - val_direction_output_Precision: 0.8380 - val_direction_output_Recall: 0.4294 - val_direction_output_accuracy: 0.6097 - val_direction_output_auc_2: 0.9274 - val_distance_output_Precision: 0.8962 - val_distance_output_Recall: 0.5528 - val_distance_output_accuracy: 0.7509 - val_distance_output_auc_1: 0.9634 - val_gunshot_output_Precision: 0.8928 - val_gunshot_output_Recall: 0.8399 - val_gunshot_output_accuracy: 0.8778 - val_gunshot_output_auc: 0.9755 - val_loss: 1.8920\n",
      "Epoch 11/64\n",
      "\u001b[1m62/62\u001b[0m \u001b[32m━━━━━━━━━━━━━━━━━━━━\u001b[0m\u001b[37m\u001b[0m \u001b[1m12s\u001b[0m 201ms/step - direction_output_Precision: 0.8091 - direction_output_Recall: 0.4861 - direction_output_accuracy: 0.6211 - direction_output_auc_2: 0.9275 - distance_output_Precision: 0.8516 - distance_output_Recall: 0.6271 - distance_output_accuracy: 0.7257 - distance_output_auc_1: 0.9595 - gunshot_output_Precision: 0.9174 - gunshot_output_Recall: 0.9061 - gunshot_output_accuracy: 0.9105 - gunshot_output_auc: 0.9824 - loss: 1.7602 - val_direction_output_Precision: 0.8722 - val_direction_output_Recall: 0.4698 - val_direction_output_accuracy: 0.6512 - val_direction_output_auc_2: 0.9382 - val_distance_output_Precision: 0.9312 - val_distance_output_Recall: 0.6097 - val_distance_output_accuracy: 0.7722 - val_distance_output_auc_1: 0.9697 - val_gunshot_output_Precision: 0.9337 - val_gunshot_output_Recall: 0.9027 - val_gunshot_output_accuracy: 0.9205 - val_gunshot_output_auc: 0.9867 - val_loss: 1.7193\n",
      "Epoch 12/64\n",
      "\u001b[1m62/62\u001b[0m \u001b[32m━━━━━━━━━━━━━━━━━━━━\u001b[0m\u001b[37m\u001b[0m \u001b[1m15s\u001b[0m 244ms/step - direction_output_Precision: 0.8224 - direction_output_Recall: 0.5217 - direction_output_accuracy: 0.6553 - direction_output_auc_2: 0.9353 - distance_output_Precision: 0.8703 - distance_output_Recall: 0.6765 - distance_output_accuracy: 0.7575 - distance_output_auc_1: 0.9694 - gunshot_output_Precision: 0.9270 - gunshot_output_Recall: 0.9165 - gunshot_output_accuracy: 0.9218 - gunshot_output_auc: 0.9873 - loss: 1.5724 - val_direction_output_Precision: 0.8333 - val_direction_output_Recall: 0.4626 - val_direction_output_accuracy: 0.6453 - val_direction_output_auc_2: 0.9353 - val_distance_output_Precision: 0.8689 - val_distance_output_Recall: 0.6370 - val_distance_output_accuracy: 0.7568 - val_distance_output_auc_1: 0.9636 - val_gunshot_output_Precision: 0.8782 - val_gunshot_output_Recall: 0.8636 - val_gunshot_output_accuracy: 0.8707 - val_gunshot_output_auc: 0.9770 - val_loss: 1.7616\n",
      "Epoch 13/64\n",
      "\u001b[1m62/62\u001b[0m \u001b[32m━━━━━━━━━━━━━━━━━━━━\u001b[0m\u001b[37m\u001b[0m \u001b[1m15s\u001b[0m 232ms/step - direction_output_Precision: 0.7957 - direction_output_Recall: 0.5131 - direction_output_accuracy: 0.6279 - direction_output_auc_2: 0.9297 - distance_output_Precision: 0.8520 - distance_output_Recall: 0.6656 - distance_output_accuracy: 0.7413 - distance_output_auc_1: 0.9657 - gunshot_output_Precision: 0.9276 - gunshot_output_Recall: 0.9192 - gunshot_output_accuracy: 0.9252 - gunshot_output_auc: 0.9858 - loss: 1.6649 - val_direction_output_Precision: 0.8337 - val_direction_output_Recall: 0.4698 - val_direction_output_accuracy: 0.6216 - val_direction_output_auc_2: 0.9348 - val_distance_output_Precision: 0.8989 - val_distance_output_Recall: 0.6750 - val_distance_output_accuracy: 0.7817 - val_distance_output_auc_1: 0.9713 - val_gunshot_output_Precision: 0.9373 - val_gunshot_output_Recall: 0.9229 - val_gunshot_output_accuracy: 0.9336 - val_gunshot_output_auc: 0.9864 - val_loss: 1.6118\n",
      "Epoch 14/64\n",
      "\u001b[1m62/62\u001b[0m \u001b[32m━━━━━━━━━━━━━━━━━━━━\u001b[0m\u001b[37m\u001b[0m \u001b[1m14s\u001b[0m 225ms/step - direction_output_Precision: 0.8057 - direction_output_Recall: 0.5412 - direction_output_accuracy: 0.6461 - direction_output_auc_2: 0.9413 - distance_output_Precision: 0.8693 - distance_output_Recall: 0.7136 - distance_output_accuracy: 0.7855 - distance_output_auc_1: 0.9745 - gunshot_output_Precision: 0.9492 - gunshot_output_Recall: 0.9445 - gunshot_output_accuracy: 0.9478 - gunshot_output_auc: 0.9921 - loss: 1.4248 - val_direction_output_Precision: 0.8095 - val_direction_output_Recall: 0.4638 - val_direction_output_accuracy: 0.6204 - val_direction_output_auc_2: 0.9350 - val_distance_output_Precision: 0.8777 - val_distance_output_Recall: 0.6382 - val_distance_output_accuracy: 0.7675 - val_distance_output_auc_1: 0.9702 - val_gunshot_output_Precision: 0.9326 - val_gunshot_output_Recall: 0.8529 - val_gunshot_output_accuracy: 0.9063 - val_gunshot_output_auc: 0.9797 - val_loss: 1.7338\n",
      "Epoch 15/64\n",
      "\u001b[1m62/62\u001b[0m \u001b[32m━━━━━━━━━━━━━━━━━━━━\u001b[0m\u001b[37m\u001b[0m \u001b[1m15s\u001b[0m 248ms/step - direction_output_Precision: 0.8262 - direction_output_Recall: 0.5651 - direction_output_accuracy: 0.6763 - direction_output_auc_2: 0.9456 - distance_output_Precision: 0.8605 - distance_output_Recall: 0.6968 - distance_output_accuracy: 0.7739 - distance_output_auc_1: 0.9720 - gunshot_output_Precision: 0.9535 - gunshot_output_Recall: 0.9461 - gunshot_output_accuracy: 0.9506 - gunshot_output_auc: 0.9935 - loss: 1.4306 - val_direction_output_Precision: 0.8383 - val_direction_output_Recall: 0.5042 - val_direction_output_accuracy: 0.6524 - val_direction_output_auc_2: 0.9416 - val_distance_output_Precision: 0.8869 - val_distance_output_Recall: 0.7165 - val_distance_output_accuracy: 0.7936 - val_distance_output_auc_1: 0.9743 - val_gunshot_output_Precision: 0.8877 - val_gunshot_output_Recall: 0.8624 - val_gunshot_output_accuracy: 0.8754 - val_gunshot_output_auc: 0.9804 - val_loss: 1.5824\n",
      "Epoch 16/64\n",
      "\u001b[1m62/62\u001b[0m \u001b[32m━━━━━━━━━━━━━━━━━━━━\u001b[0m\u001b[37m\u001b[0m \u001b[1m15s\u001b[0m 243ms/step - direction_output_Precision: 0.8128 - direction_output_Recall: 0.5675 - direction_output_accuracy: 0.6746 - direction_output_auc_2: 0.9479 - distance_output_Precision: 0.8824 - distance_output_Recall: 0.7339 - distance_output_accuracy: 0.7913 - distance_output_auc_1: 0.9756 - gunshot_output_Precision: 0.9397 - gunshot_output_Recall: 0.9313 - gunshot_output_accuracy: 0.9359 - gunshot_output_auc: 0.9902 - loss: 1.4054 - val_direction_output_Precision: 0.8116 - val_direction_output_Recall: 0.5160 - val_direction_output_accuracy: 0.6394 - val_direction_output_auc_2: 0.9383 - val_distance_output_Precision: 0.9122 - val_distance_output_Recall: 0.6655 - val_distance_output_accuracy: 0.7972 - val_distance_output_auc_1: 0.9768 - val_gunshot_output_Precision: 0.9354 - val_gunshot_output_Recall: 0.9110 - val_gunshot_output_accuracy: 0.9276 - val_gunshot_output_auc: 0.9843 - val_loss: 1.5519\n",
      "Epoch 17/64\n",
      "\u001b[1m62/62\u001b[0m \u001b[32m━━━━━━━━━━━━━━━━━━━━\u001b[0m\u001b[37m\u001b[0m \u001b[1m18s\u001b[0m 291ms/step - direction_output_Precision: 0.8065 - direction_output_Recall: 0.5492 - direction_output_accuracy: 0.6602 - direction_output_auc_2: 0.9475 - distance_output_Precision: 0.8905 - distance_output_Recall: 0.7240 - distance_output_accuracy: 0.8112 - distance_output_auc_1: 0.9790 - gunshot_output_Precision: 0.9561 - gunshot_output_Recall: 0.9509 - gunshot_output_accuracy: 0.9547 - gunshot_output_auc: 0.9955 - loss: 1.3055 - val_direction_output_Precision: 0.8311 - val_direction_output_Recall: 0.5255 - val_direction_output_accuracy: 0.6524 - val_direction_output_auc_2: 0.9428 - val_distance_output_Precision: 0.8889 - val_distance_output_Recall: 0.6833 - val_distance_output_accuracy: 0.7841 - val_distance_output_auc_1: 0.9749 - val_gunshot_output_Precision: 0.9366 - val_gunshot_output_Recall: 0.9110 - val_gunshot_output_accuracy: 0.9300 - val_gunshot_output_auc: 0.9868 - val_loss: 1.5184\n",
      "Epoch 18/64\n",
      "\u001b[1m62/62\u001b[0m \u001b[32m━━━━━━━━━━━━━━━━━━━━\u001b[0m\u001b[37m\u001b[0m \u001b[1m20s\u001b[0m 319ms/step - direction_output_Precision: 0.8074 - direction_output_Recall: 0.5715 - direction_output_accuracy: 0.6865 - direction_output_auc_2: 0.9492 - distance_output_Precision: 0.8596 - distance_output_Recall: 0.7282 - distance_output_accuracy: 0.7947 - distance_output_auc_1: 0.9780 - gunshot_output_Precision: 0.9483 - gunshot_output_Recall: 0.9436 - gunshot_output_accuracy: 0.9456 - gunshot_output_auc: 0.9936 - loss: 1.3260 - val_direction_output_Precision: 0.8563 - val_direction_output_Recall: 0.5231 - val_direction_output_accuracy: 0.6690 - val_direction_output_auc_2: 0.9471 - val_distance_output_Precision: 0.9115 - val_distance_output_Recall: 0.6963 - val_distance_output_accuracy: 0.7900 - val_distance_output_auc_1: 0.9758 - val_gunshot_output_Precision: 0.9361 - val_gunshot_output_Recall: 0.8861 - val_gunshot_output_accuracy: 0.9110 - val_gunshot_output_auc: 0.9857 - val_loss: 1.5207\n",
      "Epoch 19/64\n",
      "\u001b[1m62/62\u001b[0m \u001b[32m━━━━━━━━━━━━━━━━━━━━\u001b[0m\u001b[37m\u001b[0m \u001b[1m18s\u001b[0m 289ms/step - direction_output_Precision: 0.8000 - direction_output_Recall: 0.5529 - direction_output_accuracy: 0.6702 - direction_output_auc_2: 0.9455 - distance_output_Precision: 0.8947 - distance_output_Recall: 0.7437 - distance_output_accuracy: 0.8079 - distance_output_auc_1: 0.9798 - gunshot_output_Precision: 0.9451 - gunshot_output_Recall: 0.9386 - gunshot_output_accuracy: 0.9440 - gunshot_output_auc: 0.9928 - loss: 1.3495 - val_direction_output_Precision: 0.8401 - val_direction_output_Recall: 0.5172 - val_direction_output_accuracy: 0.6501 - val_direction_output_auc_2: 0.9430 - val_distance_output_Precision: 0.9279 - val_distance_output_Recall: 0.7023 - val_distance_output_accuracy: 0.8221 - val_distance_output_auc_1: 0.9814 - val_gunshot_output_Precision: 0.9493 - val_gunshot_output_Recall: 0.9324 - val_gunshot_output_accuracy: 0.9478 - val_gunshot_output_auc: 0.9896 - val_loss: 1.4407\n",
      "Epoch 20/64\n",
      "\u001b[1m62/62\u001b[0m \u001b[32m━━━━━━━━━━━━━━━━━━━━\u001b[0m\u001b[37m\u001b[0m \u001b[1m14s\u001b[0m 225ms/step - direction_output_Precision: 0.8286 - direction_output_Recall: 0.5815 - direction_output_accuracy: 0.6975 - direction_output_auc_2: 0.9524 - distance_output_Precision: 0.8852 - distance_output_Recall: 0.7578 - distance_output_accuracy: 0.8153 - distance_output_auc_1: 0.9800 - gunshot_output_Precision: 0.9582 - gunshot_output_Recall: 0.9549 - gunshot_output_accuracy: 0.9552 - gunshot_output_auc: 0.9943 - loss: 1.2828 - val_direction_output_Precision: 0.8312 - val_direction_output_Recall: 0.5314 - val_direction_output_accuracy: 0.6595 - val_direction_output_auc_2: 0.9494 - val_distance_output_Precision: 0.9133 - val_distance_output_Recall: 0.7248 - val_distance_output_accuracy: 0.8268 - val_distance_output_auc_1: 0.9836 - val_gunshot_output_Precision: 0.9373 - val_gunshot_output_Recall: 0.9051 - val_gunshot_output_accuracy: 0.9205 - val_gunshot_output_auc: 0.9872 - val_loss: 1.3729\n",
      "Epoch 21/64\n",
      "\u001b[1m62/62\u001b[0m \u001b[32m━━━━━━━━━━━━━━━━━━━━\u001b[0m\u001b[37m\u001b[0m \u001b[1m14s\u001b[0m 228ms/step - direction_output_Precision: 0.8293 - direction_output_Recall: 0.6157 - direction_output_accuracy: 0.7179 - direction_output_auc_2: 0.9585 - distance_output_Precision: 0.8975 - distance_output_Recall: 0.7726 - distance_output_accuracy: 0.8398 - distance_output_auc_1: 0.9850 - gunshot_output_Precision: 0.9545 - gunshot_output_Recall: 0.9504 - gunshot_output_accuracy: 0.9537 - gunshot_output_auc: 0.9949 - loss: 1.1533 - val_direction_output_Precision: 0.8509 - val_direction_output_Recall: 0.5279 - val_direction_output_accuracy: 0.6726 - val_direction_output_auc_2: 0.9466 - val_distance_output_Precision: 0.9155 - val_distance_output_Recall: 0.7070 - val_distance_output_accuracy: 0.8138 - val_distance_output_auc_1: 0.9797 - val_gunshot_output_Precision: 0.9296 - val_gunshot_output_Recall: 0.8932 - val_gunshot_output_accuracy: 0.9146 - val_gunshot_output_auc: 0.9867 - val_loss: 1.4583\n",
      "Epoch 22/64\n",
      "\u001b[1m62/62\u001b[0m \u001b[32m━━━━━━━━━━━━━━━━━━━━\u001b[0m\u001b[37m\u001b[0m \u001b[1m18s\u001b[0m 281ms/step - direction_output_Precision: 0.8374 - direction_output_Recall: 0.5896 - direction_output_accuracy: 0.6984 - direction_output_auc_2: 0.9547 - distance_output_Precision: 0.8817 - distance_output_Recall: 0.7775 - distance_output_accuracy: 0.8270 - distance_output_auc_1: 0.9837 - gunshot_output_Precision: 0.9593 - gunshot_output_Recall: 0.9583 - gunshot_output_accuracy: 0.9590 - gunshot_output_auc: 0.9958 - loss: 1.1945 - val_direction_output_Precision: 0.8506 - val_direction_output_Recall: 0.5267 - val_direction_output_accuracy: 0.6892 - val_direction_output_auc_2: 0.9475 - val_distance_output_Precision: 0.9064 - val_distance_output_Recall: 0.7355 - val_distance_output_accuracy: 0.8149 - val_distance_output_auc_1: 0.9811 - val_gunshot_output_Precision: 0.9311 - val_gunshot_output_Recall: 0.8980 - val_gunshot_output_accuracy: 0.9181 - val_gunshot_output_auc: 0.9873 - val_loss: 1.4371\n",
      "Epoch 23/64\n",
      "\u001b[1m62/62\u001b[0m \u001b[32m━━━━━━━━━━━━━━━━━━━━\u001b[0m\u001b[37m\u001b[0m \u001b[1m19s\u001b[0m 299ms/step - direction_output_Precision: 0.8300 - direction_output_Recall: 0.6028 - direction_output_accuracy: 0.7093 - direction_output_auc_2: 0.9581 - distance_output_Precision: 0.8979 - distance_output_Recall: 0.7695 - distance_output_accuracy: 0.8404 - distance_output_auc_1: 0.9835 - gunshot_output_Precision: 0.9615 - gunshot_output_Recall: 0.9599 - gunshot_output_accuracy: 0.9606 - gunshot_output_auc: 0.9967 - loss: 1.1580 - val_direction_output_Precision: 0.8315 - val_direction_output_Recall: 0.5445 - val_direction_output_accuracy: 0.6940 - val_direction_output_auc_2: 0.9509 - val_distance_output_Precision: 0.8889 - val_distance_output_Recall: 0.7117 - val_distance_output_accuracy: 0.7888 - val_distance_output_auc_1: 0.9800 - val_gunshot_output_Precision: 0.9469 - val_gunshot_output_Recall: 0.9300 - val_gunshot_output_accuracy: 0.9419 - val_gunshot_output_auc: 0.9884 - val_loss: 1.3917\n",
      "Epoch 24/64\n",
      "\u001b[1m62/62\u001b[0m \u001b[32m━━━━━━━━━━━━━━━━━━━━\u001b[0m\u001b[37m\u001b[0m \u001b[1m14s\u001b[0m 232ms/step - direction_output_Precision: 0.8234 - direction_output_Recall: 0.6045 - direction_output_accuracy: 0.7088 - direction_output_auc_2: 0.9601 - distance_output_Precision: 0.9138 - distance_output_Recall: 0.8205 - distance_output_accuracy: 0.8660 - distance_output_auc_1: 0.9879 - gunshot_output_Precision: 0.9588 - gunshot_output_Recall: 0.9561 - gunshot_output_accuracy: 0.9562 - gunshot_output_auc: 0.9963 - loss: 1.0784 - val_direction_output_Precision: 0.8360 - val_direction_output_Recall: 0.5504 - val_direction_output_accuracy: 0.6892 - val_direction_output_auc_2: 0.9538 - val_distance_output_Precision: 0.9164 - val_distance_output_Recall: 0.7675 - val_distance_output_accuracy: 0.8375 - val_distance_output_auc_1: 0.9853 - val_gunshot_output_Precision: 0.9552 - val_gunshot_output_Recall: 0.9359 - val_gunshot_output_accuracy: 0.9442 - val_gunshot_output_auc: 0.9912 - val_loss: 1.2786\n",
      "Epoch 25/64\n",
      "\u001b[1m62/62\u001b[0m \u001b[32m━━━━━━━━━━━━━━━━━━━━\u001b[0m\u001b[37m\u001b[0m \u001b[1m15s\u001b[0m 239ms/step - direction_output_Precision: 0.8091 - direction_output_Recall: 0.5798 - direction_output_accuracy: 0.6849 - direction_output_auc_2: 0.9506 - distance_output_Precision: 0.8935 - distance_output_Recall: 0.7894 - distance_output_accuracy: 0.8315 - distance_output_auc_1: 0.9839 - gunshot_output_Precision: 0.9640 - gunshot_output_Recall: 0.9590 - gunshot_output_accuracy: 0.9608 - gunshot_output_auc: 0.9968 - loss: 1.1993 - val_direction_output_Precision: 0.8429 - val_direction_output_Recall: 0.5730 - val_direction_output_accuracy: 0.7034 - val_direction_output_auc_2: 0.9562 - val_distance_output_Precision: 0.8734 - val_distance_output_Recall: 0.7284 - val_distance_output_accuracy: 0.7948 - val_distance_output_auc_1: 0.9797 - val_gunshot_output_Precision: 0.8941 - val_gunshot_output_Recall: 0.8814 - val_gunshot_output_accuracy: 0.8861 - val_gunshot_output_auc: 0.9804 - val_loss: 1.4239\n",
      "Epoch 26/64\n",
      "\u001b[1m62/62\u001b[0m \u001b[32m━━━━━━━━━━━━━━━━━━━━\u001b[0m\u001b[37m\u001b[0m \u001b[1m14s\u001b[0m 232ms/step - direction_output_Precision: 0.8522 - direction_output_Recall: 0.6388 - direction_output_accuracy: 0.7354 - direction_output_auc_2: 0.9625 - distance_output_Precision: 0.8979 - distance_output_Recall: 0.7994 - distance_output_accuracy: 0.8394 - distance_output_auc_1: 0.9859 - gunshot_output_Precision: 0.9639 - gunshot_output_Recall: 0.9630 - gunshot_output_accuracy: 0.9633 - gunshot_output_auc: 0.9954 - loss: 1.1012 - val_direction_output_Precision: 0.8114 - val_direction_output_Recall: 0.5765 - val_direction_output_accuracy: 0.6868 - val_direction_output_auc_2: 0.9535 - val_distance_output_Precision: 0.9166 - val_distance_output_Recall: 0.7817 - val_distance_output_accuracy: 0.8493 - val_distance_output_auc_1: 0.9861 - val_gunshot_output_Precision: 0.9340 - val_gunshot_output_Recall: 0.9229 - val_gunshot_output_accuracy: 0.9300 - val_gunshot_output_auc: 0.9897 - val_loss: 1.2685\n",
      "Epoch 27/64\n",
      "\u001b[1m62/62\u001b[0m \u001b[32m━━━━━━━━━━━━━━━━━━━━\u001b[0m\u001b[37m\u001b[0m \u001b[1m16s\u001b[0m 250ms/step - direction_output_Precision: 0.8225 - direction_output_Recall: 0.6208 - direction_output_accuracy: 0.7149 - direction_output_auc_2: 0.9578 - distance_output_Precision: 0.8873 - distance_output_Recall: 0.7986 - distance_output_accuracy: 0.8451 - distance_output_auc_1: 0.9867 - gunshot_output_Precision: 0.9703 - gunshot_output_Recall: 0.9673 - gunshot_output_accuracy: 0.9692 - gunshot_output_auc: 0.9958 - loss: 1.1046 - val_direction_output_Precision: 0.8511 - val_direction_output_Recall: 0.5765 - val_direction_output_accuracy: 0.6904 - val_direction_output_auc_2: 0.9545 - val_distance_output_Precision: 0.9000 - val_distance_output_Recall: 0.7260 - val_distance_output_accuracy: 0.8185 - val_distance_output_auc_1: 0.9826 - val_gunshot_output_Precision: 0.9494 - val_gunshot_output_Recall: 0.9348 - val_gunshot_output_accuracy: 0.9454 - val_gunshot_output_auc: 0.9897 - val_loss: 1.3270\n",
      "Epoch 28/64\n",
      "\u001b[1m62/62\u001b[0m \u001b[32m━━━━━━━━━━━━━━━━━━━━\u001b[0m\u001b[37m\u001b[0m \u001b[1m15s\u001b[0m 245ms/step - direction_output_Precision: 0.8362 - direction_output_Recall: 0.6177 - direction_output_accuracy: 0.7158 - direction_output_auc_2: 0.9617 - distance_output_Precision: 0.8968 - distance_output_Recall: 0.7871 - distance_output_accuracy: 0.8347 - distance_output_auc_1: 0.9841 - gunshot_output_Precision: 0.9804 - gunshot_output_Recall: 0.9787 - gunshot_output_accuracy: 0.9799 - gunshot_output_auc: 0.9982 - loss: 1.0819 - val_direction_output_Precision: 0.8333 - val_direction_output_Recall: 0.5753 - val_direction_output_accuracy: 0.6940 - val_direction_output_auc_2: 0.9559 - val_distance_output_Precision: 0.9264 - val_distance_output_Recall: 0.7770 - val_distance_output_accuracy: 0.8482 - val_distance_output_auc_1: 0.9848 - val_gunshot_output_Precision: 0.9600 - val_gunshot_output_Recall: 0.9395 - val_gunshot_output_accuracy: 0.9537 - val_gunshot_output_auc: 0.9906 - val_loss: 1.2571\n",
      "Epoch 29/64\n",
      "\u001b[1m62/62\u001b[0m \u001b[32m━━━━━━━━━━━━━━━━━━━━\u001b[0m\u001b[37m\u001b[0m \u001b[1m15s\u001b[0m 240ms/step - direction_output_Precision: 0.8188 - direction_output_Recall: 0.6300 - direction_output_accuracy: 0.7132 - direction_output_auc_2: 0.9609 - distance_output_Precision: 0.8799 - distance_output_Recall: 0.7973 - distance_output_accuracy: 0.8475 - distance_output_auc_1: 0.9868 - gunshot_output_Precision: 0.9666 - gunshot_output_Recall: 0.9618 - gunshot_output_accuracy: 0.9656 - gunshot_output_auc: 0.9976 - loss: 1.0648 - val_direction_output_Precision: 0.8538 - val_direction_output_Recall: 0.5682 - val_direction_output_accuracy: 0.6963 - val_direction_output_auc_2: 0.9563 - val_distance_output_Precision: 0.9259 - val_distance_output_Recall: 0.7853 - val_distance_output_accuracy: 0.8588 - val_distance_output_auc_1: 0.9864 - val_gunshot_output_Precision: 0.9628 - val_gunshot_output_Recall: 0.9514 - val_gunshot_output_accuracy: 0.9573 - val_gunshot_output_auc: 0.9917 - val_loss: 1.2415\n",
      "Epoch 30/64\n",
      "\u001b[1m62/62\u001b[0m \u001b[32m━━━━━━━━━━━━━━━━━━━━\u001b[0m\u001b[37m\u001b[0m \u001b[1m20s\u001b[0m 230ms/step - direction_output_Precision: 0.8288 - direction_output_Recall: 0.6266 - direction_output_accuracy: 0.7278 - direction_output_auc_2: 0.9614 - distance_output_Precision: 0.9088 - distance_output_Recall: 0.8247 - distance_output_accuracy: 0.8664 - distance_output_auc_1: 0.9890 - gunshot_output_Precision: 0.9760 - gunshot_output_Recall: 0.9740 - gunshot_output_accuracy: 0.9760 - gunshot_output_auc: 0.9983 - loss: 1.0184 - val_direction_output_Precision: 0.8327 - val_direction_output_Recall: 0.5611 - val_direction_output_accuracy: 0.6975 - val_direction_output_auc_2: 0.9527 - val_distance_output_Precision: 0.8934 - val_distance_output_Recall: 0.7853 - val_distance_output_accuracy: 0.8339 - val_distance_output_auc_1: 0.9858 - val_gunshot_output_Precision: 0.9552 - val_gunshot_output_Recall: 0.9348 - val_gunshot_output_accuracy: 0.9442 - val_gunshot_output_auc: 0.9889 - val_loss: 1.2647\n",
      "Epoch 31/64\n",
      "\u001b[1m62/62\u001b[0m \u001b[32m━━━━━━━━━━━━━━━━━━━━\u001b[0m\u001b[37m\u001b[0m \u001b[1m15s\u001b[0m 240ms/step - direction_output_Precision: 0.8110 - direction_output_Recall: 0.6290 - direction_output_accuracy: 0.7135 - direction_output_auc_2: 0.9612 - distance_output_Precision: 0.9158 - distance_output_Recall: 0.8326 - distance_output_accuracy: 0.8717 - distance_output_auc_1: 0.9884 - gunshot_output_Precision: 0.9621 - gunshot_output_Recall: 0.9605 - gunshot_output_accuracy: 0.9611 - gunshot_output_auc: 0.9959 - loss: 1.0572 - val_direction_output_Precision: 0.8635 - val_direction_output_Recall: 0.5777 - val_direction_output_accuracy: 0.7141 - val_direction_output_auc_2: 0.9558 - val_distance_output_Precision: 0.9197 - val_distance_output_Recall: 0.7746 - val_distance_output_accuracy: 0.8375 - val_distance_output_auc_1: 0.9858 - val_gunshot_output_Precision: 0.9424 - val_gunshot_output_Recall: 0.9312 - val_gunshot_output_accuracy: 0.9359 - val_gunshot_output_auc: 0.9908 - val_loss: 1.2888\n",
      "Epoch 32/64\n",
      "\u001b[1m62/62\u001b[0m \u001b[32m━━━━━━━━━━━━━━━━━━━━\u001b[0m\u001b[37m\u001b[0m \u001b[1m15s\u001b[0m 235ms/step - direction_output_Precision: 0.8317 - direction_output_Recall: 0.6450 - direction_output_accuracy: 0.7469 - direction_output_auc_2: 0.9667 - distance_output_Precision: 0.9042 - distance_output_Recall: 0.8254 - distance_output_accuracy: 0.8673 - distance_output_auc_1: 0.9906 - gunshot_output_Precision: 0.9764 - gunshot_output_Recall: 0.9734 - gunshot_output_accuracy: 0.9738 - gunshot_output_auc: 0.9967 - loss: 0.9743 - val_direction_output_Precision: 0.8222 - val_direction_output_Recall: 0.5706 - val_direction_output_accuracy: 0.6951 - val_direction_output_auc_2: 0.9556 - val_distance_output_Precision: 0.9262 - val_distance_output_Recall: 0.8043 - val_distance_output_accuracy: 0.8671 - val_distance_output_auc_1: 0.9882 - val_gunshot_output_Precision: 0.9612 - val_gunshot_output_Recall: 0.9395 - val_gunshot_output_accuracy: 0.9466 - val_gunshot_output_auc: 0.9915 - val_loss: 1.1907\n",
      "Epoch 33/64\n",
      "\u001b[1m62/62\u001b[0m \u001b[32m━━━━━━━━━━━━━━━━━━━━\u001b[0m\u001b[37m\u001b[0m \u001b[1m15s\u001b[0m 235ms/step - direction_output_Precision: 0.8195 - direction_output_Recall: 0.6351 - direction_output_accuracy: 0.7238 - direction_output_auc_2: 0.9647 - distance_output_Precision: 0.9210 - distance_output_Recall: 0.8454 - distance_output_accuracy: 0.8752 - distance_output_auc_1: 0.9903 - gunshot_output_Precision: 0.9784 - gunshot_output_Recall: 0.9775 - gunshot_output_accuracy: 0.9781 - gunshot_output_auc: 0.9979 - loss: 0.9708 - val_direction_output_Precision: 0.8440 - val_direction_output_Recall: 0.5777 - val_direction_output_accuracy: 0.7117 - val_direction_output_auc_2: 0.9574 - val_distance_output_Precision: 0.9127 - val_distance_output_Recall: 0.7936 - val_distance_output_accuracy: 0.8553 - val_distance_output_auc_1: 0.9870 - val_gunshot_output_Precision: 0.9568 - val_gunshot_output_Recall: 0.9454 - val_gunshot_output_accuracy: 0.9514 - val_gunshot_output_auc: 0.9919 - val_loss: 1.1620\n",
      "Epoch 34/64\n",
      "\u001b[1m62/62\u001b[0m \u001b[32m━━━━━━━━━━━━━━━━━━━━\u001b[0m\u001b[37m\u001b[0m \u001b[1m16s\u001b[0m 262ms/step - direction_output_Precision: 0.8367 - direction_output_Recall: 0.6442 - direction_output_accuracy: 0.7379 - direction_output_auc_2: 0.9632 - distance_output_Precision: 0.9140 - distance_output_Recall: 0.8371 - distance_output_accuracy: 0.8719 - distance_output_auc_1: 0.9898 - gunshot_output_Precision: 0.9773 - gunshot_output_Recall: 0.9762 - gunshot_output_accuracy: 0.9772 - gunshot_output_auc: 0.9978 - loss: 0.9854 - val_direction_output_Precision: 0.8161 - val_direction_output_Recall: 0.5896 - val_direction_output_accuracy: 0.6892 - val_direction_output_auc_2: 0.9554 - val_distance_output_Precision: 0.9070 - val_distance_output_Recall: 0.7983 - val_distance_output_accuracy: 0.8541 - val_distance_output_auc_1: 0.9864 - val_gunshot_output_Precision: 0.9567 - val_gunshot_output_Recall: 0.9431 - val_gunshot_output_accuracy: 0.9514 - val_gunshot_output_auc: 0.9925 - val_loss: 1.1753\n",
      "Epoch 35/64\n",
      "\u001b[1m62/62\u001b[0m \u001b[32m━━━━━━━━━━━━━━━━━━━━\u001b[0m\u001b[37m\u001b[0m \u001b[1m15s\u001b[0m 245ms/step - direction_output_Precision: 0.8357 - direction_output_Recall: 0.6579 - direction_output_accuracy: 0.7302 - direction_output_auc_2: 0.9659 - distance_output_Precision: 0.9150 - distance_output_Recall: 0.8437 - distance_output_accuracy: 0.8792 - distance_output_auc_1: 0.9912 - gunshot_output_Precision: 0.9748 - gunshot_output_Recall: 0.9739 - gunshot_output_accuracy: 0.9739 - gunshot_output_auc: 0.9989 - loss: 0.9246 - val_direction_output_Precision: 0.8208 - val_direction_output_Recall: 0.5813 - val_direction_output_accuracy: 0.7011 - val_direction_output_auc_2: 0.9547 - val_distance_output_Precision: 0.9074 - val_distance_output_Recall: 0.7900 - val_distance_output_accuracy: 0.8517 - val_distance_output_auc_1: 0.9861 - val_gunshot_output_Precision: 0.9582 - val_gunshot_output_Recall: 0.9526 - val_gunshot_output_accuracy: 0.9585 - val_gunshot_output_auc: 0.9912 - val_loss: 1.2353\n",
      "Epoch 36/64\n",
      "\u001b[1m62/62\u001b[0m \u001b[32m━━━━━━━━━━━━━━━━━━━━\u001b[0m\u001b[37m\u001b[0m \u001b[1m15s\u001b[0m 239ms/step - direction_output_Precision: 0.8346 - direction_output_Recall: 0.6683 - direction_output_accuracy: 0.7532 - direction_output_auc_2: 0.9684 - distance_output_Precision: 0.9164 - distance_output_Recall: 0.8544 - distance_output_accuracy: 0.8866 - distance_output_auc_1: 0.9910 - gunshot_output_Precision: 0.9746 - gunshot_output_Recall: 0.9745 - gunshot_output_accuracy: 0.9745 - gunshot_output_auc: 0.9981 - loss: 0.9068 - val_direction_output_Precision: 0.8372 - val_direction_output_Recall: 0.5979 - val_direction_output_accuracy: 0.7141 - val_direction_output_auc_2: 0.9590 - val_distance_output_Precision: 0.9304 - val_distance_output_Recall: 0.8244 - val_distance_output_accuracy: 0.8802 - val_distance_output_auc_1: 0.9893 - val_gunshot_output_Precision: 0.9620 - val_gunshot_output_Recall: 0.9609 - val_gunshot_output_accuracy: 0.9620 - val_gunshot_output_auc: 0.9930 - val_loss: 1.1352\n",
      "Epoch 37/64\n",
      "\u001b[1m62/62\u001b[0m \u001b[32m━━━━━━━━━━━━━━━━━━━━\u001b[0m\u001b[37m\u001b[0m \u001b[1m16s\u001b[0m 259ms/step - direction_output_Precision: 0.8492 - direction_output_Recall: 0.6523 - direction_output_accuracy: 0.7386 - direction_output_auc_2: 0.9655 - distance_output_Precision: 0.9268 - distance_output_Recall: 0.8568 - distance_output_accuracy: 0.8955 - distance_output_auc_1: 0.9918 - gunshot_output_Precision: 0.9800 - gunshot_output_Recall: 0.9788 - gunshot_output_accuracy: 0.9788 - gunshot_output_auc: 0.9979 - loss: 0.9337 - val_direction_output_Precision: 0.7997 - val_direction_output_Recall: 0.5967 - val_direction_output_accuracy: 0.6963 - val_direction_output_auc_2: 0.9546 - val_distance_output_Precision: 0.9242 - val_distance_output_Recall: 0.8387 - val_distance_output_accuracy: 0.8790 - val_distance_output_auc_1: 0.9897 - val_gunshot_output_Precision: 0.9691 - val_gunshot_output_Recall: 0.9668 - val_gunshot_output_accuracy: 0.9680 - val_gunshot_output_auc: 0.9932 - val_loss: 1.1367\n",
      "Epoch 38/64\n",
      "\u001b[1m62/62\u001b[0m \u001b[32m━━━━━━━━━━━━━━━━━━━━\u001b[0m\u001b[37m\u001b[0m \u001b[1m15s\u001b[0m 243ms/step - direction_output_Precision: 0.8173 - direction_output_Recall: 0.6474 - direction_output_accuracy: 0.7330 - direction_output_auc_2: 0.9650 - distance_output_Precision: 0.9134 - distance_output_Recall: 0.8618 - distance_output_accuracy: 0.8841 - distance_output_auc_1: 0.9928 - gunshot_output_Precision: 0.9821 - gunshot_output_Recall: 0.9796 - gunshot_output_accuracy: 0.9809 - gunshot_output_auc: 0.9989 - loss: 0.9050 - val_direction_output_Precision: 0.8185 - val_direction_output_Recall: 0.5991 - val_direction_output_accuracy: 0.7141 - val_direction_output_auc_2: 0.9589 - val_distance_output_Precision: 0.9199 - val_distance_output_Recall: 0.8316 - val_distance_output_accuracy: 0.8778 - val_distance_output_auc_1: 0.9897 - val_gunshot_output_Precision: 0.9618 - val_gunshot_output_Recall: 0.9561 - val_gunshot_output_accuracy: 0.9585 - val_gunshot_output_auc: 0.9930 - val_loss: 1.1045\n",
      "Epoch 39/64\n",
      "\u001b[1m62/62\u001b[0m \u001b[32m━━━━━━━━━━━━━━━━━━━━\u001b[0m\u001b[37m\u001b[0m \u001b[1m15s\u001b[0m 244ms/step - direction_output_Precision: 0.8442 - direction_output_Recall: 0.6787 - direction_output_accuracy: 0.7552 - direction_output_auc_2: 0.9698 - distance_output_Precision: 0.9261 - distance_output_Recall: 0.8757 - distance_output_accuracy: 0.9037 - distance_output_auc_1: 0.9938 - gunshot_output_Precision: 0.9766 - gunshot_output_Recall: 0.9747 - gunshot_output_accuracy: 0.9748 - gunshot_output_auc: 0.9985 - loss: 0.8561 - val_direction_output_Precision: 0.8122 - val_direction_output_Recall: 0.6157 - val_direction_output_accuracy: 0.7023 - val_direction_output_auc_2: 0.9562 - val_distance_output_Precision: 0.8983 - val_distance_output_Recall: 0.7960 - val_distance_output_accuracy: 0.8458 - val_distance_output_auc_1: 0.9857 - val_gunshot_output_Precision: 0.9567 - val_gunshot_output_Recall: 0.9442 - val_gunshot_output_accuracy: 0.9514 - val_gunshot_output_auc: 0.9914 - val_loss: 1.2152\n",
      "Epoch 40/64\n",
      "\u001b[1m62/62\u001b[0m \u001b[32m━━━━━━━━━━━━━━━━━━━━\u001b[0m\u001b[37m\u001b[0m \u001b[1m15s\u001b[0m 249ms/step - direction_output_Precision: 0.8227 - direction_output_Recall: 0.6323 - direction_output_accuracy: 0.7261 - direction_output_auc_2: 0.9599 - distance_output_Precision: 0.8758 - distance_output_Recall: 0.8156 - distance_output_accuracy: 0.8440 - distance_output_auc_1: 0.9860 - gunshot_output_Precision: 0.9592 - gunshot_output_Recall: 0.9569 - gunshot_output_accuracy: 0.9572 - gunshot_output_auc: 0.9949 - loss: 1.1193 - val_direction_output_Precision: 0.8121 - val_direction_output_Recall: 0.5896 - val_direction_output_accuracy: 0.7034 - val_direction_output_auc_2: 0.9582 - val_distance_output_Precision: 0.9246 - val_distance_output_Recall: 0.8292 - val_distance_output_accuracy: 0.8885 - val_distance_output_auc_1: 0.9912 - val_gunshot_output_Precision: 0.9774 - val_gunshot_output_Recall: 0.9727 - val_gunshot_output_accuracy: 0.9763 - val_gunshot_output_auc: 0.9938 - val_loss: 1.0798\n",
      "Epoch 41/64\n",
      "\u001b[1m62/62\u001b[0m \u001b[32m━━━━━━━━━━━━━━━━━━━━\u001b[0m\u001b[37m\u001b[0m \u001b[1m20s\u001b[0m 240ms/step - direction_output_Precision: 0.8294 - direction_output_Recall: 0.6692 - direction_output_accuracy: 0.7541 - direction_output_auc_2: 0.9691 - distance_output_Precision: 0.9233 - distance_output_Recall: 0.8689 - distance_output_accuracy: 0.8995 - distance_output_auc_1: 0.9938 - gunshot_output_Precision: 0.9857 - gunshot_output_Recall: 0.9818 - gunshot_output_accuracy: 0.9841 - gunshot_output_auc: 0.9995 - loss: 0.8355 - val_direction_output_Precision: 0.7877 - val_direction_output_Recall: 0.5943 - val_direction_output_accuracy: 0.6916 - val_direction_output_auc_2: 0.9495 - val_distance_output_Precision: 0.8993 - val_distance_output_Recall: 0.8055 - val_distance_output_accuracy: 0.8660 - val_distance_output_auc_1: 0.9869 - val_gunshot_output_Precision: 0.9394 - val_gunshot_output_Recall: 0.9383 - val_gunshot_output_accuracy: 0.9395 - val_gunshot_output_auc: 0.9889 - val_loss: 1.3094\n",
      "Epoch 42/64\n",
      "\u001b[1m62/62\u001b[0m \u001b[32m━━━━━━━━━━━━━━━━━━━━\u001b[0m\u001b[37m\u001b[0m \u001b[1m15s\u001b[0m 245ms/step - direction_output_Precision: 0.8246 - direction_output_Recall: 0.6639 - direction_output_accuracy: 0.7388 - direction_output_auc_2: 0.9659 - distance_output_Precision: 0.9085 - distance_output_Recall: 0.8653 - distance_output_accuracy: 0.8849 - distance_output_auc_1: 0.9904 - gunshot_output_Precision: 0.9575 - gunshot_output_Recall: 0.9542 - gunshot_output_accuracy: 0.9568 - gunshot_output_auc: 0.9953 - loss: 0.9953 - val_direction_output_Precision: 0.7937 - val_direction_output_Recall: 0.6026 - val_direction_output_accuracy: 0.7106 - val_direction_output_auc_2: 0.9576 - val_distance_output_Precision: 0.9236 - val_distance_output_Recall: 0.8316 - val_distance_output_accuracy: 0.8766 - val_distance_output_auc_1: 0.9904 - val_gunshot_output_Precision: 0.9642 - val_gunshot_output_Recall: 0.9597 - val_gunshot_output_accuracy: 0.9632 - val_gunshot_output_auc: 0.9930 - val_loss: 1.1007\n",
      "Epoch 43/64\n",
      "\u001b[1m62/62\u001b[0m \u001b[32m━━━━━━━━━━━━━━━━━━━━\u001b[0m\u001b[37m\u001b[0m \u001b[1m16s\u001b[0m 253ms/step - direction_output_Precision: 0.8161 - direction_output_Recall: 0.6581 - direction_output_accuracy: 0.7380 - direction_output_auc_2: 0.9659 - distance_output_Precision: 0.9153 - distance_output_Recall: 0.8577 - distance_output_accuracy: 0.8823 - distance_output_auc_1: 0.9899 - gunshot_output_Precision: 0.9814 - gunshot_output_Recall: 0.9773 - gunshot_output_accuracy: 0.9809 - gunshot_output_auc: 0.9988 - loss: 0.9297 - val_direction_output_Precision: 0.8066 - val_direction_output_Recall: 0.6133 - val_direction_output_accuracy: 0.7129 - val_direction_output_auc_2: 0.9588 - val_distance_output_Precision: 0.9124 - val_distance_output_Recall: 0.8280 - val_distance_output_accuracy: 0.8719 - val_distance_output_auc_1: 0.9905 - val_gunshot_output_Precision: 0.9629 - val_gunshot_output_Recall: 0.9549 - val_gunshot_output_accuracy: 0.9585 - val_gunshot_output_auc: 0.9929 - val_loss: 1.0792\n",
      "Epoch 44/64\n",
      "\u001b[1m62/62\u001b[0m \u001b[32m━━━━━━━━━━━━━━━━━━━━\u001b[0m\u001b[37m\u001b[0m \u001b[1m16s\u001b[0m 250ms/step - direction_output_Precision: 0.8406 - direction_output_Recall: 0.6894 - direction_output_accuracy: 0.7683 - direction_output_auc_2: 0.9730 - distance_output_Precision: 0.9273 - distance_output_Recall: 0.8830 - distance_output_accuracy: 0.8992 - distance_output_auc_1: 0.9932 - gunshot_output_Precision: 0.9800 - gunshot_output_Recall: 0.9798 - gunshot_output_accuracy: 0.9798 - gunshot_output_auc: 0.9988 - loss: 0.8194 - val_direction_output_Precision: 0.8315 - val_direction_output_Recall: 0.6145 - val_direction_output_accuracy: 0.7224 - val_direction_output_auc_2: 0.9617 - val_distance_output_Precision: 0.9205 - val_distance_output_Recall: 0.8375 - val_distance_output_accuracy: 0.8861 - val_distance_output_auc_1: 0.9908 - val_gunshot_output_Precision: 0.9715 - val_gunshot_output_Recall: 0.9692 - val_gunshot_output_accuracy: 0.9703 - val_gunshot_output_auc: 0.9942 - val_loss: 1.0295\n",
      "Epoch 45/64\n",
      "\u001b[1m62/62\u001b[0m \u001b[32m━━━━━━━━━━━━━━━━━━━━\u001b[0m\u001b[37m\u001b[0m \u001b[1m15s\u001b[0m 249ms/step - direction_output_Precision: 0.8437 - direction_output_Recall: 0.6874 - direction_output_accuracy: 0.7599 - direction_output_auc_2: 0.9706 - distance_output_Precision: 0.9077 - distance_output_Recall: 0.8660 - distance_output_accuracy: 0.8915 - distance_output_auc_1: 0.9937 - gunshot_output_Precision: 0.9846 - gunshot_output_Recall: 0.9842 - gunshot_output_accuracy: 0.9847 - gunshot_output_auc: 0.9995 - loss: 0.8290 - val_direction_output_Precision: 0.8050 - val_direction_output_Recall: 0.6074 - val_direction_output_accuracy: 0.7070 - val_direction_output_auc_2: 0.9577 - val_distance_output_Precision: 0.9166 - val_distance_output_Recall: 0.8470 - val_distance_output_accuracy: 0.8885 - val_distance_output_auc_1: 0.9907 - val_gunshot_output_Precision: 0.9727 - val_gunshot_output_Recall: 0.9727 - val_gunshot_output_accuracy: 0.9727 - val_gunshot_output_auc: 0.9949 - val_loss: 1.0587\n",
      "Epoch 46/64\n",
      "\u001b[1m62/62\u001b[0m \u001b[32m━━━━━━━━━━━━━━━━━━━━\u001b[0m\u001b[37m\u001b[0m \u001b[1m16s\u001b[0m 258ms/step - direction_output_Precision: 0.8235 - direction_output_Recall: 0.6861 - direction_output_accuracy: 0.7531 - direction_output_auc_2: 0.9684 - distance_output_Precision: 0.9312 - distance_output_Recall: 0.8886 - distance_output_accuracy: 0.9077 - distance_output_auc_1: 0.9940 - gunshot_output_Precision: 0.9770 - gunshot_output_Recall: 0.9755 - gunshot_output_accuracy: 0.9763 - gunshot_output_auc: 0.9985 - loss: 0.8600 - val_direction_output_Precision: 0.8154 - val_direction_output_Recall: 0.6287 - val_direction_output_accuracy: 0.7034 - val_direction_output_auc_2: 0.9565 - val_distance_output_Precision: 0.9143 - val_distance_output_Recall: 0.8482 - val_distance_output_accuracy: 0.8885 - val_distance_output_auc_1: 0.9900 - val_gunshot_output_Precision: 0.9692 - val_gunshot_output_Recall: 0.9692 - val_gunshot_output_accuracy: 0.9692 - val_gunshot_output_auc: 0.9940 - val_loss: 1.0683\n",
      "Epoch 47/64\n",
      "\u001b[1m62/62\u001b[0m \u001b[32m━━━━━━━━━━━━━━━━━━━━\u001b[0m\u001b[37m\u001b[0m \u001b[1m19s\u001b[0m 238ms/step - direction_output_Precision: 0.8576 - direction_output_Recall: 0.7106 - direction_output_accuracy: 0.7814 - direction_output_auc_2: 0.9741 - distance_output_Precision: 0.9239 - distance_output_Recall: 0.8773 - distance_output_accuracy: 0.8973 - distance_output_auc_1: 0.9932 - gunshot_output_Precision: 0.9888 - gunshot_output_Recall: 0.9884 - gunshot_output_accuracy: 0.9884 - gunshot_output_auc: 0.9992 - loss: 0.7953 - val_direction_output_Precision: 0.8393 - val_direction_output_Recall: 0.6074 - val_direction_output_accuracy: 0.7141 - val_direction_output_auc_2: 0.9606 - val_distance_output_Precision: 0.9381 - val_distance_output_Recall: 0.8636 - val_distance_output_accuracy: 0.9051 - val_distance_output_auc_1: 0.9922 - val_gunshot_output_Precision: 0.9761 - val_gunshot_output_Recall: 0.9692 - val_gunshot_output_accuracy: 0.9751 - val_gunshot_output_auc: 0.9954 - val_loss: 0.9889\n",
      "Epoch 48/64\n",
      "\u001b[1m62/62\u001b[0m \u001b[32m━━━━━━━━━━━━━━━━━━━━\u001b[0m\u001b[37m\u001b[0m \u001b[1m16s\u001b[0m 259ms/step - direction_output_Precision: 0.8402 - direction_output_Recall: 0.6940 - direction_output_accuracy: 0.7573 - direction_output_auc_2: 0.9719 - distance_output_Precision: 0.9327 - distance_output_Recall: 0.8848 - distance_output_accuracy: 0.9079 - distance_output_auc_1: 0.9947 - gunshot_output_Precision: 0.9807 - gunshot_output_Recall: 0.9775 - gunshot_output_accuracy: 0.9791 - gunshot_output_auc: 0.9988 - loss: 0.8037 - val_direction_output_Precision: 0.8249 - val_direction_output_Recall: 0.6370 - val_direction_output_accuracy: 0.7153 - val_direction_output_auc_2: 0.9612 - val_distance_output_Precision: 0.9347 - val_distance_output_Recall: 0.8660 - val_distance_output_accuracy: 0.9039 - val_distance_output_auc_1: 0.9918 - val_gunshot_output_Precision: 0.9749 - val_gunshot_output_Recall: 0.9692 - val_gunshot_output_accuracy: 0.9715 - val_gunshot_output_auc: 0.9926 - val_loss: 0.9999\n",
      "Epoch 49/64\n",
      "\u001b[1m62/62\u001b[0m \u001b[32m━━━━━━━━━━━━━━━━━━━━\u001b[0m\u001b[37m\u001b[0m \u001b[1m16s\u001b[0m 253ms/step - direction_output_Precision: 0.8495 - direction_output_Recall: 0.7163 - direction_output_accuracy: 0.7753 - direction_output_auc_2: 0.9750 - distance_output_Precision: 0.9230 - distance_output_Recall: 0.8936 - distance_output_accuracy: 0.9070 - distance_output_auc_1: 0.9942 - gunshot_output_Precision: 0.9868 - gunshot_output_Recall: 0.9868 - gunshot_output_accuracy: 0.9868 - gunshot_output_auc: 0.9995 - loss: 0.7574 - val_direction_output_Precision: 0.8326 - val_direction_output_Recall: 0.6311 - val_direction_output_accuracy: 0.7319 - val_direction_output_auc_2: 0.9641 - val_distance_output_Precision: 0.9278 - val_distance_output_Recall: 0.8695 - val_distance_output_accuracy: 0.9039 - val_distance_output_auc_1: 0.9922 - val_gunshot_output_Precision: 0.9763 - val_gunshot_output_Recall: 0.9763 - val_gunshot_output_accuracy: 0.9763 - val_gunshot_output_auc: 0.9945 - val_loss: 0.9686\n",
      "Epoch 50/64\n",
      "\u001b[1m62/62\u001b[0m \u001b[32m━━━━━━━━━━━━━━━━━━━━\u001b[0m\u001b[37m\u001b[0m \u001b[1m16s\u001b[0m 250ms/step - direction_output_Precision: 0.8658 - direction_output_Recall: 0.7269 - direction_output_accuracy: 0.7901 - direction_output_auc_2: 0.9767 - distance_output_Precision: 0.9335 - distance_output_Recall: 0.8956 - distance_output_accuracy: 0.9184 - distance_output_auc_1: 0.9947 - gunshot_output_Precision: 0.9814 - gunshot_output_Recall: 0.9806 - gunshot_output_accuracy: 0.9814 - gunshot_output_auc: 0.9982 - loss: 0.7366 - val_direction_output_Precision: 0.8424 - val_direction_output_Recall: 0.6406 - val_direction_output_accuracy: 0.7378 - val_direction_output_auc_2: 0.9648 - val_distance_output_Precision: 0.9155 - val_distance_output_Recall: 0.8612 - val_distance_output_accuracy: 0.8956 - val_distance_output_auc_1: 0.9912 - val_gunshot_output_Precision: 0.9703 - val_gunshot_output_Recall: 0.9692 - val_gunshot_output_accuracy: 0.9703 - val_gunshot_output_auc: 0.9948 - val_loss: 0.9611\n",
      "Epoch 51/64\n",
      "\u001b[1m62/62\u001b[0m \u001b[32m━━━━━━━━━━━━━━━━━━━━\u001b[0m\u001b[37m\u001b[0m \u001b[1m20s\u001b[0m 246ms/step - direction_output_Precision: 0.8467 - direction_output_Recall: 0.7168 - direction_output_accuracy: 0.7773 - direction_output_auc_2: 0.9761 - distance_output_Precision: 0.9369 - distance_output_Recall: 0.9085 - distance_output_accuracy: 0.9266 - distance_output_auc_1: 0.9953 - gunshot_output_Precision: 0.9851 - gunshot_output_Recall: 0.9829 - gunshot_output_accuracy: 0.9835 - gunshot_output_auc: 0.9992 - loss: 0.7374 - val_direction_output_Precision: 0.7955 - val_direction_output_Recall: 0.6228 - val_direction_output_accuracy: 0.7023 - val_direction_output_auc_2: 0.9600 - val_distance_output_Precision: 0.9381 - val_distance_output_Recall: 0.8636 - val_distance_output_accuracy: 0.8968 - val_distance_output_auc_1: 0.9923 - val_gunshot_output_Precision: 0.9547 - val_gunshot_output_Recall: 0.9502 - val_gunshot_output_accuracy: 0.9502 - val_gunshot_output_auc: 0.9918 - val_loss: 1.0305\n",
      "Epoch 52/64\n",
      "\u001b[1m62/62\u001b[0m \u001b[32m━━━━━━━━━━━━━━━━━━━━\u001b[0m\u001b[37m\u001b[0m \u001b[1m16s\u001b[0m 256ms/step - direction_output_Precision: 0.8497 - direction_output_Recall: 0.7264 - direction_output_accuracy: 0.7749 - direction_output_auc_2: 0.9734 - distance_output_Precision: 0.9378 - distance_output_Recall: 0.8958 - distance_output_accuracy: 0.9133 - distance_output_auc_1: 0.9958 - gunshot_output_Precision: 0.9795 - gunshot_output_Recall: 0.9780 - gunshot_output_accuracy: 0.9780 - gunshot_output_auc: 0.9979 - loss: 0.7754 - val_direction_output_Precision: 0.8196 - val_direction_output_Recall: 0.6145 - val_direction_output_accuracy: 0.7129 - val_direction_output_auc_2: 0.9622 - val_distance_output_Precision: 0.9381 - val_distance_output_Recall: 0.8814 - val_distance_output_accuracy: 0.9158 - val_distance_output_auc_1: 0.9928 - val_gunshot_output_Precision: 0.9727 - val_gunshot_output_Recall: 0.9727 - val_gunshot_output_accuracy: 0.9727 - val_gunshot_output_auc: 0.9953 - val_loss: 0.9448\n",
      "Epoch 53/64\n",
      "\u001b[1m62/62\u001b[0m \u001b[32m━━━━━━━━━━━━━━━━━━━━\u001b[0m\u001b[37m\u001b[0m \u001b[1m16s\u001b[0m 255ms/step - direction_output_Precision: 0.8646 - direction_output_Recall: 0.7331 - direction_output_accuracy: 0.8037 - direction_output_auc_2: 0.9776 - distance_output_Precision: 0.9249 - distance_output_Recall: 0.8924 - distance_output_accuracy: 0.9107 - distance_output_auc_1: 0.9947 - gunshot_output_Precision: 0.9870 - gunshot_output_Recall: 0.9858 - gunshot_output_accuracy: 0.9858 - gunshot_output_auc: 0.9989 - loss: 0.7339 - val_direction_output_Precision: 0.7909 - val_direction_output_Recall: 0.6418 - val_direction_output_accuracy: 0.7106 - val_direction_output_auc_2: 0.9586 - val_distance_output_Precision: 0.9488 - val_distance_output_Recall: 0.8802 - val_distance_output_accuracy: 0.9217 - val_distance_output_auc_1: 0.9933 - val_gunshot_output_Precision: 0.9655 - val_gunshot_output_Recall: 0.9620 - val_gunshot_output_accuracy: 0.9644 - val_gunshot_output_auc: 0.9940 - val_loss: 1.0127\n",
      "Epoch 54/64\n",
      "\u001b[1m62/62\u001b[0m \u001b[32m━━━━━━━━━━━━━━━━━━━━\u001b[0m\u001b[37m\u001b[0m \u001b[1m16s\u001b[0m 251ms/step - direction_output_Precision: 0.8497 - direction_output_Recall: 0.7184 - direction_output_accuracy: 0.7839 - direction_output_auc_2: 0.9752 - distance_output_Precision: 0.9413 - distance_output_Recall: 0.9133 - distance_output_accuracy: 0.9278 - distance_output_auc_1: 0.9963 - gunshot_output_Precision: 0.9823 - gunshot_output_Recall: 0.9810 - gunshot_output_accuracy: 0.9818 - gunshot_output_auc: 0.9994 - loss: 0.7161 - val_direction_output_Precision: 0.8331 - val_direction_output_Recall: 0.6394 - val_direction_output_accuracy: 0.7402 - val_direction_output_auc_2: 0.9644 - val_distance_output_Precision: 0.9272 - val_distance_output_Recall: 0.8766 - val_distance_output_accuracy: 0.9063 - val_distance_output_auc_1: 0.9930 - val_gunshot_output_Precision: 0.9738 - val_gunshot_output_Recall: 0.9715 - val_gunshot_output_accuracy: 0.9715 - val_gunshot_output_auc: 0.9945 - val_loss: 0.9718\n",
      "Epoch 55/64\n",
      "\u001b[1m62/62\u001b[0m \u001b[32m━━━━━━━━━━━━━━━━━━━━\u001b[0m\u001b[37m\u001b[0m \u001b[1m15s\u001b[0m 249ms/step - direction_output_Precision: 0.8455 - direction_output_Recall: 0.7308 - direction_output_accuracy: 0.7878 - direction_output_auc_2: 0.9762 - distance_output_Precision: 0.9235 - distance_output_Recall: 0.8961 - distance_output_accuracy: 0.9084 - distance_output_auc_1: 0.9944 - gunshot_output_Precision: 0.9813 - gunshot_output_Recall: 0.9805 - gunshot_output_accuracy: 0.9813 - gunshot_output_auc: 0.9991 - loss: 0.7481 - val_direction_output_Precision: 0.8096 - val_direction_output_Recall: 0.6204 - val_direction_output_accuracy: 0.7141 - val_direction_output_auc_2: 0.9572 - val_distance_output_Precision: 0.9174 - val_distance_output_Recall: 0.8695 - val_distance_output_accuracy: 0.8968 - val_distance_output_auc_1: 0.9914 - val_gunshot_output_Precision: 0.9572 - val_gunshot_output_Recall: 0.9549 - val_gunshot_output_accuracy: 0.9549 - val_gunshot_output_auc: 0.9926 - val_loss: 1.0805\n",
      "Epoch 56/64\n",
      "\u001b[1m62/62\u001b[0m \u001b[32m━━━━━━━━━━━━━━━━━━━━\u001b[0m\u001b[37m\u001b[0m \u001b[1m23s\u001b[0m 293ms/step - direction_output_Precision: 0.8424 - direction_output_Recall: 0.7194 - direction_output_accuracy: 0.7781 - direction_output_auc_2: 0.9751 - distance_output_Precision: 0.9120 - distance_output_Recall: 0.8695 - distance_output_accuracy: 0.8832 - distance_output_auc_1: 0.9935 - gunshot_output_Precision: 0.9787 - gunshot_output_Recall: 0.9787 - gunshot_output_accuracy: 0.9787 - gunshot_output_auc: 0.9975 - loss: 0.8108 - val_direction_output_Precision: 0.8217 - val_direction_output_Recall: 0.6560 - val_direction_output_accuracy: 0.7295 - val_direction_output_auc_2: 0.9623 - val_distance_output_Precision: 0.9456 - val_distance_output_Recall: 0.8873 - val_distance_output_accuracy: 0.9229 - val_distance_output_auc_1: 0.9932 - val_gunshot_output_Precision: 0.9786 - val_gunshot_output_Recall: 0.9775 - val_gunshot_output_accuracy: 0.9786 - val_gunshot_output_auc: 0.9960 - val_loss: 0.9245\n",
      "Epoch 57/64\n",
      "\u001b[1m62/62\u001b[0m \u001b[32m━━━━━━━━━━━━━━━━━━━━\u001b[0m\u001b[37m\u001b[0m \u001b[1m19s\u001b[0m 307ms/step - direction_output_Precision: 0.8607 - direction_output_Recall: 0.7391 - direction_output_accuracy: 0.8010 - direction_output_auc_2: 0.9767 - distance_output_Precision: 0.9380 - distance_output_Recall: 0.9129 - distance_output_accuracy: 0.9243 - distance_output_auc_1: 0.9960 - gunshot_output_Precision: 0.9864 - gunshot_output_Recall: 0.9856 - gunshot_output_accuracy: 0.9865 - gunshot_output_auc: 0.9995 - loss: 0.7069 - val_direction_output_Precision: 0.8172 - val_direction_output_Recall: 0.6418 - val_direction_output_accuracy: 0.7355 - val_direction_output_auc_2: 0.9605 - val_distance_output_Precision: 0.9335 - val_distance_output_Recall: 0.8826 - val_distance_output_accuracy: 0.9134 - val_distance_output_auc_1: 0.9922 - val_gunshot_output_Precision: 0.9763 - val_gunshot_output_Recall: 0.9763 - val_gunshot_output_accuracy: 0.9763 - val_gunshot_output_auc: 0.9954 - val_loss: 0.9821\n",
      "Epoch 58/64\n",
      "\u001b[1m62/62\u001b[0m \u001b[32m━━━━━━━━━━━━━━━━━━━━\u001b[0m\u001b[37m\u001b[0m \u001b[1m21s\u001b[0m 333ms/step - direction_output_Precision: 0.8326 - direction_output_Recall: 0.7125 - direction_output_accuracy: 0.7692 - direction_output_auc_2: 0.9741 - distance_output_Precision: 0.9409 - distance_output_Recall: 0.9185 - distance_output_accuracy: 0.9289 - distance_output_auc_1: 0.9962 - gunshot_output_Precision: 0.9908 - gunshot_output_Recall: 0.9905 - gunshot_output_accuracy: 0.9905 - gunshot_output_auc: 0.9996 - loss: 0.7081 - val_direction_output_Precision: 0.8359 - val_direction_output_Recall: 0.6406 - val_direction_output_accuracy: 0.7343 - val_direction_output_auc_2: 0.9631 - val_distance_output_Precision: 0.9328 - val_distance_output_Recall: 0.8897 - val_distance_output_accuracy: 0.9146 - val_distance_output_auc_1: 0.9940 - val_gunshot_output_Precision: 0.9762 - val_gunshot_output_Recall: 0.9739 - val_gunshot_output_accuracy: 0.9739 - val_gunshot_output_auc: 0.9949 - val_loss: 0.9179\n",
      "Epoch 59/64\n",
      "\u001b[1m62/62\u001b[0m \u001b[32m━━━━━━━━━━━━━━━━━━━━\u001b[0m\u001b[37m\u001b[0m \u001b[1m17s\u001b[0m 276ms/step - direction_output_Precision: 0.8367 - direction_output_Recall: 0.7290 - direction_output_accuracy: 0.7755 - direction_output_auc_2: 0.9743 - distance_output_Precision: 0.9399 - distance_output_Recall: 0.9110 - distance_output_accuracy: 0.9268 - distance_output_auc_1: 0.9947 - gunshot_output_Precision: 0.9894 - gunshot_output_Recall: 0.9880 - gunshot_output_accuracy: 0.9880 - gunshot_output_auc: 0.9989 - loss: 0.7243 - val_direction_output_Precision: 0.8234 - val_direction_output_Recall: 0.6524 - val_direction_output_accuracy: 0.7509 - val_direction_output_auc_2: 0.9653 - val_distance_output_Precision: 0.9388 - val_distance_output_Recall: 0.8909 - val_distance_output_accuracy: 0.9170 - val_distance_output_auc_1: 0.9930 - val_gunshot_output_Precision: 0.9786 - val_gunshot_output_Recall: 0.9786 - val_gunshot_output_accuracy: 0.9786 - val_gunshot_output_auc: 0.9957 - val_loss: 0.9097\n",
      "Epoch 60/64\n",
      "\u001b[1m62/62\u001b[0m \u001b[32m━━━━━━━━━━━━━━━━━━━━\u001b[0m\u001b[37m\u001b[0m \u001b[1m21s\u001b[0m 330ms/step - direction_output_Precision: 0.8279 - direction_output_Recall: 0.7190 - direction_output_accuracy: 0.7735 - direction_output_auc_2: 0.9746 - distance_output_Precision: 0.9345 - distance_output_Recall: 0.9054 - distance_output_accuracy: 0.9198 - distance_output_auc_1: 0.9959 - gunshot_output_Precision: 0.9842 - gunshot_output_Recall: 0.9819 - gunshot_output_accuracy: 0.9833 - gunshot_output_auc: 0.9995 - loss: 0.7285 - val_direction_output_Precision: 0.8074 - val_direction_output_Recall: 0.6512 - val_direction_output_accuracy: 0.7236 - val_direction_output_auc_2: 0.9604 - val_distance_output_Precision: 0.9288 - val_distance_output_Recall: 0.8826 - val_distance_output_accuracy: 0.9087 - val_distance_output_auc_1: 0.9899 - val_gunshot_output_Precision: 0.9727 - val_gunshot_output_Recall: 0.9727 - val_gunshot_output_accuracy: 0.9727 - val_gunshot_output_auc: 0.9949 - val_loss: 1.0306\n",
      "Epoch 61/64\n",
      "\u001b[1m62/62\u001b[0m \u001b[32m━━━━━━━━━━━━━━━━━━━━\u001b[0m\u001b[37m\u001b[0m \u001b[1m17s\u001b[0m 269ms/step - direction_output_Precision: 0.8244 - direction_output_Recall: 0.7126 - direction_output_accuracy: 0.7648 - direction_output_auc_2: 0.9731 - distance_output_Precision: 0.9323 - distance_output_Recall: 0.9098 - distance_output_accuracy: 0.9191 - distance_output_auc_1: 0.9961 - gunshot_output_Precision: 0.9805 - gunshot_output_Recall: 0.9788 - gunshot_output_accuracy: 0.9788 - gunshot_output_auc: 0.9987 - loss: 0.7510 - val_direction_output_Precision: 0.8194 - val_direction_output_Recall: 0.6406 - val_direction_output_accuracy: 0.7319 - val_direction_output_auc_2: 0.9625 - val_distance_output_Precision: 0.9341 - val_distance_output_Recall: 0.8909 - val_distance_output_accuracy: 0.9158 - val_distance_output_auc_1: 0.9927 - val_gunshot_output_Precision: 0.9751 - val_gunshot_output_Recall: 0.9751 - val_gunshot_output_accuracy: 0.9751 - val_gunshot_output_auc: 0.9952 - val_loss: 0.9328\n",
      "Epoch 62/64\n",
      "\u001b[1m62/62\u001b[0m \u001b[32m━━━━━━━━━━━━━━━━━━━━\u001b[0m\u001b[37m\u001b[0m \u001b[1m19s\u001b[0m 237ms/step - direction_output_Precision: 0.8508 - direction_output_Recall: 0.7328 - direction_output_accuracy: 0.8020 - direction_output_auc_2: 0.9770 - distance_output_Precision: 0.9352 - distance_output_Recall: 0.9046 - distance_output_accuracy: 0.9155 - distance_output_auc_1: 0.9958 - gunshot_output_Precision: 0.9840 - gunshot_output_Recall: 0.9834 - gunshot_output_accuracy: 0.9835 - gunshot_output_auc: 0.9984 - loss: 0.7229 - val_direction_output_Precision: 0.8151 - val_direction_output_Recall: 0.6536 - val_direction_output_accuracy: 0.7414 - val_direction_output_auc_2: 0.9629 - val_distance_output_Precision: 0.9249 - val_distance_output_Recall: 0.8909 - val_distance_output_accuracy: 0.9098 - val_distance_output_auc_1: 0.9924 - val_gunshot_output_Precision: 0.9691 - val_gunshot_output_Recall: 0.9680 - val_gunshot_output_accuracy: 0.9680 - val_gunshot_output_auc: 0.9951 - val_loss: 0.9839\n",
      "Epoch 63/64\n",
      "\u001b[1m62/62\u001b[0m \u001b[32m━━━━━━━━━━━━━━━━━━━━\u001b[0m\u001b[37m\u001b[0m \u001b[1m16s\u001b[0m 251ms/step - direction_output_Precision: 0.8654 - direction_output_Recall: 0.7444 - direction_output_accuracy: 0.8021 - direction_output_auc_2: 0.9788 - distance_output_Precision: 0.9331 - distance_output_Recall: 0.8986 - distance_output_accuracy: 0.9124 - distance_output_auc_1: 0.9937 - gunshot_output_Precision: 0.9795 - gunshot_output_Recall: 0.9785 - gunshot_output_accuracy: 0.9785 - gunshot_output_auc: 0.9995 - loss: 0.7114 - val_direction_output_Precision: 0.8277 - val_direction_output_Recall: 0.6667 - val_direction_output_accuracy: 0.7450 - val_direction_output_auc_2: 0.9653 - val_distance_output_Precision: 0.9263 - val_distance_output_Recall: 0.8944 - val_distance_output_accuracy: 0.9122 - val_distance_output_auc_1: 0.9924 - val_gunshot_output_Precision: 0.9774 - val_gunshot_output_Recall: 0.9763 - val_gunshot_output_accuracy: 0.9763 - val_gunshot_output_auc: 0.9955 - val_loss: 0.9136\n",
      "Epoch 64/64\n",
      "\u001b[1m62/62\u001b[0m \u001b[32m━━━━━━━━━━━━━━━━━━━━\u001b[0m\u001b[37m\u001b[0m \u001b[1m16s\u001b[0m 250ms/step - direction_output_Precision: 0.8584 - direction_output_Recall: 0.7721 - direction_output_accuracy: 0.8223 - direction_output_auc_2: 0.9812 - distance_output_Precision: 0.9248 - distance_output_Recall: 0.9082 - distance_output_accuracy: 0.9188 - distance_output_auc_1: 0.9952 - gunshot_output_Precision: 0.9803 - gunshot_output_Recall: 0.9800 - gunshot_output_accuracy: 0.9800 - gunshot_output_auc: 0.9994 - loss: 0.6774 - val_direction_output_Precision: 0.8291 - val_direction_output_Recall: 0.6560 - val_direction_output_accuracy: 0.7485 - val_direction_output_auc_2: 0.9664 - val_distance_output_Precision: 0.9326 - val_distance_output_Recall: 0.9027 - val_distance_output_accuracy: 0.9193 - val_distance_output_auc_1: 0.9931 - val_gunshot_output_Precision: 0.9727 - val_gunshot_output_Recall: 0.9715 - val_gunshot_output_accuracy: 0.9715 - val_gunshot_output_auc: 0.9946 - val_loss: 0.9264\n"
     ]
    }
   ],
   "source": [
    "from keras.callbacks import ModelCheckpoint\n",
    "batch_size=32\n",
    "valid_batch_size=32\n",
    "callbacks=[ModelCheckpoint(\"best_model.keras\",monitor='val_loss')]\n",
    "history=model.fit([X_mfcc_train,X_melspec_train],\n",
    "                  {\n",
    "                      'gunshot_output':y_gun_train,\n",
    "                      'direction_output':y_direction_train,\n",
    "                      'distance_output':y_distance_train\n",
    "                  },\n",
    "                  validation_data=([X_mfcc_test,X_melspec_test],\n",
    "                                    {\n",
    "                                        'gunshot_output':y_gun_test,\n",
    "                                        'direction_output':y_direction_test,\n",
    "                                        'distance_output':y_distance_test\n",
    "                                    }),\n",
    "                    epochs=64,batch_size=32,callbacks=[callbacks])\n"
   ]
  },
  {
   "cell_type": "code",
   "execution_count": 19,
   "metadata": {},
   "outputs": [
    {
     "name": "stdout",
     "output_type": "stream",
     "text": [
      "\u001b[1m88/88\u001b[0m \u001b[32m━━━━━━━━━━━━━━━━━━━━\u001b[0m\u001b[37m\u001b[0m \u001b[1m4s\u001b[0m 43ms/step\n"
     ]
    }
   ],
   "source": [
    "features=feature_extractor.predict([X_mfcc,X_melspec])"
   ]
  },
  {
   "cell_type": "code",
   "execution_count": 20,
   "metadata": {},
   "outputs": [
    {
     "data": {
      "text/plain": [
       "array([[0., 0., 0., ..., 0., 0., 0.],\n",
       "       [0., 0., 0., ..., 0., 0., 0.],\n",
       "       [0., 0., 0., ..., 0., 0., 0.],\n",
       "       ...,\n",
       "       [0., 0., 0., ..., 0., 0., 0.],\n",
       "       [0., 0., 0., ..., 0., 0., 0.],\n",
       "       [0., 0., 0., ..., 0., 0., 0.]], dtype=float32)"
      ]
     },
     "execution_count": 20,
     "metadata": {},
     "output_type": "execute_result"
    }
   ],
   "source": [
    "features"
   ]
  },
  {
   "cell_type": "code",
   "execution_count": 21,
   "metadata": {},
   "outputs": [
    {
     "data": {
      "text/plain": [
       "array([[0., 0., 0., ..., 0., 0., 0.],\n",
       "       [0., 0., 0., ..., 0., 0., 0.],\n",
       "       [0., 0., 0., ..., 0., 0., 0.],\n",
       "       ...,\n",
       "       [0., 0., 0., ..., 0., 0., 0.],\n",
       "       [0., 0., 0., ..., 0., 0., 0.],\n",
       "       [0., 0., 0., ..., 0., 0., 0.]], dtype=float32)"
      ]
     },
     "execution_count": 21,
     "metadata": {},
     "output_type": "execute_result"
    }
   ],
   "source": [
    "features"
   ]
  },
  {
   "cell_type": "code",
   "execution_count": 22,
   "metadata": {},
   "outputs": [],
   "source": [
    "# layer_name='concatenated'\n",
    "# intermediate_layer_model=Model(inputs=model.input,outputs=model.get_layer(layer_name).output)\n",
    "# intermediate_layer_model.summary()"
   ]
  },
  {
   "cell_type": "code",
   "execution_count": 23,
   "metadata": {},
   "outputs": [
    {
     "data": {
      "text/plain": [
       "(2807, 128)"
      ]
     },
     "execution_count": 23,
     "metadata": {},
     "output_type": "execute_result"
    }
   ],
   "source": [
    "features.shape"
   ]
  },
  {
   "cell_type": "code",
   "execution_count": 24,
   "metadata": {},
   "outputs": [
    {
     "data": {
      "text/plain": [
       "(2807, 3)"
      ]
     },
     "execution_count": 24,
     "metadata": {},
     "output_type": "execute_result"
    }
   ],
   "source": [
    "y_gun.shape"
   ]
  },
  {
   "cell_type": "code",
   "execution_count": 25,
   "metadata": {},
   "outputs": [],
   "source": [
    "y_combined = np.column_stack((y_gun, y_direction, y_distance))\n",
    "X_train,X_test,y_train_combined,y_test_combined=train_test_split(features,y_combined,test_size=0.3)\n",
    "y_gun_train = y_train_combined[:, 0]\n",
    "y_dir_train = y_train_combined[:, 1]\n",
    "y_dist_train = y_train_combined[:, 2]\n",
    "\n",
    "y_gun_test = y_test_combined[:, 0]\n",
    "y_dir_test = y_test_combined[:, 1]\n",
    "y_dist_test = y_test_combined[:, 2]"
   ]
  },
  {
   "cell_type": "code",
   "execution_count": 26,
   "metadata": {},
   "outputs": [
    {
     "data": {
      "text/html": [
       "<style>#sk-container-id-1 {\n",
       "  /* Definition of color scheme common for light and dark mode */\n",
       "  --sklearn-color-text: black;\n",
       "  --sklearn-color-line: gray;\n",
       "  /* Definition of color scheme for unfitted estimators */\n",
       "  --sklearn-color-unfitted-level-0: #fff5e6;\n",
       "  --sklearn-color-unfitted-level-1: #f6e4d2;\n",
       "  --sklearn-color-unfitted-level-2: #ffe0b3;\n",
       "  --sklearn-color-unfitted-level-3: chocolate;\n",
       "  /* Definition of color scheme for fitted estimators */\n",
       "  --sklearn-color-fitted-level-0: #f0f8ff;\n",
       "  --sklearn-color-fitted-level-1: #d4ebff;\n",
       "  --sklearn-color-fitted-level-2: #b3dbfd;\n",
       "  --sklearn-color-fitted-level-3: cornflowerblue;\n",
       "\n",
       "  /* Specific color for light theme */\n",
       "  --sklearn-color-text-on-default-background: var(--sg-text-color, var(--theme-code-foreground, var(--jp-content-font-color1, black)));\n",
       "  --sklearn-color-background: var(--sg-background-color, var(--theme-background, var(--jp-layout-color0, white)));\n",
       "  --sklearn-color-border-box: var(--sg-text-color, var(--theme-code-foreground, var(--jp-content-font-color1, black)));\n",
       "  --sklearn-color-icon: #696969;\n",
       "\n",
       "  @media (prefers-color-scheme: dark) {\n",
       "    /* Redefinition of color scheme for dark theme */\n",
       "    --sklearn-color-text-on-default-background: var(--sg-text-color, var(--theme-code-foreground, var(--jp-content-font-color1, white)));\n",
       "    --sklearn-color-background: var(--sg-background-color, var(--theme-background, var(--jp-layout-color0, #111)));\n",
       "    --sklearn-color-border-box: var(--sg-text-color, var(--theme-code-foreground, var(--jp-content-font-color1, white)));\n",
       "    --sklearn-color-icon: #878787;\n",
       "  }\n",
       "}\n",
       "\n",
       "#sk-container-id-1 {\n",
       "  color: var(--sklearn-color-text);\n",
       "}\n",
       "\n",
       "#sk-container-id-1 pre {\n",
       "  padding: 0;\n",
       "}\n",
       "\n",
       "#sk-container-id-1 input.sk-hidden--visually {\n",
       "  border: 0;\n",
       "  clip: rect(1px 1px 1px 1px);\n",
       "  clip: rect(1px, 1px, 1px, 1px);\n",
       "  height: 1px;\n",
       "  margin: -1px;\n",
       "  overflow: hidden;\n",
       "  padding: 0;\n",
       "  position: absolute;\n",
       "  width: 1px;\n",
       "}\n",
       "\n",
       "#sk-container-id-1 div.sk-dashed-wrapped {\n",
       "  border: 1px dashed var(--sklearn-color-line);\n",
       "  margin: 0 0.4em 0.5em 0.4em;\n",
       "  box-sizing: border-box;\n",
       "  padding-bottom: 0.4em;\n",
       "  background-color: var(--sklearn-color-background);\n",
       "}\n",
       "\n",
       "#sk-container-id-1 div.sk-container {\n",
       "  /* jupyter's `normalize.less` sets `[hidden] { display: none; }`\n",
       "     but bootstrap.min.css set `[hidden] { display: none !important; }`\n",
       "     so we also need the `!important` here to be able to override the\n",
       "     default hidden behavior on the sphinx rendered scikit-learn.org.\n",
       "     See: https://github.com/scikit-learn/scikit-learn/issues/21755 */\n",
       "  display: inline-block !important;\n",
       "  position: relative;\n",
       "}\n",
       "\n",
       "#sk-container-id-1 div.sk-text-repr-fallback {\n",
       "  display: none;\n",
       "}\n",
       "\n",
       "div.sk-parallel-item,\n",
       "div.sk-serial,\n",
       "div.sk-item {\n",
       "  /* draw centered vertical line to link estimators */\n",
       "  background-image: linear-gradient(var(--sklearn-color-text-on-default-background), var(--sklearn-color-text-on-default-background));\n",
       "  background-size: 2px 100%;\n",
       "  background-repeat: no-repeat;\n",
       "  background-position: center center;\n",
       "}\n",
       "\n",
       "/* Parallel-specific style estimator block */\n",
       "\n",
       "#sk-container-id-1 div.sk-parallel-item::after {\n",
       "  content: \"\";\n",
       "  width: 100%;\n",
       "  border-bottom: 2px solid var(--sklearn-color-text-on-default-background);\n",
       "  flex-grow: 1;\n",
       "}\n",
       "\n",
       "#sk-container-id-1 div.sk-parallel {\n",
       "  display: flex;\n",
       "  align-items: stretch;\n",
       "  justify-content: center;\n",
       "  background-color: var(--sklearn-color-background);\n",
       "  position: relative;\n",
       "}\n",
       "\n",
       "#sk-container-id-1 div.sk-parallel-item {\n",
       "  display: flex;\n",
       "  flex-direction: column;\n",
       "}\n",
       "\n",
       "#sk-container-id-1 div.sk-parallel-item:first-child::after {\n",
       "  align-self: flex-end;\n",
       "  width: 50%;\n",
       "}\n",
       "\n",
       "#sk-container-id-1 div.sk-parallel-item:last-child::after {\n",
       "  align-self: flex-start;\n",
       "  width: 50%;\n",
       "}\n",
       "\n",
       "#sk-container-id-1 div.sk-parallel-item:only-child::after {\n",
       "  width: 0;\n",
       "}\n",
       "\n",
       "/* Serial-specific style estimator block */\n",
       "\n",
       "#sk-container-id-1 div.sk-serial {\n",
       "  display: flex;\n",
       "  flex-direction: column;\n",
       "  align-items: center;\n",
       "  background-color: var(--sklearn-color-background);\n",
       "  padding-right: 1em;\n",
       "  padding-left: 1em;\n",
       "}\n",
       "\n",
       "\n",
       "/* Toggleable style: style used for estimator/Pipeline/ColumnTransformer box that is\n",
       "clickable and can be expanded/collapsed.\n",
       "- Pipeline and ColumnTransformer use this feature and define the default style\n",
       "- Estimators will overwrite some part of the style using the `sk-estimator` class\n",
       "*/\n",
       "\n",
       "/* Pipeline and ColumnTransformer style (default) */\n",
       "\n",
       "#sk-container-id-1 div.sk-toggleable {\n",
       "  /* Default theme specific background. It is overwritten whether we have a\n",
       "  specific estimator or a Pipeline/ColumnTransformer */\n",
       "  background-color: var(--sklearn-color-background);\n",
       "}\n",
       "\n",
       "/* Toggleable label */\n",
       "#sk-container-id-1 label.sk-toggleable__label {\n",
       "  cursor: pointer;\n",
       "  display: block;\n",
       "  width: 100%;\n",
       "  margin-bottom: 0;\n",
       "  padding: 0.5em;\n",
       "  box-sizing: border-box;\n",
       "  text-align: center;\n",
       "}\n",
       "\n",
       "#sk-container-id-1 label.sk-toggleable__label-arrow:before {\n",
       "  /* Arrow on the left of the label */\n",
       "  content: \"▸\";\n",
       "  float: left;\n",
       "  margin-right: 0.25em;\n",
       "  color: var(--sklearn-color-icon);\n",
       "}\n",
       "\n",
       "#sk-container-id-1 label.sk-toggleable__label-arrow:hover:before {\n",
       "  color: var(--sklearn-color-text);\n",
       "}\n",
       "\n",
       "/* Toggleable content - dropdown */\n",
       "\n",
       "#sk-container-id-1 div.sk-toggleable__content {\n",
       "  max-height: 0;\n",
       "  max-width: 0;\n",
       "  overflow: hidden;\n",
       "  text-align: left;\n",
       "  /* unfitted */\n",
       "  background-color: var(--sklearn-color-unfitted-level-0);\n",
       "}\n",
       "\n",
       "#sk-container-id-1 div.sk-toggleable__content.fitted {\n",
       "  /* fitted */\n",
       "  background-color: var(--sklearn-color-fitted-level-0);\n",
       "}\n",
       "\n",
       "#sk-container-id-1 div.sk-toggleable__content pre {\n",
       "  margin: 0.2em;\n",
       "  border-radius: 0.25em;\n",
       "  color: var(--sklearn-color-text);\n",
       "  /* unfitted */\n",
       "  background-color: var(--sklearn-color-unfitted-level-0);\n",
       "}\n",
       "\n",
       "#sk-container-id-1 div.sk-toggleable__content.fitted pre {\n",
       "  /* unfitted */\n",
       "  background-color: var(--sklearn-color-fitted-level-0);\n",
       "}\n",
       "\n",
       "#sk-container-id-1 input.sk-toggleable__control:checked~div.sk-toggleable__content {\n",
       "  /* Expand drop-down */\n",
       "  max-height: 200px;\n",
       "  max-width: 100%;\n",
       "  overflow: auto;\n",
       "}\n",
       "\n",
       "#sk-container-id-1 input.sk-toggleable__control:checked~label.sk-toggleable__label-arrow:before {\n",
       "  content: \"▾\";\n",
       "}\n",
       "\n",
       "/* Pipeline/ColumnTransformer-specific style */\n",
       "\n",
       "#sk-container-id-1 div.sk-label input.sk-toggleable__control:checked~label.sk-toggleable__label {\n",
       "  color: var(--sklearn-color-text);\n",
       "  background-color: var(--sklearn-color-unfitted-level-2);\n",
       "}\n",
       "\n",
       "#sk-container-id-1 div.sk-label.fitted input.sk-toggleable__control:checked~label.sk-toggleable__label {\n",
       "  background-color: var(--sklearn-color-fitted-level-2);\n",
       "}\n",
       "\n",
       "/* Estimator-specific style */\n",
       "\n",
       "/* Colorize estimator box */\n",
       "#sk-container-id-1 div.sk-estimator input.sk-toggleable__control:checked~label.sk-toggleable__label {\n",
       "  /* unfitted */\n",
       "  background-color: var(--sklearn-color-unfitted-level-2);\n",
       "}\n",
       "\n",
       "#sk-container-id-1 div.sk-estimator.fitted input.sk-toggleable__control:checked~label.sk-toggleable__label {\n",
       "  /* fitted */\n",
       "  background-color: var(--sklearn-color-fitted-level-2);\n",
       "}\n",
       "\n",
       "#sk-container-id-1 div.sk-label label.sk-toggleable__label,\n",
       "#sk-container-id-1 div.sk-label label {\n",
       "  /* The background is the default theme color */\n",
       "  color: var(--sklearn-color-text-on-default-background);\n",
       "}\n",
       "\n",
       "/* On hover, darken the color of the background */\n",
       "#sk-container-id-1 div.sk-label:hover label.sk-toggleable__label {\n",
       "  color: var(--sklearn-color-text);\n",
       "  background-color: var(--sklearn-color-unfitted-level-2);\n",
       "}\n",
       "\n",
       "/* Label box, darken color on hover, fitted */\n",
       "#sk-container-id-1 div.sk-label.fitted:hover label.sk-toggleable__label.fitted {\n",
       "  color: var(--sklearn-color-text);\n",
       "  background-color: var(--sklearn-color-fitted-level-2);\n",
       "}\n",
       "\n",
       "/* Estimator label */\n",
       "\n",
       "#sk-container-id-1 div.sk-label label {\n",
       "  font-family: monospace;\n",
       "  font-weight: bold;\n",
       "  display: inline-block;\n",
       "  line-height: 1.2em;\n",
       "}\n",
       "\n",
       "#sk-container-id-1 div.sk-label-container {\n",
       "  text-align: center;\n",
       "}\n",
       "\n",
       "/* Estimator-specific */\n",
       "#sk-container-id-1 div.sk-estimator {\n",
       "  font-family: monospace;\n",
       "  border: 1px dotted var(--sklearn-color-border-box);\n",
       "  border-radius: 0.25em;\n",
       "  box-sizing: border-box;\n",
       "  margin-bottom: 0.5em;\n",
       "  /* unfitted */\n",
       "  background-color: var(--sklearn-color-unfitted-level-0);\n",
       "}\n",
       "\n",
       "#sk-container-id-1 div.sk-estimator.fitted {\n",
       "  /* fitted */\n",
       "  background-color: var(--sklearn-color-fitted-level-0);\n",
       "}\n",
       "\n",
       "/* on hover */\n",
       "#sk-container-id-1 div.sk-estimator:hover {\n",
       "  /* unfitted */\n",
       "  background-color: var(--sklearn-color-unfitted-level-2);\n",
       "}\n",
       "\n",
       "#sk-container-id-1 div.sk-estimator.fitted:hover {\n",
       "  /* fitted */\n",
       "  background-color: var(--sklearn-color-fitted-level-2);\n",
       "}\n",
       "\n",
       "/* Specification for estimator info (e.g. \"i\" and \"?\") */\n",
       "\n",
       "/* Common style for \"i\" and \"?\" */\n",
       "\n",
       ".sk-estimator-doc-link,\n",
       "a:link.sk-estimator-doc-link,\n",
       "a:visited.sk-estimator-doc-link {\n",
       "  float: right;\n",
       "  font-size: smaller;\n",
       "  line-height: 1em;\n",
       "  font-family: monospace;\n",
       "  background-color: var(--sklearn-color-background);\n",
       "  border-radius: 1em;\n",
       "  height: 1em;\n",
       "  width: 1em;\n",
       "  text-decoration: none !important;\n",
       "  margin-left: 1ex;\n",
       "  /* unfitted */\n",
       "  border: var(--sklearn-color-unfitted-level-1) 1pt solid;\n",
       "  color: var(--sklearn-color-unfitted-level-1);\n",
       "}\n",
       "\n",
       ".sk-estimator-doc-link.fitted,\n",
       "a:link.sk-estimator-doc-link.fitted,\n",
       "a:visited.sk-estimator-doc-link.fitted {\n",
       "  /* fitted */\n",
       "  border: var(--sklearn-color-fitted-level-1) 1pt solid;\n",
       "  color: var(--sklearn-color-fitted-level-1);\n",
       "}\n",
       "\n",
       "/* On hover */\n",
       "div.sk-estimator:hover .sk-estimator-doc-link:hover,\n",
       ".sk-estimator-doc-link:hover,\n",
       "div.sk-label-container:hover .sk-estimator-doc-link:hover,\n",
       ".sk-estimator-doc-link:hover {\n",
       "  /* unfitted */\n",
       "  background-color: var(--sklearn-color-unfitted-level-3);\n",
       "  color: var(--sklearn-color-background);\n",
       "  text-decoration: none;\n",
       "}\n",
       "\n",
       "div.sk-estimator.fitted:hover .sk-estimator-doc-link.fitted:hover,\n",
       ".sk-estimator-doc-link.fitted:hover,\n",
       "div.sk-label-container:hover .sk-estimator-doc-link.fitted:hover,\n",
       ".sk-estimator-doc-link.fitted:hover {\n",
       "  /* fitted */\n",
       "  background-color: var(--sklearn-color-fitted-level-3);\n",
       "  color: var(--sklearn-color-background);\n",
       "  text-decoration: none;\n",
       "}\n",
       "\n",
       "/* Span, style for the box shown on hovering the info icon */\n",
       ".sk-estimator-doc-link span {\n",
       "  display: none;\n",
       "  z-index: 9999;\n",
       "  position: relative;\n",
       "  font-weight: normal;\n",
       "  right: .2ex;\n",
       "  padding: .5ex;\n",
       "  margin: .5ex;\n",
       "  width: min-content;\n",
       "  min-width: 20ex;\n",
       "  max-width: 50ex;\n",
       "  color: var(--sklearn-color-text);\n",
       "  box-shadow: 2pt 2pt 4pt #999;\n",
       "  /* unfitted */\n",
       "  background: var(--sklearn-color-unfitted-level-0);\n",
       "  border: .5pt solid var(--sklearn-color-unfitted-level-3);\n",
       "}\n",
       "\n",
       ".sk-estimator-doc-link.fitted span {\n",
       "  /* fitted */\n",
       "  background: var(--sklearn-color-fitted-level-0);\n",
       "  border: var(--sklearn-color-fitted-level-3);\n",
       "}\n",
       "\n",
       ".sk-estimator-doc-link:hover span {\n",
       "  display: block;\n",
       "}\n",
       "\n",
       "/* \"?\"-specific style due to the `<a>` HTML tag */\n",
       "\n",
       "#sk-container-id-1 a.estimator_doc_link {\n",
       "  float: right;\n",
       "  font-size: 1rem;\n",
       "  line-height: 1em;\n",
       "  font-family: monospace;\n",
       "  background-color: var(--sklearn-color-background);\n",
       "  border-radius: 1rem;\n",
       "  height: 1rem;\n",
       "  width: 1rem;\n",
       "  text-decoration: none;\n",
       "  /* unfitted */\n",
       "  color: var(--sklearn-color-unfitted-level-1);\n",
       "  border: var(--sklearn-color-unfitted-level-1) 1pt solid;\n",
       "}\n",
       "\n",
       "#sk-container-id-1 a.estimator_doc_link.fitted {\n",
       "  /* fitted */\n",
       "  border: var(--sklearn-color-fitted-level-1) 1pt solid;\n",
       "  color: var(--sklearn-color-fitted-level-1);\n",
       "}\n",
       "\n",
       "/* On hover */\n",
       "#sk-container-id-1 a.estimator_doc_link:hover {\n",
       "  /* unfitted */\n",
       "  background-color: var(--sklearn-color-unfitted-level-3);\n",
       "  color: var(--sklearn-color-background);\n",
       "  text-decoration: none;\n",
       "}\n",
       "\n",
       "#sk-container-id-1 a.estimator_doc_link.fitted:hover {\n",
       "  /* fitted */\n",
       "  background-color: var(--sklearn-color-fitted-level-3);\n",
       "}\n",
       "</style><div id=\"sk-container-id-1\" class=\"sk-top-container\"><div class=\"sk-text-repr-fallback\"><pre>XGBClassifier(base_score=None, booster=None, callbacks=None,\n",
       "              colsample_bylevel=None, colsample_bynode=None,\n",
       "              colsample_bytree=None, device=None, early_stopping_rounds=None,\n",
       "              enable_categorical=False, eval_metric=None, feature_types=None,\n",
       "              gamma=None, grow_policy=None, importance_type=None,\n",
       "              interaction_constraints=None, learning_rate=None, max_bin=None,\n",
       "              max_cat_threshold=None, max_cat_to_onehot=None,\n",
       "              max_delta_step=None, max_depth=None, max_leaves=None,\n",
       "              min_child_weight=None, missing=nan, monotone_constraints=None,\n",
       "              multi_strategy=None, n_estimators=None, n_jobs=None,\n",
       "              num_parallel_tree=None, random_state=None, ...)</pre><b>In a Jupyter environment, please rerun this cell to show the HTML representation or trust the notebook. <br />On GitHub, the HTML representation is unable to render, please try loading this page with nbviewer.org.</b></div><div class=\"sk-container\" hidden><div class=\"sk-item\"><div class=\"sk-estimator fitted sk-toggleable\"><input class=\"sk-toggleable__control sk-hidden--visually\" id=\"sk-estimator-id-1\" type=\"checkbox\" checked><label for=\"sk-estimator-id-1\" class=\"sk-toggleable__label fitted sk-toggleable__label-arrow fitted\">&nbsp;XGBClassifier<span class=\"sk-estimator-doc-link fitted\">i<span>Fitted</span></span></label><div class=\"sk-toggleable__content fitted\"><pre>XGBClassifier(base_score=None, booster=None, callbacks=None,\n",
       "              colsample_bylevel=None, colsample_bynode=None,\n",
       "              colsample_bytree=None, device=None, early_stopping_rounds=None,\n",
       "              enable_categorical=False, eval_metric=None, feature_types=None,\n",
       "              gamma=None, grow_policy=None, importance_type=None,\n",
       "              interaction_constraints=None, learning_rate=None, max_bin=None,\n",
       "              max_cat_threshold=None, max_cat_to_onehot=None,\n",
       "              max_delta_step=None, max_depth=None, max_leaves=None,\n",
       "              min_child_weight=None, missing=nan, monotone_constraints=None,\n",
       "              multi_strategy=None, n_estimators=None, n_jobs=None,\n",
       "              num_parallel_tree=None, random_state=None, ...)</pre></div> </div></div></div></div>"
      ],
      "text/plain": [
       "XGBClassifier(base_score=None, booster=None, callbacks=None,\n",
       "              colsample_bylevel=None, colsample_bynode=None,\n",
       "              colsample_bytree=None, device=None, early_stopping_rounds=None,\n",
       "              enable_categorical=False, eval_metric=None, feature_types=None,\n",
       "              gamma=None, grow_policy=None, importance_type=None,\n",
       "              interaction_constraints=None, learning_rate=None, max_bin=None,\n",
       "              max_cat_threshold=None, max_cat_to_onehot=None,\n",
       "              max_delta_step=None, max_depth=None, max_leaves=None,\n",
       "              min_child_weight=None, missing=nan, monotone_constraints=None,\n",
       "              multi_strategy=None, n_estimators=None, n_jobs=None,\n",
       "              num_parallel_tree=None, random_state=None, ...)"
      ]
     },
     "execution_count": 26,
     "metadata": {},
     "output_type": "execute_result"
    }
   ],
   "source": [
    "import xgboost as xgb\n",
    "xgb_model_gun=xgb.XGBClassifier()\n",
    "xgb_model_gun.fit(X_train,y_gun_train)\n",
    "xgb_model_direction = xgb.XGBClassifier()\n",
    "xgb_model_direction.fit(X_train, y_dir_train)\n",
    "xgb_model_distance = xgb.XGBClassifier()\n",
    "xgb_model_distance.fit(X_train, y_dist_train)"
   ]
  },
  {
   "cell_type": "code",
   "execution_count": 27,
   "metadata": {},
   "outputs": [],
   "source": [
    "gun_type_pred=xgb_model_gun.predict(X_test)\n",
    "direction_type_pred = xgb_model_direction.predict(X_test)\n",
    "distance_type_pred = xgb_model_distance.predict(X_test)"
   ]
  },
  {
   "cell_type": "code",
   "execution_count": 28,
   "metadata": {},
   "outputs": [
    {
     "name": "stdout",
     "output_type": "stream",
     "text": [
      "Accuracy for gun type classification: 98.70%\n",
      "Accuracy for direction type classification: 98.93%\n",
      "Accuracy for distance type classification: 99.05%\n"
     ]
    }
   ],
   "source": [
    "from sklearn.metrics import accuracy_score\n",
    "\n",
    "# Evaluate accuracy for gun type\n",
    "gun_accuracy = accuracy_score(y_gun_test, gun_type_pred)\n",
    "print(f\"Accuracy for gun type classification: {gun_accuracy * 100:.2f}%\")\n",
    "\n",
    "# Evaluate accuracy for direction type\n",
    "direction_accuracy = accuracy_score(y_dir_test, direction_type_pred)\n",
    "print(f\"Accuracy for direction type classification: {direction_accuracy * 100:.2f}%\")\n",
    "\n",
    "# Evaluate accuracy for distance type\n",
    "distance_accuracy = accuracy_score(y_dist_test, distance_type_pred)\n",
    "print(f\"Accuracy for distance type classification: {distance_accuracy * 100:.2f}%\")\n"
   ]
  },
  {
   "cell_type": "code",
   "execution_count": 29,
   "metadata": {},
   "outputs": [
    {
     "name": "stdout",
     "output_type": "stream",
     "text": [
      "Gun Type Classification Report\n",
      "              precision    recall  f1-score   support\n",
      "\n",
      "         0.0       0.98      1.00      0.99       464\n",
      "         1.0       0.99      0.98      0.99       379\n",
      "\n",
      "    accuracy                           0.99       843\n",
      "   macro avg       0.99      0.99      0.99       843\n",
      "weighted avg       0.99      0.99      0.99       843\n",
      "\n",
      "Direction Type Classification Report\n",
      "              precision    recall  f1-score   support\n",
      "\n",
      "         0.0       1.00      0.99      0.99       530\n",
      "         1.0       0.98      0.99      0.99       313\n",
      "\n",
      "    accuracy                           0.99       843\n",
      "   macro avg       0.99      0.99      0.99       843\n",
      "weighted avg       0.99      0.99      0.99       843\n",
      "\n",
      "Distance Type Classification Report\n",
      "              precision    recall  f1-score   support\n",
      "\n",
      "         0.0       0.99      1.00      0.99       692\n",
      "         1.0       0.99      0.95      0.97       151\n",
      "\n",
      "    accuracy                           0.99       843\n",
      "   macro avg       0.99      0.98      0.98       843\n",
      "weighted avg       0.99      0.99      0.99       843\n",
      "\n"
     ]
    }
   ],
   "source": [
    "from sklearn.metrics import classification_report\n",
    "\n",
    "# Gun type classification report\n",
    "print(\"Gun Type Classification Report\")\n",
    "print(classification_report(y_gun_test, gun_type_pred))\n",
    "\n",
    "# Direction type classification report\n",
    "print(\"Direction Type Classification Report\")\n",
    "print(classification_report(y_dir_test, direction_type_pred))\n",
    "\n",
    "# Distance type classification report\n",
    "print(\"Distance Type Classification Report\")\n",
    "print(classification_report(y_dist_test, distance_type_pred))\n"
   ]
  },
  {
   "cell_type": "code",
   "execution_count": 31,
   "metadata": {},
   "outputs": [
    {
     "data": {
      "application/vnd.plotly.v1+json": {
       "config": {
        "plotlyServerURL": "https://plot.ly"
       },
       "data": [
        {
         "name": "Train",
         "type": "scatter",
         "y": [
          0.5962321758270264,
          0.7688391208648682,
          0.8060081601142883,
          0.8523421883583069,
          0.8665987849235535,
          0.8905295133590698,
          0.8890020251274109,
          0.9017311334609985,
          0.914460301399231,
          0.9154785871505737,
          0.9180244207382202,
          0.931262731552124,
          0.9322810769081116,
          0.9394093751907349,
          0.9485743641853333,
          0.9434826970100403,
          0.9465376734733582,
          0.9480651617050171,
          0.9429734945297241,
          0.9541751742362976,
          0.954684317111969,
          0.9557026624679565,
          0.9613034725189209,
          0.9607942700386047,
          0.9567209482192993,
          0.9623218178749084,
          0.9653767943382263,
          0.9704684615135193,
          0.9628309607505798,
          0.9714867472648621,
          0.9562118053436279,
          0.9714867472648621,
          0.9796333909034729,
          0.9750509262084961,
          0.9694501161575317,
          0.9740325808525085,
          0.976578414440155,
          0.9775967597961426,
          0.9714867472648621,
          0.9602851271629333,
          0.9791242480278015,
          0.9648675918579102,
          0.9786150455474854,
          0.9826883673667908,
          0.9837067127227783,
          0.9791242480278015,
          0.981670081615448,
          0.9831975698471069,
          0.9857434034347534,
          0.9791242480278015,
          0.9811608791351318,
          0.9796333909034729,
          0.9852342009544373,
          0.9821792244911194,
          0.9806517362594604,
          0.9821792244911194,
          0.9826883673667908,
          0.9867616891860962,
          0.9837067127227783,
          0.9831975698471069,
          0.9811608791351318,
          0.978105902671814,
          0.9796333909034729,
          0.981670081615448
         ]
        },
        {
         "name": "Valid",
         "type": "scatter",
         "y": [
          0.5563463568687439,
          0.7769869565963745,
          0.790035605430603,
          0.8185053467750549,
          0.8671411871910095,
          0.9062870740890503,
          0.8861209750175476,
          0.9086595773696899,
          0.9051008224487305,
          0.8778173327445984,
          0.9205219745635986,
          0.8706998825073242,
          0.9335705637931824,
          0.9062870740890503,
          0.8754448294639587,
          0.927639365196228,
          0.9300118684768677,
          0.9110320210456848,
          0.9478054642677307,
          0.9205219745635986,
          0.9145907759666443,
          0.918149471282959,
          0.9418742656707764,
          0.9442467093467712,
          0.8861209750175476,
          0.9300118684768677,
          0.9454329609870911,
          0.9537366628646851,
          0.9572953581809998,
          0.9442467093467712,
          0.935943067073822,
          0.9466192126274109,
          0.9513641595840454,
          0.9513641595840454,
          0.9584816098213196,
          0.9620403051376343,
          0.9679715037345886,
          0.9584816098213196,
          0.9513641595840454,
          0.9762752056121826,
          0.9395017623901367,
          0.9632265567779541,
          0.9584816098213196,
          0.9703440070152283,
          0.9727165102958679,
          0.9691577553749084,
          0.9750889539718628,
          0.9715302586555481,
          0.9762752056121826,
          0.9703440070152283,
          0.9501779079437256,
          0.9727165102958679,
          0.9644128084182739,
          0.9715302586555481,
          0.9549229145050049,
          0.9786477088928223,
          0.9762752056121826,
          0.973902702331543,
          0.9786477088928223,
          0.9727165102958679,
          0.9750889539718628,
          0.9679715037345886,
          0.9762752056121826,
          0.9715302586555481
         ]
        }
       ],
       "layout": {
        "height": 500,
        "template": {
         "data": {
          "bar": [
           {
            "error_x": {
             "color": "#2a3f5f"
            },
            "error_y": {
             "color": "#2a3f5f"
            },
            "marker": {
             "line": {
              "color": "#E5ECF6",
              "width": 0.5
             },
             "pattern": {
              "fillmode": "overlay",
              "size": 10,
              "solidity": 0.2
             }
            },
            "type": "bar"
           }
          ],
          "barpolar": [
           {
            "marker": {
             "line": {
              "color": "#E5ECF6",
              "width": 0.5
             },
             "pattern": {
              "fillmode": "overlay",
              "size": 10,
              "solidity": 0.2
             }
            },
            "type": "barpolar"
           }
          ],
          "carpet": [
           {
            "aaxis": {
             "endlinecolor": "#2a3f5f",
             "gridcolor": "white",
             "linecolor": "white",
             "minorgridcolor": "white",
             "startlinecolor": "#2a3f5f"
            },
            "baxis": {
             "endlinecolor": "#2a3f5f",
             "gridcolor": "white",
             "linecolor": "white",
             "minorgridcolor": "white",
             "startlinecolor": "#2a3f5f"
            },
            "type": "carpet"
           }
          ],
          "choropleth": [
           {
            "colorbar": {
             "outlinewidth": 0,
             "ticks": ""
            },
            "type": "choropleth"
           }
          ],
          "contour": [
           {
            "colorbar": {
             "outlinewidth": 0,
             "ticks": ""
            },
            "colorscale": [
             [
              0,
              "#0d0887"
             ],
             [
              0.1111111111111111,
              "#46039f"
             ],
             [
              0.2222222222222222,
              "#7201a8"
             ],
             [
              0.3333333333333333,
              "#9c179e"
             ],
             [
              0.4444444444444444,
              "#bd3786"
             ],
             [
              0.5555555555555556,
              "#d8576b"
             ],
             [
              0.6666666666666666,
              "#ed7953"
             ],
             [
              0.7777777777777778,
              "#fb9f3a"
             ],
             [
              0.8888888888888888,
              "#fdca26"
             ],
             [
              1,
              "#f0f921"
             ]
            ],
            "type": "contour"
           }
          ],
          "contourcarpet": [
           {
            "colorbar": {
             "outlinewidth": 0,
             "ticks": ""
            },
            "type": "contourcarpet"
           }
          ],
          "heatmap": [
           {
            "colorbar": {
             "outlinewidth": 0,
             "ticks": ""
            },
            "colorscale": [
             [
              0,
              "#0d0887"
             ],
             [
              0.1111111111111111,
              "#46039f"
             ],
             [
              0.2222222222222222,
              "#7201a8"
             ],
             [
              0.3333333333333333,
              "#9c179e"
             ],
             [
              0.4444444444444444,
              "#bd3786"
             ],
             [
              0.5555555555555556,
              "#d8576b"
             ],
             [
              0.6666666666666666,
              "#ed7953"
             ],
             [
              0.7777777777777778,
              "#fb9f3a"
             ],
             [
              0.8888888888888888,
              "#fdca26"
             ],
             [
              1,
              "#f0f921"
             ]
            ],
            "type": "heatmap"
           }
          ],
          "heatmapgl": [
           {
            "colorbar": {
             "outlinewidth": 0,
             "ticks": ""
            },
            "colorscale": [
             [
              0,
              "#0d0887"
             ],
             [
              0.1111111111111111,
              "#46039f"
             ],
             [
              0.2222222222222222,
              "#7201a8"
             ],
             [
              0.3333333333333333,
              "#9c179e"
             ],
             [
              0.4444444444444444,
              "#bd3786"
             ],
             [
              0.5555555555555556,
              "#d8576b"
             ],
             [
              0.6666666666666666,
              "#ed7953"
             ],
             [
              0.7777777777777778,
              "#fb9f3a"
             ],
             [
              0.8888888888888888,
              "#fdca26"
             ],
             [
              1,
              "#f0f921"
             ]
            ],
            "type": "heatmapgl"
           }
          ],
          "histogram": [
           {
            "marker": {
             "pattern": {
              "fillmode": "overlay",
              "size": 10,
              "solidity": 0.2
             }
            },
            "type": "histogram"
           }
          ],
          "histogram2d": [
           {
            "colorbar": {
             "outlinewidth": 0,
             "ticks": ""
            },
            "colorscale": [
             [
              0,
              "#0d0887"
             ],
             [
              0.1111111111111111,
              "#46039f"
             ],
             [
              0.2222222222222222,
              "#7201a8"
             ],
             [
              0.3333333333333333,
              "#9c179e"
             ],
             [
              0.4444444444444444,
              "#bd3786"
             ],
             [
              0.5555555555555556,
              "#d8576b"
             ],
             [
              0.6666666666666666,
              "#ed7953"
             ],
             [
              0.7777777777777778,
              "#fb9f3a"
             ],
             [
              0.8888888888888888,
              "#fdca26"
             ],
             [
              1,
              "#f0f921"
             ]
            ],
            "type": "histogram2d"
           }
          ],
          "histogram2dcontour": [
           {
            "colorbar": {
             "outlinewidth": 0,
             "ticks": ""
            },
            "colorscale": [
             [
              0,
              "#0d0887"
             ],
             [
              0.1111111111111111,
              "#46039f"
             ],
             [
              0.2222222222222222,
              "#7201a8"
             ],
             [
              0.3333333333333333,
              "#9c179e"
             ],
             [
              0.4444444444444444,
              "#bd3786"
             ],
             [
              0.5555555555555556,
              "#d8576b"
             ],
             [
              0.6666666666666666,
              "#ed7953"
             ],
             [
              0.7777777777777778,
              "#fb9f3a"
             ],
             [
              0.8888888888888888,
              "#fdca26"
             ],
             [
              1,
              "#f0f921"
             ]
            ],
            "type": "histogram2dcontour"
           }
          ],
          "mesh3d": [
           {
            "colorbar": {
             "outlinewidth": 0,
             "ticks": ""
            },
            "type": "mesh3d"
           }
          ],
          "parcoords": [
           {
            "line": {
             "colorbar": {
              "outlinewidth": 0,
              "ticks": ""
             }
            },
            "type": "parcoords"
           }
          ],
          "pie": [
           {
            "automargin": true,
            "type": "pie"
           }
          ],
          "scatter": [
           {
            "fillpattern": {
             "fillmode": "overlay",
             "size": 10,
             "solidity": 0.2
            },
            "type": "scatter"
           }
          ],
          "scatter3d": [
           {
            "line": {
             "colorbar": {
              "outlinewidth": 0,
              "ticks": ""
             }
            },
            "marker": {
             "colorbar": {
              "outlinewidth": 0,
              "ticks": ""
             }
            },
            "type": "scatter3d"
           }
          ],
          "scattercarpet": [
           {
            "marker": {
             "colorbar": {
              "outlinewidth": 0,
              "ticks": ""
             }
            },
            "type": "scattercarpet"
           }
          ],
          "scattergeo": [
           {
            "marker": {
             "colorbar": {
              "outlinewidth": 0,
              "ticks": ""
             }
            },
            "type": "scattergeo"
           }
          ],
          "scattergl": [
           {
            "marker": {
             "colorbar": {
              "outlinewidth": 0,
              "ticks": ""
             }
            },
            "type": "scattergl"
           }
          ],
          "scattermapbox": [
           {
            "marker": {
             "colorbar": {
              "outlinewidth": 0,
              "ticks": ""
             }
            },
            "type": "scattermapbox"
           }
          ],
          "scatterpolar": [
           {
            "marker": {
             "colorbar": {
              "outlinewidth": 0,
              "ticks": ""
             }
            },
            "type": "scatterpolar"
           }
          ],
          "scatterpolargl": [
           {
            "marker": {
             "colorbar": {
              "outlinewidth": 0,
              "ticks": ""
             }
            },
            "type": "scatterpolargl"
           }
          ],
          "scatterternary": [
           {
            "marker": {
             "colorbar": {
              "outlinewidth": 0,
              "ticks": ""
             }
            },
            "type": "scatterternary"
           }
          ],
          "surface": [
           {
            "colorbar": {
             "outlinewidth": 0,
             "ticks": ""
            },
            "colorscale": [
             [
              0,
              "#0d0887"
             ],
             [
              0.1111111111111111,
              "#46039f"
             ],
             [
              0.2222222222222222,
              "#7201a8"
             ],
             [
              0.3333333333333333,
              "#9c179e"
             ],
             [
              0.4444444444444444,
              "#bd3786"
             ],
             [
              0.5555555555555556,
              "#d8576b"
             ],
             [
              0.6666666666666666,
              "#ed7953"
             ],
             [
              0.7777777777777778,
              "#fb9f3a"
             ],
             [
              0.8888888888888888,
              "#fdca26"
             ],
             [
              1,
              "#f0f921"
             ]
            ],
            "type": "surface"
           }
          ],
          "table": [
           {
            "cells": {
             "fill": {
              "color": "#EBF0F8"
             },
             "line": {
              "color": "white"
             }
            },
            "header": {
             "fill": {
              "color": "#C8D4E3"
             },
             "line": {
              "color": "white"
             }
            },
            "type": "table"
           }
          ]
         },
         "layout": {
          "annotationdefaults": {
           "arrowcolor": "#2a3f5f",
           "arrowhead": 0,
           "arrowwidth": 1
          },
          "autotypenumbers": "strict",
          "coloraxis": {
           "colorbar": {
            "outlinewidth": 0,
            "ticks": ""
           }
          },
          "colorscale": {
           "diverging": [
            [
             0,
             "#8e0152"
            ],
            [
             0.1,
             "#c51b7d"
            ],
            [
             0.2,
             "#de77ae"
            ],
            [
             0.3,
             "#f1b6da"
            ],
            [
             0.4,
             "#fde0ef"
            ],
            [
             0.5,
             "#f7f7f7"
            ],
            [
             0.6,
             "#e6f5d0"
            ],
            [
             0.7,
             "#b8e186"
            ],
            [
             0.8,
             "#7fbc41"
            ],
            [
             0.9,
             "#4d9221"
            ],
            [
             1,
             "#276419"
            ]
           ],
           "sequential": [
            [
             0,
             "#0d0887"
            ],
            [
             0.1111111111111111,
             "#46039f"
            ],
            [
             0.2222222222222222,
             "#7201a8"
            ],
            [
             0.3333333333333333,
             "#9c179e"
            ],
            [
             0.4444444444444444,
             "#bd3786"
            ],
            [
             0.5555555555555556,
             "#d8576b"
            ],
            [
             0.6666666666666666,
             "#ed7953"
            ],
            [
             0.7777777777777778,
             "#fb9f3a"
            ],
            [
             0.8888888888888888,
             "#fdca26"
            ],
            [
             1,
             "#f0f921"
            ]
           ],
           "sequentialminus": [
            [
             0,
             "#0d0887"
            ],
            [
             0.1111111111111111,
             "#46039f"
            ],
            [
             0.2222222222222222,
             "#7201a8"
            ],
            [
             0.3333333333333333,
             "#9c179e"
            ],
            [
             0.4444444444444444,
             "#bd3786"
            ],
            [
             0.5555555555555556,
             "#d8576b"
            ],
            [
             0.6666666666666666,
             "#ed7953"
            ],
            [
             0.7777777777777778,
             "#fb9f3a"
            ],
            [
             0.8888888888888888,
             "#fdca26"
            ],
            [
             1,
             "#f0f921"
            ]
           ]
          },
          "colorway": [
           "#636efa",
           "#EF553B",
           "#00cc96",
           "#ab63fa",
           "#FFA15A",
           "#19d3f3",
           "#FF6692",
           "#B6E880",
           "#FF97FF",
           "#FECB52"
          ],
          "font": {
           "color": "#2a3f5f"
          },
          "geo": {
           "bgcolor": "white",
           "lakecolor": "white",
           "landcolor": "#E5ECF6",
           "showlakes": true,
           "showland": true,
           "subunitcolor": "white"
          },
          "hoverlabel": {
           "align": "left"
          },
          "hovermode": "closest",
          "mapbox": {
           "style": "light"
          },
          "paper_bgcolor": "white",
          "plot_bgcolor": "#E5ECF6",
          "polar": {
           "angularaxis": {
            "gridcolor": "white",
            "linecolor": "white",
            "ticks": ""
           },
           "bgcolor": "#E5ECF6",
           "radialaxis": {
            "gridcolor": "white",
            "linecolor": "white",
            "ticks": ""
           }
          },
          "scene": {
           "xaxis": {
            "backgroundcolor": "#E5ECF6",
            "gridcolor": "white",
            "gridwidth": 2,
            "linecolor": "white",
            "showbackground": true,
            "ticks": "",
            "zerolinecolor": "white"
           },
           "yaxis": {
            "backgroundcolor": "#E5ECF6",
            "gridcolor": "white",
            "gridwidth": 2,
            "linecolor": "white",
            "showbackground": true,
            "ticks": "",
            "zerolinecolor": "white"
           },
           "zaxis": {
            "backgroundcolor": "#E5ECF6",
            "gridcolor": "white",
            "gridwidth": 2,
            "linecolor": "white",
            "showbackground": true,
            "ticks": "",
            "zerolinecolor": "white"
           }
          },
          "shapedefaults": {
           "line": {
            "color": "#2a3f5f"
           }
          },
          "ternary": {
           "aaxis": {
            "gridcolor": "white",
            "linecolor": "white",
            "ticks": ""
           },
           "baxis": {
            "gridcolor": "white",
            "linecolor": "white",
            "ticks": ""
           },
           "bgcolor": "#E5ECF6",
           "caxis": {
            "gridcolor": "white",
            "linecolor": "white",
            "ticks": ""
           }
          },
          "title": {
           "x": 0.05
          },
          "xaxis": {
           "automargin": true,
           "gridcolor": "white",
           "linecolor": "white",
           "ticks": "",
           "title": {
            "standoff": 15
           },
           "zerolinecolor": "white",
           "zerolinewidth": 2
          },
          "yaxis": {
           "automargin": true,
           "gridcolor": "white",
           "linecolor": "white",
           "ticks": "",
           "title": {
            "standoff": 15
           },
           "zerolinecolor": "white",
           "zerolinewidth": 2
          }
         }
        },
        "title": {
         "text": "Accuracy for gunshot feature"
        },
        "width": 700,
        "xaxis": {
         "title": {
          "text": "Epoch"
         }
        },
        "yaxis": {
         "title": {
          "text": "Accuracy"
         }
        }
       }
      }
     },
     "metadata": {},
     "output_type": "display_data"
    },
    {
     "data": {
      "text/plain": [
       "<Figure size 640x480 with 0 Axes>"
      ]
     },
     "metadata": {},
     "output_type": "display_data"
    }
   ],
   "source": [
    "import plotly.graph_objects as go\n",
    "plt.clf()\n",
    "fig = go.Figure()\n",
    "fig.add_trace(go.Scatter(\n",
    "                    y=history.history['gunshot_output_accuracy'],\n",
    "                    name='Train'))\n",
    "fig.add_trace(go.Scatter(\n",
    "                    y=history.history['val_gunshot_output_accuracy'],\n",
    "                    name='Valid'))\n",
    "fig.update_layout(height=500, \n",
    "                  width=700,\n",
    "                  title='Accuracy for gunshot feature',\n",
    "                  xaxis_title='Epoch',\n",
    "                  yaxis_title='Accuracy')\n",
    "fig.show()"
   ]
  },
  {
   "cell_type": "code",
   "execution_count": 32,
   "metadata": {},
   "outputs": [
    {
     "data": {
      "application/vnd.plotly.v1+json": {
       "config": {
        "plotlyServerURL": "https://plot.ly"
       },
       "data": [
        {
         "name": "Train",
         "type": "scatter",
         "y": [
          0.2978615164756775,
          0.4363543689250946,
          0.4949083626270294,
          0.5264765620231628,
          0.5448065400123596,
          0.5707739591598511,
          0.5702647566795349,
          0.6013238430023193,
          0.6150712966918945,
          0.6191446185112,
          0.6278004050254822,
          0.6466395258903503,
          0.6451120376586914,
          0.6461303234100342,
          0.6690427660942078,
          0.6792260408401489,
          0.6639510989189148,
          0.6726069450378418,
          0.6751527786254883,
          0.6889002323150635,
          0.6955193281173706,
          0.7006109952926636,
          0.7113034725189209,
          0.699592649936676,
          0.7021384835243225,
          0.7291242480278015,
          0.7026476860046387,
          0.7184317708015442,
          0.7169042825698853,
          0.7321792244911194,
          0.7026476860046387,
          0.731670081615448,
          0.7337067127227783,
          0.7438900470733643,
          0.7393075227737427,
          0.7408350110054016,
          0.7275967597961426,
          0.7505091428756714,
          0.7342159152030945,
          0.7347250580787659,
          0.7571282982826233,
          0.7352342009544373,
          0.7556008100509644,
          0.7647657990455627,
          0.7642565965652466,
          0.7622199654579163,
          0.7774949073791504,
          0.7576375007629395,
          0.7825865745544434,
          0.7836048603057861,
          0.7678207755088806,
          0.7810590863227844,
          0.7897148728370667,
          0.7937881946563721,
          0.7912423610687256,
          0.7825865745544434,
          0.7968431711196899,
          0.7876781821250916,
          0.7942973375320435,
          0.7744399309158325,
          0.7785132527351379,
          0.8049898147583008,
          0.8090631365776062,
          0.8090631365776062
         ]
        },
        {
         "name": "Valid",
         "type": "scatter",
         "y": [
          0.37247923016548157,
          0.4353499412536621,
          0.536180317401886,
          0.5195729732513428,
          0.5219454169273376,
          0.5871886014938354,
          0.5682087540626526,
          0.5990509986877441,
          0.618030846118927,
          0.609727144241333,
          0.6512455344200134,
          0.6453143358230591,
          0.6215895414352417,
          0.6204033493995667,
          0.6524317860603333,
          0.6393831372261047,
          0.6524317860603333,
          0.6690391302108765,
          0.6500592827796936,
          0.6595492362976074,
          0.6725978851318359,
          0.6892052292823792,
          0.6939501762390137,
          0.6892052292823792,
          0.7034400701522827,
          0.6868327260017395,
          0.690391480922699,
          0.6939501762390137,
          0.6963226795196533,
          0.6975088715553284,
          0.7141162753105164,
          0.6951364278793335,
          0.7117437720298767,
          0.6892052292823792,
          0.7010676264762878,
          0.7141162753105164,
          0.6963226795196533,
          0.7141162753105164,
          0.7022538781166077,
          0.7034400701522827,
          0.691577672958374,
          0.7105575203895569,
          0.7129300236701965,
          0.7224199175834656,
          0.7069988250732422,
          0.7034400701522827,
          0.7141162753105164,
          0.7153024673461914,
          0.7319098711013794,
          0.7378410696983337,
          0.7022538781166077,
          0.7129300236701965,
          0.7105575203895569,
          0.7402135133743286,
          0.7141162753105164,
          0.7295373678207397,
          0.7354685664176941,
          0.7342823147773743,
          0.7508896589279175,
          0.7236061692237854,
          0.7319098711013794,
          0.7413997650146484,
          0.7449584603309631,
          0.7485172152519226
         ]
        }
       ],
       "layout": {
        "height": 500,
        "template": {
         "data": {
          "bar": [
           {
            "error_x": {
             "color": "#2a3f5f"
            },
            "error_y": {
             "color": "#2a3f5f"
            },
            "marker": {
             "line": {
              "color": "#E5ECF6",
              "width": 0.5
             },
             "pattern": {
              "fillmode": "overlay",
              "size": 10,
              "solidity": 0.2
             }
            },
            "type": "bar"
           }
          ],
          "barpolar": [
           {
            "marker": {
             "line": {
              "color": "#E5ECF6",
              "width": 0.5
             },
             "pattern": {
              "fillmode": "overlay",
              "size": 10,
              "solidity": 0.2
             }
            },
            "type": "barpolar"
           }
          ],
          "carpet": [
           {
            "aaxis": {
             "endlinecolor": "#2a3f5f",
             "gridcolor": "white",
             "linecolor": "white",
             "minorgridcolor": "white",
             "startlinecolor": "#2a3f5f"
            },
            "baxis": {
             "endlinecolor": "#2a3f5f",
             "gridcolor": "white",
             "linecolor": "white",
             "minorgridcolor": "white",
             "startlinecolor": "#2a3f5f"
            },
            "type": "carpet"
           }
          ],
          "choropleth": [
           {
            "colorbar": {
             "outlinewidth": 0,
             "ticks": ""
            },
            "type": "choropleth"
           }
          ],
          "contour": [
           {
            "colorbar": {
             "outlinewidth": 0,
             "ticks": ""
            },
            "colorscale": [
             [
              0,
              "#0d0887"
             ],
             [
              0.1111111111111111,
              "#46039f"
             ],
             [
              0.2222222222222222,
              "#7201a8"
             ],
             [
              0.3333333333333333,
              "#9c179e"
             ],
             [
              0.4444444444444444,
              "#bd3786"
             ],
             [
              0.5555555555555556,
              "#d8576b"
             ],
             [
              0.6666666666666666,
              "#ed7953"
             ],
             [
              0.7777777777777778,
              "#fb9f3a"
             ],
             [
              0.8888888888888888,
              "#fdca26"
             ],
             [
              1,
              "#f0f921"
             ]
            ],
            "type": "contour"
           }
          ],
          "contourcarpet": [
           {
            "colorbar": {
             "outlinewidth": 0,
             "ticks": ""
            },
            "type": "contourcarpet"
           }
          ],
          "heatmap": [
           {
            "colorbar": {
             "outlinewidth": 0,
             "ticks": ""
            },
            "colorscale": [
             [
              0,
              "#0d0887"
             ],
             [
              0.1111111111111111,
              "#46039f"
             ],
             [
              0.2222222222222222,
              "#7201a8"
             ],
             [
              0.3333333333333333,
              "#9c179e"
             ],
             [
              0.4444444444444444,
              "#bd3786"
             ],
             [
              0.5555555555555556,
              "#d8576b"
             ],
             [
              0.6666666666666666,
              "#ed7953"
             ],
             [
              0.7777777777777778,
              "#fb9f3a"
             ],
             [
              0.8888888888888888,
              "#fdca26"
             ],
             [
              1,
              "#f0f921"
             ]
            ],
            "type": "heatmap"
           }
          ],
          "heatmapgl": [
           {
            "colorbar": {
             "outlinewidth": 0,
             "ticks": ""
            },
            "colorscale": [
             [
              0,
              "#0d0887"
             ],
             [
              0.1111111111111111,
              "#46039f"
             ],
             [
              0.2222222222222222,
              "#7201a8"
             ],
             [
              0.3333333333333333,
              "#9c179e"
             ],
             [
              0.4444444444444444,
              "#bd3786"
             ],
             [
              0.5555555555555556,
              "#d8576b"
             ],
             [
              0.6666666666666666,
              "#ed7953"
             ],
             [
              0.7777777777777778,
              "#fb9f3a"
             ],
             [
              0.8888888888888888,
              "#fdca26"
             ],
             [
              1,
              "#f0f921"
             ]
            ],
            "type": "heatmapgl"
           }
          ],
          "histogram": [
           {
            "marker": {
             "pattern": {
              "fillmode": "overlay",
              "size": 10,
              "solidity": 0.2
             }
            },
            "type": "histogram"
           }
          ],
          "histogram2d": [
           {
            "colorbar": {
             "outlinewidth": 0,
             "ticks": ""
            },
            "colorscale": [
             [
              0,
              "#0d0887"
             ],
             [
              0.1111111111111111,
              "#46039f"
             ],
             [
              0.2222222222222222,
              "#7201a8"
             ],
             [
              0.3333333333333333,
              "#9c179e"
             ],
             [
              0.4444444444444444,
              "#bd3786"
             ],
             [
              0.5555555555555556,
              "#d8576b"
             ],
             [
              0.6666666666666666,
              "#ed7953"
             ],
             [
              0.7777777777777778,
              "#fb9f3a"
             ],
             [
              0.8888888888888888,
              "#fdca26"
             ],
             [
              1,
              "#f0f921"
             ]
            ],
            "type": "histogram2d"
           }
          ],
          "histogram2dcontour": [
           {
            "colorbar": {
             "outlinewidth": 0,
             "ticks": ""
            },
            "colorscale": [
             [
              0,
              "#0d0887"
             ],
             [
              0.1111111111111111,
              "#46039f"
             ],
             [
              0.2222222222222222,
              "#7201a8"
             ],
             [
              0.3333333333333333,
              "#9c179e"
             ],
             [
              0.4444444444444444,
              "#bd3786"
             ],
             [
              0.5555555555555556,
              "#d8576b"
             ],
             [
              0.6666666666666666,
              "#ed7953"
             ],
             [
              0.7777777777777778,
              "#fb9f3a"
             ],
             [
              0.8888888888888888,
              "#fdca26"
             ],
             [
              1,
              "#f0f921"
             ]
            ],
            "type": "histogram2dcontour"
           }
          ],
          "mesh3d": [
           {
            "colorbar": {
             "outlinewidth": 0,
             "ticks": ""
            },
            "type": "mesh3d"
           }
          ],
          "parcoords": [
           {
            "line": {
             "colorbar": {
              "outlinewidth": 0,
              "ticks": ""
             }
            },
            "type": "parcoords"
           }
          ],
          "pie": [
           {
            "automargin": true,
            "type": "pie"
           }
          ],
          "scatter": [
           {
            "fillpattern": {
             "fillmode": "overlay",
             "size": 10,
             "solidity": 0.2
            },
            "type": "scatter"
           }
          ],
          "scatter3d": [
           {
            "line": {
             "colorbar": {
              "outlinewidth": 0,
              "ticks": ""
             }
            },
            "marker": {
             "colorbar": {
              "outlinewidth": 0,
              "ticks": ""
             }
            },
            "type": "scatter3d"
           }
          ],
          "scattercarpet": [
           {
            "marker": {
             "colorbar": {
              "outlinewidth": 0,
              "ticks": ""
             }
            },
            "type": "scattercarpet"
           }
          ],
          "scattergeo": [
           {
            "marker": {
             "colorbar": {
              "outlinewidth": 0,
              "ticks": ""
             }
            },
            "type": "scattergeo"
           }
          ],
          "scattergl": [
           {
            "marker": {
             "colorbar": {
              "outlinewidth": 0,
              "ticks": ""
             }
            },
            "type": "scattergl"
           }
          ],
          "scattermapbox": [
           {
            "marker": {
             "colorbar": {
              "outlinewidth": 0,
              "ticks": ""
             }
            },
            "type": "scattermapbox"
           }
          ],
          "scatterpolar": [
           {
            "marker": {
             "colorbar": {
              "outlinewidth": 0,
              "ticks": ""
             }
            },
            "type": "scatterpolar"
           }
          ],
          "scatterpolargl": [
           {
            "marker": {
             "colorbar": {
              "outlinewidth": 0,
              "ticks": ""
             }
            },
            "type": "scatterpolargl"
           }
          ],
          "scatterternary": [
           {
            "marker": {
             "colorbar": {
              "outlinewidth": 0,
              "ticks": ""
             }
            },
            "type": "scatterternary"
           }
          ],
          "surface": [
           {
            "colorbar": {
             "outlinewidth": 0,
             "ticks": ""
            },
            "colorscale": [
             [
              0,
              "#0d0887"
             ],
             [
              0.1111111111111111,
              "#46039f"
             ],
             [
              0.2222222222222222,
              "#7201a8"
             ],
             [
              0.3333333333333333,
              "#9c179e"
             ],
             [
              0.4444444444444444,
              "#bd3786"
             ],
             [
              0.5555555555555556,
              "#d8576b"
             ],
             [
              0.6666666666666666,
              "#ed7953"
             ],
             [
              0.7777777777777778,
              "#fb9f3a"
             ],
             [
              0.8888888888888888,
              "#fdca26"
             ],
             [
              1,
              "#f0f921"
             ]
            ],
            "type": "surface"
           }
          ],
          "table": [
           {
            "cells": {
             "fill": {
              "color": "#EBF0F8"
             },
             "line": {
              "color": "white"
             }
            },
            "header": {
             "fill": {
              "color": "#C8D4E3"
             },
             "line": {
              "color": "white"
             }
            },
            "type": "table"
           }
          ]
         },
         "layout": {
          "annotationdefaults": {
           "arrowcolor": "#2a3f5f",
           "arrowhead": 0,
           "arrowwidth": 1
          },
          "autotypenumbers": "strict",
          "coloraxis": {
           "colorbar": {
            "outlinewidth": 0,
            "ticks": ""
           }
          },
          "colorscale": {
           "diverging": [
            [
             0,
             "#8e0152"
            ],
            [
             0.1,
             "#c51b7d"
            ],
            [
             0.2,
             "#de77ae"
            ],
            [
             0.3,
             "#f1b6da"
            ],
            [
             0.4,
             "#fde0ef"
            ],
            [
             0.5,
             "#f7f7f7"
            ],
            [
             0.6,
             "#e6f5d0"
            ],
            [
             0.7,
             "#b8e186"
            ],
            [
             0.8,
             "#7fbc41"
            ],
            [
             0.9,
             "#4d9221"
            ],
            [
             1,
             "#276419"
            ]
           ],
           "sequential": [
            [
             0,
             "#0d0887"
            ],
            [
             0.1111111111111111,
             "#46039f"
            ],
            [
             0.2222222222222222,
             "#7201a8"
            ],
            [
             0.3333333333333333,
             "#9c179e"
            ],
            [
             0.4444444444444444,
             "#bd3786"
            ],
            [
             0.5555555555555556,
             "#d8576b"
            ],
            [
             0.6666666666666666,
             "#ed7953"
            ],
            [
             0.7777777777777778,
             "#fb9f3a"
            ],
            [
             0.8888888888888888,
             "#fdca26"
            ],
            [
             1,
             "#f0f921"
            ]
           ],
           "sequentialminus": [
            [
             0,
             "#0d0887"
            ],
            [
             0.1111111111111111,
             "#46039f"
            ],
            [
             0.2222222222222222,
             "#7201a8"
            ],
            [
             0.3333333333333333,
             "#9c179e"
            ],
            [
             0.4444444444444444,
             "#bd3786"
            ],
            [
             0.5555555555555556,
             "#d8576b"
            ],
            [
             0.6666666666666666,
             "#ed7953"
            ],
            [
             0.7777777777777778,
             "#fb9f3a"
            ],
            [
             0.8888888888888888,
             "#fdca26"
            ],
            [
             1,
             "#f0f921"
            ]
           ]
          },
          "colorway": [
           "#636efa",
           "#EF553B",
           "#00cc96",
           "#ab63fa",
           "#FFA15A",
           "#19d3f3",
           "#FF6692",
           "#B6E880",
           "#FF97FF",
           "#FECB52"
          ],
          "font": {
           "color": "#2a3f5f"
          },
          "geo": {
           "bgcolor": "white",
           "lakecolor": "white",
           "landcolor": "#E5ECF6",
           "showlakes": true,
           "showland": true,
           "subunitcolor": "white"
          },
          "hoverlabel": {
           "align": "left"
          },
          "hovermode": "closest",
          "mapbox": {
           "style": "light"
          },
          "paper_bgcolor": "white",
          "plot_bgcolor": "#E5ECF6",
          "polar": {
           "angularaxis": {
            "gridcolor": "white",
            "linecolor": "white",
            "ticks": ""
           },
           "bgcolor": "#E5ECF6",
           "radialaxis": {
            "gridcolor": "white",
            "linecolor": "white",
            "ticks": ""
           }
          },
          "scene": {
           "xaxis": {
            "backgroundcolor": "#E5ECF6",
            "gridcolor": "white",
            "gridwidth": 2,
            "linecolor": "white",
            "showbackground": true,
            "ticks": "",
            "zerolinecolor": "white"
           },
           "yaxis": {
            "backgroundcolor": "#E5ECF6",
            "gridcolor": "white",
            "gridwidth": 2,
            "linecolor": "white",
            "showbackground": true,
            "ticks": "",
            "zerolinecolor": "white"
           },
           "zaxis": {
            "backgroundcolor": "#E5ECF6",
            "gridcolor": "white",
            "gridwidth": 2,
            "linecolor": "white",
            "showbackground": true,
            "ticks": "",
            "zerolinecolor": "white"
           }
          },
          "shapedefaults": {
           "line": {
            "color": "#2a3f5f"
           }
          },
          "ternary": {
           "aaxis": {
            "gridcolor": "white",
            "linecolor": "white",
            "ticks": ""
           },
           "baxis": {
            "gridcolor": "white",
            "linecolor": "white",
            "ticks": ""
           },
           "bgcolor": "#E5ECF6",
           "caxis": {
            "gridcolor": "white",
            "linecolor": "white",
            "ticks": ""
           }
          },
          "title": {
           "x": 0.05
          },
          "xaxis": {
           "automargin": true,
           "gridcolor": "white",
           "linecolor": "white",
           "ticks": "",
           "title": {
            "standoff": 15
           },
           "zerolinecolor": "white",
           "zerolinewidth": 2
          },
          "yaxis": {
           "automargin": true,
           "gridcolor": "white",
           "linecolor": "white",
           "ticks": "",
           "title": {
            "standoff": 15
           },
           "zerolinecolor": "white",
           "zerolinewidth": 2
          }
         }
        },
        "title": {
         "text": "Accuracy for direction feature"
        },
        "width": 700,
        "xaxis": {
         "title": {
          "text": "Epoch"
         }
        },
        "yaxis": {
         "title": {
          "text": "Accuracy"
         }
        }
       }
      }
     },
     "metadata": {},
     "output_type": "display_data"
    },
    {
     "data": {
      "text/plain": [
       "<Figure size 640x480 with 0 Axes>"
      ]
     },
     "metadata": {},
     "output_type": "display_data"
    }
   ],
   "source": [
    "plt.clf()\n",
    "fig = go.Figure()\n",
    "fig.add_trace(go.Scatter(\n",
    "                    y=history.history['direction_output_accuracy'],\n",
    "                    name='Train'))\n",
    "fig.add_trace(go.Scatter(\n",
    "                    y=history.history['val_direction_output_accuracy'],\n",
    "                    name='Valid'))\n",
    "fig.update_layout(height=500, \n",
    "                  width=700,\n",
    "                  title='Accuracy for direction feature',\n",
    "                  xaxis_title='Epoch',\n",
    "                  yaxis_title='Accuracy')\n",
    "fig.show()"
   ]
  },
  {
   "cell_type": "code",
   "execution_count": 33,
   "metadata": {},
   "outputs": [
    {
     "data": {
      "application/vnd.plotly.v1+json": {
       "config": {
        "plotlyServerURL": "https://plot.ly"
       },
       "data": [
        {
         "name": "Train",
         "type": "scatter",
         "y": [
          0.27393075823783875,
          0.4607942998409271,
          0.5249490737915039,
          0.6013238430023193,
          0.6344195604324341,
          0.6705702543258667,
          0.6843177080154419,
          0.7113034725189209,
          0.7158859372138977,
          0.7438900470733643,
          0.7423624992370605,
          0.7586557865142822,
          0.7637474536895752,
          0.7922607064247131,
          0.7932790517807007,
          0.7968431711196899,
          0.8110997676849365,
          0.7871690392494202,
          0.8029531836509705,
          0.8121181130409241,
          0.8273930549621582,
          0.8304480910301208,
          0.8431771993637085,
          0.8528513312339783,
          0.8391038775444031,
          0.8462321758270264,
          0.8426679968833923,
          0.8508146405220032,
          0.8538696765899658,
          0.8599796295166016,
          0.8564154505729675,
          0.864052951335907,
          0.8737270832061768,
          0.8732179403305054,
          0.8762729167938232,
          0.8757637739181519,
          0.8996945023536682,
          0.889511227607727,
          0.887474536895752,
          0.860488772392273,
          0.8935845494270325,
          0.8747454285621643,
          0.8925662040710449,
          0.8925662040710449,
          0.8940936923027039,
          0.9022403359413147,
          0.9012219905853271,
          0.905804455280304,
          0.912932813167572,
          0.9154785871505737,
          0.9154785871505737,
          0.9134419560432434,
          0.9195519089698792,
          0.9241344332695007,
          0.9068228006362915,
          0.9052953124046326,
          0.9251527786254883,
          0.9302443861961365,
          0.926171064376831,
          0.9210794568061829,
          0.914460301399231,
          0.9287168979644775,
          0.9271894097328186,
          0.9282077550888062
         ]
        },
        {
         "name": "Valid",
         "type": "scatter",
         "y": [
          0.3285883665084839,
          0.5492289662361145,
          0.5622775554656982,
          0.6405693888664246,
          0.6370106935501099,
          0.673784077167511,
          0.7129300236701965,
          0.7330960631370544,
          0.7449584603309631,
          0.7508896589279175,
          0.77224200963974,
          0.7568208575248718,
          0.781731903553009,
          0.7674970626831055,
          0.7935943007469177,
          0.7971529960632324,
          0.7841044068336487,
          0.790035605430603,
          0.8220640420913696,
          0.8268089890480042,
          0.8137603998184204,
          0.8149465918540955,
          0.7888493537902832,
          0.8374851942062378,
          0.7947805523872375,
          0.8493475914001465,
          0.8185053467750549,
          0.8481613397598267,
          0.8588374853134155,
          0.8339264392852783,
          0.8374851942062378,
          0.8671411871910095,
          0.8552787899971008,
          0.854092538356781,
          0.8517200350761414,
          0.8801897764205933,
          0.8790035843849182,
          0.8778173327445984,
          0.845788836479187,
          0.8884934782981873,
          0.8659549355506897,
          0.8766310811042786,
          0.871886134147644,
          0.8861209750175476,
          0.8884934782981873,
          0.8884934782981873,
          0.9051008224487305,
          0.9039145708084106,
          0.9039145708084106,
          0.8956109285354614,
          0.8967971801757812,
          0.9157769680023193,
          0.9217081665992737,
          0.9062870740890503,
          0.8967971801757812,
          0.9228944182395935,
          0.9134045243263245,
          0.9145907759666443,
          0.9169632196426392,
          0.9086595773696899,
          0.9157769680023193,
          0.909845769405365,
          0.9122182726860046,
          0.9193357229232788
         ]
        }
       ],
       "layout": {
        "height": 500,
        "template": {
         "data": {
          "bar": [
           {
            "error_x": {
             "color": "#2a3f5f"
            },
            "error_y": {
             "color": "#2a3f5f"
            },
            "marker": {
             "line": {
              "color": "#E5ECF6",
              "width": 0.5
             },
             "pattern": {
              "fillmode": "overlay",
              "size": 10,
              "solidity": 0.2
             }
            },
            "type": "bar"
           }
          ],
          "barpolar": [
           {
            "marker": {
             "line": {
              "color": "#E5ECF6",
              "width": 0.5
             },
             "pattern": {
              "fillmode": "overlay",
              "size": 10,
              "solidity": 0.2
             }
            },
            "type": "barpolar"
           }
          ],
          "carpet": [
           {
            "aaxis": {
             "endlinecolor": "#2a3f5f",
             "gridcolor": "white",
             "linecolor": "white",
             "minorgridcolor": "white",
             "startlinecolor": "#2a3f5f"
            },
            "baxis": {
             "endlinecolor": "#2a3f5f",
             "gridcolor": "white",
             "linecolor": "white",
             "minorgridcolor": "white",
             "startlinecolor": "#2a3f5f"
            },
            "type": "carpet"
           }
          ],
          "choropleth": [
           {
            "colorbar": {
             "outlinewidth": 0,
             "ticks": ""
            },
            "type": "choropleth"
           }
          ],
          "contour": [
           {
            "colorbar": {
             "outlinewidth": 0,
             "ticks": ""
            },
            "colorscale": [
             [
              0,
              "#0d0887"
             ],
             [
              0.1111111111111111,
              "#46039f"
             ],
             [
              0.2222222222222222,
              "#7201a8"
             ],
             [
              0.3333333333333333,
              "#9c179e"
             ],
             [
              0.4444444444444444,
              "#bd3786"
             ],
             [
              0.5555555555555556,
              "#d8576b"
             ],
             [
              0.6666666666666666,
              "#ed7953"
             ],
             [
              0.7777777777777778,
              "#fb9f3a"
             ],
             [
              0.8888888888888888,
              "#fdca26"
             ],
             [
              1,
              "#f0f921"
             ]
            ],
            "type": "contour"
           }
          ],
          "contourcarpet": [
           {
            "colorbar": {
             "outlinewidth": 0,
             "ticks": ""
            },
            "type": "contourcarpet"
           }
          ],
          "heatmap": [
           {
            "colorbar": {
             "outlinewidth": 0,
             "ticks": ""
            },
            "colorscale": [
             [
              0,
              "#0d0887"
             ],
             [
              0.1111111111111111,
              "#46039f"
             ],
             [
              0.2222222222222222,
              "#7201a8"
             ],
             [
              0.3333333333333333,
              "#9c179e"
             ],
             [
              0.4444444444444444,
              "#bd3786"
             ],
             [
              0.5555555555555556,
              "#d8576b"
             ],
             [
              0.6666666666666666,
              "#ed7953"
             ],
             [
              0.7777777777777778,
              "#fb9f3a"
             ],
             [
              0.8888888888888888,
              "#fdca26"
             ],
             [
              1,
              "#f0f921"
             ]
            ],
            "type": "heatmap"
           }
          ],
          "heatmapgl": [
           {
            "colorbar": {
             "outlinewidth": 0,
             "ticks": ""
            },
            "colorscale": [
             [
              0,
              "#0d0887"
             ],
             [
              0.1111111111111111,
              "#46039f"
             ],
             [
              0.2222222222222222,
              "#7201a8"
             ],
             [
              0.3333333333333333,
              "#9c179e"
             ],
             [
              0.4444444444444444,
              "#bd3786"
             ],
             [
              0.5555555555555556,
              "#d8576b"
             ],
             [
              0.6666666666666666,
              "#ed7953"
             ],
             [
              0.7777777777777778,
              "#fb9f3a"
             ],
             [
              0.8888888888888888,
              "#fdca26"
             ],
             [
              1,
              "#f0f921"
             ]
            ],
            "type": "heatmapgl"
           }
          ],
          "histogram": [
           {
            "marker": {
             "pattern": {
              "fillmode": "overlay",
              "size": 10,
              "solidity": 0.2
             }
            },
            "type": "histogram"
           }
          ],
          "histogram2d": [
           {
            "colorbar": {
             "outlinewidth": 0,
             "ticks": ""
            },
            "colorscale": [
             [
              0,
              "#0d0887"
             ],
             [
              0.1111111111111111,
              "#46039f"
             ],
             [
              0.2222222222222222,
              "#7201a8"
             ],
             [
              0.3333333333333333,
              "#9c179e"
             ],
             [
              0.4444444444444444,
              "#bd3786"
             ],
             [
              0.5555555555555556,
              "#d8576b"
             ],
             [
              0.6666666666666666,
              "#ed7953"
             ],
             [
              0.7777777777777778,
              "#fb9f3a"
             ],
             [
              0.8888888888888888,
              "#fdca26"
             ],
             [
              1,
              "#f0f921"
             ]
            ],
            "type": "histogram2d"
           }
          ],
          "histogram2dcontour": [
           {
            "colorbar": {
             "outlinewidth": 0,
             "ticks": ""
            },
            "colorscale": [
             [
              0,
              "#0d0887"
             ],
             [
              0.1111111111111111,
              "#46039f"
             ],
             [
              0.2222222222222222,
              "#7201a8"
             ],
             [
              0.3333333333333333,
              "#9c179e"
             ],
             [
              0.4444444444444444,
              "#bd3786"
             ],
             [
              0.5555555555555556,
              "#d8576b"
             ],
             [
              0.6666666666666666,
              "#ed7953"
             ],
             [
              0.7777777777777778,
              "#fb9f3a"
             ],
             [
              0.8888888888888888,
              "#fdca26"
             ],
             [
              1,
              "#f0f921"
             ]
            ],
            "type": "histogram2dcontour"
           }
          ],
          "mesh3d": [
           {
            "colorbar": {
             "outlinewidth": 0,
             "ticks": ""
            },
            "type": "mesh3d"
           }
          ],
          "parcoords": [
           {
            "line": {
             "colorbar": {
              "outlinewidth": 0,
              "ticks": ""
             }
            },
            "type": "parcoords"
           }
          ],
          "pie": [
           {
            "automargin": true,
            "type": "pie"
           }
          ],
          "scatter": [
           {
            "fillpattern": {
             "fillmode": "overlay",
             "size": 10,
             "solidity": 0.2
            },
            "type": "scatter"
           }
          ],
          "scatter3d": [
           {
            "line": {
             "colorbar": {
              "outlinewidth": 0,
              "ticks": ""
             }
            },
            "marker": {
             "colorbar": {
              "outlinewidth": 0,
              "ticks": ""
             }
            },
            "type": "scatter3d"
           }
          ],
          "scattercarpet": [
           {
            "marker": {
             "colorbar": {
              "outlinewidth": 0,
              "ticks": ""
             }
            },
            "type": "scattercarpet"
           }
          ],
          "scattergeo": [
           {
            "marker": {
             "colorbar": {
              "outlinewidth": 0,
              "ticks": ""
             }
            },
            "type": "scattergeo"
           }
          ],
          "scattergl": [
           {
            "marker": {
             "colorbar": {
              "outlinewidth": 0,
              "ticks": ""
             }
            },
            "type": "scattergl"
           }
          ],
          "scattermapbox": [
           {
            "marker": {
             "colorbar": {
              "outlinewidth": 0,
              "ticks": ""
             }
            },
            "type": "scattermapbox"
           }
          ],
          "scatterpolar": [
           {
            "marker": {
             "colorbar": {
              "outlinewidth": 0,
              "ticks": ""
             }
            },
            "type": "scatterpolar"
           }
          ],
          "scatterpolargl": [
           {
            "marker": {
             "colorbar": {
              "outlinewidth": 0,
              "ticks": ""
             }
            },
            "type": "scatterpolargl"
           }
          ],
          "scatterternary": [
           {
            "marker": {
             "colorbar": {
              "outlinewidth": 0,
              "ticks": ""
             }
            },
            "type": "scatterternary"
           }
          ],
          "surface": [
           {
            "colorbar": {
             "outlinewidth": 0,
             "ticks": ""
            },
            "colorscale": [
             [
              0,
              "#0d0887"
             ],
             [
              0.1111111111111111,
              "#46039f"
             ],
             [
              0.2222222222222222,
              "#7201a8"
             ],
             [
              0.3333333333333333,
              "#9c179e"
             ],
             [
              0.4444444444444444,
              "#bd3786"
             ],
             [
              0.5555555555555556,
              "#d8576b"
             ],
             [
              0.6666666666666666,
              "#ed7953"
             ],
             [
              0.7777777777777778,
              "#fb9f3a"
             ],
             [
              0.8888888888888888,
              "#fdca26"
             ],
             [
              1,
              "#f0f921"
             ]
            ],
            "type": "surface"
           }
          ],
          "table": [
           {
            "cells": {
             "fill": {
              "color": "#EBF0F8"
             },
             "line": {
              "color": "white"
             }
            },
            "header": {
             "fill": {
              "color": "#C8D4E3"
             },
             "line": {
              "color": "white"
             }
            },
            "type": "table"
           }
          ]
         },
         "layout": {
          "annotationdefaults": {
           "arrowcolor": "#2a3f5f",
           "arrowhead": 0,
           "arrowwidth": 1
          },
          "autotypenumbers": "strict",
          "coloraxis": {
           "colorbar": {
            "outlinewidth": 0,
            "ticks": ""
           }
          },
          "colorscale": {
           "diverging": [
            [
             0,
             "#8e0152"
            ],
            [
             0.1,
             "#c51b7d"
            ],
            [
             0.2,
             "#de77ae"
            ],
            [
             0.3,
             "#f1b6da"
            ],
            [
             0.4,
             "#fde0ef"
            ],
            [
             0.5,
             "#f7f7f7"
            ],
            [
             0.6,
             "#e6f5d0"
            ],
            [
             0.7,
             "#b8e186"
            ],
            [
             0.8,
             "#7fbc41"
            ],
            [
             0.9,
             "#4d9221"
            ],
            [
             1,
             "#276419"
            ]
           ],
           "sequential": [
            [
             0,
             "#0d0887"
            ],
            [
             0.1111111111111111,
             "#46039f"
            ],
            [
             0.2222222222222222,
             "#7201a8"
            ],
            [
             0.3333333333333333,
             "#9c179e"
            ],
            [
             0.4444444444444444,
             "#bd3786"
            ],
            [
             0.5555555555555556,
             "#d8576b"
            ],
            [
             0.6666666666666666,
             "#ed7953"
            ],
            [
             0.7777777777777778,
             "#fb9f3a"
            ],
            [
             0.8888888888888888,
             "#fdca26"
            ],
            [
             1,
             "#f0f921"
            ]
           ],
           "sequentialminus": [
            [
             0,
             "#0d0887"
            ],
            [
             0.1111111111111111,
             "#46039f"
            ],
            [
             0.2222222222222222,
             "#7201a8"
            ],
            [
             0.3333333333333333,
             "#9c179e"
            ],
            [
             0.4444444444444444,
             "#bd3786"
            ],
            [
             0.5555555555555556,
             "#d8576b"
            ],
            [
             0.6666666666666666,
             "#ed7953"
            ],
            [
             0.7777777777777778,
             "#fb9f3a"
            ],
            [
             0.8888888888888888,
             "#fdca26"
            ],
            [
             1,
             "#f0f921"
            ]
           ]
          },
          "colorway": [
           "#636efa",
           "#EF553B",
           "#00cc96",
           "#ab63fa",
           "#FFA15A",
           "#19d3f3",
           "#FF6692",
           "#B6E880",
           "#FF97FF",
           "#FECB52"
          ],
          "font": {
           "color": "#2a3f5f"
          },
          "geo": {
           "bgcolor": "white",
           "lakecolor": "white",
           "landcolor": "#E5ECF6",
           "showlakes": true,
           "showland": true,
           "subunitcolor": "white"
          },
          "hoverlabel": {
           "align": "left"
          },
          "hovermode": "closest",
          "mapbox": {
           "style": "light"
          },
          "paper_bgcolor": "white",
          "plot_bgcolor": "#E5ECF6",
          "polar": {
           "angularaxis": {
            "gridcolor": "white",
            "linecolor": "white",
            "ticks": ""
           },
           "bgcolor": "#E5ECF6",
           "radialaxis": {
            "gridcolor": "white",
            "linecolor": "white",
            "ticks": ""
           }
          },
          "scene": {
           "xaxis": {
            "backgroundcolor": "#E5ECF6",
            "gridcolor": "white",
            "gridwidth": 2,
            "linecolor": "white",
            "showbackground": true,
            "ticks": "",
            "zerolinecolor": "white"
           },
           "yaxis": {
            "backgroundcolor": "#E5ECF6",
            "gridcolor": "white",
            "gridwidth": 2,
            "linecolor": "white",
            "showbackground": true,
            "ticks": "",
            "zerolinecolor": "white"
           },
           "zaxis": {
            "backgroundcolor": "#E5ECF6",
            "gridcolor": "white",
            "gridwidth": 2,
            "linecolor": "white",
            "showbackground": true,
            "ticks": "",
            "zerolinecolor": "white"
           }
          },
          "shapedefaults": {
           "line": {
            "color": "#2a3f5f"
           }
          },
          "ternary": {
           "aaxis": {
            "gridcolor": "white",
            "linecolor": "white",
            "ticks": ""
           },
           "baxis": {
            "gridcolor": "white",
            "linecolor": "white",
            "ticks": ""
           },
           "bgcolor": "#E5ECF6",
           "caxis": {
            "gridcolor": "white",
            "linecolor": "white",
            "ticks": ""
           }
          },
          "title": {
           "x": 0.05
          },
          "xaxis": {
           "automargin": true,
           "gridcolor": "white",
           "linecolor": "white",
           "ticks": "",
           "title": {
            "standoff": 15
           },
           "zerolinecolor": "white",
           "zerolinewidth": 2
          },
          "yaxis": {
           "automargin": true,
           "gridcolor": "white",
           "linecolor": "white",
           "ticks": "",
           "title": {
            "standoff": 15
           },
           "zerolinecolor": "white",
           "zerolinewidth": 2
          }
         }
        },
        "title": {
         "text": "Accuracy for distance feature"
        },
        "width": 700,
        "xaxis": {
         "title": {
          "text": "Epoch"
         }
        },
        "yaxis": {
         "title": {
          "text": "Accuracy"
         }
        }
       }
      }
     },
     "metadata": {},
     "output_type": "display_data"
    },
    {
     "data": {
      "text/plain": [
       "<Figure size 640x480 with 0 Axes>"
      ]
     },
     "metadata": {},
     "output_type": "display_data"
    }
   ],
   "source": [
    "plt.clf()\n",
    "fig = go.Figure()\n",
    "fig.add_trace(go.Scatter(\n",
    "                    y=history.history['distance_output_accuracy'],\n",
    "                    name='Train'))\n",
    "fig.add_trace(go.Scatter(\n",
    "                    y=history.history['val_distance_output_accuracy'],\n",
    "                    name='Valid'))\n",
    "fig.update_layout(height=500, \n",
    "                  width=700,\n",
    "                  title='Accuracy for distance feature',\n",
    "                  xaxis_title='Epoch',\n",
    "                  yaxis_title='Accuracy')\n",
    "fig.show()"
   ]
  },
  {
   "cell_type": "code",
   "execution_count": 34,
   "metadata": {},
   "outputs": [],
   "source": [
    "# checkpoint=tf.keras.callbacks.ModelCheckpoint('best_model.keras',monitor='val_gunshot_output_accuracy',save_best_only=True,mode='max')\n",
    "# history=model.fit([X_mfcc_train,X_melspec_train],\n",
    "#                   {\n",
    "#                       'gunshot_output':y_gun_train,\n",
    "#                       'direction_output':y_direction_train,\n",
    "#                       'distance_output':y_distance_train\n",
    "#                   },\n",
    "#                   validation_data=([X_mfcc_val,X_melspec_val],\n",
    "#                                     {\n",
    "#                                         'gunshot_output':y_gun_val,\n",
    "#                                         'direction_output':y_direction_val,\n",
    "#                                         'distance_output':y_distance_val\n",
    "#                                     }),\n",
    "#                     epochs=30,batch_size=32,callbacks=[checkpoint])\n",
    "# model = create_model(input_shape_mfcc, input_shape_melspec)\n",
    "# model=tf.keras.models.load_model('best_model.keras')\n",
    "# model.load_weights('best_model.keras')\n",
    "# results=model.evaluate([X_mfcc_test,X_melspec_test],{\n",
    "#                                         'gunshot_output':y_gun_test,\n",
    "#                                         'direction_output':y_direction_test,\n",
    "#                                         'distance_output':y_distance_test\n",
    "#                                     })\n",
    "# test_loss=results[0]\n",
    "# test_gun_accuracy=results[1]\n",
    "# test_direction_accuracy=results[2]\n",
    "# test_distance_accuracy=results[3]\n",
    "\n",
    "# # print(f'Test Accuracy:{test_accuracy*100:.2f}%')\n",
    "# # print(f'Test Loss:{test_loss*100:.2f}%')"
   ]
  },
  {
   "cell_type": "code",
   "execution_count": null,
   "metadata": {},
   "outputs": [],
   "source": []
  }
 ],
 "metadata": {
  "kernelspec": {
   "display_name": "Python 3",
   "language": "python",
   "name": "python3"
  },
  "language_info": {
   "codemirror_mode": {
    "name": "ipython",
    "version": 3
   },
   "file_extension": ".py",
   "mimetype": "text/x-python",
   "name": "python",
   "nbconvert_exporter": "python",
   "pygments_lexer": "ipython3",
   "version": "3.12.4"
  }
 },
 "nbformat": 4,
 "nbformat_minor": 2
}
